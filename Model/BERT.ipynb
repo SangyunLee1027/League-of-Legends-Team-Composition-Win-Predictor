{
 "cells": [
  {
   "cell_type": "code",
   "execution_count": 34,
   "metadata": {},
   "outputs": [],
   "source": [
    "import os\n",
    "from pathlib import Path\n",
    "import torch\n",
    "import re\n",
    "import random\n",
    "import tqdm\n",
    "from torch.utils.data import Dataset, DataLoader\n",
    "import itertools\n",
    "import math\n",
    "import torch.nn.functional as F\n",
    "import numpy as np\n",
    "from torch.optim import Adam"
   ]
  },
  {
   "cell_type": "code",
   "execution_count": 391,
   "metadata": {},
   "outputs": [],
   "source": [
    "class BERTDataset_For_League(Dataset):\n",
    "    def __init__(self, data_pair, seq_len=13):\n",
    "        \n",
    "        self.seq_len = seq_len\n",
    "        self.corpus_lines = len(data_pair)\n",
    "        self.lines = data_pair\n",
    "\n",
    "    def __len__(self):\n",
    "        return self.corpus_lines\n",
    "\n",
    "    def __getitem__(self, item):\n",
    "\n",
    "        # Step 1: get random sentence pair, either negative or positive (saved as is_next_label)\n",
    "        t1, t2, winner_label = self.get_sent(item)\n",
    "\n",
    "        # Step 2: replace random words in sentence with mask / random words\n",
    "        t1_random, t1_label = self.masking_word(t1)\n",
    "        t2_random, t2_label = self.masking_word(t2)\n",
    "\n",
    "        # Step 3: Adding CLS(1) and SEP(2) tokens to the start and end of sentences (Don't need padding since all input have the same size)\n",
    "        t1 = [1] + t1_random + [2]\n",
    "        t2 = t2_random + [2]\n",
    "        \n",
    "        # Step 4: combine sentence 1 and 2 as one input\n",
    "        segment_label = ([1 for _ in range(len(t1))] + [2 for _ in range(len(t2))])[:self.seq_len]\n",
    "        bert_input = (t1 + t2)[:self.seq_len]\n",
    "        bert_label = ([1] + t1_label + [2] + t2_label + [2])[:self.seq_len]\n",
    "        \n",
    "        output = {\"bert_input\": bert_input,\n",
    "                  \"bert_label\": bert_label,\n",
    "                  \"segment_label\": segment_label,\n",
    "                  \"winner_label\": winner_label}\n",
    "\n",
    "        return {key: torch.tensor(value) for key, value in output.items()}\n",
    "\n",
    "    def masking_word(self, sentence):\n",
    "        tokens = sentence\n",
    "        output_label = []\n",
    "        output = []\n",
    "\n",
    "        # 15% of the tokens would be replaced\n",
    "        for i, token in enumerate(tokens):\n",
    "            prob = random.random()\n",
    "            token_id = [int(token)]\n",
    "            \n",
    "            if prob < 0.15:\n",
    "                prob /= 0.15\n",
    "\n",
    "                # 80% chance change token to mask(3) token\n",
    "                if prob < 0.8:\n",
    "                    for i in range(len(token_id)):\n",
    "                        output.append(3)\n",
    "\n",
    "                # 20% chance change token to current token\n",
    "                else:\n",
    "                    output.append(token_id)\n",
    "\n",
    "                output_label.append(token_id)\n",
    "\n",
    "            else:\n",
    "                output.append(token_id)\n",
    "                for i in range(len(token_id)):\n",
    "                    output_label.append(0)\n",
    "\n",
    "        # flattening\n",
    "        output = list(itertools.chain(*[[x] if not isinstance(x, list) else x for x in output]))\n",
    "        output_label = list(itertools.chain(*[[x] if not isinstance(x, list) else x for x in output_label]))\n",
    "        assert len(output) == len(output_label)\n",
    "        return output, output_label\n",
    "\n",
    "    def get_sent(self, index):\n",
    "        '''return random sentence pair'''\n",
    "        t1, t2, label = self.get_corpus_line(index)\n",
    "        return t1, t2, label\n",
    "\n",
    "    def get_corpus_line(self, item):\n",
    "        '''return sentence pair'''\n",
    "        return self.lines[item][0], self.lines[item][1], self.lines[item][2]\n",
    "\n",
    "    # def get_random_line(self):\n",
    "    #     '''return random single sentence'''\n",
    "    #     return self.lines[random.randrange(len(self.lines))][1]"
   ]
  },
  {
   "cell_type": "code",
   "execution_count": 392,
   "metadata": {},
   "outputs": [],
   "source": [
    "class PositionalEmbedding(torch.nn.Module):\n",
    "    \n",
    "    def __init__(self, d_model, max_len=128):\n",
    "        super().__init__()\n",
    "\n",
    "        # Compute the positional encodings once in log space.\n",
    "        pe = torch.zeros(max_len, d_model).float()\n",
    "        pe.require_grad = False\n",
    "\n",
    "        for pos in range(max_len):   \n",
    "            # for each dimension of the each position\n",
    "            for i in range(0, d_model, 2):   \n",
    "                pe[pos, i] = math.sin(pos / (10000 ** ((2 * i)/d_model)))\n",
    "                pe[pos, i + 1] = math.cos(pos / (10000 ** ((2 * (i + 1))/d_model)))\n",
    "\n",
    "        # include the batch size\n",
    "        self.pe = pe.unsqueeze(0)   \n",
    "        # self.register_buffer('pe', pe)\n",
    "\n",
    "    def forward(self, x):\n",
    "        return self.pe\n",
    "\n",
    "class BERTEmbedding(torch.nn.Module):\n",
    "    \"\"\"\n",
    "    BERT Embedding which is consisted with under features\n",
    "        1. TokenEmbedding : normal embedding matrix\n",
    "        2. PositionalEmbedding : adding positional information using sin, cos\n",
    "        2. SegmentEmbedding : adding sentence segment info, (sent_A:1, sent_B:2)\n",
    "        sum of all these features are output of BERTEmbedding\n",
    "    \"\"\"\n",
    "\n",
    "    def __init__(self, vocab_size, embed_size, seq_len=13, dropout=0.1):\n",
    "        \"\"\"\n",
    "        :param vocab_size: total vocab size\n",
    "        :param embed_size: embedding size of token embedding\n",
    "        :param dropout: dropout rate\n",
    "        \"\"\"\n",
    "\n",
    "        super().__init__()\n",
    "        self.embed_size = embed_size\n",
    "        # (m, seq_len) --> (m, seq_len, embed_size)\n",
    "        # padding_idx is not updated during training, remains as fixed pad (0)\n",
    "        self.token = torch.nn.Embedding(vocab_size, embed_size, padding_idx=0)\n",
    "        self.segment = torch.nn.Embedding(3, embed_size, padding_idx=0)\n",
    "        self.position = PositionalEmbedding(d_model=embed_size, max_len=seq_len)\n",
    "        self.dropout = torch.nn.Dropout(p=dropout)\n",
    "       \n",
    "    def forward(self, sequence, segment_label):\n",
    "        x = self.token(sequence) + self.position(sequence) + self.segment(segment_label)\n",
    "        return self.dropout(x)"
   ]
  },
  {
   "cell_type": "code",
   "execution_count": 393,
   "metadata": {},
   "outputs": [],
   "source": [
    "from torch.nn import MultiheadAttention\n",
    "\n",
    "\n",
    "class FeedForward(torch.nn.Module):\n",
    "    \"Implements FFN equation.\"\n",
    "\n",
    "    def __init__(self, d_model, middle_dim=2048, dropout=0.1):\n",
    "        super(FeedForward, self).__init__()\n",
    "        \n",
    "        self.fc1 = torch.nn.Linear(d_model, middle_dim)\n",
    "        self.fc2 = torch.nn.Linear(middle_dim, d_model)\n",
    "        self.dropout = torch.nn.Dropout(dropout)\n",
    "        self.activation = torch.nn.GELU()\n",
    "\n",
    "    def forward(self, x):\n",
    "        out = self.activation(self.fc1(x))\n",
    "        out = self.fc2(self.dropout(out))\n",
    "        return out\n",
    "\n",
    "class EncoderLayer(torch.nn.Module):\n",
    "    def __init__(\n",
    "        self, \n",
    "        d_model=768,\n",
    "        heads=12, \n",
    "        feed_forward_hidden=768 * 4, \n",
    "        dropout=0.1\n",
    "        ):\n",
    "        super(EncoderLayer, self).__init__()\n",
    "        self.layernorm = torch.nn.LayerNorm(d_model)\n",
    "        self.self_multihead = MultiheadAttention(d_model, heads, batch_first=True)\n",
    "        self.feed_forward = FeedForward(d_model, middle_dim= d_model *4)\n",
    "        self.dropout = torch.nn.Dropout(dropout)\n",
    "\n",
    "    def forward(self, embeddings, mask = None):\n",
    "        # embeddings: (batch_size, max_len, d_model)\n",
    "        # encoder mask: (batch_size, 1, 1, max_len)\n",
    "        # result: (batch_size, max_len, d_model)\n",
    "        attention_res = self.self_multihead(embeddings, embeddings, embeddings, mask)\n",
    "       \n",
    "\n",
    "        interacted = self.dropout(attention_res[0])\n",
    "        # residual layer\n",
    "        interacted = self.layernorm(interacted + embeddings)\n",
    "        # bottleneck\n",
    "        feed_forward_out = self.dropout(self.feed_forward(interacted))\n",
    "        encoded = self.layernorm(feed_forward_out + interacted)\n",
    "        return encoded"
   ]
  },
  {
   "cell_type": "code",
   "execution_count": 394,
   "metadata": {},
   "outputs": [],
   "source": [
    "class BERT(torch.nn.Module):\n",
    "    def __init__(self, vocab_size, d_model = 768, n_layers = 12, heads = 12, dropout = 0.1):\n",
    "        \"\"\"\n",
    "        :param vocab_size: vocab_size of total words\n",
    "        :param hidden: BERT model hidden size (d_model * n)\n",
    "        :param n_layers: numbers of Transformer blocks (Encoder layers)\n",
    "        :param attn_heads: number of attention heads\n",
    "        dropout: dropout rate\n",
    "        \"\"\"\n",
    "\n",
    "        super().__init__()\n",
    "        self.d_model = d_model\n",
    "        self.n_layers = n_layers\n",
    "        self.heads = heads\n",
    "        \n",
    "        self.feed_forward_hidden = d_model * 4\n",
    "\n",
    "        self.embedding = BERTEmbedding(vocab_size = vocab_size, embed_size = d_model, seq_len = 13)\n",
    "\n",
    "        self.encoder_blocks = torch.nn.ModuleList([\n",
    "            EncoderLayer(d_model, heads, d_model * 4, dropout) for _ in range(n_layers)\n",
    "        ])\n",
    "\n",
    "    def forward(self, x, segment_info):\n",
    "        # mask = (x > 0).unsqueeze(1).repeat(1, x.size(1), 1).unsqueeze(1)\n",
    "        mask = (x == 0)\n",
    "        # print(type(x==0))\n",
    "\n",
    "        x = self.embedding(x, segment_info)\n",
    "        for encoder in self.encoder_blocks:\n",
    "            x = encoder.forward(x, mask)\n",
    "        return x\n",
    "    \n",
    "class WinnerPrediction(torch.nn.Module):\n",
    "    def __init__(self, hidden):\n",
    "        super().__init__()\n",
    "        self.linear = torch.nn.Linear(hidden, 2)\n",
    "        self.softmax = torch.nn.LogSoftmax(dim = -1)\n",
    "    \n",
    "    def forward(self, x):\n",
    "        return self.softmax(self.linear(x[:, 0]))\n",
    "\n",
    "class MaskedLanguageModel(torch.nn.Module):\n",
    "    def __init__(self, hidden, vocab_size):\n",
    "        super().__init__()\n",
    "        self.linear = torch.nn.Linear(hidden, vocab_size)\n",
    "        self.softmax = torch.nn.LogSoftmax(dim = - 1)\n",
    "    \n",
    "    def forward(self, x):\n",
    "        return self.softmax(self.linear(x))\n",
    "    \n",
    "class BERTLM(torch.nn.Module):\n",
    "    def __init__(self, bert: BERT, vocab_size):\n",
    "        super().__init__()\n",
    "        self.bert = bert\n",
    "        self.predict_winner = WinnerPrediction(self.bert.d_model)\n",
    "        self.mask_lm = MaskedLanguageModel(self.bert.d_model, vocab_size)\n",
    "    \n",
    "    def forward(self, x, segment_label):\n",
    "        x = self.bert(x, segment_label)\n",
    "        return self.predict_winner(x), self.mask_lm(x)\n"
   ]
  },
  {
   "cell_type": "code",
   "execution_count": 395,
   "metadata": {},
   "outputs": [],
   "source": [
    "class ScheduledOptim():\n",
    "    def __init__(self, optimizer, d_model, n_warmup_steps):\n",
    "        self.optimizer = optimizer\n",
    "        self.n_warmup_steps = n_warmup_steps\n",
    "        self.n_current_steps = 0\n",
    "        self.init_lr = np.power(d_model, -0.5)\n",
    "\n",
    "    def step_and_update_lr(self):\n",
    "        self.update_learning_rate()\n",
    "        self.optimizer.step()\n",
    "    \n",
    "    def zero_grad(self):\n",
    "        self.optimizer.zero_grad()\n",
    "\n",
    "    def get_lr_scale(self):\n",
    "        return np.min([\n",
    "            np.power(self.n_current_steps, -0.5),\n",
    "            np.power(self.n_warmup_steps, -1.5) * self.n_current_steps\n",
    "            ])\n",
    "\n",
    "    def update_learning_rate(self):\n",
    "        self.n_current_steps += 1\n",
    "        lr = self.init_lr * self.get_lr_scale()\n",
    "\n",
    "        for param_group in self.optimizer.param_groups:\n",
    "            param_group['lr'] = lr\n",
    "\n",
    "            "
   ]
  },
  {
   "cell_type": "code",
   "execution_count": 407,
   "metadata": {},
   "outputs": [],
   "source": [
    "class BERTTrainer:\n",
    "    def __init__(\n",
    "        self, \n",
    "        model, \n",
    "        train_dataloader, \n",
    "        test_dataloader=None, \n",
    "        lr= 1e-4,\n",
    "        weight_decay=0.01,\n",
    "        betas=(0.9, 0.999),\n",
    "        warmup_steps=10000,\n",
    "        log_freq=10,\n",
    "        device='cuda'\n",
    "        ):\n",
    "\n",
    "        self.device = device\n",
    "        self.model = model\n",
    "        self.train_data = train_dataloader\n",
    "        self.test_data = test_dataloader\n",
    "\n",
    "        # Setting the Adam optimizer with hyper-param\n",
    "        self.optim = Adam(self.model.parameters(), lr=lr, betas=betas, weight_decay=weight_decay)\n",
    "        self.optim_schedule = ScheduledOptim(\n",
    "            self.optim, self.model.bert.d_model, n_warmup_steps=warmup_steps\n",
    "            )\n",
    "\n",
    "        # Using Negative Log Likelihood Loss function for predicting the masked_token\n",
    "        self.criterion = torch.nn.NLLLoss(ignore_index=0)\n",
    "        self.log_freq = log_freq\n",
    "        print(\"Total Parameters:\", sum([p.nelement() for p in self.model.parameters()]))\n",
    "    \n",
    "    def train(self, epoch):\n",
    "        self.iteration(epoch, self.train_data)\n",
    "\n",
    "    def test(self, epoch):\n",
    "        self.iteration(epoch, self.test_data, train=False)\n",
    "\n",
    "    def iteration(self, epoch, data_loader, train=True):\n",
    "        \n",
    "        avg_loss = 0.0\n",
    "        total_correct = 0\n",
    "        total_element = 0\n",
    "        \n",
    "        mode = \"train\" if train else \"test\"\n",
    "\n",
    "        # progress bar\n",
    "        data_iter = tqdm.tqdm(\n",
    "            enumerate(data_loader),\n",
    "            desc=\"EP_%s:%d\" % (mode, epoch),\n",
    "            total=len(data_loader),\n",
    "            bar_format=\"{l_bar}{r_bar}\"\n",
    "        )\n",
    "\n",
    "        for i, data in data_iter:\n",
    "\n",
    "            # 0. batch_data will be sent into the device(GPU or cpu)\n",
    "            data = {key: value.to(self.device) for key, value in data.items()}\n",
    "\n",
    "            # 1. forward the next_sentence_prediction and masked_lm model\n",
    "            next_sent_output, mask_lm_output = self.model.forward(data[\"bert_input\"], data[\"segment_label\"])\n",
    "\n",
    "            # 2-1. NLL(negative log likelihood) loss of is_next classification result\n",
    "            next_loss = self.criterion(next_sent_output, data[\"winner_label\"])\n",
    "\n",
    "            # 2-2. NLLLoss of predicting masked token word\n",
    "            # transpose to (m, vocab_size, seq_len) vs (m, seq_len)\n",
    "            # criterion(mask_lm_output.view(-1, mask_lm_output.size(-1)), data[\"bert_label\"].view(-1))\n",
    "            mask_loss = self.criterion(mask_lm_output.transpose(1, 2), data[\"bert_label\"])\n",
    "\n",
    "            # 2-3. Adding next_loss and mask_loss : 3.4 Pre-training Procedure\n",
    "            loss = next_loss + mask_loss\n",
    "\n",
    "            # 3. backward and optimization only in train\n",
    "            if train:\n",
    "                self.optim_schedule.zero_grad()\n",
    "                loss.backward()\n",
    "                self.optim_schedule.step_and_update_lr()\n",
    "\n",
    "            # next sentence prediction accuracy\n",
    "            correct = next_sent_output.argmax(dim=-1).eq(data[\"winner_label\"]).sum().item()\n",
    "            avg_loss += loss.item()\n",
    "            total_correct += correct\n",
    "            total_element += data[\"winner_label\"].nelement()\n",
    "\n",
    "            post_fix = {\n",
    "                \"epoch\": epoch,\n",
    "                \"iter\": i,\n",
    "                \"avg_loss\": avg_loss / (i + 1),\n",
    "                \"avg_acc\": total_correct / total_element * 100,\n",
    "                \"loss\": loss.item()\n",
    "            }\n",
    "\n",
    "            if i % self.log_freq == 0:\n",
    "                data_iter.write(str(post_fix))\n",
    "        print(\n",
    "            f\"EP{epoch}, {mode}: \\\n",
    "            avg_loss={avg_loss / len(data_iter)}, \\\n",
    "            total_acc={total_correct * 100.0 / total_element}\"\n",
    "        ) \n"
   ]
  },
  {
   "cell_type": "code",
   "execution_count": 408,
   "metadata": {},
   "outputs": [],
   "source": [
    "# import pandas as pd\n",
    "# import ast\n",
    "\n",
    "\n",
    "# df = pd.read_csv(\"../Data/match_data_2.csv\")\n",
    "# df[\"teams\"] = df[\"teams\"].apply(lambda x : ast.literal_eval(x))\n",
    "\n",
    "\n",
    "# champ_idx = {}\n",
    "# with open(\"champ_idx.txt\", 'r') as file:\n",
    "#     for line in file:\n",
    "#         pair = ast.literal_eval(line)\n",
    "#         champ_idx.update({pair[0]: pair[1]})\n",
    "\n",
    "\n",
    "\n",
    "# for i in range(len(df[\"teams\"])):\n",
    "#     for j in range(len(df[\"teams\"][i])):\n",
    "#         df[\"teams\"][i][j] = champ_idx[df[\"teams\"][i][j]]\n",
    "\n",
    "\n",
    "# train_datas = [[df[\"teams\"][i][:5], df[\"teams\"][i][5:], df[\"winner\"][i]] for i in range(len(df))]\n",
    "\n",
    "\n"
   ]
  },
  {
   "cell_type": "code",
   "execution_count": 409,
   "metadata": {},
   "outputs": [],
   "source": [
    "# champ_idx"
   ]
  },
  {
   "cell_type": "code",
   "execution_count": 410,
   "metadata": {},
   "outputs": [],
   "source": [
    "# with open(\"../Data/train_data.txt\", 'w') as file:\n",
    "#     for item in train_datas:\n",
    "#         file.write((\"%s\\n\" % item))"
   ]
  },
  {
   "cell_type": "code",
   "execution_count": 411,
   "metadata": {},
   "outputs": [],
   "source": [
    "# temp = []\n",
    "# for i, j, _ in train_datas:\n",
    "#     temp = temp+i+ j"
   ]
  },
  {
   "cell_type": "code",
   "execution_count": 412,
   "metadata": {},
   "outputs": [],
   "source": [
    "# temp_s  = sorted(list(set(temp)))"
   ]
  },
  {
   "cell_type": "code",
   "execution_count": 413,
   "metadata": {},
   "outputs": [],
   "source": [
    "# champ_idx = {id: i for i, id in enumerate(temp_s)}"
   ]
  },
  {
   "cell_type": "code",
   "execution_count": 414,
   "metadata": {},
   "outputs": [],
   "source": [
    "# with open(\"champ_idx.txt\", 'w') as file:\n",
    "#     for pair in champ_idx.items():\n",
    "#         file.write(f\"{pair} \\n\")"
   ]
  },
  {
   "cell_type": "code",
   "execution_count": null,
   "metadata": {},
   "outputs": [],
   "source": []
  },
  {
   "cell_type": "code",
   "execution_count": 415,
   "metadata": {},
   "outputs": [],
   "source": [
    "# train_datas"
   ]
  },
  {
   "cell_type": "code",
   "execution_count": null,
   "metadata": {},
   "outputs": [],
   "source": []
  },
  {
   "cell_type": "code",
   "execution_count": 424,
   "metadata": {},
   "outputs": [
    {
     "name": "stdout",
     "output_type": "stream",
     "text": [
      "Total Parameters: 121577\n"
     ]
    },
    {
     "name": "stderr",
     "output_type": "stream",
     "text": [
      "EP_train:0:   0%|| 0/938 [00:00<?, ?it/s]"
     ]
    },
    {
     "name": "stderr",
     "output_type": "stream",
     "text": [
      "EP_train:0:   1%|| 5/938 [00:00<00:22, 41.04it/s]"
     ]
    },
    {
     "name": "stdout",
     "output_type": "stream",
     "text": [
      "{'epoch': 0, 'iter': 0, 'avg_loss': 5.595807075500488, 'avg_acc': 40.625, 'loss': 5.595807075500488}\n"
     ]
    },
    {
     "name": "stderr",
     "output_type": "stream",
     "text": [
      "EP_train:0:   1%|| 14/938 [00:00<00:24, 37.04it/s]"
     ]
    },
    {
     "name": "stdout",
     "output_type": "stream",
     "text": [
      "{'epoch': 0, 'iter': 10, 'avg_loss': 5.591945431449196, 'avg_acc': 50.0, 'loss': 5.492775917053223}\n"
     ]
    },
    {
     "name": "stderr",
     "output_type": "stream",
     "text": [
      "EP_train:0:   3%|| 28/938 [00:00<00:23, 38.98it/s]"
     ]
    },
    {
     "name": "stdout",
     "output_type": "stream",
     "text": [
      "{'epoch': 0, 'iter': 20, 'avg_loss': 5.56680170694987, 'avg_acc': 53.86904761904761, 'loss': 5.50114631652832}\n"
     ]
    },
    {
     "name": "stderr",
     "output_type": "stream",
     "text": [
      "EP_train:0:   4%|| 38/938 [00:00<00:21, 41.17it/s]"
     ]
    },
    {
     "name": "stdout",
     "output_type": "stream",
     "text": [
      "{'epoch': 0, 'iter': 30, 'avg_loss': 5.561897770051034, 'avg_acc': 54.03225806451613, 'loss': 5.566514492034912}\n"
     ]
    },
    {
     "name": "stderr",
     "output_type": "stream",
     "text": [
      "EP_train:0:   5%|| 48/938 [00:01<00:21, 41.99it/s]"
     ]
    },
    {
     "name": "stdout",
     "output_type": "stream",
     "text": [
      "{'epoch': 0, 'iter': 40, 'avg_loss': 5.546787913252667, 'avg_acc': 54.64939024390244, 'loss': 5.418705940246582}\n"
     ]
    },
    {
     "name": "stderr",
     "output_type": "stream",
     "text": [
      "EP_train:0:   6%|| 58/938 [00:01<00:20, 42.11it/s]"
     ]
    },
    {
     "name": "stdout",
     "output_type": "stream",
     "text": [
      "{'epoch': 0, 'iter': 50, 'avg_loss': 5.538431719237683, 'avg_acc': 53.982843137254896, 'loss': 5.54821252822876}\n"
     ]
    },
    {
     "name": "stderr",
     "output_type": "stream",
     "text": [
      "EP_train:0:   7%|| 68/938 [00:01<00:20, 41.59it/s]"
     ]
    },
    {
     "name": "stdout",
     "output_type": "stream",
     "text": [
      "{'epoch': 0, 'iter': 60, 'avg_loss': 5.515275322022985, 'avg_acc': 53.432377049180324, 'loss': 5.412322521209717}\n"
     ]
    },
    {
     "name": "stderr",
     "output_type": "stream",
     "text": [
      "EP_train:0:   8%|| 78/938 [00:01<00:20, 41.40it/s]"
     ]
    },
    {
     "name": "stdout",
     "output_type": "stream",
     "text": [
      "{'epoch': 0, 'iter': 70, 'avg_loss': 5.488538453276728, 'avg_acc': 53.52112676056338, 'loss': 5.28220272064209}\n"
     ]
    },
    {
     "name": "stderr",
     "output_type": "stream",
     "text": [
      "EP_train:0:   9%|| 87/938 [00:02<00:26, 32.49it/s]"
     ]
    },
    {
     "name": "stdout",
     "output_type": "stream",
     "text": [
      "{'epoch': 0, 'iter': 80, 'avg_loss': 5.461043516794841, 'avg_acc': 54.05092592592593, 'loss': 5.194079875946045}\n"
     ]
    },
    {
     "name": "stderr",
     "output_type": "stream",
     "text": [
      "EP_train:0:  10%|| 96/938 [00:02<00:23, 36.59it/s]"
     ]
    },
    {
     "name": "stdout",
     "output_type": "stream",
     "text": [
      "{'epoch': 0, 'iter': 90, 'avg_loss': 5.433064303555331, 'avg_acc': 54.01785714285714, 'loss': 5.208242416381836}\n"
     ]
    },
    {
     "name": "stderr",
     "output_type": "stream",
     "text": [
      "EP_train:0:  11%|| 106/938 [00:02<00:21, 38.87it/s]"
     ]
    },
    {
     "name": "stdout",
     "output_type": "stream",
     "text": [
      "{'epoch': 0, 'iter': 100, 'avg_loss': 5.399078265275105, 'avg_acc': 54.11509900990099, 'loss': 5.061236381530762}\n"
     ]
    },
    {
     "name": "stderr",
     "output_type": "stream",
     "text": [
      "EP_train:0:  12%|| 116/938 [00:02<00:20, 40.64it/s]"
     ]
    },
    {
     "name": "stdout",
     "output_type": "stream",
     "text": [
      "{'epoch': 0, 'iter': 110, 'avg_loss': 5.367854474901079, 'avg_acc': 53.9695945945946, 'loss': 5.052643299102783}\n"
     ]
    },
    {
     "name": "stderr",
     "output_type": "stream",
     "text": [
      "EP_train:0:  13%|| 125/938 [00:03<00:21, 37.91it/s]"
     ]
    },
    {
     "name": "stdout",
     "output_type": "stream",
     "text": [
      "{'epoch': 0, 'iter': 120, 'avg_loss': 5.329765808483786, 'avg_acc': 54.05475206611571, 'loss': 4.849243640899658}\n"
     ]
    },
    {
     "name": "stderr",
     "output_type": "stream",
     "text": [
      "EP_train:0:  15%|| 139/938 [00:03<00:20, 38.46it/s]"
     ]
    },
    {
     "name": "stdout",
     "output_type": "stream",
     "text": [
      "{'epoch': 0, 'iter': 130, 'avg_loss': 5.292190948515448, 'avg_acc': 53.62595419847328, 'loss': 4.69254732131958}\n"
     ]
    },
    {
     "name": "stderr",
     "output_type": "stream",
     "text": [
      "EP_train:0:  16%|| 147/938 [00:03<00:20, 38.23it/s]"
     ]
    },
    {
     "name": "stdout",
     "output_type": "stream",
     "text": [
      "{'epoch': 0, 'iter': 140, 'avg_loss': 5.2535262175485595, 'avg_acc': 53.812056737588655, 'loss': 4.7401041984558105}\n"
     ]
    },
    {
     "name": "stderr",
     "output_type": "stream",
     "text": [
      "EP_train:0:  17%|| 157/938 [00:04<00:19, 40.49it/s]"
     ]
    },
    {
     "name": "stdout",
     "output_type": "stream",
     "text": [
      "{'epoch': 0, 'iter': 150, 'avg_loss': 5.211976357643178, 'avg_acc': 53.766556291390735, 'loss': 4.5307488441467285}\n"
     ]
    },
    {
     "name": "stderr",
     "output_type": "stream",
     "text": [
      "EP_train:0:  18%|| 167/938 [00:04<00:18, 41.70it/s]"
     ]
    },
    {
     "name": "stdout",
     "output_type": "stream",
     "text": [
      "{'epoch': 0, 'iter': 160, 'avg_loss': 5.166812751604163, 'avg_acc': 54.056677018633536, 'loss': 4.443975925445557}\n"
     ]
    },
    {
     "name": "stderr",
     "output_type": "stream",
     "text": [
      "EP_train:0:  19%|| 177/938 [00:04<00:18, 41.68it/s]"
     ]
    },
    {
     "name": "stdout",
     "output_type": "stream",
     "text": [
      "{'epoch': 0, 'iter': 170, 'avg_loss': 5.122450111902248, 'avg_acc': 54.05701754385965, 'loss': 4.356463432312012}\n"
     ]
    },
    {
     "name": "stderr",
     "output_type": "stream",
     "text": [
      "EP_train:0:  20%|| 187/938 [00:04<00:17, 43.51it/s]"
     ]
    },
    {
     "name": "stdout",
     "output_type": "stream",
     "text": [
      "{'epoch': 0, 'iter': 180, 'avg_loss': 5.076982793228402, 'avg_acc': 54.21270718232044, 'loss': 4.181219100952148}\n"
     ]
    },
    {
     "name": "stderr",
     "output_type": "stream",
     "text": [
      "EP_train:0:  21%|| 197/938 [00:04<00:16, 44.46it/s]"
     ]
    },
    {
     "name": "stdout",
     "output_type": "stream",
     "text": [
      "{'epoch': 0, 'iter': 190, 'avg_loss': 5.02738313525135, 'avg_acc': 54.23756544502618, 'loss': 4.1111249923706055}\n"
     ]
    },
    {
     "name": "stderr",
     "output_type": "stream",
     "text": [
      "EP_train:0:  22%|| 202/938 [00:05<00:16, 43.99it/s]"
     ]
    },
    {
     "name": "stdout",
     "output_type": "stream",
     "text": [
      "{'epoch': 0, 'iter': 200, 'avg_loss': 4.977818869832737, 'avg_acc': 54.27549751243781, 'loss': 3.9871432781219482}\n"
     ]
    },
    {
     "name": "stderr",
     "output_type": "stream",
     "text": [
      "EP_train:0:  23%|| 216/938 [00:05<00:20, 35.59it/s]"
     ]
    },
    {
     "name": "stdout",
     "output_type": "stream",
     "text": [
      "{'epoch': 0, 'iter': 210, 'avg_loss': 4.927608976996906, 'avg_acc': 54.398696682464454, 'loss': 3.921999931335449}\n"
     ]
    },
    {
     "name": "stderr",
     "output_type": "stream",
     "text": [
      "EP_train:0:  24%|| 226/938 [00:05<00:18, 38.50it/s]"
     ]
    },
    {
     "name": "stdout",
     "output_type": "stream",
     "text": [
      "{'epoch': 0, 'iter': 220, 'avg_loss': 4.876092257003439, 'avg_acc': 54.68042986425339, 'loss': 3.816657781600952}\n"
     ]
    },
    {
     "name": "stderr",
     "output_type": "stream",
     "text": [
      "EP_train:0:  25%|| 236/938 [00:06<00:17, 39.82it/s]"
     ]
    },
    {
     "name": "stdout",
     "output_type": "stream",
     "text": [
      "{'epoch': 0, 'iter': 230, 'avg_loss': 4.825931509851893, 'avg_acc': 54.54545454545454, 'loss': 3.678497076034546}\n"
     ]
    },
    {
     "name": "stderr",
     "output_type": "stream",
     "text": [
      "EP_train:0:  26%|| 246/938 [00:06<00:16, 41.88it/s]"
     ]
    },
    {
     "name": "stdout",
     "output_type": "stream",
     "text": [
      "{'epoch': 0, 'iter': 240, 'avg_loss': 4.773370639911826, 'avg_acc': 54.447614107883815, 'loss': 3.488602638244629}\n"
     ]
    },
    {
     "name": "stderr",
     "output_type": "stream",
     "text": [
      "EP_train:0:  27%|| 256/938 [00:06<00:15, 43.33it/s]"
     ]
    },
    {
     "name": "stdout",
     "output_type": "stream",
     "text": [
      "{'epoch': 0, 'iter': 250, 'avg_loss': 4.722119882287258, 'avg_acc': 54.38247011952191, 'loss': 3.5061488151550293}\n"
     ]
    },
    {
     "name": "stderr",
     "output_type": "stream",
     "text": [
      "EP_train:0:  28%|| 266/938 [00:06<00:15, 43.20it/s]"
     ]
    },
    {
     "name": "stdout",
     "output_type": "stream",
     "text": [
      "{'epoch': 0, 'iter': 260, 'avg_loss': 4.669896857491855, 'avg_acc': 54.46599616858238, 'loss': 3.1905357837677}\n"
     ]
    },
    {
     "name": "stderr",
     "output_type": "stream",
     "text": [
      "EP_train:0:  29%|| 276/938 [00:06<00:14, 44.14it/s]"
     ]
    },
    {
     "name": "stdout",
     "output_type": "stream",
     "text": [
      "{'epoch': 0, 'iter': 270, 'avg_loss': 4.61827883949139, 'avg_acc': 54.393450184501845, 'loss': 3.312822103500366}\n"
     ]
    },
    {
     "name": "stderr",
     "output_type": "stream",
     "text": [
      "EP_train:0:  30%|| 286/938 [00:07<00:14, 44.53it/s]"
     ]
    },
    {
     "name": "stdout",
     "output_type": "stream",
     "text": [
      "{'epoch': 0, 'iter': 280, 'avg_loss': 4.56688563509768, 'avg_acc': 54.44839857651246, 'loss': 2.836949110031128}\n"
     ]
    },
    {
     "name": "stderr",
     "output_type": "stream",
     "text": [
      "EP_train:0:  32%|| 296/938 [00:07<00:14, 43.63it/s]"
     ]
    },
    {
     "name": "stdout",
     "output_type": "stream",
     "text": [
      "{'epoch': 0, 'iter': 290, 'avg_loss': 4.515268457714225, 'avg_acc': 54.40292096219931, 'loss': 3.026293992996216}\n"
     ]
    },
    {
     "name": "stderr",
     "output_type": "stream",
     "text": [
      "EP_train:0:  33%|| 306/938 [00:07<00:14, 43.43it/s]"
     ]
    },
    {
     "name": "stdout",
     "output_type": "stream",
     "text": [
      "{'epoch': 0, 'iter': 300, 'avg_loss': 4.463383109862622, 'avg_acc': 54.287790697674424, 'loss': 3.009415864944458}\n"
     ]
    },
    {
     "name": "stderr",
     "output_type": "stream",
     "text": [
      "EP_train:0:  34%|| 316/938 [00:07<00:14, 43.91it/s]"
     ]
    },
    {
     "name": "stdout",
     "output_type": "stream",
     "text": [
      "{'epoch': 0, 'iter': 310, 'avg_loss': 4.413833844316734, 'avg_acc': 54.44131832797427, 'loss': 2.7266926765441895}\n"
     ]
    },
    {
     "name": "stderr",
     "output_type": "stream",
     "text": [
      "EP_train:0:  35%|| 326/938 [00:08<00:13, 43.91it/s]"
     ]
    },
    {
     "name": "stdout",
     "output_type": "stream",
     "text": [
      "{'epoch': 0, 'iter': 320, 'avg_loss': 4.36487139199753, 'avg_acc': 54.5268691588785, 'loss': 2.827678680419922}\n"
     ]
    },
    {
     "name": "stderr",
     "output_type": "stream",
     "text": [
      "EP_train:0:  36%|| 336/938 [00:08<00:14, 42.88it/s]"
     ]
    },
    {
     "name": "stdout",
     "output_type": "stream",
     "text": [
      "{'epoch': 0, 'iter': 330, 'avg_loss': 4.31766601847738, 'avg_acc': 54.550604229607245, 'loss': 2.6284823417663574}\n"
     ]
    },
    {
     "name": "stderr",
     "output_type": "stream",
     "text": [
      "EP_train:0:  36%|| 341/938 [00:08<00:13, 44.76it/s]"
     ]
    },
    {
     "name": "stdout",
     "output_type": "stream",
     "text": [
      "{'epoch': 0, 'iter': 340, 'avg_loss': 4.269965316543131, 'avg_acc': 54.39882697947213, 'loss': 2.252213716506958}\n"
     ]
    },
    {
     "name": "stderr",
     "output_type": "stream",
     "text": [
      "EP_train:0:  38%|| 355/938 [00:08<00:15, 36.78it/s]"
     ]
    },
    {
     "name": "stdout",
     "output_type": "stream",
     "text": [
      "{'epoch': 0, 'iter': 350, 'avg_loss': 4.223182486672687, 'avg_acc': 54.37143874643875, 'loss': 2.649873971939087}\n"
     ]
    },
    {
     "name": "stderr",
     "output_type": "stream",
     "text": [
      "EP_train:0:  39%|| 365/938 [00:09<00:14, 40.73it/s]"
     ]
    },
    {
     "name": "stdout",
     "output_type": "stream",
     "text": [
      "{'epoch': 0, 'iter': 360, 'avg_loss': 4.1767250150854895, 'avg_acc': 54.414819944598335, 'loss': 2.4431517124176025}\n"
     ]
    },
    {
     "name": "stderr",
     "output_type": "stream",
     "text": [
      "EP_train:0:  40%|| 375/938 [00:09<00:13, 40.44it/s]"
     ]
    },
    {
     "name": "stdout",
     "output_type": "stream",
     "text": [
      "{'epoch': 0, 'iter': 370, 'avg_loss': 4.131947361234063, 'avg_acc': 54.39690026954178, 'loss': 2.66754150390625}\n"
     ]
    },
    {
     "name": "stderr",
     "output_type": "stream",
     "text": [
      "EP_train:0:  41%|| 385/938 [00:09<00:14, 37.07it/s]"
     ]
    },
    {
     "name": "stdout",
     "output_type": "stream",
     "text": [
      "{'epoch': 0, 'iter': 380, 'avg_loss': 4.088428227607347, 'avg_acc': 54.47834645669292, 'loss': 2.2640132904052734}\n"
     ]
    },
    {
     "name": "stderr",
     "output_type": "stream",
     "text": [
      "EP_train:0:  43%|| 399/938 [00:09<00:13, 40.92it/s]"
     ]
    },
    {
     "name": "stdout",
     "output_type": "stream",
     "text": [
      "{'epoch': 0, 'iter': 390, 'avg_loss': 4.0458372041697395, 'avg_acc': 54.57161125319693, 'loss': 2.3944485187530518}\n"
     ]
    },
    {
     "name": "stderr",
     "output_type": "stream",
     "text": [
      "EP_train:0:  44%|| 409/938 [00:10<00:12, 41.91it/s]"
     ]
    },
    {
     "name": "stdout",
     "output_type": "stream",
     "text": [
      "{'epoch': 0, 'iter': 400, 'avg_loss': 4.004947614194152, 'avg_acc': 54.58229426433915, 'loss': 2.429206371307373}\n"
     ]
    },
    {
     "name": "stderr",
     "output_type": "stream",
     "text": [
      "EP_train:0:  45%|| 419/938 [00:10<00:12, 42.39it/s]"
     ]
    },
    {
     "name": "stdout",
     "output_type": "stream",
     "text": [
      "{'epoch': 0, 'iter': 410, 'avg_loss': 3.965805639025649, 'avg_acc': 54.56964720194647, 'loss': 2.2475368976593018}\n"
     ]
    },
    {
     "name": "stderr",
     "output_type": "stream",
     "text": [
      "EP_train:0:  46%|| 429/938 [00:10<00:12, 42.10it/s]"
     ]
    },
    {
     "name": "stdout",
     "output_type": "stream",
     "text": [
      "{'epoch': 0, 'iter': 420, 'avg_loss': 3.9286025742736963, 'avg_acc': 54.69121140142518, 'loss': 2.533296823501587}\n"
     ]
    },
    {
     "name": "stderr",
     "output_type": "stream",
     "text": [
      "EP_train:0:  46%|| 434/938 [00:10<00:13, 38.32it/s]"
     ]
    },
    {
     "name": "stdout",
     "output_type": "stream",
     "text": [
      "{'epoch': 0, 'iter': 430, 'avg_loss': 3.8917974488087985, 'avg_acc': 54.611368909512755, 'loss': 2.150282382965088}\n"
     ]
    },
    {
     "name": "stderr",
     "output_type": "stream",
     "text": [
      "EP_train:0:  48%|| 446/938 [00:11<00:13, 35.84it/s]"
     ]
    },
    {
     "name": "stdout",
     "output_type": "stream",
     "text": [
      "{'epoch': 0, 'iter': 440, 'avg_loss': 3.8554307892749637, 'avg_acc': 54.6485260770975, 'loss': 2.134155750274658}\n"
     ]
    },
    {
     "name": "stderr",
     "output_type": "stream",
     "text": [
      "EP_train:0:  48%|| 454/938 [00:11<00:18, 26.67it/s]"
     ]
    },
    {
     "name": "stdout",
     "output_type": "stream",
     "text": [
      "{'epoch': 0, 'iter': 450, 'avg_loss': 3.8205951076917795, 'avg_acc': 54.62860310421286, 'loss': 2.3678321838378906}\n"
     ]
    },
    {
     "name": "stderr",
     "output_type": "stream",
     "text": [
      "EP_train:0:  50%|| 467/938 [00:11<00:13, 34.07it/s]"
     ]
    },
    {
     "name": "stdout",
     "output_type": "stream",
     "text": [
      "{'epoch': 0, 'iter': 460, 'avg_loss': 3.7871040235113944, 'avg_acc': 54.62988069414316, 'loss': 2.3023555278778076}\n"
     ]
    },
    {
     "name": "stderr",
     "output_type": "stream",
     "text": [
      "EP_train:0:  51%|| 477/938 [00:12<00:12, 38.36it/s]"
     ]
    },
    {
     "name": "stdout",
     "output_type": "stream",
     "text": [
      "{'epoch': 0, 'iter': 470, 'avg_loss': 3.754879004889486, 'avg_acc': 54.54485138004246, 'loss': 2.178276538848877}\n"
     ]
    },
    {
     "name": "stderr",
     "output_type": "stream",
     "text": [
      "EP_train:0:  52%|| 487/938 [00:12<00:11, 38.47it/s]"
     ]
    },
    {
     "name": "stdout",
     "output_type": "stream",
     "text": [
      "{'epoch': 0, 'iter': 480, 'avg_loss': 3.722060250145482, 'avg_acc': 54.495841995842, 'loss': 2.0306789875030518}\n"
     ]
    },
    {
     "name": "stderr",
     "output_type": "stream",
     "text": [
      "EP_train:0:  53%|| 496/938 [00:12<00:10, 40.35it/s]"
     ]
    },
    {
     "name": "stdout",
     "output_type": "stream",
     "text": [
      "{'epoch': 0, 'iter': 490, 'avg_loss': 3.6899795976530023, 'avg_acc': 54.49974541751528, 'loss': 2.3562252521514893}\n"
     ]
    },
    {
     "name": "stderr",
     "output_type": "stream",
     "text": [
      "EP_train:0:  54%|| 506/938 [00:12<00:10, 42.23it/s]"
     ]
    },
    {
     "name": "stdout",
     "output_type": "stream",
     "text": [
      "{'epoch': 0, 'iter': 500, 'avg_loss': 3.660267327122108, 'avg_acc': 54.43488023952096, 'loss': 2.029057025909424}\n"
     ]
    },
    {
     "name": "stderr",
     "output_type": "stream",
     "text": [
      "EP_train:0:  55%|| 516/938 [00:13<00:09, 42.88it/s]"
     ]
    },
    {
     "name": "stdout",
     "output_type": "stream",
     "text": [
      "{'epoch': 0, 'iter': 510, 'avg_loss': 3.6306582106069576, 'avg_acc': 54.513209393346386, 'loss': 2.2013580799102783}\n"
     ]
    },
    {
     "name": "stderr",
     "output_type": "stream",
     "text": [
      "EP_train:0:  56%|| 526/938 [00:13<00:09, 42.17it/s]"
     ]
    },
    {
     "name": "stdout",
     "output_type": "stream",
     "text": [
      "{'epoch': 0, 'iter': 520, 'avg_loss': 3.603123283431992, 'avg_acc': 54.510556621881, 'loss': 2.129918336868286}\n"
     ]
    },
    {
     "name": "stderr",
     "output_type": "stream",
     "text": [
      "EP_train:0:  57%|| 536/938 [00:13<00:09, 42.60it/s]"
     ]
    },
    {
     "name": "stdout",
     "output_type": "stream",
     "text": [
      "{'epoch': 0, 'iter': 530, 'avg_loss': 3.5759213628517483, 'avg_acc': 54.5668549905838, 'loss': 2.0614066123962402}\n"
     ]
    },
    {
     "name": "stderr",
     "output_type": "stream",
     "text": [
      "EP_train:0:  58%|| 546/938 [00:13<00:09, 42.54it/s]"
     ]
    },
    {
     "name": "stdout",
     "output_type": "stream",
     "text": [
      "{'epoch': 0, 'iter': 540, 'avg_loss': 3.549192328109318, 'avg_acc': 54.55753234750462, 'loss': 2.1106700897216797}\n"
     ]
    },
    {
     "name": "stderr",
     "output_type": "stream",
     "text": [
      "EP_train:0:  59%|| 556/938 [00:14<00:09, 40.43it/s]"
     ]
    },
    {
     "name": "stdout",
     "output_type": "stream",
     "text": [
      "{'epoch': 0, 'iter': 550, 'avg_loss': 3.524465423963031, 'avg_acc': 54.46347549909256, 'loss': 2.4057555198669434}\n"
     ]
    },
    {
     "name": "stderr",
     "output_type": "stream",
     "text": [
      "EP_train:0:  60%|| 566/938 [00:14<00:09, 40.19it/s]"
     ]
    },
    {
     "name": "stdout",
     "output_type": "stream",
     "text": [
      "{'epoch': 0, 'iter': 560, 'avg_loss': 3.4983086792117986, 'avg_acc': 54.4897504456328, 'loss': 2.151149272918701}\n"
     ]
    },
    {
     "name": "stderr",
     "output_type": "stream",
     "text": [
      "EP_train:0:  61%|| 575/938 [00:14<00:09, 37.41it/s]"
     ]
    },
    {
     "name": "stdout",
     "output_type": "stream",
     "text": [
      "{'epoch': 0, 'iter': 570, 'avg_loss': 3.474231673414361, 'avg_acc': 54.50415936952715, 'loss': 2.275294542312622}\n"
     ]
    },
    {
     "name": "stderr",
     "output_type": "stream",
     "text": [
      "EP_train:0:  63%|| 588/938 [00:15<00:10, 32.81it/s]"
     ]
    },
    {
     "name": "stdout",
     "output_type": "stream",
     "text": [
      "{'epoch': 0, 'iter': 580, 'avg_loss': 3.4512068230190702, 'avg_acc': 54.45890705679862, 'loss': 2.094787836074829}\n"
     ]
    },
    {
     "name": "stderr",
     "output_type": "stream",
     "text": [
      "EP_train:0:  64%|| 598/938 [00:15<00:08, 38.43it/s]"
     ]
    },
    {
     "name": "stdout",
     "output_type": "stream",
     "text": [
      "{'epoch': 0, 'iter': 590, 'avg_loss': 3.4272557033096676, 'avg_acc': 54.46806260575296, 'loss': 2.0669381618499756}\n"
     ]
    },
    {
     "name": "stderr",
     "output_type": "stream",
     "text": [
      "EP_train:0:  65%|| 608/938 [00:15<00:08, 40.24it/s]"
     ]
    },
    {
     "name": "stdout",
     "output_type": "stream",
     "text": [
      "{'epoch': 0, 'iter': 600, 'avg_loss': 3.4039410045261986, 'avg_acc': 54.46131447587354, 'loss': 2.212249517440796}\n"
     ]
    },
    {
     "name": "stderr",
     "output_type": "stream",
     "text": [
      "EP_train:0:  66%|| 618/938 [00:15<00:07, 42.26it/s]"
     ]
    },
    {
     "name": "stdout",
     "output_type": "stream",
     "text": [
      "{'epoch': 0, 'iter': 610, 'avg_loss': 3.380262717872907, 'avg_acc': 54.38318330605565, 'loss': 1.9446384906768799}\n"
     ]
    },
    {
     "name": "stderr",
     "output_type": "stream",
     "text": [
      "EP_train:0:  67%|| 628/938 [00:15<00:07, 43.43it/s]"
     ]
    },
    {
     "name": "stdout",
     "output_type": "stream",
     "text": [
      "{'epoch': 0, 'iter': 620, 'avg_loss': 3.3577220651070663, 'avg_acc': 54.453502415458935, 'loss': 1.9930988550186157}\n"
     ]
    },
    {
     "name": "stderr",
     "output_type": "stream",
     "text": [
      "EP_train:0:  68%|| 638/938 [00:16<00:06, 43.36it/s]"
     ]
    },
    {
     "name": "stdout",
     "output_type": "stream",
     "text": [
      "{'epoch': 0, 'iter': 630, 'avg_loss': 3.3366491941944734, 'avg_acc': 54.39282884310618, 'loss': 2.2341628074645996}\n"
     ]
    },
    {
     "name": "stderr",
     "output_type": "stream",
     "text": [
      "EP_train:0:  69%|| 648/938 [00:16<00:06, 43.14it/s]"
     ]
    },
    {
     "name": "stdout",
     "output_type": "stream",
     "text": [
      "{'epoch': 0, 'iter': 640, 'avg_loss': 3.3161573090159018, 'avg_acc': 54.39742589703588, 'loss': 2.0445187091827393}\n"
     ]
    },
    {
     "name": "stderr",
     "output_type": "stream",
     "text": [
      "EP_train:0:  70%|| 658/938 [00:16<00:06, 44.35it/s]"
     ]
    },
    {
     "name": "stdout",
     "output_type": "stream",
     "text": [
      "{'epoch': 0, 'iter': 650, 'avg_loss': 3.295226519924521, 'avg_acc': 54.36347926267281, 'loss': 2.077796220779419}\n"
     ]
    },
    {
     "name": "stderr",
     "output_type": "stream",
     "text": [
      "EP_train:0:  71%|| 668/938 [00:16<00:06, 44.03it/s]"
     ]
    },
    {
     "name": "stdout",
     "output_type": "stream",
     "text": [
      "{'epoch': 0, 'iter': 660, 'avg_loss': 3.2750759932709896, 'avg_acc': 54.39674735249622, 'loss': 1.8103370666503906}\n"
     ]
    },
    {
     "name": "stderr",
     "output_type": "stream",
     "text": [
      "EP_train:0:  72%|| 678/938 [00:17<00:06, 42.31it/s]"
     ]
    },
    {
     "name": "stdout",
     "output_type": "stream",
     "text": [
      "{'epoch': 0, 'iter': 670, 'avg_loss': 3.2561711486867573, 'avg_acc': 54.36847988077497, 'loss': 2.2456090450286865}\n"
     ]
    },
    {
     "name": "stderr",
     "output_type": "stream",
     "text": [
      "EP_train:0:  73%|| 688/938 [00:17<00:05, 43.46it/s]"
     ]
    },
    {
     "name": "stdout",
     "output_type": "stream",
     "text": [
      "{'epoch': 0, 'iter': 680, 'avg_loss': 3.237152505726191, 'avg_acc': 54.4098751835536, 'loss': 2.0052413940429688}\n"
     ]
    },
    {
     "name": "stderr",
     "output_type": "stream",
     "text": [
      "EP_train:0:  74%|| 698/938 [00:17<00:05, 43.35it/s]"
     ]
    },
    {
     "name": "stdout",
     "output_type": "stream",
     "text": [
      "{'epoch': 0, 'iter': 690, 'avg_loss': 3.2173408499329894, 'avg_acc': 54.40032561505065, 'loss': 1.9141690731048584}\n"
     ]
    },
    {
     "name": "stderr",
     "output_type": "stream",
     "text": [
      "EP_train:0:  75%|| 703/938 [00:17<00:07, 33.01it/s]"
     ]
    },
    {
     "name": "stdout",
     "output_type": "stream",
     "text": [
      "{'epoch': 0, 'iter': 700, 'avg_loss': 3.1987201997454937, 'avg_acc': 54.3910485021398, 'loss': 1.959359884262085}\n"
     ]
    },
    {
     "name": "stderr",
     "output_type": "stream",
     "text": [
      "EP_train:0:  76%|| 716/938 [00:18<00:06, 35.87it/s]"
     ]
    },
    {
     "name": "stdout",
     "output_type": "stream",
     "text": [
      "{'epoch': 0, 'iter': 710, 'avg_loss': 3.180109222730001, 'avg_acc': 54.47872714486639, 'loss': 1.8792327642440796}\n"
     ]
    },
    {
     "name": "stderr",
     "output_type": "stream",
     "text": [
      "EP_train:0:  77%|| 726/938 [00:18<00:05, 39.82it/s]"
     ]
    },
    {
     "name": "stdout",
     "output_type": "stream",
     "text": [
      "{'epoch': 0, 'iter': 720, 'avg_loss': 3.162475423078762, 'avg_acc': 54.41660887656033, 'loss': 1.9643447399139404}\n"
     ]
    },
    {
     "name": "stderr",
     "output_type": "stream",
     "text": [
      "EP_train:0:  78%|| 736/938 [00:18<00:04, 41.22it/s]"
     ]
    },
    {
     "name": "stdout",
     "output_type": "stream",
     "text": [
      "{'epoch': 0, 'iter': 730, 'avg_loss': 3.1460370528225043, 'avg_acc': 54.46733926128591, 'loss': 1.9519870281219482}\n"
     ]
    },
    {
     "name": "stderr",
     "output_type": "stream",
     "text": [
      "EP_train:0:  80%|| 746/938 [00:18<00:04, 43.17it/s]"
     ]
    },
    {
     "name": "stdout",
     "output_type": "stream",
     "text": [
      "{'epoch': 0, 'iter': 740, 'avg_loss': 3.1297160641223636, 'avg_acc': 54.49561403508771, 'loss': 1.8880083560943604}\n"
     ]
    },
    {
     "name": "stderr",
     "output_type": "stream",
     "text": [
      "EP_train:0:  81%|| 756/938 [00:19<00:03, 45.80it/s]"
     ]
    },
    {
     "name": "stdout",
     "output_type": "stream",
     "text": [
      "{'epoch': 0, 'iter': 750, 'avg_loss': 3.112033749864835, 'avg_acc': 54.539780292942744, 'loss': 1.8207511901855469}\n"
     ]
    },
    {
     "name": "stderr",
     "output_type": "stream",
     "text": [
      "EP_train:0:  82%|| 766/938 [00:19<00:03, 44.06it/s]"
     ]
    },
    {
     "name": "stdout",
     "output_type": "stream",
     "text": [
      "{'epoch': 0, 'iter': 760, 'avg_loss': 3.096960873077483, 'avg_acc': 54.54582785808147, 'loss': 1.9349629878997803}\n"
     ]
    },
    {
     "name": "stderr",
     "output_type": "stream",
     "text": [
      "EP_train:0:  83%|| 776/938 [00:19<00:03, 44.23it/s]"
     ]
    },
    {
     "name": "stdout",
     "output_type": "stream",
     "text": [
      "{'epoch': 0, 'iter': 770, 'avg_loss': 3.0797232780629713, 'avg_acc': 54.51118677042801, 'loss': 1.5454514026641846}\n"
     ]
    },
    {
     "name": "stderr",
     "output_type": "stream",
     "text": [
      "EP_train:0:  84%|| 786/938 [00:19<00:03, 42.07it/s]"
     ]
    },
    {
     "name": "stdout",
     "output_type": "stream",
     "text": [
      "{'epoch': 0, 'iter': 780, 'avg_loss': 3.0637426989942447, 'avg_acc': 54.48943661971831, 'loss': 1.9792885780334473}\n"
     ]
    },
    {
     "name": "stderr",
     "output_type": "stream",
     "text": [
      "EP_train:0:  85%|| 796/938 [00:19<00:03, 43.35it/s]"
     ]
    },
    {
     "name": "stdout",
     "output_type": "stream",
     "text": [
      "{'epoch': 0, 'iter': 790, 'avg_loss': 3.047611380346807, 'avg_acc': 54.460335018963335, 'loss': 1.4980077743530273}\n"
     ]
    },
    {
     "name": "stderr",
     "output_type": "stream",
     "text": [
      "EP_train:0:  86%|| 806/938 [00:20<00:03, 42.92it/s]"
     ]
    },
    {
     "name": "stdout",
     "output_type": "stream",
     "text": [
      "{'epoch': 0, 'iter': 800, 'avg_loss': 3.0331665633174216, 'avg_acc': 54.49048064918851, 'loss': 1.8482457399368286}\n"
     ]
    },
    {
     "name": "stderr",
     "output_type": "stream",
     "text": [
      "EP_train:0:  87%|| 816/938 [00:20<00:02, 43.63it/s]"
     ]
    },
    {
     "name": "stdout",
     "output_type": "stream",
     "text": [
      "{'epoch': 0, 'iter': 810, 'avg_loss': 3.018107485095023, 'avg_acc': 54.55841553637485, 'loss': 1.7242807149887085}\n"
     ]
    },
    {
     "name": "stderr",
     "output_type": "stream",
     "text": [
      "EP_train:0:  88%|| 826/938 [00:20<00:02, 42.87it/s]"
     ]
    },
    {
     "name": "stdout",
     "output_type": "stream",
     "text": [
      "{'epoch': 0, 'iter': 820, 'avg_loss': 3.0020179291154814, 'avg_acc': 54.53714981729598, 'loss': 1.7175554037094116}\n"
     ]
    },
    {
     "name": "stderr",
     "output_type": "stream",
     "text": [
      "EP_train:0:  89%|| 836/938 [00:20<00:02, 43.82it/s]"
     ]
    },
    {
     "name": "stdout",
     "output_type": "stream",
     "text": [
      "{'epoch': 0, 'iter': 830, 'avg_loss': 2.986928009814734, 'avg_acc': 54.55400120336944, 'loss': 1.7823359966278076}\n"
     ]
    },
    {
     "name": "stderr",
     "output_type": "stream",
     "text": [
      "EP_train:0:  90%|| 845/938 [00:21<00:02, 32.96it/s]"
     ]
    },
    {
     "name": "stdout",
     "output_type": "stream",
     "text": [
      "{'epoch': 0, 'iter': 840, 'avg_loss': 2.972902904084123, 'avg_acc': 54.55930439952438, 'loss': 1.6333287954330444}\n"
     ]
    },
    {
     "name": "stderr",
     "output_type": "stream",
     "text": [
      "EP_train:0:  92%|| 859/938 [00:21<00:02, 38.78it/s]"
     ]
    },
    {
     "name": "stdout",
     "output_type": "stream",
     "text": [
      "{'epoch': 0, 'iter': 850, 'avg_loss': 2.960044586000095, 'avg_acc': 54.59018801410106, 'loss': 1.7425061464309692}\n"
     ]
    },
    {
     "name": "stderr",
     "output_type": "stream",
     "text": [
      "EP_train:0:  93%|| 869/938 [00:21<00:01, 42.33it/s]"
     ]
    },
    {
     "name": "stdout",
     "output_type": "stream",
     "text": [
      "{'epoch': 0, 'iter': 860, 'avg_loss': 2.9460769458376435, 'avg_acc': 54.54050522648084, 'loss': 1.5973403453826904}\n"
     ]
    },
    {
     "name": "stderr",
     "output_type": "stream",
     "text": [
      "EP_train:0:  94%|| 879/938 [00:22<00:01, 42.13it/s]"
     ]
    },
    {
     "name": "stdout",
     "output_type": "stream",
     "text": [
      "{'epoch': 0, 'iter': 870, 'avg_loss': 2.933213728987938, 'avg_acc': 54.56371986222732, 'loss': 2.0788323879241943}\n"
     ]
    },
    {
     "name": "stderr",
     "output_type": "stream",
     "text": [
      "EP_train:0:  95%|| 889/938 [00:22<00:01, 43.31it/s]"
     ]
    },
    {
     "name": "stdout",
     "output_type": "stream",
     "text": [
      "{'epoch': 0, 'iter': 880, 'avg_loss': 2.919848144392691, 'avg_acc': 54.586407491486945, 'loss': 1.8771723508834839}\n"
     ]
    },
    {
     "name": "stderr",
     "output_type": "stream",
     "text": [
      "EP_train:0:  96%|| 899/938 [00:22<00:00, 42.71it/s]"
     ]
    },
    {
     "name": "stdout",
     "output_type": "stream",
     "text": [
      "{'epoch': 0, 'iter': 890, 'avg_loss': 2.9071180005667587, 'avg_acc': 54.52441077441077, 'loss': 1.5053523778915405}\n"
     ]
    },
    {
     "name": "stderr",
     "output_type": "stream",
     "text": [
      "EP_train:0:  97%|| 909/938 [00:22<00:00, 43.44it/s]"
     ]
    },
    {
     "name": "stdout",
     "output_type": "stream",
     "text": [
      "{'epoch': 0, 'iter': 900, 'avg_loss': 2.8949473342144, 'avg_acc': 54.55396781354052, 'loss': 1.8688721656799316}\n"
     ]
    },
    {
     "name": "stderr",
     "output_type": "stream",
     "text": [
      "EP_train:0:  98%|| 919/938 [00:22<00:00, 44.56it/s]"
     ]
    },
    {
     "name": "stdout",
     "output_type": "stream",
     "text": [
      "{'epoch': 0, 'iter': 910, 'avg_loss': 2.882769652308015, 'avg_acc': 54.582875960482994, 'loss': 2.056988477706909}\n"
     ]
    },
    {
     "name": "stderr",
     "output_type": "stream",
     "text": [
      "EP_train:0:  99%|| 929/938 [00:23<00:00, 43.90it/s]"
     ]
    },
    {
     "name": "stdout",
     "output_type": "stream",
     "text": [
      "{'epoch': 0, 'iter': 920, 'avg_loss': 2.8698488983864636, 'avg_acc': 54.556867535287736, 'loss': 1.5923751592636108}\n"
     ]
    },
    {
     "name": "stderr",
     "output_type": "stream",
     "text": [
      "EP_train:0: 100%|| 938/938 [00:23<00:00, 40.09it/s]\n"
     ]
    },
    {
     "name": "stdout",
     "output_type": "stream",
     "text": [
      "{'epoch': 0, 'iter': 930, 'avg_loss': 2.857637326520188, 'avg_acc': 54.55155746509131, 'loss': 1.5355446338653564}\n",
      "EP0, train:             avg_loss=2.8490588459124697,             total_acc=54.49483161053685\n"
     ]
    },
    {
     "name": "stderr",
     "output_type": "stream",
     "text": [
      "EP_train:1:   1%|| 9/938 [00:00<00:22, 41.49it/s]"
     ]
    },
    {
     "name": "stdout",
     "output_type": "stream",
     "text": [
      "{'epoch': 1, 'iter': 0, 'avg_loss': 1.8237590789794922, 'avg_acc': 59.375, 'loss': 1.8237590789794922}\n"
     ]
    },
    {
     "name": "stderr",
     "output_type": "stream",
     "text": [
      "EP_train:1:   2%|| 19/938 [00:00<00:21, 43.55it/s]"
     ]
    },
    {
     "name": "stdout",
     "output_type": "stream",
     "text": [
      "{'epoch': 1, 'iter': 10, 'avg_loss': 1.7926239425485784, 'avg_acc': 51.98863636363637, 'loss': 1.906430959701538}\n"
     ]
    },
    {
     "name": "stderr",
     "output_type": "stream",
     "text": [
      "EP_train:1:   3%|| 24/938 [00:00<00:29, 30.95it/s]"
     ]
    },
    {
     "name": "stdout",
     "output_type": "stream",
     "text": [
      "{'epoch': 1, 'iter': 20, 'avg_loss': 1.7805241176060267, 'avg_acc': 53.57142857142857, 'loss': 1.827519178390503}\n"
     ]
    },
    {
     "name": "stderr",
     "output_type": "stream",
     "text": [
      "EP_train:1:   4%|| 37/938 [00:01<00:25, 35.90it/s]"
     ]
    },
    {
     "name": "stdout",
     "output_type": "stream",
     "text": [
      "{'epoch': 1, 'iter': 30, 'avg_loss': 1.753684563021506, 'avg_acc': 54.233870967741936, 'loss': 1.9613922834396362}\n"
     ]
    },
    {
     "name": "stderr",
     "output_type": "stream",
     "text": [
      "EP_train:1:   5%|| 46/938 [00:01<00:23, 38.44it/s]"
     ]
    },
    {
     "name": "stdout",
     "output_type": "stream",
     "text": [
      "{'epoch': 1, 'iter': 40, 'avg_loss': 1.7625591376932657, 'avg_acc': 54.954268292682926, 'loss': 1.844049334526062}\n"
     ]
    },
    {
     "name": "stderr",
     "output_type": "stream",
     "text": [
      "EP_train:1:   6%|| 54/938 [00:01<00:23, 37.36it/s]"
     ]
    },
    {
     "name": "stdout",
     "output_type": "stream",
     "text": [
      "{'epoch': 1, 'iter': 50, 'avg_loss': 1.7478416994506238, 'avg_acc': 55.024509803921575, 'loss': 1.634253740310669}\n"
     ]
    },
    {
     "name": "stderr",
     "output_type": "stream",
     "text": [
      "EP_train:1:   7%|| 68/938 [00:01<00:21, 40.46it/s]"
     ]
    },
    {
     "name": "stdout",
     "output_type": "stream",
     "text": [
      "{'epoch': 1, 'iter': 60, 'avg_loss': 1.7286613456538467, 'avg_acc': 54.815573770491795, 'loss': 1.9271800518035889}\n"
     ]
    },
    {
     "name": "stderr",
     "output_type": "stream",
     "text": [
      "EP_train:1:   8%|| 78/938 [00:02<00:21, 40.48it/s]"
     ]
    },
    {
     "name": "stdout",
     "output_type": "stream",
     "text": [
      "{'epoch': 1, 'iter': 70, 'avg_loss': 1.7454878494773112, 'avg_acc': 55.58978873239436, 'loss': 2.067603588104248}\n"
     ]
    },
    {
     "name": "stderr",
     "output_type": "stream",
     "text": [
      "EP_train:1:   9%|| 88/938 [00:02<00:20, 40.90it/s]"
     ]
    },
    {
     "name": "stdout",
     "output_type": "stream",
     "text": [
      "{'epoch': 1, 'iter': 80, 'avg_loss': 1.7451509458047372, 'avg_acc': 55.70987654320988, 'loss': 1.833498239517212}\n"
     ]
    },
    {
     "name": "stderr",
     "output_type": "stream",
     "text": [
      "EP_train:1:  10%|| 98/938 [00:02<00:19, 42.25it/s]"
     ]
    },
    {
     "name": "stdout",
     "output_type": "stream",
     "text": [
      "{'epoch': 1, 'iter': 90, 'avg_loss': 1.7431741232400413, 'avg_acc': 55.25412087912088, 'loss': 1.7891852855682373}\n"
     ]
    },
    {
     "name": "stderr",
     "output_type": "stream",
     "text": [
      "EP_train:1:  12%|| 108/938 [00:02<00:19, 42.36it/s]"
     ]
    },
    {
     "name": "stdout",
     "output_type": "stream",
     "text": [
      "{'epoch': 1, 'iter': 100, 'avg_loss': 1.7335516450428727, 'avg_acc': 55.01237623762376, 'loss': 1.3046984672546387}\n"
     ]
    },
    {
     "name": "stderr",
     "output_type": "stream",
     "text": [
      "EP_train:1:  13%|| 118/938 [00:02<00:18, 44.24it/s]"
     ]
    },
    {
     "name": "stdout",
     "output_type": "stream",
     "text": [
      "{'epoch': 1, 'iter': 110, 'avg_loss': 1.7328280264192872, 'avg_acc': 54.814189189189186, 'loss': 1.5732656717300415}\n"
     ]
    },
    {
     "name": "stderr",
     "output_type": "stream",
     "text": [
      "EP_train:1:  14%|| 128/938 [00:03<00:18, 44.09it/s]"
     ]
    },
    {
     "name": "stdout",
     "output_type": "stream",
     "text": [
      "{'epoch': 1, 'iter': 120, 'avg_loss': 1.7279264621498172, 'avg_acc': 54.51962809917356, 'loss': 1.7892975807189941}\n"
     ]
    },
    {
     "name": "stderr",
     "output_type": "stream",
     "text": [
      "EP_train:1:  15%|| 138/938 [00:03<00:19, 41.30it/s]"
     ]
    },
    {
     "name": "stdout",
     "output_type": "stream",
     "text": [
      "{'epoch': 1, 'iter': 130, 'avg_loss': 1.7247749130234464, 'avg_acc': 54.50858778625955, 'loss': 1.776949167251587}\n"
     ]
    },
    {
     "name": "stderr",
     "output_type": "stream",
     "text": [
      "EP_train:1:  15%|| 143/938 [00:03<00:24, 32.24it/s]"
     ]
    },
    {
     "name": "stdout",
     "output_type": "stream",
     "text": [
      "{'epoch': 1, 'iter': 140, 'avg_loss': 1.7275148756960605, 'avg_acc': 54.676418439716315, 'loss': 1.5989282131195068}\n"
     ]
    },
    {
     "name": "stderr",
     "output_type": "stream",
     "text": [
      "EP_train:1:  17%|| 156/938 [00:04<00:21, 36.15it/s]"
     ]
    },
    {
     "name": "stdout",
     "output_type": "stream",
     "text": [
      "{'epoch': 1, 'iter': 150, 'avg_loss': 1.7255117972165543, 'avg_acc': 54.86341059602648, 'loss': 1.709394097328186}\n"
     ]
    },
    {
     "name": "stderr",
     "output_type": "stream",
     "text": [
      "EP_train:1:  18%|| 165/938 [00:04<00:20, 38.26it/s]"
     ]
    },
    {
     "name": "stdout",
     "output_type": "stream",
     "text": [
      "{'epoch': 1, 'iter': 160, 'avg_loss': 1.7242034377518647, 'avg_acc': 54.81366459627329, 'loss': 1.6222691535949707}\n"
     ]
    },
    {
     "name": "stderr",
     "output_type": "stream",
     "text": [
      "EP_train:1:  19%|| 175/938 [00:04<00:18, 41.45it/s]"
     ]
    },
    {
     "name": "stdout",
     "output_type": "stream",
     "text": [
      "{'epoch': 1, 'iter': 170, 'avg_loss': 1.722556065397653, 'avg_acc': 54.87938596491229, 'loss': 1.8128433227539062}\n"
     ]
    },
    {
     "name": "stderr",
     "output_type": "stream",
     "text": [
      "EP_train:1:  20%|| 185/938 [00:04<00:17, 42.61it/s]"
     ]
    },
    {
     "name": "stdout",
     "output_type": "stream",
     "text": [
      "{'epoch': 1, 'iter': 180, 'avg_loss': 1.717385178112852, 'avg_acc': 54.886049723756905, 'loss': 1.7275959253311157}\n"
     ]
    },
    {
     "name": "stderr",
     "output_type": "stream",
     "text": [
      "EP_train:1:  21%|| 200/938 [00:05<00:16, 44.63it/s]"
     ]
    },
    {
     "name": "stdout",
     "output_type": "stream",
     "text": [
      "{'epoch': 1, 'iter': 190, 'avg_loss': 1.7172088928871754, 'avg_acc': 54.581151832460726, 'loss': 1.5981473922729492}\n"
     ]
    },
    {
     "name": "stderr",
     "output_type": "stream",
     "text": [
      "EP_train:1:  22%|| 205/938 [00:05<00:17, 42.62it/s]"
     ]
    },
    {
     "name": "stdout",
     "output_type": "stream",
     "text": [
      "{'epoch': 1, 'iter': 200, 'avg_loss': 1.720308682218713, 'avg_acc': 54.55534825870647, 'loss': 1.6678506135940552}\n"
     ]
    },
    {
     "name": "stderr",
     "output_type": "stream",
     "text": [
      "EP_train:1:  23%|| 215/938 [00:05<00:17, 42.15it/s]"
     ]
    },
    {
     "name": "stdout",
     "output_type": "stream",
     "text": [
      "{'epoch': 1, 'iter': 210, 'avg_loss': 1.722769173400662, 'avg_acc': 54.2654028436019, 'loss': 1.864712119102478}\n"
     ]
    },
    {
     "name": "stderr",
     "output_type": "stream",
     "text": [
      "EP_train:1:  24%|| 225/938 [00:05<00:16, 42.04it/s]"
     ]
    },
    {
     "name": "stdout",
     "output_type": "stream",
     "text": [
      "{'epoch': 1, 'iter': 220, 'avg_loss': 1.7235487553868358, 'avg_acc': 54.21380090497737, 'loss': 1.591418981552124}\n"
     ]
    },
    {
     "name": "stderr",
     "output_type": "stream",
     "text": [
      "EP_train:1:  25%|| 236/938 [00:05<00:15, 44.67it/s]"
     ]
    },
    {
     "name": "stdout",
     "output_type": "stream",
     "text": [
      "{'epoch': 1, 'iter': 230, 'avg_loss': 1.7198149234185487, 'avg_acc': 54.43722943722944, 'loss': 1.6072970628738403}\n"
     ]
    },
    {
     "name": "stderr",
     "output_type": "stream",
     "text": [
      "EP_train:1:  26%|| 246/938 [00:06<00:15, 44.62it/s]"
     ]
    },
    {
     "name": "stdout",
     "output_type": "stream",
     "text": [
      "{'epoch': 1, 'iter': 240, 'avg_loss': 1.7222610608176077, 'avg_acc': 54.3957468879668, 'loss': 1.9587231874465942}\n"
     ]
    },
    {
     "name": "stderr",
     "output_type": "stream",
     "text": [
      "EP_train:1:  27%|| 256/938 [00:06<00:15, 43.70it/s]"
     ]
    },
    {
     "name": "stdout",
     "output_type": "stream",
     "text": [
      "{'epoch': 1, 'iter': 250, 'avg_loss': 1.7221805887868205, 'avg_acc': 54.370019920318725, 'loss': 1.821496844291687}\n"
     ]
    },
    {
     "name": "stderr",
     "output_type": "stream",
     "text": [
      "EP_train:1:  28%|| 266/938 [00:06<00:15, 43.21it/s]"
     ]
    },
    {
     "name": "stdout",
     "output_type": "stream",
     "text": [
      "{'epoch': 1, 'iter': 260, 'avg_loss': 1.7206227747416587, 'avg_acc': 54.33429118773946, 'loss': 1.7895076274871826}\n"
     ]
    },
    {
     "name": "stderr",
     "output_type": "stream",
     "text": [
      "EP_train:1:  29%|| 271/938 [00:06<00:15, 42.42it/s]"
     ]
    },
    {
     "name": "stdout",
     "output_type": "stream",
     "text": [
      "{'epoch': 1, 'iter': 270, 'avg_loss': 1.7206535176597397, 'avg_acc': 54.45110701107011, 'loss': 1.6737771034240723}\n"
     ]
    },
    {
     "name": "stderr",
     "output_type": "stream",
     "text": [
      "EP_train:1:  30%|| 284/938 [00:07<00:19, 34.21it/s]"
     ]
    },
    {
     "name": "stdout",
     "output_type": "stream",
     "text": [
      "{'epoch': 1, 'iter': 280, 'avg_loss': 1.71731397392911, 'avg_acc': 54.38167259786477, 'loss': 1.573993444442749}\n"
     ]
    },
    {
     "name": "stderr",
     "output_type": "stream",
     "text": [
      "EP_train:1:  32%|| 299/938 [00:07<00:15, 40.31it/s]"
     ]
    },
    {
     "name": "stdout",
     "output_type": "stream",
     "text": [
      "{'epoch': 1, 'iter': 290, 'avg_loss': 1.7192844611262947, 'avg_acc': 54.43513745704467, 'loss': 1.836179494857788}\n"
     ]
    },
    {
     "name": "stderr",
     "output_type": "stream",
     "text": [
      "EP_train:1:  33%|| 309/938 [00:07<00:14, 42.10it/s]"
     ]
    },
    {
     "name": "stdout",
     "output_type": "stream",
     "text": [
      "{'epoch': 1, 'iter': 300, 'avg_loss': 1.7187945141744772, 'avg_acc': 54.46428571428571, 'loss': 1.7189993858337402}\n"
     ]
    },
    {
     "name": "stderr",
     "output_type": "stream",
     "text": [
      "EP_train:1:  34%|| 319/938 [00:07<00:14, 43.51it/s]"
     ]
    },
    {
     "name": "stdout",
     "output_type": "stream",
     "text": [
      "{'epoch': 1, 'iter': 310, 'avg_loss': 1.718080337407888, 'avg_acc': 54.541800643086816, 'loss': 1.8702669143676758}\n"
     ]
    },
    {
     "name": "stderr",
     "output_type": "stream",
     "text": [
      "EP_train:1:  35%|| 329/938 [00:08<00:14, 43.45it/s]"
     ]
    },
    {
     "name": "stdout",
     "output_type": "stream",
     "text": [
      "{'epoch': 1, 'iter': 320, 'avg_loss': 1.714131996267681, 'avg_acc': 54.47819314641744, 'loss': 1.6854934692382812}\n"
     ]
    },
    {
     "name": "stderr",
     "output_type": "stream",
     "text": [
      "EP_train:1:  36%|| 339/938 [00:08<00:13, 43.01it/s]"
     ]
    },
    {
     "name": "stdout",
     "output_type": "stream",
     "text": [
      "{'epoch': 1, 'iter': 330, 'avg_loss': 1.714329221817662, 'avg_acc': 54.52228096676737, 'loss': 1.9231892824172974}\n"
     ]
    },
    {
     "name": "stderr",
     "output_type": "stream",
     "text": [
      "EP_train:1:  37%|| 349/938 [00:08<00:13, 43.14it/s]"
     ]
    },
    {
     "name": "stdout",
     "output_type": "stream",
     "text": [
      "{'epoch': 1, 'iter': 340, 'avg_loss': 1.7140018502987724, 'avg_acc': 54.38049853372434, 'loss': 1.7659533023834229}\n"
     ]
    },
    {
     "name": "stderr",
     "output_type": "stream",
     "text": [
      "EP_train:1:  38%|| 359/938 [00:08<00:13, 42.05it/s]"
     ]
    },
    {
     "name": "stdout",
     "output_type": "stream",
     "text": [
      "{'epoch': 1, 'iter': 350, 'avg_loss': 1.712413125567966, 'avg_acc': 54.380341880341874, 'loss': 1.5748481750488281}\n"
     ]
    },
    {
     "name": "stderr",
     "output_type": "stream",
     "text": [
      "EP_train:1:  39%|| 364/938 [00:09<00:13, 41.85it/s]"
     ]
    },
    {
     "name": "stdout",
     "output_type": "stream",
     "text": [
      "{'epoch': 1, 'iter': 360, 'avg_loss': 1.709971538871279, 'avg_acc': 54.30228531855956, 'loss': 1.4540045261383057}\n"
     ]
    },
    {
     "name": "stderr",
     "output_type": "stream",
     "text": [
      "EP_train:1:  40%|| 374/938 [00:09<00:13, 40.54it/s]"
     ]
    },
    {
     "name": "stdout",
     "output_type": "stream",
     "text": [
      "{'epoch': 1, 'iter': 370, 'avg_loss': 1.7084189913664867, 'avg_acc': 54.28739892183289, 'loss': 1.6923021078109741}\n"
     ]
    },
    {
     "name": "stderr",
     "output_type": "stream",
     "text": [
      "EP_train:1:  41%|| 384/938 [00:09<00:14, 38.09it/s]"
     ]
    },
    {
     "name": "stdout",
     "output_type": "stream",
     "text": [
      "{'epoch': 1, 'iter': 380, 'avg_loss': 1.7067492799808972, 'avg_acc': 54.322506561679795, 'loss': 1.5341283082962036}\n"
     ]
    },
    {
     "name": "stderr",
     "output_type": "stream",
     "text": [
      "EP_train:1:  42%|| 398/938 [00:09<00:13, 40.28it/s]"
     ]
    },
    {
     "name": "stdout",
     "output_type": "stream",
     "text": [
      "{'epoch': 1, 'iter': 390, 'avg_loss': 1.708473224469158, 'avg_acc': 54.371803069053705, 'loss': 1.4681240320205688}\n"
     ]
    },
    {
     "name": "stderr",
     "output_type": "stream",
     "text": [
      "EP_train:1:  43%|| 403/938 [00:10<00:16, 31.62it/s]"
     ]
    },
    {
     "name": "stdout",
     "output_type": "stream",
     "text": [
      "{'epoch': 1, 'iter': 400, 'avg_loss': 1.7077668138275717, 'avg_acc': 54.43422693266833, 'loss': 1.660177230834961}\n"
     ]
    },
    {
     "name": "stderr",
     "output_type": "stream",
     "text": [
      "EP_train:1:  44%|| 416/938 [00:10<00:14, 36.54it/s]"
     ]
    },
    {
     "name": "stdout",
     "output_type": "stream",
     "text": [
      "{'epoch': 1, 'iter': 410, 'avg_loss': 1.7043879539717144, 'avg_acc': 54.41757907542579, 'loss': 1.564455270767212}\n"
     ]
    },
    {
     "name": "stderr",
     "output_type": "stream",
     "text": [
      "EP_train:1:  45%|| 426/938 [00:10<00:12, 40.30it/s]"
     ]
    },
    {
     "name": "stdout",
     "output_type": "stream",
     "text": [
      "{'epoch': 1, 'iter': 420, 'avg_loss': 1.7037620136686855, 'avg_acc': 54.40172209026129, 'loss': 1.7318177223205566}\n"
     ]
    },
    {
     "name": "stderr",
     "output_type": "stream",
     "text": [
      "EP_train:1:  46%|| 436/938 [00:10<00:12, 41.16it/s]"
     ]
    },
    {
     "name": "stdout",
     "output_type": "stream",
     "text": [
      "{'epoch': 1, 'iter': 430, 'avg_loss': 1.703524967633931, 'avg_acc': 54.277842227378194, 'loss': 1.626524567604065}\n"
     ]
    },
    {
     "name": "stderr",
     "output_type": "stream",
     "text": [
      "EP_train:1:  48%|| 446/938 [00:11<00:12, 39.07it/s]"
     ]
    },
    {
     "name": "stdout",
     "output_type": "stream",
     "text": [
      "{'epoch': 1, 'iter': 440, 'avg_loss': 1.703566140598721, 'avg_acc': 54.26587301587301, 'loss': 1.5264978408813477}\n"
     ]
    },
    {
     "name": "stderr",
     "output_type": "stream",
     "text": [
      "EP_train:1:  49%|| 459/938 [00:11<00:11, 40.84it/s]"
     ]
    },
    {
     "name": "stdout",
     "output_type": "stream",
     "text": [
      "{'epoch': 1, 'iter': 450, 'avg_loss': 1.7030373396736027, 'avg_acc': 54.1920731707317, 'loss': 1.7246471643447876}\n"
     ]
    },
    {
     "name": "stderr",
     "output_type": "stream",
     "text": [
      "EP_train:1:  50%|| 469/938 [00:11<00:11, 41.52it/s]"
     ]
    },
    {
     "name": "stdout",
     "output_type": "stream",
     "text": [
      "{'epoch': 1, 'iter': 460, 'avg_loss': 1.7009027622268411, 'avg_acc': 54.14859002169198, 'loss': 1.6174434423446655}\n"
     ]
    },
    {
     "name": "stderr",
     "output_type": "stream",
     "text": [
      "EP_train:1:  51%|| 479/938 [00:11<00:10, 42.27it/s]"
     ]
    },
    {
     "name": "stdout",
     "output_type": "stream",
     "text": [
      "{'epoch': 1, 'iter': 470, 'avg_loss': 1.698955382764213, 'avg_acc': 54.13349256900213, 'loss': 1.7173391580581665}\n"
     ]
    },
    {
     "name": "stderr",
     "output_type": "stream",
     "text": [
      "EP_train:1:  52%|| 489/938 [00:12<00:10, 40.99it/s]"
     ]
    },
    {
     "name": "stdout",
     "output_type": "stream",
     "text": [
      "{'epoch': 1, 'iter': 480, 'avg_loss': 1.699242437208021, 'avg_acc': 54.13851351351351, 'loss': 1.6150506734848022}\n"
     ]
    },
    {
     "name": "stderr",
     "output_type": "stream",
     "text": [
      "EP_train:1:  53%|| 498/938 [00:12<00:11, 37.66it/s]"
     ]
    },
    {
     "name": "stdout",
     "output_type": "stream",
     "text": [
      "{'epoch': 1, 'iter': 490, 'avg_loss': 1.6987150975497336, 'avg_acc': 54.187881873727086, 'loss': 1.8112796545028687}\n"
     ]
    },
    {
     "name": "stderr",
     "output_type": "stream",
     "text": [
      "EP_train:1:  54%|| 506/938 [00:12<00:11, 37.53it/s]"
     ]
    },
    {
     "name": "stdout",
     "output_type": "stream",
     "text": [
      "{'epoch': 1, 'iter': 500, 'avg_loss': 1.6965228880712848, 'avg_acc': 54.147954091816366, 'loss': 1.7360414266586304}\n"
     ]
    },
    {
     "name": "stderr",
     "output_type": "stream",
     "text": [
      "EP_train:1:  55%|| 516/938 [00:12<00:10, 38.88it/s]"
     ]
    },
    {
     "name": "stdout",
     "output_type": "stream",
     "text": [
      "{'epoch': 1, 'iter': 510, 'avg_loss': 1.696604411895961, 'avg_acc': 54.25024461839531, 'loss': 1.8620798587799072}\n"
     ]
    },
    {
     "name": "stderr",
     "output_type": "stream",
     "text": [
      "EP_train:1:  56%|| 521/938 [00:13<00:10, 40.02it/s]"
     ]
    },
    {
     "name": "stdout",
     "output_type": "stream",
     "text": [
      "{'epoch': 1, 'iter': 520, 'avg_loss': 1.694127598101713, 'avg_acc': 54.25863723608445, 'loss': 1.4885516166687012}\n"
     ]
    },
    {
     "name": "stderr",
     "output_type": "stream",
     "text": [
      "EP_train:1:  57%|| 535/938 [00:13<00:11, 33.71it/s]"
     ]
    },
    {
     "name": "stdout",
     "output_type": "stream",
     "text": [
      "{'epoch': 1, 'iter': 530, 'avg_loss': 1.6935660315996734, 'avg_acc': 54.225517890772124, 'loss': 1.717856526374817}\n"
     ]
    },
    {
     "name": "stderr",
     "output_type": "stream",
     "text": [
      "EP_train:1:  58%|| 545/938 [00:13<00:10, 38.71it/s]"
     ]
    },
    {
     "name": "stdout",
     "output_type": "stream",
     "text": [
      "{'epoch': 1, 'iter': 540, 'avg_loss': 1.692374871090027, 'avg_acc': 54.22250462107209, 'loss': 1.569525957107544}\n"
     ]
    },
    {
     "name": "stderr",
     "output_type": "stream",
     "text": [
      "EP_train:1:  59%|| 555/938 [00:14<00:09, 40.53it/s]"
     ]
    },
    {
     "name": "stdout",
     "output_type": "stream",
     "text": [
      "{'epoch': 1, 'iter': 550, 'avg_loss': 1.6919014040657916, 'avg_acc': 54.34437386569873, 'loss': 1.7491704225540161}\n"
     ]
    },
    {
     "name": "stderr",
     "output_type": "stream",
     "text": [
      "EP_train:1:  61%|| 570/938 [00:14<00:08, 42.84it/s]"
     ]
    },
    {
     "name": "stdout",
     "output_type": "stream",
     "text": [
      "{'epoch': 1, 'iter': 560, 'avg_loss': 1.6921026817192582, 'avg_acc': 54.367201426024955, 'loss': 1.5810027122497559}\n"
     ]
    },
    {
     "name": "stderr",
     "output_type": "stream",
     "text": [
      "EP_train:1:  61%|| 575/938 [00:14<00:08, 42.11it/s]"
     ]
    },
    {
     "name": "stdout",
     "output_type": "stream",
     "text": [
      "{'epoch': 1, 'iter': 570, 'avg_loss': 1.691306828826196, 'avg_acc': 54.40564798598949, 'loss': 1.604967713356018}\n"
     ]
    },
    {
     "name": "stderr",
     "output_type": "stream",
     "text": [
      "EP_train:1:  62%|| 585/938 [00:14<00:08, 41.66it/s]"
     ]
    },
    {
     "name": "stdout",
     "output_type": "stream",
     "text": [
      "{'epoch': 1, 'iter': 580, 'avg_loss': 1.6911131832973068, 'avg_acc': 54.45890705679862, 'loss': 1.8725861310958862}\n"
     ]
    },
    {
     "name": "stderr",
     "output_type": "stream",
     "text": [
      "EP_train:1:  63%|| 595/938 [00:14<00:08, 41.39it/s]"
     ]
    },
    {
     "name": "stdout",
     "output_type": "stream",
     "text": [
      "{'epoch': 1, 'iter': 590, 'avg_loss': 1.6902208757884611, 'avg_acc': 54.46806260575296, 'loss': 1.7234039306640625}\n"
     ]
    },
    {
     "name": "stderr",
     "output_type": "stream",
     "text": [
      "EP_train:1:  64%|| 605/938 [00:15<00:08, 40.76it/s]"
     ]
    },
    {
     "name": "stdout",
     "output_type": "stream",
     "text": [
      "{'epoch': 1, 'iter': 600, 'avg_loss': 1.6906624798370082, 'avg_acc': 54.409317803660564, 'loss': 1.5491011142730713}\n"
     ]
    },
    {
     "name": "stderr",
     "output_type": "stream",
     "text": [
      "EP_train:1:  66%|| 615/938 [00:15<00:07, 41.60it/s]"
     ]
    },
    {
     "name": "stdout",
     "output_type": "stream",
     "text": [
      "{'epoch': 1, 'iter': 610, 'avg_loss': 1.687713820493358, 'avg_acc': 54.449672667757774, 'loss': 1.3973057270050049}\n"
     ]
    },
    {
     "name": "stderr",
     "output_type": "stream",
     "text": [
      "EP_train:1:  67%|| 625/938 [00:15<00:07, 40.89it/s]"
     ]
    },
    {
     "name": "stdout",
     "output_type": "stream",
     "text": [
      "{'epoch': 1, 'iter': 620, 'avg_loss': 1.687320991222793, 'avg_acc': 54.453502415458935, 'loss': 1.8465640544891357}\n"
     ]
    },
    {
     "name": "stderr",
     "output_type": "stream",
     "text": [
      "EP_train:1:  68%|| 635/938 [00:15<00:07, 41.98it/s]"
     ]
    },
    {
     "name": "stdout",
     "output_type": "stream",
     "text": [
      "{'epoch': 1, 'iter': 630, 'avg_loss': 1.6861564395166992, 'avg_acc': 54.39778129952456, 'loss': 1.4697160720825195}\n"
     ]
    },
    {
     "name": "stderr",
     "output_type": "stream",
     "text": [
      "EP_train:1:  69%|| 645/938 [00:16<00:06, 42.39it/s]"
     ]
    },
    {
     "name": "stdout",
     "output_type": "stream",
     "text": [
      "{'epoch': 1, 'iter': 640, 'avg_loss': 1.6855092706992734, 'avg_acc': 54.38767550702028, 'loss': 1.60500967502594}\n"
     ]
    },
    {
     "name": "stderr",
     "output_type": "stream",
     "text": [
      "EP_train:1:  69%|| 650/938 [00:16<00:06, 42.19it/s]"
     ]
    },
    {
     "name": "stdout",
     "output_type": "stream",
     "text": [
      "{'epoch': 1, 'iter': 650, 'avg_loss': 1.685153597877139, 'avg_acc': 54.421082949308754, 'loss': 1.7976487874984741}\n"
     ]
    },
    {
     "name": "stderr",
     "output_type": "stream",
     "text": [
      "EP_train:1:  71%|| 668/938 [00:16<00:07, 37.58it/s]"
     ]
    },
    {
     "name": "stdout",
     "output_type": "stream",
     "text": [
      "{'epoch': 1, 'iter': 660, 'avg_loss': 1.6840523775334437, 'avg_acc': 54.477118003025716, 'loss': 1.7512754201889038}\n"
     ]
    },
    {
     "name": "stderr",
     "output_type": "stream",
     "text": [
      "EP_train:1:  72%|| 678/938 [00:17<00:06, 40.55it/s]"
     ]
    },
    {
     "name": "stdout",
     "output_type": "stream",
     "text": [
      "{'epoch': 1, 'iter': 670, 'avg_loss': 1.6833507639818148, 'avg_acc': 54.4429955290611, 'loss': 1.5534968376159668}\n"
     ]
    },
    {
     "name": "stderr",
     "output_type": "stream",
     "text": [
      "EP_train:1:  73%|| 688/938 [00:17<00:05, 42.41it/s]"
     ]
    },
    {
     "name": "stdout",
     "output_type": "stream",
     "text": [
      "{'epoch': 1, 'iter': 680, 'avg_loss': 1.683271437664564, 'avg_acc': 54.39151982378855, 'loss': 1.650736689567566}\n"
     ]
    },
    {
     "name": "stderr",
     "output_type": "stream",
     "text": [
      "EP_train:1:  74%|| 698/938 [00:17<00:05, 42.50it/s]"
     ]
    },
    {
     "name": "stdout",
     "output_type": "stream",
     "text": [
      "{'epoch': 1, 'iter': 690, 'avg_loss': 1.682096051928276, 'avg_acc': 54.38223589001447, 'loss': 1.7083022594451904}\n"
     ]
    },
    {
     "name": "stderr",
     "output_type": "stream",
     "text": [
      "EP_train:1:  75%|| 708/938 [00:17<00:05, 41.22it/s]"
     ]
    },
    {
     "name": "stdout",
     "output_type": "stream",
     "text": [
      "{'epoch': 1, 'iter': 700, 'avg_loss': 1.6822350812536504, 'avg_acc': 54.42671184022825, 'loss': 1.3864210844039917}\n"
     ]
    },
    {
     "name": "stderr",
     "output_type": "stream",
     "text": [
      "EP_train:1:  77%|| 718/938 [00:18<00:05, 41.88it/s]"
     ]
    },
    {
     "name": "stdout",
     "output_type": "stream",
     "text": [
      "{'epoch': 1, 'iter': 710, 'avg_loss': 1.680464209215886, 'avg_acc': 54.53586497890295, 'loss': 1.4384297132492065}\n"
     ]
    },
    {
     "name": "stderr",
     "output_type": "stream",
     "text": [
      "EP_train:1:  78%|| 728/938 [00:18<00:04, 43.07it/s]"
     ]
    },
    {
     "name": "stdout",
     "output_type": "stream",
     "text": [
      "{'epoch': 1, 'iter': 720, 'avg_loss': 1.6797710243772699, 'avg_acc': 54.533633841886264, 'loss': 1.7397547960281372}\n"
     ]
    },
    {
     "name": "stderr",
     "output_type": "stream",
     "text": [
      "EP_train:1:  79%|| 738/938 [00:18<00:04, 43.40it/s]"
     ]
    },
    {
     "name": "stdout",
     "output_type": "stream",
     "text": [
      "{'epoch': 1, 'iter': 730, 'avg_loss': 1.6793441599599315, 'avg_acc': 54.58276333789329, 'loss': 1.7075234651565552}\n"
     ]
    },
    {
     "name": "stderr",
     "output_type": "stream",
     "text": [
      "EP_train:1:  80%|| 748/938 [00:18<00:04, 43.78it/s]"
     ]
    },
    {
     "name": "stdout",
     "output_type": "stream",
     "text": [
      "{'epoch': 1, 'iter': 740, 'avg_loss': 1.6789516627225476, 'avg_acc': 54.63900134952766, 'loss': 1.6033309698104858}\n"
     ]
    },
    {
     "name": "stderr",
     "output_type": "stream",
     "text": [
      "EP_train:1:  81%|| 758/938 [00:18<00:04, 43.48it/s]"
     ]
    },
    {
     "name": "stdout",
     "output_type": "stream",
     "text": [
      "{'epoch': 1, 'iter': 750, 'avg_loss': 1.678595150199616, 'avg_acc': 54.64796937416777, 'loss': 1.793999195098877}\n"
     ]
    },
    {
     "name": "stderr",
     "output_type": "stream",
     "text": [
      "EP_train:1:  81%|| 763/938 [00:19<00:04, 42.37it/s]"
     ]
    },
    {
     "name": "stdout",
     "output_type": "stream",
     "text": [
      "{'epoch': 1, 'iter': 760, 'avg_loss': 1.677472272934331, 'avg_acc': 54.61563731931669, 'loss': 1.6014076471328735}\n"
     ]
    },
    {
     "name": "stderr",
     "output_type": "stream",
     "text": [
      "EP_train:1:  83%|| 777/938 [00:19<00:04, 35.26it/s]"
     ]
    },
    {
     "name": "stdout",
     "output_type": "stream",
     "text": [
      "{'epoch': 1, 'iter': 770, 'avg_loss': 1.6776846821979172, 'avg_acc': 54.63278210116731, 'loss': 1.7582032680511475}\n"
     ]
    },
    {
     "name": "stderr",
     "output_type": "stream",
     "text": [
      "EP_train:1:  84%|| 787/938 [00:19<00:03, 38.82it/s]"
     ]
    },
    {
     "name": "stdout",
     "output_type": "stream",
     "text": [
      "{'epoch': 1, 'iter': 780, 'avg_loss': 1.6782933791071444, 'avg_acc': 54.6294814340589, 'loss': 1.7110737562179565}\n"
     ]
    },
    {
     "name": "stderr",
     "output_type": "stream",
     "text": [
      "EP_train:1:  85%|| 797/938 [00:20<00:03, 41.53it/s]"
     ]
    },
    {
     "name": "stdout",
     "output_type": "stream",
     "text": [
      "{'epoch': 1, 'iter': 790, 'avg_loss': 1.6775377181025433, 'avg_acc': 54.63811630847029, 'loss': 1.4208983182907104}\n"
     ]
    },
    {
     "name": "stderr",
     "output_type": "stream",
     "text": [
      "EP_train:1:  86%|| 807/938 [00:20<00:03, 42.55it/s]"
     ]
    },
    {
     "name": "stdout",
     "output_type": "stream",
     "text": [
      "{'epoch': 1, 'iter': 800, 'avg_loss': 1.677304413434718, 'avg_acc': 54.62312734082397, 'loss': 1.8412977457046509}\n"
     ]
    },
    {
     "name": "stderr",
     "output_type": "stream",
     "text": [
      "EP_train:1:  87%|| 817/938 [00:20<00:02, 43.21it/s]"
     ]
    },
    {
     "name": "stdout",
     "output_type": "stream",
     "text": [
      "{'epoch': 1, 'iter': 810, 'avg_loss': 1.6773691740341752, 'avg_acc': 54.54685573366215, 'loss': 1.6804639101028442}\n"
     ]
    },
    {
     "name": "stderr",
     "output_type": "stream",
     "text": [
      "EP_train:1:  88%|| 827/938 [00:20<00:02, 43.64it/s]"
     ]
    },
    {
     "name": "stdout",
     "output_type": "stream",
     "text": [
      "{'epoch': 1, 'iter': 820, 'avg_loss': 1.676401947505872, 'avg_acc': 54.5295371498173, 'loss': 1.6959984302520752}\n"
     ]
    },
    {
     "name": "stderr",
     "output_type": "stream",
     "text": [
      "EP_train:1:  89%|| 837/938 [00:20<00:02, 43.39it/s]"
     ]
    },
    {
     "name": "stdout",
     "output_type": "stream",
     "text": [
      "{'epoch': 1, 'iter': 830, 'avg_loss': 1.6744204862883805, 'avg_acc': 54.51263537906137, 'loss': 1.4960461854934692}\n"
     ]
    },
    {
     "name": "stderr",
     "output_type": "stream",
     "text": [
      "EP_train:1:  90%|| 847/938 [00:21<00:02, 42.54it/s]"
     ]
    },
    {
     "name": "stdout",
     "output_type": "stream",
     "text": [
      "{'epoch': 1, 'iter': 840, 'avg_loss': 1.6734488760248518, 'avg_acc': 54.525862068965516, 'loss': 1.6626919507980347}\n"
     ]
    },
    {
     "name": "stderr",
     "output_type": "stream",
     "text": [
      "EP_train:1:  91%|| 857/938 [00:21<00:01, 42.40it/s]"
     ]
    },
    {
     "name": "stdout",
     "output_type": "stream",
     "text": [
      "{'epoch': 1, 'iter': 850, 'avg_loss': 1.6723229368200874, 'avg_acc': 54.49838425381903, 'loss': 1.4532607793807983}\n"
     ]
    },
    {
     "name": "stderr",
     "output_type": "stream",
     "text": [
      "EP_train:1:  92%|| 867/938 [00:21<00:01, 43.54it/s]"
     ]
    },
    {
     "name": "stdout",
     "output_type": "stream",
     "text": [
      "{'epoch': 1, 'iter': 860, 'avg_loss': 1.671352769716553, 'avg_acc': 54.544134727061554, 'loss': 1.6513240337371826}\n"
     ]
    },
    {
     "name": "stderr",
     "output_type": "stream",
     "text": [
      "EP_train:1:  93%|| 872/938 [00:21<00:01, 43.29it/s]"
     ]
    },
    {
     "name": "stdout",
     "output_type": "stream",
     "text": [
      "{'epoch': 1, 'iter': 870, 'avg_loss': 1.6715310313808385, 'avg_acc': 54.50631458094145, 'loss': 1.5233895778656006}\n"
     ]
    },
    {
     "name": "stderr",
     "output_type": "stream",
     "text": [
      "EP_train:1:  94%|| 885/938 [00:22<00:01, 34.93it/s]"
     ]
    },
    {
     "name": "stdout",
     "output_type": "stream",
     "text": [
      "{'epoch': 1, 'iter': 880, 'avg_loss': 1.671404352658994, 'avg_acc': 54.51901248581158, 'loss': 1.5858290195465088}\n"
     ]
    },
    {
     "name": "stderr",
     "output_type": "stream",
     "text": [
      "EP_train:1:  96%|| 899/938 [00:22<00:00, 40.10it/s]"
     ]
    },
    {
     "name": "stdout",
     "output_type": "stream",
     "text": [
      "{'epoch': 1, 'iter': 890, 'avg_loss': 1.6702530860365707, 'avg_acc': 54.54545454545454, 'loss': 1.6131724119186401}\n"
     ]
    },
    {
     "name": "stderr",
     "output_type": "stream",
     "text": [
      "EP_train:1:  97%|| 909/938 [00:22<00:00, 41.22it/s]"
     ]
    },
    {
     "name": "stdout",
     "output_type": "stream",
     "text": [
      "{'epoch': 1, 'iter': 900, 'avg_loss': 1.6697834546240533, 'avg_acc': 54.54356270810211, 'loss': 1.6745901107788086}\n"
     ]
    },
    {
     "name": "stderr",
     "output_type": "stream",
     "text": [
      "EP_train:1:  98%|| 919/938 [00:23<00:00, 40.61it/s]"
     ]
    },
    {
     "name": "stdout",
     "output_type": "stream",
     "text": [
      "{'epoch': 1, 'iter': 910, 'avg_loss': 1.6685482915225065, 'avg_acc': 54.61717892425906, 'loss': 1.2794921398162842}\n"
     ]
    },
    {
     "name": "stderr",
     "output_type": "stream",
     "text": [
      "EP_train:1:  99%|| 924/938 [00:23<00:00, 38.21it/s]"
     ]
    },
    {
     "name": "stdout",
     "output_type": "stream",
     "text": [
      "{'epoch': 1, 'iter': 920, 'avg_loss': 1.6675468684537145, 'avg_acc': 54.60776330076005, 'loss': 1.4369733333587646}\n"
     ]
    },
    {
     "name": "stderr",
     "output_type": "stream",
     "text": [
      "EP_train:1: 100%|| 938/938 [00:23<00:00, 38.40it/s]"
     ]
    },
    {
     "name": "stdout",
     "output_type": "stream",
     "text": [
      "{'epoch': 1, 'iter': 930, 'avg_loss': 1.667873684496936, 'avg_acc': 54.5750537056928, 'loss': 1.414472222328186}\n"
     ]
    },
    {
     "name": "stderr",
     "output_type": "stream",
     "text": [
      "EP_train:1: 100%|| 938/938 [00:23<00:00, 39.89it/s]\n"
     ]
    },
    {
     "name": "stdout",
     "output_type": "stream",
     "text": [
      "EP1, train:             avg_loss=1.6679701695818383,             total_acc=54.57485828609536\n"
     ]
    },
    {
     "name": "stderr",
     "output_type": "stream",
     "text": [
      "EP_train:2:   0%|| 3/938 [00:00<00:31, 29.66it/s]"
     ]
    },
    {
     "name": "stdout",
     "output_type": "stream",
     "text": [
      "{'epoch': 2, 'iter': 0, 'avg_loss': 1.6517162322998047, 'avg_acc': 56.25, 'loss': 1.6517162322998047}\n"
     ]
    },
    {
     "name": "stderr",
     "output_type": "stream",
     "text": [
      "EP_train:2:   2%|| 15/938 [00:00<00:26, 35.31it/s]"
     ]
    },
    {
     "name": "stdout",
     "output_type": "stream",
     "text": [
      "{'epoch': 2, 'iter': 10, 'avg_loss': 1.6664556048133157, 'avg_acc': 55.68181818181818, 'loss': 1.488657832145691}\n"
     ]
    },
    {
     "name": "stderr",
     "output_type": "stream",
     "text": [
      "EP_train:2:   2%|| 23/938 [00:00<00:25, 36.42it/s]"
     ]
    },
    {
     "name": "stdout",
     "output_type": "stream",
     "text": [
      "{'epoch': 2, 'iter': 20, 'avg_loss': 1.6709580705279397, 'avg_acc': 56.99404761904761, 'loss': 1.7261468172073364}\n"
     ]
    },
    {
     "name": "stderr",
     "output_type": "stream",
     "text": [
      "EP_train:2:   4%|| 36/938 [00:01<00:29, 30.26it/s]"
     ]
    },
    {
     "name": "stdout",
     "output_type": "stream",
     "text": [
      "{'epoch': 2, 'iter': 30, 'avg_loss': 1.6735322321614912, 'avg_acc': 54.03225806451613, 'loss': 1.6460700035095215}\n"
     ]
    },
    {
     "name": "stderr",
     "output_type": "stream",
     "text": [
      "EP_train:2:   5%|| 46/938 [00:01<00:25, 35.54it/s]"
     ]
    },
    {
     "name": "stdout",
     "output_type": "stream",
     "text": [
      "{'epoch': 2, 'iter': 40, 'avg_loss': 1.6544550453744284, 'avg_acc': 54.11585365853659, 'loss': 1.4446946382522583}\n"
     ]
    },
    {
     "name": "stderr",
     "output_type": "stream",
     "text": [
      "EP_train:2:   6%|| 56/938 [00:01<00:22, 38.71it/s]"
     ]
    },
    {
     "name": "stdout",
     "output_type": "stream",
     "text": [
      "{'epoch': 2, 'iter': 50, 'avg_loss': 1.6333807543212293, 'avg_acc': 53.49264705882353, 'loss': 1.5790233612060547}\n"
     ]
    },
    {
     "name": "stderr",
     "output_type": "stream",
     "text": [
      "EP_train:2:   7%|| 66/938 [00:01<00:21, 40.50it/s]"
     ]
    },
    {
     "name": "stdout",
     "output_type": "stream",
     "text": [
      "{'epoch': 2, 'iter': 60, 'avg_loss': 1.6315047213288605, 'avg_acc': 53.893442622950815, 'loss': 1.5533157587051392}\n"
     ]
    },
    {
     "name": "stderr",
     "output_type": "stream",
     "text": [
      "EP_train:2:   8%|| 76/938 [00:02<00:20, 42.23it/s]"
     ]
    },
    {
     "name": "stdout",
     "output_type": "stream",
     "text": [
      "{'epoch': 2, 'iter': 70, 'avg_loss': 1.635789349045552, 'avg_acc': 54.445422535211264, 'loss': 1.5668977499008179}\n"
     ]
    },
    {
     "name": "stderr",
     "output_type": "stream",
     "text": [
      "EP_train:2:   9%|| 86/938 [00:02<00:19, 42.89it/s]"
     ]
    },
    {
     "name": "stdout",
     "output_type": "stream",
     "text": [
      "{'epoch': 2, 'iter': 80, 'avg_loss': 1.6249942514631484, 'avg_acc': 54.24382716049383, 'loss': 1.3431947231292725}\n"
     ]
    },
    {
     "name": "stderr",
     "output_type": "stream",
     "text": [
      "EP_train:2:  10%|| 97/938 [00:02<00:19, 43.89it/s]"
     ]
    },
    {
     "name": "stdout",
     "output_type": "stream",
     "text": [
      "{'epoch': 2, 'iter': 90, 'avg_loss': 1.626805617259099, 'avg_acc': 54.77335164835166, 'loss': 1.4945337772369385}\n"
     ]
    },
    {
     "name": "stderr",
     "output_type": "stream",
     "text": [
      "EP_train:2:  11%|| 107/938 [00:02<00:19, 43.57it/s]"
     ]
    },
    {
     "name": "stdout",
     "output_type": "stream",
     "text": [
      "{'epoch': 2, 'iter': 100, 'avg_loss': 1.6339253257996966, 'avg_acc': 54.88861386138614, 'loss': 1.8838331699371338}\n"
     ]
    },
    {
     "name": "stderr",
     "output_type": "stream",
     "text": [
      "EP_train:2:  12%|| 117/938 [00:03<00:19, 42.88it/s]"
     ]
    },
    {
     "name": "stdout",
     "output_type": "stream",
     "text": [
      "{'epoch': 2, 'iter': 110, 'avg_loss': 1.6294885970450737, 'avg_acc': 54.84234234234234, 'loss': 1.4924051761627197}\n"
     ]
    },
    {
     "name": "stderr",
     "output_type": "stream",
     "text": [
      "EP_train:2:  14%|| 127/938 [00:03<00:19, 42.26it/s]"
     ]
    },
    {
     "name": "stdout",
     "output_type": "stream",
     "text": [
      "{'epoch': 2, 'iter': 120, 'avg_loss': 1.6276786356918083, 'avg_acc': 54.82954545454546, 'loss': 1.6818970441818237}\n"
     ]
    },
    {
     "name": "stderr",
     "output_type": "stream",
     "text": [
      "EP_train:2:  15%|| 137/938 [00:03<00:18, 42.51it/s]"
     ]
    },
    {
     "name": "stdout",
     "output_type": "stream",
     "text": [
      "{'epoch': 2, 'iter': 130, 'avg_loss': 1.6283875849410778, 'avg_acc': 54.79484732824428, 'loss': 1.6640225648880005}\n"
     ]
    },
    {
     "name": "stderr",
     "output_type": "stream",
     "text": [
      "EP_train:2:  15%|| 142/938 [00:03<00:18, 42.39it/s]"
     ]
    },
    {
     "name": "stdout",
     "output_type": "stream",
     "text": [
      "{'epoch': 2, 'iter': 140, 'avg_loss': 1.630253458699436, 'avg_acc': 54.78723404255319, 'loss': 1.4922605752944946}\n"
     ]
    },
    {
     "name": "stderr",
     "output_type": "stream",
     "text": [
      "EP_train:2:  17%|| 156/938 [00:04<00:22, 35.44it/s]"
     ]
    },
    {
     "name": "stdout",
     "output_type": "stream",
     "text": [
      "{'epoch': 2, 'iter': 150, 'avg_loss': 1.6291978382906378, 'avg_acc': 54.90480132450332, 'loss': 1.558147668838501}\n"
     ]
    },
    {
     "name": "stderr",
     "output_type": "stream",
     "text": [
      "EP_train:2:  18%|| 165/938 [00:04<00:20, 37.09it/s]"
     ]
    },
    {
     "name": "stdout",
     "output_type": "stream",
     "text": [
      "{'epoch': 2, 'iter': 160, 'avg_loss': 1.6263410008471946, 'avg_acc': 54.98835403726709, 'loss': 1.7664488554000854}\n"
     ]
    },
    {
     "name": "stderr",
     "output_type": "stream",
     "text": [
      "EP_train:2:  19%|| 175/938 [00:04<00:19, 40.12it/s]"
     ]
    },
    {
     "name": "stdout",
     "output_type": "stream",
     "text": [
      "{'epoch': 2, 'iter': 170, 'avg_loss': 1.6236012937032689, 'avg_acc': 54.788011695906434, 'loss': 1.6406662464141846}\n"
     ]
    },
    {
     "name": "stderr",
     "output_type": "stream",
     "text": [
      "EP_train:2:  20%|| 185/938 [00:04<00:17, 42.40it/s]"
     ]
    },
    {
     "name": "stdout",
     "output_type": "stream",
     "text": [
      "{'epoch': 2, 'iter': 180, 'avg_loss': 1.6242506339405123, 'avg_acc': 54.851519337016576, 'loss': 1.5849870443344116}\n"
     ]
    },
    {
     "name": "stderr",
     "output_type": "stream",
     "text": [
      "EP_train:2:  21%|| 195/938 [00:05<00:17, 42.15it/s]"
     ]
    },
    {
     "name": "stdout",
     "output_type": "stream",
     "text": [
      "{'epoch': 2, 'iter': 190, 'avg_loss': 1.6216845144152017, 'avg_acc': 54.92473821989529, 'loss': 1.4797736406326294}\n"
     ]
    },
    {
     "name": "stderr",
     "output_type": "stream",
     "text": [
      "EP_train:2:  22%|| 205/938 [00:05<00:17, 42.19it/s]"
     ]
    },
    {
     "name": "stdout",
     "output_type": "stream",
     "text": [
      "{'epoch': 2, 'iter': 200, 'avg_loss': 1.622599454661507, 'avg_acc': 55.09950248756219, 'loss': 1.4992101192474365}\n"
     ]
    },
    {
     "name": "stderr",
     "output_type": "stream",
     "text": [
      "EP_train:2:  23%|| 215/938 [00:05<00:17, 42.25it/s]"
     ]
    },
    {
     "name": "stdout",
     "output_type": "stream",
     "text": [
      "{'epoch': 2, 'iter': 210, 'avg_loss': 1.6228150880732242, 'avg_acc': 55.07997630331754, 'loss': 1.90749192237854}\n"
     ]
    },
    {
     "name": "stderr",
     "output_type": "stream",
     "text": [
      "EP_train:2:  24%|| 225/938 [00:05<00:17, 41.87it/s]"
     ]
    },
    {
     "name": "stdout",
     "output_type": "stream",
     "text": [
      "{'epoch': 2, 'iter': 220, 'avg_loss': 1.6205126964128935, 'avg_acc': 55.04807692307693, 'loss': 1.4084419012069702}\n"
     ]
    },
    {
     "name": "stderr",
     "output_type": "stream",
     "text": [
      "EP_train:2:  26%|| 240/938 [00:06<00:16, 43.10it/s]"
     ]
    },
    {
     "name": "stdout",
     "output_type": "stream",
     "text": [
      "{'epoch': 2, 'iter': 230, 'avg_loss': 1.616761963088791, 'avg_acc': 55.086580086580085, 'loss': 1.643746018409729}\n"
     ]
    },
    {
     "name": "stderr",
     "output_type": "stream",
     "text": [
      "EP_train:2:  26%|| 245/938 [00:06<00:16, 42.26it/s]"
     ]
    },
    {
     "name": "stdout",
     "output_type": "stream",
     "text": [
      "{'epoch': 2, 'iter': 240, 'avg_loss': 1.6155807566345974, 'avg_acc': 55.18672199170125, 'loss': 1.6620938777923584}\n"
     ]
    },
    {
     "name": "stderr",
     "output_type": "stream",
     "text": [
      "EP_train:2:  27%|| 255/938 [00:06<00:15, 42.93it/s]"
     ]
    },
    {
     "name": "stdout",
     "output_type": "stream",
     "text": [
      "{'epoch': 2, 'iter': 250, 'avg_loss': 1.616226900146302, 'avg_acc': 55.216633466135455, 'loss': 1.498848795890808}\n"
     ]
    },
    {
     "name": "stderr",
     "output_type": "stream",
     "text": [
      "EP_train:2:  29%|| 270/938 [00:06<00:15, 43.72it/s]"
     ]
    },
    {
     "name": "stdout",
     "output_type": "stream",
     "text": [
      "{'epoch': 2, 'iter': 260, 'avg_loss': 1.6167875249723822, 'avg_acc': 55.196360153256705, 'loss': 1.7031859159469604}\n"
     ]
    },
    {
     "name": "stderr",
     "output_type": "stream",
     "text": [
      "EP_train:2:  29%|| 270/938 [00:06<00:15, 43.72it/s]"
     ]
    },
    {
     "name": "stdout",
     "output_type": "stream",
     "text": [
      "{'epoch': 2, 'iter': 270, 'avg_loss': 1.615867287030519, 'avg_acc': 55.362084870848705, 'loss': 1.8121055364608765}\n"
     ]
    },
    {
     "name": "stderr",
     "output_type": "stream",
     "text": [
      "EP_train:2:  31%|| 288/938 [00:07<00:17, 36.79it/s]"
     ]
    },
    {
     "name": "stdout",
     "output_type": "stream",
     "text": [
      "{'epoch': 2, 'iter': 280, 'avg_loss': 1.6153486517400504, 'avg_acc': 55.49377224199288, 'loss': 1.7168313264846802}\n"
     ]
    },
    {
     "name": "stderr",
     "output_type": "stream",
     "text": [
      "EP_train:2:  32%|| 297/938 [00:07<00:16, 39.46it/s]"
     ]
    },
    {
     "name": "stdout",
     "output_type": "stream",
     "text": [
      "{'epoch': 2, 'iter': 290, 'avg_loss': 1.6143964860857147, 'avg_acc': 55.466065292096225, 'loss': 1.5938420295715332}\n"
     ]
    },
    {
     "name": "stderr",
     "output_type": "stream",
     "text": [
      "EP_train:2:  33%|| 307/938 [00:07<00:15, 41.24it/s]"
     ]
    },
    {
     "name": "stdout",
     "output_type": "stream",
     "text": [
      "{'epoch': 2, 'iter': 300, 'avg_loss': 1.6123784839908941, 'avg_acc': 55.554401993355484, 'loss': 1.5988532304763794}\n"
     ]
    },
    {
     "name": "stderr",
     "output_type": "stream",
     "text": [
      "EP_train:2:  34%|| 317/938 [00:08<00:14, 41.45it/s]"
     ]
    },
    {
     "name": "stdout",
     "output_type": "stream",
     "text": [
      "{'epoch': 2, 'iter': 310, 'avg_loss': 1.614144810909627, 'avg_acc': 55.456189710610936, 'loss': 1.7609105110168457}\n"
     ]
    },
    {
     "name": "stderr",
     "output_type": "stream",
     "text": [
      "EP_train:2:  35%|| 327/938 [00:08<00:14, 42.35it/s]"
     ]
    },
    {
     "name": "stdout",
     "output_type": "stream",
     "text": [
      "{'epoch': 2, 'iter': 320, 'avg_loss': 1.6159462991904618, 'avg_acc': 55.39330218068535, 'loss': 1.4197262525558472}\n"
     ]
    },
    {
     "name": "stderr",
     "output_type": "stream",
     "text": [
      "EP_train:2:  36%|| 337/938 [00:08<00:14, 42.78it/s]"
     ]
    },
    {
     "name": "stdout",
     "output_type": "stream",
     "text": [
      "{'epoch': 2, 'iter': 330, 'avg_loss': 1.6144072411643775, 'avg_acc': 55.44750755287009, 'loss': 1.4093843698501587}\n"
     ]
    },
    {
     "name": "stderr",
     "output_type": "stream",
     "text": [
      "EP_train:2:  37%|| 347/938 [00:08<00:13, 43.58it/s]"
     ]
    },
    {
     "name": "stdout",
     "output_type": "stream",
     "text": [
      "{'epoch': 2, 'iter': 340, 'avg_loss': 1.6153285992809754, 'avg_acc': 55.56268328445748, 'loss': 1.7835993766784668}\n"
     ]
    },
    {
     "name": "stderr",
     "output_type": "stream",
     "text": [
      "EP_train:2:  38%|| 357/938 [00:08<00:13, 44.13it/s]"
     ]
    },
    {
     "name": "stdout",
     "output_type": "stream",
     "text": [
      "{'epoch': 2, 'iter': 350, 'avg_loss': 1.6149183606829738, 'avg_acc': 55.55555555555556, 'loss': 1.6417443752288818}\n"
     ]
    },
    {
     "name": "stderr",
     "output_type": "stream",
     "text": [
      "EP_train:2:  39%|| 367/938 [00:09<00:13, 43.67it/s]"
     ]
    },
    {
     "name": "stdout",
     "output_type": "stream",
     "text": [
      "{'epoch': 2, 'iter': 360, 'avg_loss': 1.6138255305567606, 'avg_acc': 55.661357340720215, 'loss': 1.6388047933578491}\n"
     ]
    },
    {
     "name": "stderr",
     "output_type": "stream",
     "text": [
      "EP_train:2:  40%|| 377/938 [00:09<00:12, 44.02it/s]"
     ]
    },
    {
     "name": "stdout",
     "output_type": "stream",
     "text": [
      "{'epoch': 2, 'iter': 370, 'avg_loss': 1.614208185126518, 'avg_acc': 55.54245283018868, 'loss': 1.4097431898117065}\n"
     ]
    },
    {
     "name": "stderr",
     "output_type": "stream",
     "text": [
      "EP_train:2:  41%|| 382/938 [00:09<00:12, 43.30it/s]"
     ]
    },
    {
     "name": "stdout",
     "output_type": "stream",
     "text": [
      "{'epoch': 2, 'iter': 380, 'avg_loss': 1.6145219978072198, 'avg_acc': 55.45439632545932, 'loss': 1.6803605556488037}\n"
     ]
    },
    {
     "name": "stderr",
     "output_type": "stream",
     "text": [
      "EP_train:2:  43%|| 400/938 [00:10<00:14, 38.03it/s]"
     ]
    },
    {
     "name": "stdout",
     "output_type": "stream",
     "text": [
      "{'epoch': 2, 'iter': 390, 'avg_loss': 1.6123190828601417, 'avg_acc': 55.24296675191815, 'loss': 1.5129858255386353}\n"
     ]
    },
    {
     "name": "stderr",
     "output_type": "stream",
     "text": [
      "EP_train:2:  43%|| 405/938 [00:10<00:14, 36.39it/s]"
     ]
    },
    {
     "name": "stdout",
     "output_type": "stream",
     "text": [
      "{'epoch': 2, 'iter': 400, 'avg_loss': 1.6116591772236433, 'avg_acc': 55.12001246882793, 'loss': 1.6656010150909424}\n"
     ]
    },
    {
     "name": "stderr",
     "output_type": "stream",
     "text": [
      "EP_train:2:  45%|| 418/938 [00:10<00:14, 36.69it/s]"
     ]
    },
    {
     "name": "stdout",
     "output_type": "stream",
     "text": [
      "{'epoch': 2, 'iter': 410, 'avg_loss': 1.611285694904281, 'avg_acc': 55.117092457420924, 'loss': 1.62300705909729}\n"
     ]
    },
    {
     "name": "stderr",
     "output_type": "stream",
     "text": [
      "EP_train:2:  45%|| 426/938 [00:10<00:13, 37.23it/s]"
     ]
    },
    {
     "name": "stdout",
     "output_type": "stream",
     "text": [
      "{'epoch': 2, 'iter': 420, 'avg_loss': 1.611014497251805, 'avg_acc': 55.225653206650826, 'loss': 1.4037293195724487}\n"
     ]
    },
    {
     "name": "stderr",
     "output_type": "stream",
     "text": [
      "EP_train:2:  46%|| 434/938 [00:11<00:14, 35.40it/s]"
     ]
    },
    {
     "name": "stdout",
     "output_type": "stream",
     "text": [
      "{'epoch': 2, 'iter': 430, 'avg_loss': 1.6095054257496881, 'avg_acc': 55.2784222737819, 'loss': 1.593589425086975}\n"
     ]
    },
    {
     "name": "stderr",
     "output_type": "stream",
     "text": [
      "EP_train:2:  48%|| 447/938 [00:11<00:12, 38.99it/s]"
     ]
    },
    {
     "name": "stdout",
     "output_type": "stream",
     "text": [
      "{'epoch': 2, 'iter': 440, 'avg_loss': 1.6097698684722659, 'avg_acc': 55.41383219954648, 'loss': 1.467342495918274}\n"
     ]
    },
    {
     "name": "stderr",
     "output_type": "stream",
     "text": [
      "EP_train:2:  49%|| 457/938 [00:11<00:11, 41.11it/s]"
     ]
    },
    {
     "name": "stdout",
     "output_type": "stream",
     "text": [
      "{'epoch': 2, 'iter': 450, 'avg_loss': 1.6108080775140394, 'avg_acc': 55.39772727272727, 'loss': 1.7009843587875366}\n"
     ]
    },
    {
     "name": "stderr",
     "output_type": "stream",
     "text": [
      "EP_train:2:  50%|| 467/938 [00:11<00:11, 42.70it/s]"
     ]
    },
    {
     "name": "stdout",
     "output_type": "stream",
     "text": [
      "{'epoch': 2, 'iter': 460, 'avg_loss': 1.61299037183443, 'avg_acc': 55.35520607375272, 'loss': 1.6611692905426025}\n"
     ]
    },
    {
     "name": "stderr",
     "output_type": "stream",
     "text": [
      "EP_train:2:  51%|| 477/938 [00:12<00:10, 44.10it/s]"
     ]
    },
    {
     "name": "stdout",
     "output_type": "stream",
     "text": [
      "{'epoch': 2, 'iter': 470, 'avg_loss': 1.611474119427351, 'avg_acc': 55.34102972399151, 'loss': 1.5686551332473755}\n"
     ]
    },
    {
     "name": "stderr",
     "output_type": "stream",
     "text": [
      "EP_train:2:  52%|| 487/938 [00:12<00:10, 42.86it/s]"
     ]
    },
    {
     "name": "stdout",
     "output_type": "stream",
     "text": [
      "{'epoch': 2, 'iter': 480, 'avg_loss': 1.6118627974991986, 'avg_acc': 55.41190228690228, 'loss': 1.8706910610198975}\n"
     ]
    },
    {
     "name": "stderr",
     "output_type": "stream",
     "text": [
      "EP_train:2:  53%|| 497/938 [00:12<00:10, 43.65it/s]"
     ]
    },
    {
     "name": "stdout",
     "output_type": "stream",
     "text": [
      "{'epoch': 2, 'iter': 490, 'avg_loss': 1.6116054878701018, 'avg_acc': 55.34623217922607, 'loss': 1.6016807556152344}\n"
     ]
    },
    {
     "name": "stderr",
     "output_type": "stream",
     "text": [
      "EP_train:2:  54%|| 502/938 [00:12<00:13, 31.46it/s]"
     ]
    },
    {
     "name": "stdout",
     "output_type": "stream",
     "text": [
      "{'epoch': 2, 'iter': 500, 'avg_loss': 1.6110573685811664, 'avg_acc': 55.32060878243513, 'loss': 1.6466171741485596}\n"
     ]
    },
    {
     "name": "stderr",
     "output_type": "stream",
     "text": [
      "EP_train:2:  55%|| 514/938 [00:13<00:12, 34.53it/s]"
     ]
    },
    {
     "name": "stdout",
     "output_type": "stream",
     "text": [
      "{'epoch': 2, 'iter': 510, 'avg_loss': 1.6093968159998466, 'avg_acc': 55.22260273972602, 'loss': 1.3799729347229004}\n"
     ]
    },
    {
     "name": "stderr",
     "output_type": "stream",
     "text": [
      "EP_train:2:  56%|| 527/938 [00:13<00:11, 35.43it/s]"
     ]
    },
    {
     "name": "stdout",
     "output_type": "stream",
     "text": [
      "{'epoch': 2, 'iter': 520, 'avg_loss': 1.6102207315631654, 'avg_acc': 55.22432821497121, 'loss': 1.8267571926116943}\n"
     ]
    },
    {
     "name": "stderr",
     "output_type": "stream",
     "text": [
      "EP_train:2:  57%|| 535/938 [00:13<00:11, 35.97it/s]"
     ]
    },
    {
     "name": "stdout",
     "output_type": "stream",
     "text": [
      "{'epoch': 2, 'iter': 530, 'avg_loss': 1.6082468073246843, 'avg_acc': 55.225988700564976, 'loss': 1.8148109912872314}\n"
     ]
    },
    {
     "name": "stderr",
     "output_type": "stream",
     "text": [
      "EP_train:2:  58%|| 547/938 [00:14<00:11, 35.12it/s]"
     ]
    },
    {
     "name": "stdout",
     "output_type": "stream",
     "text": [
      "{'epoch': 2, 'iter': 540, 'avg_loss': 1.6100124587854043, 'avg_acc': 55.198706099815155, 'loss': 1.8728883266448975}\n"
     ]
    },
    {
     "name": "stderr",
     "output_type": "stream",
     "text": [
      "EP_train:2:  59%|| 556/938 [00:14<00:10, 37.75it/s]"
     ]
    },
    {
     "name": "stdout",
     "output_type": "stream",
     "text": [
      "{'epoch': 2, 'iter': 550, 'avg_loss': 1.6089901545519405, 'avg_acc': 55.16107078039928, 'loss': 1.484190583229065}\n"
     ]
    },
    {
     "name": "stderr",
     "output_type": "stream",
     "text": [
      "EP_train:2:  60%|| 566/938 [00:14<00:09, 40.97it/s]"
     ]
    },
    {
     "name": "stdout",
     "output_type": "stream",
     "text": [
      "{'epoch': 2, 'iter': 560, 'avg_loss': 1.6085314995039806, 'avg_acc': 55.080213903743314, 'loss': 1.4701011180877686}\n"
     ]
    },
    {
     "name": "stderr",
     "output_type": "stream",
     "text": [
      "EP_train:2:  61%|| 576/938 [00:14<00:08, 41.35it/s]"
     ]
    },
    {
     "name": "stdout",
     "output_type": "stream",
     "text": [
      "{'epoch': 2, 'iter': 570, 'avg_loss': 1.6075257167298405, 'avg_acc': 55.111646234676, 'loss': 1.7189979553222656}\n"
     ]
    },
    {
     "name": "stderr",
     "output_type": "stream",
     "text": [
      "EP_train:2:  62%|| 586/938 [00:14<00:08, 42.54it/s]"
     ]
    },
    {
     "name": "stdout",
     "output_type": "stream",
     "text": [
      "{'epoch': 2, 'iter': 580, 'avg_loss': 1.607050807874092, 'avg_acc': 55.03442340791739, 'loss': 1.402443528175354}\n"
     ]
    },
    {
     "name": "stderr",
     "output_type": "stream",
     "text": [
      "EP_train:2:  64%|| 596/938 [00:15<00:08, 42.67it/s]"
     ]
    },
    {
     "name": "stdout",
     "output_type": "stream",
     "text": [
      "{'epoch': 2, 'iter': 590, 'avg_loss': 1.6059321098521275, 'avg_acc': 54.97038917089678, 'loss': 1.5043832063674927}\n"
     ]
    },
    {
     "name": "stderr",
     "output_type": "stream",
     "text": [
      "EP_train:2:  65%|| 606/938 [00:15<00:07, 42.49it/s]"
     ]
    },
    {
     "name": "stdout",
     "output_type": "stream",
     "text": [
      "{'epoch': 2, 'iter': 600, 'avg_loss': 1.6060507277680713, 'avg_acc': 54.97088186356073, 'loss': 1.454512596130371}\n"
     ]
    },
    {
     "name": "stderr",
     "output_type": "stream",
     "text": [
      "EP_train:2:  66%|| 616/938 [00:15<00:07, 42.86it/s]"
     ]
    },
    {
     "name": "stdout",
     "output_type": "stream",
     "text": [
      "{'epoch': 2, 'iter': 610, 'avg_loss': 1.6065093522766414, 'avg_acc': 54.961129296235676, 'loss': 1.6204689741134644}\n"
     ]
    },
    {
     "name": "stderr",
     "output_type": "stream",
     "text": [
      "EP_train:2:  66%|| 621/938 [00:15<00:07, 44.00it/s]"
     ]
    },
    {
     "name": "stdout",
     "output_type": "stream",
     "text": [
      "{'epoch': 2, 'iter': 620, 'avg_loss': 1.6056865716709992, 'avg_acc': 54.9164653784219, 'loss': 1.7142410278320312}\n"
     ]
    },
    {
     "name": "stderr",
     "output_type": "stream",
     "text": [
      "EP_train:2:  68%|| 635/938 [00:16<00:08, 35.49it/s]"
     ]
    },
    {
     "name": "stdout",
     "output_type": "stream",
     "text": [
      "{'epoch': 2, 'iter': 630, 'avg_loss': 1.6049523164655441, 'avg_acc': 54.83854992076069, 'loss': 1.6474932432174683}\n"
     ]
    },
    {
     "name": "stderr",
     "output_type": "stream",
     "text": [
      "EP_train:2:  69%|| 645/938 [00:16<00:07, 38.87it/s]"
     ]
    },
    {
     "name": "stdout",
     "output_type": "stream",
     "text": [
      "{'epoch': 2, 'iter': 640, 'avg_loss': 1.6040056404569034, 'avg_acc': 54.875195007800315, 'loss': 1.660292148590088}\n"
     ]
    },
    {
     "name": "stderr",
     "output_type": "stream",
     "text": [
      "EP_train:2:  70%|| 656/938 [00:16<00:06, 42.96it/s]"
     ]
    },
    {
     "name": "stdout",
     "output_type": "stream",
     "text": [
      "{'epoch': 2, 'iter': 650, 'avg_loss': 1.6039641319148918, 'avg_acc': 54.857910906298, 'loss': 1.8440269231796265}\n"
     ]
    },
    {
     "name": "stderr",
     "output_type": "stream",
     "text": [
      "EP_train:2:  71%|| 666/938 [00:16<00:05, 45.69it/s]"
     ]
    },
    {
     "name": "stdout",
     "output_type": "stream",
     "text": [
      "{'epoch': 2, 'iter': 660, 'avg_loss': 1.6038523194649217, 'avg_acc': 54.8553328290469, 'loss': 1.6715723276138306}\n"
     ]
    },
    {
     "name": "stderr",
     "output_type": "stream",
     "text": [
      "EP_train:2:  72%|| 676/938 [00:17<00:05, 46.61it/s]"
     ]
    },
    {
     "name": "stdout",
     "output_type": "stream",
     "text": [
      "{'epoch': 2, 'iter': 670, 'avg_loss': 1.6035314729068033, 'avg_acc': 54.843517138599104, 'loss': 1.353115200996399}\n"
     ]
    },
    {
     "name": "stderr",
     "output_type": "stream",
     "text": [
      "EP_train:2:  73%|| 686/938 [00:17<00:05, 47.45it/s]"
     ]
    },
    {
     "name": "stdout",
     "output_type": "stream",
     "text": [
      "{'epoch': 2, 'iter': 680, 'avg_loss': 1.6020838935994892, 'avg_acc': 54.868759177679884, 'loss': 1.779194951057434}\n"
     ]
    },
    {
     "name": "stderr",
     "output_type": "stream",
     "text": [
      "EP_train:2:  74%|| 697/938 [00:17<00:04, 48.24it/s]"
     ]
    },
    {
     "name": "stdout",
     "output_type": "stream",
     "text": [
      "{'epoch': 2, 'iter': 690, 'avg_loss': 1.6029020220084405, 'avg_acc': 54.88874819102749, 'loss': 1.91728937625885}\n"
     ]
    },
    {
     "name": "stderr",
     "output_type": "stream",
     "text": [
      "EP_train:2:  75%|| 707/938 [00:17<00:04, 47.75it/s]"
     ]
    },
    {
     "name": "stdout",
     "output_type": "stream",
     "text": [
      "{'epoch': 2, 'iter': 700, 'avg_loss': 1.6027155300009779, 'avg_acc': 54.85021398002853, 'loss': 1.624438762664795}\n"
     ]
    },
    {
     "name": "stderr",
     "output_type": "stream",
     "text": [
      "EP_train:2:  77%|| 718/938 [00:17<00:04, 48.75it/s]"
     ]
    },
    {
     "name": "stdout",
     "output_type": "stream",
     "text": [
      "{'epoch': 2, 'iter': 710, 'avg_loss': 1.6036585505669294, 'avg_acc': 54.78639240506329, 'loss': 1.7727800607681274}\n"
     ]
    },
    {
     "name": "stderr",
     "output_type": "stream",
     "text": [
      "EP_train:2:  78%|| 729/938 [00:18<00:04, 47.64it/s]"
     ]
    },
    {
     "name": "stdout",
     "output_type": "stream",
     "text": [
      "{'epoch': 2, 'iter': 720, 'avg_loss': 1.603384941361648, 'avg_acc': 54.841366158113736, 'loss': 1.5168167352676392}\n"
     ]
    },
    {
     "name": "stderr",
     "output_type": "stream",
     "text": [
      "EP_train:2:  79%|| 739/938 [00:18<00:04, 45.61it/s]"
     ]
    },
    {
     "name": "stdout",
     "output_type": "stream",
     "text": [
      "{'epoch': 2, 'iter': 730, 'avg_loss': 1.6033401048949902, 'avg_acc': 54.81361149110807, 'loss': 1.8672541379928589}\n"
     ]
    },
    {
     "name": "stderr",
     "output_type": "stream",
     "text": [
      "EP_train:2:  80%|| 749/938 [00:18<00:04, 45.84it/s]"
     ]
    },
    {
     "name": "stdout",
     "output_type": "stream",
     "text": [
      "{'epoch': 2, 'iter': 740, 'avg_loss': 1.60145154897018, 'avg_acc': 54.78660593792173, 'loss': 1.3580516576766968}\n"
     ]
    },
    {
     "name": "stderr",
     "output_type": "stream",
     "text": [
      "EP_train:2:  81%|| 759/938 [00:18<00:03, 46.20it/s]"
     ]
    },
    {
     "name": "stdout",
     "output_type": "stream",
     "text": [
      "{'epoch': 2, 'iter': 750, 'avg_loss': 1.6007579630129187, 'avg_acc': 54.739513981358186, 'loss': 1.6034988164901733}\n"
     ]
    },
    {
     "name": "stderr",
     "output_type": "stream",
     "text": [
      "EP_train:2:  82%|| 770/938 [00:19<00:03, 46.69it/s]"
     ]
    },
    {
     "name": "stdout",
     "output_type": "stream",
     "text": [
      "{'epoch': 2, 'iter': 760, 'avg_loss': 1.599722173618111, 'avg_acc': 54.76757555847569, 'loss': 1.7387690544128418}\n"
     ]
    },
    {
     "name": "stderr",
     "output_type": "stream",
     "text": [
      "EP_train:2:  83%|| 780/938 [00:19<00:03, 46.01it/s]"
     ]
    },
    {
     "name": "stdout",
     "output_type": "stream",
     "text": [
      "{'epoch': 2, 'iter': 770, 'avg_loss': 1.5984614258764938, 'avg_acc': 54.7057392996109, 'loss': 1.2800379991531372}\n"
     ]
    },
    {
     "name": "stderr",
     "output_type": "stream",
     "text": [
      "EP_train:2:  84%|| 790/938 [00:19<00:03, 45.58it/s]"
     ]
    },
    {
     "name": "stdout",
     "output_type": "stream",
     "text": [
      "{'epoch': 2, 'iter': 780, 'avg_loss': 1.5983131795778165, 'avg_acc': 54.68549935979513, 'loss': 1.4358183145523071}\n"
     ]
    },
    {
     "name": "stderr",
     "output_type": "stream",
     "text": [
      "EP_train:2:  84%|| 790/938 [00:19<00:03, 45.58it/s]"
     ]
    },
    {
     "name": "stdout",
     "output_type": "stream",
     "text": [
      "{'epoch': 2, 'iter': 790, 'avg_loss': 1.5971884227130566, 'avg_acc': 54.73293299620733, 'loss': 1.3865454196929932}\n"
     ]
    },
    {
     "name": "stderr",
     "output_type": "stream",
     "text": [
      "EP_train:2:  86%|| 809/938 [00:20<00:03, 39.38it/s]"
     ]
    },
    {
     "name": "stdout",
     "output_type": "stream",
     "text": [
      "{'epoch': 2, 'iter': 800, 'avg_loss': 1.5962024111575104, 'avg_acc': 54.74797128589264, 'loss': 1.311147928237915}\n"
     ]
    },
    {
     "name": "stderr",
     "output_type": "stream",
     "text": [
      "EP_train:2:  87%|| 819/938 [00:20<00:02, 42.76it/s]"
     ]
    },
    {
     "name": "stdout",
     "output_type": "stream",
     "text": [
      "{'epoch': 2, 'iter': 810, 'avg_loss': 1.5953098876555662, 'avg_acc': 54.731812577065355, 'loss': 1.548188328742981}\n"
     ]
    },
    {
     "name": "stderr",
     "output_type": "stream",
     "text": [
      "EP_train:2:  88%|| 830/938 [00:20<00:02, 45.67it/s]"
     ]
    },
    {
     "name": "stdout",
     "output_type": "stream",
     "text": [
      "{'epoch': 2, 'iter': 820, 'avg_loss': 1.594907583330784, 'avg_acc': 54.63992082825823, 'loss': 1.5473389625549316}\n"
     ]
    },
    {
     "name": "stderr",
     "output_type": "stream",
     "text": [
      "EP_train:2:  90%|| 840/938 [00:20<00:02, 46.31it/s]"
     ]
    },
    {
     "name": "stdout",
     "output_type": "stream",
     "text": [
      "{'epoch': 2, 'iter': 830, 'avg_loss': 1.5945603712658016, 'avg_acc': 54.62169073405535, 'loss': 1.6094598770141602}\n"
     ]
    },
    {
     "name": "stderr",
     "output_type": "stream",
     "text": [
      "EP_train:2:  90%|| 845/938 [00:20<00:02, 45.57it/s]"
     ]
    },
    {
     "name": "stdout",
     "output_type": "stream",
     "text": [
      "{'epoch': 2, 'iter': 840, 'avg_loss': 1.593956053186115, 'avg_acc': 54.59274673008323, 'loss': 1.5912213325500488}\n"
     ]
    },
    {
     "name": "stderr",
     "output_type": "stream",
     "text": [
      "EP_train:2:  91%|| 855/938 [00:21<00:01, 43.27it/s]"
     ]
    },
    {
     "name": "stdout",
     "output_type": "stream",
     "text": [
      "{'epoch': 2, 'iter': 850, 'avg_loss': 1.5943577484294476, 'avg_acc': 54.612220916568745, 'loss': 1.6655206680297852}\n"
     ]
    },
    {
     "name": "stderr",
     "output_type": "stream",
     "text": [
      "EP_train:2:  92%|| 865/938 [00:21<00:02, 36.19it/s]"
     ]
    },
    {
     "name": "stdout",
     "output_type": "stream",
     "text": [
      "{'epoch': 2, 'iter': 860, 'avg_loss': 1.5946281454704365, 'avg_acc': 54.60946573751452, 'loss': 1.5806125402450562}\n"
     ]
    },
    {
     "name": "stderr",
     "output_type": "stream",
     "text": [
      "EP_train:2:  94%|| 878/938 [00:21<00:01, 39.10it/s]"
     ]
    },
    {
     "name": "stdout",
     "output_type": "stream",
     "text": [
      "{'epoch': 2, 'iter': 870, 'avg_loss': 1.5944754168579416, 'avg_acc': 54.592422502870264, 'loss': 1.6990355253219604}\n"
     ]
    },
    {
     "name": "stderr",
     "output_type": "stream",
     "text": [
      "EP_train:2:  95%|| 888/938 [00:22<00:01, 40.19it/s]"
     ]
    },
    {
     "name": "stdout",
     "output_type": "stream",
     "text": [
      "{'epoch': 2, 'iter': 880, 'avg_loss': 1.593918985595227, 'avg_acc': 54.593501702610666, 'loss': 1.7115304470062256}\n"
     ]
    },
    {
     "name": "stderr",
     "output_type": "stream",
     "text": [
      "EP_train:2:  96%|| 898/938 [00:22<00:00, 42.63it/s]"
     ]
    },
    {
     "name": "stdout",
     "output_type": "stream",
     "text": [
      "{'epoch': 2, 'iter': 890, 'avg_loss': 1.5934919386466613, 'avg_acc': 54.60157126823793, 'loss': 1.5212759971618652}\n"
     ]
    },
    {
     "name": "stderr",
     "output_type": "stream",
     "text": [
      "EP_train:2:  97%|| 908/938 [00:22<00:00, 42.98it/s]"
     ]
    },
    {
     "name": "stdout",
     "output_type": "stream",
     "text": [
      "{'epoch': 2, 'iter': 900, 'avg_loss': 1.5934286054045987, 'avg_acc': 54.57477802441731, 'loss': 1.7169009447097778}\n"
     ]
    },
    {
     "name": "stderr",
     "output_type": "stream",
     "text": [
      "EP_train:2:  98%|| 918/938 [00:22<00:00, 40.54it/s]"
     ]
    },
    {
     "name": "stdout",
     "output_type": "stream",
     "text": [
      "{'epoch': 2, 'iter': 910, 'avg_loss': 1.5923973472398407, 'avg_acc': 54.56229418221734, 'loss': 1.6237579584121704}\n"
     ]
    },
    {
     "name": "stderr",
     "output_type": "stream",
     "text": [
      "EP_train:2:  99%|| 928/938 [00:23<00:00, 34.83it/s]"
     ]
    },
    {
     "name": "stdout",
     "output_type": "stream",
     "text": [
      "{'epoch': 2, 'iter': 920, 'avg_loss': 1.592190046393263, 'avg_acc': 54.590798045602604, 'loss': 1.3708627223968506}\n"
     ]
    },
    {
     "name": "stderr",
     "output_type": "stream",
     "text": [
      "EP_train:2: 100%|| 938/938 [00:23<00:00, 40.20it/s]\n"
     ]
    },
    {
     "name": "stdout",
     "output_type": "stream",
     "text": [
      "{'epoch': 2, 'iter': 930, 'avg_loss': 1.591719068210696, 'avg_acc': 54.53477443609023, 'loss': 1.4940118789672852}\n",
      "EP2, train:             avg_loss=1.5912940844035606,             total_acc=54.57485828609536\n"
     ]
    },
    {
     "name": "stderr",
     "output_type": "stream",
     "text": [
      "EP_train:3:   1%|| 10/938 [00:00<00:20, 45.49it/s]"
     ]
    },
    {
     "name": "stdout",
     "output_type": "stream",
     "text": [
      "{'epoch': 3, 'iter': 0, 'avg_loss': 1.4671257734298706, 'avg_acc': 40.625, 'loss': 1.4671257734298706}\n"
     ]
    },
    {
     "name": "stderr",
     "output_type": "stream",
     "text": [
      "EP_train:3:   2%|| 20/938 [00:00<00:19, 47.71it/s]"
     ]
    },
    {
     "name": "stdout",
     "output_type": "stream",
     "text": [
      "{'epoch': 3, 'iter': 10, 'avg_loss': 1.5985715280879627, 'avg_acc': 52.84090909090909, 'loss': 1.6733953952789307}\n"
     ]
    },
    {
     "name": "stderr",
     "output_type": "stream",
     "text": [
      "EP_train:3:   3%|| 25/938 [00:00<00:21, 43.10it/s]"
     ]
    },
    {
     "name": "stdout",
     "output_type": "stream",
     "text": [
      "{'epoch': 3, 'iter': 20, 'avg_loss': 1.5895490419296991, 'avg_acc': 52.083333333333336, 'loss': 1.640507698059082}\n"
     ]
    },
    {
     "name": "stderr",
     "output_type": "stream",
     "text": [
      "EP_train:3:   4%|| 40/938 [00:00<00:21, 42.74it/s]"
     ]
    },
    {
     "name": "stdout",
     "output_type": "stream",
     "text": [
      "{'epoch': 3, 'iter': 30, 'avg_loss': 1.5838136749882852, 'avg_acc': 52.62096774193549, 'loss': 1.5517845153808594}\n"
     ]
    },
    {
     "name": "stderr",
     "output_type": "stream",
     "text": [
      "EP_train:3:   5%|| 45/938 [00:01<00:20, 42.57it/s]"
     ]
    },
    {
     "name": "stdout",
     "output_type": "stream",
     "text": [
      "{'epoch': 3, 'iter': 40, 'avg_loss': 1.5652869067540982, 'avg_acc': 53.58231707317073, 'loss': 1.3598949909210205}\n"
     ]
    },
    {
     "name": "stderr",
     "output_type": "stream",
     "text": [
      "EP_train:3:   6%|| 54/938 [00:01<00:23, 38.02it/s]"
     ]
    },
    {
     "name": "stdout",
     "output_type": "stream",
     "text": [
      "{'epoch': 3, 'iter': 50, 'avg_loss': 1.5626939324771656, 'avg_acc': 52.879901960784316, 'loss': 1.4595110416412354}\n"
     ]
    },
    {
     "name": "stderr",
     "output_type": "stream",
     "text": [
      "EP_train:3:   7%|| 68/938 [00:01<00:23, 37.12it/s]"
     ]
    },
    {
     "name": "stdout",
     "output_type": "stream",
     "text": [
      "{'epoch': 3, 'iter': 60, 'avg_loss': 1.549126908427379, 'avg_acc': 53.38114754098361, 'loss': 1.4487801790237427}\n"
     ]
    },
    {
     "name": "stderr",
     "output_type": "stream",
     "text": [
      "EP_train:3:   8%|| 76/938 [00:01<00:23, 35.94it/s]"
     ]
    },
    {
     "name": "stdout",
     "output_type": "stream",
     "text": [
      "{'epoch': 3, 'iter': 70, 'avg_loss': 1.552482717473742, 'avg_acc': 52.948943661971825, 'loss': 1.85788094997406}\n"
     ]
    },
    {
     "name": "stderr",
     "output_type": "stream",
     "text": [
      "EP_train:3:   9%|| 84/938 [00:02<00:25, 33.39it/s]"
     ]
    },
    {
     "name": "stdout",
     "output_type": "stream",
     "text": [
      "{'epoch': 3, 'iter': 80, 'avg_loss': 1.5536033812864327, 'avg_acc': 52.9320987654321, 'loss': 1.485085129737854}\n"
     ]
    },
    {
     "name": "stderr",
     "output_type": "stream",
     "text": [
      "EP_train:3:  10%|| 96/938 [00:02<00:24, 34.11it/s]"
     ]
    },
    {
     "name": "stdout",
     "output_type": "stream",
     "text": [
      "{'epoch': 3, 'iter': 90, 'avg_loss': 1.548790482374338, 'avg_acc': 52.67857142857143, 'loss': 1.4863088130950928}\n"
     ]
    },
    {
     "name": "stderr",
     "output_type": "stream",
     "text": [
      "EP_train:3:  11%|| 106/938 [00:02<00:22, 37.37it/s]"
     ]
    },
    {
     "name": "stdout",
     "output_type": "stream",
     "text": [
      "{'epoch': 3, 'iter': 100, 'avg_loss': 1.5455154133315134, 'avg_acc': 52.53712871287129, 'loss': 1.500015377998352}\n"
     ]
    },
    {
     "name": "stderr",
     "output_type": "stream",
     "text": [
      "EP_train:3:  12%|| 114/938 [00:03<00:24, 33.64it/s]"
     ]
    },
    {
     "name": "stdout",
     "output_type": "stream",
     "text": [
      "{'epoch': 3, 'iter': 110, 'avg_loss': 1.5399544260523341, 'avg_acc': 52.702702702702695, 'loss': 1.437415599822998}\n"
     ]
    },
    {
     "name": "stderr",
     "output_type": "stream",
     "text": [
      "EP_train:3:  13%|| 125/938 [00:03<00:28, 28.42it/s]"
     ]
    },
    {
     "name": "stdout",
     "output_type": "stream",
     "text": [
      "{'epoch': 3, 'iter': 120, 'avg_loss': 1.5411737989788212, 'avg_acc': 53.25413223140496, 'loss': 1.5322930812835693}\n"
     ]
    },
    {
     "name": "stderr",
     "output_type": "stream",
     "text": [
      "EP_train:3:  15%|| 137/938 [00:03<00:24, 32.73it/s]"
     ]
    },
    {
     "name": "stdout",
     "output_type": "stream",
     "text": [
      "{'epoch': 3, 'iter': 130, 'avg_loss': 1.5411729858121799, 'avg_acc': 53.33969465648855, 'loss': 1.725231409072876}\n"
     ]
    },
    {
     "name": "stderr",
     "output_type": "stream",
     "text": [
      "EP_train:3:  15%|| 145/938 [00:04<00:23, 33.48it/s]"
     ]
    },
    {
     "name": "stdout",
     "output_type": "stream",
     "text": [
      "{'epoch': 3, 'iter': 140, 'avg_loss': 1.5475624546091606, 'avg_acc': 53.435283687943254, 'loss': 1.6568907499313354}\n"
     ]
    },
    {
     "name": "stderr",
     "output_type": "stream",
     "text": [
      "EP_train:3:  16%|| 153/938 [00:04<00:24, 31.52it/s]"
     ]
    },
    {
     "name": "stdout",
     "output_type": "stream",
     "text": [
      "{'epoch': 3, 'iter': 150, 'avg_loss': 1.5457690046323056, 'avg_acc': 53.331953642384114, 'loss': 1.4894769191741943}\n"
     ]
    },
    {
     "name": "stderr",
     "output_type": "stream",
     "text": [
      "EP_train:3:  18%|| 165/938 [00:04<00:24, 31.13it/s]"
     ]
    },
    {
     "name": "stdout",
     "output_type": "stream",
     "text": [
      "{'epoch': 3, 'iter': 160, 'avg_loss': 1.544523701164293, 'avg_acc': 53.62965838509317, 'loss': 1.560511589050293}\n"
     ]
    },
    {
     "name": "stderr",
     "output_type": "stream",
     "text": [
      "EP_train:3:  19%|| 177/938 [00:05<00:23, 32.01it/s]"
     ]
    },
    {
     "name": "stdout",
     "output_type": "stream",
     "text": [
      "{'epoch': 3, 'iter': 170, 'avg_loss': 1.5456124355918484, 'avg_acc': 54.038742690058484, 'loss': 1.7516038417816162}\n"
     ]
    },
    {
     "name": "stderr",
     "output_type": "stream",
     "text": [
      "EP_train:3:  20%|| 185/938 [00:05<00:22, 34.23it/s]"
     ]
    },
    {
     "name": "stdout",
     "output_type": "stream",
     "text": [
      "{'epoch': 3, 'iter': 180, 'avg_loss': 1.5427635829093047, 'avg_acc': 54.29903314917127, 'loss': 1.6095894575119019}\n"
     ]
    },
    {
     "name": "stderr",
     "output_type": "stream",
     "text": [
      "EP_train:3:  21%|| 197/938 [00:05<00:20, 35.73it/s]"
     ]
    },
    {
     "name": "stdout",
     "output_type": "stream",
     "text": [
      "{'epoch': 3, 'iter': 190, 'avg_loss': 1.5430054689577113, 'avg_acc': 54.05759162303665, 'loss': 1.7742414474487305}\n"
     ]
    },
    {
     "name": "stderr",
     "output_type": "stream",
     "text": [
      "EP_train:3:  22%|| 205/938 [00:05<00:19, 36.86it/s]"
     ]
    },
    {
     "name": "stdout",
     "output_type": "stream",
     "text": [
      "{'epoch': 3, 'iter': 200, 'avg_loss': 1.5425341686799159, 'avg_acc': 54.07338308457711, 'loss': 1.5161771774291992}\n"
     ]
    },
    {
     "name": "stderr",
     "output_type": "stream",
     "text": [
      "EP_train:3:  23%|| 217/938 [00:06<00:19, 37.06it/s]"
     ]
    },
    {
     "name": "stdout",
     "output_type": "stream",
     "text": [
      "{'epoch': 3, 'iter': 210, 'avg_loss': 1.5469529769996897, 'avg_acc': 54.11729857819905, 'loss': 1.6628228425979614}\n"
     ]
    },
    {
     "name": "stderr",
     "output_type": "stream",
     "text": [
      "EP_train:3:  24%|| 225/938 [00:06<00:19, 37.22it/s]"
     ]
    },
    {
     "name": "stdout",
     "output_type": "stream",
     "text": [
      "{'epoch': 3, 'iter': 220, 'avg_loss': 1.5458415816811955, 'avg_acc': 54.08653846153846, 'loss': 1.4932982921600342}\n"
     ]
    },
    {
     "name": "stderr",
     "output_type": "stream",
     "text": [
      "EP_train:3:  25%|| 230/938 [00:06<00:18, 38.58it/s]"
     ]
    },
    {
     "name": "stdout",
     "output_type": "stream",
     "text": [
      "{'epoch': 3, 'iter': 230, 'avg_loss': 1.5450998730473704, 'avg_acc': 54.193722943722946, 'loss': 1.5771876573562622}\n"
     ]
    },
    {
     "name": "stderr",
     "output_type": "stream",
     "text": [
      "EP_train:3:  26%|| 246/938 [00:07<00:23, 29.70it/s]"
     ]
    },
    {
     "name": "stdout",
     "output_type": "stream",
     "text": [
      "{'epoch': 3, 'iter': 240, 'avg_loss': 1.5452257914167222, 'avg_acc': 54.09751037344398, 'loss': 1.7378835678100586}\n"
     ]
    },
    {
     "name": "stderr",
     "output_type": "stream",
     "text": [
      "EP_train:3:  27%|| 254/938 [00:07<00:22, 30.20it/s]"
     ]
    },
    {
     "name": "stdout",
     "output_type": "stream",
     "text": [
      "{'epoch': 3, 'iter': 250, 'avg_loss': 1.5471290273970342, 'avg_acc': 54.14591633466136, 'loss': 1.4332075119018555}\n"
     ]
    },
    {
     "name": "stderr",
     "output_type": "stream",
     "text": [
      "EP_train:3:  28%|| 266/938 [00:07<00:20, 32.99it/s]"
     ]
    },
    {
     "name": "stdout",
     "output_type": "stream",
     "text": [
      "{'epoch': 3, 'iter': 260, 'avg_loss': 1.5430291612486273, 'avg_acc': 54.11877394636016, 'loss': 1.3194090127944946}\n"
     ]
    },
    {
     "name": "stderr",
     "output_type": "stream",
     "text": [
      "EP_train:3:  29%|| 274/938 [00:07<00:19, 33.81it/s]"
     ]
    },
    {
     "name": "stdout",
     "output_type": "stream",
     "text": [
      "{'epoch': 3, 'iter': 270, 'avg_loss': 1.5446907110319805, 'avg_acc': 54.19741697416974, 'loss': 1.4824020862579346}\n"
     ]
    },
    {
     "name": "stderr",
     "output_type": "stream",
     "text": [
      "EP_train:3:  30%|| 286/938 [00:08<00:20, 32.48it/s]"
     ]
    },
    {
     "name": "stdout",
     "output_type": "stream",
     "text": [
      "{'epoch': 3, 'iter': 280, 'avg_loss': 1.5444476634157933, 'avg_acc': 54.270462633451956, 'loss': 1.733058214187622}\n"
     ]
    },
    {
     "name": "stderr",
     "output_type": "stream",
     "text": [
      "EP_train:3:  32%|| 296/938 [00:08<00:17, 36.51it/s]"
     ]
    },
    {
     "name": "stdout",
     "output_type": "stream",
     "text": [
      "{'epoch': 3, 'iter': 290, 'avg_loss': 1.5416812216703015, 'avg_acc': 54.32774914089347, 'loss': 1.2557791471481323}\n"
     ]
    },
    {
     "name": "stderr",
     "output_type": "stream",
     "text": [
      "EP_train:3:  32%|| 304/938 [00:08<00:19, 32.80it/s]"
     ]
    },
    {
     "name": "stdout",
     "output_type": "stream",
     "text": [
      "{'epoch': 3, 'iter': 300, 'avg_loss': 1.541496903001272, 'avg_acc': 54.42275747508306, 'loss': 1.5084779262542725}\n"
     ]
    },
    {
     "name": "stderr",
     "output_type": "stream",
     "text": [
      "EP_train:3:  34%|| 315/938 [00:09<00:21, 28.44it/s]"
     ]
    },
    {
     "name": "stdout",
     "output_type": "stream",
     "text": [
      "{'epoch': 3, 'iter': 310, 'avg_loss': 1.5420079691233741, 'avg_acc': 54.36093247588425, 'loss': 1.520819902420044}\n"
     ]
    },
    {
     "name": "stderr",
     "output_type": "stream",
     "text": [
      "EP_train:3:  34%|| 322/938 [00:09<00:29, 21.19it/s]"
     ]
    },
    {
     "name": "stdout",
     "output_type": "stream",
     "text": [
      "{'epoch': 3, 'iter': 320, 'avg_loss': 1.545117934544881, 'avg_acc': 54.30295950155764, 'loss': 1.4939948320388794}\n"
     ]
    },
    {
     "name": "stderr",
     "output_type": "stream",
     "text": [
      "EP_train:3:  36%|| 335/938 [00:10<00:21, 27.49it/s]"
     ]
    },
    {
     "name": "stdout",
     "output_type": "stream",
     "text": [
      "{'epoch': 3, 'iter': 330, 'avg_loss': 1.545489298252901, 'avg_acc': 54.541163141993955, 'loss': 1.4022117853164673}\n"
     ]
    },
    {
     "name": "stderr",
     "output_type": "stream",
     "text": [
      "EP_train:3:  37%|| 347/938 [00:10<00:17, 33.17it/s]"
     ]
    },
    {
     "name": "stdout",
     "output_type": "stream",
     "text": [
      "{'epoch': 3, 'iter': 340, 'avg_loss': 1.546581984265459, 'avg_acc': 54.53629032258065, 'loss': 1.7410107851028442}\n"
     ]
    },
    {
     "name": "stderr",
     "output_type": "stream",
     "text": [
      "EP_train:3:  38%|| 355/938 [00:10<00:16, 35.49it/s]"
     ]
    },
    {
     "name": "stdout",
     "output_type": "stream",
     "text": [
      "{'epoch': 3, 'iter': 350, 'avg_loss': 1.54786297636494, 'avg_acc': 54.60292022792023, 'loss': 1.560758352279663}\n"
     ]
    },
    {
     "name": "stderr",
     "output_type": "stream",
     "text": [
      "EP_train:3:  39%|| 365/938 [00:10<00:14, 38.95it/s]"
     ]
    },
    {
     "name": "stdout",
     "output_type": "stream",
     "text": [
      "{'epoch': 3, 'iter': 360, 'avg_loss': 1.5451396690511308, 'avg_acc': 54.72645429362881, 'loss': 1.4339810609817505}\n"
     ]
    },
    {
     "name": "stderr",
     "output_type": "stream",
     "text": [
      "EP_train:3:  41%|| 380/938 [00:11<00:13, 42.03it/s]"
     ]
    },
    {
     "name": "stdout",
     "output_type": "stream",
     "text": [
      "{'epoch': 3, 'iter': 370, 'avg_loss': 1.5439787736800161, 'avg_acc': 54.725404312668466, 'loss': 1.6148918867111206}\n"
     ]
    },
    {
     "name": "stderr",
     "output_type": "stream",
     "text": [
      "EP_train:3:  42%|| 390/938 [00:11<00:12, 43.53it/s]"
     ]
    },
    {
     "name": "stdout",
     "output_type": "stream",
     "text": [
      "{'epoch': 3, 'iter': 380, 'avg_loss': 1.5445167211097057, 'avg_acc': 54.765419947506565, 'loss': 1.4278477430343628}\n"
     ]
    },
    {
     "name": "stderr",
     "output_type": "stream",
     "text": [
      "EP_train:3:  42%|| 395/938 [00:11<00:12, 42.21it/s]"
     ]
    },
    {
     "name": "stdout",
     "output_type": "stream",
     "text": [
      "{'epoch': 3, 'iter': 390, 'avg_loss': 1.5447922609651181, 'avg_acc': 54.65153452685422, 'loss': 1.425358772277832}\n"
     ]
    },
    {
     "name": "stderr",
     "output_type": "stream",
     "text": [
      "EP_train:3:  43%|| 405/938 [00:11<00:13, 40.80it/s]"
     ]
    },
    {
     "name": "stdout",
     "output_type": "stream",
     "text": [
      "{'epoch': 3, 'iter': 400, 'avg_loss': 1.545222168848699, 'avg_acc': 54.77711970074813, 'loss': 1.475011944770813}\n"
     ]
    },
    {
     "name": "stderr",
     "output_type": "stream",
     "text": [
      "EP_train:3:  45%|| 420/938 [00:12<00:11, 43.77it/s]"
     ]
    },
    {
     "name": "stdout",
     "output_type": "stream",
     "text": [
      "{'epoch': 3, 'iter': 410, 'avg_loss': 1.54627030696312, 'avg_acc': 54.73692214111922, 'loss': 1.7397102117538452}\n"
     ]
    },
    {
     "name": "stderr",
     "output_type": "stream",
     "text": [
      "EP_train:3:  46%|| 430/938 [00:12<00:11, 45.55it/s]"
     ]
    },
    {
     "name": "stdout",
     "output_type": "stream",
     "text": [
      "{'epoch': 3, 'iter': 420, 'avg_loss': 1.5454493472242015, 'avg_acc': 54.67636579572447, 'loss': 1.4874402284622192}\n"
     ]
    },
    {
     "name": "stderr",
     "output_type": "stream",
     "text": [
      "EP_train:3:  47%|| 440/938 [00:12<00:10, 45.49it/s]"
     ]
    },
    {
     "name": "stdout",
     "output_type": "stream",
     "text": [
      "{'epoch': 3, 'iter': 430, 'avg_loss': 1.5446353312711427, 'avg_acc': 54.64037122969838, 'loss': 1.6167120933532715}\n"
     ]
    },
    {
     "name": "stderr",
     "output_type": "stream",
     "text": [
      "EP_train:3:  47%|| 445/938 [00:12<00:10, 45.75it/s]"
     ]
    },
    {
     "name": "stdout",
     "output_type": "stream",
     "text": [
      "{'epoch': 3, 'iter': 440, 'avg_loss': 1.5428582721826982, 'avg_acc': 54.556405895691604, 'loss': 1.4961826801300049}\n"
     ]
    },
    {
     "name": "stderr",
     "output_type": "stream",
     "text": [
      "EP_train:3:  49%|| 456/938 [00:12<00:10, 45.75it/s]"
     ]
    },
    {
     "name": "stdout",
     "output_type": "stream",
     "text": [
      "{'epoch': 3, 'iter': 450, 'avg_loss': 1.542068381795862, 'avg_acc': 54.55238359201774, 'loss': 1.2570644617080688}\n"
     ]
    },
    {
     "name": "stderr",
     "output_type": "stream",
     "text": [
      "EP_train:3:  50%|| 466/938 [00:13<00:10, 44.75it/s]"
     ]
    },
    {
     "name": "stdout",
     "output_type": "stream",
     "text": [
      "{'epoch': 3, 'iter': 460, 'avg_loss': 1.5441759899743468, 'avg_acc': 54.62310195227765, 'loss': 1.6406313180923462}\n"
     ]
    },
    {
     "name": "stderr",
     "output_type": "stream",
     "text": [
      "EP_train:3:  50%|| 471/938 [00:13<00:10, 44.65it/s]"
     ]
    },
    {
     "name": "stdout",
     "output_type": "stream",
     "text": [
      "{'epoch': 3, 'iter': 470, 'avg_loss': 1.5441513132390956, 'avg_acc': 54.61119957537155, 'loss': 1.588942050933838}\n"
     ]
    },
    {
     "name": "stderr",
     "output_type": "stream",
     "text": [
      "EP_train:3:  52%|| 484/938 [00:13<00:13, 33.91it/s]"
     ]
    },
    {
     "name": "stdout",
     "output_type": "stream",
     "text": [
      "{'epoch': 3, 'iter': 480, 'avg_loss': 1.543432553443988, 'avg_acc': 54.57380457380457, 'loss': 1.696169137954712}\n"
     ]
    },
    {
     "name": "stderr",
     "output_type": "stream",
     "text": [
      "EP_train:3:  53%|| 497/938 [00:14<00:11, 37.46it/s]"
     ]
    },
    {
     "name": "stdout",
     "output_type": "stream",
     "text": [
      "{'epoch': 3, 'iter': 490, 'avg_loss': 1.542740637561697, 'avg_acc': 54.60157841140529, 'loss': 1.420823097229004}\n"
     ]
    },
    {
     "name": "stderr",
     "output_type": "stream",
     "text": [
      "EP_train:3:  54%|| 506/938 [00:14<00:11, 38.84it/s]"
     ]
    },
    {
     "name": "stdout",
     "output_type": "stream",
     "text": [
      "{'epoch': 3, 'iter': 500, 'avg_loss': 1.5403552274266166, 'avg_acc': 54.62200598802395, 'loss': 1.5991119146347046}\n"
     ]
    },
    {
     "name": "stderr",
     "output_type": "stream",
     "text": [
      "EP_train:3:  55%|| 516/938 [00:14<00:10, 41.27it/s]"
     ]
    },
    {
     "name": "stdout",
     "output_type": "stream",
     "text": [
      "{'epoch': 3, 'iter': 510, 'avg_loss': 1.5402804986371452, 'avg_acc': 54.635518590998046, 'loss': 1.8429198265075684}\n"
     ]
    },
    {
     "name": "stderr",
     "output_type": "stream",
     "text": [
      "EP_train:3:  56%|| 525/938 [00:14<00:11, 36.81it/s]"
     ]
    },
    {
     "name": "stdout",
     "output_type": "stream",
     "text": [
      "{'epoch': 3, 'iter': 520, 'avg_loss': 1.5403769503628224, 'avg_acc': 54.64851247600768, 'loss': 1.6343151330947876}\n"
     ]
    },
    {
     "name": "stderr",
     "output_type": "stream",
     "text": [
      "EP_train:3:  57%|| 538/938 [00:15<00:10, 39.93it/s]"
     ]
    },
    {
     "name": "stdout",
     "output_type": "stream",
     "text": [
      "{'epoch': 3, 'iter': 530, 'avg_loss': 1.540206767969437, 'avg_acc': 54.60216572504708, 'loss': 1.5525819063186646}\n"
     ]
    },
    {
     "name": "stderr",
     "output_type": "stream",
     "text": [
      "EP_train:3:  58%|| 548/938 [00:15<00:09, 40.75it/s]"
     ]
    },
    {
     "name": "stdout",
     "output_type": "stream",
     "text": [
      "{'epoch': 3, 'iter': 540, 'avg_loss': 1.538590533235377, 'avg_acc': 54.55753234750462, 'loss': 1.619120717048645}\n"
     ]
    },
    {
     "name": "stderr",
     "output_type": "stream",
     "text": [
      "EP_train:3:  59%|| 558/938 [00:15<00:08, 42.41it/s]"
     ]
    },
    {
     "name": "stdout",
     "output_type": "stream",
     "text": [
      "{'epoch': 3, 'iter': 550, 'avg_loss': 1.5385469873241417, 'avg_acc': 54.497504537205074, 'loss': 1.5753408670425415}\n"
     ]
    },
    {
     "name": "stderr",
     "output_type": "stream",
     "text": [
      "EP_train:3:  61%|| 568/938 [00:15<00:08, 41.70it/s]"
     ]
    },
    {
     "name": "stdout",
     "output_type": "stream",
     "text": [
      "{'epoch': 3, 'iter': 560, 'avg_loss': 1.537187605193167, 'avg_acc': 54.48418003565062, 'loss': 1.597722053527832}\n"
     ]
    },
    {
     "name": "stderr",
     "output_type": "stream",
     "text": [
      "EP_train:3:  62%|| 577/938 [00:16<00:09, 36.96it/s]"
     ]
    },
    {
     "name": "stdout",
     "output_type": "stream",
     "text": [
      "{'epoch': 3, 'iter': 570, 'avg_loss': 1.5373477188384261, 'avg_acc': 54.53152364273205, 'loss': 1.5265167951583862}\n"
     ]
    },
    {
     "name": "stderr",
     "output_type": "stream",
     "text": [
      "EP_train:3:  62%|| 585/938 [00:16<00:09, 36.50it/s]"
     ]
    },
    {
     "name": "stdout",
     "output_type": "stream",
     "text": [
      "{'epoch': 3, 'iter': 580, 'avg_loss': 1.536531992089933, 'avg_acc': 54.48580034423408, 'loss': 1.5833088159561157}\n"
     ]
    },
    {
     "name": "stderr",
     "output_type": "stream",
     "text": [
      "EP_train:3:  64%|| 598/938 [00:16<00:09, 37.64it/s]"
     ]
    },
    {
     "name": "stdout",
     "output_type": "stream",
     "text": [
      "{'epoch': 3, 'iter': 590, 'avg_loss': 1.5353739894989582, 'avg_acc': 54.483925549915405, 'loss': 1.3990795612335205}\n"
     ]
    },
    {
     "name": "stderr",
     "output_type": "stream",
     "text": [
      "EP_train:3:  65%|| 607/938 [00:17<00:11, 29.42it/s]"
     ]
    },
    {
     "name": "stdout",
     "output_type": "stream",
     "text": [
      "{'epoch': 3, 'iter': 600, 'avg_loss': 1.534804619489216, 'avg_acc': 54.48731281198004, 'loss': 1.6793231964111328}\n"
     ]
    },
    {
     "name": "stderr",
     "output_type": "stream",
     "text": [
      "EP_train:3:  66%|| 615/938 [00:17<00:09, 33.49it/s]"
     ]
    },
    {
     "name": "stdout",
     "output_type": "stream",
     "text": [
      "{'epoch': 3, 'iter': 610, 'avg_loss': 1.5360775448491648, 'avg_acc': 54.53150572831424, 'loss': 1.754075527191162}\n"
     ]
    },
    {
     "name": "stderr",
     "output_type": "stream",
     "text": [
      "EP_train:3:  67%|| 630/938 [00:17<00:07, 41.53it/s]"
     ]
    },
    {
     "name": "stdout",
     "output_type": "stream",
     "text": [
      "{'epoch': 3, 'iter': 620, 'avg_loss': 1.5358514215635217, 'avg_acc': 54.483695652173914, 'loss': 1.2107194662094116}\n"
     ]
    },
    {
     "name": "stderr",
     "output_type": "stream",
     "text": [
      "EP_train:3:  68%|| 635/938 [00:17<00:07, 39.47it/s]"
     ]
    },
    {
     "name": "stdout",
     "output_type": "stream",
     "text": [
      "{'epoch': 3, 'iter': 630, 'avg_loss': 1.535831610865525, 'avg_acc': 54.54140253565769, 'loss': 1.3354368209838867}\n"
     ]
    },
    {
     "name": "stderr",
     "output_type": "stream",
     "text": [
      "EP_train:3:  69%|| 644/938 [00:18<00:07, 38.13it/s]"
     ]
    },
    {
     "name": "stdout",
     "output_type": "stream",
     "text": [
      "{'epoch': 3, 'iter': 640, 'avg_loss': 1.5357823779170114, 'avg_acc': 54.56805772230889, 'loss': 1.4853816032409668}\n"
     ]
    },
    {
     "name": "stderr",
     "output_type": "stream",
     "text": [
      "EP_train:3:  70%|| 658/938 [00:18<00:06, 40.46it/s]"
     ]
    },
    {
     "name": "stdout",
     "output_type": "stream",
     "text": [
      "{'epoch': 3, 'iter': 650, 'avg_loss': 1.5349774479682912, 'avg_acc': 54.57949308755761, 'loss': 1.7771375179290771}\n"
     ]
    },
    {
     "name": "stderr",
     "output_type": "stream",
     "text": [
      "EP_train:3:  71%|| 667/938 [00:18<00:07, 38.52it/s]"
     ]
    },
    {
     "name": "stdout",
     "output_type": "stream",
     "text": [
      "{'epoch': 3, 'iter': 660, 'avg_loss': 1.5357623278824175, 'avg_acc': 54.59058245083207, 'loss': 1.7998749017715454}\n"
     ]
    },
    {
     "name": "stderr",
     "output_type": "stream",
     "text": [
      "EP_train:3:  72%|| 675/938 [00:18<00:07, 37.20it/s]"
     ]
    },
    {
     "name": "stdout",
     "output_type": "stream",
     "text": [
      "{'epoch': 3, 'iter': 670, 'avg_loss': 1.534699472691725, 'avg_acc': 54.49422503725783, 'loss': 1.5686516761779785}\n"
     ]
    },
    {
     "name": "stderr",
     "output_type": "stream",
     "text": [
      "EP_train:3:  73%|| 689/938 [00:19<00:05, 41.77it/s]"
     ]
    },
    {
     "name": "stdout",
     "output_type": "stream",
     "text": [
      "{'epoch': 3, 'iter': 680, 'avg_loss': 1.535069051117974, 'avg_acc': 54.49247430249633, 'loss': 1.4355016946792603}\n"
     ]
    },
    {
     "name": "stderr",
     "output_type": "stream",
     "text": [
      "EP_train:3:  75%|| 699/938 [00:19<00:05, 43.28it/s]"
     ]
    },
    {
     "name": "stdout",
     "output_type": "stream",
     "text": [
      "{'epoch': 3, 'iter': 690, 'avg_loss': 1.535068047719478, 'avg_acc': 54.49981910274963, 'loss': 1.3252893686294556}\n"
     ]
    },
    {
     "name": "stderr",
     "output_type": "stream",
     "text": [
      "EP_train:3:  76%|| 709/938 [00:19<00:05, 43.77it/s]"
     ]
    },
    {
     "name": "stdout",
     "output_type": "stream",
     "text": [
      "{'epoch': 3, 'iter': 700, 'avg_loss': 1.5355130143240414, 'avg_acc': 54.44900142653353, 'loss': 1.6566834449768066}\n"
     ]
    },
    {
     "name": "stderr",
     "output_type": "stream",
     "text": [
      "EP_train:3:  77%|| 719/938 [00:19<00:04, 45.70it/s]"
     ]
    },
    {
     "name": "stdout",
     "output_type": "stream",
     "text": [
      "{'epoch': 3, 'iter': 710, 'avg_loss': 1.535622485243989, 'avg_acc': 54.452355836849506, 'loss': 1.5555588006973267}\n"
     ]
    },
    {
     "name": "stderr",
     "output_type": "stream",
     "text": [
      "EP_train:3:  77%|| 724/938 [00:19<00:04, 44.34it/s]"
     ]
    },
    {
     "name": "stdout",
     "output_type": "stream",
     "text": [
      "{'epoch': 3, 'iter': 720, 'avg_loss': 1.535092839916933, 'avg_acc': 54.481622746185856, 'loss': 1.4272743463516235}\n"
     ]
    },
    {
     "name": "stderr",
     "output_type": "stream",
     "text": [
      "EP_train:3:  79%|| 738/938 [00:20<00:05, 37.19it/s]"
     ]
    },
    {
     "name": "stdout",
     "output_type": "stream",
     "text": [
      "{'epoch': 3, 'iter': 730, 'avg_loss': 1.5350097879339342, 'avg_acc': 54.463064295485644, 'loss': 1.468043565750122}\n"
     ]
    },
    {
     "name": "stderr",
     "output_type": "stream",
     "text": [
      "EP_train:3:  80%|| 746/938 [00:20<00:05, 36.52it/s]"
     ]
    },
    {
     "name": "stdout",
     "output_type": "stream",
     "text": [
      "{'epoch': 3, 'iter': 740, 'avg_loss': 1.5343477682546083, 'avg_acc': 54.4913967611336, 'loss': 1.5656158924102783}\n"
     ]
    },
    {
     "name": "stderr",
     "output_type": "stream",
     "text": [
      "EP_train:3:  80%|| 754/938 [00:20<00:05, 36.64it/s]"
     ]
    },
    {
     "name": "stdout",
     "output_type": "stream",
     "text": [
      "{'epoch': 3, 'iter': 750, 'avg_loss': 1.534766019422427, 'avg_acc': 54.435752330226364, 'loss': 1.5944682359695435}\n"
     ]
    },
    {
     "name": "stderr",
     "output_type": "stream",
     "text": [
      "EP_train:3:  82%|| 768/938 [00:21<00:04, 40.36it/s]"
     ]
    },
    {
     "name": "stdout",
     "output_type": "stream",
     "text": [
      "{'epoch': 3, 'iter': 760, 'avg_loss': 1.5354921679929114, 'avg_acc': 54.50886990801577, 'loss': 1.473818302154541}\n"
     ]
    },
    {
     "name": "stderr",
     "output_type": "stream",
     "text": [
      "EP_train:3:  83%|| 779/938 [00:21<00:03, 44.37it/s]"
     ]
    },
    {
     "name": "stdout",
     "output_type": "stream",
     "text": [
      "{'epoch': 3, 'iter': 770, 'avg_loss': 1.5354519154775004, 'avg_acc': 54.45849546044098, 'loss': 1.6503878831863403}\n"
     ]
    },
    {
     "name": "stderr",
     "output_type": "stream",
     "text": [
      "EP_train:3:  84%|| 784/938 [00:21<00:04, 33.23it/s]"
     ]
    },
    {
     "name": "stdout",
     "output_type": "stream",
     "text": [
      "{'epoch': 3, 'iter': 780, 'avg_loss': 1.5357292171629686, 'avg_acc': 54.43341869398207, 'loss': 1.4648973941802979}\n"
     ]
    },
    {
     "name": "stderr",
     "output_type": "stream",
     "text": [
      "EP_train:3:  85%|| 798/938 [00:21<00:03, 38.11it/s]"
     ]
    },
    {
     "name": "stdout",
     "output_type": "stream",
     "text": [
      "{'epoch': 3, 'iter': 790, 'avg_loss': 1.5350624291242752, 'avg_acc': 54.393173198482934, 'loss': 1.3761893510818481}\n"
     ]
    },
    {
     "name": "stderr",
     "output_type": "stream",
     "text": [
      "EP_train:3:  86%|| 808/938 [00:22<00:03, 40.47it/s]"
     ]
    },
    {
     "name": "stdout",
     "output_type": "stream",
     "text": [
      "{'epoch': 3, 'iter': 800, 'avg_loss': 1.534794755345129, 'avg_acc': 54.42415730337079, 'loss': 1.144869089126587}\n"
     ]
    },
    {
     "name": "stderr",
     "output_type": "stream",
     "text": [
      "EP_train:3:  87%|| 818/938 [00:22<00:02, 43.51it/s]"
     ]
    },
    {
     "name": "stdout",
     "output_type": "stream",
     "text": [
      "{'epoch': 3, 'iter': 810, 'avg_loss': 1.5337820079558875, 'avg_acc': 54.442817509247845, 'loss': 1.5589540004730225}\n"
     ]
    },
    {
     "name": "stderr",
     "output_type": "stream",
     "text": [
      "EP_train:3:  88%|| 828/938 [00:22<00:02, 44.90it/s]"
     ]
    },
    {
     "name": "stdout",
     "output_type": "stream",
     "text": [
      "{'epoch': 3, 'iter': 820, 'avg_loss': 1.533414252057, 'avg_acc': 54.48766747868453, 'loss': 1.4647213220596313}\n"
     ]
    },
    {
     "name": "stderr",
     "output_type": "stream",
     "text": [
      "EP_train:3:  89%|| 838/938 [00:22<00:02, 44.74it/s]"
     ]
    },
    {
     "name": "stdout",
     "output_type": "stream",
     "text": [
      "{'epoch': 3, 'iter': 830, 'avg_loss': 1.53260428036163, 'avg_acc': 54.52767749699158, 'loss': 1.268133282661438}\n"
     ]
    },
    {
     "name": "stderr",
     "output_type": "stream",
     "text": [
      "EP_train:3:  90%|| 848/938 [00:23<00:02, 43.07it/s]"
     ]
    },
    {
     "name": "stdout",
     "output_type": "stream",
     "text": [
      "{'epoch': 3, 'iter': 840, 'avg_loss': 1.5331357588524201, 'avg_acc': 54.51099881093936, 'loss': 1.3813743591308594}\n"
     ]
    },
    {
     "name": "stderr",
     "output_type": "stream",
     "text": [
      "EP_train:3:  91%|| 858/938 [00:23<00:01, 43.86it/s]"
     ]
    },
    {
     "name": "stdout",
     "output_type": "stream",
     "text": [
      "{'epoch': 3, 'iter': 850, 'avg_loss': 1.5328045324209014, 'avg_acc': 54.472679200940064, 'loss': 1.4163994789123535}\n"
     ]
    },
    {
     "name": "stderr",
     "output_type": "stream",
     "text": [
      "EP_train:3:  93%|| 869/938 [00:23<00:01, 45.74it/s]"
     ]
    },
    {
     "name": "stdout",
     "output_type": "stream",
     "text": [
      "{'epoch': 3, 'iter': 860, 'avg_loss': 1.5323712551635318, 'avg_acc': 54.53687572590012, 'loss': 1.6955727338790894}\n"
     ]
    },
    {
     "name": "stderr",
     "output_type": "stream",
     "text": [
      "EP_train:3:  93%|| 874/938 [00:23<00:01, 44.98it/s]"
     ]
    },
    {
     "name": "stdout",
     "output_type": "stream",
     "text": [
      "{'epoch': 3, 'iter': 870, 'avg_loss': 1.5321576225771285, 'avg_acc': 54.53142939150402, 'loss': 1.4603852033615112}\n"
     ]
    },
    {
     "name": "stderr",
     "output_type": "stream",
     "text": [
      "EP_train:3:  95%|| 889/938 [00:24<00:01, 44.33it/s]"
     ]
    },
    {
     "name": "stdout",
     "output_type": "stream",
     "text": [
      "{'epoch': 3, 'iter': 880, 'avg_loss': 1.5333334677065136, 'avg_acc': 54.54738933030647, 'loss': 1.815687894821167}\n"
     ]
    },
    {
     "name": "stderr",
     "output_type": "stream",
     "text": [
      "EP_train:3:  96%|| 899/938 [00:24<00:00, 43.44it/s]"
     ]
    },
    {
     "name": "stdout",
     "output_type": "stream",
     "text": [
      "{'epoch': 3, 'iter': 890, 'avg_loss': 1.5329978959728974, 'avg_acc': 54.56649831649831, 'loss': 1.7206482887268066}\n"
     ]
    },
    {
     "name": "stderr",
     "output_type": "stream",
     "text": [
      "EP_train:3:  97%|| 909/938 [00:24<00:00, 44.09it/s]"
     ]
    },
    {
     "name": "stdout",
     "output_type": "stream",
     "text": [
      "{'epoch': 3, 'iter': 900, 'avg_loss': 1.5317433515478847, 'avg_acc': 54.52622086570478, 'loss': 1.156090497970581}\n"
     ]
    },
    {
     "name": "stderr",
     "output_type": "stream",
     "text": [
      "EP_train:3:  98%|| 919/938 [00:24<00:00, 44.79it/s]"
     ]
    },
    {
     "name": "stdout",
     "output_type": "stream",
     "text": [
      "{'epoch': 3, 'iter': 910, 'avg_loss': 1.5318021129174761, 'avg_acc': 54.54514270032931, 'loss': 1.724323034286499}\n"
     ]
    },
    {
     "name": "stderr",
     "output_type": "stream",
     "text": [
      "EP_train:3:  99%|| 929/938 [00:24<00:00, 44.56it/s]"
     ]
    },
    {
     "name": "stdout",
     "output_type": "stream",
     "text": [
      "{'epoch': 3, 'iter': 920, 'avg_loss': 1.5320967297341743, 'avg_acc': 54.600977198697066, 'loss': 1.8263832330703735}\n"
     ]
    },
    {
     "name": "stderr",
     "output_type": "stream",
     "text": [
      "EP_train:3: 100%|| 938/938 [00:25<00:00, 37.35it/s]\n"
     ]
    },
    {
     "name": "stdout",
     "output_type": "stream",
     "text": [
      "{'epoch': 3, 'iter': 930, 'avg_loss': 1.5325216993481465, 'avg_acc': 54.5750537056928, 'loss': 1.312339186668396}\n",
      "EP3, train:             avg_loss=1.532139288845347,             total_acc=54.57485828609536\n"
     ]
    },
    {
     "name": "stderr",
     "output_type": "stream",
     "text": [
      "EP_train:4:   1%|| 10/938 [00:00<00:20, 45.01it/s]"
     ]
    },
    {
     "name": "stdout",
     "output_type": "stream",
     "text": [
      "{'epoch': 4, 'iter': 0, 'avg_loss': 1.5874840021133423, 'avg_acc': 59.375, 'loss': 1.5874840021133423}\n"
     ]
    },
    {
     "name": "stderr",
     "output_type": "stream",
     "text": [
      "EP_train:4:   2%|| 15/938 [00:00<00:23, 40.07it/s]"
     ]
    },
    {
     "name": "stdout",
     "output_type": "stream",
     "text": [
      "{'epoch': 4, 'iter': 10, 'avg_loss': 1.5968940583142368, 'avg_acc': 50.85227272727273, 'loss': 1.513561487197876}\n"
     ]
    },
    {
     "name": "stderr",
     "output_type": "stream",
     "text": [
      "EP_train:4:   3%|| 25/938 [00:00<00:22, 40.05it/s]"
     ]
    },
    {
     "name": "stdout",
     "output_type": "stream",
     "text": [
      "{'epoch': 4, 'iter': 20, 'avg_loss': 1.5670414425077892, 'avg_acc': 51.488095238095234, 'loss': 1.5010203123092651}\n"
     ]
    },
    {
     "name": "stderr",
     "output_type": "stream",
     "text": [
      "EP_train:4:   4%|| 34/938 [00:01<00:31, 29.06it/s]"
     ]
    },
    {
     "name": "stdout",
     "output_type": "stream",
     "text": [
      "{'epoch': 4, 'iter': 30, 'avg_loss': 1.5528110188822593, 'avg_acc': 53.42741935483871, 'loss': 1.5528168678283691}\n"
     ]
    },
    {
     "name": "stderr",
     "output_type": "stream",
     "text": [
      "EP_train:4:   5%|| 47/938 [00:01<00:24, 36.40it/s]"
     ]
    },
    {
     "name": "stdout",
     "output_type": "stream",
     "text": [
      "{'epoch': 4, 'iter': 40, 'avg_loss': 1.5397169386468283, 'avg_acc': 53.20121951219512, 'loss': 1.4398479461669922}\n"
     ]
    },
    {
     "name": "stderr",
     "output_type": "stream",
     "text": [
      "EP_train:4:   6%|| 57/938 [00:01<00:22, 39.68it/s]"
     ]
    },
    {
     "name": "stdout",
     "output_type": "stream",
     "text": [
      "{'epoch': 4, 'iter': 50, 'avg_loss': 1.5477534532546997, 'avg_acc': 53.18627450980392, 'loss': 1.5913509130477905}\n"
     ]
    },
    {
     "name": "stderr",
     "output_type": "stream",
     "text": [
      "EP_train:4:   7%|| 67/938 [00:01<00:21, 41.05it/s]"
     ]
    },
    {
     "name": "stdout",
     "output_type": "stream",
     "text": [
      "{'epoch': 4, 'iter': 60, 'avg_loss': 1.5423826995443126, 'avg_acc': 52.510245901639344, 'loss': 1.348420262336731}\n"
     ]
    },
    {
     "name": "stderr",
     "output_type": "stream",
     "text": [
      "EP_train:4:   8%|| 77/938 [00:02<00:19, 43.60it/s]"
     ]
    },
    {
     "name": "stdout",
     "output_type": "stream",
     "text": [
      "{'epoch': 4, 'iter': 70, 'avg_loss': 1.5360055591019106, 'avg_acc': 52.33274647887324, 'loss': 1.217559576034546}\n"
     ]
    },
    {
     "name": "stderr",
     "output_type": "stream",
     "text": [
      "EP_train:4:   9%|| 87/938 [00:02<00:19, 43.71it/s]"
     ]
    },
    {
     "name": "stdout",
     "output_type": "stream",
     "text": [
      "{'epoch': 4, 'iter': 80, 'avg_loss': 1.5374958485732844, 'avg_acc': 52.58487654320988, 'loss': 1.4282475709915161}\n"
     ]
    },
    {
     "name": "stderr",
     "output_type": "stream",
     "text": [
      "EP_train:4:  10%|| 97/938 [00:02<00:18, 45.45it/s]"
     ]
    },
    {
     "name": "stdout",
     "output_type": "stream",
     "text": [
      "{'epoch': 4, 'iter': 90, 'avg_loss': 1.539548085286067, 'avg_acc': 53.02197802197802, 'loss': 1.3506927490234375}\n"
     ]
    },
    {
     "name": "stderr",
     "output_type": "stream",
     "text": [
      "EP_train:4:  12%|| 109/938 [00:02<00:17, 47.63it/s]"
     ]
    },
    {
     "name": "stdout",
     "output_type": "stream",
     "text": [
      "{'epoch': 4, 'iter': 100, 'avg_loss': 1.5363088893418264, 'avg_acc': 53.1559405940594, 'loss': 1.4880338907241821}\n"
     ]
    },
    {
     "name": "stderr",
     "output_type": "stream",
     "text": [
      "EP_train:4:  13%|| 119/938 [00:02<00:18, 45.03it/s]"
     ]
    },
    {
     "name": "stdout",
     "output_type": "stream",
     "text": [
      "{'epoch': 4, 'iter': 110, 'avg_loss': 1.5313169591061704, 'avg_acc': 53.04054054054054, 'loss': 1.4669886827468872}\n"
     ]
    },
    {
     "name": "stderr",
     "output_type": "stream",
     "text": [
      "EP_train:4:  13%|| 124/938 [00:03<00:19, 41.50it/s]"
     ]
    },
    {
     "name": "stdout",
     "output_type": "stream",
     "text": [
      "{'epoch': 4, 'iter': 120, 'avg_loss': 1.53380148272869, 'avg_acc': 53.25413223140496, 'loss': 1.5869916677474976}\n"
     ]
    },
    {
     "name": "stderr",
     "output_type": "stream",
     "text": [
      "EP_train:4:  15%|| 139/938 [00:03<00:19, 40.82it/s]"
     ]
    },
    {
     "name": "stdout",
     "output_type": "stream",
     "text": [
      "{'epoch': 4, 'iter': 130, 'avg_loss': 1.53122388952561, 'avg_acc': 53.792938931297705, 'loss': 1.4953877925872803}\n"
     ]
    },
    {
     "name": "stderr",
     "output_type": "stream",
     "text": [
      "EP_train:4:  16%|| 150/938 [00:03<00:17, 44.71it/s]"
     ]
    },
    {
     "name": "stdout",
     "output_type": "stream",
     "text": [
      "{'epoch': 4, 'iter': 140, 'avg_loss': 1.5356334929770612, 'avg_acc': 54.055851063829785, 'loss': 1.7377620935440063}\n"
     ]
    },
    {
     "name": "stderr",
     "output_type": "stream",
     "text": [
      "EP_train:4:  17%|| 155/938 [00:03<00:17, 44.59it/s]"
     ]
    },
    {
     "name": "stdout",
     "output_type": "stream",
     "text": [
      "{'epoch': 4, 'iter': 150, 'avg_loss': 1.5384691535242345, 'avg_acc': 54.283940397350996, 'loss': 1.6170581579208374}\n"
     ]
    },
    {
     "name": "stderr",
     "output_type": "stream",
     "text": [
      "EP_train:4:  18%|| 166/938 [00:04<00:16, 47.21it/s]"
     ]
    },
    {
     "name": "stdout",
     "output_type": "stream",
     "text": [
      "{'epoch': 4, 'iter': 160, 'avg_loss': 1.5335624965821735, 'avg_acc': 54.52251552795031, 'loss': 1.456920862197876}\n"
     ]
    },
    {
     "name": "stderr",
     "output_type": "stream",
     "text": [
      "EP_train:4:  19%|| 176/938 [00:04<00:16, 44.99it/s]"
     ]
    },
    {
     "name": "stdout",
     "output_type": "stream",
     "text": [
      "{'epoch': 4, 'iter': 170, 'avg_loss': 1.5361265920059026, 'avg_acc': 54.76973684210527, 'loss': 1.6065468788146973}\n"
     ]
    },
    {
     "name": "stderr",
     "output_type": "stream",
     "text": [
      "EP_train:4:  19%|| 181/938 [00:04<00:17, 44.17it/s]"
     ]
    },
    {
     "name": "stdout",
     "output_type": "stream",
     "text": [
      "{'epoch': 4, 'iter': 180, 'avg_loss': 1.5304758726562584, 'avg_acc': 54.60980662983425, 'loss': 1.582267165184021}\n"
     ]
    },
    {
     "name": "stderr",
     "output_type": "stream",
     "text": [
      "EP_train:4:  21%|| 194/938 [00:04<00:23, 32.05it/s]"
     ]
    },
    {
     "name": "stdout",
     "output_type": "stream",
     "text": [
      "{'epoch': 4, 'iter': 190, 'avg_loss': 1.5283810980032877, 'avg_acc': 54.46662303664922, 'loss': 1.6167800426483154}\n"
     ]
    },
    {
     "name": "stderr",
     "output_type": "stream",
     "text": [
      "EP_train:4:  22%|| 206/938 [00:05<00:21, 33.78it/s]"
     ]
    },
    {
     "name": "stdout",
     "output_type": "stream",
     "text": [
      "{'epoch': 4, 'iter': 200, 'avg_loss': 1.5239491682147506, 'avg_acc': 54.55534825870647, 'loss': 1.4500854015350342}\n"
     ]
    },
    {
     "name": "stderr",
     "output_type": "stream",
     "text": [
      "EP_train:4:  23%|| 220/938 [00:05<00:17, 40.43it/s]"
     ]
    },
    {
     "name": "stdout",
     "output_type": "stream",
     "text": [
      "{'epoch': 4, 'iter': 210, 'avg_loss': 1.52120712018126, 'avg_acc': 54.72452606635071, 'loss': 1.537042260169983}\n"
     ]
    },
    {
     "name": "stderr",
     "output_type": "stream",
     "text": [
      "EP_train:4:  25%|| 230/938 [00:05<00:16, 43.48it/s]"
     ]
    },
    {
     "name": "stdout",
     "output_type": "stream",
     "text": [
      "{'epoch': 4, 'iter': 220, 'avg_loss': 1.5186280734938193, 'avg_acc': 54.5814479638009, 'loss': 1.5136628150939941}\n"
     ]
    },
    {
     "name": "stderr",
     "output_type": "stream",
     "text": [
      "EP_train:4:  25%|| 235/938 [00:05<00:16, 42.60it/s]"
     ]
    },
    {
     "name": "stdout",
     "output_type": "stream",
     "text": [
      "{'epoch': 4, 'iter': 230, 'avg_loss': 1.519736428797503, 'avg_acc': 54.57251082251082, 'loss': 1.327214002609253}\n"
     ]
    },
    {
     "name": "stderr",
     "output_type": "stream",
     "text": [
      "EP_train:4:  26%|| 245/938 [00:06<00:18, 36.56it/s]"
     ]
    },
    {
     "name": "stdout",
     "output_type": "stream",
     "text": [
      "{'epoch': 4, 'iter': 240, 'avg_loss': 1.5222137384889531, 'avg_acc': 54.42168049792531, 'loss': 1.7271159887313843}\n"
     ]
    },
    {
     "name": "stderr",
     "output_type": "stream",
     "text": [
      "EP_train:4:  28%|| 258/938 [00:06<00:17, 38.46it/s]"
     ]
    },
    {
     "name": "stdout",
     "output_type": "stream",
     "text": [
      "{'epoch': 4, 'iter': 250, 'avg_loss': 1.5231994200512708, 'avg_acc': 54.33266932270916, 'loss': 1.4664191007614136}\n"
     ]
    },
    {
     "name": "stderr",
     "output_type": "stream",
     "text": [
      "EP_train:4:  28%|| 267/938 [00:06<00:16, 40.25it/s]"
     ]
    },
    {
     "name": "stdout",
     "output_type": "stream",
     "text": [
      "{'epoch': 4, 'iter': 260, 'avg_loss': 1.5226508150612257, 'avg_acc': 54.11877394636016, 'loss': 1.3334195613861084}\n"
     ]
    },
    {
     "name": "stderr",
     "output_type": "stream",
     "text": [
      "EP_train:4:  30%|| 277/938 [00:06<00:15, 43.79it/s]"
     ]
    },
    {
     "name": "stdout",
     "output_type": "stream",
     "text": [
      "{'epoch': 4, 'iter': 270, 'avg_loss': 1.522712860600095, 'avg_acc': 54.0359778597786, 'loss': 1.361141562461853}\n"
     ]
    },
    {
     "name": "stderr",
     "output_type": "stream",
     "text": [
      "EP_train:4:  31%|| 287/938 [00:07<00:14, 43.56it/s]"
     ]
    },
    {
     "name": "stdout",
     "output_type": "stream",
     "text": [
      "{'epoch': 4, 'iter': 280, 'avg_loss': 1.5242163201668084, 'avg_acc': 54.1258896797153, 'loss': 1.5193583965301514}\n"
     ]
    },
    {
     "name": "stderr",
     "output_type": "stream",
     "text": [
      "EP_train:4:  32%|| 297/938 [00:07<00:14, 44.96it/s]"
     ]
    },
    {
     "name": "stdout",
     "output_type": "stream",
     "text": [
      "{'epoch': 4, 'iter': 290, 'avg_loss': 1.5240868842069226, 'avg_acc': 54.20962199312714, 'loss': 1.4141860008239746}\n"
     ]
    },
    {
     "name": "stderr",
     "output_type": "stream",
     "text": [
      "EP_train:4:  32%|| 302/938 [00:07<00:15, 42.02it/s]"
     ]
    },
    {
     "name": "stdout",
     "output_type": "stream",
     "text": [
      "{'epoch': 4, 'iter': 300, 'avg_loss': 1.525545395489943, 'avg_acc': 54.2047342192691, 'loss': 1.557612419128418}\n"
     ]
    },
    {
     "name": "stderr",
     "output_type": "stream",
     "text": [
      "EP_train:4:  34%|| 316/938 [00:07<00:16, 36.75it/s]"
     ]
    },
    {
     "name": "stdout",
     "output_type": "stream",
     "text": [
      "{'epoch': 4, 'iter': 310, 'avg_loss': 1.525119122968226, 'avg_acc': 54.280546623794216, 'loss': 1.4836252927780151}\n"
     ]
    },
    {
     "name": "stderr",
     "output_type": "stream",
     "text": [
      "EP_train:4:  35%|| 326/938 [00:08<00:14, 41.11it/s]"
     ]
    },
    {
     "name": "stdout",
     "output_type": "stream",
     "text": [
      "{'epoch': 4, 'iter': 320, 'avg_loss': 1.5244767420759826, 'avg_acc': 54.1958722741433, 'loss': 1.386480689048767}\n"
     ]
    },
    {
     "name": "stderr",
     "output_type": "stream",
     "text": [
      "EP_train:4:  36%|| 336/938 [00:08<00:14, 42.30it/s]"
     ]
    },
    {
     "name": "stdout",
     "output_type": "stream",
     "text": [
      "{'epoch': 4, 'iter': 330, 'avg_loss': 1.5245494248283593, 'avg_acc': 54.286253776435046, 'loss': 1.6603058576583862}\n"
     ]
    },
    {
     "name": "stderr",
     "output_type": "stream",
     "text": [
      "EP_train:4:  37%|| 346/938 [00:08<00:14, 40.84it/s]"
     ]
    },
    {
     "name": "stdout",
     "output_type": "stream",
     "text": [
      "{'epoch': 4, 'iter': 340, 'avg_loss': 1.5264000731828975, 'avg_acc': 54.20637829912024, 'loss': 1.6304075717926025}\n"
     ]
    },
    {
     "name": "stderr",
     "output_type": "stream",
     "text": [
      "EP_train:4:  38%|| 356/938 [00:08<00:15, 38.20it/s]"
     ]
    },
    {
     "name": "stdout",
     "output_type": "stream",
     "text": [
      "{'epoch': 4, 'iter': 350, 'avg_loss': 1.527442049776387, 'avg_acc': 54.2022792022792, 'loss': 1.6308951377868652}\n"
     ]
    },
    {
     "name": "stderr",
     "output_type": "stream",
     "text": [
      "EP_train:4:  39%|| 366/938 [00:09<00:14, 40.73it/s]"
     ]
    },
    {
     "name": "stdout",
     "output_type": "stream",
     "text": [
      "{'epoch': 4, 'iter': 360, 'avg_loss': 1.5282401123865819, 'avg_acc': 54.276315789473685, 'loss': 1.7068564891815186}\n"
     ]
    },
    {
     "name": "stderr",
     "output_type": "stream",
     "text": [
      "EP_train:4:  40%|| 376/938 [00:09<00:13, 42.58it/s]"
     ]
    },
    {
     "name": "stdout",
     "output_type": "stream",
     "text": [
      "{'epoch': 4, 'iter': 370, 'avg_loss': 1.5315663788839171, 'avg_acc': 54.19474393530997, 'loss': 1.4633142948150635}\n"
     ]
    },
    {
     "name": "stderr",
     "output_type": "stream",
     "text": [
      "EP_train:4:  41%|| 386/938 [00:09<00:13, 42.24it/s]"
     ]
    },
    {
     "name": "stdout",
     "output_type": "stream",
     "text": [
      "{'epoch': 4, 'iter': 380, 'avg_loss': 1.532239993100404, 'avg_acc': 54.248687664041995, 'loss': 1.5308881998062134}\n"
     ]
    },
    {
     "name": "stderr",
     "output_type": "stream",
     "text": [
      "EP_train:4:  42%|| 396/938 [00:09<00:12, 42.58it/s]"
     ]
    },
    {
     "name": "stdout",
     "output_type": "stream",
     "text": [
      "{'epoch': 4, 'iter': 390, 'avg_loss': 1.5319190019231927, 'avg_acc': 54.25191815856778, 'loss': 1.5874974727630615}\n"
     ]
    },
    {
     "name": "stderr",
     "output_type": "stream",
     "text": [
      "EP_train:4:  43%|| 406/938 [00:10<00:11, 44.47it/s]"
     ]
    },
    {
     "name": "stdout",
     "output_type": "stream",
     "text": [
      "{'epoch': 4, 'iter': 400, 'avg_loss': 1.5325974743265167, 'avg_acc': 54.3251246882793, 'loss': 1.530937671661377}\n"
     ]
    },
    {
     "name": "stderr",
     "output_type": "stream",
     "text": [
      "EP_train:4:  44%|| 416/938 [00:10<00:11, 45.56it/s]"
     ]
    },
    {
     "name": "stdout",
     "output_type": "stream",
     "text": [
      "{'epoch': 4, 'iter': 410, 'avg_loss': 1.5316487315797458, 'avg_acc': 54.31113138686131, 'loss': 1.6474109888076782}\n"
     ]
    },
    {
     "name": "stderr",
     "output_type": "stream",
     "text": [
      "EP_train:4:  45%|| 425/938 [00:10<00:15, 34.11it/s]"
     ]
    },
    {
     "name": "stdout",
     "output_type": "stream",
     "text": [
      "{'epoch': 4, 'iter': 420, 'avg_loss': 1.5313614844709564, 'avg_acc': 54.30522565320665, 'loss': 1.624303936958313}\n"
     ]
    },
    {
     "name": "stderr",
     "output_type": "stream",
     "text": [
      "EP_train:4:  46%|| 435/938 [00:10<00:12, 39.10it/s]"
     ]
    },
    {
     "name": "stdout",
     "output_type": "stream",
     "text": [
      "{'epoch': 4, 'iter': 430, 'avg_loss': 1.5316386540915186, 'avg_acc': 54.23433874709976, 'loss': 1.824650526046753}\n"
     ]
    },
    {
     "name": "stderr",
     "output_type": "stream",
     "text": [
      "EP_train:4:  47%|| 445/938 [00:11<00:12, 40.04it/s]"
     ]
    },
    {
     "name": "stdout",
     "output_type": "stream",
     "text": [
      "{'epoch': 4, 'iter': 440, 'avg_loss': 1.5325013850551614, 'avg_acc': 54.22335600907029, 'loss': 1.5119377374649048}\n"
     ]
    },
    {
     "name": "stderr",
     "output_type": "stream",
     "text": [
      "EP_train:4:  49%|| 455/938 [00:11<00:11, 40.40it/s]"
     ]
    },
    {
     "name": "stdout",
     "output_type": "stream",
     "text": [
      "{'epoch': 4, 'iter': 450, 'avg_loss': 1.5312683135601475, 'avg_acc': 54.178215077605316, 'loss': 1.550120234489441}\n"
     ]
    },
    {
     "name": "stderr",
     "output_type": "stream",
     "text": [
      "EP_train:4:  50%|| 465/938 [00:11<00:11, 39.74it/s]"
     ]
    },
    {
     "name": "stdout",
     "output_type": "stream",
     "text": [
      "{'epoch': 4, 'iter': 460, 'avg_loss': 1.5312945824641726, 'avg_acc': 54.32483731019523, 'loss': 1.5411629676818848}\n"
     ]
    },
    {
     "name": "stderr",
     "output_type": "stream",
     "text": [
      "EP_train:4:  51%|| 475/938 [00:11<00:11, 39.43it/s]"
     ]
    },
    {
     "name": "stdout",
     "output_type": "stream",
     "text": [
      "{'epoch': 4, 'iter': 470, 'avg_loss': 1.5325683575526925, 'avg_acc': 54.325902335456476, 'loss': 1.6827501058578491}\n"
     ]
    },
    {
     "name": "stderr",
     "output_type": "stream",
     "text": [
      "EP_train:4:  52%|| 485/938 [00:12<00:11, 38.55it/s]"
     ]
    },
    {
     "name": "stdout",
     "output_type": "stream",
     "text": [
      "{'epoch': 4, 'iter': 480, 'avg_loss': 1.5321326741557606, 'avg_acc': 54.36590436590436, 'loss': 1.4196205139160156}\n"
     ]
    },
    {
     "name": "stderr",
     "output_type": "stream",
     "text": [
      "EP_train:4:  53%|| 498/938 [00:12<00:11, 38.86it/s]"
     ]
    },
    {
     "name": "stdout",
     "output_type": "stream",
     "text": [
      "{'epoch': 4, 'iter': 490, 'avg_loss': 1.531886251055296, 'avg_acc': 54.34063136456212, 'loss': 1.5295639038085938}\n"
     ]
    },
    {
     "name": "stderr",
     "output_type": "stream",
     "text": [
      "EP_train:4:  54%|| 507/938 [00:12<00:10, 39.67it/s]"
     ]
    },
    {
     "name": "stdout",
     "output_type": "stream",
     "text": [
      "{'epoch': 4, 'iter': 500, 'avg_loss': 1.531871480142285, 'avg_acc': 54.316367265469054, 'loss': 1.720735788345337}\n"
     ]
    },
    {
     "name": "stderr",
     "output_type": "stream",
     "text": [
      "EP_train:4:  55%|| 516/938 [00:12<00:10, 40.36it/s]"
     ]
    },
    {
     "name": "stdout",
     "output_type": "stream",
     "text": [
      "{'epoch': 4, 'iter': 510, 'avg_loss': 1.531551703781531, 'avg_acc': 54.25024461839531, 'loss': 1.4038355350494385}\n"
     ]
    },
    {
     "name": "stderr",
     "output_type": "stream",
     "text": [
      "EP_train:4:  56%|| 526/938 [00:13<00:09, 41.95it/s]"
     ]
    },
    {
     "name": "stdout",
     "output_type": "stream",
     "text": [
      "{'epoch': 4, 'iter': 520, 'avg_loss': 1.5295646675717578, 'avg_acc': 54.21065259117083, 'loss': 1.4412288665771484}\n"
     ]
    },
    {
     "name": "stderr",
     "output_type": "stream",
     "text": [
      "EP_train:4:  57%|| 531/938 [00:13<00:09, 41.38it/s]"
     ]
    },
    {
     "name": "stdout",
     "output_type": "stream",
     "text": [
      "{'epoch': 4, 'iter': 530, 'avg_loss': 1.529108478300091, 'avg_acc': 54.26671374764596, 'loss': 1.516486644744873}\n"
     ]
    },
    {
     "name": "stderr",
     "output_type": "stream",
     "text": [
      "EP_train:4:  58%|| 544/938 [00:13<00:12, 31.97it/s]"
     ]
    },
    {
     "name": "stdout",
     "output_type": "stream",
     "text": [
      "{'epoch': 4, 'iter': 540, 'avg_loss': 1.5281008794876212, 'avg_acc': 54.228280961182996, 'loss': 1.5246036052703857}\n"
     ]
    },
    {
     "name": "stderr",
     "output_type": "stream",
     "text": [
      "EP_train:4:  59%|| 556/938 [00:14<00:10, 35.00it/s]"
     ]
    },
    {
     "name": "stdout",
     "output_type": "stream",
     "text": [
      "{'epoch': 4, 'iter': 550, 'avg_loss': 1.527681378184559, 'avg_acc': 54.242286751361156, 'loss': 1.4408682584762573}\n"
     ]
    },
    {
     "name": "stderr",
     "output_type": "stream",
     "text": [
      "EP_train:4:  60%|| 564/938 [00:14<00:11, 33.66it/s]"
     ]
    },
    {
     "name": "stdout",
     "output_type": "stream",
     "text": [
      "{'epoch': 4, 'iter': 560, 'avg_loss': 1.5262357648893685, 'avg_acc': 54.24465240641712, 'loss': 1.402977705001831}\n"
     ]
    },
    {
     "name": "stderr",
     "output_type": "stream",
     "text": [
      "EP_train:4:  61%|| 576/938 [00:14<00:10, 36.04it/s]"
     ]
    },
    {
     "name": "stdout",
     "output_type": "stream",
     "text": [
      "{'epoch': 4, 'iter': 570, 'avg_loss': 1.5264994269285854, 'avg_acc': 54.290718038528894, 'loss': 1.539515733718872}\n"
     ]
    },
    {
     "name": "stderr",
     "output_type": "stream",
     "text": [
      "EP_train:4:  62%|| 584/938 [00:14<00:09, 36.46it/s]"
     ]
    },
    {
     "name": "stdout",
     "output_type": "stream",
     "text": [
      "{'epoch': 4, 'iter': 580, 'avg_loss': 1.5260041307869547, 'avg_acc': 54.36746987951807, 'loss': 1.5655537843704224}\n"
     ]
    },
    {
     "name": "stderr",
     "output_type": "stream",
     "text": [
      "EP_train:4:  64%|| 598/938 [00:15<00:10, 32.93it/s]"
     ]
    },
    {
     "name": "stdout",
     "output_type": "stream",
     "text": [
      "{'epoch': 4, 'iter': 590, 'avg_loss': 1.5262937670835182, 'avg_acc': 54.33058375634518, 'loss': 1.6570628881454468}\n"
     ]
    },
    {
     "name": "stderr",
     "output_type": "stream",
     "text": [
      "EP_train:4:  65%|| 609/938 [00:15<00:08, 39.75it/s]"
     ]
    },
    {
     "name": "stdout",
     "output_type": "stream",
     "text": [
      "{'epoch': 4, 'iter': 600, 'avg_loss': 1.5273065807021993, 'avg_acc': 54.274126455906824, 'loss': 1.374410629272461}\n"
     ]
    },
    {
     "name": "stderr",
     "output_type": "stream",
     "text": [
      "EP_train:4:  66%|| 619/938 [00:15<00:07, 43.61it/s]"
     ]
    },
    {
     "name": "stdout",
     "output_type": "stream",
     "text": [
      "{'epoch': 4, 'iter': 610, 'avg_loss': 1.5271856700925313, 'avg_acc': 54.332037643207855, 'loss': 1.0549540519714355}\n"
     ]
    },
    {
     "name": "stderr",
     "output_type": "stream",
     "text": [
      "EP_train:4:  67%|| 629/938 [00:16<00:06, 44.99it/s]"
     ]
    },
    {
     "name": "stdout",
     "output_type": "stream",
     "text": [
      "{'epoch': 4, 'iter': 620, 'avg_loss': 1.5274432905246287, 'avg_acc': 54.262278582930755, 'loss': 1.6141409873962402}\n"
     ]
    },
    {
     "name": "stderr",
     "output_type": "stream",
     "text": [
      "EP_train:4:  68%|| 639/938 [00:16<00:06, 45.32it/s]"
     ]
    },
    {
     "name": "stdout",
     "output_type": "stream",
     "text": [
      "{'epoch': 4, 'iter': 630, 'avg_loss': 1.5281742956672342, 'avg_acc': 54.318541996830426, 'loss': 1.7134414911270142}\n"
     ]
    },
    {
     "name": "stderr",
     "output_type": "stream",
     "text": [
      "EP_train:4:  69%|| 649/938 [00:16<00:06, 45.34it/s]"
     ]
    },
    {
     "name": "stdout",
     "output_type": "stream",
     "text": [
      "{'epoch': 4, 'iter': 640, 'avg_loss': 1.528377424164235, 'avg_acc': 54.31454758190327, 'loss': 1.5023900270462036}\n"
     ]
    },
    {
     "name": "stderr",
     "output_type": "stream",
     "text": [
      "EP_train:4:  70%|| 658/938 [00:16<00:08, 33.53it/s]"
     ]
    },
    {
     "name": "stdout",
     "output_type": "stream",
     "text": [
      "{'epoch': 4, 'iter': 650, 'avg_loss': 1.5291872513459026, 'avg_acc': 54.32507680491552, 'loss': 1.4305366277694702}\n"
     ]
    },
    {
     "name": "stderr",
     "output_type": "stream",
     "text": [
      "EP_train:4:  71%|| 666/938 [00:17<00:08, 32.74it/s]"
     ]
    },
    {
     "name": "stdout",
     "output_type": "stream",
     "text": [
      "{'epoch': 4, 'iter': 660, 'avg_loss': 1.5301660375046837, 'avg_acc': 54.302193645990926, 'loss': 1.7465628385543823}\n"
     ]
    },
    {
     "name": "stderr",
     "output_type": "stream",
     "text": [
      "EP_train:4:  72%|| 674/938 [00:17<00:08, 31.72it/s]"
     ]
    },
    {
     "name": "stdout",
     "output_type": "stream",
     "text": [
      "{'epoch': 4, 'iter': 670, 'avg_loss': 1.5301440673506916, 'avg_acc': 54.2986214605067, 'loss': 1.5663206577301025}\n"
     ]
    },
    {
     "name": "stderr",
     "output_type": "stream",
     "text": [
      "EP_train:4:  73%|| 687/938 [00:17<00:06, 36.57it/s]"
     ]
    },
    {
     "name": "stdout",
     "output_type": "stream",
     "text": [
      "{'epoch': 4, 'iter': 680, 'avg_loss': 1.5296601305624111, 'avg_acc': 54.299743024963284, 'loss': 1.3311680555343628}\n"
     ]
    },
    {
     "name": "stderr",
     "output_type": "stream",
     "text": [
      "EP_train:4:  74%|| 696/938 [00:17<00:06, 39.01it/s]"
     ]
    },
    {
     "name": "stdout",
     "output_type": "stream",
     "text": [
      "{'epoch': 4, 'iter': 690, 'avg_loss': 1.5294937007506573, 'avg_acc': 54.34153400868307, 'loss': 1.5981183052062988}\n"
     ]
    },
    {
     "name": "stderr",
     "output_type": "stream",
     "text": [
      "EP_train:4:  75%|| 706/938 [00:18<00:05, 39.38it/s]"
     ]
    },
    {
     "name": "stdout",
     "output_type": "stream",
     "text": [
      "{'epoch': 4, 'iter': 700, 'avg_loss': 1.5286084078518027, 'avg_acc': 54.34646932952924, 'loss': 1.591578483581543}\n"
     ]
    },
    {
     "name": "stderr",
     "output_type": "stream",
     "text": [
      "EP_train:4:  76%|| 715/938 [00:18<00:05, 39.52it/s]"
     ]
    },
    {
     "name": "stdout",
     "output_type": "stream",
     "text": [
      "{'epoch': 4, 'iter': 710, 'avg_loss': 1.5279909187899026, 'avg_acc': 54.32489451476793, 'loss': 1.5186681747436523}\n"
     ]
    },
    {
     "name": "stderr",
     "output_type": "stream",
     "text": [
      "EP_train:4:  77%|| 725/938 [00:18<00:05, 38.98it/s]"
     ]
    },
    {
     "name": "stdout",
     "output_type": "stream",
     "text": [
      "{'epoch': 4, 'iter': 720, 'avg_loss': 1.5273691020626963, 'avg_acc': 54.28224687933426, 'loss': 1.1661697626113892}\n"
     ]
    },
    {
     "name": "stderr",
     "output_type": "stream",
     "text": [
      "EP_train:4:  78%|| 735/938 [00:18<00:05, 39.11it/s]"
     ]
    },
    {
     "name": "stdout",
     "output_type": "stream",
     "text": [
      "{'epoch': 4, 'iter': 730, 'avg_loss': 1.5276751223080136, 'avg_acc': 54.287790697674424, 'loss': 1.5167828798294067}\n"
     ]
    },
    {
     "name": "stderr",
     "output_type": "stream",
     "text": [
      "EP_train:4:  79%|| 743/938 [00:19<00:06, 28.36it/s]"
     ]
    },
    {
     "name": "stdout",
     "output_type": "stream",
     "text": [
      "{'epoch': 4, 'iter': 740, 'avg_loss': 1.5275751390920478, 'avg_acc': 54.24679487179487, 'loss': 1.527899980545044}\n"
     ]
    },
    {
     "name": "stderr",
     "output_type": "stream",
     "text": [
      "EP_train:4:  80%|| 754/938 [00:19<00:07, 26.12it/s]"
     ]
    },
    {
     "name": "stdout",
     "output_type": "stream",
     "text": [
      "{'epoch': 4, 'iter': 750, 'avg_loss': 1.5270165705014165, 'avg_acc': 54.22769640479361, 'loss': 1.560152292251587}\n"
     ]
    },
    {
     "name": "stderr",
     "output_type": "stream",
     "text": [
      "EP_train:4:  81%|| 763/938 [00:20<00:06, 26.66it/s]"
     ]
    },
    {
     "name": "stdout",
     "output_type": "stream",
     "text": [
      "{'epoch': 4, 'iter': 760, 'avg_loss': 1.5266135811962374, 'avg_acc': 54.26248357424441, 'loss': 1.5332753658294678}\n"
     ]
    },
    {
     "name": "stderr",
     "output_type": "stream",
     "text": [
      "EP_train:4:  83%|| 775/938 [00:20<00:05, 30.65it/s]"
     ]
    },
    {
     "name": "stdout",
     "output_type": "stream",
     "text": [
      "{'epoch': 4, 'iter': 770, 'avg_loss': 1.5275108036518716, 'avg_acc': 54.3044747081712, 'loss': 1.2903302907943726}\n"
     ]
    },
    {
     "name": "stderr",
     "output_type": "stream",
     "text": [
      "EP_train:4:  84%|| 787/938 [00:20<00:04, 34.69it/s]"
     ]
    },
    {
     "name": "stdout",
     "output_type": "stream",
     "text": [
      "{'epoch': 4, 'iter': 780, 'avg_loss': 1.5272344596559961, 'avg_acc': 54.333386683738794, 'loss': 1.2476073503494263}\n"
     ]
    },
    {
     "name": "stderr",
     "output_type": "stream",
     "text": [
      "EP_train:4:  85%|| 795/938 [00:20<00:04, 35.61it/s]"
     ]
    },
    {
     "name": "stdout",
     "output_type": "stream",
     "text": [
      "{'epoch': 4, 'iter': 790, 'avg_loss': 1.5280315770512134, 'avg_acc': 54.36946902654868, 'loss': 1.6188229322433472}\n"
     ]
    },
    {
     "name": "stderr",
     "output_type": "stream",
     "text": [
      "EP_train:4:  86%|| 803/938 [00:21<00:04, 30.82it/s]"
     ]
    },
    {
     "name": "stdout",
     "output_type": "stream",
     "text": [
      "{'epoch': 4, 'iter': 800, 'avg_loss': 1.5276476600196924, 'avg_acc': 54.35783395755306, 'loss': 1.3950130939483643}\n"
     ]
    },
    {
     "name": "stderr",
     "output_type": "stream",
     "text": [
      "EP_train:4:  87%|| 815/938 [00:21<00:04, 30.65it/s]"
     ]
    },
    {
     "name": "stdout",
     "output_type": "stream",
     "text": [
      "{'epoch': 4, 'iter': 810, 'avg_loss': 1.5281097696388988, 'avg_acc': 54.373458692971646, 'loss': 1.6540660858154297}\n"
     ]
    },
    {
     "name": "stderr",
     "output_type": "stream",
     "text": [
      "EP_train:4:  88%|| 827/938 [00:21<00:03, 33.85it/s]"
     ]
    },
    {
     "name": "stdout",
     "output_type": "stream",
     "text": [
      "{'epoch': 4, 'iter': 820, 'avg_loss': 1.5286141941811657, 'avg_acc': 54.41915347137637, 'loss': 1.5472891330718994}\n"
     ]
    },
    {
     "name": "stderr",
     "output_type": "stream",
     "text": [
      "EP_train:4:  89%|| 831/938 [00:22<00:03, 33.11it/s]"
     ]
    },
    {
     "name": "stdout",
     "output_type": "stream",
     "text": [
      "{'epoch': 4, 'iter': 830, 'avg_loss': 1.5282552840477293, 'avg_acc': 54.37349578820698, 'loss': 1.5619800090789795}\n"
     ]
    },
    {
     "name": "stderr",
     "output_type": "stream",
     "text": [
      "EP_train:4:  90%|| 844/938 [00:22<00:04, 23.50it/s]"
     ]
    },
    {
     "name": "stdout",
     "output_type": "stream",
     "text": [
      "{'epoch': 4, 'iter': 840, 'avg_loss': 1.5282840090897931, 'avg_acc': 54.406956004756246, 'loss': 1.459092140197754}\n"
     ]
    },
    {
     "name": "stderr",
     "output_type": "stream",
     "text": [
      "EP_train:4:  91%|| 857/938 [00:23<00:02, 27.59it/s]"
     ]
    },
    {
     "name": "stdout",
     "output_type": "stream",
     "text": [
      "{'epoch': 4, 'iter': 850, 'avg_loss': 1.528118151895588, 'avg_acc': 54.424941245593416, 'loss': 1.6336207389831543}\n"
     ]
    },
    {
     "name": "stderr",
     "output_type": "stream",
     "text": [
      "EP_train:4:  92%|| 867/938 [00:23<00:02, 30.25it/s]"
     ]
    },
    {
     "name": "stdout",
     "output_type": "stream",
     "text": [
      "{'epoch': 4, 'iter': 860, 'avg_loss': 1.5286367073845504, 'avg_acc': 54.424361207897796, 'loss': 1.4491016864776611}\n"
     ]
    },
    {
     "name": "stderr",
     "output_type": "stream",
     "text": [
      "EP_train:4:  93%|| 875/938 [00:23<00:01, 31.70it/s]"
     ]
    },
    {
     "name": "stdout",
     "output_type": "stream",
     "text": [
      "{'epoch': 4, 'iter': 870, 'avg_loss': 1.5276319687730546, 'avg_acc': 54.40944316877153, 'loss': 1.5285601615905762}\n"
     ]
    },
    {
     "name": "stderr",
     "output_type": "stream",
     "text": [
      "EP_train:4:  95%|| 887/938 [00:24<00:01, 31.86it/s]"
     ]
    },
    {
     "name": "stdout",
     "output_type": "stream",
     "text": [
      "{'epoch': 4, 'iter': 880, 'avg_loss': 1.5271254749492944, 'avg_acc': 54.398410896708285, 'loss': 1.4175342321395874}\n"
     ]
    },
    {
     "name": "stderr",
     "output_type": "stream",
     "text": [
      "EP_train:4:  95%|| 895/938 [00:24<00:01, 30.66it/s]"
     ]
    },
    {
     "name": "stdout",
     "output_type": "stream",
     "text": [
      "{'epoch': 4, 'iter': 890, 'avg_loss': 1.5266242348385177, 'avg_acc': 54.401655443322106, 'loss': 1.4668128490447998}\n"
     ]
    },
    {
     "name": "stderr",
     "output_type": "stream",
     "text": [
      "EP_train:4:  97%|| 907/938 [00:24<00:00, 34.19it/s]"
     ]
    },
    {
     "name": "stdout",
     "output_type": "stream",
     "text": [
      "{'epoch': 4, 'iter': 900, 'avg_loss': 1.5278226551284535, 'avg_acc': 54.44644839067703, 'loss': 1.5467928647994995}\n"
     ]
    },
    {
     "name": "stderr",
     "output_type": "stream",
     "text": [
      "EP_train:4:  98%|| 915/938 [00:25<00:00, 27.24it/s]"
     ]
    },
    {
     "name": "stdout",
     "output_type": "stream",
     "text": [
      "{'epoch': 4, 'iter': 910, 'avg_loss': 1.5278945843291465, 'avg_acc': 54.4456641053787, 'loss': 1.3438937664031982}\n"
     ]
    },
    {
     "name": "stderr",
     "output_type": "stream",
     "text": [
      "EP_train:4:  99%|| 926/938 [00:25<00:00, 23.44it/s]"
     ]
    },
    {
     "name": "stdout",
     "output_type": "stream",
     "text": [
      "{'epoch': 4, 'iter': 920, 'avg_loss': 1.5277986085117188, 'avg_acc': 54.47204125950055, 'loss': 1.3219388723373413}\n"
     ]
    },
    {
     "name": "stderr",
     "output_type": "stream",
     "text": [
      "EP_train:4: 100%|| 935/938 [00:25<00:00, 26.01it/s]"
     ]
    },
    {
     "name": "stdout",
     "output_type": "stream",
     "text": [
      "{'epoch': 4, 'iter': 930, 'avg_loss': 1.5278112878092633, 'avg_acc': 54.53141783029001, 'loss': 1.532198429107666}\n"
     ]
    },
    {
     "name": "stderr",
     "output_type": "stream",
     "text": [
      "EP_train:4: 100%|| 938/938 [00:26<00:00, 35.97it/s]\n"
     ]
    },
    {
     "name": "stdout",
     "output_type": "stream",
     "text": [
      "EP4, train:             avg_loss=1.5279879885187535,             total_acc=54.57485828609536\n"
     ]
    },
    {
     "name": "stderr",
     "output_type": "stream",
     "text": [
      "EP_train:5:   0%|| 3/938 [00:00<00:42, 21.82it/s]"
     ]
    },
    {
     "name": "stdout",
     "output_type": "stream",
     "text": [
      "{'epoch': 5, 'iter': 0, 'avg_loss': 1.5031752586364746, 'avg_acc': 65.625, 'loss': 1.5031752586364746}\n"
     ]
    },
    {
     "name": "stderr",
     "output_type": "stream",
     "text": [
      "EP_train:5:   2%|| 17/938 [00:00<00:29, 30.90it/s]"
     ]
    },
    {
     "name": "stdout",
     "output_type": "stream",
     "text": [
      "{'epoch': 5, 'iter': 10, 'avg_loss': 1.5323947884819724, 'avg_acc': 55.68181818181818, 'loss': 1.535784125328064}\n"
     ]
    },
    {
     "name": "stderr",
     "output_type": "stream",
     "text": [
      "EP_train:5:   3%|| 25/938 [00:00<00:28, 32.15it/s]"
     ]
    },
    {
     "name": "stdout",
     "output_type": "stream",
     "text": [
      "{'epoch': 5, 'iter': 20, 'avg_loss': 1.5514487141654605, 'avg_acc': 56.99404761904761, 'loss': 1.5004316568374634}\n"
     ]
    },
    {
     "name": "stderr",
     "output_type": "stream",
     "text": [
      "EP_train:5:   4%|| 37/938 [00:01<00:27, 32.91it/s]"
     ]
    },
    {
     "name": "stdout",
     "output_type": "stream",
     "text": [
      "{'epoch': 5, 'iter': 30, 'avg_loss': 1.5320352585084978, 'avg_acc': 56.3508064516129, 'loss': 1.4749388694763184}\n"
     ]
    },
    {
     "name": "stderr",
     "output_type": "stream",
     "text": [
      "EP_train:5:   5%|| 45/938 [00:01<00:28, 31.44it/s]"
     ]
    },
    {
     "name": "stdout",
     "output_type": "stream",
     "text": [
      "{'epoch': 5, 'iter': 40, 'avg_loss': 1.5354095522950335, 'avg_acc': 54.72560975609756, 'loss': 1.5907987356185913}\n"
     ]
    },
    {
     "name": "stderr",
     "output_type": "stream",
     "text": [
      "EP_train:5:   6%|| 53/938 [00:01<00:31, 28.21it/s]"
     ]
    },
    {
     "name": "stdout",
     "output_type": "stream",
     "text": [
      "{'epoch': 5, 'iter': 50, 'avg_loss': 1.5301504742865468, 'avg_acc': 54.47303921568627, 'loss': 1.5214482545852661}\n"
     ]
    },
    {
     "name": "stderr",
     "output_type": "stream",
     "text": [
      "EP_train:5:   7%|| 65/938 [00:02<00:42, 20.48it/s]"
     ]
    },
    {
     "name": "stdout",
     "output_type": "stream",
     "text": [
      "{'epoch': 5, 'iter': 60, 'avg_loss': 1.522574942620074, 'avg_acc': 54.50819672131148, 'loss': 1.5377153158187866}\n"
     ]
    },
    {
     "name": "stderr",
     "output_type": "stream",
     "text": [
      "EP_train:5:   8%|| 75/938 [00:02<00:31, 27.29it/s]"
     ]
    },
    {
     "name": "stdout",
     "output_type": "stream",
     "text": [
      "{'epoch': 5, 'iter': 70, 'avg_loss': 1.5244315778705435, 'avg_acc': 54.53345070422535, 'loss': 1.4485796689987183}\n"
     ]
    },
    {
     "name": "stderr",
     "output_type": "stream",
     "text": [
      "EP_train:5:   9%|| 84/938 [00:03<00:30, 28.02it/s]"
     ]
    },
    {
     "name": "stdout",
     "output_type": "stream",
     "text": [
      "{'epoch': 5, 'iter': 80, 'avg_loss': 1.5158354544345243, 'avg_acc': 54.05092592592593, 'loss': 1.5131298303604126}\n"
     ]
    },
    {
     "name": "stderr",
     "output_type": "stream",
     "text": [
      "EP_train:5:  10%|| 96/938 [00:03<00:25, 33.51it/s]"
     ]
    },
    {
     "name": "stdout",
     "output_type": "stream",
     "text": [
      "{'epoch': 5, 'iter': 90, 'avg_loss': 1.5142428979768858, 'avg_acc': 54.292582417582416, 'loss': 1.6890925168991089}\n"
     ]
    },
    {
     "name": "stderr",
     "output_type": "stream",
     "text": [
      "EP_train:5:  11%|| 106/938 [00:03<00:20, 39.82it/s]"
     ]
    },
    {
     "name": "stdout",
     "output_type": "stream",
     "text": [
      "{'epoch': 5, 'iter': 100, 'avg_loss': 1.5169958537167842, 'avg_acc': 54.1769801980198, 'loss': 1.4587953090667725}\n"
     ]
    },
    {
     "name": "stderr",
     "output_type": "stream",
     "text": [
      "EP_train:5:  12%|| 116/938 [00:03<00:19, 41.15it/s]"
     ]
    },
    {
     "name": "stdout",
     "output_type": "stream",
     "text": [
      "{'epoch': 5, 'iter': 110, 'avg_loss': 1.5183895622287784, 'avg_acc': 54.08220720720721, 'loss': 1.6537494659423828}\n"
     ]
    },
    {
     "name": "stderr",
     "output_type": "stream",
     "text": [
      "EP_train:5:  13%|| 126/938 [00:04<00:20, 39.88it/s]"
     ]
    },
    {
     "name": "stdout",
     "output_type": "stream",
     "text": [
      "{'epoch': 5, 'iter': 120, 'avg_loss': 1.5165125693171477, 'avg_acc': 54.132231404958674, 'loss': 1.4086835384368896}\n"
     ]
    },
    {
     "name": "stderr",
     "output_type": "stream",
     "text": [
      "EP_train:5:  14%|| 136/938 [00:04<00:19, 40.71it/s]"
     ]
    },
    {
     "name": "stdout",
     "output_type": "stream",
     "text": [
      "{'epoch': 5, 'iter': 130, 'avg_loss': 1.5215717990889803, 'avg_acc': 53.8645038167939, 'loss': 1.6733251810073853}\n"
     ]
    },
    {
     "name": "stderr",
     "output_type": "stream",
     "text": [
      "EP_train:5:  15%|| 145/938 [00:04<00:20, 38.53it/s]"
     ]
    },
    {
     "name": "stdout",
     "output_type": "stream",
     "text": [
      "{'epoch': 5, 'iter': 140, 'avg_loss': 1.5182040253429547, 'avg_acc': 53.52393617021277, 'loss': 1.3696486949920654}\n"
     ]
    },
    {
     "name": "stderr",
     "output_type": "stream",
     "text": [
      "EP_train:5:  16%|| 150/938 [00:04<00:19, 41.09it/s]"
     ]
    },
    {
     "name": "stdout",
     "output_type": "stream",
     "text": [
      "{'epoch': 5, 'iter': 150, 'avg_loss': 1.5224667629658781, 'avg_acc': 53.82864238410596, 'loss': 1.6471668481826782}\n"
     ]
    },
    {
     "name": "stderr",
     "output_type": "stream",
     "text": [
      "EP_train:5:  18%|| 168/938 [00:05<00:21, 35.08it/s]"
     ]
    },
    {
     "name": "stdout",
     "output_type": "stream",
     "text": [
      "{'epoch': 5, 'iter': 160, 'avg_loss': 1.5211427293208815, 'avg_acc': 53.66847826086957, 'loss': 1.6952651739120483}\n"
     ]
    },
    {
     "name": "stderr",
     "output_type": "stream",
     "text": [
      "EP_train:5:  19%|| 176/938 [00:05<00:21, 35.72it/s]"
     ]
    },
    {
     "name": "stdout",
     "output_type": "stream",
     "text": [
      "{'epoch': 5, 'iter': 170, 'avg_loss': 1.5199247222197683, 'avg_acc': 53.965643274853804, 'loss': 1.2594455480575562}\n"
     ]
    },
    {
     "name": "stderr",
     "output_type": "stream",
     "text": [
      "EP_train:5:  20%|| 186/938 [00:05<00:19, 38.58it/s]"
     ]
    },
    {
     "name": "stdout",
     "output_type": "stream",
     "text": [
      "{'epoch': 5, 'iter': 180, 'avg_loss': 1.5180990360059792, 'avg_acc': 54.091850828729285, 'loss': 1.3706648349761963}\n"
     ]
    },
    {
     "name": "stderr",
     "output_type": "stream",
     "text": [
      "EP_train:5:  21%|| 196/938 [00:06<00:18, 41.05it/s]"
     ]
    },
    {
     "name": "stdout",
     "output_type": "stream",
     "text": [
      "{'epoch': 5, 'iter': 190, 'avg_loss': 1.5192232106992711, 'avg_acc': 54.172120418848166, 'loss': 1.4741698503494263}\n"
     ]
    },
    {
     "name": "stderr",
     "output_type": "stream",
     "text": [
      "EP_train:5:  22%|| 206/938 [00:06<00:16, 43.28it/s]"
     ]
    },
    {
     "name": "stdout",
     "output_type": "stream",
     "text": [
      "{'epoch': 5, 'iter': 200, 'avg_loss': 1.521832645829044, 'avg_acc': 54.24440298507462, 'loss': 1.7399985790252686}\n"
     ]
    },
    {
     "name": "stderr",
     "output_type": "stream",
     "text": [
      "EP_train:5:  23%|| 216/938 [00:06<00:17, 40.84it/s]"
     ]
    },
    {
     "name": "stdout",
     "output_type": "stream",
     "text": [
      "{'epoch': 5, 'iter': 210, 'avg_loss': 1.5156640215507615, 'avg_acc': 54.132109004739334, 'loss': 1.2402416467666626}\n"
     ]
    },
    {
     "name": "stderr",
     "output_type": "stream",
     "text": [
      "EP_train:5:  24%|| 225/938 [00:06<00:20, 35.21it/s]"
     ]
    },
    {
     "name": "stdout",
     "output_type": "stream",
     "text": [
      "{'epoch': 5, 'iter': 220, 'avg_loss': 1.5157997284539684, 'avg_acc': 54.341063348416284, 'loss': 1.515622854232788}\n"
     ]
    },
    {
     "name": "stderr",
     "output_type": "stream",
     "text": [
      "EP_train:5:  25%|| 237/938 [00:07<00:22, 31.78it/s]"
     ]
    },
    {
     "name": "stdout",
     "output_type": "stream",
     "text": [
      "{'epoch': 5, 'iter': 230, 'avg_loss': 1.5146163609120753, 'avg_acc': 54.57251082251082, 'loss': 1.5243395566940308}\n"
     ]
    },
    {
     "name": "stderr",
     "output_type": "stream",
     "text": [
      "EP_train:5:  26%|| 245/938 [00:07<00:22, 31.12it/s]"
     ]
    },
    {
     "name": "stdout",
     "output_type": "stream",
     "text": [
      "{'epoch': 5, 'iter': 240, 'avg_loss': 1.5136282582500664, 'avg_acc': 54.668049792531114, 'loss': 1.4352308511734009}\n"
     ]
    },
    {
     "name": "stderr",
     "output_type": "stream",
     "text": [
      "EP_train:5:  27%|| 256/938 [00:08<00:31, 21.51it/s]"
     ]
    },
    {
     "name": "stdout",
     "output_type": "stream",
     "text": [
      "{'epoch': 5, 'iter': 250, 'avg_loss': 1.5144006341577052, 'avg_acc': 54.60657370517929, 'loss': 1.3965208530426025}\n"
     ]
    },
    {
     "name": "stderr",
     "output_type": "stream",
     "text": [
      "EP_train:5:  28%|| 264/938 [00:08<00:25, 26.38it/s]"
     ]
    },
    {
     "name": "stdout",
     "output_type": "stream",
     "text": [
      "{'epoch': 5, 'iter': 260, 'avg_loss': 1.5126492894929031, 'avg_acc': 54.59770114942529, 'loss': 1.4236047267913818}\n"
     ]
    },
    {
     "name": "stderr",
     "output_type": "stream",
     "text": [
      "EP_train:5:  29%|| 276/938 [00:08<00:20, 31.70it/s]"
     ]
    },
    {
     "name": "stdout",
     "output_type": "stream",
     "text": [
      "{'epoch': 5, 'iter': 270, 'avg_loss': 1.5142242987657386, 'avg_acc': 54.55488929889298, 'loss': 1.328016996383667}\n"
     ]
    },
    {
     "name": "stderr",
     "output_type": "stream",
     "text": [
      "EP_train:5:  30%|| 285/938 [00:08<00:18, 34.75it/s]"
     ]
    },
    {
     "name": "stdout",
     "output_type": "stream",
     "text": [
      "{'epoch': 5, 'iter': 280, 'avg_loss': 1.5154359450968136, 'avg_acc': 54.52624555160143, 'loss': 1.6587533950805664}\n"
     ]
    },
    {
     "name": "stderr",
     "output_type": "stream",
     "text": [
      "EP_train:5:  32%|| 298/938 [00:09<00:17, 35.96it/s]"
     ]
    },
    {
     "name": "stdout",
     "output_type": "stream",
     "text": [
      "{'epoch': 5, 'iter': 290, 'avg_loss': 1.5145079638949783, 'avg_acc': 54.574742268041234, 'loss': 1.48062002658844}\n"
     ]
    },
    {
     "name": "stderr",
     "output_type": "stream",
     "text": [
      "EP_train:5:  33%|| 306/938 [00:09<00:17, 36.51it/s]"
     ]
    },
    {
     "name": "stdout",
     "output_type": "stream",
     "text": [
      "{'epoch': 5, 'iter': 300, 'avg_loss': 1.5138432856810053, 'avg_acc': 54.32931893687708, 'loss': 1.4984687566757202}\n"
     ]
    },
    {
     "name": "stderr",
     "output_type": "stream",
     "text": [
      "EP_train:5:  34%|| 319/938 [00:09<00:16, 37.80it/s]"
     ]
    },
    {
     "name": "stdout",
     "output_type": "stream",
     "text": [
      "{'epoch': 5, 'iter': 310, 'avg_loss': 1.5135568077541242, 'avg_acc': 54.30064308681673, 'loss': 1.5414745807647705}\n"
     ]
    },
    {
     "name": "stderr",
     "output_type": "stream",
     "text": [
      "EP_train:5:  35%|| 327/938 [00:10<00:16, 37.43it/s]"
     ]
    },
    {
     "name": "stdout",
     "output_type": "stream",
     "text": [
      "{'epoch': 5, 'iter': 320, 'avg_loss': 1.5139486128667434, 'avg_acc': 54.39057632398754, 'loss': 1.5101535320281982}\n"
     ]
    },
    {
     "name": "stderr",
     "output_type": "stream",
     "text": [
      "EP_train:5:  36%|| 335/938 [00:10<00:20, 28.99it/s]"
     ]
    },
    {
     "name": "stdout",
     "output_type": "stream",
     "text": [
      "{'epoch': 5, 'iter': 330, 'avg_loss': 1.5142634952176373, 'avg_acc': 54.239048338368576, 'loss': 1.454201579093933}\n"
     ]
    },
    {
     "name": "stderr",
     "output_type": "stream",
     "text": [
      "EP_train:5:  37%|| 347/938 [00:10<00:18, 32.27it/s]"
     ]
    },
    {
     "name": "stdout",
     "output_type": "stream",
     "text": [
      "{'epoch': 5, 'iter': 340, 'avg_loss': 1.5138243366895883, 'avg_acc': 54.26136363636363, 'loss': 1.2973031997680664}\n"
     ]
    },
    {
     "name": "stderr",
     "output_type": "stream",
     "text": [
      "EP_train:5:  38%|| 355/938 [00:11<00:16, 34.98it/s]"
     ]
    },
    {
     "name": "stdout",
     "output_type": "stream",
     "text": [
      "{'epoch': 5, 'iter': 350, 'avg_loss': 1.512427380621603, 'avg_acc': 54.228988603988604, 'loss': 1.5895285606384277}\n"
     ]
    },
    {
     "name": "stderr",
     "output_type": "stream",
     "text": [
      "EP_train:5:  39%|| 367/938 [00:11<00:15, 36.58it/s]"
     ]
    },
    {
     "name": "stdout",
     "output_type": "stream",
     "text": [
      "{'epoch': 5, 'iter': 360, 'avg_loss': 1.5138495708106297, 'avg_acc': 54.250346260387815, 'loss': 1.8355382680892944}\n"
     ]
    },
    {
     "name": "stderr",
     "output_type": "stream",
     "text": [
      "EP_train:5:  40%|| 375/938 [00:11<00:17, 32.69it/s]"
     ]
    },
    {
     "name": "stdout",
     "output_type": "stream",
     "text": [
      "{'epoch': 5, 'iter': 370, 'avg_loss': 1.5127311549739375, 'avg_acc': 54.11893530997305, 'loss': 1.193505883216858}\n"
     ]
    },
    {
     "name": "stderr",
     "output_type": "stream",
     "text": [
      "EP_train:5:  41%|| 387/938 [00:11<00:16, 34.41it/s]"
     ]
    },
    {
     "name": "stdout",
     "output_type": "stream",
     "text": [
      "{'epoch': 5, 'iter': 380, 'avg_loss': 1.5151703989724787, 'avg_acc': 54.33891076115486, 'loss': 1.534443736076355}\n"
     ]
    },
    {
     "name": "stderr",
     "output_type": "stream",
     "text": [
      "EP_train:5:  42%|| 395/938 [00:12<00:15, 34.73it/s]"
     ]
    },
    {
     "name": "stdout",
     "output_type": "stream",
     "text": [
      "{'epoch': 5, 'iter': 390, 'avg_loss': 1.514178384600393, 'avg_acc': 54.339833759590796, 'loss': 1.4947943687438965}\n"
     ]
    },
    {
     "name": "stderr",
     "output_type": "stream",
     "text": [
      "EP_train:5:  43%|| 407/938 [00:12<00:16, 32.69it/s]"
     ]
    },
    {
     "name": "stdout",
     "output_type": "stream",
     "text": [
      "{'epoch': 5, 'iter': 400, 'avg_loss': 1.5143755317626153, 'avg_acc': 54.43422693266833, 'loss': 1.5097638368606567}\n"
     ]
    },
    {
     "name": "stderr",
     "output_type": "stream",
     "text": [
      "EP_train:5:  44%|| 411/938 [00:12<00:15, 34.30it/s]"
     ]
    },
    {
     "name": "stdout",
     "output_type": "stream",
     "text": [
      "{'epoch': 5, 'iter': 410, 'avg_loss': 1.5132822746778056, 'avg_acc': 54.28832116788321, 'loss': 1.5655887126922607}\n"
     ]
    },
    {
     "name": "stderr",
     "output_type": "stream",
     "text": [
      "EP_train:5:  45%|| 424/938 [00:13<00:21, 23.48it/s]"
     ]
    },
    {
     "name": "stdout",
     "output_type": "stream",
     "text": [
      "{'epoch': 5, 'iter': 420, 'avg_loss': 1.5129775638535017, 'avg_acc': 54.37945368171021, 'loss': 1.2891901731491089}\n"
     ]
    },
    {
     "name": "stderr",
     "output_type": "stream",
     "text": [
      "EP_train:5:  46%|| 435/938 [00:13<00:17, 28.01it/s]"
     ]
    },
    {
     "name": "stdout",
     "output_type": "stream",
     "text": [
      "{'epoch': 5, 'iter': 430, 'avg_loss': 1.5135089416238383, 'avg_acc': 54.35759860788863, 'loss': 1.4495497941970825}\n"
     ]
    },
    {
     "name": "stderr",
     "output_type": "stream",
     "text": [
      "EP_train:5:  48%|| 447/938 [00:14<00:15, 31.90it/s]"
     ]
    },
    {
     "name": "stdout",
     "output_type": "stream",
     "text": [
      "{'epoch': 5, 'iter': 440, 'avg_loss': 1.5131081675185638, 'avg_acc': 54.36507936507936, 'loss': 1.649113655090332}\n"
     ]
    },
    {
     "name": "stderr",
     "output_type": "stream",
     "text": [
      "EP_train:5:  49%|| 455/938 [00:14<00:14, 34.30it/s]"
     ]
    },
    {
     "name": "stdout",
     "output_type": "stream",
     "text": [
      "{'epoch': 5, 'iter': 450, 'avg_loss': 1.5110322207939335, 'avg_acc': 54.46230598669624, 'loss': 1.2930166721343994}\n"
     ]
    },
    {
     "name": "stderr",
     "output_type": "stream",
     "text": [
      "EP_train:5:  50%|| 467/938 [00:14<00:12, 37.23it/s]"
     ]
    },
    {
     "name": "stdout",
     "output_type": "stream",
     "text": [
      "{'epoch': 5, 'iter': 460, 'avg_loss': 1.511352791444857, 'avg_acc': 54.46041214750542, 'loss': 1.5353339910507202}\n"
     ]
    },
    {
     "name": "stderr",
     "output_type": "stream",
     "text": [
      "EP_train:5:  51%|| 475/938 [00:14<00:12, 36.65it/s]"
     ]
    },
    {
     "name": "stdout",
     "output_type": "stream",
     "text": [
      "{'epoch': 5, 'iter': 470, 'avg_loss': 1.5114214556991674, 'avg_acc': 54.4254246284501, 'loss': 1.6337391138076782}\n"
     ]
    },
    {
     "name": "stderr",
     "output_type": "stream",
     "text": [
      "EP_train:5:  52%|| 488/938 [00:15<00:11, 37.54it/s]"
     ]
    },
    {
     "name": "stdout",
     "output_type": "stream",
     "text": [
      "{'epoch': 5, 'iter': 480, 'avg_loss': 1.510645364277576, 'avg_acc': 54.437370062370064, 'loss': 1.3147602081298828}\n"
     ]
    },
    {
     "name": "stderr",
     "output_type": "stream",
     "text": [
      "EP_train:5:  53%|| 496/938 [00:15<00:11, 37.60it/s]"
     ]
    },
    {
     "name": "stdout",
     "output_type": "stream",
     "text": [
      "{'epoch': 5, 'iter': 490, 'avg_loss': 1.5114771987173077, 'avg_acc': 54.51247454175153, 'loss': 1.4483815431594849}\n"
     ]
    },
    {
     "name": "stderr",
     "output_type": "stream",
     "text": [
      "EP_train:5:  54%|| 504/938 [00:15<00:12, 35.46it/s]"
     ]
    },
    {
     "name": "stdout",
     "output_type": "stream",
     "text": [
      "{'epoch': 5, 'iter': 500, 'avg_loss': 1.5113471691717884, 'avg_acc': 54.56586826347305, 'loss': 1.4141336679458618}\n"
     ]
    },
    {
     "name": "stderr",
     "output_type": "stream",
     "text": [
      "EP_train:5:  55%|| 515/938 [00:16<00:14, 28.55it/s]"
     ]
    },
    {
     "name": "stdout",
     "output_type": "stream",
     "text": [
      "{'epoch': 5, 'iter': 510, 'avg_loss': 1.5126237458678842, 'avg_acc': 54.513209393346386, 'loss': 1.4913781881332397}\n"
     ]
    },
    {
     "name": "stderr",
     "output_type": "stream",
     "text": [
      "EP_train:5:  56%|| 527/938 [00:16<00:12, 33.19it/s]"
     ]
    },
    {
     "name": "stdout",
     "output_type": "stream",
     "text": [
      "{'epoch': 5, 'iter': 520, 'avg_loss': 1.5130898389614933, 'avg_acc': 54.46257197696737, 'loss': 1.653603196144104}\n"
     ]
    },
    {
     "name": "stderr",
     "output_type": "stream",
     "text": [
      "EP_train:5:  57%|| 535/938 [00:16<00:11, 35.58it/s]"
     ]
    },
    {
     "name": "stdout",
     "output_type": "stream",
     "text": [
      "{'epoch': 5, 'iter': 530, 'avg_loss': 1.5131282608836834, 'avg_acc': 54.44326741996234, 'loss': 1.4724868535995483}\n"
     ]
    },
    {
     "name": "stderr",
     "output_type": "stream",
     "text": [
      "EP_train:5:  58%|| 548/938 [00:16<00:10, 36.84it/s]"
     ]
    },
    {
     "name": "stdout",
     "output_type": "stream",
     "text": [
      "{'epoch': 5, 'iter': 540, 'avg_loss': 1.5131797160326663, 'avg_acc': 54.47088724584104, 'loss': 1.5813264846801758}\n"
     ]
    },
    {
     "name": "stderr",
     "output_type": "stream",
     "text": [
      "EP_train:5:  59%|| 556/938 [00:17<00:10, 36.59it/s]"
     ]
    },
    {
     "name": "stdout",
     "output_type": "stream",
     "text": [
      "{'epoch': 5, 'iter': 550, 'avg_loss': 1.5118626459973261, 'avg_acc': 54.582577132486385, 'loss': 1.4565786123275757}\n"
     ]
    },
    {
     "name": "stderr",
     "output_type": "stream",
     "text": [
      "EP_train:5:  60%|| 565/938 [00:17<00:09, 37.41it/s]"
     ]
    },
    {
     "name": "stdout",
     "output_type": "stream",
     "text": [
      "{'epoch': 5, 'iter': 560, 'avg_loss': 1.5132676294993164, 'avg_acc': 54.60115864527629, 'loss': 1.3317657709121704}\n"
     ]
    },
    {
     "name": "stderr",
     "output_type": "stream",
     "text": [
      "EP_train:5:  62%|| 579/938 [00:17<00:08, 40.10it/s]"
     ]
    },
    {
     "name": "stdout",
     "output_type": "stream",
     "text": [
      "{'epoch': 5, 'iter': 570, 'avg_loss': 1.5128181822036904, 'avg_acc': 54.564360770577935, 'loss': 1.5730829238891602}\n"
     ]
    },
    {
     "name": "stderr",
     "output_type": "stream",
     "text": [
      "EP_train:5:  63%|| 589/938 [00:18<00:08, 40.48it/s]"
     ]
    },
    {
     "name": "stdout",
     "output_type": "stream",
     "text": [
      "{'epoch': 5, 'iter': 580, 'avg_loss': 1.5124950800828392, 'avg_acc': 54.67943201376936, 'loss': 1.5163506269454956}\n"
     ]
    },
    {
     "name": "stderr",
     "output_type": "stream",
     "text": [
      "EP_train:5:  64%|| 598/938 [00:18<00:10, 32.26it/s]"
     ]
    },
    {
     "name": "stdout",
     "output_type": "stream",
     "text": [
      "{'epoch': 5, 'iter': 590, 'avg_loss': 1.5127887280055916, 'avg_acc': 54.748307952622675, 'loss': 1.6289929151535034}\n"
     ]
    },
    {
     "name": "stderr",
     "output_type": "stream",
     "text": [
      "EP_train:5:  65%|| 606/938 [00:18<00:09, 34.63it/s]"
     ]
    },
    {
     "name": "stdout",
     "output_type": "stream",
     "text": [
      "{'epoch': 5, 'iter': 600, 'avg_loss': 1.5137662968897383, 'avg_acc': 54.77329450915141, 'loss': 1.5778799057006836}\n"
     ]
    },
    {
     "name": "stderr",
     "output_type": "stream",
     "text": [
      "EP_train:5:  66%|| 616/938 [00:18<00:08, 38.67it/s]"
     ]
    },
    {
     "name": "stdout",
     "output_type": "stream",
     "text": [
      "{'epoch': 5, 'iter': 610, 'avg_loss': 1.5137359219955344, 'avg_acc': 54.77189034369886, 'loss': 1.5825128555297852}\n"
     ]
    },
    {
     "name": "stderr",
     "output_type": "stream",
     "text": [
      "EP_train:5:  67%|| 626/938 [00:19<00:07, 40.86it/s]"
     ]
    },
    {
     "name": "stdout",
     "output_type": "stream",
     "text": [
      "{'epoch': 5, 'iter': 620, 'avg_loss': 1.5134110408512675, 'avg_acc': 54.75543478260869, 'loss': 1.383101224899292}\n"
     ]
    },
    {
     "name": "stderr",
     "output_type": "stream",
     "text": [
      "EP_train:5:  68%|| 636/938 [00:19<00:07, 42.06it/s]"
     ]
    },
    {
     "name": "stdout",
     "output_type": "stream",
     "text": [
      "{'epoch': 5, 'iter': 630, 'avg_loss': 1.512704015344901, 'avg_acc': 54.69988114104596, 'loss': 1.5109038352966309}\n"
     ]
    },
    {
     "name": "stderr",
     "output_type": "stream",
     "text": [
      "EP_train:5:  69%|| 646/938 [00:19<00:06, 42.54it/s]"
     ]
    },
    {
     "name": "stdout",
     "output_type": "stream",
     "text": [
      "{'epoch': 5, 'iter': 640, 'avg_loss': 1.5125142088546395, 'avg_acc': 54.75331513260531, 'loss': 1.5376460552215576}\n"
     ]
    },
    {
     "name": "stderr",
     "output_type": "stream",
     "text": [
      "EP_train:5:  70%|| 656/938 [00:19<00:06, 42.54it/s]"
     ]
    },
    {
     "name": "stdout",
     "output_type": "stream",
     "text": [
      "{'epoch': 5, 'iter': 650, 'avg_loss': 1.5118939233815065, 'avg_acc': 54.7571044546851, 'loss': 1.5160447359085083}\n"
     ]
    },
    {
     "name": "stderr",
     "output_type": "stream",
     "text": [
      "EP_train:5:  70%|| 661/938 [00:19<00:06, 43.04it/s]"
     ]
    },
    {
     "name": "stdout",
     "output_type": "stream",
     "text": [
      "{'epoch': 5, 'iter': 660, 'avg_loss': 1.5128288925505622, 'avg_acc': 54.76077912254161, 'loss': 1.4245516061782837}\n"
     ]
    },
    {
     "name": "stderr",
     "output_type": "stream",
     "text": [
      "EP_train:5:  72%|| 674/938 [00:20<00:07, 33.73it/s]"
     ]
    },
    {
     "name": "stdout",
     "output_type": "stream",
     "text": [
      "{'epoch': 5, 'iter': 670, 'avg_loss': 1.5124758982978173, 'avg_acc': 54.736400894187774, 'loss': 1.3863508701324463}\n"
     ]
    },
    {
     "name": "stderr",
     "output_type": "stream",
     "text": [
      "EP_train:5:  73%|| 689/938 [00:20<00:06, 38.78it/s]"
     ]
    },
    {
     "name": "stdout",
     "output_type": "stream",
     "text": [
      "{'epoch': 5, 'iter': 680, 'avg_loss': 1.5124738816822854, 'avg_acc': 54.77239353891336, 'loss': 1.4520859718322754}\n"
     ]
    },
    {
     "name": "stderr",
     "output_type": "stream",
     "text": [
      "EP_train:5:  75%|| 699/938 [00:20<00:05, 41.81it/s]"
     ]
    },
    {
     "name": "stdout",
     "output_type": "stream",
     "text": [
      "{'epoch': 5, 'iter': 690, 'avg_loss': 1.5134899699049644, 'avg_acc': 54.73950795947901, 'loss': 1.6425541639328003}\n"
     ]
    },
    {
     "name": "stderr",
     "output_type": "stream",
     "text": [
      "EP_train:5:  76%|| 709/938 [00:21<00:05, 42.41it/s]"
     ]
    },
    {
     "name": "stdout",
     "output_type": "stream",
     "text": [
      "{'epoch': 5, 'iter': 700, 'avg_loss': 1.5127377552584813, 'avg_acc': 54.72093437945792, 'loss': 1.558314323425293}\n"
     ]
    },
    {
     "name": "stderr",
     "output_type": "stream",
     "text": [
      "EP_train:5:  77%|| 719/938 [00:21<00:05, 43.70it/s]"
     ]
    },
    {
     "name": "stdout",
     "output_type": "stream",
     "text": [
      "{'epoch': 5, 'iter': 710, 'avg_loss': 1.5125019816909662, 'avg_acc': 54.724859353023916, 'loss': 1.4141497611999512}\n"
     ]
    },
    {
     "name": "stderr",
     "output_type": "stream",
     "text": [
      "EP_train:5:  78%|| 729/938 [00:21<00:04, 43.24it/s]"
     ]
    },
    {
     "name": "stdout",
     "output_type": "stream",
     "text": [
      "{'epoch': 5, 'iter': 720, 'avg_loss': 1.5126292204559262, 'avg_acc': 54.680998613037445, 'loss': 1.648291826248169}\n"
     ]
    },
    {
     "name": "stderr",
     "output_type": "stream",
     "text": [
      "EP_train:5:  79%|| 739/938 [00:21<00:04, 42.07it/s]"
     ]
    },
    {
     "name": "stdout",
     "output_type": "stream",
     "text": [
      "{'epoch': 5, 'iter': 730, 'avg_loss': 1.5131430934131065, 'avg_acc': 54.67253761969905, 'loss': 1.4662171602249146}\n"
     ]
    },
    {
     "name": "stderr",
     "output_type": "stream",
     "text": [
      "EP_train:5:  80%|| 749/938 [00:22<00:04, 42.94it/s]"
     ]
    },
    {
     "name": "stdout",
     "output_type": "stream",
     "text": [
      "{'epoch': 5, 'iter': 740, 'avg_loss': 1.5133152255806042, 'avg_acc': 54.64321862348178, 'loss': 1.4561313390731812}\n"
     ]
    },
    {
     "name": "stderr",
     "output_type": "stream",
     "text": [
      "EP_train:5:  80%|| 754/938 [00:22<00:04, 42.02it/s]"
     ]
    },
    {
     "name": "stdout",
     "output_type": "stream",
     "text": [
      "{'epoch': 5, 'iter': 750, 'avg_loss': 1.513609073927177, 'avg_acc': 54.643808255659124, 'loss': 1.3355498313903809}\n"
     ]
    },
    {
     "name": "stderr",
     "output_type": "stream",
     "text": [
      "EP_train:5:  82%|| 767/938 [00:22<00:05, 31.72it/s]"
     ]
    },
    {
     "name": "stdout",
     "output_type": "stream",
     "text": [
      "{'epoch': 5, 'iter': 760, 'avg_loss': 1.514719753165126, 'avg_acc': 54.71419185282523, 'loss': 1.4286621809005737}\n"
     ]
    },
    {
     "name": "stderr",
     "output_type": "stream",
     "text": [
      "EP_train:5:  83%|| 775/938 [00:22<00:04, 33.94it/s]"
     ]
    },
    {
     "name": "stdout",
     "output_type": "stream",
     "text": [
      "{'epoch': 5, 'iter': 770, 'avg_loss': 1.5149451500401578, 'avg_acc': 54.68952658884566, 'loss': 1.4722464084625244}\n"
     ]
    },
    {
     "name": "stderr",
     "output_type": "stream",
     "text": [
      "EP_train:5:  84%|| 788/938 [00:23<00:04, 35.81it/s]"
     ]
    },
    {
     "name": "stdout",
     "output_type": "stream",
     "text": [
      "{'epoch': 5, 'iter': 780, 'avg_loss': 1.514097270220709, 'avg_acc': 54.697503201024325, 'loss': 1.6160327196121216}\n"
     ]
    },
    {
     "name": "stderr",
     "output_type": "stream",
     "text": [
      "EP_train:5:  85%|| 796/938 [00:23<00:03, 36.73it/s]"
     ]
    },
    {
     "name": "stdout",
     "output_type": "stream",
     "text": [
      "{'epoch': 5, 'iter': 790, 'avg_loss': 1.5144601092778627, 'avg_acc': 54.653919089759796, 'loss': 1.595680832862854}\n"
     ]
    },
    {
     "name": "stderr",
     "output_type": "stream",
     "text": [
      "EP_train:5:  86%|| 808/938 [00:23<00:03, 37.15it/s]"
     ]
    },
    {
     "name": "stdout",
     "output_type": "stream",
     "text": [
      "{'epoch': 5, 'iter': 800, 'avg_loss': 1.514712783430102, 'avg_acc': 54.634831460674164, 'loss': 1.167453408241272}\n"
     ]
    },
    {
     "name": "stderr",
     "output_type": "stream",
     "text": [
      "EP_train:5:  87%|| 816/938 [00:24<00:03, 37.49it/s]"
     ]
    },
    {
     "name": "stdout",
     "output_type": "stream",
     "text": [
      "{'epoch': 5, 'iter': 810, 'avg_loss': 1.5137232686088646, 'avg_acc': 54.627774352651045, 'loss': 1.2898378372192383}\n"
     ]
    },
    {
     "name": "stderr",
     "output_type": "stream",
     "text": [
      "EP_train:5:  88%|| 828/938 [00:24<00:03, 35.53it/s]"
     ]
    },
    {
     "name": "stdout",
     "output_type": "stream",
     "text": [
      "{'epoch': 5, 'iter': 820, 'avg_loss': 1.5134858104982272, 'avg_acc': 54.620889159561514, 'loss': 1.613074779510498}\n"
     ]
    },
    {
     "name": "stderr",
     "output_type": "stream",
     "text": [
      "EP_train:5:  89%|| 832/938 [00:24<00:03, 33.76it/s]"
     ]
    },
    {
     "name": "stdout",
     "output_type": "stream",
     "text": [
      "{'epoch': 5, 'iter': 830, 'avg_loss': 1.5146761174379846, 'avg_acc': 54.6104091456077, 'loss': 1.4785257577896118}\n"
     ]
    },
    {
     "name": "stderr",
     "output_type": "stream",
     "text": [
      "EP_train:5:  91%|| 849/938 [00:25<00:02, 32.93it/s]"
     ]
    },
    {
     "name": "stdout",
     "output_type": "stream",
     "text": [
      "{'epoch': 5, 'iter': 840, 'avg_loss': 1.514163296939927, 'avg_acc': 54.59646254458978, 'loss': 1.5097323656082153}\n"
     ]
    },
    {
     "name": "stderr",
     "output_type": "stream",
     "text": [
      "EP_train:5:  91%|| 858/938 [00:25<00:02, 36.14it/s]"
     ]
    },
    {
     "name": "stdout",
     "output_type": "stream",
     "text": [
      "{'epoch': 5, 'iter': 850, 'avg_loss': 1.51444286899477, 'avg_acc': 54.535105757931845, 'loss': 1.9097462892532349}\n"
     ]
    },
    {
     "name": "stderr",
     "output_type": "stream",
     "text": [
      "EP_train:5:  93%|| 868/938 [00:25<00:01, 38.99it/s]"
     ]
    },
    {
     "name": "stdout",
     "output_type": "stream",
     "text": [
      "{'epoch': 5, 'iter': 860, 'avg_loss': 1.5145550710122067, 'avg_acc': 54.54050522648084, 'loss': 1.6266160011291504}\n"
     ]
    },
    {
     "name": "stderr",
     "output_type": "stream",
     "text": [
      "EP_train:5:  93%|| 877/938 [00:25<00:01, 39.35it/s]"
     ]
    },
    {
     "name": "stdout",
     "output_type": "stream",
     "text": [
      "{'epoch': 5, 'iter': 870, 'avg_loss': 1.514620978851406, 'avg_acc': 54.54936854190585, 'loss': 1.3623042106628418}\n"
     ]
    },
    {
     "name": "stderr",
     "output_type": "stream",
     "text": [
      "EP_train:5:  95%|| 887/938 [00:26<00:01, 40.08it/s]"
     ]
    },
    {
     "name": "stdout",
     "output_type": "stream",
     "text": [
      "{'epoch': 5, 'iter': 880, 'avg_loss': 1.514002236145444, 'avg_acc': 54.55803064699205, 'loss': 1.3981707096099854}\n"
     ]
    },
    {
     "name": "stderr",
     "output_type": "stream",
     "text": [
      "EP_train:5:  96%|| 897/938 [00:26<00:01, 40.26it/s]"
     ]
    },
    {
     "name": "stdout",
     "output_type": "stream",
     "text": [
      "{'epoch': 5, 'iter': 890, 'avg_loss': 1.5151732508448505, 'avg_acc': 54.57351290684625, 'loss': 1.535224437713623}\n"
     ]
    },
    {
     "name": "stderr",
     "output_type": "stream",
     "text": [
      "EP_train:5:  97%|| 907/938 [00:26<00:00, 40.98it/s]"
     ]
    },
    {
     "name": "stdout",
     "output_type": "stream",
     "text": [
      "{'epoch': 5, 'iter': 900, 'avg_loss': 1.515239252763636, 'avg_acc': 54.595588235294116, 'loss': 1.5877714157104492}\n"
     ]
    },
    {
     "name": "stderr",
     "output_type": "stream",
     "text": [
      "EP_train:5:  98%|| 917/938 [00:26<00:00, 40.40it/s]"
     ]
    },
    {
     "name": "stdout",
     "output_type": "stream",
     "text": [
      "{'epoch': 5, 'iter': 910, 'avg_loss': 1.5153888465282552, 'avg_acc': 54.5897365532382, 'loss': 1.5673089027404785}\n"
     ]
    },
    {
     "name": "stderr",
     "output_type": "stream",
     "text": [
      "EP_train:5:  98%|| 922/938 [00:26<00:00, 40.94it/s]"
     ]
    },
    {
     "name": "stdout",
     "output_type": "stream",
     "text": [
      "{'epoch': 5, 'iter': 920, 'avg_loss': 1.5152863161830508, 'avg_acc': 54.584011943539636, 'loss': 1.3124295473098755}\n"
     ]
    },
    {
     "name": "stderr",
     "output_type": "stream",
     "text": [
      "EP_train:5: 100%|| 938/938 [00:27<00:00, 34.14it/s]\n"
     ]
    },
    {
     "name": "stdout",
     "output_type": "stream",
     "text": [
      "{'epoch': 5, 'iter': 930, 'avg_loss': 1.5150450487270006, 'avg_acc': 54.56162728249194, 'loss': 1.6709415912628174}\n",
      "EP5, train:             avg_loss=1.5144983831245,             total_acc=54.57485828609536\n"
     ]
    },
    {
     "name": "stderr",
     "output_type": "stream",
     "text": [
      "EP_train:6:   1%|| 9/938 [00:00<00:23, 39.51it/s]"
     ]
    },
    {
     "name": "stdout",
     "output_type": "stream",
     "text": [
      "{'epoch': 6, 'iter': 0, 'avg_loss': 1.5756994485855103, 'avg_acc': 46.875, 'loss': 1.5756994485855103}\n"
     ]
    },
    {
     "name": "stderr",
     "output_type": "stream",
     "text": [
      "EP_train:6:   2%|| 18/938 [00:00<00:22, 40.09it/s]"
     ]
    },
    {
     "name": "stdout",
     "output_type": "stream",
     "text": [
      "{'epoch': 6, 'iter': 10, 'avg_loss': 1.5194881287488071, 'avg_acc': 53.125, 'loss': 1.6290420293807983}\n"
     ]
    },
    {
     "name": "stderr",
     "output_type": "stream",
     "text": [
      "EP_train:6:   3%|| 26/938 [00:00<00:22, 39.73it/s]"
     ]
    },
    {
     "name": "stdout",
     "output_type": "stream",
     "text": [
      "{'epoch': 6, 'iter': 20, 'avg_loss': 1.5124396199271792, 'avg_acc': 54.166666666666664, 'loss': 1.519171118736267}\n"
     ]
    },
    {
     "name": "stderr",
     "output_type": "stream",
     "text": [
      "EP_train:6:   4%|| 36/938 [00:00<00:22, 40.29it/s]"
     ]
    },
    {
     "name": "stdout",
     "output_type": "stream",
     "text": [
      "{'epoch': 6, 'iter': 30, 'avg_loss': 1.5327757750788042, 'avg_acc': 55.24193548387096, 'loss': 1.6801419258117676}\n"
     ]
    },
    {
     "name": "stderr",
     "output_type": "stream",
     "text": [
      "EP_train:6:   5%|| 46/938 [00:01<00:22, 40.18it/s]"
     ]
    },
    {
     "name": "stdout",
     "output_type": "stream",
     "text": [
      "{'epoch': 6, 'iter': 40, 'avg_loss': 1.5286779403686523, 'avg_acc': 53.65853658536586, 'loss': 1.545724630355835}\n"
     ]
    },
    {
     "name": "stderr",
     "output_type": "stream",
     "text": [
      "EP_train:6:   6%|| 56/938 [00:01<00:21, 40.47it/s]"
     ]
    },
    {
     "name": "stdout",
     "output_type": "stream",
     "text": [
      "{'epoch': 6, 'iter': 50, 'avg_loss': 1.5385572699939503, 'avg_acc': 54.41176470588235, 'loss': 1.4134368896484375}\n"
     ]
    },
    {
     "name": "stderr",
     "output_type": "stream",
     "text": [
      "EP_train:6:   7%|| 66/938 [00:01<00:21, 40.85it/s]"
     ]
    },
    {
     "name": "stdout",
     "output_type": "stream",
     "text": [
      "{'epoch': 6, 'iter': 60, 'avg_loss': 1.5397614846464063, 'avg_acc': 54.61065573770492, 'loss': 1.5083034038543701}\n"
     ]
    },
    {
     "name": "stderr",
     "output_type": "stream",
     "text": [
      "EP_train:6:   8%|| 76/938 [00:01<00:21, 40.97it/s]"
     ]
    },
    {
     "name": "stdout",
     "output_type": "stream",
     "text": [
      "{'epoch': 6, 'iter': 70, 'avg_loss': 1.5323361225531136, 'avg_acc': 54.401408450704224, 'loss': 1.3324923515319824}\n"
     ]
    },
    {
     "name": "stderr",
     "output_type": "stream",
     "text": [
      "EP_train:6:   9%|| 81/938 [00:01<00:20, 41.58it/s]"
     ]
    },
    {
     "name": "stdout",
     "output_type": "stream",
     "text": [
      "{'epoch': 6, 'iter': 80, 'avg_loss': 1.5361377044960305, 'avg_acc': 54.78395061728395, 'loss': 1.326529860496521}\n"
     ]
    },
    {
     "name": "stderr",
     "output_type": "stream",
     "text": [
      "EP_train:6:  11%|| 99/938 [00:02<00:23, 36.00it/s]"
     ]
    },
    {
     "name": "stdout",
     "output_type": "stream",
     "text": [
      "{'epoch': 6, 'iter': 90, 'avg_loss': 1.5329974719456263, 'avg_acc': 54.876373626373635, 'loss': 1.4711774587631226}\n"
     ]
    },
    {
     "name": "stderr",
     "output_type": "stream",
     "text": [
      "EP_train:6:  11%|| 107/938 [00:02<00:22, 36.86it/s]"
     ]
    },
    {
     "name": "stdout",
     "output_type": "stream",
     "text": [
      "{'epoch': 6, 'iter': 100, 'avg_loss': 1.5305938260390026, 'avg_acc': 54.82673267326733, 'loss': 1.345202922821045}\n"
     ]
    },
    {
     "name": "stderr",
     "output_type": "stream",
     "text": [
      "EP_train:6:  12%|| 116/938 [00:03<00:21, 37.44it/s]"
     ]
    },
    {
     "name": "stdout",
     "output_type": "stream",
     "text": [
      "{'epoch': 6, 'iter': 110, 'avg_loss': 1.5355432012059667, 'avg_acc': 55.123873873873876, 'loss': 1.5844237804412842}\n"
     ]
    },
    {
     "name": "stderr",
     "output_type": "stream",
     "text": [
      "EP_train:6:  14%|| 129/938 [00:03<00:20, 38.57it/s]"
     ]
    },
    {
     "name": "stdout",
     "output_type": "stream",
     "text": [
      "{'epoch': 6, 'iter': 120, 'avg_loss': 1.5406444121983425, 'avg_acc': 55.087809917355365, 'loss': 1.6900668144226074}\n"
     ]
    },
    {
     "name": "stderr",
     "output_type": "stream",
     "text": [
      "EP_train:6:  15%|| 137/938 [00:03<00:20, 38.16it/s]"
     ]
    },
    {
     "name": "stdout",
     "output_type": "stream",
     "text": [
      "{'epoch': 6, 'iter': 130, 'avg_loss': 1.5422370024309813, 'avg_acc': 55.534351145038165, 'loss': 1.478071928024292}\n"
     ]
    },
    {
     "name": "stderr",
     "output_type": "stream",
     "text": [
      "EP_train:6:  16%|| 146/938 [00:03<00:20, 38.78it/s]"
     ]
    },
    {
     "name": "stdout",
     "output_type": "stream",
     "text": [
      "{'epoch': 6, 'iter': 140, 'avg_loss': 1.5442448558536828, 'avg_acc': 55.34131205673759, 'loss': 1.7186470031738281}\n"
     ]
    },
    {
     "name": "stderr",
     "output_type": "stream",
     "text": [
      "EP_train:6:  17%|| 155/938 [00:04<00:20, 37.68it/s]"
     ]
    },
    {
     "name": "stdout",
     "output_type": "stream",
     "text": [
      "{'epoch': 6, 'iter': 150, 'avg_loss': 1.5417744308118, 'avg_acc': 55.484271523178805, 'loss': 1.3312089443206787}\n"
     ]
    },
    {
     "name": "stderr",
     "output_type": "stream",
     "text": [
      "EP_train:6:  17%|| 164/938 [00:04<00:20, 37.54it/s]"
     ]
    },
    {
     "name": "stdout",
     "output_type": "stream",
     "text": [
      "{'epoch': 6, 'iter': 160, 'avg_loss': 1.536958727036944, 'avg_acc': 55.26009316770186, 'loss': 1.3714264631271362}\n"
     ]
    },
    {
     "name": "stderr",
     "output_type": "stream",
     "text": [
      "EP_train:6:  19%|| 177/938 [00:04<00:24, 30.51it/s]"
     ]
    },
    {
     "name": "stdout",
     "output_type": "stream",
     "text": [
      "{'epoch': 6, 'iter': 170, 'avg_loss': 1.5392859191225285, 'avg_acc': 55.28143274853801, 'loss': 1.315152645111084}\n"
     ]
    },
    {
     "name": "stderr",
     "output_type": "stream",
     "text": [
      "EP_train:6:  20%|| 185/938 [00:04<00:22, 33.14it/s]"
     ]
    },
    {
     "name": "stdout",
     "output_type": "stream",
     "text": [
      "{'epoch': 6, 'iter': 180, 'avg_loss': 1.5330380313304248, 'avg_acc': 55.196823204419886, 'loss': 1.3332011699676514}\n"
     ]
    },
    {
     "name": "stderr",
     "output_type": "stream",
     "text": [
      "EP_train:6:  21%|| 198/938 [00:05<00:19, 37.01it/s]"
     ]
    },
    {
     "name": "stdout",
     "output_type": "stream",
     "text": [
      "{'epoch': 6, 'iter': 190, 'avg_loss': 1.528604763964708, 'avg_acc': 55.366492146596855, 'loss': 1.3600717782974243}\n"
     ]
    },
    {
     "name": "stderr",
     "output_type": "stream",
     "text": [
      "EP_train:6:  22%|| 206/938 [00:05<00:19, 36.77it/s]"
     ]
    },
    {
     "name": "stdout",
     "output_type": "stream",
     "text": [
      "{'epoch': 6, 'iter': 200, 'avg_loss': 1.5312648003374165, 'avg_acc': 55.42599502487562, 'loss': 1.6385385990142822}\n"
     ]
    },
    {
     "name": "stderr",
     "output_type": "stream",
     "text": [
      "EP_train:6:  23%|| 214/938 [00:05<00:20, 36.19it/s]"
     ]
    },
    {
     "name": "stdout",
     "output_type": "stream",
     "text": [
      "{'epoch': 6, 'iter': 210, 'avg_loss': 1.5314823490748473, 'avg_acc': 55.33175355450237, 'loss': 1.5367618799209595}\n"
     ]
    },
    {
     "name": "stderr",
     "output_type": "stream",
     "text": [
      "EP_train:6:  24%|| 227/938 [00:06<00:18, 37.49it/s]"
     ]
    },
    {
     "name": "stdout",
     "output_type": "stream",
     "text": [
      "{'epoch': 6, 'iter': 220, 'avg_loss': 1.5330856989951156, 'avg_acc': 54.96323529411765, 'loss': 1.630436897277832}\n"
     ]
    },
    {
     "name": "stderr",
     "output_type": "stream",
     "text": [
      "EP_train:6:  25%|| 235/938 [00:06<00:18, 37.17it/s]"
     ]
    },
    {
     "name": "stdout",
     "output_type": "stream",
     "text": [
      "{'epoch': 6, 'iter': 230, 'avg_loss': 1.5338237363022644, 'avg_acc': 55.032467532467535, 'loss': 1.3146532773971558}\n"
     ]
    },
    {
     "name": "stderr",
     "output_type": "stream",
     "text": [
      "EP_train:6:  26%|| 248/938 [00:06<00:18, 38.05it/s]"
     ]
    },
    {
     "name": "stdout",
     "output_type": "stream",
     "text": [
      "{'epoch': 6, 'iter': 240, 'avg_loss': 1.534296542282421, 'avg_acc': 54.927385892116185, 'loss': 1.456894040107727}\n"
     ]
    },
    {
     "name": "stderr",
     "output_type": "stream",
     "text": [
      "EP_train:6:  27%|| 252/938 [00:06<00:18, 37.86it/s]"
     ]
    },
    {
     "name": "stdout",
     "output_type": "stream",
     "text": [
      "{'epoch': 6, 'iter': 250, 'avg_loss': 1.537156667842333, 'avg_acc': 54.8804780876494, 'loss': 1.7384302616119385}\n"
     ]
    },
    {
     "name": "stderr",
     "output_type": "stream",
     "text": [
      "EP_train:6:  29%|| 269/938 [00:07<00:19, 33.64it/s]"
     ]
    },
    {
     "name": "stdout",
     "output_type": "stream",
     "text": [
      "{'epoch': 6, 'iter': 260, 'avg_loss': 1.5374045065993094, 'avg_acc': 54.94492337164751, 'loss': 1.3407772779464722}\n"
     ]
    },
    {
     "name": "stderr",
     "output_type": "stream",
     "text": [
      "EP_train:6:  30%|| 277/938 [00:07<00:19, 34.30it/s]"
     ]
    },
    {
     "name": "stdout",
     "output_type": "stream",
     "text": [
      "{'epoch': 6, 'iter': 270, 'avg_loss': 1.5380994380620132, 'avg_acc': 54.79704797047971, 'loss': 1.351050615310669}\n"
     ]
    },
    {
     "name": "stderr",
     "output_type": "stream",
     "text": [
      "EP_train:6:  30%|| 285/938 [00:07<00:19, 33.66it/s]"
     ]
    },
    {
     "name": "stdout",
     "output_type": "stream",
     "text": [
      "{'epoch': 6, 'iter': 280, 'avg_loss': 1.5376403900227937, 'avg_acc': 54.770907473309606, 'loss': 1.6710302829742432}\n"
     ]
    },
    {
     "name": "stderr",
     "output_type": "stream",
     "text": [
      "EP_train:6:  31%|| 293/938 [00:08<00:20, 32.10it/s]"
     ]
    },
    {
     "name": "stdout",
     "output_type": "stream",
     "text": [
      "{'epoch': 6, 'iter': 290, 'avg_loss': 1.5344689916499292, 'avg_acc': 54.75730240549829, 'loss': 1.3932956457138062}\n"
     ]
    },
    {
     "name": "stderr",
     "output_type": "stream",
     "text": [
      "EP_train:6:  33%|| 309/938 [00:08<00:17, 35.87it/s]"
     ]
    },
    {
     "name": "stdout",
     "output_type": "stream",
     "text": [
      "{'epoch': 6, 'iter': 300, 'avg_loss': 1.5325755617547272, 'avg_acc': 54.58887043189369, 'loss': 1.539633870124817}\n"
     ]
    },
    {
     "name": "stderr",
     "output_type": "stream",
     "text": [
      "EP_train:6:  34%|| 317/938 [00:08<00:17, 35.36it/s]"
     ]
    },
    {
     "name": "stdout",
     "output_type": "stream",
     "text": [
      "{'epoch': 6, 'iter': 310, 'avg_loss': 1.5304296511162516, 'avg_acc': 54.6322347266881, 'loss': 1.3955442905426025}\n"
     ]
    },
    {
     "name": "stderr",
     "output_type": "stream",
     "text": [
      "EP_train:6:  35%|| 325/938 [00:09<00:18, 33.55it/s]"
     ]
    },
    {
     "name": "stdout",
     "output_type": "stream",
     "text": [
      "{'epoch': 6, 'iter': 320, 'avg_loss': 1.5298423521986633, 'avg_acc': 54.75077881619937, 'loss': 1.4066482782363892}\n"
     ]
    },
    {
     "name": "stderr",
     "output_type": "stream",
     "text": [
      "EP_train:6:  36%|| 336/938 [00:09<00:23, 25.35it/s]"
     ]
    },
    {
     "name": "stdout",
     "output_type": "stream",
     "text": [
      "{'epoch': 6, 'iter': 330, 'avg_loss': 1.5276404305887366, 'avg_acc': 54.711102719033235, 'loss': 1.375433325767517}\n"
     ]
    },
    {
     "name": "stderr",
     "output_type": "stream",
     "text": [
      "EP_train:6:  37%|| 346/938 [00:09<00:20, 29.34it/s]"
     ]
    },
    {
     "name": "stdout",
     "output_type": "stream",
     "text": [
      "{'epoch': 6, 'iter': 340, 'avg_loss': 1.527931394115571, 'avg_acc': 54.79288856304986, 'loss': 1.5686062574386597}\n"
     ]
    },
    {
     "name": "stderr",
     "output_type": "stream",
     "text": [
      "EP_train:6:  38%|| 354/938 [00:10<00:20, 28.75it/s]"
     ]
    },
    {
     "name": "stdout",
     "output_type": "stream",
     "text": [
      "{'epoch': 6, 'iter': 350, 'avg_loss': 1.5285895033779306, 'avg_acc': 54.83440170940172, 'loss': 1.4436169862747192}\n"
     ]
    },
    {
     "name": "stderr",
     "output_type": "stream",
     "text": [
      "EP_train:6:  39%|| 365/938 [00:10<00:18, 30.74it/s]"
     ]
    },
    {
     "name": "stdout",
     "output_type": "stream",
     "text": [
      "{'epoch': 6, 'iter': 360, 'avg_loss': 1.5294495418131187, 'avg_acc': 54.95152354570637, 'loss': 1.7604169845581055}\n"
     ]
    },
    {
     "name": "stderr",
     "output_type": "stream",
     "text": [
      "EP_train:6:  40%|| 377/938 [00:10<00:16, 33.54it/s]"
     ]
    },
    {
     "name": "stdout",
     "output_type": "stream",
     "text": [
      "{'epoch': 6, 'iter': 370, 'avg_loss': 1.529720371624209, 'avg_acc': 54.89386792452831, 'loss': 1.6322517395019531}\n"
     ]
    },
    {
     "name": "stderr",
     "output_type": "stream",
     "text": [
      "EP_train:6:  41%|| 389/938 [00:11<00:15, 35.74it/s]"
     ]
    },
    {
     "name": "stdout",
     "output_type": "stream",
     "text": [
      "{'epoch': 6, 'iter': 380, 'avg_loss': 1.5280590989771166, 'avg_acc': 54.93766404199475, 'loss': 1.2208672761917114}\n"
     ]
    },
    {
     "name": "stderr",
     "output_type": "stream",
     "text": [
      "EP_train:6:  42%|| 397/938 [00:11<00:15, 35.31it/s]"
     ]
    },
    {
     "name": "stdout",
     "output_type": "stream",
     "text": [
      "{'epoch': 6, 'iter': 390, 'avg_loss': 1.5291575144623857, 'avg_acc': 54.92327365728901, 'loss': 1.5540803670883179}\n"
     ]
    },
    {
     "name": "stderr",
     "output_type": "stream",
     "text": [
      "EP_train:6:  43%|| 401/938 [00:11<00:15, 34.97it/s]"
     ]
    },
    {
     "name": "stdout",
     "output_type": "stream",
     "text": [
      "{'epoch': 6, 'iter': 400, 'avg_loss': 1.5279510737654574, 'avg_acc': 54.917394014962596, 'loss': 1.4424681663513184}\n"
     ]
    },
    {
     "name": "stderr",
     "output_type": "stream",
     "text": [
      "EP_train:6:  44%|| 417/938 [00:12<00:16, 30.95it/s]"
     ]
    },
    {
     "name": "stdout",
     "output_type": "stream",
     "text": [
      "{'epoch': 6, 'iter': 410, 'avg_loss': 1.527012108596282, 'avg_acc': 54.8661800486618, 'loss': 1.54203462600708}\n"
     ]
    },
    {
     "name": "stderr",
     "output_type": "stream",
     "text": [
      "EP_train:6:  45%|| 425/938 [00:12<00:15, 32.94it/s]"
     ]
    },
    {
     "name": "stdout",
     "output_type": "stream",
     "text": [
      "{'epoch': 6, 'iter': 420, 'avg_loss': 1.5252816764872317, 'avg_acc': 54.83966745843231, 'loss': 1.471065640449524}\n"
     ]
    },
    {
     "name": "stderr",
     "output_type": "stream",
     "text": [
      "EP_train:6:  47%|| 437/938 [00:12<00:14, 34.47it/s]"
     ]
    },
    {
     "name": "stdout",
     "output_type": "stream",
     "text": [
      "{'epoch': 6, 'iter': 430, 'avg_loss': 1.5249059543255588, 'avg_acc': 54.90139211136891, 'loss': 1.4323650598526}\n"
     ]
    },
    {
     "name": "stderr",
     "output_type": "stream",
     "text": [
      "EP_train:6:  47%|| 445/938 [00:12<00:14, 34.49it/s]"
     ]
    },
    {
     "name": "stdout",
     "output_type": "stream",
     "text": [
      "{'epoch': 6, 'iter': 440, 'avg_loss': 1.5267796973252243, 'avg_acc': 54.953231292517, 'loss': 1.6243021488189697}\n"
     ]
    },
    {
     "name": "stderr",
     "output_type": "stream",
     "text": [
      "EP_train:6:  49%|| 457/938 [00:13<00:13, 35.64it/s]"
     ]
    },
    {
     "name": "stdout",
     "output_type": "stream",
     "text": [
      "{'epoch': 6, 'iter': 450, 'avg_loss': 1.5281308728152527, 'avg_acc': 54.90576496674058, 'loss': 1.463185429573059}\n"
     ]
    },
    {
     "name": "stderr",
     "output_type": "stream",
     "text": [
      "EP_train:6:  50%|| 465/938 [00:13<00:13, 35.56it/s]"
     ]
    },
    {
     "name": "stdout",
     "output_type": "stream",
     "text": [
      "{'epoch': 6, 'iter': 460, 'avg_loss': 1.5275407406358037, 'avg_acc': 54.880694143167034, 'loss': 1.6123665571212769}\n"
     ]
    },
    {
     "name": "stderr",
     "output_type": "stream",
     "text": [
      "EP_train:6:  51%|| 477/938 [00:13<00:13, 34.78it/s]"
     ]
    },
    {
     "name": "stdout",
     "output_type": "stream",
     "text": [
      "{'epoch': 6, 'iter': 470, 'avg_loss': 1.5263292397156896, 'avg_acc': 54.796974522293, 'loss': 1.526227593421936}\n"
     ]
    },
    {
     "name": "stderr",
     "output_type": "stream",
     "text": [
      "EP_train:6:  51%|| 481/938 [00:13<00:13, 34.90it/s]"
     ]
    },
    {
     "name": "stdout",
     "output_type": "stream",
     "text": [
      "{'epoch': 6, 'iter': 480, 'avg_loss': 1.5266849895524879, 'avg_acc': 54.74922037422038, 'loss': 1.4180327653884888}\n"
     ]
    },
    {
     "name": "stderr",
     "output_type": "stream",
     "text": [
      "EP_train:6:  53%|| 497/938 [00:14<00:14, 30.08it/s]"
     ]
    },
    {
     "name": "stdout",
     "output_type": "stream",
     "text": [
      "{'epoch': 6, 'iter': 490, 'avg_loss': 1.5253986251329938, 'avg_acc': 54.658859470468435, 'loss': 1.159529209136963}\n"
     ]
    },
    {
     "name": "stderr",
     "output_type": "stream",
     "text": [
      "EP_train:6:  54%|| 505/938 [00:14<00:13, 32.36it/s]"
     ]
    },
    {
     "name": "stdout",
     "output_type": "stream",
     "text": [
      "{'epoch': 6, 'iter': 500, 'avg_loss': 1.5261926948429343, 'avg_acc': 54.70309381237525, 'loss': 1.6693150997161865}\n"
     ]
    },
    {
     "name": "stderr",
     "output_type": "stream",
     "text": [
      "EP_train:6:  55%|| 517/938 [00:15<00:12, 34.14it/s]"
     ]
    },
    {
     "name": "stdout",
     "output_type": "stream",
     "text": [
      "{'epoch': 6, 'iter': 510, 'avg_loss': 1.5257201910952065, 'avg_acc': 54.74559686888454, 'loss': 1.4475196599960327}\n"
     ]
    },
    {
     "name": "stderr",
     "output_type": "stream",
     "text": [
      "EP_train:6:  56%|| 525/938 [00:15<00:11, 35.35it/s]"
     ]
    },
    {
     "name": "stdout",
     "output_type": "stream",
     "text": [
      "{'epoch': 6, 'iter': 520, 'avg_loss': 1.5249472888554814, 'avg_acc': 54.768474088291754, 'loss': 1.4265766143798828}\n"
     ]
    },
    {
     "name": "stderr",
     "output_type": "stream",
     "text": [
      "EP_train:6:  57%|| 537/938 [00:15<00:11, 34.69it/s]"
     ]
    },
    {
     "name": "stdout",
     "output_type": "stream",
     "text": [
      "{'epoch': 6, 'iter': 530, 'avg_loss': 1.5235982625946936, 'avg_acc': 54.825800376647834, 'loss': 1.4850802421569824}\n"
     ]
    },
    {
     "name": "stderr",
     "output_type": "stream",
     "text": [
      "EP_train:6:  58%|| 545/938 [00:15<00:11, 33.91it/s]"
     ]
    },
    {
     "name": "stdout",
     "output_type": "stream",
     "text": [
      "{'epoch': 6, 'iter': 540, 'avg_loss': 1.5242220504887665, 'avg_acc': 54.759704251386324, 'loss': 1.3704930543899536}\n"
     ]
    },
    {
     "name": "stderr",
     "output_type": "stream",
     "text": [
      "EP_train:6:  59%|| 557/938 [00:16<00:11, 34.09it/s]"
     ]
    },
    {
     "name": "stdout",
     "output_type": "stream",
     "text": [
      "{'epoch': 6, 'iter': 550, 'avg_loss': 1.5239391201420833, 'avg_acc': 54.741379310344826, 'loss': 1.4908108711242676}\n"
     ]
    },
    {
     "name": "stderr",
     "output_type": "stream",
     "text": [
      "EP_train:6:  60%|| 561/938 [00:16<00:11, 33.80it/s]"
     ]
    },
    {
     "name": "stdout",
     "output_type": "stream",
     "text": [
      "{'epoch': 6, 'iter': 560, 'avg_loss': 1.522778252654322, 'avg_acc': 54.734848484848484, 'loss': 1.5297884941101074}\n"
     ]
    },
    {
     "name": "stderr",
     "output_type": "stream",
     "text": [
      "EP_train:6:  61%|| 575/938 [00:16<00:12, 29.42it/s]"
     ]
    },
    {
     "name": "stdout",
     "output_type": "stream",
     "text": [
      "{'epoch': 6, 'iter': 570, 'avg_loss': 1.5222873716972338, 'avg_acc': 54.73949211908932, 'loss': 1.3979527950286865}\n"
     ]
    },
    {
     "name": "stderr",
     "output_type": "stream",
     "text": [
      "EP_train:6:  63%|| 587/938 [00:17<00:10, 32.47it/s]"
     ]
    },
    {
     "name": "stdout",
     "output_type": "stream",
     "text": [
      "{'epoch': 6, 'iter': 580, 'avg_loss': 1.5218697047684977, 'avg_acc': 54.72783993115319, 'loss': 1.4954032897949219}\n"
     ]
    },
    {
     "name": "stderr",
     "output_type": "stream",
     "text": [
      "EP_train:6:  63%|| 595/938 [00:17<00:10, 33.27it/s]"
     ]
    },
    {
     "name": "stdout",
     "output_type": "stream",
     "text": [
      "{'epoch': 6, 'iter': 590, 'avg_loss': 1.5212454567907627, 'avg_acc': 54.73244500846024, 'loss': 1.2595345973968506}\n"
     ]
    },
    {
     "name": "stderr",
     "output_type": "stream",
     "text": [
      "EP_train:6:  65%|| 607/938 [00:17<00:09, 34.27it/s]"
     ]
    },
    {
     "name": "stdout",
     "output_type": "stream",
     "text": [
      "{'epoch': 6, 'iter': 600, 'avg_loss': 1.5219233341502667, 'avg_acc': 54.731697171381036, 'loss': 1.6639097929000854}\n"
     ]
    },
    {
     "name": "stderr",
     "output_type": "stream",
     "text": [
      "EP_train:6:  66%|| 615/938 [00:18<00:09, 34.71it/s]"
     ]
    },
    {
     "name": "stdout",
     "output_type": "stream",
     "text": [
      "{'epoch': 6, 'iter': 610, 'avg_loss': 1.520870818053837, 'avg_acc': 54.69517184942717, 'loss': 1.1671322584152222}\n"
     ]
    },
    {
     "name": "stderr",
     "output_type": "stream",
     "text": [
      "EP_train:6:  67%|| 627/938 [00:18<00:08, 34.64it/s]"
     ]
    },
    {
     "name": "stdout",
     "output_type": "stream",
     "text": [
      "{'epoch': 6, 'iter': 620, 'avg_loss': 1.5215834780399735, 'avg_acc': 54.770531400966185, 'loss': 1.447099208831787}\n"
     ]
    },
    {
     "name": "stderr",
     "output_type": "stream",
     "text": [
      "EP_train:6:  68%|| 635/938 [00:18<00:09, 31.77it/s]"
     ]
    },
    {
     "name": "stdout",
     "output_type": "stream",
     "text": [
      "{'epoch': 6, 'iter': 630, 'avg_loss': 1.5229325611882278, 'avg_acc': 54.83359746434231, 'loss': 1.5746606588363647}\n"
     ]
    },
    {
     "name": "stderr",
     "output_type": "stream",
     "text": [
      "EP_train:6:  69%|| 643/938 [00:19<00:12, 23.04it/s]"
     ]
    },
    {
     "name": "stdout",
     "output_type": "stream",
     "text": [
      "{'epoch': 6, 'iter': 640, 'avg_loss': 1.522812661068302, 'avg_acc': 54.841068642745704, 'loss': 1.4884202480316162}\n"
     ]
    },
    {
     "name": "stderr",
     "output_type": "stream",
     "text": [
      "EP_train:6:  70%|| 654/938 [00:19<00:10, 27.66it/s]"
     ]
    },
    {
     "name": "stdout",
     "output_type": "stream",
     "text": [
      "{'epoch': 6, 'iter': 650, 'avg_loss': 1.523843386755561, 'avg_acc': 54.84831029185868, 'loss': 1.5614317655563354}\n"
     ]
    },
    {
     "name": "stderr",
     "output_type": "stream",
     "text": [
      "EP_train:6:  71%|| 666/938 [00:19<00:08, 31.16it/s]"
     ]
    },
    {
     "name": "stdout",
     "output_type": "stream",
     "text": [
      "{'epoch': 6, 'iter': 660, 'avg_loss': 1.5243639392318957, 'avg_acc': 54.84114977307111, 'loss': 1.4114494323730469}\n"
     ]
    },
    {
     "name": "stderr",
     "output_type": "stream",
     "text": [
      "EP_train:6:  72%|| 674/938 [00:20<00:08, 32.50it/s]"
     ]
    },
    {
     "name": "stdout",
     "output_type": "stream",
     "text": [
      "{'epoch': 6, 'iter': 670, 'avg_loss': 1.5235056276648304, 'avg_acc': 54.820230998509686, 'loss': 1.4053316116333008}\n"
     ]
    },
    {
     "name": "stderr",
     "output_type": "stream",
     "text": [
      "EP_train:6:  73%|| 686/938 [00:20<00:07, 33.45it/s]"
     ]
    },
    {
     "name": "stdout",
     "output_type": "stream",
     "text": [
      "{'epoch': 6, 'iter': 680, 'avg_loss': 1.5244874770420764, 'avg_acc': 54.77239353891336, 'loss': 1.4887049198150635}\n"
     ]
    },
    {
     "name": "stderr",
     "output_type": "stream",
     "text": [
      "EP_train:6:  74%|| 694/938 [00:20<00:07, 33.12it/s]"
     ]
    },
    {
     "name": "stdout",
     "output_type": "stream",
     "text": [
      "{'epoch': 6, 'iter': 690, 'avg_loss': 1.5250342934245484, 'avg_acc': 54.78473227206947, 'loss': 1.5860100984573364}\n"
     ]
    },
    {
     "name": "stderr",
     "output_type": "stream",
     "text": [
      "EP_train:6:  75%|| 706/938 [00:21<00:07, 32.93it/s]"
     ]
    },
    {
     "name": "stdout",
     "output_type": "stream",
     "text": [
      "{'epoch': 6, 'iter': 700, 'avg_loss': 1.5251318105787421, 'avg_acc': 54.7432239657632, 'loss': 1.7444708347320557}\n"
     ]
    },
    {
     "name": "stderr",
     "output_type": "stream",
     "text": [
      "EP_train:6:  76%|| 714/938 [00:21<00:06, 32.86it/s]"
     ]
    },
    {
     "name": "stdout",
     "output_type": "stream",
     "text": [
      "{'epoch': 6, 'iter': 710, 'avg_loss': 1.5258781973655047, 'avg_acc': 54.751230661040786, 'loss': 1.7341547012329102}\n"
     ]
    },
    {
     "name": "stderr",
     "output_type": "stream",
     "text": [
      "EP_train:6:  77%|| 725/938 [00:21<00:08, 25.67it/s]"
     ]
    },
    {
     "name": "stdout",
     "output_type": "stream",
     "text": [
      "{'epoch': 6, 'iter': 720, 'avg_loss': 1.5261219424116794, 'avg_acc': 54.75468099861304, 'loss': 1.3620051145553589}\n"
     ]
    },
    {
     "name": "stderr",
     "output_type": "stream",
     "text": [
      "EP_train:6:  78%|| 735/938 [00:22<00:07, 28.40it/s]"
     ]
    },
    {
     "name": "stdout",
     "output_type": "stream",
     "text": [
      "{'epoch': 6, 'iter': 730, 'avg_loss': 1.5256560887585913, 'avg_acc': 54.83498632010944, 'loss': 1.491639256477356}\n"
     ]
    },
    {
     "name": "stderr",
     "output_type": "stream",
     "text": [
      "EP_train:6:  80%|| 747/938 [00:22<00:06, 31.12it/s]"
     ]
    },
    {
     "name": "stdout",
     "output_type": "stream",
     "text": [
      "{'epoch': 6, 'iter': 740, 'avg_loss': 1.5254882496860829, 'avg_acc': 54.811909581646425, 'loss': 1.5490814447402954}\n"
     ]
    },
    {
     "name": "stderr",
     "output_type": "stream",
     "text": [
      "EP_train:6:  80%|| 755/938 [00:22<00:05, 30.85it/s]"
     ]
    },
    {
     "name": "stdout",
     "output_type": "stream",
     "text": [
      "{'epoch': 6, 'iter': 750, 'avg_loss': 1.526507043171818, 'avg_acc': 54.810252996005325, 'loss': 1.573704481124878}\n"
     ]
    },
    {
     "name": "stderr",
     "output_type": "stream",
     "text": [
      "EP_train:6:  82%|| 767/938 [00:23<00:05, 31.22it/s]"
     ]
    },
    {
     "name": "stdout",
     "output_type": "stream",
     "text": [
      "{'epoch': 6, 'iter': 760, 'avg_loss': 1.5258008769557918, 'avg_acc': 54.78810775295664, 'loss': 1.342882752418518}\n"
     ]
    },
    {
     "name": "stderr",
     "output_type": "stream",
     "text": [
      "EP_train:6:  83%|| 775/938 [00:23<00:05, 31.54it/s]"
     ]
    },
    {
     "name": "stdout",
     "output_type": "stream",
     "text": [
      "{'epoch': 6, 'iter': 770, 'avg_loss': 1.5254918012173724, 'avg_acc': 54.73411154345007, 'loss': 1.304848551750183}\n"
     ]
    },
    {
     "name": "stderr",
     "output_type": "stream",
     "text": [
      "EP_train:6:  84%|| 787/938 [00:23<00:04, 31.31it/s]"
     ]
    },
    {
     "name": "stdout",
     "output_type": "stream",
     "text": [
      "{'epoch': 6, 'iter': 780, 'avg_loss': 1.5258534716277665, 'avg_acc': 54.7455185659411, 'loss': 1.6065009832382202}\n"
     ]
    },
    {
     "name": "stderr",
     "output_type": "stream",
     "text": [
      "EP_train:6:  85%|| 794/938 [00:24<00:05, 24.58it/s]"
     ]
    },
    {
     "name": "stdout",
     "output_type": "stream",
     "text": [
      "{'epoch': 6, 'iter': 790, 'avg_loss': 1.5254193419300952, 'avg_acc': 54.73688369152971, 'loss': 1.7130850553512573}\n"
     ]
    },
    {
     "name": "stderr",
     "output_type": "stream",
     "text": [
      "EP_train:6:  86%|| 804/938 [00:24<00:04, 27.96it/s]"
     ]
    },
    {
     "name": "stdout",
     "output_type": "stream",
     "text": [
      "{'epoch': 6, 'iter': 800, 'avg_loss': 1.5255446355143438, 'avg_acc': 54.740168539325836, 'loss': 1.5824593305587769}\n"
     ]
    },
    {
     "name": "stderr",
     "output_type": "stream",
     "text": [
      "EP_train:6:  87%|| 816/938 [00:24<00:04, 30.17it/s]"
     ]
    },
    {
     "name": "stdout",
     "output_type": "stream",
     "text": [
      "{'epoch': 6, 'iter': 810, 'avg_loss': 1.524827490752487, 'avg_acc': 54.700986436498155, 'loss': 1.400283932685852}\n"
     ]
    },
    {
     "name": "stderr",
     "output_type": "stream",
     "text": [
      "EP_train:6:  88%|| 824/938 [00:25<00:03, 30.66it/s]"
     ]
    },
    {
     "name": "stdout",
     "output_type": "stream",
     "text": [
      "{'epoch': 6, 'iter': 820, 'avg_loss': 1.5246370300450947, 'avg_acc': 54.66275883069428, 'loss': 1.416054606437683}\n"
     ]
    },
    {
     "name": "stderr",
     "output_type": "stream",
     "text": [
      "EP_train:6:  89%|| 836/938 [00:25<00:03, 31.10it/s]"
     ]
    },
    {
     "name": "stdout",
     "output_type": "stream",
     "text": [
      "{'epoch': 6, 'iter': 830, 'avg_loss': 1.5250578324000041, 'avg_acc': 54.6104091456077, 'loss': 1.7109169960021973}\n"
     ]
    },
    {
     "name": "stderr",
     "output_type": "stream",
     "text": [
      "EP_train:6:  90%|| 844/938 [00:25<00:03, 31.05it/s]"
     ]
    },
    {
     "name": "stdout",
     "output_type": "stream",
     "text": [
      "{'epoch': 6, 'iter': 840, 'avg_loss': 1.5255847875910338, 'avg_acc': 54.607609988109395, 'loss': 1.6849749088287354}\n"
     ]
    },
    {
     "name": "stderr",
     "output_type": "stream",
     "text": [
      "EP_train:6:  91%|| 856/938 [00:26<00:02, 29.70it/s]"
     ]
    },
    {
     "name": "stdout",
     "output_type": "stream",
     "text": [
      "{'epoch': 6, 'iter': 850, 'avg_loss': 1.5252090817192607, 'avg_acc': 54.60487661574618, 'loss': 1.520453691482544}\n"
     ]
    },
    {
     "name": "stderr",
     "output_type": "stream",
     "text": [
      "EP_train:6:  92%|| 865/938 [00:26<00:03, 22.48it/s]"
     ]
    },
    {
     "name": "stdout",
     "output_type": "stream",
     "text": [
      "{'epoch': 6, 'iter': 860, 'avg_loss': 1.5249305789063616, 'avg_acc': 54.57317073170732, 'loss': 1.6918458938598633}\n"
     ]
    },
    {
     "name": "stderr",
     "output_type": "stream",
     "text": [
      "EP_train:6:  93%|| 874/938 [00:26<00:02, 24.82it/s]"
     ]
    },
    {
     "name": "stdout",
     "output_type": "stream",
     "text": [
      "{'epoch': 6, 'iter': 870, 'avg_loss': 1.5240219860208295, 'avg_acc': 54.58165901262916, 'loss': 1.2359156608581543}\n"
     ]
    },
    {
     "name": "stderr",
     "output_type": "stream",
     "text": [
      "EP_train:6:  94%|| 886/938 [00:27<00:01, 26.16it/s]"
     ]
    },
    {
     "name": "stdout",
     "output_type": "stream",
     "text": [
      "{'epoch': 6, 'iter': 880, 'avg_loss': 1.5232950225726158, 'avg_acc': 54.611237230419974, 'loss': 1.6696597337722778}\n"
     ]
    },
    {
     "name": "stderr",
     "output_type": "stream",
     "text": [
      "EP_train:6:  95%|| 895/938 [00:27<00:01, 26.53it/s]"
     ]
    },
    {
     "name": "stdout",
     "output_type": "stream",
     "text": [
      "{'epoch': 6, 'iter': 890, 'avg_loss': 1.5232445247780728, 'avg_acc': 54.58754208754208, 'loss': 1.5522751808166504}\n"
     ]
    },
    {
     "name": "stderr",
     "output_type": "stream",
     "text": [
      "EP_train:6:  96%|| 904/938 [00:28<00:01, 26.00it/s]"
     ]
    },
    {
     "name": "stdout",
     "output_type": "stream",
     "text": [
      "{'epoch': 6, 'iter': 900, 'avg_loss': 1.5228404415302086, 'avg_acc': 54.57824639289678, 'loss': 1.4311851263046265}\n"
     ]
    },
    {
     "name": "stderr",
     "output_type": "stream",
     "text": [
      "EP_train:6:  98%|| 916/938 [00:28<00:00, 27.22it/s]"
     ]
    },
    {
     "name": "stdout",
     "output_type": "stream",
     "text": [
      "{'epoch': 6, 'iter': 910, 'avg_loss': 1.5227415591772773, 'avg_acc': 54.5897365532382, 'loss': 1.4447416067123413}\n"
     ]
    },
    {
     "name": "stderr",
     "output_type": "stream",
     "text": [
      "EP_train:6:  99%|| 925/938 [00:28<00:00, 26.82it/s]"
     ]
    },
    {
     "name": "stdout",
     "output_type": "stream",
     "text": [
      "{'epoch': 6, 'iter': 920, 'avg_loss': 1.522362216287793, 'avg_acc': 54.584011943539636, 'loss': 1.4670952558517456}\n"
     ]
    },
    {
     "name": "stderr",
     "output_type": "stream",
     "text": [
      "EP_train:6: 100%|| 934/938 [00:29<00:00, 21.35it/s]"
     ]
    },
    {
     "name": "stdout",
     "output_type": "stream",
     "text": [
      "{'epoch': 6, 'iter': 930, 'avg_loss': 1.5229461730870986, 'avg_acc': 54.5750537056928, 'loss': 1.5500621795654297}\n"
     ]
    },
    {
     "name": "stderr",
     "output_type": "stream",
     "text": [
      "EP_train:6: 100%|| 938/938 [00:29<00:00, 31.78it/s]\n"
     ]
    },
    {
     "name": "stdout",
     "output_type": "stream",
     "text": [
      "EP6, train:             avg_loss=1.5229930655280155,             total_acc=54.57485828609536\n"
     ]
    },
    {
     "name": "stderr",
     "output_type": "stream",
     "text": [
      "EP_train:7:   0%|| 3/938 [00:00<00:39, 23.80it/s]"
     ]
    },
    {
     "name": "stdout",
     "output_type": "stream",
     "text": [
      "{'epoch': 7, 'iter': 0, 'avg_loss': 1.708003282546997, 'avg_acc': 53.125, 'loss': 1.708003282546997}\n"
     ]
    },
    {
     "name": "stderr",
     "output_type": "stream",
     "text": [
      "EP_train:7:   2%|| 15/938 [00:00<00:34, 26.95it/s]"
     ]
    },
    {
     "name": "stdout",
     "output_type": "stream",
     "text": [
      "{'epoch': 7, 'iter': 10, 'avg_loss': 1.4853277639909224, 'avg_acc': 55.11363636363637, 'loss': 1.3182975053787231}\n"
     ]
    },
    {
     "name": "stderr",
     "output_type": "stream",
     "text": [
      "EP_train:7:   3%|| 25/938 [00:00<00:32, 28.53it/s]"
     ]
    },
    {
     "name": "stdout",
     "output_type": "stream",
     "text": [
      "{'epoch': 7, 'iter': 20, 'avg_loss': 1.4997162535077049, 'avg_acc': 54.761904761904766, 'loss': 1.6180381774902344}\n"
     ]
    },
    {
     "name": "stderr",
     "output_type": "stream",
     "text": [
      "EP_train:7:   4%|| 37/938 [00:01<00:29, 30.73it/s]"
     ]
    },
    {
     "name": "stdout",
     "output_type": "stream",
     "text": [
      "{'epoch': 7, 'iter': 30, 'avg_loss': 1.4698580388099916, 'avg_acc': 53.83064516129033, 'loss': 1.4043611288070679}\n"
     ]
    },
    {
     "name": "stderr",
     "output_type": "stream",
     "text": [
      "EP_train:7:   5%|| 45/938 [00:01<00:28, 31.01it/s]"
     ]
    },
    {
     "name": "stdout",
     "output_type": "stream",
     "text": [
      "{'epoch': 7, 'iter': 40, 'avg_loss': 1.4809398476670428, 'avg_acc': 54.64939024390244, 'loss': 1.4880727529525757}\n"
     ]
    },
    {
     "name": "stderr",
     "output_type": "stream",
     "text": [
      "EP_train:7:   6%|| 57/938 [00:01<00:28, 30.56it/s]"
     ]
    },
    {
     "name": "stdout",
     "output_type": "stream",
     "text": [
      "{'epoch': 7, 'iter': 50, 'avg_loss': 1.4798852836384493, 'avg_acc': 55.208333333333336, 'loss': 1.579527497291565}\n"
     ]
    },
    {
     "name": "stderr",
     "output_type": "stream",
     "text": [
      "EP_train:7:   7%|| 61/938 [00:02<00:28, 30.66it/s]"
     ]
    },
    {
     "name": "stdout",
     "output_type": "stream",
     "text": [
      "{'epoch': 7, 'iter': 60, 'avg_loss': 1.481305968566019, 'avg_acc': 54.96926229508197, 'loss': 1.4146839380264282}\n"
     ]
    },
    {
     "name": "stderr",
     "output_type": "stream",
     "text": [
      "EP_train:7:   8%|| 75/938 [00:02<00:31, 27.08it/s]"
     ]
    },
    {
     "name": "stdout",
     "output_type": "stream",
     "text": [
      "{'epoch': 7, 'iter': 70, 'avg_loss': 1.4852313978571288, 'avg_acc': 54.70950704225353, 'loss': 1.683744192123413}\n"
     ]
    },
    {
     "name": "stderr",
     "output_type": "stream",
     "text": [
      "EP_train:7:   9%|| 87/938 [00:03<00:27, 31.04it/s]"
     ]
    },
    {
     "name": "stdout",
     "output_type": "stream",
     "text": [
      "{'epoch': 7, 'iter': 80, 'avg_loss': 1.487282270266686, 'avg_acc': 55.13117283950617, 'loss': 1.4469712972640991}\n"
     ]
    },
    {
     "name": "stderr",
     "output_type": "stream",
     "text": [
      "EP_train:7:  10%|| 95/938 [00:03<00:26, 32.20it/s]"
     ]
    },
    {
     "name": "stdout",
     "output_type": "stream",
     "text": [
      "{'epoch': 7, 'iter': 90, 'avg_loss': 1.4861405419779348, 'avg_acc': 54.94505494505495, 'loss': 1.3820828199386597}\n"
     ]
    },
    {
     "name": "stderr",
     "output_type": "stream",
     "text": [
      "EP_train:7:  11%|| 103/938 [00:03<00:26, 31.17it/s]"
     ]
    },
    {
     "name": "stdout",
     "output_type": "stream",
     "text": [
      "{'epoch': 7, 'iter': 100, 'avg_loss': 1.4768317276888554, 'avg_acc': 55.01237623762376, 'loss': 1.141849160194397}\n"
     ]
    },
    {
     "name": "stderr",
     "output_type": "stream",
     "text": [
      "EP_train:7:  12%|| 117/938 [00:04<00:28, 28.93it/s]"
     ]
    },
    {
     "name": "stdout",
     "output_type": "stream",
     "text": [
      "{'epoch': 7, 'iter': 110, 'avg_loss': 1.4799948178970062, 'avg_acc': 54.44819819819819, 'loss': 1.707165002822876}\n"
     ]
    },
    {
     "name": "stderr",
     "output_type": "stream",
     "text": [
      "EP_train:7:  13%|| 126/938 [00:04<00:28, 28.29it/s]"
     ]
    },
    {
     "name": "stdout",
     "output_type": "stream",
     "text": [
      "{'epoch': 7, 'iter': 120, 'avg_loss': 1.4833184776227337, 'avg_acc': 54.49380165289256, 'loss': 1.4492169618606567}\n"
     ]
    },
    {
     "name": "stderr",
     "output_type": "stream",
     "text": [
      "EP_train:7:  14%|| 136/938 [00:04<00:27, 29.61it/s]"
     ]
    },
    {
     "name": "stdout",
     "output_type": "stream",
     "text": [
      "{'epoch': 7, 'iter': 130, 'avg_loss': 1.4875968940385424, 'avg_acc': 54.74713740458015, 'loss': 1.6675424575805664}\n"
     ]
    },
    {
     "name": "stderr",
     "output_type": "stream",
     "text": [
      "EP_train:7:  15%|| 145/938 [00:05<00:32, 24.50it/s]"
     ]
    },
    {
     "name": "stdout",
     "output_type": "stream",
     "text": [
      "{'epoch': 7, 'iter': 140, 'avg_loss': 1.491667094805562, 'avg_acc': 54.63209219858156, 'loss': 1.465938687324524}\n"
     ]
    },
    {
     "name": "stderr",
     "output_type": "stream",
     "text": [
      "EP_train:7:  16%|| 154/938 [00:05<00:29, 26.68it/s]"
     ]
    },
    {
     "name": "stdout",
     "output_type": "stream",
     "text": [
      "{'epoch': 7, 'iter': 150, 'avg_loss': 1.4911753633953877, 'avg_acc': 55.008278145695364, 'loss': 1.4316331148147583}\n"
     ]
    },
    {
     "name": "stderr",
     "output_type": "stream",
     "text": [
      "EP_train:7:  18%|| 165/938 [00:05<00:26, 28.87it/s]"
     ]
    },
    {
     "name": "stdout",
     "output_type": "stream",
     "text": [
      "{'epoch': 7, 'iter': 160, 'avg_loss': 1.489196665538764, 'avg_acc': 55.08540372670807, 'loss': 1.5066473484039307}\n"
     ]
    },
    {
     "name": "stderr",
     "output_type": "stream",
     "text": [
      "EP_train:7:  19%|| 176/938 [00:06<00:25, 29.85it/s]"
     ]
    },
    {
     "name": "stdout",
     "output_type": "stream",
     "text": [
      "{'epoch': 7, 'iter': 170, 'avg_loss': 1.4879818206642106, 'avg_acc': 55.15350877192983, 'loss': 1.305074691772461}\n"
     ]
    },
    {
     "name": "stderr",
     "output_type": "stream",
     "text": [
      "EP_train:7:  20%|| 184/938 [00:06<00:24, 30.60it/s]"
     ]
    },
    {
     "name": "stdout",
     "output_type": "stream",
     "text": [
      "{'epoch': 7, 'iter': 180, 'avg_loss': 1.4894788489157325, 'avg_acc': 54.95511049723757, 'loss': 1.4543871879577637}\n"
     ]
    },
    {
     "name": "stderr",
     "output_type": "stream",
     "text": [
      "EP_train:7:  21%|| 196/938 [00:06<00:24, 30.88it/s]"
     ]
    },
    {
     "name": "stdout",
     "output_type": "stream",
     "text": [
      "{'epoch': 7, 'iter': 190, 'avg_loss': 1.4947292754787425, 'avg_acc': 55.039267015706805, 'loss': 1.4815993309020996}\n"
     ]
    },
    {
     "name": "stderr",
     "output_type": "stream",
     "text": [
      "EP_train:7:  22%|| 204/938 [00:07<00:24, 30.49it/s]"
     ]
    },
    {
     "name": "stdout",
     "output_type": "stream",
     "text": [
      "{'epoch': 7, 'iter': 200, 'avg_loss': 1.4910047398277777, 'avg_acc': 54.94402985074627, 'loss': 1.536842703819275}\n"
     ]
    },
    {
     "name": "stderr",
     "output_type": "stream",
     "text": [
      "EP_train:7:  23%|| 215/938 [00:07<00:30, 23.81it/s]"
     ]
    },
    {
     "name": "stdout",
     "output_type": "stream",
     "text": [
      "{'epoch': 7, 'iter': 210, 'avg_loss': 1.4950507873607473, 'avg_acc': 54.828199052132696, 'loss': 1.555984377861023}\n"
     ]
    },
    {
     "name": "stderr",
     "output_type": "stream",
     "text": [
      "EP_train:7:  24%|| 226/938 [00:07<00:25, 27.69it/s]"
     ]
    },
    {
     "name": "stdout",
     "output_type": "stream",
     "text": [
      "{'epoch': 7, 'iter': 220, 'avg_loss': 1.4958537655178779, 'avg_acc': 54.835972850678736, 'loss': 1.290664792060852}\n"
     ]
    },
    {
     "name": "stderr",
     "output_type": "stream",
     "text": [
      "EP_train:7:  25%|| 237/938 [00:08<00:23, 29.76it/s]"
     ]
    },
    {
     "name": "stdout",
     "output_type": "stream",
     "text": [
      "{'epoch': 7, 'iter': 230, 'avg_loss': 1.4957180807600805, 'avg_acc': 54.788961038961034, 'loss': 1.580754280090332}\n"
     ]
    },
    {
     "name": "stderr",
     "output_type": "stream",
     "text": [
      "EP_train:7:  26%|| 244/938 [00:08<00:23, 29.29it/s]"
     ]
    },
    {
     "name": "stdout",
     "output_type": "stream",
     "text": [
      "{'epoch': 7, 'iter': 240, 'avg_loss': 1.499281746717904, 'avg_acc': 55.005186721991706, 'loss': 1.4707558155059814}\n"
     ]
    },
    {
     "name": "stderr",
     "output_type": "stream",
     "text": [
      "EP_train:7:  27%|| 255/938 [00:08<00:22, 30.10it/s]"
     ]
    },
    {
     "name": "stdout",
     "output_type": "stream",
     "text": [
      "{'epoch': 7, 'iter': 250, 'avg_loss': 1.4996385156395902, 'avg_acc': 54.84312749003985, 'loss': 1.5668609142303467}\n"
     ]
    },
    {
     "name": "stderr",
     "output_type": "stream",
     "text": [
      "EP_train:7:  28%|| 267/938 [00:09<00:22, 30.45it/s]"
     ]
    },
    {
     "name": "stdout",
     "output_type": "stream",
     "text": [
      "{'epoch': 7, 'iter': 260, 'avg_loss': 1.5022730384293188, 'avg_acc': 54.98084291187739, 'loss': 1.4948296546936035}\n"
     ]
    },
    {
     "name": "stderr",
     "output_type": "stream",
     "text": [
      "EP_train:7:  29%|| 275/938 [00:09<00:22, 29.97it/s]"
     ]
    },
    {
     "name": "stdout",
     "output_type": "stream",
     "text": [
      "{'epoch': 7, 'iter': 270, 'avg_loss': 1.5019713864555218, 'avg_acc': 54.912361623616235, 'loss': 1.5501075983047485}\n"
     ]
    },
    {
     "name": "stderr",
     "output_type": "stream",
     "text": [
      "EP_train:7:  30%|| 285/938 [00:10<00:25, 25.37it/s]"
     ]
    },
    {
     "name": "stdout",
     "output_type": "stream",
     "text": [
      "{'epoch': 7, 'iter': 280, 'avg_loss': 1.5003865923321544, 'avg_acc': 54.82651245551602, 'loss': 1.5839314460754395}\n"
     ]
    },
    {
     "name": "stderr",
     "output_type": "stream",
     "text": [
      "EP_train:7:  32%|| 296/938 [00:10<00:22, 28.85it/s]"
     ]
    },
    {
     "name": "stdout",
     "output_type": "stream",
     "text": [
      "{'epoch': 7, 'iter': 290, 'avg_loss': 1.5000391108883206, 'avg_acc': 54.75730240549829, 'loss': 1.4804131984710693}\n"
     ]
    },
    {
     "name": "stderr",
     "output_type": "stream",
     "text": [
      "EP_train:7:  33%|| 306/938 [00:10<00:22, 28.65it/s]"
     ]
    },
    {
     "name": "stdout",
     "output_type": "stream",
     "text": [
      "{'epoch': 7, 'iter': 300, 'avg_loss': 1.5015622171452672, 'avg_acc': 54.744601328903656, 'loss': 1.4595401287078857}\n"
     ]
    },
    {
     "name": "stderr",
     "output_type": "stream",
     "text": [
      "EP_train:7:  34%|| 316/938 [00:11<00:21, 29.07it/s]"
     ]
    },
    {
     "name": "stdout",
     "output_type": "stream",
     "text": [
      "{'epoch': 7, 'iter': 310, 'avg_loss': 1.4990423143484968, 'avg_acc': 54.79300643086816, 'loss': 1.1264476776123047}\n"
     ]
    },
    {
     "name": "stderr",
     "output_type": "stream",
     "text": [
      "EP_train:7:  35%|| 326/938 [00:11<00:21, 29.08it/s]"
     ]
    },
    {
     "name": "stdout",
     "output_type": "stream",
     "text": [
      "{'epoch': 7, 'iter': 320, 'avg_loss': 1.4986580246334136, 'avg_acc': 54.78971962616822, 'loss': 1.6684675216674805}\n"
     ]
    },
    {
     "name": "stderr",
     "output_type": "stream",
     "text": [
      "EP_train:7:  36%|| 334/938 [00:11<00:20, 29.76it/s]"
     ]
    },
    {
     "name": "stdout",
     "output_type": "stream",
     "text": [
      "{'epoch': 7, 'iter': 330, 'avg_loss': 1.5000144045158454, 'avg_acc': 54.711102719033235, 'loss': 1.6070512533187866}\n"
     ]
    },
    {
     "name": "stderr",
     "output_type": "stream",
     "text": [
      "EP_train:7:  37%|| 345/938 [00:12<00:18, 31.48it/s]"
     ]
    },
    {
     "name": "stdout",
     "output_type": "stream",
     "text": [
      "{'epoch': 7, 'iter': 340, 'avg_loss': 1.501892833066476, 'avg_acc': 54.63709677419355, 'loss': 1.729764461517334}\n"
     ]
    },
    {
     "name": "stderr",
     "output_type": "stream",
     "text": [
      "EP_train:7:  38%|| 353/938 [00:12<00:18, 31.86it/s]"
     ]
    },
    {
     "name": "stdout",
     "output_type": "stream",
     "text": [
      "{'epoch': 7, 'iter': 350, 'avg_loss': 1.501944205699823, 'avg_acc': 54.50498575498576, 'loss': 1.3732984066009521}\n"
     ]
    },
    {
     "name": "stderr",
     "output_type": "stream",
     "text": [
      "EP_train:7:  39%|| 364/938 [00:12<00:21, 26.58it/s]"
     ]
    },
    {
     "name": "stdout",
     "output_type": "stream",
     "text": [
      "{'epoch': 7, 'iter': 360, 'avg_loss': 1.5013096302830282, 'avg_acc': 54.51004155124654, 'loss': 1.3521629571914673}\n"
     ]
    },
    {
     "name": "stderr",
     "output_type": "stream",
     "text": [
      "EP_train:7:  40%|| 376/938 [00:13<00:18, 30.20it/s]"
     ]
    },
    {
     "name": "stdout",
     "output_type": "stream",
     "text": [
      "{'epoch': 7, 'iter': 370, 'avg_loss': 1.50076894490224, 'avg_acc': 54.514824797843666, 'loss': 1.6507900953292847}\n"
     ]
    },
    {
     "name": "stderr",
     "output_type": "stream",
     "text": [
      "EP_train:7:  41%|| 384/938 [00:13<00:18, 30.44it/s]"
     ]
    },
    {
     "name": "stdout",
     "output_type": "stream",
     "text": [
      "{'epoch': 7, 'iter': 380, 'avg_loss': 1.4995913990526375, 'avg_acc': 54.45374015748031, 'loss': 1.2642427682876587}\n"
     ]
    },
    {
     "name": "stderr",
     "output_type": "stream",
     "text": [
      "EP_train:7:  42%|| 396/938 [00:13<00:17, 31.59it/s]"
     ]
    },
    {
     "name": "stdout",
     "output_type": "stream",
     "text": [
      "{'epoch': 7, 'iter': 390, 'avg_loss': 1.5005138496608685, 'avg_acc': 54.387787723785166, 'loss': 1.7931123971939087}\n"
     ]
    },
    {
     "name": "stderr",
     "output_type": "stream",
     "text": [
      "EP_train:7:  43%|| 404/938 [00:14<00:16, 31.55it/s]"
     ]
    },
    {
     "name": "stdout",
     "output_type": "stream",
     "text": [
      "{'epoch': 7, 'iter': 400, 'avg_loss': 1.4991325244047398, 'avg_acc': 54.37967581047381, 'loss': 1.5175580978393555}\n"
     ]
    },
    {
     "name": "stderr",
     "output_type": "stream",
     "text": [
      "EP_train:7:  44%|| 416/938 [00:14<00:16, 31.19it/s]"
     ]
    },
    {
     "name": "stdout",
     "output_type": "stream",
     "text": [
      "{'epoch': 7, 'iter': 410, 'avg_loss': 1.4985015154464982, 'avg_acc': 54.39476885644768, 'loss': 1.3641284704208374}\n"
     ]
    },
    {
     "name": "stderr",
     "output_type": "stream",
     "text": [
      "EP_train:7:  45%|| 424/938 [00:14<00:16, 30.85it/s]"
     ]
    },
    {
     "name": "stdout",
     "output_type": "stream",
     "text": [
      "{'epoch': 7, 'iter': 420, 'avg_loss': 1.4990902233010517, 'avg_acc': 54.44625890736342, 'loss': 1.3185336589813232}\n"
     ]
    },
    {
     "name": "stderr",
     "output_type": "stream",
     "text": [
      "EP_train:7:  46%|| 436/938 [00:15<00:19, 25.34it/s]"
     ]
    },
    {
     "name": "stdout",
     "output_type": "stream",
     "text": [
      "{'epoch': 7, 'iter': 430, 'avg_loss': 1.5007061092593554, 'avg_acc': 54.40110208816705, 'loss': 1.5207455158233643}\n"
     ]
    },
    {
     "name": "stderr",
     "output_type": "stream",
     "text": [
      "EP_train:7:  47%|| 444/938 [00:15<00:17, 28.14it/s]"
     ]
    },
    {
     "name": "stdout",
     "output_type": "stream",
     "text": [
      "{'epoch': 7, 'iter': 440, 'avg_loss': 1.50001608865872, 'avg_acc': 54.36507936507936, 'loss': 1.3381916284561157}\n"
     ]
    },
    {
     "name": "stderr",
     "output_type": "stream",
     "text": [
      "EP_train:7:  49%|| 456/938 [00:15<00:15, 30.23it/s]"
     ]
    },
    {
     "name": "stdout",
     "output_type": "stream",
     "text": [
      "{'epoch': 7, 'iter': 450, 'avg_loss': 1.4991699544394887, 'avg_acc': 54.37915742793792, 'loss': 1.3757407665252686}\n"
     ]
    },
    {
     "name": "stderr",
     "output_type": "stream",
     "text": [
      "EP_train:7:  49%|| 464/938 [00:16<00:15, 30.94it/s]"
     ]
    },
    {
     "name": "stdout",
     "output_type": "stream",
     "text": [
      "{'epoch': 7, 'iter': 460, 'avg_loss': 1.4991033653892303, 'avg_acc': 54.41296095444685, 'loss': 1.4159481525421143}\n"
     ]
    },
    {
     "name": "stderr",
     "output_type": "stream",
     "text": [
      "EP_train:7:  51%|| 476/938 [00:16<00:14, 32.25it/s]"
     ]
    },
    {
     "name": "stdout",
     "output_type": "stream",
     "text": [
      "{'epoch': 7, 'iter': 470, 'avg_loss': 1.4997012896142947, 'avg_acc': 54.45859872611465, 'loss': 1.3757339715957642}\n"
     ]
    },
    {
     "name": "stderr",
     "output_type": "stream",
     "text": [
      "EP_train:7:  52%|| 484/938 [00:16<00:14, 30.81it/s]"
     ]
    },
    {
     "name": "stdout",
     "output_type": "stream",
     "text": [
      "{'epoch': 7, 'iter': 480, 'avg_loss': 1.4996077434436694, 'avg_acc': 54.44386694386695, 'loss': 1.5301603078842163}\n"
     ]
    },
    {
     "name": "stderr",
     "output_type": "stream",
     "text": [
      "EP_train:7:  52%|| 492/938 [00:17<00:14, 30.86it/s]"
     ]
    },
    {
     "name": "stdout",
     "output_type": "stream",
     "text": [
      "{'epoch': 7, 'iter': 490, 'avg_loss': 1.4987647666950576, 'avg_acc': 54.467922606924645, 'loss': 1.1789298057556152}\n"
     ]
    },
    {
     "name": "stderr",
     "output_type": "stream",
     "text": [
      "EP_train:7:  54%|| 505/938 [00:17<00:16, 26.61it/s]"
     ]
    },
    {
     "name": "stdout",
     "output_type": "stream",
     "text": [
      "{'epoch': 7, 'iter': 500, 'avg_loss': 1.4992187582328171, 'avg_acc': 54.484780439121764, 'loss': 1.611222743988037}\n"
     ]
    },
    {
     "name": "stderr",
     "output_type": "stream",
     "text": [
      "EP_train:7:  55%|| 516/938 [00:17<00:14, 30.00it/s]"
     ]
    },
    {
     "name": "stdout",
     "output_type": "stream",
     "text": [
      "{'epoch': 7, 'iter': 510, 'avg_loss': 1.5002529567468423, 'avg_acc': 54.42759295499021, 'loss': 1.4278905391693115}\n"
     ]
    },
    {
     "name": "stderr",
     "output_type": "stream",
     "text": [
      "EP_train:7:  56%|| 524/938 [00:18<00:13, 30.41it/s]"
     ]
    },
    {
     "name": "stdout",
     "output_type": "stream",
     "text": [
      "{'epoch': 7, 'iter': 520, 'avg_loss': 1.4994556800875234, 'avg_acc': 54.480566218809976, 'loss': 1.435427188873291}\n"
     ]
    },
    {
     "name": "stderr",
     "output_type": "stream",
     "text": [
      "EP_train:7:  57%|| 536/938 [00:18<00:13, 29.16it/s]"
     ]
    },
    {
     "name": "stdout",
     "output_type": "stream",
     "text": [
      "{'epoch': 7, 'iter': 530, 'avg_loss': 1.5001600073780268, 'avg_acc': 54.4903483992467, 'loss': 1.4237511157989502}\n"
     ]
    },
    {
     "name": "stderr",
     "output_type": "stream",
     "text": [
      "EP_train:7:  58%|| 545/938 [00:18<00:13, 28.90it/s]"
     ]
    },
    {
     "name": "stdout",
     "output_type": "stream",
     "text": [
      "{'epoch': 7, 'iter': 540, 'avg_loss': 1.499742011486272, 'avg_acc': 54.511321626617374, 'loss': 1.3848316669464111}\n"
     ]
    },
    {
     "name": "stderr",
     "output_type": "stream",
     "text": [
      "EP_train:7:  59%|| 555/938 [00:19<00:13, 29.41it/s]"
     ]
    },
    {
     "name": "stdout",
     "output_type": "stream",
     "text": [
      "{'epoch': 7, 'iter': 550, 'avg_loss': 1.5004044743068854, 'avg_acc': 54.48049001814882, 'loss': 1.6745374202728271}\n"
     ]
    },
    {
     "name": "stderr",
     "output_type": "stream",
     "text": [
      "EP_train:7:  60%|| 563/938 [00:19<00:17, 21.69it/s]"
     ]
    },
    {
     "name": "stdout",
     "output_type": "stream",
     "text": [
      "{'epoch': 7, 'iter': 560, 'avg_loss': 1.4989506169861437, 'avg_acc': 54.45075757575758, 'loss': 1.4406492710113525}\n"
     ]
    },
    {
     "name": "stderr",
     "output_type": "stream",
     "text": [
      "EP_train:7:  61%|| 575/938 [00:20<00:14, 24.30it/s]"
     ]
    },
    {
     "name": "stdout",
     "output_type": "stream",
     "text": [
      "{'epoch': 7, 'iter': 570, 'avg_loss': 1.4982304884130608, 'avg_acc': 54.46584938704028, 'loss': 1.6958775520324707}\n"
     ]
    },
    {
     "name": "stderr",
     "output_type": "stream",
     "text": [
      "EP_train:7:  62%|| 584/938 [00:20<00:13, 25.89it/s]"
     ]
    },
    {
     "name": "stdout",
     "output_type": "stream",
     "text": [
      "{'epoch': 7, 'iter': 580, 'avg_loss': 1.4979336778801609, 'avg_acc': 54.51807228915663, 'loss': 1.4624645709991455}\n"
     ]
    },
    {
     "name": "stderr",
     "output_type": "stream",
     "text": [
      "EP_train:7:  64%|| 596/938 [00:20<00:12, 26.63it/s]"
     ]
    },
    {
     "name": "stdout",
     "output_type": "stream",
     "text": [
      "{'epoch': 7, 'iter': 590, 'avg_loss': 1.4979049479699176, 'avg_acc': 54.47863790186125, 'loss': 1.7123942375183105}\n"
     ]
    },
    {
     "name": "stderr",
     "output_type": "stream",
     "text": [
      "EP_train:7:  65%|| 606/938 [00:21<00:11, 28.29it/s]"
     ]
    },
    {
     "name": "stdout",
     "output_type": "stream",
     "text": [
      "{'epoch': 7, 'iter': 600, 'avg_loss': 1.4983994700944365, 'avg_acc': 54.53410981697171, 'loss': 1.5796505212783813}\n"
     ]
    },
    {
     "name": "stderr",
     "output_type": "stream",
     "text": [
      "EP_train:7:  66%|| 616/938 [00:21<00:11, 26.97it/s]"
     ]
    },
    {
     "name": "stdout",
     "output_type": "stream",
     "text": [
      "{'epoch': 7, 'iter': 610, 'avg_loss': 1.4990485840265177, 'avg_acc': 54.52127659574468, 'loss': 1.4561676979064941}\n"
     ]
    },
    {
     "name": "stderr",
     "output_type": "stream",
     "text": [
      "EP_train:7:  67%|| 625/938 [00:22<00:12, 26.08it/s]"
     ]
    },
    {
     "name": "stdout",
     "output_type": "stream",
     "text": [
      "{'epoch': 7, 'iter': 620, 'avg_loss': 1.4981251058563134, 'avg_acc': 54.539049919484704, 'loss': 1.1588834524154663}\n"
     ]
    },
    {
     "name": "stderr",
     "output_type": "stream",
     "text": [
      "EP_train:7:  68%|| 634/938 [00:22<00:14, 21.18it/s]"
     ]
    },
    {
     "name": "stdout",
     "output_type": "stream",
     "text": [
      "{'epoch': 7, 'iter': 630, 'avg_loss': 1.498822187092716, 'avg_acc': 54.62559429477021, 'loss': 1.676389217376709}\n"
     ]
    },
    {
     "name": "stderr",
     "output_type": "stream",
     "text": [
      "EP_train:7:  69%|| 646/938 [00:22<00:11, 26.13it/s]"
     ]
    },
    {
     "name": "stdout",
     "output_type": "stream",
     "text": [
      "{'epoch': 7, 'iter': 640, 'avg_loss': 1.4984464637946786, 'avg_acc': 54.64118564742589, 'loss': 1.4568595886230469}\n"
     ]
    },
    {
     "name": "stderr",
     "output_type": "stream",
     "text": [
      "EP_train:7:  70%|| 656/938 [00:23<00:10, 28.08it/s]"
     ]
    },
    {
     "name": "stdout",
     "output_type": "stream",
     "text": [
      "{'epoch': 7, 'iter': 650, 'avg_loss': 1.4966691498016615, 'avg_acc': 54.68990015360983, 'loss': 1.4965981245040894}\n"
     ]
    },
    {
     "name": "stderr",
     "output_type": "stream",
     "text": [
      "EP_train:7:  71%|| 666/938 [00:23<00:09, 29.94it/s]"
     ]
    },
    {
     "name": "stdout",
     "output_type": "stream",
     "text": [
      "{'epoch': 7, 'iter': 660, 'avg_loss': 1.4967087027525217, 'avg_acc': 54.718229954614216, 'loss': 1.4180558919906616}\n"
     ]
    },
    {
     "name": "stderr",
     "output_type": "stream",
     "text": [
      "EP_train:7:  72%|| 675/938 [00:23<00:09, 28.83it/s]"
     ]
    },
    {
     "name": "stdout",
     "output_type": "stream",
     "text": [
      "{'epoch': 7, 'iter': 670, 'avg_loss': 1.4968230472058723, 'avg_acc': 54.69448584202683, 'loss': 1.6086455583572388}\n"
     ]
    },
    {
     "name": "stderr",
     "output_type": "stream",
     "text": [
      "EP_train:7:  73%|| 684/938 [00:24<00:08, 28.60it/s]"
     ]
    },
    {
     "name": "stdout",
     "output_type": "stream",
     "text": [
      "{'epoch': 7, 'iter': 680, 'avg_loss': 1.4972319604716813, 'avg_acc': 54.671439060205586, 'loss': 1.3528571128845215}\n"
     ]
    },
    {
     "name": "stderr",
     "output_type": "stream",
     "text": [
      "EP_train:7:  74%|| 694/938 [00:24<00:10, 22.20it/s]"
     ]
    },
    {
     "name": "stdout",
     "output_type": "stream",
     "text": [
      "{'epoch': 7, 'iter': 690, 'avg_loss': 1.497103617781323, 'avg_acc': 54.73950795947901, 'loss': 1.481566071510315}\n"
     ]
    },
    {
     "name": "stderr",
     "output_type": "stream",
     "text": [
      "EP_train:7:  75%|| 705/938 [00:25<00:08, 26.37it/s]"
     ]
    },
    {
     "name": "stdout",
     "output_type": "stream",
     "text": [
      "{'epoch': 7, 'iter': 700, 'avg_loss': 1.4978189179288508, 'avg_acc': 54.72539229671898, 'loss': 1.5845625400543213}\n"
     ]
    },
    {
     "name": "stderr",
     "output_type": "stream",
     "text": [
      "EP_train:7:  76%|| 714/938 [00:25<00:08, 27.60it/s]"
     ]
    },
    {
     "name": "stdout",
     "output_type": "stream",
     "text": [
      "{'epoch': 7, 'iter': 710, 'avg_loss': 1.497616258016283, 'avg_acc': 54.724859353023916, 'loss': 1.4932812452316284}\n"
     ]
    },
    {
     "name": "stderr",
     "output_type": "stream",
     "text": [
      "EP_train:7:  77%|| 726/938 [00:25<00:07, 28.72it/s]"
     ]
    },
    {
     "name": "stdout",
     "output_type": "stream",
     "text": [
      "{'epoch': 7, 'iter': 720, 'avg_loss': 1.497955534064654, 'avg_acc': 54.70700416088765, 'loss': 1.4013736248016357}\n"
     ]
    },
    {
     "name": "stderr",
     "output_type": "stream",
     "text": [
      "EP_train:7:  78%|| 735/938 [00:26<00:07, 28.13it/s]"
     ]
    },
    {
     "name": "stdout",
     "output_type": "stream",
     "text": [
      "{'epoch': 7, 'iter': 730, 'avg_loss': 1.4975801305144658, 'avg_acc': 54.68108755129959, 'loss': 1.4546757936477661}\n"
     ]
    },
    {
     "name": "stderr",
     "output_type": "stream",
     "text": [
      "EP_train:7:  80%|| 746/938 [00:26<00:06, 28.94it/s]"
     ]
    },
    {
     "name": "stdout",
     "output_type": "stream",
     "text": [
      "{'epoch': 7, 'iter': 740, 'avg_loss': 1.4984899130266527, 'avg_acc': 54.66852226720648, 'loss': 1.478225588798523}\n"
     ]
    },
    {
     "name": "stderr",
     "output_type": "stream",
     "text": [
      "EP_train:7:  80%|| 755/938 [00:26<00:06, 28.45it/s]"
     ]
    },
    {
     "name": "stdout",
     "output_type": "stream",
     "text": [
      "{'epoch': 7, 'iter': 750, 'avg_loss': 1.4997198045174387, 'avg_acc': 54.627163781624496, 'loss': 1.612420678138733}\n"
     ]
    },
    {
     "name": "stderr",
     "output_type": "stream",
     "text": [
      "EP_train:7:  81%|| 764/938 [00:27<00:07, 21.77it/s]"
     ]
    },
    {
     "name": "stdout",
     "output_type": "stream",
     "text": [
      "{'epoch': 7, 'iter': 760, 'avg_loss': 1.4998590659531281, 'avg_acc': 54.61974375821288, 'loss': 1.530578374862671}\n"
     ]
    },
    {
     "name": "stderr",
     "output_type": "stream",
     "text": [
      "EP_train:7:  83%|| 776/938 [00:27<00:06, 26.22it/s]"
     ]
    },
    {
     "name": "stdout",
     "output_type": "stream",
     "text": [
      "{'epoch': 7, 'iter': 770, 'avg_loss': 1.5003807323606717, 'avg_acc': 54.59225032425421, 'loss': 1.7133413553237915}\n"
     ]
    },
    {
     "name": "stderr",
     "output_type": "stream",
     "text": [
      "EP_train:7:  84%|| 785/938 [00:28<00:05, 27.88it/s]"
     ]
    },
    {
     "name": "stdout",
     "output_type": "stream",
     "text": [
      "{'epoch': 7, 'iter': 780, 'avg_loss': 1.5003127332838793, 'avg_acc': 54.5774647887324, 'loss': 1.5952949523925781}\n"
     ]
    },
    {
     "name": "stderr",
     "output_type": "stream",
     "text": [
      "EP_train:7:  85%|| 796/938 [00:28<00:04, 29.13it/s]"
     ]
    },
    {
     "name": "stdout",
     "output_type": "stream",
     "text": [
      "{'epoch': 7, 'iter': 790, 'avg_loss': 1.5007038545970217, 'avg_acc': 54.60651074589128, 'loss': 1.5853872299194336}\n"
     ]
    },
    {
     "name": "stderr",
     "output_type": "stream",
     "text": [
      "EP_train:7:  86%|| 806/938 [00:28<00:04, 29.16it/s]"
     ]
    },
    {
     "name": "stdout",
     "output_type": "stream",
     "text": [
      "{'epoch': 7, 'iter': 800, 'avg_loss': 1.5000214279070032, 'avg_acc': 54.5880149812734, 'loss': 1.2521642446517944}\n"
     ]
    },
    {
     "name": "stderr",
     "output_type": "stream",
     "text": [
      "EP_train:7:  87%|| 813/938 [00:29<00:04, 29.07it/s]"
     ]
    },
    {
     "name": "stdout",
     "output_type": "stream",
     "text": [
      "{'epoch': 7, 'iter': 810, 'avg_loss': 1.4998637900840486, 'avg_acc': 54.62392108508015, 'loss': 1.6089180707931519}\n"
     ]
    },
    {
     "name": "stderr",
     "output_type": "stream",
     "text": [
      "EP_train:7:  88%|| 826/938 [00:29<00:04, 24.06it/s]"
     ]
    },
    {
     "name": "stdout",
     "output_type": "stream",
     "text": [
      "{'epoch': 7, 'iter': 820, 'avg_loss': 1.5003889227029612, 'avg_acc': 54.624695493300855, 'loss': 1.585135817527771}\n"
     ]
    },
    {
     "name": "stderr",
     "output_type": "stream",
     "text": [
      "EP_train:7:  89%|| 835/938 [00:29<00:03, 26.13it/s]"
     ]
    },
    {
     "name": "stdout",
     "output_type": "stream",
     "text": [
      "{'epoch': 7, 'iter': 830, 'avg_loss': 1.500712445496652, 'avg_acc': 54.61793020457281, 'loss': 1.6088199615478516}\n"
     ]
    },
    {
     "name": "stderr",
     "output_type": "stream",
     "text": [
      "EP_train:7:  90%|| 844/938 [00:30<00:03, 27.41it/s]"
     ]
    },
    {
     "name": "stdout",
     "output_type": "stream",
     "text": [
      "{'epoch': 7, 'iter': 840, 'avg_loss': 1.5013370335314702, 'avg_acc': 54.55558858501783, 'loss': 1.5199849605560303}\n"
     ]
    },
    {
     "name": "stderr",
     "output_type": "stream",
     "text": [
      "EP_train:7:  91%|| 856/938 [00:30<00:02, 28.35it/s]"
     ]
    },
    {
     "name": "stdout",
     "output_type": "stream",
     "text": [
      "{'epoch': 7, 'iter': 850, 'avg_loss': 1.5016435998306992, 'avg_acc': 54.59018801410106, 'loss': 1.472617745399475}\n"
     ]
    },
    {
     "name": "stderr",
     "output_type": "stream",
     "text": [
      "EP_train:7:  92%|| 865/938 [00:31<00:02, 26.97it/s]"
     ]
    },
    {
     "name": "stdout",
     "output_type": "stream",
     "text": [
      "{'epoch': 7, 'iter': 860, 'avg_loss': 1.5022178155896833, 'avg_acc': 54.645760743321716, 'loss': 1.433464527130127}\n"
     ]
    },
    {
     "name": "stderr",
     "output_type": "stream",
     "text": [
      "EP_train:7:  93%|| 875/938 [00:31<00:02, 28.09it/s]"
     ]
    },
    {
     "name": "stdout",
     "output_type": "stream",
     "text": [
      "{'epoch': 7, 'iter': 870, 'avg_loss': 1.5020865474311136, 'avg_acc': 54.57807118254879, 'loss': 1.399755597114563}\n"
     ]
    },
    {
     "name": "stderr",
     "output_type": "stream",
     "text": [
      "EP_train:7:  94%|| 884/938 [00:31<00:02, 22.16it/s]"
     ]
    },
    {
     "name": "stdout",
     "output_type": "stream",
     "text": [
      "{'epoch': 7, 'iter': 880, 'avg_loss': 1.5028011677078437, 'avg_acc': 54.57931328036323, 'loss': 1.578983187675476}\n"
     ]
    },
    {
     "name": "stderr",
     "output_type": "stream",
     "text": [
      "EP_train:7:  96%|| 896/938 [00:32<00:01, 24.36it/s]"
     ]
    },
    {
     "name": "stdout",
     "output_type": "stream",
     "text": [
      "{'epoch': 7, 'iter': 890, 'avg_loss': 1.5027654442589158, 'avg_acc': 54.608585858585855, 'loss': 1.5541229248046875}\n"
     ]
    },
    {
     "name": "stderr",
     "output_type": "stream",
     "text": [
      "EP_train:7:  96%|| 905/938 [00:32<00:01, 24.82it/s]"
     ]
    },
    {
     "name": "stdout",
     "output_type": "stream",
     "text": [
      "{'epoch': 7, 'iter': 900, 'avg_loss': 1.5024422769673524, 'avg_acc': 54.595588235294116, 'loss': 1.4092631340026855}\n"
     ]
    },
    {
     "name": "stderr",
     "output_type": "stream",
     "text": [
      "EP_train:7:  97%|| 914/938 [00:33<00:00, 25.01it/s]"
     ]
    },
    {
     "name": "stdout",
     "output_type": "stream",
     "text": [
      "{'epoch': 7, 'iter': 910, 'avg_loss': 1.5027324796115529, 'avg_acc': 54.5897365532382, 'loss': 1.6880433559417725}\n"
     ]
    },
    {
     "name": "stderr",
     "output_type": "stream",
     "text": [
      "EP_train:7:  99%|| 926/938 [00:33<00:00, 26.49it/s]"
     ]
    },
    {
     "name": "stdout",
     "output_type": "stream",
     "text": [
      "{'epoch': 7, 'iter': 920, 'avg_loss': 1.5027659004078884, 'avg_acc': 54.57383279044517, 'loss': 1.2128798961639404}\n"
     ]
    },
    {
     "name": "stderr",
     "output_type": "stream",
     "text": [
      "EP_train:7: 100%|| 935/938 [00:33<00:00, 26.57it/s]"
     ]
    },
    {
     "name": "stdout",
     "output_type": "stream",
     "text": [
      "{'epoch': 7, 'iter': 930, 'avg_loss': 1.503151730487221, 'avg_acc': 54.56834049409237, 'loss': 1.3664188385009766}\n"
     ]
    },
    {
     "name": "stderr",
     "output_type": "stream",
     "text": [
      "EP_train:7: 100%|| 938/938 [00:33<00:00, 27.65it/s]\n"
     ]
    },
    {
     "name": "stdout",
     "output_type": "stream",
     "text": [
      "EP7, train:             avg_loss=1.5030475051672474,             total_acc=54.57485828609536\n"
     ]
    },
    {
     "name": "stderr",
     "output_type": "stream",
     "text": [
      "EP_train:8:   0%|| 1/938 [00:00<02:40,  5.82it/s]"
     ]
    },
    {
     "name": "stdout",
     "output_type": "stream",
     "text": [
      "{'epoch': 8, 'iter': 0, 'avg_loss': 1.6002271175384521, 'avg_acc': 59.375, 'loss': 1.6002271175384521}\n"
     ]
    },
    {
     "name": "stderr",
     "output_type": "stream",
     "text": [
      "EP_train:8:   2%|| 16/938 [00:00<00:38, 23.65it/s]"
     ]
    },
    {
     "name": "stdout",
     "output_type": "stream",
     "text": [
      "{'epoch': 8, 'iter': 10, 'avg_loss': 1.4888571067289873, 'avg_acc': 55.11363636363637, 'loss': 1.3858810663223267}\n"
     ]
    },
    {
     "name": "stderr",
     "output_type": "stream",
     "text": [
      "EP_train:8:   3%|| 25/938 [00:01<00:37, 24.49it/s]"
     ]
    },
    {
     "name": "stdout",
     "output_type": "stream",
     "text": [
      "{'epoch': 8, 'iter': 20, 'avg_loss': 1.5014269749323528, 'avg_acc': 54.761904761904766, 'loss': 1.487060785293579}\n"
     ]
    },
    {
     "name": "stderr",
     "output_type": "stream",
     "text": [
      "EP_train:8:   4%|| 34/938 [00:01<00:35, 25.44it/s]"
     ]
    },
    {
     "name": "stdout",
     "output_type": "stream",
     "text": [
      "{'epoch': 8, 'iter': 30, 'avg_loss': 1.4902057186249764, 'avg_acc': 53.72983870967742, 'loss': 1.7540888786315918}\n"
     ]
    },
    {
     "name": "stderr",
     "output_type": "stream",
     "text": [
      "EP_train:8:   5%|| 46/938 [00:01<00:34, 25.82it/s]"
     ]
    },
    {
     "name": "stdout",
     "output_type": "stream",
     "text": [
      "{'epoch': 8, 'iter': 40, 'avg_loss': 1.5287314886000098, 'avg_acc': 54.420731707317074, 'loss': 1.7896283864974976}\n"
     ]
    },
    {
     "name": "stderr",
     "output_type": "stream",
     "text": [
      "EP_train:8:   6%|| 55/938 [00:02<00:34, 25.69it/s]"
     ]
    },
    {
     "name": "stdout",
     "output_type": "stream",
     "text": [
      "{'epoch': 8, 'iter': 50, 'avg_loss': 1.511319123062433, 'avg_acc': 54.04411764705882, 'loss': 1.4856141805648804}\n"
     ]
    },
    {
     "name": "stderr",
     "output_type": "stream",
     "text": [
      "EP_train:8:   7%|| 61/938 [00:02<00:33, 26.26it/s]"
     ]
    },
    {
     "name": "stdout",
     "output_type": "stream",
     "text": [
      "{'epoch': 8, 'iter': 60, 'avg_loss': 1.5123001747444027, 'avg_acc': 54.04713114754098, 'loss': 1.487131953239441}\n"
     ]
    },
    {
     "name": "stderr",
     "output_type": "stream",
     "text": [
      "EP_train:8:   8%|| 76/938 [00:03<00:36, 23.75it/s]"
     ]
    },
    {
     "name": "stdout",
     "output_type": "stream",
     "text": [
      "{'epoch': 8, 'iter': 70, 'avg_loss': 1.5123528158161001, 'avg_acc': 53.9612676056338, 'loss': 1.6915953159332275}\n"
     ]
    },
    {
     "name": "stderr",
     "output_type": "stream",
     "text": [
      "EP_train:8:   9%|| 85/938 [00:03<00:33, 25.23it/s]"
     ]
    },
    {
     "name": "stdout",
     "output_type": "stream",
     "text": [
      "{'epoch': 8, 'iter': 80, 'avg_loss': 1.5088445831228186, 'avg_acc': 54.166666666666664, 'loss': 1.5117350816726685}\n"
     ]
    },
    {
     "name": "stderr",
     "output_type": "stream",
     "text": [
      "EP_train:8:  10%|| 94/938 [00:03<00:33, 25.41it/s]"
     ]
    },
    {
     "name": "stdout",
     "output_type": "stream",
     "text": [
      "{'epoch': 8, 'iter': 90, 'avg_loss': 1.504315930408436, 'avg_acc': 54.155219780219774, 'loss': 1.2719097137451172}\n"
     ]
    },
    {
     "name": "stderr",
     "output_type": "stream",
     "text": [
      "EP_train:8:  11%|| 106/938 [00:04<00:32, 25.89it/s]"
     ]
    },
    {
     "name": "stdout",
     "output_type": "stream",
     "text": [
      "{'epoch': 8, 'iter': 100, 'avg_loss': 1.503459090053445, 'avg_acc': 54.207920792079214, 'loss': 1.5534124374389648}\n"
     ]
    },
    {
     "name": "stderr",
     "output_type": "stream",
     "text": [
      "EP_train:8:  12%|| 115/938 [00:04<00:32, 25.71it/s]"
     ]
    },
    {
     "name": "stdout",
     "output_type": "stream",
     "text": [
      "{'epoch': 8, 'iter': 110, 'avg_loss': 1.5100610492465731, 'avg_acc': 54.5045045045045, 'loss': 1.5535682439804077}\n"
     ]
    },
    {
     "name": "stderr",
     "output_type": "stream",
     "text": [
      "EP_train:8:  13%|| 124/938 [00:05<00:32, 25.27it/s]"
     ]
    },
    {
     "name": "stdout",
     "output_type": "stream",
     "text": [
      "{'epoch': 8, 'iter': 120, 'avg_loss': 1.5108171996991497, 'avg_acc': 54.6745867768595, 'loss': 1.344988465309143}\n"
     ]
    },
    {
     "name": "stderr",
     "output_type": "stream",
     "text": [
      "EP_train:8:  14%|| 133/938 [00:05<00:42, 19.05it/s]"
     ]
    },
    {
     "name": "stdout",
     "output_type": "stream",
     "text": [
      "{'epoch': 8, 'iter': 130, 'avg_loss': 1.5167709761903485, 'avg_acc': 54.62786259541985, 'loss': 1.7270277738571167}\n"
     ]
    },
    {
     "name": "stderr",
     "output_type": "stream",
     "text": [
      "EP_train:8:  15%|| 145/938 [00:06<00:34, 22.99it/s]"
     ]
    },
    {
     "name": "stdout",
     "output_type": "stream",
     "text": [
      "{'epoch': 8, 'iter': 140, 'avg_loss': 1.5111451064441221, 'avg_acc': 54.321808510638306, 'loss': 1.415820598602295}\n"
     ]
    },
    {
     "name": "stderr",
     "output_type": "stream",
     "text": [
      "EP_train:8:  16%|| 154/938 [00:06<00:32, 23.96it/s]"
     ]
    },
    {
     "name": "stdout",
     "output_type": "stream",
     "text": [
      "{'epoch': 8, 'iter': 150, 'avg_loss': 1.5142670940879166, 'avg_acc': 54.57367549668874, 'loss': 1.5449378490447998}\n"
     ]
    },
    {
     "name": "stderr",
     "output_type": "stream",
     "text": [
      "EP_train:8:  18%|| 166/938 [00:06<00:30, 25.15it/s]"
     ]
    },
    {
     "name": "stdout",
     "output_type": "stream",
     "text": [
      "{'epoch': 8, 'iter': 160, 'avg_loss': 1.5151146613292812, 'avg_acc': 54.6583850931677, 'loss': 1.6661453247070312}\n"
     ]
    },
    {
     "name": "stderr",
     "output_type": "stream",
     "text": [
      "EP_train:8:  19%|| 175/938 [00:07<00:31, 24.39it/s]"
     ]
    },
    {
     "name": "stdout",
     "output_type": "stream",
     "text": [
      "{'epoch': 8, 'iter': 170, 'avg_loss': 1.5157668674201297, 'avg_acc': 54.56871345029239, 'loss': 1.6725585460662842}\n"
     ]
    },
    {
     "name": "stderr",
     "output_type": "stream",
     "text": [
      "EP_train:8:  20%|| 184/938 [00:07<00:31, 24.17it/s]"
     ]
    },
    {
     "name": "stdout",
     "output_type": "stream",
     "text": [
      "{'epoch': 8, 'iter': 180, 'avg_loss': 1.5143226641976373, 'avg_acc': 54.36809392265194, 'loss': 1.4089330434799194}\n"
     ]
    },
    {
     "name": "stderr",
     "output_type": "stream",
     "text": [
      "EP_train:8:  20%|| 190/938 [00:08<00:31, 23.50it/s]"
     ]
    },
    {
     "name": "stdout",
     "output_type": "stream",
     "text": [
      "{'epoch': 8, 'iter': 190, 'avg_loss': 1.5162572068069617, 'avg_acc': 54.22120418848168, 'loss': 1.8221355676651}\n"
     ]
    },
    {
     "name": "stderr",
     "output_type": "stream",
     "text": [
      "EP_train:8:  22%|| 205/938 [00:08<00:33, 22.20it/s]"
     ]
    },
    {
     "name": "stdout",
     "output_type": "stream",
     "text": [
      "{'epoch': 8, 'iter': 200, 'avg_loss': 1.5163968149109266, 'avg_acc': 54.33768656716418, 'loss': 1.5602717399597168}\n"
     ]
    },
    {
     "name": "stderr",
     "output_type": "stream",
     "text": [
      "EP_train:8:  23%|| 214/938 [00:09<00:30, 23.55it/s]"
     ]
    },
    {
     "name": "stdout",
     "output_type": "stream",
     "text": [
      "{'epoch': 8, 'iter': 210, 'avg_loss': 1.51780258761763, 'avg_acc': 54.30983412322274, 'loss': 1.5986565351486206}\n"
     ]
    },
    {
     "name": "stderr",
     "output_type": "stream",
     "text": [
      "EP_train:8:  24%|| 223/938 [00:09<00:31, 22.44it/s]"
     ]
    },
    {
     "name": "stdout",
     "output_type": "stream",
     "text": [
      "{'epoch': 8, 'iter': 220, 'avg_loss': 1.5172053866796364, 'avg_acc': 54.2420814479638, 'loss': 1.6355031728744507}\n"
     ]
    },
    {
     "name": "stderr",
     "output_type": "stream",
     "text": [
      "EP_train:8:  25%|| 235/938 [00:10<00:30, 22.83it/s]"
     ]
    },
    {
     "name": "stdout",
     "output_type": "stream",
     "text": [
      "{'epoch': 8, 'iter': 230, 'avg_loss': 1.515783608217776, 'avg_acc': 54.22077922077923, 'loss': 1.1732654571533203}\n"
     ]
    },
    {
     "name": "stderr",
     "output_type": "stream",
     "text": [
      "EP_train:8:  26%|| 244/938 [00:10<00:29, 23.40it/s]"
     ]
    },
    {
     "name": "stdout",
     "output_type": "stream",
     "text": [
      "{'epoch': 8, 'iter': 240, 'avg_loss': 1.5149364511007095, 'avg_acc': 54.253112033195016, 'loss': 1.4398927688598633}\n"
     ]
    },
    {
     "name": "stderr",
     "output_type": "stream",
     "text": [
      "EP_train:8:  27%|| 253/938 [00:10<00:29, 23.50it/s]"
     ]
    },
    {
     "name": "stdout",
     "output_type": "stream",
     "text": [
      "{'epoch': 8, 'iter': 250, 'avg_loss': 1.514798919043218, 'avg_acc': 54.38247011952191, 'loss': 1.6221153736114502}\n"
     ]
    },
    {
     "name": "stderr",
     "output_type": "stream",
     "text": [
      "EP_train:8:  28%|| 265/938 [00:11<00:36, 18.63it/s]"
     ]
    },
    {
     "name": "stdout",
     "output_type": "stream",
     "text": [
      "{'epoch': 8, 'iter': 260, 'avg_loss': 1.5126225313464343, 'avg_acc': 54.34626436781609, 'loss': 1.2864800691604614}\n"
     ]
    },
    {
     "name": "stderr",
     "output_type": "stream",
     "text": [
      "EP_train:8:  29%|| 274/938 [00:11<00:31, 21.34it/s]"
     ]
    },
    {
     "name": "stdout",
     "output_type": "stream",
     "text": [
      "{'epoch': 8, 'iter': 270, 'avg_loss': 1.5087736818623279, 'avg_acc': 54.45110701107011, 'loss': 1.0447508096694946}\n"
     ]
    },
    {
     "name": "stderr",
     "output_type": "stream",
     "text": [
      "EP_train:8:  30%|| 283/938 [00:12<00:29, 22.29it/s]"
     ]
    },
    {
     "name": "stdout",
     "output_type": "stream",
     "text": [
      "{'epoch': 8, 'iter': 280, 'avg_loss': 1.50634850938125, 'avg_acc': 54.38167259786477, 'loss': 1.5557152032852173}\n"
     ]
    },
    {
     "name": "stderr",
     "output_type": "stream",
     "text": [
      "EP_train:8:  31%|| 295/938 [00:12<00:27, 23.69it/s]"
     ]
    },
    {
     "name": "stdout",
     "output_type": "stream",
     "text": [
      "{'epoch': 8, 'iter': 290, 'avg_loss': 1.5049605590780986, 'avg_acc': 54.263316151202744, 'loss': 1.5935862064361572}\n"
     ]
    },
    {
     "name": "stderr",
     "output_type": "stream",
     "text": [
      "EP_train:8:  32%|| 304/938 [00:13<00:27, 23.00it/s]"
     ]
    },
    {
     "name": "stdout",
     "output_type": "stream",
     "text": [
      "{'epoch': 8, 'iter': 300, 'avg_loss': 1.5049855776403434, 'avg_acc': 54.256644518272424, 'loss': 1.5453920364379883}\n"
     ]
    },
    {
     "name": "stderr",
     "output_type": "stream",
     "text": [
      "EP_train:8:  33%|| 313/938 [00:13<00:27, 22.73it/s]"
     ]
    },
    {
     "name": "stdout",
     "output_type": "stream",
     "text": [
      "{'epoch': 8, 'iter': 310, 'avg_loss': 1.5067572793009965, 'avg_acc': 54.350884244372985, 'loss': 1.5064722299575806}\n"
     ]
    },
    {
     "name": "stderr",
     "output_type": "stream",
     "text": [
      "EP_train:8:  35%|| 325/938 [00:14<00:33, 18.48it/s]"
     ]
    },
    {
     "name": "stdout",
     "output_type": "stream",
     "text": [
      "{'epoch': 8, 'iter': 320, 'avg_loss': 1.5049958069376486, 'avg_acc': 54.26401869158879, 'loss': 1.4518535137176514}\n"
     ]
    },
    {
     "name": "stderr",
     "output_type": "stream",
     "text": [
      "EP_train:8:  36%|| 334/938 [00:14<00:28, 21.01it/s]"
     ]
    },
    {
     "name": "stdout",
     "output_type": "stream",
     "text": [
      "{'epoch': 8, 'iter': 330, 'avg_loss': 1.5020125805431261, 'avg_acc': 54.342900302114806, 'loss': 1.5615358352661133}\n"
     ]
    },
    {
     "name": "stderr",
     "output_type": "stream",
     "text": [
      "EP_train:8:  37%|| 343/938 [00:15<00:27, 21.92it/s]"
     ]
    },
    {
     "name": "stdout",
     "output_type": "stream",
     "text": [
      "{'epoch': 8, 'iter': 340, 'avg_loss': 1.5040958847118613, 'avg_acc': 54.417155425219946, 'loss': 1.5429317951202393}\n"
     ]
    },
    {
     "name": "stderr",
     "output_type": "stream",
     "text": [
      "EP_train:8:  38%|| 355/938 [00:15<00:26, 22.35it/s]"
     ]
    },
    {
     "name": "stdout",
     "output_type": "stream",
     "text": [
      "{'epoch': 8, 'iter': 350, 'avg_loss': 1.50537209938734, 'avg_acc': 54.38924501424501, 'loss': 1.6761890649795532}\n"
     ]
    },
    {
     "name": "stderr",
     "output_type": "stream",
     "text": [
      "EP_train:8:  39%|| 364/938 [00:15<00:26, 22.06it/s]"
     ]
    },
    {
     "name": "stdout",
     "output_type": "stream",
     "text": [
      "{'epoch': 8, 'iter': 360, 'avg_loss': 1.504393006956148, 'avg_acc': 54.475415512465375, 'loss': 1.3652656078338623}\n"
     ]
    },
    {
     "name": "stderr",
     "output_type": "stream",
     "text": [
      "EP_train:8:  40%|| 373/938 [00:16<00:25, 22.15it/s]"
     ]
    },
    {
     "name": "stdout",
     "output_type": "stream",
     "text": [
      "{'epoch': 8, 'iter': 370, 'avg_loss': 1.5044875941829219, 'avg_acc': 54.455862533692724, 'loss': 1.5422309637069702}\n"
     ]
    },
    {
     "name": "stderr",
     "output_type": "stream",
     "text": [
      "EP_train:8:  41%|| 384/938 [00:17<00:30, 18.32it/s]"
     ]
    },
    {
     "name": "stdout",
     "output_type": "stream",
     "text": [
      "{'epoch': 8, 'iter': 380, 'avg_loss': 1.5038592292880761, 'avg_acc': 54.44553805774278, 'loss': 1.4627732038497925}\n"
     ]
    },
    {
     "name": "stderr",
     "output_type": "stream",
     "text": [
      "EP_train:8:  42%|| 393/938 [00:17<00:25, 21.05it/s]"
     ]
    },
    {
     "name": "stdout",
     "output_type": "stream",
     "text": [
      "{'epoch': 8, 'iter': 390, 'avg_loss': 1.5037564816682234, 'avg_acc': 54.44373401534527, 'loss': 1.3368465900421143}\n"
     ]
    },
    {
     "name": "stderr",
     "output_type": "stream",
     "text": [
      "EP_train:8:  43%|| 405/938 [00:17<00:23, 22.92it/s]"
     ]
    },
    {
     "name": "stdout",
     "output_type": "stream",
     "text": [
      "{'epoch': 8, 'iter': 400, 'avg_loss': 1.5037854211288795, 'avg_acc': 54.512157107231914, 'loss': 1.4562952518463135}\n"
     ]
    },
    {
     "name": "stderr",
     "output_type": "stream",
     "text": [
      "EP_train:8:  44%|| 414/938 [00:18<00:23, 22.22it/s]"
     ]
    },
    {
     "name": "stdout",
     "output_type": "stream",
     "text": [
      "{'epoch': 8, 'iter': 410, 'avg_loss': 1.502748246030506, 'avg_acc': 54.463199513382, 'loss': 1.5541412830352783}\n"
     ]
    },
    {
     "name": "stderr",
     "output_type": "stream",
     "text": [
      "EP_train:8:  45%|| 423/938 [00:18<00:22, 22.44it/s]"
     ]
    },
    {
     "name": "stdout",
     "output_type": "stream",
     "text": [
      "{'epoch': 8, 'iter': 420, 'avg_loss': 1.5029544705732985, 'avg_acc': 54.45368171021377, 'loss': 1.75209641456604}\n"
     ]
    },
    {
     "name": "stderr",
     "output_type": "stream",
     "text": [
      "EP_train:8:  46%|| 435/938 [00:19<00:22, 22.78it/s]"
     ]
    },
    {
     "name": "stdout",
     "output_type": "stream",
     "text": [
      "{'epoch': 8, 'iter': 430, 'avg_loss': 1.501655823393377, 'avg_acc': 54.386600928074245, 'loss': 1.315659523010254}\n"
     ]
    },
    {
     "name": "stderr",
     "output_type": "stream",
     "text": [
      "EP_train:8:  47%|| 445/938 [00:19<00:25, 19.49it/s]"
     ]
    },
    {
     "name": "stdout",
     "output_type": "stream",
     "text": [
      "{'epoch': 8, 'iter': 440, 'avg_loss': 1.5020435029416939, 'avg_acc': 54.25878684807256, 'loss': 1.3881111145019531}\n"
     ]
    },
    {
     "name": "stderr",
     "output_type": "stream",
     "text": [
      "EP_train:8:  48%|| 453/938 [00:20<00:24, 19.94it/s]"
     ]
    },
    {
     "name": "stdout",
     "output_type": "stream",
     "text": [
      "{'epoch': 8, 'iter': 450, 'avg_loss': 1.5018056311258456, 'avg_acc': 54.37915742793792, 'loss': 1.4865516424179077}\n"
     ]
    },
    {
     "name": "stderr",
     "output_type": "stream",
     "text": [
      "EP_train:8:  50%|| 465/938 [00:20<00:21, 21.66it/s]"
     ]
    },
    {
     "name": "stdout",
     "output_type": "stream",
     "text": [
      "{'epoch': 8, 'iter': 460, 'avg_loss': 1.500887503075755, 'avg_acc': 54.47396963123644, 'loss': 1.5266990661621094}\n"
     ]
    },
    {
     "name": "stderr",
     "output_type": "stream",
     "text": [
      "EP_train:8:  51%|| 474/938 [00:21<00:20, 22.71it/s]"
     ]
    },
    {
     "name": "stdout",
     "output_type": "stream",
     "text": [
      "{'epoch': 8, 'iter': 470, 'avg_loss': 1.5015154482199635, 'avg_acc': 54.538216560509554, 'loss': 1.7990989685058594}\n"
     ]
    },
    {
     "name": "stderr",
     "output_type": "stream",
     "text": [
      "EP_train:8:  52%|| 486/938 [00:21<00:19, 23.34it/s]"
     ]
    },
    {
     "name": "stdout",
     "output_type": "stream",
     "text": [
      "{'epoch': 8, 'iter': 480, 'avg_loss': 1.50240686827043, 'avg_acc': 54.593295218295225, 'loss': 1.4805129766464233}\n"
     ]
    },
    {
     "name": "stderr",
     "output_type": "stream",
     "text": [
      "EP_train:8:  52%|| 492/938 [00:22<00:19, 23.11it/s]"
     ]
    },
    {
     "name": "stdout",
     "output_type": "stream",
     "text": [
      "{'epoch': 8, 'iter': 490, 'avg_loss': 1.5038010331132505, 'avg_acc': 54.58248472505092, 'loss': 1.5917011499404907}\n"
     ]
    },
    {
     "name": "stderr",
     "output_type": "stream",
     "text": [
      "EP_train:8:  54%|| 504/938 [00:22<00:21, 20.42it/s]"
     ]
    },
    {
     "name": "stdout",
     "output_type": "stream",
     "text": [
      "{'epoch': 8, 'iter': 500, 'avg_loss': 1.5021724058482462, 'avg_acc': 54.62824351297405, 'loss': 1.5553150177001953}\n"
     ]
    },
    {
     "name": "stderr",
     "output_type": "stream",
     "text": [
      "EP_train:8:  55%|| 513/938 [00:23<00:19, 21.71it/s]"
     ]
    },
    {
     "name": "stdout",
     "output_type": "stream",
     "text": [
      "{'epoch': 8, 'iter': 510, 'avg_loss': 1.503177129825734, 'avg_acc': 54.574363992172216, 'loss': 1.4990663528442383}\n"
     ]
    },
    {
     "name": "stderr",
     "output_type": "stream",
     "text": [
      "EP_train:8:  56%|| 525/938 [00:23<00:18, 22.29it/s]"
     ]
    },
    {
     "name": "stdout",
     "output_type": "stream",
     "text": [
      "{'epoch': 8, 'iter': 520, 'avg_loss': 1.5022816694629397, 'avg_acc': 54.546545105566224, 'loss': 1.5763862133026123}\n"
     ]
    },
    {
     "name": "stderr",
     "output_type": "stream",
     "text": [
      "EP_train:8:  57%|| 534/938 [00:24<00:18, 22.40it/s]"
     ]
    },
    {
     "name": "stdout",
     "output_type": "stream",
     "text": [
      "{'epoch': 8, 'iter': 530, 'avg_loss': 1.5021528376024322, 'avg_acc': 54.608050847457626, 'loss': 1.20848548412323}\n"
     ]
    },
    {
     "name": "stderr",
     "output_type": "stream",
     "text": [
      "EP_train:8:  58%|| 543/938 [00:24<00:17, 21.95it/s]"
     ]
    },
    {
     "name": "stdout",
     "output_type": "stream",
     "text": [
      "{'epoch': 8, 'iter': 540, 'avg_loss': 1.501825396983769, 'avg_acc': 54.65573012939002, 'loss': 1.597143292427063}\n"
     ]
    },
    {
     "name": "stderr",
     "output_type": "stream",
     "text": [
      "EP_train:8:  59%|| 555/938 [00:24<00:17, 22.30it/s]"
     ]
    },
    {
     "name": "stdout",
     "output_type": "stream",
     "text": [
      "{'epoch': 8, 'iter': 550, 'avg_loss': 1.5021427733495751, 'avg_acc': 54.616606170598914, 'loss': 1.6196132898330688}\n"
     ]
    },
    {
     "name": "stderr",
     "output_type": "stream",
     "text": [
      "EP_train:8:  60%|| 563/938 [00:25<00:20, 18.64it/s]"
     ]
    },
    {
     "name": "stdout",
     "output_type": "stream",
     "text": [
      "{'epoch': 8, 'iter': 560, 'avg_loss': 1.5009202678785818, 'avg_acc': 54.65129233511586, 'loss': 1.3280709981918335}\n"
     ]
    },
    {
     "name": "stderr",
     "output_type": "stream",
     "text": [
      "EP_train:8:  61%|| 575/938 [00:26<00:17, 20.91it/s]"
     ]
    },
    {
     "name": "stdout",
     "output_type": "stream",
     "text": [
      "{'epoch': 8, 'iter': 570, 'avg_loss': 1.5015570549539008, 'avg_acc': 54.72307355516638, 'loss': 1.5181876420974731}\n"
     ]
    },
    {
     "name": "stderr",
     "output_type": "stream",
     "text": [
      "EP_train:8:  62%|| 584/938 [00:26<00:16, 21.37it/s]"
     ]
    },
    {
     "name": "stdout",
     "output_type": "stream",
     "text": [
      "{'epoch': 8, 'iter': 580, 'avg_loss': 1.500759470483317, 'avg_acc': 54.64178141135972, 'loss': 1.6426739692687988}\n"
     ]
    },
    {
     "name": "stderr",
     "output_type": "stream",
     "text": [
      "EP_train:8:  63%|| 593/938 [00:26<00:16, 21.55it/s]"
     ]
    },
    {
     "name": "stdout",
     "output_type": "stream",
     "text": [
      "{'epoch': 8, 'iter': 590, 'avg_loss': 1.5009077835809155, 'avg_acc': 54.61611675126904, 'loss': 1.6327728033065796}\n"
     ]
    },
    {
     "name": "stderr",
     "output_type": "stream",
     "text": [
      "EP_train:8:  64%|| 605/938 [00:27<00:15, 21.41it/s]"
     ]
    },
    {
     "name": "stdout",
     "output_type": "stream",
     "text": [
      "{'epoch': 8, 'iter': 600, 'avg_loss': 1.500319976576553, 'avg_acc': 54.580906821963396, 'loss': 1.5191271305084229}\n"
     ]
    },
    {
     "name": "stderr",
     "output_type": "stream",
     "text": [
      "EP_train:8:  65%|| 614/938 [00:27<00:14, 22.27it/s]"
     ]
    },
    {
     "name": "stdout",
     "output_type": "stream",
     "text": [
      "{'epoch': 8, 'iter': 610, 'avg_loss': 1.5015534529319177, 'avg_acc': 54.56219312602292, 'loss': 1.5774799585342407}\n"
     ]
    },
    {
     "name": "stderr",
     "output_type": "stream",
     "text": [
      "EP_train:8:  66%|| 623/938 [00:28<00:17, 18.19it/s]"
     ]
    },
    {
     "name": "stdout",
     "output_type": "stream",
     "text": [
      "{'epoch': 8, 'iter': 620, 'avg_loss': 1.50172647377911, 'avg_acc': 54.4987922705314, 'loss': 1.9220168590545654}\n"
     ]
    },
    {
     "name": "stderr",
     "output_type": "stream",
     "text": [
      "EP_train:8:  68%|| 635/938 [00:28<00:14, 20.90it/s]"
     ]
    },
    {
     "name": "stdout",
     "output_type": "stream",
     "text": [
      "{'epoch': 8, 'iter': 630, 'avg_loss': 1.5025408292534612, 'avg_acc': 54.477020602218694, 'loss': 1.6508708000183105}\n"
     ]
    },
    {
     "name": "stderr",
     "output_type": "stream",
     "text": [
      "EP_train:8:  69%|| 644/938 [00:29<00:13, 21.73it/s]"
     ]
    },
    {
     "name": "stdout",
     "output_type": "stream",
     "text": [
      "{'epoch': 8, 'iter': 640, 'avg_loss': 1.503131295515111, 'avg_acc': 54.44130265210608, 'loss': 1.53701913356781}\n"
     ]
    },
    {
     "name": "stderr",
     "output_type": "stream",
     "text": [
      "EP_train:8:  70%|| 653/938 [00:29<00:13, 21.63it/s]"
     ]
    },
    {
     "name": "stdout",
     "output_type": "stream",
     "text": [
      "{'epoch': 8, 'iter': 650, 'avg_loss': 1.5033947491242956, 'avg_acc': 54.52668970814132, 'loss': 1.6554096937179565}\n"
     ]
    },
    {
     "name": "stderr",
     "output_type": "stream",
     "text": [
      "EP_train:8:  71%|| 665/938 [00:30<00:12, 22.21it/s]"
     ]
    },
    {
     "name": "stdout",
     "output_type": "stream",
     "text": [
      "{'epoch': 8, 'iter': 660, 'avg_loss': 1.500554292537441, 'avg_acc': 54.5196671709531, 'loss': 1.5029284954071045}\n"
     ]
    },
    {
     "name": "stderr",
     "output_type": "stream",
     "text": [
      "EP_train:8:  72%|| 674/938 [00:30<00:13, 20.14it/s]"
     ]
    },
    {
     "name": "stdout",
     "output_type": "stream",
     "text": [
      "{'epoch': 8, 'iter': 670, 'avg_loss': 1.5011708118165836, 'avg_acc': 54.65257078986588, 'loss': 1.5934388637542725}\n"
     ]
    },
    {
     "name": "stderr",
     "output_type": "stream",
     "text": [
      "EP_train:8:  73%|| 683/938 [00:31<00:16, 15.83it/s]"
     ]
    },
    {
     "name": "stdout",
     "output_type": "stream",
     "text": [
      "{'epoch': 8, 'iter': 680, 'avg_loss': 1.5012808273192195, 'avg_acc': 54.657672540381796, 'loss': 1.558193325996399}\n"
     ]
    },
    {
     "name": "stderr",
     "output_type": "stream",
     "text": [
      "EP_train:8:  74%|| 693/938 [00:31<00:12, 19.25it/s]"
     ]
    },
    {
     "name": "stdout",
     "output_type": "stream",
     "text": [
      "{'epoch': 8, 'iter': 690, 'avg_loss': 1.5003428993970371, 'avg_acc': 54.67619392185239, 'loss': 1.2829382419586182}\n"
     ]
    },
    {
     "name": "stderr",
     "output_type": "stream",
     "text": [
      "EP_train:8:  75%|| 705/938 [00:32<00:10, 21.56it/s]"
     ]
    },
    {
     "name": "stdout",
     "output_type": "stream",
     "text": [
      "{'epoch': 8, 'iter': 700, 'avg_loss': 1.5004209084449582, 'avg_acc': 54.6629814550642, 'loss': 1.4134939908981323}\n"
     ]
    },
    {
     "name": "stderr",
     "output_type": "stream",
     "text": [
      "EP_train:8:  76%|| 714/938 [00:32<00:10, 21.88it/s]"
     ]
    },
    {
     "name": "stdout",
     "output_type": "stream",
     "text": [
      "{'epoch': 8, 'iter': 710, 'avg_loss': 1.5003570381934466, 'avg_acc': 54.724859353023916, 'loss': 1.276451826095581}\n"
     ]
    },
    {
     "name": "stderr",
     "output_type": "stream",
     "text": [
      "EP_train:8:  77%|| 723/938 [00:33<00:10, 21.45it/s]"
     ]
    },
    {
     "name": "stdout",
     "output_type": "stream",
     "text": [
      "{'epoch': 8, 'iter': 720, 'avg_loss': 1.5001107780017402, 'avg_acc': 54.685332871012484, 'loss': 1.5929490327835083}\n"
     ]
    },
    {
     "name": "stderr",
     "output_type": "stream",
     "text": [
      "EP_train:8:  78%|| 734/938 [00:33<00:11, 18.38it/s]"
     ]
    },
    {
     "name": "stdout",
     "output_type": "stream",
     "text": [
      "{'epoch': 8, 'iter': 730, 'avg_loss': 1.50024933250756, 'avg_acc': 54.69391244870041, 'loss': 1.5639346837997437}\n"
     ]
    },
    {
     "name": "stderr",
     "output_type": "stream",
     "text": [
      "EP_train:8:  79%|| 743/938 [00:34<00:09, 20.03it/s]"
     ]
    },
    {
     "name": "stdout",
     "output_type": "stream",
     "text": [
      "{'epoch': 8, 'iter': 740, 'avg_loss': 1.4982235943257567, 'avg_acc': 54.69382591093117, 'loss': 1.362305998802185}\n"
     ]
    },
    {
     "name": "stderr",
     "output_type": "stream",
     "text": [
      "EP_train:8:  80%|| 755/938 [00:34<00:08, 21.44it/s]"
     ]
    },
    {
     "name": "stdout",
     "output_type": "stream",
     "text": [
      "{'epoch': 8, 'iter': 750, 'avg_loss': 1.4988045755937478, 'avg_acc': 54.643808255659124, 'loss': 1.8603315353393555}\n"
     ]
    },
    {
     "name": "stderr",
     "output_type": "stream",
     "text": [
      "EP_train:8:  81%|| 764/938 [00:35<00:07, 21.91it/s]"
     ]
    },
    {
     "name": "stdout",
     "output_type": "stream",
     "text": [
      "{'epoch': 8, 'iter': 760, 'avg_loss': 1.4995110072538198, 'avg_acc': 54.65259526938239, 'loss': 1.474592685699463}\n"
     ]
    },
    {
     "name": "stderr",
     "output_type": "stream",
     "text": [
      "EP_train:8:  82%|| 773/938 [00:35<00:07, 21.65it/s]"
     ]
    },
    {
     "name": "stdout",
     "output_type": "stream",
     "text": [
      "{'epoch': 8, 'iter': 770, 'avg_loss': 1.4994274674686476, 'avg_acc': 54.64494163424124, 'loss': 1.347701072692871}\n"
     ]
    },
    {
     "name": "stderr",
     "output_type": "stream",
     "text": [
      "EP_train:8:  84%|| 785/938 [00:36<00:06, 22.03it/s]"
     ]
    },
    {
     "name": "stdout",
     "output_type": "stream",
     "text": [
      "{'epoch': 8, 'iter': 780, 'avg_loss': 1.4993373143382933, 'avg_acc': 54.62147887323944, 'loss': 1.6219676733016968}\n"
     ]
    },
    {
     "name": "stderr",
     "output_type": "stream",
     "text": [
      "EP_train:8:  85%|| 795/938 [00:36<00:07, 18.97it/s]"
     ]
    },
    {
     "name": "stdout",
     "output_type": "stream",
     "text": [
      "{'epoch': 8, 'iter': 790, 'avg_loss': 1.4985082527780351, 'avg_acc': 54.61046144121365, 'loss': 1.5252114534378052}\n"
     ]
    },
    {
     "name": "stderr",
     "output_type": "stream",
     "text": [
      "EP_train:8:  86%|| 804/938 [00:37<00:06, 20.72it/s]"
     ]
    },
    {
     "name": "stdout",
     "output_type": "stream",
     "text": [
      "{'epoch': 8, 'iter': 800, 'avg_loss': 1.4989785258094321, 'avg_acc': 54.545099875156055, 'loss': 1.476567029953003}\n"
     ]
    },
    {
     "name": "stderr",
     "output_type": "stream",
     "text": [
      "EP_train:8:  87%|| 813/938 [00:37<00:05, 21.04it/s]"
     ]
    },
    {
     "name": "stdout",
     "output_type": "stream",
     "text": [
      "{'epoch': 8, 'iter': 810, 'avg_loss': 1.4998646909887783, 'avg_acc': 54.55456226880394, 'loss': 1.6470698118209839}\n"
     ]
    },
    {
     "name": "stderr",
     "output_type": "stream",
     "text": [
      "EP_train:8:  88%|| 825/938 [00:38<00:05, 21.15it/s]"
     ]
    },
    {
     "name": "stdout",
     "output_type": "stream",
     "text": [
      "{'epoch': 8, 'iter': 820, 'avg_loss': 1.50020309995937, 'avg_acc': 54.57521315468941, 'loss': 1.4841474294662476}\n"
     ]
    },
    {
     "name": "stderr",
     "output_type": "stream",
     "text": [
      "EP_train:8:  89%|| 834/938 [00:38<00:04, 21.62it/s]"
     ]
    },
    {
     "name": "stdout",
     "output_type": "stream",
     "text": [
      "{'epoch': 8, 'iter': 830, 'avg_loss': 1.5000128857925912, 'avg_acc': 54.55400120336944, 'loss': 1.4353464841842651}\n"
     ]
    },
    {
     "name": "stderr",
     "output_type": "stream",
     "text": [
      "EP_train:8:  90%|| 843/938 [00:39<00:04, 21.91it/s]"
     ]
    },
    {
     "name": "stdout",
     "output_type": "stream",
     "text": [
      "{'epoch': 8, 'iter': 840, 'avg_loss': 1.5004954937663855, 'avg_acc': 54.566736028537456, 'loss': 1.3192514181137085}\n"
     ]
    },
    {
     "name": "stderr",
     "output_type": "stream",
     "text": [
      "EP_train:8:  91%|| 854/938 [00:39<00:04, 19.39it/s]"
     ]
    },
    {
     "name": "stdout",
     "output_type": "stream",
     "text": [
      "{'epoch': 8, 'iter': 850, 'avg_loss': 1.5003642279448997, 'avg_acc': 54.612220916568745, 'loss': 1.4147601127624512}\n"
     ]
    },
    {
     "name": "stderr",
     "output_type": "stream",
     "text": [
      "EP_train:8:  92%|| 863/938 [00:40<00:03, 20.63it/s]"
     ]
    },
    {
     "name": "stdout",
     "output_type": "stream",
     "text": [
      "{'epoch': 8, 'iter': 860, 'avg_loss': 1.499962676139105, 'avg_acc': 54.58405923344948, 'loss': 1.504831075668335}\n"
     ]
    },
    {
     "name": "stderr",
     "output_type": "stream",
     "text": [
      "EP_train:8:  93%|| 875/938 [00:40<00:02, 21.26it/s]"
     ]
    },
    {
     "name": "stdout",
     "output_type": "stream",
     "text": [
      "{'epoch': 8, 'iter': 870, 'avg_loss': 1.499463156635534, 'avg_acc': 54.567307692307686, 'loss': 1.4453357458114624}\n"
     ]
    },
    {
     "name": "stderr",
     "output_type": "stream",
     "text": [
      "EP_train:8:  94%|| 884/938 [00:41<00:02, 21.21it/s]"
     ]
    },
    {
     "name": "stdout",
     "output_type": "stream",
     "text": [
      "{'epoch': 8, 'iter': 880, 'avg_loss': 1.4983909514380638, 'avg_acc': 54.52965380249716, 'loss': 1.193398356437683}\n"
     ]
    },
    {
     "name": "stderr",
     "output_type": "stream",
     "text": [
      "EP_train:8:  95%|| 893/938 [00:41<00:02, 21.26it/s]"
     ]
    },
    {
     "name": "stdout",
     "output_type": "stream",
     "text": [
      "{'epoch': 8, 'iter': 890, 'avg_loss': 1.4987780962193722, 'avg_acc': 54.5770202020202, 'loss': 1.5872160196304321}\n"
     ]
    },
    {
     "name": "stderr",
     "output_type": "stream",
     "text": [
      "EP_train:8:  96%|| 903/938 [00:42<00:02, 16.79it/s]"
     ]
    },
    {
     "name": "stdout",
     "output_type": "stream",
     "text": [
      "{'epoch': 8, 'iter': 900, 'avg_loss': 1.50014652343225, 'avg_acc': 54.57824639289678, 'loss': 1.7458173036575317}\n"
     ]
    },
    {
     "name": "stderr",
     "output_type": "stream",
     "text": [
      "EP_train:8:  97%|| 914/938 [00:42<00:01, 19.20it/s]"
     ]
    },
    {
     "name": "stdout",
     "output_type": "stream",
     "text": [
      "{'epoch': 8, 'iter': 910, 'avg_loss': 1.5000864400821774, 'avg_acc': 54.55543358946213, 'loss': 1.7097463607788086}\n"
     ]
    },
    {
     "name": "stderr",
     "output_type": "stream",
     "text": [
      "EP_train:8:  98%|| 923/938 [00:43<00:00, 20.48it/s]"
     ]
    },
    {
     "name": "stdout",
     "output_type": "stream",
     "text": [
      "{'epoch': 8, 'iter': 920, 'avg_loss': 1.4991268377738978, 'avg_acc': 54.54329533116178, 'loss': 1.4913212060928345}\n"
     ]
    },
    {
     "name": "stderr",
     "output_type": "stream",
     "text": [
      "EP_train:8: 100%|| 935/938 [00:43<00:00, 21.11it/s]"
     ]
    },
    {
     "name": "stdout",
     "output_type": "stream",
     "text": [
      "{'epoch': 8, 'iter': 930, 'avg_loss': 1.4980418066205066, 'avg_acc': 54.544844253490865, 'loss': 1.2968829870224}\n"
     ]
    },
    {
     "name": "stderr",
     "output_type": "stream",
     "text": [
      "EP_train:8: 100%|| 938/938 [00:44<00:00, 21.32it/s]\n"
     ]
    },
    {
     "name": "stdout",
     "output_type": "stream",
     "text": [
      "EP8, train:             avg_loss=1.4983568873995148,             total_acc=54.57485828609536\n"
     ]
    },
    {
     "name": "stderr",
     "output_type": "stream",
     "text": [
      "EP_train:9:   0%|| 2/938 [00:00<00:47, 19.57it/s]"
     ]
    },
    {
     "name": "stdout",
     "output_type": "stream",
     "text": [
      "{'epoch': 9, 'iter': 0, 'avg_loss': 1.5284178256988525, 'avg_acc': 40.625, 'loss': 1.5284178256988525}\n"
     ]
    },
    {
     "name": "stderr",
     "output_type": "stream",
     "text": [
      "EP_train:9:   2%|| 15/938 [00:00<00:53, 17.39it/s]"
     ]
    },
    {
     "name": "stdout",
     "output_type": "stream",
     "text": [
      "{'epoch': 9, 'iter': 10, 'avg_loss': 1.486115488139066, 'avg_acc': 51.70454545454546, 'loss': 1.644087791442871}\n"
     ]
    },
    {
     "name": "stderr",
     "output_type": "stream",
     "text": [
      "EP_train:9:   2%|| 23/938 [00:01<00:47, 19.45it/s]"
     ]
    },
    {
     "name": "stdout",
     "output_type": "stream",
     "text": [
      "{'epoch': 9, 'iter': 20, 'avg_loss': 1.519058312688555, 'avg_acc': 53.273809523809526, 'loss': 1.6541908979415894}\n"
     ]
    },
    {
     "name": "stderr",
     "output_type": "stream",
     "text": [
      "EP_train:9:   3%|| 32/938 [00:01<00:45, 20.03it/s]"
     ]
    },
    {
     "name": "stdout",
     "output_type": "stream",
     "text": [
      "{'epoch': 9, 'iter': 30, 'avg_loss': 1.488397409839015, 'avg_acc': 53.42741935483871, 'loss': 1.4691115617752075}\n"
     ]
    },
    {
     "name": "stderr",
     "output_type": "stream",
     "text": [
      "EP_train:9:   5%|| 43/938 [00:02<00:48, 18.50it/s]"
     ]
    },
    {
     "name": "stdout",
     "output_type": "stream",
     "text": [
      "{'epoch': 9, 'iter': 40, 'avg_loss': 1.4862960344407616, 'avg_acc': 54.954268292682926, 'loss': 1.5164629220962524}\n"
     ]
    },
    {
     "name": "stderr",
     "output_type": "stream",
     "text": [
      "EP_train:9:   6%|| 53/938 [00:02<00:49, 18.05it/s]"
     ]
    },
    {
     "name": "stdout",
     "output_type": "stream",
     "text": [
      "{'epoch': 9, 'iter': 50, 'avg_loss': 1.493396981089723, 'avg_acc': 54.84068627450981, 'loss': 1.4090584516525269}\n"
     ]
    },
    {
     "name": "stderr",
     "output_type": "stream",
     "text": [
      "EP_train:9:   7%|| 63/938 [00:03<00:47, 18.61it/s]"
     ]
    },
    {
     "name": "stdout",
     "output_type": "stream",
     "text": [
      "{'epoch': 9, 'iter': 60, 'avg_loss': 1.5021797887614516, 'avg_acc': 54.91803278688525, 'loss': 1.5387238264083862}\n"
     ]
    },
    {
     "name": "stderr",
     "output_type": "stream",
     "text": [
      "EP_train:9:   8%|| 72/938 [00:03<00:44, 19.48it/s]"
     ]
    },
    {
     "name": "stdout",
     "output_type": "stream",
     "text": [
      "{'epoch': 9, 'iter': 70, 'avg_loss': 1.4975803653958817, 'avg_acc': 55.06161971830986, 'loss': 1.5080760717391968}\n"
     ]
    },
    {
     "name": "stderr",
     "output_type": "stream",
     "text": [
      "EP_train:9:   9%|| 84/938 [00:04<00:46, 18.35it/s]"
     ]
    },
    {
     "name": "stdout",
     "output_type": "stream",
     "text": [
      "{'epoch': 9, 'iter': 80, 'avg_loss': 1.501276460694678, 'avg_acc': 55.70987654320988, 'loss': 1.4223822355270386}\n"
     ]
    },
    {
     "name": "stderr",
     "output_type": "stream",
     "text": [
      "EP_train:9:  10%|| 92/938 [00:05<00:42, 19.87it/s]"
     ]
    },
    {
     "name": "stdout",
     "output_type": "stream",
     "text": [
      "{'epoch': 9, 'iter': 90, 'avg_loss': 1.5072991808692178, 'avg_acc': 55.97527472527473, 'loss': 1.5761202573776245}\n"
     ]
    },
    {
     "name": "stderr",
     "output_type": "stream",
     "text": [
      "EP_train:9:  11%|| 104/938 [00:05<00:40, 20.70it/s]"
     ]
    },
    {
     "name": "stdout",
     "output_type": "stream",
     "text": [
      "{'epoch': 9, 'iter': 100, 'avg_loss': 1.5074419609390863, 'avg_acc': 55.53836633663366, 'loss': 1.499752402305603}\n"
     ]
    },
    {
     "name": "stderr",
     "output_type": "stream",
     "text": [
      "EP_train:9:  12%|| 113/938 [00:06<00:38, 21.39it/s]"
     ]
    },
    {
     "name": "stdout",
     "output_type": "stream",
     "text": [
      "{'epoch': 9, 'iter': 110, 'avg_loss': 1.5108105266416394, 'avg_acc': 55.29279279279279, 'loss': 1.3220877647399902}\n"
     ]
    },
    {
     "name": "stderr",
     "output_type": "stream",
     "text": [
      "EP_train:9:  13%|| 125/938 [00:06<00:38, 21.30it/s]"
     ]
    },
    {
     "name": "stdout",
     "output_type": "stream",
     "text": [
      "{'epoch': 9, 'iter': 120, 'avg_loss': 1.5122483663322512, 'avg_acc': 55.268595041322314, 'loss': 1.5289967060089111}\n"
     ]
    },
    {
     "name": "stderr",
     "output_type": "stream",
     "text": [
      "EP_train:9:  14%|| 134/938 [00:07<00:39, 20.18it/s]"
     ]
    },
    {
     "name": "stdout",
     "output_type": "stream",
     "text": [
      "{'epoch': 9, 'iter': 130, 'avg_loss': 1.5123401889364227, 'avg_acc': 55.17652671755725, 'loss': 1.411234974861145}\n"
     ]
    },
    {
     "name": "stderr",
     "output_type": "stream",
     "text": [
      "EP_train:9:  15%|| 142/938 [00:07<00:48, 16.27it/s]"
     ]
    },
    {
     "name": "stdout",
     "output_type": "stream",
     "text": [
      "{'epoch': 9, 'iter': 140, 'avg_loss': 1.5145640711412363, 'avg_acc': 55.11968085106383, 'loss': 1.7058600187301636}\n"
     ]
    },
    {
     "name": "stderr",
     "output_type": "stream",
     "text": [
      "EP_train:9:  16%|| 154/938 [00:08<00:39, 19.74it/s]"
     ]
    },
    {
     "name": "stdout",
     "output_type": "stream",
     "text": [
      "{'epoch': 9, 'iter': 150, 'avg_loss': 1.5087895369687616, 'avg_acc': 55.19453642384106, 'loss': 1.292583703994751}\n"
     ]
    },
    {
     "name": "stderr",
     "output_type": "stream",
     "text": [
      "EP_train:9:  17%|| 163/938 [00:08<00:38, 20.00it/s]"
     ]
    },
    {
     "name": "stdout",
     "output_type": "stream",
     "text": [
      "{'epoch': 9, 'iter': 160, 'avg_loss': 1.5063169209853462, 'avg_acc': 54.98835403726709, 'loss': 1.4189039468765259}\n"
     ]
    },
    {
     "name": "stderr",
     "output_type": "stream",
     "text": [
      "EP_train:9:  18%|| 172/938 [00:09<00:41, 18.56it/s]"
     ]
    },
    {
     "name": "stdout",
     "output_type": "stream",
     "text": [
      "{'epoch': 9, 'iter': 170, 'avg_loss': 1.5074053417172348, 'avg_acc': 54.73318713450293, 'loss': 1.7535665035247803}\n"
     ]
    },
    {
     "name": "stderr",
     "output_type": "stream",
     "text": [
      "EP_train:9:  20%|| 183/938 [00:09<00:39, 18.99it/s]"
     ]
    },
    {
     "name": "stdout",
     "output_type": "stream",
     "text": [
      "{'epoch': 9, 'iter': 180, 'avg_loss': 1.5087861626187742, 'avg_acc': 54.937845303867405, 'loss': 1.4504903554916382}\n"
     ]
    },
    {
     "name": "stderr",
     "output_type": "stream",
     "text": [
      "EP_train:9:  21%|| 194/938 [00:10<00:36, 20.64it/s]"
     ]
    },
    {
     "name": "stdout",
     "output_type": "stream",
     "text": [
      "{'epoch': 9, 'iter': 190, 'avg_loss': 1.5063027555405781, 'avg_acc': 54.77748691099477, 'loss': 1.4424982070922852}\n"
     ]
    },
    {
     "name": "stderr",
     "output_type": "stream",
     "text": [
      "EP_train:9:  22%|| 203/938 [00:10<00:35, 20.74it/s]"
     ]
    },
    {
     "name": "stdout",
     "output_type": "stream",
     "text": [
      "{'epoch': 9, 'iter': 200, 'avg_loss': 1.5049504189942013, 'avg_acc': 54.81965174129353, 'loss': 1.4959795475006104}\n"
     ]
    },
    {
     "name": "stderr",
     "output_type": "stream",
     "text": [
      "EP_train:9:  23%|| 215/938 [00:11<00:38, 18.94it/s]"
     ]
    },
    {
     "name": "stdout",
     "output_type": "stream",
     "text": [
      "{'epoch': 9, 'iter': 210, 'avg_loss': 1.5032695882128313, 'avg_acc': 54.75414691943128, 'loss': 1.4522373676300049}\n"
     ]
    },
    {
     "name": "stderr",
     "output_type": "stream",
     "text": [
      "EP_train:9:  24%|| 224/938 [00:11<00:35, 20.14it/s]"
     ]
    },
    {
     "name": "stdout",
     "output_type": "stream",
     "text": [
      "{'epoch': 9, 'iter': 220, 'avg_loss': 1.5030107945878042, 'avg_acc': 54.92081447963801, 'loss': 1.2907538414001465}\n"
     ]
    },
    {
     "name": "stderr",
     "output_type": "stream",
     "text": [
      "EP_train:9:  25%|| 233/938 [00:12<00:34, 20.39it/s]"
     ]
    },
    {
     "name": "stdout",
     "output_type": "stream",
     "text": [
      "{'epoch': 9, 'iter': 230, 'avg_loss': 1.501061836362401, 'avg_acc': 54.88365800865801, 'loss': 1.3018460273742676}\n"
     ]
    },
    {
     "name": "stderr",
     "output_type": "stream",
     "text": [
      "EP_train:9:  26%|| 245/938 [00:12<00:33, 20.90it/s]"
     ]
    },
    {
     "name": "stdout",
     "output_type": "stream",
     "text": [
      "{'epoch': 9, 'iter': 240, 'avg_loss': 1.5035364152979553, 'avg_acc': 54.7588174273859, 'loss': 1.641327142715454}\n"
     ]
    },
    {
     "name": "stderr",
     "output_type": "stream",
     "text": [
      "EP_train:9:  27%|| 254/938 [00:13<00:32, 20.86it/s]"
     ]
    },
    {
     "name": "stdout",
     "output_type": "stream",
     "text": [
      "{'epoch': 9, 'iter': 250, 'avg_loss': 1.5009967326168046, 'avg_acc': 54.71862549800797, 'loss': 1.499922513961792}\n"
     ]
    },
    {
     "name": "stderr",
     "output_type": "stream",
     "text": [
      "EP_train:9:  28%|| 263/938 [00:13<00:31, 21.12it/s]"
     ]
    },
    {
     "name": "stdout",
     "output_type": "stream",
     "text": [
      "{'epoch': 9, 'iter': 260, 'avg_loss': 1.5011764276073354, 'avg_acc': 54.54980842911878, 'loss': 1.6244111061096191}\n"
     ]
    },
    {
     "name": "stderr",
     "output_type": "stream",
     "text": [
      "EP_train:9:  29%|| 273/938 [00:14<00:38, 17.16it/s]"
     ]
    },
    {
     "name": "stdout",
     "output_type": "stream",
     "text": [
      "{'epoch': 9, 'iter': 270, 'avg_loss': 1.501065816826486, 'avg_acc': 54.71632841328413, 'loss': 1.4601285457611084}\n"
     ]
    },
    {
     "name": "stderr",
     "output_type": "stream",
     "text": [
      "EP_train:9:  30%|| 285/938 [00:14<00:32, 20.31it/s]"
     ]
    },
    {
     "name": "stdout",
     "output_type": "stream",
     "text": [
      "{'epoch': 9, 'iter': 280, 'avg_loss': 1.5016633463075577, 'avg_acc': 54.64857651245551, 'loss': 1.5700584650039673}\n"
     ]
    },
    {
     "name": "stderr",
     "output_type": "stream",
     "text": [
      "EP_train:9:  31%|| 294/938 [00:15<00:31, 20.60it/s]"
     ]
    },
    {
     "name": "stdout",
     "output_type": "stream",
     "text": [
      "{'epoch': 9, 'iter': 290, 'avg_loss': 1.5026290097187476, 'avg_acc': 54.64991408934707, 'loss': 1.7908653020858765}\n"
     ]
    },
    {
     "name": "stderr",
     "output_type": "stream",
     "text": [
      "EP_train:9:  32%|| 303/938 [00:15<00:31, 20.38it/s]"
     ]
    },
    {
     "name": "stdout",
     "output_type": "stream",
     "text": [
      "{'epoch': 9, 'iter': 300, 'avg_loss': 1.5018641406119464, 'avg_acc': 54.59925249169435, 'loss': 1.295638918876648}\n"
     ]
    },
    {
     "name": "stderr",
     "output_type": "stream",
     "text": [
      "EP_train:9:  34%|| 315/938 [00:16<00:29, 21.02it/s]"
     ]
    },
    {
     "name": "stdout",
     "output_type": "stream",
     "text": [
      "{'epoch': 9, 'iter': 310, 'avg_loss': 1.500504817226692, 'avg_acc': 54.541800643086816, 'loss': 1.5535027980804443}\n"
     ]
    },
    {
     "name": "stderr",
     "output_type": "stream",
     "text": [
      "EP_train:9:  35%|| 324/938 [00:16<00:30, 20.27it/s]"
     ]
    },
    {
     "name": "stdout",
     "output_type": "stream",
     "text": [
      "{'epoch': 9, 'iter': 320, 'avg_loss': 1.4995350674305379, 'avg_acc': 54.565809968847354, 'loss': 1.6658542156219482}\n"
     ]
    },
    {
     "name": "stderr",
     "output_type": "stream",
     "text": [
      "EP_train:9:  36%|| 334/938 [00:17<00:33, 18.05it/s]"
     ]
    },
    {
     "name": "stdout",
     "output_type": "stream",
     "text": [
      "{'epoch': 9, 'iter': 330, 'avg_loss': 1.5018394706472529, 'avg_acc': 54.550604229607245, 'loss': 1.583333969116211}\n"
     ]
    },
    {
     "name": "stderr",
     "output_type": "stream",
     "text": [
      "EP_train:9:  37%|| 345/938 [00:17<00:29, 20.14it/s]"
     ]
    },
    {
     "name": "stdout",
     "output_type": "stream",
     "text": [
      "{'epoch': 9, 'iter': 340, 'avg_loss': 1.5023595776376137, 'avg_acc': 54.618768328445746, 'loss': 1.5889774560928345}\n"
     ]
    },
    {
     "name": "stderr",
     "output_type": "stream",
     "text": [
      "EP_train:9:  38%|| 354/938 [00:18<00:28, 20.68it/s]"
     ]
    },
    {
     "name": "stdout",
     "output_type": "stream",
     "text": [
      "{'epoch': 9, 'iter': 350, 'avg_loss': 1.5015887185039682, 'avg_acc': 54.62072649572649, 'loss': 1.8773653507232666}\n"
     ]
    },
    {
     "name": "stderr",
     "output_type": "stream",
     "text": [
      "EP_train:9:  39%|| 363/938 [00:18<00:28, 20.10it/s]"
     ]
    },
    {
     "name": "stdout",
     "output_type": "stream",
     "text": [
      "{'epoch': 9, 'iter': 360, 'avg_loss': 1.5015748838308445, 'avg_acc': 54.536011080332415, 'loss': 1.2928006649017334}\n"
     ]
    },
    {
     "name": "stderr",
     "output_type": "stream",
     "text": [
      "EP_train:9:  40%|| 375/938 [00:19<00:26, 20.86it/s]"
     ]
    },
    {
     "name": "stdout",
     "output_type": "stream",
     "text": [
      "{'epoch': 9, 'iter': 370, 'avg_loss': 1.5011838745235433, 'avg_acc': 54.54009433962265, 'loss': 1.6037343740463257}\n"
     ]
    },
    {
     "name": "stderr",
     "output_type": "stream",
     "text": [
      "EP_train:9:  41%|| 383/938 [00:19<00:35, 15.82it/s]"
     ]
    },
    {
     "name": "stdout",
     "output_type": "stream",
     "text": [
      "{'epoch': 9, 'iter': 380, 'avg_loss': 1.5006146565509906, 'avg_acc': 54.48654855643045, 'loss': 1.4469623565673828}\n"
     ]
    },
    {
     "name": "stderr",
     "output_type": "stream",
     "text": [
      "EP_train:9:  42%|| 395/938 [00:20<00:28, 19.07it/s]"
     ]
    },
    {
     "name": "stdout",
     "output_type": "stream",
     "text": [
      "{'epoch': 9, 'iter': 390, 'avg_loss': 1.5010917823942727, 'avg_acc': 54.53964194373402, 'loss': 1.4005646705627441}\n"
     ]
    },
    {
     "name": "stderr",
     "output_type": "stream",
     "text": [
      "EP_train:9:  43%|| 403/938 [00:21<00:26, 19.96it/s]"
     ]
    },
    {
     "name": "stdout",
     "output_type": "stream",
     "text": [
      "{'epoch': 9, 'iter': 400, 'avg_loss': 1.5034402781293874, 'avg_acc': 54.480985037406484, 'loss': 1.5455615520477295}\n"
     ]
    },
    {
     "name": "stderr",
     "output_type": "stream",
     "text": [
      "EP_train:9:  44%|| 415/938 [00:21<00:25, 20.74it/s]"
     ]
    },
    {
     "name": "stdout",
     "output_type": "stream",
     "text": [
      "{'epoch': 9, 'iter': 410, 'avg_loss': 1.503739591642598, 'avg_acc': 54.51642335766424, 'loss': 1.5243397951126099}\n"
     ]
    },
    {
     "name": "stderr",
     "output_type": "stream",
     "text": [
      "EP_train:9:  45%|| 424/938 [00:22<00:24, 21.07it/s]"
     ]
    },
    {
     "name": "stdout",
     "output_type": "stream",
     "text": [
      "{'epoch': 9, 'iter': 420, 'avg_loss': 1.50332405901295, 'avg_acc': 54.55760095011877, 'loss': 1.3145958185195923}\n"
     ]
    },
    {
     "name": "stderr",
     "output_type": "stream",
     "text": [
      "EP_train:9:  46%|| 433/938 [00:22<00:24, 21.03it/s]"
     ]
    },
    {
     "name": "stdout",
     "output_type": "stream",
     "text": [
      "{'epoch': 9, 'iter': 430, 'avg_loss': 1.5024202655473606, 'avg_acc': 54.51711136890951, 'loss': 1.4596766233444214}\n"
     ]
    },
    {
     "name": "stderr",
     "output_type": "stream",
     "text": [
      "EP_train:9:  47%|| 445/938 [00:23<00:26, 18.55it/s]"
     ]
    },
    {
     "name": "stdout",
     "output_type": "stream",
     "text": [
      "{'epoch': 9, 'iter': 440, 'avg_loss': 1.501792438987161, 'avg_acc': 54.5422335600907, 'loss': 1.426238775253296}\n"
     ]
    },
    {
     "name": "stderr",
     "output_type": "stream",
     "text": [
      "EP_train:9:  48%|| 453/938 [00:23<00:23, 20.25it/s]"
     ]
    },
    {
     "name": "stdout",
     "output_type": "stream",
     "text": [
      "{'epoch': 9, 'iter': 450, 'avg_loss': 1.501919275641177, 'avg_acc': 54.56624168514412, 'loss': 1.6948078870773315}\n"
     ]
    },
    {
     "name": "stderr",
     "output_type": "stream",
     "text": [
      "EP_train:9:  50%|| 465/938 [00:24<00:23, 20.15it/s]"
     ]
    },
    {
     "name": "stdout",
     "output_type": "stream",
     "text": [
      "{'epoch': 9, 'iter': 460, 'avg_loss': 1.5028018165307035, 'avg_acc': 54.6569956616052, 'loss': 1.657883644104004}\n"
     ]
    },
    {
     "name": "stderr",
     "output_type": "stream",
     "text": [
      "EP_train:9:  51%|| 474/938 [00:24<00:22, 20.46it/s]"
     ]
    },
    {
     "name": "stdout",
     "output_type": "stream",
     "text": [
      "{'epoch': 9, 'iter': 470, 'avg_loss': 1.5036052379385427, 'avg_acc': 54.63773885350318, 'loss': 1.4559977054595947}\n"
     ]
    },
    {
     "name": "stderr",
     "output_type": "stream",
     "text": [
      "EP_train:9:  51%|| 483/938 [00:25<00:22, 20.51it/s]"
     ]
    },
    {
     "name": "stdout",
     "output_type": "stream",
     "text": [
      "{'epoch': 9, 'iter': 480, 'avg_loss': 1.5030305886219049, 'avg_acc': 54.684251559251564, 'loss': 1.4704221487045288}\n"
     ]
    },
    {
     "name": "stderr",
     "output_type": "stream",
     "text": [
      "EP_train:9:  53%|| 493/938 [00:25<00:25, 17.54it/s]"
     ]
    },
    {
     "name": "stdout",
     "output_type": "stream",
     "text": [
      "{'epoch': 9, 'iter': 490, 'avg_loss': 1.5024575109151619, 'avg_acc': 54.741598778004075, 'loss': 1.4194552898406982}\n"
     ]
    },
    {
     "name": "stderr",
     "output_type": "stream",
     "text": [
      "EP_train:9:  54%|| 504/938 [00:26<00:21, 20.31it/s]"
     ]
    },
    {
     "name": "stdout",
     "output_type": "stream",
     "text": [
      "{'epoch': 9, 'iter': 500, 'avg_loss': 1.502836360426958, 'avg_acc': 54.72804391217565, 'loss': 1.4724706411361694}\n"
     ]
    },
    {
     "name": "stderr",
     "output_type": "stream",
     "text": [
      "EP_train:9:  55%|| 513/938 [00:26<00:20, 20.39it/s]"
     ]
    },
    {
     "name": "stdout",
     "output_type": "stream",
     "text": [
      "{'epoch': 9, 'iter': 510, 'avg_loss': 1.503689174082881, 'avg_acc': 54.65998043052838, 'loss': 1.421357274055481}\n"
     ]
    },
    {
     "name": "stderr",
     "output_type": "stream",
     "text": [
      "EP_train:9:  56%|| 525/938 [00:27<00:19, 21.11it/s]"
     ]
    },
    {
     "name": "stdout",
     "output_type": "stream",
     "text": [
      "{'epoch': 9, 'iter': 520, 'avg_loss': 1.5035617900672664, 'avg_acc': 54.72648752399232, 'loss': 1.5171762704849243}\n"
     ]
    },
    {
     "name": "stderr",
     "output_type": "stream",
     "text": [
      "EP_train:9:  57%|| 534/938 [00:27<00:18, 21.32it/s]"
     ]
    },
    {
     "name": "stdout",
     "output_type": "stream",
     "text": [
      "{'epoch': 9, 'iter': 530, 'avg_loss': 1.5041668637324188, 'avg_acc': 54.69044256120527, 'loss': 1.7717676162719727}\n"
     ]
    },
    {
     "name": "stderr",
     "output_type": "stream",
     "text": [
      "EP_train:9:  58%|| 543/938 [00:28<00:18, 21.13it/s]"
     ]
    },
    {
     "name": "stdout",
     "output_type": "stream",
     "text": [
      "{'epoch': 9, 'iter': 540, 'avg_loss': 1.5021591428908314, 'avg_acc': 54.67305914972273, 'loss': 1.3392457962036133}\n"
     ]
    },
    {
     "name": "stderr",
     "output_type": "stream",
     "text": [
      "EP_train:9:  59%|| 553/938 [00:28<00:22, 17.42it/s]"
     ]
    },
    {
     "name": "stdout",
     "output_type": "stream",
     "text": [
      "{'epoch': 9, 'iter': 550, 'avg_loss': 1.5016858562583715, 'avg_acc': 54.71869328493648, 'loss': 1.2537230253219604}\n"
     ]
    },
    {
     "name": "stderr",
     "output_type": "stream",
     "text": [
      "EP_train:9:  60%|| 564/938 [00:29<00:18, 19.79it/s]"
     ]
    },
    {
     "name": "stdout",
     "output_type": "stream",
     "text": [
      "{'epoch': 9, 'iter': 560, 'avg_loss': 1.5038728431371868, 'avg_acc': 54.662433155080215, 'loss': 1.6574007272720337}\n"
     ]
    },
    {
     "name": "stderr",
     "output_type": "stream",
     "text": [
      "EP_train:9:  61%|| 573/938 [00:29<00:18, 20.16it/s]"
     ]
    },
    {
     "name": "stdout",
     "output_type": "stream",
     "text": [
      "{'epoch': 9, 'iter': 570, 'avg_loss': 1.5044252436131813, 'avg_acc': 54.71212784588442, 'loss': 1.7013771533966064}\n"
     ]
    },
    {
     "name": "stderr",
     "output_type": "stream",
     "text": [
      "EP_train:9:  62%|| 585/938 [00:30<00:17, 20.48it/s]"
     ]
    },
    {
     "name": "stdout",
     "output_type": "stream",
     "text": [
      "{'epoch': 9, 'iter': 580, 'avg_loss': 1.5041807836591685, 'avg_acc': 54.73321858864028, 'loss': 1.5844672918319702}\n"
     ]
    },
    {
     "name": "stderr",
     "output_type": "stream",
     "text": [
      "EP_train:9:  63%|| 594/938 [00:30<00:17, 19.83it/s]"
     ]
    },
    {
     "name": "stdout",
     "output_type": "stream",
     "text": [
      "{'epoch': 9, 'iter': 590, 'avg_loss': 1.50434784780299, 'avg_acc': 54.711294416243646, 'loss': 1.3217238187789917}\n"
     ]
    },
    {
     "name": "stderr",
     "output_type": "stream",
     "text": [
      "EP_train:9:  64%|| 602/938 [00:31<00:17, 18.89it/s]"
     ]
    },
    {
     "name": "stdout",
     "output_type": "stream",
     "text": [
      "{'epoch': 9, 'iter': 600, 'avg_loss': 1.505108201563259, 'avg_acc': 54.70569883527454, 'loss': 1.7221091985702515}\n"
     ]
    },
    {
     "name": "stderr",
     "output_type": "stream",
     "text": [
      "EP_train:9:  65%|| 614/938 [00:31<00:17, 18.70it/s]"
     ]
    },
    {
     "name": "stdout",
     "output_type": "stream",
     "text": [
      "{'epoch': 9, 'iter': 610, 'avg_loss': 1.5039349226631626, 'avg_acc': 54.67982815057283, 'loss': 1.4413303136825562}\n"
     ]
    },
    {
     "name": "stderr",
     "output_type": "stream",
     "text": [
      "EP_train:9:  67%|| 624/938 [00:32<00:15, 20.21it/s]"
     ]
    },
    {
     "name": "stdout",
     "output_type": "stream",
     "text": [
      "{'epoch': 9, 'iter': 620, 'avg_loss': 1.5027259127529347, 'avg_acc': 54.70008051529791, 'loss': 1.554955005645752}\n"
     ]
    },
    {
     "name": "stderr",
     "output_type": "stream",
     "text": [
      "EP_train:9:  67%|| 633/938 [00:32<00:14, 20.69it/s]"
     ]
    },
    {
     "name": "stdout",
     "output_type": "stream",
     "text": [
      "{'epoch': 9, 'iter': 630, 'avg_loss': 1.5041415237964806, 'avg_acc': 54.65530903328051, 'loss': 1.6419332027435303}\n"
     ]
    },
    {
     "name": "stderr",
     "output_type": "stream",
     "text": [
      "EP_train:9:  69%|| 645/938 [00:33<00:14, 20.88it/s]"
     ]
    },
    {
     "name": "stdout",
     "output_type": "stream",
     "text": [
      "{'epoch': 9, 'iter': 640, 'avg_loss': 1.5047378525161148, 'avg_acc': 54.6655616224649, 'loss': 1.5791658163070679}\n"
     ]
    },
    {
     "name": "stderr",
     "output_type": "stream",
     "text": [
      "EP_train:9:  70%|| 654/938 [00:33<00:13, 20.47it/s]"
     ]
    },
    {
     "name": "stdout",
     "output_type": "stream",
     "text": [
      "{'epoch': 9, 'iter': 650, 'avg_loss': 1.504889655589325, 'avg_acc': 54.64189708141321, 'loss': 1.4026598930358887}\n"
     ]
    },
    {
     "name": "stderr",
     "output_type": "stream",
     "text": [
      "EP_train:9:  71%|| 664/938 [00:34<00:16, 16.63it/s]"
     ]
    },
    {
     "name": "stdout",
     "output_type": "stream",
     "text": [
      "{'epoch': 9, 'iter': 660, 'avg_loss': 1.5055253458816598, 'avg_acc': 54.566944024205746, 'loss': 1.608244776725769}\n"
     ]
    },
    {
     "name": "stderr",
     "output_type": "stream",
     "text": [
      "EP_train:9:  72%|| 675/938 [00:35<00:13, 19.23it/s]"
     ]
    },
    {
     "name": "stdout",
     "output_type": "stream",
     "text": [
      "{'epoch': 9, 'iter': 670, 'avg_loss': 1.5040550896378815, 'avg_acc': 54.554769001490314, 'loss': 1.5693823099136353}\n"
     ]
    },
    {
     "name": "stderr",
     "output_type": "stream",
     "text": [
      "EP_train:9:  73%|| 684/938 [00:35<00:13, 19.46it/s]"
     ]
    },
    {
     "name": "stdout",
     "output_type": "stream",
     "text": [
      "{'epoch': 9, 'iter': 680, 'avg_loss': 1.5040170509209543, 'avg_acc': 54.52459618208517, 'loss': 1.6266344785690308}\n"
     ]
    },
    {
     "name": "stderr",
     "output_type": "stream",
     "text": [
      "EP_train:9:  74%|| 694/938 [00:36<00:12, 19.80it/s]"
     ]
    },
    {
     "name": "stdout",
     "output_type": "stream",
     "text": [
      "{'epoch': 9, 'iter': 690, 'avg_loss': 1.504437025135057, 'avg_acc': 54.517908827785824, 'loss': 1.5136739015579224}\n"
     ]
    },
    {
     "name": "stderr",
     "output_type": "stream",
     "text": [
      "EP_train:9:  75%|| 704/938 [00:36<00:12, 19.02it/s]"
     ]
    },
    {
     "name": "stdout",
     "output_type": "stream",
     "text": [
      "{'epoch': 9, 'iter': 700, 'avg_loss': 1.5037409475288446, 'avg_acc': 54.56936519258203, 'loss': 1.4680078029632568}\n"
     ]
    },
    {
     "name": "stderr",
     "output_type": "stream",
     "text": [
      "EP_train:9:  76%|| 714/938 [00:37<00:14, 15.80it/s]"
     ]
    },
    {
     "name": "stdout",
     "output_type": "stream",
     "text": [
      "{'epoch': 9, 'iter': 710, 'avg_loss': 1.503110670339206, 'avg_acc': 54.57102672292545, 'loss': 1.574353814125061}\n"
     ]
    },
    {
     "name": "stderr",
     "output_type": "stream",
     "text": [
      "EP_train:9:  77%|| 724/938 [00:37<00:10, 19.47it/s]"
     ]
    },
    {
     "name": "stdout",
     "output_type": "stream",
     "text": [
      "{'epoch': 9, 'iter': 720, 'avg_loss': 1.502886614422527, 'avg_acc': 54.598647711511795, 'loss': 1.4417113065719604}\n"
     ]
    },
    {
     "name": "stderr",
     "output_type": "stream",
     "text": [
      "EP_train:9:  78%|| 733/938 [00:38<00:09, 20.85it/s]"
     ]
    },
    {
     "name": "stdout",
     "output_type": "stream",
     "text": [
      "{'epoch': 9, 'iter': 730, 'avg_loss': 1.5020866728350826, 'avg_acc': 54.659712722298224, 'loss': 1.3020766973495483}\n"
     ]
    },
    {
     "name": "stderr",
     "output_type": "stream",
     "text": [
      "EP_train:9:  79%|| 745/938 [00:38<00:09, 21.15it/s]"
     ]
    },
    {
     "name": "stdout",
     "output_type": "stream",
     "text": [
      "{'epoch': 9, 'iter': 740, 'avg_loss': 1.5020239617016955, 'avg_acc': 54.64743589743589, 'loss': 1.4520155191421509}\n"
     ]
    },
    {
     "name": "stderr",
     "output_type": "stream",
     "text": [
      "EP_train:9:  80%|| 754/938 [00:39<00:09, 19.98it/s]"
     ]
    },
    {
     "name": "stdout",
     "output_type": "stream",
     "text": [
      "{'epoch': 9, 'iter': 750, 'avg_loss': 1.5023083107449244, 'avg_acc': 54.64796937416777, 'loss': 1.468657374382019}\n"
     ]
    },
    {
     "name": "stderr",
     "output_type": "stream",
     "text": [
      "EP_train:9:  81%|| 763/938 [00:39<00:11, 14.59it/s]"
     ]
    },
    {
     "name": "stdout",
     "output_type": "stream",
     "text": [
      "{'epoch': 9, 'iter': 760, 'avg_loss': 1.50237871234583, 'avg_acc': 54.62385019710907, 'loss': 1.6963863372802734}\n"
     ]
    },
    {
     "name": "stderr",
     "output_type": "stream",
     "text": [
      "EP_train:9:  82%|| 773/938 [00:40<00:09, 17.26it/s]"
     ]
    },
    {
     "name": "stdout",
     "output_type": "stream",
     "text": [
      "{'epoch': 9, 'iter': 770, 'avg_loss': 1.50233824212882, 'avg_acc': 54.68142023346303, 'loss': 1.6661815643310547}\n"
     ]
    },
    {
     "name": "stderr",
     "output_type": "stream",
     "text": [
      "EP_train:9:  83%|| 783/938 [00:40<00:07, 20.04it/s]"
     ]
    },
    {
     "name": "stdout",
     "output_type": "stream",
     "text": [
      "{'epoch': 9, 'iter': 780, 'avg_loss': 1.5027445678369031, 'avg_acc': 54.697503201024325, 'loss': 1.5202174186706543}\n"
     ]
    },
    {
     "name": "stderr",
     "output_type": "stream",
     "text": [
      "EP_train:9:  85%|| 794/938 [00:41<00:07, 19.45it/s]"
     ]
    },
    {
     "name": "stdout",
     "output_type": "stream",
     "text": [
      "{'epoch': 9, 'iter': 790, 'avg_loss': 1.5031803172698666, 'avg_acc': 54.80404551201011, 'loss': 1.6468528509140015}\n"
     ]
    },
    {
     "name": "stderr",
     "output_type": "stream",
     "text": [
      "EP_train:9:  86%|| 803/938 [00:41<00:07, 19.27it/s]"
     ]
    },
    {
     "name": "stdout",
     "output_type": "stream",
     "text": [
      "{'epoch': 9, 'iter': 800, 'avg_loss': 1.5036550310815913, 'avg_acc': 54.829900124843945, 'loss': 1.3675364255905151}\n"
     ]
    },
    {
     "name": "stderr",
     "output_type": "stream",
     "text": [
      "EP_train:9:  86%|| 810/938 [00:42<00:06, 20.31it/s]"
     ]
    },
    {
     "name": "stdout",
     "output_type": "stream",
     "text": [
      "{'epoch': 9, 'iter': 810, 'avg_loss': 1.503458762727448, 'avg_acc': 54.82043773119606, 'loss': 1.450932502746582}\n"
     ]
    },
    {
     "name": "stderr",
     "output_type": "stream",
     "text": [
      "EP_train:9:  88%|| 823/938 [00:42<00:06, 18.99it/s]"
     ]
    },
    {
     "name": "stdout",
     "output_type": "stream",
     "text": [
      "{'epoch': 9, 'iter': 820, 'avg_loss': 1.5029378271277145, 'avg_acc': 54.81501218026796, 'loss': 1.3745965957641602}\n"
     ]
    },
    {
     "name": "stderr",
     "output_type": "stream",
     "text": [
      "EP_train:9:  89%|| 835/938 [00:43<00:05, 20.55it/s]"
     ]
    },
    {
     "name": "stdout",
     "output_type": "stream",
     "text": [
      "{'epoch': 9, 'iter': 830, 'avg_loss': 1.5029871544109212, 'avg_acc': 54.75706979542719, 'loss': 1.538751482963562}\n"
     ]
    },
    {
     "name": "stderr",
     "output_type": "stream",
     "text": [
      "EP_train:9:  90%|| 844/938 [00:43<00:04, 20.55it/s]"
     ]
    },
    {
     "name": "stdout",
     "output_type": "stream",
     "text": [
      "{'epoch': 9, 'iter': 840, 'avg_loss': 1.5020535257285046, 'avg_acc': 54.71908442330559, 'loss': 1.5179481506347656}\n"
     ]
    },
    {
     "name": "stderr",
     "output_type": "stream",
     "text": [
      "EP_train:9:  91%|| 853/938 [00:44<00:04, 20.57it/s]"
     ]
    },
    {
     "name": "stdout",
     "output_type": "stream",
     "text": [
      "{'epoch': 9, 'iter': 850, 'avg_loss': 1.503321757327796, 'avg_acc': 54.73707403055229, 'loss': 1.6709166765213013}\n"
     ]
    },
    {
     "name": "stderr",
     "output_type": "stream",
     "text": [
      "EP_train:9:  92%|| 865/938 [00:44<00:03, 21.51it/s]"
     ]
    },
    {
     "name": "stdout",
     "output_type": "stream",
     "text": [
      "{'epoch': 9, 'iter': 860, 'avg_loss': 1.5031126183776766, 'avg_acc': 54.729239256678284, 'loss': 1.497454285621643}\n"
     ]
    },
    {
     "name": "stderr",
     "output_type": "stream",
     "text": [
      "EP_train:9:  93%|| 875/938 [00:45<00:03, 18.67it/s]"
     ]
    },
    {
     "name": "stdout",
     "output_type": "stream",
     "text": [
      "{'epoch': 9, 'iter': 870, 'avg_loss': 1.5023011843728418, 'avg_acc': 54.72158438576349, 'loss': 1.461800217628479}\n"
     ]
    },
    {
     "name": "stderr",
     "output_type": "stream",
     "text": [
      "EP_train:9:  94%|| 883/938 [00:46<00:02, 20.13it/s]"
     ]
    },
    {
     "name": "stdout",
     "output_type": "stream",
     "text": [
      "{'epoch': 9, 'iter': 880, 'avg_loss': 1.5025147255108386, 'avg_acc': 54.74248013620885, 'loss': 1.5393790006637573}\n"
     ]
    },
    {
     "name": "stderr",
     "output_type": "stream",
     "text": [
      "EP_train:9:  95%|| 895/938 [00:46<00:02, 20.26it/s]"
     ]
    },
    {
     "name": "stdout",
     "output_type": "stream",
     "text": [
      "{'epoch': 9, 'iter': 890, 'avg_loss': 1.5023016213835556, 'avg_acc': 54.69626823793491, 'loss': 1.2850255966186523}\n"
     ]
    },
    {
     "name": "stderr",
     "output_type": "stream",
     "text": [
      "EP_train:9:  96%|| 904/938 [00:47<00:01, 20.77it/s]"
     ]
    },
    {
     "name": "stdout",
     "output_type": "stream",
     "text": [
      "{'epoch': 9, 'iter': 900, 'avg_loss': 1.5017268041130176, 'avg_acc': 54.647613762486124, 'loss': 1.3895049095153809}\n"
     ]
    },
    {
     "name": "stderr",
     "output_type": "stream",
     "text": [
      "EP_train:9:  97%|| 913/938 [00:47<00:01, 19.47it/s]"
     ]
    },
    {
     "name": "stdout",
     "output_type": "stream",
     "text": [
      "{'epoch': 9, 'iter': 910, 'avg_loss': 1.5016987463776288, 'avg_acc': 54.65491218441273, 'loss': 1.3289501667022705}\n"
     ]
    },
    {
     "name": "stderr",
     "output_type": "stream",
     "text": [
      "EP_train:9:  98%|| 923/938 [00:48<00:00, 15.58it/s]"
     ]
    },
    {
     "name": "stdout",
     "output_type": "stream",
     "text": [
      "{'epoch': 9, 'iter': 920, 'avg_loss': 1.501068903361806, 'avg_acc': 54.628121606948966, 'loss': 1.4284557104110718}\n"
     ]
    },
    {
     "name": "stderr",
     "output_type": "stream",
     "text": [
      "EP_train:9: 100%|| 934/938 [00:48<00:00, 19.79it/s]"
     ]
    },
    {
     "name": "stdout",
     "output_type": "stream",
     "text": [
      "{'epoch': 9, 'iter': 930, 'avg_loss': 1.5019226122875602, 'avg_acc': 54.59183673469388, 'loss': 1.7566540241241455}\n"
     ]
    },
    {
     "name": "stderr",
     "output_type": "stream",
     "text": [
      "EP_train:9: 100%|| 938/938 [00:48<00:00, 19.19it/s]\n"
     ]
    },
    {
     "name": "stdout",
     "output_type": "stream",
     "text": [
      "EP9, train:             avg_loss=1.5017764209938456,             total_acc=54.57485828609536\n"
     ]
    },
    {
     "name": "stderr",
     "output_type": "stream",
     "text": [
      "EP_train:10:   0%|| 2/938 [00:00<00:50, 18.55it/s]"
     ]
    },
    {
     "name": "stdout",
     "output_type": "stream",
     "text": [
      "{'epoch': 10, 'iter': 0, 'avg_loss': 1.6263641119003296, 'avg_acc': 59.375, 'loss': 1.6263641119003296}\n"
     ]
    },
    {
     "name": "stderr",
     "output_type": "stream",
     "text": [
      "EP_train:10:   1%|| 13/938 [00:00<00:44, 20.75it/s]"
     ]
    },
    {
     "name": "stdout",
     "output_type": "stream",
     "text": [
      "{'epoch': 10, 'iter': 10, 'avg_loss': 1.5321462479504673, 'avg_acc': 53.40909090909091, 'loss': 1.344239592552185}\n"
     ]
    },
    {
     "name": "stderr",
     "output_type": "stream",
     "text": [
      "EP_train:10:   3%|| 24/938 [00:01<00:53, 16.95it/s]"
     ]
    },
    {
     "name": "stdout",
     "output_type": "stream",
     "text": [
      "{'epoch': 10, 'iter': 20, 'avg_loss': 1.522184894198463, 'avg_acc': 51.488095238095234, 'loss': 1.4383238554000854}\n"
     ]
    },
    {
     "name": "stderr",
     "output_type": "stream",
     "text": [
      "EP_train:10:   4%|| 34/938 [00:01<00:45, 19.70it/s]"
     ]
    },
    {
     "name": "stdout",
     "output_type": "stream",
     "text": [
      "{'epoch': 10, 'iter': 30, 'avg_loss': 1.4997114904465214, 'avg_acc': 53.42741935483871, 'loss': 1.288081407546997}\n"
     ]
    },
    {
     "name": "stderr",
     "output_type": "stream",
     "text": [
      "EP_train:10:   5%|| 43/938 [00:02<00:42, 21.16it/s]"
     ]
    },
    {
     "name": "stdout",
     "output_type": "stream",
     "text": [
      "{'epoch': 10, 'iter': 40, 'avg_loss': 1.4909322814243595, 'avg_acc': 53.35365853658537, 'loss': 1.4803889989852905}\n"
     ]
    },
    {
     "name": "stderr",
     "output_type": "stream",
     "text": [
      "EP_train:10:   6%|| 52/938 [00:02<00:42, 20.80it/s]"
     ]
    },
    {
     "name": "stdout",
     "output_type": "stream",
     "text": [
      "{'epoch': 10, 'iter': 50, 'avg_loss': 1.4659193415267795, 'avg_acc': 53.30882352941176, 'loss': 1.3174370527267456}\n"
     ]
    },
    {
     "name": "stderr",
     "output_type": "stream",
     "text": [
      "EP_train:10:   7%|| 64/938 [00:03<00:42, 20.38it/s]"
     ]
    },
    {
     "name": "stdout",
     "output_type": "stream",
     "text": [
      "{'epoch': 10, 'iter': 60, 'avg_loss': 1.4580672930498593, 'avg_acc': 53.995901639344254, 'loss': 1.4800089597702026}\n"
     ]
    },
    {
     "name": "stderr",
     "output_type": "stream",
     "text": [
      "EP_train:10:   8%|| 72/938 [00:03<00:54, 15.84it/s]"
     ]
    },
    {
     "name": "stdout",
     "output_type": "stream",
     "text": [
      "{'epoch': 10, 'iter': 70, 'avg_loss': 1.462075413952411, 'avg_acc': 54.04929577464789, 'loss': 1.5448628664016724}\n"
     ]
    },
    {
     "name": "stderr",
     "output_type": "stream",
     "text": [
      "EP_train:10:   9%|| 84/938 [00:04<00:43, 19.50it/s]"
     ]
    },
    {
     "name": "stdout",
     "output_type": "stream",
     "text": [
      "{'epoch': 10, 'iter': 80, 'avg_loss': 1.4746261415658173, 'avg_acc': 54.166666666666664, 'loss': 1.5920565128326416}\n"
     ]
    },
    {
     "name": "stderr",
     "output_type": "stream",
     "text": [
      "EP_train:10:  10%|| 93/938 [00:04<00:40, 21.00it/s]"
     ]
    },
    {
     "name": "stdout",
     "output_type": "stream",
     "text": [
      "{'epoch': 10, 'iter': 90, 'avg_loss': 1.4782744482323364, 'avg_acc': 54.12087912087912, 'loss': 1.55283522605896}\n"
     ]
    },
    {
     "name": "stderr",
     "output_type": "stream",
     "text": [
      "EP_train:10:  11%|| 105/938 [00:05<00:39, 21.30it/s]"
     ]
    },
    {
     "name": "stdout",
     "output_type": "stream",
     "text": [
      "{'epoch': 10, 'iter': 100, 'avg_loss': 1.4822612723501603, 'avg_acc': 54.51732673267327, 'loss': 1.2989420890808105}\n"
     ]
    },
    {
     "name": "stderr",
     "output_type": "stream",
     "text": [
      "EP_train:10:  12%|| 114/938 [00:05<00:38, 21.59it/s]"
     ]
    },
    {
     "name": "stdout",
     "output_type": "stream",
     "text": [
      "{'epoch': 10, 'iter': 110, 'avg_loss': 1.4824519581622906, 'avg_acc': 54.13851351351351, 'loss': 1.3388969898223877}\n"
     ]
    },
    {
     "name": "stderr",
     "output_type": "stream",
     "text": [
      "EP_train:10:  13%|| 123/938 [00:06<00:48, 16.80it/s]"
     ]
    },
    {
     "name": "stdout",
     "output_type": "stream",
     "text": [
      "{'epoch': 10, 'iter': 120, 'avg_loss': 1.4823970238039317, 'avg_acc': 54.23553719008265, 'loss': 1.5365362167358398}\n"
     ]
    },
    {
     "name": "stderr",
     "output_type": "stream",
     "text": [
      "EP_train:10:  14%|| 133/938 [00:06<00:40, 19.69it/s]"
     ]
    },
    {
     "name": "stdout",
     "output_type": "stream",
     "text": [
      "{'epoch': 10, 'iter': 130, 'avg_loss': 1.4873015748635503, 'avg_acc': 54.222328244274806, 'loss': 1.4513272047042847}\n"
     ]
    },
    {
     "name": "stderr",
     "output_type": "stream",
     "text": [
      "EP_train:10:  15%|| 145/938 [00:07<00:37, 21.35it/s]"
     ]
    },
    {
     "name": "stdout",
     "output_type": "stream",
     "text": [
      "{'epoch': 10, 'iter': 140, 'avg_loss': 1.4874534002432587, 'avg_acc': 54.38829787234043, 'loss': 1.5073405504226685}\n"
     ]
    },
    {
     "name": "stderr",
     "output_type": "stream",
     "text": [
      "EP_train:10:  16%|| 154/938 [00:07<00:37, 21.15it/s]"
     ]
    },
    {
     "name": "stdout",
     "output_type": "stream",
     "text": [
      "{'epoch': 10, 'iter': 150, 'avg_loss': 1.4884880674595864, 'avg_acc': 54.38741721854304, 'loss': 1.413658857345581}\n"
     ]
    },
    {
     "name": "stderr",
     "output_type": "stream",
     "text": [
      "EP_train:10:  17%|| 163/938 [00:08<00:36, 21.10it/s]"
     ]
    },
    {
     "name": "stdout",
     "output_type": "stream",
     "text": [
      "{'epoch': 10, 'iter': 160, 'avg_loss': 1.4863101499421256, 'avg_acc': 54.42546583850931, 'loss': 1.4903844594955444}\n"
     ]
    },
    {
     "name": "stderr",
     "output_type": "stream",
     "text": [
      "EP_train:10:  18%|| 173/938 [00:08<00:43, 17.55it/s]"
     ]
    },
    {
     "name": "stdout",
     "output_type": "stream",
     "text": [
      "{'epoch': 10, 'iter': 170, 'avg_loss': 1.4864530267074094, 'avg_acc': 54.751461988304094, 'loss': 1.4654221534729004}\n"
     ]
    },
    {
     "name": "stderr",
     "output_type": "stream",
     "text": [
      "EP_train:10:  20%|| 184/938 [00:09<00:36, 20.46it/s]"
     ]
    },
    {
     "name": "stdout",
     "output_type": "stream",
     "text": [
      "{'epoch': 10, 'iter': 180, 'avg_loss': 1.4870036514424487, 'avg_acc': 54.50621546961326, 'loss': 1.5110063552856445}\n"
     ]
    },
    {
     "name": "stderr",
     "output_type": "stream",
     "text": [
      "EP_train:10:  21%|| 193/938 [00:09<00:35, 21.07it/s]"
     ]
    },
    {
     "name": "stdout",
     "output_type": "stream",
     "text": [
      "{'epoch': 10, 'iter': 190, 'avg_loss': 1.4857503721851328, 'avg_acc': 54.53206806282722, 'loss': 1.3417367935180664}\n"
     ]
    },
    {
     "name": "stderr",
     "output_type": "stream",
     "text": [
      "EP_train:10:  22%|| 205/938 [00:10<00:33, 21.71it/s]"
     ]
    },
    {
     "name": "stdout",
     "output_type": "stream",
     "text": [
      "{'epoch': 10, 'iter': 200, 'avg_loss': 1.4846129384799975, 'avg_acc': 54.539800995024876, 'loss': 1.4424145221710205}\n"
     ]
    },
    {
     "name": "stderr",
     "output_type": "stream",
     "text": [
      "EP_train:10:  23%|| 214/938 [00:10<00:33, 21.70it/s]"
     ]
    },
    {
     "name": "stdout",
     "output_type": "stream",
     "text": [
      "{'epoch': 10, 'iter': 210, 'avg_loss': 1.4872740374357214, 'avg_acc': 54.51718009478673, 'loss': 1.4370111227035522}\n"
     ]
    },
    {
     "name": "stderr",
     "output_type": "stream",
     "text": [
      "EP_train:10:  24%|| 223/938 [00:11<00:43, 16.28it/s]"
     ]
    },
    {
     "name": "stdout",
     "output_type": "stream",
     "text": [
      "{'epoch': 10, 'iter': 220, 'avg_loss': 1.4869067342572622, 'avg_acc': 54.32692307692307, 'loss': 1.6297996044158936}\n"
     ]
    },
    {
     "name": "stderr",
     "output_type": "stream",
     "text": [
      "EP_train:10:  25%|| 234/938 [00:11<00:35, 19.67it/s]"
     ]
    },
    {
     "name": "stdout",
     "output_type": "stream",
     "text": [
      "{'epoch': 10, 'iter': 230, 'avg_loss': 1.4858802404754605, 'avg_acc': 54.22077922077923, 'loss': 1.5444889068603516}\n"
     ]
    },
    {
     "name": "stderr",
     "output_type": "stream",
     "text": [
      "EP_train:10:  26%|| 243/938 [00:12<00:33, 20.84it/s]"
     ]
    },
    {
     "name": "stdout",
     "output_type": "stream",
     "text": [
      "{'epoch': 10, 'iter': 240, 'avg_loss': 1.4868649523782533, 'avg_acc': 54.30497925311203, 'loss': 1.2125210762023926}\n"
     ]
    },
    {
     "name": "stderr",
     "output_type": "stream",
     "text": [
      "EP_train:10:  27%|| 255/938 [00:12<00:31, 21.45it/s]"
     ]
    },
    {
     "name": "stdout",
     "output_type": "stream",
     "text": [
      "{'epoch': 10, 'iter': 250, 'avg_loss': 1.488670385928743, 'avg_acc': 54.34511952191235, 'loss': 1.4493285417556763}\n"
     ]
    },
    {
     "name": "stderr",
     "output_type": "stream",
     "text": [
      "EP_train:10:  28%|| 264/938 [00:13<00:31, 21.38it/s]"
     ]
    },
    {
     "name": "stdout",
     "output_type": "stream",
     "text": [
      "{'epoch': 10, 'iter': 260, 'avg_loss': 1.4897399467069985, 'avg_acc': 54.54980842911878, 'loss': 1.307134985923767}\n"
     ]
    },
    {
     "name": "stderr",
     "output_type": "stream",
     "text": [
      "EP_train:10:  29%|| 270/938 [00:13<00:31, 21.05it/s]"
     ]
    },
    {
     "name": "stdout",
     "output_type": "stream",
     "text": [
      "{'epoch': 10, 'iter': 270, 'avg_loss': 1.4876874392762836, 'avg_acc': 54.55488929889298, 'loss': 1.4694675207138062}\n"
     ]
    },
    {
     "name": "stderr",
     "output_type": "stream",
     "text": [
      "EP_train:10:  30%|| 283/938 [00:14<00:36, 18.10it/s]"
     ]
    },
    {
     "name": "stdout",
     "output_type": "stream",
     "text": [
      "{'epoch': 10, 'iter': 280, 'avg_loss': 1.488491651638547, 'avg_acc': 54.51512455516014, 'loss': 1.5671577453613281}\n"
     ]
    },
    {
     "name": "stderr",
     "output_type": "stream",
     "text": [
      "EP_train:10:  31%|| 295/938 [00:14<00:31, 20.24it/s]"
     ]
    },
    {
     "name": "stdout",
     "output_type": "stream",
     "text": [
      "{'epoch': 10, 'iter': 290, 'avg_loss': 1.4887007497430258, 'avg_acc': 54.41365979381443, 'loss': 1.4843534231185913}\n"
     ]
    },
    {
     "name": "stderr",
     "output_type": "stream",
     "text": [
      "EP_train:10:  32%|| 304/938 [00:15<00:30, 20.62it/s]"
     ]
    },
    {
     "name": "stdout",
     "output_type": "stream",
     "text": [
      "{'epoch': 10, 'iter': 300, 'avg_loss': 1.4888618544882715, 'avg_acc': 54.443521594684384, 'loss': 1.7062662839889526}\n"
     ]
    },
    {
     "name": "stderr",
     "output_type": "stream",
     "text": [
      "EP_train:10:  33%|| 313/938 [00:15<00:30, 20.66it/s]"
     ]
    },
    {
     "name": "stdout",
     "output_type": "stream",
     "text": [
      "{'epoch': 10, 'iter': 310, 'avg_loss': 1.4886239013871196, 'avg_acc': 54.6121382636656, 'loss': 1.4780292510986328}\n"
     ]
    },
    {
     "name": "stderr",
     "output_type": "stream",
     "text": [
      "EP_train:10:  34%|| 322/938 [00:16<00:29, 21.09it/s]"
     ]
    },
    {
     "name": "stdout",
     "output_type": "stream",
     "text": [
      "{'epoch': 10, 'iter': 320, 'avg_loss': 1.4892441463247639, 'avg_acc': 54.63395638629284, 'loss': 1.4182319641113281}\n"
     ]
    },
    {
     "name": "stderr",
     "output_type": "stream",
     "text": [
      "EP_train:10:  36%|| 335/938 [00:16<00:30, 19.77it/s]"
     ]
    },
    {
     "name": "stdout",
     "output_type": "stream",
     "text": [
      "{'epoch': 10, 'iter': 330, 'avg_loss': 1.4904260453500777, 'avg_acc': 54.70166163141994, 'loss': 1.7952642440795898}\n"
     ]
    },
    {
     "name": "stderr",
     "output_type": "stream",
     "text": [
      "EP_train:10:  37%|| 344/938 [00:17<00:28, 20.95it/s]"
     ]
    },
    {
     "name": "stdout",
     "output_type": "stream",
     "text": [
      "{'epoch': 10, 'iter': 340, 'avg_loss': 1.4924085547497545, 'avg_acc': 54.84787390029325, 'loss': 1.5314284563064575}\n"
     ]
    },
    {
     "name": "stderr",
     "output_type": "stream",
     "text": [
      "EP_train:10:  38%|| 353/938 [00:17<00:27, 21.03it/s]"
     ]
    },
    {
     "name": "stdout",
     "output_type": "stream",
     "text": [
      "{'epoch': 10, 'iter': 350, 'avg_loss': 1.4948212959487894, 'avg_acc': 54.88782051282052, 'loss': 1.651109218597412}\n"
     ]
    },
    {
     "name": "stderr",
     "output_type": "stream",
     "text": [
      "EP_train:10:  39%|| 365/938 [00:18<00:26, 21.43it/s]"
     ]
    },
    {
     "name": "stdout",
     "output_type": "stream",
     "text": [
      "{'epoch': 10, 'iter': 360, 'avg_loss': 1.4946778159062288, 'avg_acc': 54.91689750692521, 'loss': 1.4284589290618896}\n"
     ]
    },
    {
     "name": "stderr",
     "output_type": "stream",
     "text": [
      "EP_train:10:  40%|| 373/938 [00:18<00:32, 17.45it/s]"
     ]
    },
    {
     "name": "stdout",
     "output_type": "stream",
     "text": [
      "{'epoch': 10, 'iter': 370, 'avg_loss': 1.495449904000984, 'avg_acc': 54.98652291105122, 'loss': 1.6687787771224976}\n"
     ]
    },
    {
     "name": "stderr",
     "output_type": "stream",
     "text": [
      "EP_train:10:  41%|| 385/938 [00:19<00:26, 20.87it/s]"
     ]
    },
    {
     "name": "stdout",
     "output_type": "stream",
     "text": [
      "{'epoch': 10, 'iter': 380, 'avg_loss': 1.494632607839239, 'avg_acc': 54.95406824146981, 'loss': 1.5553600788116455}\n"
     ]
    },
    {
     "name": "stderr",
     "output_type": "stream",
     "text": [
      "EP_train:10:  42%|| 394/938 [00:19<00:25, 21.66it/s]"
     ]
    },
    {
     "name": "stdout",
     "output_type": "stream",
     "text": [
      "{'epoch': 10, 'iter': 390, 'avg_loss': 1.4945917420679955, 'avg_acc': 54.85933503836316, 'loss': 1.4801249504089355}\n"
     ]
    },
    {
     "name": "stderr",
     "output_type": "stream",
     "text": [
      "EP_train:10:  43%|| 403/938 [00:20<00:24, 21.47it/s]"
     ]
    },
    {
     "name": "stdout",
     "output_type": "stream",
     "text": [
      "{'epoch': 10, 'iter': 400, 'avg_loss': 1.4911950866777701, 'avg_acc': 54.8784289276808, 'loss': 1.3124637603759766}\n"
     ]
    },
    {
     "name": "stderr",
     "output_type": "stream",
     "text": [
      "EP_train:10:  44%|| 415/938 [00:20<00:23, 21.96it/s]"
     ]
    },
    {
     "name": "stdout",
     "output_type": "stream",
     "text": [
      "{'epoch': 10, 'iter': 410, 'avg_loss': 1.492114983770969, 'avg_acc': 54.80535279805353, 'loss': 1.5771678686141968}\n"
     ]
    },
    {
     "name": "stderr",
     "output_type": "stream",
     "text": [
      "EP_train:10:  45%|| 424/938 [00:21<00:28, 17.84it/s]"
     ]
    },
    {
     "name": "stdout",
     "output_type": "stream",
     "text": [
      "{'epoch': 10, 'iter': 420, 'avg_loss': 1.4930129369760636, 'avg_acc': 54.8916270783848, 'loss': 1.4005916118621826}\n"
     ]
    },
    {
     "name": "stderr",
     "output_type": "stream",
     "text": [
      "EP_train:10:  46%|| 433/938 [00:21<00:25, 20.15it/s]"
     ]
    },
    {
     "name": "stdout",
     "output_type": "stream",
     "text": [
      "{'epoch': 10, 'iter': 430, 'avg_loss': 1.491827086478541, 'avg_acc': 54.93039443155452, 'loss': 1.3562235832214355}\n"
     ]
    },
    {
     "name": "stderr",
     "output_type": "stream",
     "text": [
      "EP_train:10:  47%|| 445/938 [00:22<00:22, 21.75it/s]"
     ]
    },
    {
     "name": "stdout",
     "output_type": "stream",
     "text": [
      "{'epoch': 10, 'iter': 440, 'avg_loss': 1.4917709185422954, 'avg_acc': 54.83985260770975, 'loss': 1.6223926544189453}\n"
     ]
    },
    {
     "name": "stderr",
     "output_type": "stream",
     "text": [
      "EP_train:10:  48%|| 454/938 [00:22<00:22, 21.89it/s]"
     ]
    },
    {
     "name": "stdout",
     "output_type": "stream",
     "text": [
      "{'epoch': 10, 'iter': 450, 'avg_loss': 1.4913697154188896, 'avg_acc': 54.781042128603104, 'loss': 1.4462182521820068}\n"
     ]
    },
    {
     "name": "stderr",
     "output_type": "stream",
     "text": [
      "EP_train:10:  49%|| 463/938 [00:23<00:21, 21.82it/s]"
     ]
    },
    {
     "name": "stdout",
     "output_type": "stream",
     "text": [
      "{'epoch': 10, 'iter': 460, 'avg_loss': 1.492192486749554, 'avg_acc': 54.69088937093276, 'loss': 1.592598557472229}\n"
     ]
    },
    {
     "name": "stderr",
     "output_type": "stream",
     "text": [
      "EP_train:10:  50%|| 473/938 [00:23<00:26, 17.74it/s]"
     ]
    },
    {
     "name": "stdout",
     "output_type": "stream",
     "text": [
      "{'epoch': 10, 'iter': 470, 'avg_loss': 1.4917119828758725, 'avg_acc': 54.70408704883227, 'loss': 1.4553483724594116}\n"
     ]
    },
    {
     "name": "stderr",
     "output_type": "stream",
     "text": [
      "EP_train:10:  52%|| 484/938 [00:24<00:22, 19.79it/s]"
     ]
    },
    {
     "name": "stdout",
     "output_type": "stream",
     "text": [
      "{'epoch': 10, 'iter': 480, 'avg_loss': 1.4920247459857727, 'avg_acc': 54.71673596673596, 'loss': 1.5436975955963135}\n"
     ]
    },
    {
     "name": "stderr",
     "output_type": "stream",
     "text": [
      "EP_train:10:  53%|| 493/938 [00:24<00:21, 20.62it/s]"
     ]
    },
    {
     "name": "stdout",
     "output_type": "stream",
     "text": [
      "{'epoch': 10, 'iter': 490, 'avg_loss': 1.4928549878951731, 'avg_acc': 54.6524949083503, 'loss': 1.6423296928405762}\n"
     ]
    },
    {
     "name": "stderr",
     "output_type": "stream",
     "text": [
      "EP_train:10:  54%|| 503/938 [00:25<00:22, 19.26it/s]"
     ]
    },
    {
     "name": "stdout",
     "output_type": "stream",
     "text": [
      "{'epoch': 10, 'iter': 500, 'avg_loss': 1.4942976051937795, 'avg_acc': 54.66566866267465, 'loss': 1.2981374263763428}\n"
     ]
    },
    {
     "name": "stderr",
     "output_type": "stream",
     "text": [
      "EP_train:10:  55%|| 514/938 [00:25<00:20, 20.52it/s]"
     ]
    },
    {
     "name": "stdout",
     "output_type": "stream",
     "text": [
      "{'epoch': 10, 'iter': 510, 'avg_loss': 1.4947662280030447, 'avg_acc': 54.65386497064579, 'loss': 1.513431429862976}\n"
     ]
    },
    {
     "name": "stderr",
     "output_type": "stream",
     "text": [
      "EP_train:10:  56%|| 523/938 [00:26<00:25, 16.51it/s]"
     ]
    },
    {
     "name": "stdout",
     "output_type": "stream",
     "text": [
      "{'epoch': 10, 'iter': 520, 'avg_loss': 1.4936365199180575, 'avg_acc': 54.6845009596929, 'loss': 1.4415440559387207}\n"
     ]
    },
    {
     "name": "stderr",
     "output_type": "stream",
     "text": [
      "EP_train:10:  57%|| 533/938 [00:26<00:20, 19.73it/s]"
     ]
    },
    {
     "name": "stdout",
     "output_type": "stream",
     "text": [
      "{'epoch': 10, 'iter': 530, 'avg_loss': 1.4939562395467596, 'avg_acc': 54.61393596986818, 'loss': 1.677555799484253}\n"
     ]
    },
    {
     "name": "stderr",
     "output_type": "stream",
     "text": [
      "EP_train:10:  58%|| 545/938 [00:27<00:18, 21.23it/s]"
     ]
    },
    {
     "name": "stdout",
     "output_type": "stream",
     "text": [
      "{'epoch': 10, 'iter': 540, 'avg_loss': 1.4947519748576688, 'avg_acc': 54.58063770794824, 'loss': 1.6821485757827759}\n"
     ]
    },
    {
     "name": "stderr",
     "output_type": "stream",
     "text": [
      "EP_train:10:  59%|| 554/938 [00:27<00:18, 21.07it/s]"
     ]
    },
    {
     "name": "stdout",
     "output_type": "stream",
     "text": [
      "{'epoch': 10, 'iter': 550, 'avg_loss': 1.4941092200590782, 'avg_acc': 54.64496370235935, 'loss': 1.2998074293136597}\n"
     ]
    },
    {
     "name": "stderr",
     "output_type": "stream",
     "text": [
      "EP_train:10:  60%|| 563/938 [00:28<00:17, 21.49it/s]"
     ]
    },
    {
     "name": "stdout",
     "output_type": "stream",
     "text": [
      "{'epoch': 10, 'iter': 560, 'avg_loss': 1.4938918863175812, 'avg_acc': 54.67914438502673, 'loss': 1.3531756401062012}\n"
     ]
    },
    {
     "name": "stderr",
     "output_type": "stream",
     "text": [
      "EP_train:10:  61%|| 574/938 [00:28<00:19, 18.57it/s]"
     ]
    },
    {
     "name": "stdout",
     "output_type": "stream",
     "text": [
      "{'epoch': 10, 'iter': 570, 'avg_loss': 1.4950667209466577, 'avg_acc': 54.580779334500875, 'loss': 1.3628953695297241}\n"
     ]
    },
    {
     "name": "stderr",
     "output_type": "stream",
     "text": [
      "EP_train:10:  62%|| 583/938 [00:29<00:17, 20.27it/s]"
     ]
    },
    {
     "name": "stdout",
     "output_type": "stream",
     "text": [
      "{'epoch': 10, 'iter': 580, 'avg_loss': 1.4963181774915804, 'avg_acc': 54.58261617900172, 'loss': 1.4522923231124878}\n"
     ]
    },
    {
     "name": "stderr",
     "output_type": "stream",
     "text": [
      "EP_train:10:  63%|| 595/938 [00:29<00:16, 20.89it/s]"
     ]
    },
    {
     "name": "stdout",
     "output_type": "stream",
     "text": [
      "{'epoch': 10, 'iter': 590, 'avg_loss': 1.4950473081641995, 'avg_acc': 54.61611675126904, 'loss': 1.531327724456787}\n"
     ]
    },
    {
     "name": "stderr",
     "output_type": "stream",
     "text": [
      "EP_train:10:  64%|| 604/938 [00:30<00:16, 20.85it/s]"
     ]
    },
    {
     "name": "stdout",
     "output_type": "stream",
     "text": [
      "{'epoch': 10, 'iter': 600, 'avg_loss': 1.4936869573870832, 'avg_acc': 54.61210482529118, 'loss': 1.4642915725708008}\n"
     ]
    },
    {
     "name": "stderr",
     "output_type": "stream",
     "text": [
      "EP_train:10:  65%|| 613/938 [00:30<00:16, 19.99it/s]"
     ]
    },
    {
     "name": "stdout",
     "output_type": "stream",
     "text": [
      "{'epoch': 10, 'iter': 610, 'avg_loss': 1.493999107086912, 'avg_acc': 54.71563011456628, 'loss': 1.3987537622451782}\n"
     ]
    },
    {
     "name": "stderr",
     "output_type": "stream",
     "text": [
      "EP_train:10:  67%|| 624/938 [00:31<00:15, 20.21it/s]"
     ]
    },
    {
     "name": "stdout",
     "output_type": "stream",
     "text": [
      "{'epoch': 10, 'iter': 620, 'avg_loss': 1.494501129536621, 'avg_acc': 54.69504830917874, 'loss': 1.5282719135284424}\n"
     ]
    },
    {
     "name": "stderr",
     "output_type": "stream",
     "text": [
      "EP_train:10:  68%|| 634/938 [00:31<00:17, 17.78it/s]"
     ]
    },
    {
     "name": "stdout",
     "output_type": "stream",
     "text": [
      "{'epoch': 10, 'iter': 630, 'avg_loss': 1.4950105228628108, 'avg_acc': 54.68502377179081, 'loss': 1.7401469945907593}\n"
     ]
    },
    {
     "name": "stderr",
     "output_type": "stream",
     "text": [
      "EP_train:10:  69%|| 643/938 [00:32<00:14, 20.72it/s]"
     ]
    },
    {
     "name": "stdout",
     "output_type": "stream",
     "text": [
      "{'epoch': 10, 'iter': 640, 'avg_loss': 1.4954839876958992, 'avg_acc': 54.64118564742589, 'loss': 1.4785151481628418}\n"
     ]
    },
    {
     "name": "stderr",
     "output_type": "stream",
     "text": [
      "EP_train:10:  70%|| 655/938 [00:32<00:12, 22.57it/s]"
     ]
    },
    {
     "name": "stdout",
     "output_type": "stream",
     "text": [
      "{'epoch': 10, 'iter': 650, 'avg_loss': 1.4958915264558865, 'avg_acc': 54.63709677419355, 'loss': 1.4783098697662354}\n"
     ]
    },
    {
     "name": "stderr",
     "output_type": "stream",
     "text": [
      "EP_train:10:  71%|| 664/938 [00:33<00:12, 22.64it/s]"
     ]
    },
    {
     "name": "stdout",
     "output_type": "stream",
     "text": [
      "{'epoch': 10, 'iter': 660, 'avg_loss': 1.4954274329222998, 'avg_acc': 54.56221633888049, 'loss': 1.485621452331543}\n"
     ]
    },
    {
     "name": "stderr",
     "output_type": "stream",
     "text": [
      "EP_train:10:  72%|| 673/938 [00:33<00:12, 21.87it/s]"
     ]
    },
    {
     "name": "stdout",
     "output_type": "stream",
     "text": [
      "{'epoch': 10, 'iter': 670, 'avg_loss': 1.4940832415387457, 'avg_acc': 54.512853949329354, 'loss': 1.506811261177063}\n"
     ]
    },
    {
     "name": "stderr",
     "output_type": "stream",
     "text": [
      "EP_train:10:  73%|| 682/938 [00:34<00:11, 22.19it/s]"
     ]
    },
    {
     "name": "stdout",
     "output_type": "stream",
     "text": [
      "{'epoch': 10, 'iter': 680, 'avg_loss': 1.4940114799400084, 'avg_acc': 54.520007342143906, 'loss': 1.6060950756072998}\n"
     ]
    },
    {
     "name": "stderr",
     "output_type": "stream",
     "text": [
      "EP_train:10:  74%|| 695/938 [00:34<00:11, 20.31it/s]"
     ]
    },
    {
     "name": "stdout",
     "output_type": "stream",
     "text": [
      "{'epoch': 10, 'iter': 690, 'avg_loss': 1.492663236930643, 'avg_acc': 54.526953690303905, 'loss': 1.2930506467819214}\n"
     ]
    },
    {
     "name": "stderr",
     "output_type": "stream",
     "text": [
      "EP_train:10:  75%|| 704/938 [00:35<00:10, 21.49it/s]"
     ]
    },
    {
     "name": "stdout",
     "output_type": "stream",
     "text": [
      "{'epoch': 10, 'iter': 700, 'avg_loss': 1.4925963005393785, 'avg_acc': 54.573823109843076, 'loss': 1.5005736351013184}\n"
     ]
    },
    {
     "name": "stderr",
     "output_type": "stream",
     "text": [
      "EP_train:10:  76%|| 713/938 [00:35<00:10, 20.54it/s]"
     ]
    },
    {
     "name": "stdout",
     "output_type": "stream",
     "text": [
      "{'epoch': 10, 'iter': 710, 'avg_loss': 1.4922247465317426, 'avg_acc': 54.623769338959214, 'loss': 1.5666383504867554}\n"
     ]
    },
    {
     "name": "stderr",
     "output_type": "stream",
     "text": [
      "EP_train:10:  77%|| 725/938 [00:36<00:10, 20.41it/s]"
     ]
    },
    {
     "name": "stdout",
     "output_type": "stream",
     "text": [
      "{'epoch': 10, 'iter': 720, 'avg_loss': 1.49275515793762, 'avg_acc': 54.6506588072122, 'loss': 1.686728835105896}\n"
     ]
    },
    {
     "name": "stderr",
     "output_type": "stream",
     "text": [
      "EP_train:10:  78%|| 734/938 [00:36<00:09, 21.00it/s]"
     ]
    },
    {
     "name": "stdout",
     "output_type": "stream",
     "text": [
      "{'epoch': 10, 'iter': 730, 'avg_loss': 1.4924500706094723, 'avg_acc': 54.61268809849521, 'loss': 1.704261064529419}\n"
     ]
    },
    {
     "name": "stderr",
     "output_type": "stream",
     "text": [
      "EP_train:10:  79%|| 744/938 [00:37<00:10, 18.84it/s]"
     ]
    },
    {
     "name": "stdout",
     "output_type": "stream",
     "text": [
      "{'epoch': 10, 'iter': 740, 'avg_loss': 1.4924366012436818, 'avg_acc': 54.57995951417004, 'loss': 1.6803581714630127}\n"
     ]
    },
    {
     "name": "stderr",
     "output_type": "stream",
     "text": [
      "EP_train:10:  80%|| 753/938 [00:37<00:08, 20.78it/s]"
     ]
    },
    {
     "name": "stdout",
     "output_type": "stream",
     "text": [
      "{'epoch': 10, 'iter': 750, 'avg_loss': 1.4925055295903578, 'avg_acc': 54.573069241011986, 'loss': 1.226474404335022}\n"
     ]
    },
    {
     "name": "stderr",
     "output_type": "stream",
     "text": [
      "EP_train:10:  82%|| 765/938 [00:38<00:07, 22.03it/s]"
     ]
    },
    {
     "name": "stdout",
     "output_type": "stream",
     "text": [
      "{'epoch': 10, 'iter': 760, 'avg_loss': 1.4934197914898004, 'avg_acc': 54.562253613666236, 'loss': 1.594907522201538}\n"
     ]
    },
    {
     "name": "stderr",
     "output_type": "stream",
     "text": [
      "EP_train:10:  83%|| 774/938 [00:38<00:07, 22.06it/s]"
     ]
    },
    {
     "name": "stdout",
     "output_type": "stream",
     "text": [
      "{'epoch': 10, 'iter': 770, 'avg_loss': 1.49388776431597, 'avg_acc': 54.56387808041504, 'loss': 1.1820417642593384}\n"
     ]
    },
    {
     "name": "stderr",
     "output_type": "stream",
     "text": [
      "EP_train:10:  83%|| 783/938 [00:39<00:06, 22.38it/s]"
     ]
    },
    {
     "name": "stdout",
     "output_type": "stream",
     "text": [
      "{'epoch': 10, 'iter': 780, 'avg_loss': 1.4931199175142296, 'avg_acc': 54.61347631241998, 'loss': 1.667222261428833}\n"
     ]
    },
    {
     "name": "stderr",
     "output_type": "stream",
     "text": [
      "EP_train:10:  85%|| 795/938 [00:39<00:07, 19.16it/s]"
     ]
    },
    {
     "name": "stdout",
     "output_type": "stream",
     "text": [
      "{'epoch': 10, 'iter': 790, 'avg_loss': 1.4936973510590275, 'avg_acc': 54.622313527180786, 'loss': 1.7184933423995972}\n"
     ]
    },
    {
     "name": "stderr",
     "output_type": "stream",
     "text": [
      "EP_train:10:  86%|| 804/938 [00:40<00:06, 21.07it/s]"
     ]
    },
    {
     "name": "stdout",
     "output_type": "stream",
     "text": [
      "{'epoch': 10, 'iter': 800, 'avg_loss': 1.4934222483902835, 'avg_acc': 54.642634207240945, 'loss': 1.710103988647461}\n"
     ]
    },
    {
     "name": "stderr",
     "output_type": "stream",
     "text": [
      "EP_train:10:  87%|| 816/938 [00:40<00:05, 22.68it/s]"
     ]
    },
    {
     "name": "stdout",
     "output_type": "stream",
     "text": [
      "{'epoch': 10, 'iter': 810, 'avg_loss': 1.4929585796396183, 'avg_acc': 54.65089395807645, 'loss': 1.5430023670196533}\n"
     ]
    },
    {
     "name": "stderr",
     "output_type": "stream",
     "text": [
      "EP_train:10:  88%|| 825/938 [00:41<00:05, 22.56it/s]"
     ]
    },
    {
     "name": "stdout",
     "output_type": "stream",
     "text": [
      "{'epoch': 10, 'iter': 820, 'avg_loss': 1.4931214180991652, 'avg_acc': 54.628501827040196, 'loss': 1.4648081064224243}\n"
     ]
    },
    {
     "name": "stderr",
     "output_type": "stream",
     "text": [
      "EP_train:10:  89%|| 834/938 [00:41<00:04, 22.46it/s]"
     ]
    },
    {
     "name": "stdout",
     "output_type": "stream",
     "text": [
      "{'epoch': 10, 'iter': 830, 'avg_loss': 1.4927817530006564, 'avg_acc': 54.61793020457281, 'loss': 1.4909762144088745}\n"
     ]
    },
    {
     "name": "stderr",
     "output_type": "stream",
     "text": [
      "EP_train:10:  90%|| 843/938 [00:41<00:05, 18.29it/s]"
     ]
    },
    {
     "name": "stdout",
     "output_type": "stream",
     "text": [
      "{'epoch': 10, 'iter': 840, 'avg_loss': 1.492808026734487, 'avg_acc': 54.60017835909632, 'loss': 1.5205038785934448}\n"
     ]
    },
    {
     "name": "stderr",
     "output_type": "stream",
     "text": [
      "EP_train:10:  91%|| 854/938 [00:42<00:04, 20.79it/s]"
     ]
    },
    {
     "name": "stdout",
     "output_type": "stream",
     "text": [
      "{'epoch': 10, 'iter': 850, 'avg_loss': 1.492882053944535, 'avg_acc': 54.58284371327849, 'loss': 1.5067580938339233}\n"
     ]
    },
    {
     "name": "stderr",
     "output_type": "stream",
     "text": [
      "EP_train:10:  92%|| 863/938 [00:42<00:03, 21.80it/s]"
     ]
    },
    {
     "name": "stdout",
     "output_type": "stream",
     "text": [
      "{'epoch': 10, 'iter': 860, 'avg_loss': 1.4925104372731208, 'avg_acc': 54.605836236933804, 'loss': 1.366828441619873}\n"
     ]
    },
    {
     "name": "stderr",
     "output_type": "stream",
     "text": [
      "EP_train:10:  93%|| 875/938 [00:43<00:02, 23.20it/s]"
     ]
    },
    {
     "name": "stdout",
     "output_type": "stream",
     "text": [
      "{'epoch': 10, 'iter': 870, 'avg_loss': 1.4927169913949978, 'avg_acc': 54.60318599311137, 'loss': 1.5092087984085083}\n"
     ]
    },
    {
     "name": "stderr",
     "output_type": "stream",
     "text": [
      "EP_train:10:  94%|| 884/938 [00:43<00:02, 22.80it/s]"
     ]
    },
    {
     "name": "stdout",
     "output_type": "stream",
     "text": [
      "{'epoch': 10, 'iter': 880, 'avg_loss': 1.4932588545878278, 'avg_acc': 54.6183314415437, 'loss': 1.4271923303604126}\n"
     ]
    },
    {
     "name": "stderr",
     "output_type": "stream",
     "text": [
      "EP_train:10:  95%|| 893/938 [00:44<00:01, 22.93it/s]"
     ]
    },
    {
     "name": "stdout",
     "output_type": "stream",
     "text": [
      "{'epoch': 10, 'iter': 890, 'avg_loss': 1.4943713708357378, 'avg_acc': 54.56649831649831, 'loss': 1.5936155319213867}\n"
     ]
    },
    {
     "name": "stderr",
     "output_type": "stream",
     "text": [
      "EP_train:10:  96%|| 904/938 [00:44<00:01, 19.41it/s]"
     ]
    },
    {
     "name": "stdout",
     "output_type": "stream",
     "text": [
      "{'epoch': 10, 'iter': 900, 'avg_loss': 1.4946481392994837, 'avg_acc': 54.58518312985572, 'loss': 1.5625522136688232}\n"
     ]
    },
    {
     "name": "stderr",
     "output_type": "stream",
     "text": [
      "EP_train:10:  97%|| 913/938 [00:45<00:01, 21.57it/s]"
     ]
    },
    {
     "name": "stdout",
     "output_type": "stream",
     "text": [
      "{'epoch': 10, 'iter': 910, 'avg_loss': 1.4941888957332439, 'avg_acc': 54.56229418221734, 'loss': 1.409638524055481}\n"
     ]
    },
    {
     "name": "stderr",
     "output_type": "stream",
     "text": [
      "EP_train:10:  99%|| 925/938 [00:45<00:00, 22.46it/s]"
     ]
    },
    {
     "name": "stdout",
     "output_type": "stream",
     "text": [
      "{'epoch': 10, 'iter': 920, 'avg_loss': 1.4948642375544279, 'avg_acc': 54.60776330076005, 'loss': 1.743554711341858}\n"
     ]
    },
    {
     "name": "stderr",
     "output_type": "stream",
     "text": [
      "EP_train:10: 100%|| 934/938 [00:46<00:00, 22.42it/s]"
     ]
    },
    {
     "name": "stdout",
     "output_type": "stream",
     "text": [
      "{'epoch': 10, 'iter': 930, 'avg_loss': 1.4942797043397782, 'avg_acc': 54.58176691729323, 'loss': 1.1547091007232666}\n"
     ]
    },
    {
     "name": "stderr",
     "output_type": "stream",
     "text": [
      "EP_train:10: 100%|| 938/938 [00:46<00:00, 20.26it/s]\n"
     ]
    },
    {
     "name": "stdout",
     "output_type": "stream",
     "text": [
      "EP10, train:             avg_loss=1.4933466796936004,             total_acc=54.57485828609536\n"
     ]
    },
    {
     "name": "stderr",
     "output_type": "stream",
     "text": [
      "EP_train:11:   0%|| 0/938 [00:00<?, ?it/s]"
     ]
    },
    {
     "name": "stdout",
     "output_type": "stream",
     "text": [
      "{'epoch': 11, 'iter': 0, 'avg_loss': 1.332663893699646, 'avg_acc': 71.875, 'loss': 1.332663893699646}\n"
     ]
    },
    {
     "name": "stderr",
     "output_type": "stream",
     "text": [
      "EP_train:11:   1%|| 14/938 [00:00<00:48, 18.98it/s]"
     ]
    },
    {
     "name": "stdout",
     "output_type": "stream",
     "text": [
      "{'epoch': 11, 'iter': 10, 'avg_loss': 1.4854582114653154, 'avg_acc': 56.81818181818182, 'loss': 1.3622636795043945}\n"
     ]
    },
    {
     "name": "stderr",
     "output_type": "stream",
     "text": [
      "EP_train:11:   2%|| 23/938 [00:01<00:42, 21.60it/s]"
     ]
    },
    {
     "name": "stdout",
     "output_type": "stream",
     "text": [
      "{'epoch': 11, 'iter': 20, 'avg_loss': 1.518460824376061, 'avg_acc': 55.80357142857143, 'loss': 1.3934457302093506}\n"
     ]
    },
    {
     "name": "stderr",
     "output_type": "stream",
     "text": [
      "EP_train:11:   4%|| 35/938 [00:01<00:39, 22.92it/s]"
     ]
    },
    {
     "name": "stdout",
     "output_type": "stream",
     "text": [
      "{'epoch': 11, 'iter': 30, 'avg_loss': 1.5131404515235656, 'avg_acc': 56.048387096774185, 'loss': 1.3397297859191895}\n"
     ]
    },
    {
     "name": "stderr",
     "output_type": "stream",
     "text": [
      "EP_train:11:   5%|| 44/938 [00:02<00:38, 23.22it/s]"
     ]
    },
    {
     "name": "stdout",
     "output_type": "stream",
     "text": [
      "{'epoch': 11, 'iter': 40, 'avg_loss': 1.5109257901587136, 'avg_acc': 55.79268292682927, 'loss': 1.3933824300765991}\n"
     ]
    },
    {
     "name": "stderr",
     "output_type": "stream",
     "text": [
      "EP_train:11:   6%|| 53/938 [00:02<00:38, 23.12it/s]"
     ]
    },
    {
     "name": "stdout",
     "output_type": "stream",
     "text": [
      "{'epoch': 11, 'iter': 50, 'avg_loss': 1.5227638646668078, 'avg_acc': 56.127450980392155, 'loss': 1.3971011638641357}\n"
     ]
    },
    {
     "name": "stderr",
     "output_type": "stream",
     "text": [
      "EP_train:11:   7%|| 65/938 [00:03<00:37, 23.51it/s]"
     ]
    },
    {
     "name": "stdout",
     "output_type": "stream",
     "text": [
      "{'epoch': 11, 'iter': 60, 'avg_loss': 1.5114053859085332, 'avg_acc': 55.635245901639344, 'loss': 1.302476406097412}\n"
     ]
    },
    {
     "name": "stderr",
     "output_type": "stream",
     "text": [
      "EP_train:11:   8%|| 74/938 [00:03<00:43, 19.95it/s]"
     ]
    },
    {
     "name": "stdout",
     "output_type": "stream",
     "text": [
      "{'epoch': 11, 'iter': 70, 'avg_loss': 1.5178428250299374, 'avg_acc': 55.58978873239436, 'loss': 1.4834386110305786}\n"
     ]
    },
    {
     "name": "stderr",
     "output_type": "stream",
     "text": [
      "EP_train:11:   9%|| 83/938 [00:03<00:39, 21.84it/s]"
     ]
    },
    {
     "name": "stdout",
     "output_type": "stream",
     "text": [
      "{'epoch': 11, 'iter': 80, 'avg_loss': 1.5228629818669073, 'avg_acc': 55.36265432098766, 'loss': 1.601232647895813}\n"
     ]
    },
    {
     "name": "stderr",
     "output_type": "stream",
     "text": [
      "EP_train:11:  10%|| 95/938 [00:04<00:36, 23.05it/s]"
     ]
    },
    {
     "name": "stdout",
     "output_type": "stream",
     "text": [
      "{'epoch': 11, 'iter': 90, 'avg_loss': 1.520338087291508, 'avg_acc': 55.56318681318682, 'loss': 1.5408607721328735}\n"
     ]
    },
    {
     "name": "stderr",
     "output_type": "stream",
     "text": [
      "EP_train:11:  11%|| 104/938 [00:04<00:35, 23.40it/s]"
     ]
    },
    {
     "name": "stdout",
     "output_type": "stream",
     "text": [
      "{'epoch': 11, 'iter': 100, 'avg_loss': 1.5102522727286463, 'avg_acc': 55.32178217821782, 'loss': 1.075893759727478}\n"
     ]
    },
    {
     "name": "stderr",
     "output_type": "stream",
     "text": [
      "EP_train:11:  12%|| 116/938 [00:05<00:34, 23.56it/s]"
     ]
    },
    {
     "name": "stdout",
     "output_type": "stream",
     "text": [
      "{'epoch': 11, 'iter': 110, 'avg_loss': 1.5202760320525985, 'avg_acc': 55.715090090090094, 'loss': 1.7091666460037231}\n"
     ]
    },
    {
     "name": "stderr",
     "output_type": "stream",
     "text": [
      "EP_train:11:  13%|| 125/938 [00:05<00:40, 19.96it/s]"
     ]
    },
    {
     "name": "stdout",
     "output_type": "stream",
     "text": [
      "{'epoch': 11, 'iter': 120, 'avg_loss': 1.5161211855155377, 'avg_acc': 55.55268595041323, 'loss': 1.4177255630493164}\n"
     ]
    },
    {
     "name": "stderr",
     "output_type": "stream",
     "text": [
      "EP_train:11:  14%|| 134/938 [00:06<00:36, 21.74it/s]"
     ]
    },
    {
     "name": "stdout",
     "output_type": "stream",
     "text": [
      "{'epoch': 11, 'iter': 130, 'avg_loss': 1.5138774782646702, 'avg_acc': 55.41507633587786, 'loss': 1.2135053873062134}\n"
     ]
    },
    {
     "name": "stderr",
     "output_type": "stream",
     "text": [
      "EP_train:11:  15%|| 143/938 [00:06<00:34, 23.00it/s]"
     ]
    },
    {
     "name": "stdout",
     "output_type": "stream",
     "text": [
      "{'epoch': 11, 'iter': 140, 'avg_loss': 1.5155513066772028, 'avg_acc': 55.25265957446809, 'loss': 1.5313373804092407}\n"
     ]
    },
    {
     "name": "stderr",
     "output_type": "stream",
     "text": [
      "EP_train:11:  17%|| 155/938 [00:07<00:31, 24.71it/s]"
     ]
    },
    {
     "name": "stdout",
     "output_type": "stream",
     "text": [
      "{'epoch': 11, 'iter': 150, 'avg_loss': 1.510045815777305, 'avg_acc': 55.19453642384106, 'loss': 1.297634243965149}\n"
     ]
    },
    {
     "name": "stderr",
     "output_type": "stream",
     "text": [
      "EP_train:11:  17%|| 164/938 [00:07<00:31, 24.52it/s]"
     ]
    },
    {
     "name": "stdout",
     "output_type": "stream",
     "text": [
      "{'epoch': 11, 'iter': 160, 'avg_loss': 1.5056438586726693, 'avg_acc': 55.14363354037267, 'loss': 1.5564874410629272}\n"
     ]
    },
    {
     "name": "stderr",
     "output_type": "stream",
     "text": [
      "EP_train:11:  19%|| 176/938 [00:08<00:31, 24.03it/s]"
     ]
    },
    {
     "name": "stdout",
     "output_type": "stream",
     "text": [
      "{'epoch': 11, 'iter': 170, 'avg_loss': 1.5034788073154919, 'avg_acc': 55.08040935672515, 'loss': 1.6110738515853882}\n"
     ]
    },
    {
     "name": "stderr",
     "output_type": "stream",
     "text": [
      "EP_train:11:  20%|| 185/938 [00:08<00:37, 20.15it/s]"
     ]
    },
    {
     "name": "stdout",
     "output_type": "stream",
     "text": [
      "{'epoch': 11, 'iter': 180, 'avg_loss': 1.505169311939682, 'avg_acc': 55.17955801104972, 'loss': 1.5196079015731812}\n"
     ]
    },
    {
     "name": "stderr",
     "output_type": "stream",
     "text": [
      "EP_train:11:  21%|| 194/938 [00:08<00:33, 22.21it/s]"
     ]
    },
    {
     "name": "stdout",
     "output_type": "stream",
     "text": [
      "{'epoch': 11, 'iter': 190, 'avg_loss': 1.5050952958811017, 'avg_acc': 55.13743455497382, 'loss': 1.6717381477355957}\n"
     ]
    },
    {
     "name": "stderr",
     "output_type": "stream",
     "text": [
      "EP_train:11:  22%|| 203/938 [00:09<00:31, 23.64it/s]"
     ]
    },
    {
     "name": "stdout",
     "output_type": "stream",
     "text": [
      "{'epoch': 11, 'iter': 200, 'avg_loss': 1.5075334369839721, 'avg_acc': 55.23942786069652, 'loss': 1.4529616832733154}\n"
     ]
    },
    {
     "name": "stderr",
     "output_type": "stream",
     "text": [
      "EP_train:11:  23%|| 215/938 [00:09<00:32, 22.13it/s]"
     ]
    },
    {
     "name": "stdout",
     "output_type": "stream",
     "text": [
      "{'epoch': 11, 'iter': 210, 'avg_loss': 1.5080546507903185, 'avg_acc': 55.21327014218009, 'loss': 1.430867075920105}\n"
     ]
    },
    {
     "name": "stderr",
     "output_type": "stream",
     "text": [
      "EP_train:11:  24%|| 224/938 [00:10<00:30, 23.31it/s]"
     ]
    },
    {
     "name": "stdout",
     "output_type": "stream",
     "text": [
      "{'epoch': 11, 'iter': 220, 'avg_loss': 1.5044497931165393, 'avg_acc': 55.23190045248869, 'loss': 1.6141773462295532}\n"
     ]
    },
    {
     "name": "stderr",
     "output_type": "stream",
     "text": [
      "EP_train:11:  25%|| 233/938 [00:10<00:37, 18.79it/s]"
     ]
    },
    {
     "name": "stdout",
     "output_type": "stream",
     "text": [
      "{'epoch': 11, 'iter': 230, 'avg_loss': 1.5001359223287343, 'avg_acc': 55.208333333333336, 'loss': 1.686053991317749}\n"
     ]
    },
    {
     "name": "stderr",
     "output_type": "stream",
     "text": [
      "EP_train:11:  26%|| 245/938 [00:11<00:33, 20.73it/s]"
     ]
    },
    {
     "name": "stdout",
     "output_type": "stream",
     "text": [
      "{'epoch': 11, 'iter': 240, 'avg_loss': 1.4984458541474401, 'avg_acc': 55.26452282157677, 'loss': 1.5354677438735962}\n"
     ]
    },
    {
     "name": "stderr",
     "output_type": "stream",
     "text": [
      "EP_train:11:  27%|| 254/938 [00:11<00:32, 20.82it/s]"
     ]
    },
    {
     "name": "stdout",
     "output_type": "stream",
     "text": [
      "{'epoch': 11, 'iter': 250, 'avg_loss': 1.4930596874054685, 'avg_acc': 55.39093625498008, 'loss': 1.4334808588027954}\n"
     ]
    },
    {
     "name": "stderr",
     "output_type": "stream",
     "text": [
      "EP_train:11:  28%|| 266/938 [00:12<00:29, 22.73it/s]"
     ]
    },
    {
     "name": "stdout",
     "output_type": "stream",
     "text": [
      "{'epoch': 11, 'iter': 260, 'avg_loss': 1.4944162894026074, 'avg_acc': 55.220306513409966, 'loss': 1.428113341331482}\n"
     ]
    },
    {
     "name": "stderr",
     "output_type": "stream",
     "text": [
      "EP_train:11:  29%|| 275/938 [00:12<00:28, 23.45it/s]"
     ]
    },
    {
     "name": "stdout",
     "output_type": "stream",
     "text": [
      "{'epoch': 11, 'iter': 270, 'avg_loss': 1.4951630650411232, 'avg_acc': 55.25830258302583, 'loss': 1.5796864032745361}\n"
     ]
    },
    {
     "name": "stderr",
     "output_type": "stream",
     "text": [
      "EP_train:11:  30%|| 283/938 [00:13<00:35, 18.23it/s]"
     ]
    },
    {
     "name": "stdout",
     "output_type": "stream",
     "text": [
      "{'epoch': 11, 'iter': 280, 'avg_loss': 1.4923706309226907, 'avg_acc': 55.18238434163701, 'loss': 1.3186112642288208}\n"
     ]
    },
    {
     "name": "stderr",
     "output_type": "stream",
     "text": [
      "EP_train:11:  31%|| 294/938 [00:13<00:30, 20.93it/s]"
     ]
    },
    {
     "name": "stdout",
     "output_type": "stream",
     "text": [
      "{'epoch': 11, 'iter': 290, 'avg_loss': 1.4923344776802456, 'avg_acc': 55.17611683848798, 'loss': 1.4497665166854858}\n"
     ]
    },
    {
     "name": "stderr",
     "output_type": "stream",
     "text": [
      "EP_train:11:  32%|| 303/938 [00:14<00:28, 22.16it/s]"
     ]
    },
    {
     "name": "stdout",
     "output_type": "stream",
     "text": [
      "{'epoch': 11, 'iter': 300, 'avg_loss': 1.4922799798737332, 'avg_acc': 55.024916943521596, 'loss': 1.5252759456634521}\n"
     ]
    },
    {
     "name": "stderr",
     "output_type": "stream",
     "text": [
      "EP_train:11:  34%|| 315/938 [00:14<00:26, 23.79it/s]"
     ]
    },
    {
     "name": "stdout",
     "output_type": "stream",
     "text": [
      "{'epoch': 11, 'iter': 310, 'avg_loss': 1.4909353087569357, 'avg_acc': 55.064308681672024, 'loss': 1.5092427730560303}\n"
     ]
    },
    {
     "name": "stderr",
     "output_type": "stream",
     "text": [
      "EP_train:11:  35%|| 324/938 [00:15<00:26, 22.86it/s]"
     ]
    },
    {
     "name": "stdout",
     "output_type": "stream",
     "text": [
      "{'epoch': 11, 'iter': 320, 'avg_loss': 1.490767758583354, 'avg_acc': 54.96495327102804, 'loss': 1.2672133445739746}\n"
     ]
    },
    {
     "name": "stderr",
     "output_type": "stream",
     "text": [
      "EP_train:11:  36%|| 333/938 [00:15<00:25, 23.51it/s]"
     ]
    },
    {
     "name": "stdout",
     "output_type": "stream",
     "text": [
      "{'epoch': 11, 'iter': 330, 'avg_loss': 1.4920260344387182, 'avg_acc': 54.94712990936556, 'loss': 1.508345365524292}\n"
     ]
    },
    {
     "name": "stderr",
     "output_type": "stream",
     "text": [
      "EP_train:11:  37%|| 345/938 [00:16<00:28, 20.67it/s]"
     ]
    },
    {
     "name": "stdout",
     "output_type": "stream",
     "text": [
      "{'epoch': 11, 'iter': 340, 'avg_loss': 1.4904859275761937, 'avg_acc': 55.021994134897355, 'loss': 1.3947778940200806}\n"
     ]
    },
    {
     "name": "stderr",
     "output_type": "stream",
     "text": [
      "EP_train:11:  38%|| 354/938 [00:16<00:25, 22.76it/s]"
     ]
    },
    {
     "name": "stdout",
     "output_type": "stream",
     "text": [
      "{'epoch': 11, 'iter': 350, 'avg_loss': 1.4915137392842872, 'avg_acc': 55.154914529914535, 'loss': 1.5620172023773193}\n"
     ]
    },
    {
     "name": "stderr",
     "output_type": "stream",
     "text": [
      "EP_train:11:  39%|| 363/938 [00:16<00:24, 23.35it/s]"
     ]
    },
    {
     "name": "stdout",
     "output_type": "stream",
     "text": [
      "{'epoch': 11, 'iter': 360, 'avg_loss': 1.4927733806361783, 'avg_acc': 55.31509695290858, 'loss': 1.2146309614181519}\n"
     ]
    },
    {
     "name": "stderr",
     "output_type": "stream",
     "text": [
      "EP_train:11:  40%|| 375/938 [00:17<00:22, 25.00it/s]"
     ]
    },
    {
     "name": "stdout",
     "output_type": "stream",
     "text": [
      "{'epoch': 11, 'iter': 370, 'avg_loss': 1.4915667669471062, 'avg_acc': 55.23079514824798, 'loss': 1.3013087511062622}\n"
     ]
    },
    {
     "name": "stderr",
     "output_type": "stream",
     "text": [
      "EP_train:11:  41%|| 384/938 [00:17<00:22, 24.62it/s]"
     ]
    },
    {
     "name": "stdout",
     "output_type": "stream",
     "text": [
      "{'epoch': 11, 'iter': 380, 'avg_loss': 1.4908256239778415, 'avg_acc': 55.167322834645674, 'loss': 1.341104507446289}\n"
     ]
    },
    {
     "name": "stderr",
     "output_type": "stream",
     "text": [
      "EP_train:11:  42%|| 393/938 [00:18<00:22, 24.44it/s]"
     ]
    },
    {
     "name": "stdout",
     "output_type": "stream",
     "text": [
      "{'epoch': 11, 'iter': 390, 'avg_loss': 1.490394522771811, 'avg_acc': 55.17902813299232, 'loss': 1.5297718048095703}\n"
     ]
    },
    {
     "name": "stderr",
     "output_type": "stream",
     "text": [
      "EP_train:11:  43%|| 405/938 [00:18<00:26, 20.08it/s]"
     ]
    },
    {
     "name": "stdout",
     "output_type": "stream",
     "text": [
      "{'epoch': 11, 'iter': 400, 'avg_loss': 1.489308587333508, 'avg_acc': 55.10442643391521, 'loss': 1.6037768125534058}\n"
     ]
    },
    {
     "name": "stderr",
     "output_type": "stream",
     "text": [
      "EP_train:11:  44%|| 414/938 [00:19<00:25, 20.19it/s]"
     ]
    },
    {
     "name": "stdout",
     "output_type": "stream",
     "text": [
      "{'epoch': 11, 'iter': 410, 'avg_loss': 1.4864610990468603, 'avg_acc': 55.08667883211679, 'loss': 1.1176271438598633}\n"
     ]
    },
    {
     "name": "stderr",
     "output_type": "stream",
     "text": [
      "EP_train:11:  45%|| 423/938 [00:19<00:25, 20.28it/s]"
     ]
    },
    {
     "name": "stdout",
     "output_type": "stream",
     "text": [
      "{'epoch': 11, 'iter': 420, 'avg_loss': 1.4873693014833536, 'avg_acc': 55.12173396674584, 'loss': 1.700363039970398}\n"
     ]
    },
    {
     "name": "stderr",
     "output_type": "stream",
     "text": [
      "EP_train:11:  46%|| 433/938 [00:20<00:25, 19.67it/s]"
     ]
    },
    {
     "name": "stdout",
     "output_type": "stream",
     "text": [
      "{'epoch': 11, 'iter': 430, 'avg_loss': 1.487773244176276, 'avg_acc': 55.12616009280742, 'loss': 1.205409288406372}\n"
     ]
    },
    {
     "name": "stderr",
     "output_type": "stream",
     "text": [
      "EP_train:11:  47%|| 445/938 [00:20<00:21, 22.50it/s]"
     ]
    },
    {
     "name": "stdout",
     "output_type": "stream",
     "text": [
      "{'epoch': 11, 'iter': 440, 'avg_loss': 1.488398065642705, 'avg_acc': 55.0453514739229, 'loss': 1.4560620784759521}\n"
     ]
    },
    {
     "name": "stderr",
     "output_type": "stream",
     "text": [
      "EP_train:11:  48%|| 454/938 [00:21<00:24, 19.92it/s]"
     ]
    },
    {
     "name": "stdout",
     "output_type": "stream",
     "text": [
      "{'epoch': 11, 'iter': 450, 'avg_loss': 1.4878973268352433, 'avg_acc': 54.96812638580931, 'loss': 1.412989854812622}\n"
     ]
    },
    {
     "name": "stderr",
     "output_type": "stream",
     "text": [
      "EP_train:11:  50%|| 466/938 [00:21<00:20, 23.26it/s]"
     ]
    },
    {
     "name": "stdout",
     "output_type": "stream",
     "text": [
      "{'epoch': 11, 'iter': 460, 'avg_loss': 1.4885705730144476, 'avg_acc': 55.02304772234273, 'loss': 1.78086256980896}\n"
     ]
    },
    {
     "name": "stderr",
     "output_type": "stream",
     "text": [
      "EP_train:11:  51%|| 475/938 [00:22<00:20, 22.54it/s]"
     ]
    },
    {
     "name": "stdout",
     "output_type": "stream",
     "text": [
      "{'epoch': 11, 'iter': 470, 'avg_loss': 1.4887873448130937, 'avg_acc': 54.88986199575372, 'loss': 1.4512654542922974}\n"
     ]
    },
    {
     "name": "stderr",
     "output_type": "stream",
     "text": [
      "EP_train:11:  52%|| 484/938 [00:22<00:20, 22.33it/s]"
     ]
    },
    {
     "name": "stdout",
     "output_type": "stream",
     "text": [
      "{'epoch': 11, 'iter': 480, 'avg_loss': 1.4878987966109214, 'avg_acc': 54.88565488565489, 'loss': 1.4099726676940918}\n"
     ]
    },
    {
     "name": "stderr",
     "output_type": "stream",
     "text": [
      "EP_train:11:  53%|| 493/938 [00:22<00:19, 22.94it/s]"
     ]
    },
    {
     "name": "stdout",
     "output_type": "stream",
     "text": [
      "{'epoch': 11, 'iter': 490, 'avg_loss': 1.488126517556107, 'avg_acc': 54.97708757637475, 'loss': 1.6514275074005127}\n"
     ]
    },
    {
     "name": "stderr",
     "output_type": "stream",
     "text": [
      "EP_train:11:  54%|| 505/938 [00:23<00:17, 24.17it/s]"
     ]
    },
    {
     "name": "stdout",
     "output_type": "stream",
     "text": [
      "{'epoch': 11, 'iter': 500, 'avg_loss': 1.4870860548076514, 'avg_acc': 54.88398203592815, 'loss': 1.4671318531036377}\n"
     ]
    },
    {
     "name": "stderr",
     "output_type": "stream",
     "text": [
      "EP_train:11:  55%|| 514/938 [00:23<00:20, 20.43it/s]"
     ]
    },
    {
     "name": "stdout",
     "output_type": "stream",
     "text": [
      "{'epoch': 11, 'iter': 510, 'avg_loss': 1.488624217225614, 'avg_acc': 54.97186888454012, 'loss': 1.5654106140136719}\n"
     ]
    },
    {
     "name": "stderr",
     "output_type": "stream",
     "text": [
      "EP_train:11:  56%|| 526/938 [00:24<00:17, 23.65it/s]"
     ]
    },
    {
     "name": "stdout",
     "output_type": "stream",
     "text": [
      "{'epoch': 11, 'iter': 520, 'avg_loss': 1.488490160275787, 'avg_acc': 54.97240882917467, 'loss': 1.4526132345199585}\n"
     ]
    },
    {
     "name": "stderr",
     "output_type": "stream",
     "text": [
      "EP_train:11:  57%|| 535/938 [00:24<00:16, 24.27it/s]"
     ]
    },
    {
     "name": "stdout",
     "output_type": "stream",
     "text": [
      "{'epoch': 11, 'iter': 530, 'avg_loss': 1.4889719573791418, 'avg_acc': 55.02000941619586, 'loss': 1.3933130502700806}\n"
     ]
    },
    {
     "name": "stderr",
     "output_type": "stream",
     "text": [
      "EP_train:11:  58%|| 544/938 [00:25<00:16, 24.33it/s]"
     ]
    },
    {
     "name": "stdout",
     "output_type": "stream",
     "text": [
      "{'epoch': 11, 'iter': 540, 'avg_loss': 1.48930137523221, 'avg_acc': 54.96765249537893, 'loss': 1.218583345413208}\n"
     ]
    },
    {
     "name": "stderr",
     "output_type": "stream",
     "text": [
      "EP_train:11:  59%|| 553/938 [00:25<00:16, 23.84it/s]"
     ]
    },
    {
     "name": "stdout",
     "output_type": "stream",
     "text": [
      "{'epoch': 11, 'iter': 550, 'avg_loss': 1.4900128979864657, 'avg_acc': 54.99092558983666, 'loss': 1.4475945234298706}\n"
     ]
    },
    {
     "name": "stderr",
     "output_type": "stream",
     "text": [
      "EP_train:11:  60%|| 565/938 [00:25<00:15, 23.55it/s]"
     ]
    },
    {
     "name": "stdout",
     "output_type": "stream",
     "text": [
      "{'epoch': 11, 'iter': 560, 'avg_loss': 1.4905807974079288, 'avg_acc': 54.89639037433155, 'loss': 1.7132987976074219}\n"
     ]
    },
    {
     "name": "stderr",
     "output_type": "stream",
     "text": [
      "EP_train:11:  61%|| 574/938 [00:26<00:17, 20.27it/s]"
     ]
    },
    {
     "name": "stdout",
     "output_type": "stream",
     "text": [
      "{'epoch': 11, 'iter': 570, 'avg_loss': 1.4910935537201302, 'avg_acc': 54.89273204903677, 'loss': 1.5547083616256714}\n"
     ]
    },
    {
     "name": "stderr",
     "output_type": "stream",
     "text": [
      "EP_train:11:  62%|| 583/938 [00:26<00:15, 22.55it/s]"
     ]
    },
    {
     "name": "stdout",
     "output_type": "stream",
     "text": [
      "{'epoch': 11, 'iter': 580, 'avg_loss': 1.4911608180983342, 'avg_acc': 54.88919965576592, 'loss': 1.2579222917556763}\n"
     ]
    },
    {
     "name": "stderr",
     "output_type": "stream",
     "text": [
      "EP_train:11:  63%|| 595/938 [00:27<00:14, 24.49it/s]"
     ]
    },
    {
     "name": "stdout",
     "output_type": "stream",
     "text": [
      "{'epoch': 11, 'iter': 590, 'avg_loss': 1.4909420848497885, 'avg_acc': 54.89636209813875, 'loss': 1.6265332698822021}\n"
     ]
    },
    {
     "name": "stderr",
     "output_type": "stream",
     "text": [
      "EP_train:11:  64%|| 604/938 [00:27<00:13, 24.92it/s]"
     ]
    },
    {
     "name": "stdout",
     "output_type": "stream",
     "text": [
      "{'epoch': 11, 'iter': 600, 'avg_loss': 1.4907432772752252, 'avg_acc': 54.85648918469218, 'loss': 1.3809670209884644}\n"
     ]
    },
    {
     "name": "stderr",
     "output_type": "stream",
     "text": [
      "EP_train:11:  66%|| 616/938 [00:28<00:12, 24.93it/s]"
     ]
    },
    {
     "name": "stdout",
     "output_type": "stream",
     "text": [
      "{'epoch': 11, 'iter': 610, 'avg_loss': 1.4898275123290265, 'avg_acc': 54.858837970540094, 'loss': 1.4067133665084839}\n"
     ]
    },
    {
     "name": "stderr",
     "output_type": "stream",
     "text": [
      "EP_train:11:  67%|| 625/938 [00:28<00:14, 21.45it/s]"
     ]
    },
    {
     "name": "stdout",
     "output_type": "stream",
     "text": [
      "{'epoch': 11, 'iter': 620, 'avg_loss': 1.4888552991664352, 'avg_acc': 54.805756843800324, 'loss': 1.2783831357955933}\n"
     ]
    },
    {
     "name": "stderr",
     "output_type": "stream",
     "text": [
      "EP_train:11:  68%|| 634/938 [00:28<00:12, 23.67it/s]"
     ]
    },
    {
     "name": "stdout",
     "output_type": "stream",
     "text": [
      "{'epoch': 11, 'iter': 630, 'avg_loss': 1.489021004285374, 'avg_acc': 54.81874009508716, 'loss': 1.5346375703811646}\n"
     ]
    },
    {
     "name": "stderr",
     "output_type": "stream",
     "text": [
      "EP_train:11:  69%|| 646/938 [00:29<00:11, 25.36it/s]"
     ]
    },
    {
     "name": "stdout",
     "output_type": "stream",
     "text": [
      "{'epoch': 11, 'iter': 640, 'avg_loss': 1.4882229213223628, 'avg_acc': 54.7435647425897, 'loss': 1.404618501663208}\n"
     ]
    },
    {
     "name": "stderr",
     "output_type": "stream",
     "text": [
      "EP_train:11:  70%|| 655/938 [00:29<00:11, 25.22it/s]"
     ]
    },
    {
     "name": "stdout",
     "output_type": "stream",
     "text": [
      "{'epoch': 11, 'iter': 650, 'avg_loss': 1.488900867841577, 'avg_acc': 54.78590629800307, 'loss': 1.5705420970916748}\n"
     ]
    },
    {
     "name": "stderr",
     "output_type": "stream",
     "text": [
      "EP_train:11:  70%|| 661/938 [00:30<00:11, 24.41it/s]"
     ]
    },
    {
     "name": "stdout",
     "output_type": "stream",
     "text": [
      "{'epoch': 11, 'iter': 660, 'avg_loss': 1.4896473779981327, 'avg_acc': 54.708774583963695, 'loss': 1.6171966791152954}\n"
     ]
    },
    {
     "name": "stderr",
     "output_type": "stream",
     "text": [
      "EP_train:11:  72%|| 676/938 [00:30<00:11, 22.71it/s]"
     ]
    },
    {
     "name": "stdout",
     "output_type": "stream",
     "text": [
      "{'epoch': 11, 'iter': 670, 'avg_loss': 1.48935162736833, 'avg_acc': 54.72242921013412, 'loss': 1.4950193166732788}\n"
     ]
    },
    {
     "name": "stderr",
     "output_type": "stream",
     "text": [
      "EP_train:11:  73%|| 685/938 [00:31<00:10, 23.19it/s]"
     ]
    },
    {
     "name": "stdout",
     "output_type": "stream",
     "text": [
      "{'epoch': 11, 'iter': 680, 'avg_loss': 1.4891902259092848, 'avg_acc': 54.75403817914831, 'loss': 1.7727957963943481}\n"
     ]
    },
    {
     "name": "stderr",
     "output_type": "stream",
     "text": [
      "EP_train:11:  74%|| 694/938 [00:31<00:10, 24.36it/s]"
     ]
    },
    {
     "name": "stdout",
     "output_type": "stream",
     "text": [
      "{'epoch': 11, 'iter': 690, 'avg_loss': 1.4883568216163756, 'avg_acc': 54.72141823444283, 'loss': 1.5300995111465454}\n"
     ]
    },
    {
     "name": "stderr",
     "output_type": "stream",
     "text": [
      "EP_train:11:  75%|| 706/938 [00:32<00:09, 25.14it/s]"
     ]
    },
    {
     "name": "stdout",
     "output_type": "stream",
     "text": [
      "{'epoch': 11, 'iter': 700, 'avg_loss': 1.4888521956649214, 'avg_acc': 54.71647646219686, 'loss': 1.5545300245285034}\n"
     ]
    },
    {
     "name": "stderr",
     "output_type": "stream",
     "text": [
      "EP_train:11:  76%|| 715/938 [00:32<00:09, 24.63it/s]"
     ]
    },
    {
     "name": "stdout",
     "output_type": "stream",
     "text": [
      "{'epoch': 11, 'iter': 710, 'avg_loss': 1.4891901584617195, 'avg_acc': 54.738045007032355, 'loss': 1.507453441619873}\n"
     ]
    },
    {
     "name": "stderr",
     "output_type": "stream",
     "text": [
      "EP_train:11:  77%|| 724/938 [00:32<00:11, 18.50it/s]"
     ]
    },
    {
     "name": "stdout",
     "output_type": "stream",
     "text": [
      "{'epoch': 11, 'iter': 720, 'avg_loss': 1.4899992028486382, 'avg_acc': 54.72867545076283, 'loss': 1.4039617776870728}\n"
     ]
    },
    {
     "name": "stderr",
     "output_type": "stream",
     "text": [
      "EP_train:11:  78%|| 733/938 [00:33<00:09, 21.10it/s]"
     ]
    },
    {
     "name": "stdout",
     "output_type": "stream",
     "text": [
      "{'epoch': 11, 'iter': 730, 'avg_loss': 1.4888156306727314, 'avg_acc': 54.66826265389877, 'loss': 1.3150889873504639}\n"
     ]
    },
    {
     "name": "stderr",
     "output_type": "stream",
     "text": [
      "EP_train:11:  79%|| 745/938 [00:33<00:08, 23.07it/s]"
     ]
    },
    {
     "name": "stdout",
     "output_type": "stream",
     "text": [
      "{'epoch': 11, 'iter': 740, 'avg_loss': 1.489227011940579, 'avg_acc': 54.64743589743589, 'loss': 1.4896361827850342}\n"
     ]
    },
    {
     "name": "stderr",
     "output_type": "stream",
     "text": [
      "EP_train:11:  80%|| 754/938 [00:34<00:07, 23.85it/s]"
     ]
    },
    {
     "name": "stdout",
     "output_type": "stream",
     "text": [
      "{'epoch': 11, 'iter': 750, 'avg_loss': 1.4885389903255213, 'avg_acc': 54.63132490013316, 'loss': 1.6368649005889893}\n"
     ]
    },
    {
     "name": "stderr",
     "output_type": "stream",
     "text": [
      "EP_train:11:  82%|| 766/938 [00:34<00:07, 24.55it/s]"
     ]
    },
    {
     "name": "stdout",
     "output_type": "stream",
     "text": [
      "{'epoch': 11, 'iter': 760, 'avg_loss': 1.4878416214916614, 'avg_acc': 54.64027595269383, 'loss': 1.3050899505615234}\n"
     ]
    },
    {
     "name": "stderr",
     "output_type": "stream",
     "text": [
      "EP_train:11:  83%|| 775/938 [00:35<00:07, 20.55it/s]"
     ]
    },
    {
     "name": "stdout",
     "output_type": "stream",
     "text": [
      "{'epoch': 11, 'iter': 770, 'avg_loss': 1.487423028618136, 'avg_acc': 54.65304798962386, 'loss': 1.5056818723678589}\n"
     ]
    },
    {
     "name": "stderr",
     "output_type": "stream",
     "text": [
      "EP_train:11:  84%|| 784/938 [00:35<00:06, 23.10it/s]"
     ]
    },
    {
     "name": "stdout",
     "output_type": "stream",
     "text": [
      "{'epoch': 11, 'iter': 780, 'avg_loss': 1.4862581958538743, 'avg_acc': 54.609475032010245, 'loss': 1.4394946098327637}\n"
     ]
    },
    {
     "name": "stderr",
     "output_type": "stream",
     "text": [
      "EP_train:11:  85%|| 796/938 [00:36<00:05, 24.16it/s]"
     ]
    },
    {
     "name": "stdout",
     "output_type": "stream",
     "text": [
      "{'epoch': 11, 'iter': 790, 'avg_loss': 1.486810590012185, 'avg_acc': 54.63811630847029, 'loss': 1.586536169052124}\n"
     ]
    },
    {
     "name": "stderr",
     "output_type": "stream",
     "text": [
      "EP_train:11:  86%|| 805/938 [00:36<00:05, 24.96it/s]"
     ]
    },
    {
     "name": "stdout",
     "output_type": "stream",
     "text": [
      "{'epoch': 11, 'iter': 800, 'avg_loss': 1.4865620157096568, 'avg_acc': 54.62702871410736, 'loss': 1.5704141855239868}\n"
     ]
    },
    {
     "name": "stderr",
     "output_type": "stream",
     "text": [
      "EP_train:11:  87%|| 814/938 [00:36<00:06, 19.19it/s]"
     ]
    },
    {
     "name": "stdout",
     "output_type": "stream",
     "text": [
      "{'epoch': 11, 'iter': 810, 'avg_loss': 1.486659158613767, 'avg_acc': 54.643187422934645, 'loss': 1.5151050090789795}\n"
     ]
    },
    {
     "name": "stderr",
     "output_type": "stream",
     "text": [
      "EP_train:11:  88%|| 826/938 [00:37<00:04, 23.10it/s]"
     ]
    },
    {
     "name": "stdout",
     "output_type": "stream",
     "text": [
      "{'epoch': 11, 'iter': 820, 'avg_loss': 1.4868680543643984, 'avg_acc': 54.624695493300855, 'loss': 1.38289475440979}\n"
     ]
    },
    {
     "name": "stderr",
     "output_type": "stream",
     "text": [
      "EP_train:11:  89%|| 835/938 [00:37<00:04, 23.52it/s]"
     ]
    },
    {
     "name": "stdout",
     "output_type": "stream",
     "text": [
      "{'epoch': 11, 'iter': 830, 'avg_loss': 1.4866415382722655, 'avg_acc': 54.6104091456077, 'loss': 1.3350391387939453}\n"
     ]
    },
    {
     "name": "stderr",
     "output_type": "stream",
     "text": [
      "EP_train:11:  90%|| 844/938 [00:38<00:03, 23.79it/s]"
     ]
    },
    {
     "name": "stdout",
     "output_type": "stream",
     "text": [
      "{'epoch': 11, 'iter': 840, 'avg_loss': 1.486981462213287, 'avg_acc': 54.64105231866825, 'loss': 1.4230875968933105}\n"
     ]
    },
    {
     "name": "stderr",
     "output_type": "stream",
     "text": [
      "EP_train:11:  91%|| 853/938 [00:38<00:04, 18.23it/s]"
     ]
    },
    {
     "name": "stdout",
     "output_type": "stream",
     "text": [
      "{'epoch': 11, 'iter': 850, 'avg_loss': 1.4864798924337403, 'avg_acc': 54.65995887191539, 'loss': 1.3380719423294067}\n"
     ]
    },
    {
     "name": "stderr",
     "output_type": "stream",
     "text": [
      "EP_train:11:  92%|| 865/938 [00:39<00:03, 22.90it/s]"
     ]
    },
    {
     "name": "stdout",
     "output_type": "stream",
     "text": [
      "{'epoch': 11, 'iter': 860, 'avg_loss': 1.4864135322947396, 'avg_acc': 54.66753774680604, 'loss': 1.4536837339401245}\n"
     ]
    },
    {
     "name": "stderr",
     "output_type": "stream",
     "text": [
      "EP_train:11:  93%|| 874/938 [00:39<00:02, 24.08it/s]"
     ]
    },
    {
     "name": "stdout",
     "output_type": "stream",
     "text": [
      "{'epoch': 11, 'iter': 870, 'avg_loss': 1.485851670652799, 'avg_acc': 54.6103616532721, 'loss': 1.3483226299285889}\n"
     ]
    },
    {
     "name": "stderr",
     "output_type": "stream",
     "text": [
      "EP_train:11:  94%|| 886/938 [00:40<00:02, 24.98it/s]"
     ]
    },
    {
     "name": "stdout",
     "output_type": "stream",
     "text": [
      "{'epoch': 11, 'iter': 880, 'avg_loss': 1.4858687967231137, 'avg_acc': 54.611237230419974, 'loss': 1.5892839431762695}\n"
     ]
    },
    {
     "name": "stderr",
     "output_type": "stream",
     "text": [
      "EP_train:11:  95%|| 895/938 [00:40<00:01, 24.93it/s]"
     ]
    },
    {
     "name": "stdout",
     "output_type": "stream",
     "text": [
      "{'epoch': 11, 'iter': 890, 'avg_loss': 1.4855606497069935, 'avg_acc': 54.633136924803594, 'loss': 1.528011441230774}\n"
     ]
    },
    {
     "name": "stderr",
     "output_type": "stream",
     "text": [
      "EP_train:11:  96%|| 904/938 [00:40<00:01, 24.64it/s]"
     ]
    },
    {
     "name": "stdout",
     "output_type": "stream",
     "text": [
      "{'epoch': 11, 'iter': 900, 'avg_loss': 1.4859781716428242, 'avg_acc': 54.61293007769146, 'loss': 1.2891205549240112}\n"
     ]
    },
    {
     "name": "stderr",
     "output_type": "stream",
     "text": [
      "EP_train:11:  97%|| 913/938 [00:41<00:01, 20.47it/s]"
     ]
    },
    {
     "name": "stdout",
     "output_type": "stream",
     "text": [
      "{'epoch': 11, 'iter': 910, 'avg_loss': 1.4864552910843483, 'avg_acc': 54.64462129527992, 'loss': 1.3530336618423462}\n"
     ]
    },
    {
     "name": "stderr",
     "output_type": "stream",
     "text": [
      "EP_train:11:  99%|| 925/938 [00:41<00:00, 23.07it/s]"
     ]
    },
    {
     "name": "stdout",
     "output_type": "stream",
     "text": [
      "{'epoch': 11, 'iter': 920, 'avg_loss': 1.4865214627935883, 'avg_acc': 54.55347448425625, 'loss': 1.5539133548736572}\n"
     ]
    },
    {
     "name": "stderr",
     "output_type": "stream",
     "text": [
      "EP_train:11: 100%|| 934/938 [00:42<00:00, 24.27it/s]"
     ]
    },
    {
     "name": "stdout",
     "output_type": "stream",
     "text": [
      "{'epoch': 11, 'iter': 930, 'avg_loss': 1.4862301618533027, 'avg_acc': 54.56498388829216, 'loss': 1.1239800453186035}\n"
     ]
    },
    {
     "name": "stderr",
     "output_type": "stream",
     "text": [
      "EP_train:11: 100%|| 938/938 [00:42<00:00, 22.19it/s]\n"
     ]
    },
    {
     "name": "stdout",
     "output_type": "stream",
     "text": [
      "EP11, train:             avg_loss=1.4872615122591764,             total_acc=54.57485828609536\n"
     ]
    },
    {
     "name": "stderr",
     "output_type": "stream",
     "text": [
      "EP_train:12:   0%|| 3/938 [00:00<00:40, 23.12it/s]"
     ]
    },
    {
     "name": "stdout",
     "output_type": "stream",
     "text": [
      "{'epoch': 12, 'iter': 0, 'avg_loss': 1.864546298980713, 'avg_acc': 59.375, 'loss': 1.864546298980713}\n"
     ]
    },
    {
     "name": "stderr",
     "output_type": "stream",
     "text": [
      "EP_train:12:   2%|| 15/938 [00:00<00:45, 20.09it/s]"
     ]
    },
    {
     "name": "stdout",
     "output_type": "stream",
     "text": [
      "{'epoch': 12, 'iter': 10, 'avg_loss': 1.551264600320296, 'avg_acc': 58.80681818181818, 'loss': 1.600286841392517}\n"
     ]
    },
    {
     "name": "stderr",
     "output_type": "stream",
     "text": [
      "EP_train:12:   3%|| 24/938 [00:01<00:38, 23.65it/s]"
     ]
    },
    {
     "name": "stdout",
     "output_type": "stream",
     "text": [
      "{'epoch': 12, 'iter': 20, 'avg_loss': 1.5222042401631672, 'avg_acc': 55.80357142857143, 'loss': 1.3523045778274536}\n"
     ]
    },
    {
     "name": "stderr",
     "output_type": "stream",
     "text": [
      "EP_train:12:   4%|| 33/938 [00:01<00:39, 22.86it/s]"
     ]
    },
    {
     "name": "stdout",
     "output_type": "stream",
     "text": [
      "{'epoch': 12, 'iter': 30, 'avg_loss': 1.511379353461727, 'avg_acc': 54.63709677419355, 'loss': 1.2856496572494507}\n"
     ]
    },
    {
     "name": "stderr",
     "output_type": "stream",
     "text": [
      "EP_train:12:   5%|| 45/938 [00:02<00:39, 22.83it/s]"
     ]
    },
    {
     "name": "stdout",
     "output_type": "stream",
     "text": [
      "{'epoch': 12, 'iter': 40, 'avg_loss': 1.4950228493388107, 'avg_acc': 55.411585365853654, 'loss': 1.63716721534729}\n"
     ]
    },
    {
     "name": "stderr",
     "output_type": "stream",
     "text": [
      "EP_train:12:   5%|| 51/938 [00:02<00:38, 23.16it/s]"
     ]
    },
    {
     "name": "stdout",
     "output_type": "stream",
     "text": [
      "{'epoch': 12, 'iter': 50, 'avg_loss': 1.4885994219312482, 'avg_acc': 55.63725490196079, 'loss': 1.4219285249710083}\n"
     ]
    },
    {
     "name": "stderr",
     "output_type": "stream",
     "text": [
      "EP_train:12:   7%|| 66/938 [00:03<00:38, 22.49it/s]"
     ]
    },
    {
     "name": "stdout",
     "output_type": "stream",
     "text": [
      "{'epoch': 12, 'iter': 60, 'avg_loss': 1.4827474746547762, 'avg_acc': 55.5327868852459, 'loss': 1.6594960689544678}\n"
     ]
    },
    {
     "name": "stderr",
     "output_type": "stream",
     "text": [
      "EP_train:12:   8%|| 75/938 [00:03<00:35, 24.37it/s]"
     ]
    },
    {
     "name": "stdout",
     "output_type": "stream",
     "text": [
      "{'epoch': 12, 'iter': 70, 'avg_loss': 1.4828646451654568, 'avg_acc': 55.06161971830986, 'loss': 1.4196852445602417}\n"
     ]
    },
    {
     "name": "stderr",
     "output_type": "stream",
     "text": [
      "EP_train:12:   9%|| 84/938 [00:03<00:34, 24.98it/s]"
     ]
    },
    {
     "name": "stdout",
     "output_type": "stream",
     "text": [
      "{'epoch': 12, 'iter': 80, 'avg_loss': 1.4860647401691955, 'avg_acc': 55.05401234567901, 'loss': 1.6193337440490723}\n"
     ]
    },
    {
     "name": "stderr",
     "output_type": "stream",
     "text": [
      "EP_train:12:  10%|| 96/938 [00:04<00:32, 25.89it/s]"
     ]
    },
    {
     "name": "stdout",
     "output_type": "stream",
     "text": [
      "{'epoch': 12, 'iter': 90, 'avg_loss': 1.4763936957160195, 'avg_acc': 54.807692307692314, 'loss': 1.3669602870941162}\n"
     ]
    },
    {
     "name": "stderr",
     "output_type": "stream",
     "text": [
      "EP_train:12:  11%|| 105/938 [00:04<00:40, 20.64it/s]"
     ]
    },
    {
     "name": "stdout",
     "output_type": "stream",
     "text": [
      "{'epoch': 12, 'iter': 100, 'avg_loss': 1.4749544540254196, 'avg_acc': 54.82673267326733, 'loss': 1.5575098991394043}\n"
     ]
    },
    {
     "name": "stderr",
     "output_type": "stream",
     "text": [
      "EP_train:12:  12%|| 114/938 [00:05<00:35, 23.34it/s]"
     ]
    },
    {
     "name": "stdout",
     "output_type": "stream",
     "text": [
      "{'epoch': 12, 'iter': 110, 'avg_loss': 1.4782778529433516, 'avg_acc': 55.15202702702703, 'loss': 1.5957971811294556}\n"
     ]
    },
    {
     "name": "stderr",
     "output_type": "stream",
     "text": [
      "EP_train:12:  13%|| 126/938 [00:05<00:32, 25.35it/s]"
     ]
    },
    {
     "name": "stdout",
     "output_type": "stream",
     "text": [
      "{'epoch': 12, 'iter': 120, 'avg_loss': 1.4823760897660059, 'avg_acc': 55.0103305785124, 'loss': 1.5847796201705933}\n"
     ]
    },
    {
     "name": "stderr",
     "output_type": "stream",
     "text": [
      "EP_train:12:  14%|| 135/938 [00:05<00:31, 25.75it/s]"
     ]
    },
    {
     "name": "stdout",
     "output_type": "stream",
     "text": [
      "{'epoch': 12, 'iter': 130, 'avg_loss': 1.4829474268978788, 'avg_acc': 54.842557251908396, 'loss': 1.5905590057373047}\n"
     ]
    },
    {
     "name": "stderr",
     "output_type": "stream",
     "text": [
      "EP_train:12:  15%|| 141/938 [00:06<00:33, 24.11it/s]"
     ]
    },
    {
     "name": "stdout",
     "output_type": "stream",
     "text": [
      "{'epoch': 12, 'iter': 140, 'avg_loss': 1.4779286223945889, 'avg_acc': 54.698581560283685, 'loss': 1.231716275215149}\n"
     ]
    },
    {
     "name": "stderr",
     "output_type": "stream",
     "text": [
      "EP_train:12:  17%|| 156/938 [00:06<00:33, 23.51it/s]"
     ]
    },
    {
     "name": "stdout",
     "output_type": "stream",
     "text": [
      "{'epoch': 12, 'iter': 150, 'avg_loss': 1.4724431906314874, 'avg_acc': 55.132450331125824, 'loss': 1.4863899946212769}\n"
     ]
    },
    {
     "name": "stderr",
     "output_type": "stream",
     "text": [
      "EP_train:12:  18%|| 165/938 [00:07<00:31, 24.93it/s]"
     ]
    },
    {
     "name": "stdout",
     "output_type": "stream",
     "text": [
      "{'epoch': 12, 'iter': 160, 'avg_loss': 1.4723209705412017, 'avg_acc': 55.00776397515528, 'loss': 1.5111647844314575}\n"
     ]
    },
    {
     "name": "stderr",
     "output_type": "stream",
     "text": [
      "EP_train:12:  19%|| 174/938 [00:07<00:30, 25.46it/s]"
     ]
    },
    {
     "name": "stdout",
     "output_type": "stream",
     "text": [
      "{'epoch': 12, 'iter': 170, 'avg_loss': 1.4716639400225633, 'avg_acc': 54.76973684210527, 'loss': 1.4064406156539917}\n"
     ]
    },
    {
     "name": "stderr",
     "output_type": "stream",
     "text": [
      "EP_train:12:  20%|| 186/938 [00:08<00:28, 26.75it/s]"
     ]
    },
    {
     "name": "stdout",
     "output_type": "stream",
     "text": [
      "{'epoch': 12, 'iter': 180, 'avg_loss': 1.475283721533928, 'avg_acc': 54.57527624309392, 'loss': 1.6061455011367798}\n"
     ]
    },
    {
     "name": "stderr",
     "output_type": "stream",
     "text": [
      "EP_train:12:  21%|| 195/938 [00:08<00:35, 20.78it/s]"
     ]
    },
    {
     "name": "stdout",
     "output_type": "stream",
     "text": [
      "{'epoch': 12, 'iter': 190, 'avg_loss': 1.474604758916725, 'avg_acc': 54.51570680628273, 'loss': 1.454534649848938}\n"
     ]
    },
    {
     "name": "stderr",
     "output_type": "stream",
     "text": [
      "EP_train:12:  22%|| 204/938 [00:08<00:31, 23.34it/s]"
     ]
    },
    {
     "name": "stdout",
     "output_type": "stream",
     "text": [
      "{'epoch': 12, 'iter': 200, 'avg_loss': 1.4783528794103593, 'avg_acc': 54.4931592039801, 'loss': 1.5647854804992676}\n"
     ]
    },
    {
     "name": "stderr",
     "output_type": "stream",
     "text": [
      "EP_train:12:  23%|| 216/938 [00:09<00:28, 25.57it/s]"
     ]
    },
    {
     "name": "stdout",
     "output_type": "stream",
     "text": [
      "{'epoch': 12, 'iter': 210, 'avg_loss': 1.4812634448869533, 'avg_acc': 54.47274881516587, 'loss': 1.282591700553894}\n"
     ]
    },
    {
     "name": "stderr",
     "output_type": "stream",
     "text": [
      "EP_train:12:  24%|| 225/938 [00:09<00:27, 25.59it/s]"
     ]
    },
    {
     "name": "stdout",
     "output_type": "stream",
     "text": [
      "{'epoch': 12, 'iter': 220, 'avg_loss': 1.482962943310112, 'avg_acc': 54.49660633484162, 'loss': 1.5084222555160522}\n"
     ]
    },
    {
     "name": "stderr",
     "output_type": "stream",
     "text": [
      "EP_train:12:  25%|| 234/938 [00:10<00:34, 20.58it/s]"
     ]
    },
    {
     "name": "stdout",
     "output_type": "stream",
     "text": [
      "{'epoch': 12, 'iter': 230, 'avg_loss': 1.4810331296095085, 'avg_acc': 54.46428571428571, 'loss': 1.551900863647461}\n"
     ]
    },
    {
     "name": "stderr",
     "output_type": "stream",
     "text": [
      "EP_train:12:  26%|| 246/938 [00:10<00:29, 23.83it/s]"
     ]
    },
    {
     "name": "stdout",
     "output_type": "stream",
     "text": [
      "{'epoch': 12, 'iter': 240, 'avg_loss': 1.4797983520753155, 'avg_acc': 54.3957468879668, 'loss': 1.394425630569458}\n"
     ]
    },
    {
     "name": "stderr",
     "output_type": "stream",
     "text": [
      "EP_train:12:  27%|| 255/938 [00:11<00:27, 25.28it/s]"
     ]
    },
    {
     "name": "stdout",
     "output_type": "stream",
     "text": [
      "{'epoch': 12, 'iter': 250, 'avg_loss': 1.4803321855476652, 'avg_acc': 54.22061752988048, 'loss': 1.5028364658355713}\n"
     ]
    },
    {
     "name": "stderr",
     "output_type": "stream",
     "text": [
      "EP_train:12:  28%|| 264/938 [00:11<00:25, 26.13it/s]"
     ]
    },
    {
     "name": "stdout",
     "output_type": "stream",
     "text": [
      "{'epoch': 12, 'iter': 260, 'avg_loss': 1.4796962532503852, 'avg_acc': 54.34626436781609, 'loss': 1.5589839220046997}\n"
     ]
    },
    {
     "name": "stderr",
     "output_type": "stream",
     "text": [
      "EP_train:12:  29%|| 276/938 [00:11<00:24, 27.06it/s]"
     ]
    },
    {
     "name": "stdout",
     "output_type": "stream",
     "text": [
      "{'epoch': 12, 'iter': 270, 'avg_loss': 1.477961681865678, 'avg_acc': 54.72785977859779, 'loss': 1.6823471784591675}\n"
     ]
    },
    {
     "name": "stderr",
     "output_type": "stream",
     "text": [
      "EP_train:12:  30%|| 285/938 [00:12<00:32, 20.04it/s]"
     ]
    },
    {
     "name": "stdout",
     "output_type": "stream",
     "text": [
      "{'epoch': 12, 'iter': 280, 'avg_loss': 1.4797758084599233, 'avg_acc': 54.83763345195729, 'loss': 1.4022588729858398}\n"
     ]
    },
    {
     "name": "stderr",
     "output_type": "stream",
     "text": [
      "EP_train:12:  31%|| 294/938 [00:12<00:28, 22.57it/s]"
     ]
    },
    {
     "name": "stdout",
     "output_type": "stream",
     "text": [
      "{'epoch': 12, 'iter': 290, 'avg_loss': 1.4798696786677306, 'avg_acc': 54.89690721649485, 'loss': 1.3431652784347534}\n"
     ]
    },
    {
     "name": "stderr",
     "output_type": "stream",
     "text": [
      "EP_train:12:  33%|| 306/938 [00:13<00:24, 25.86it/s]"
     ]
    },
    {
     "name": "stdout",
     "output_type": "stream",
     "text": [
      "{'epoch': 12, 'iter': 300, 'avg_loss': 1.479826187374584, 'avg_acc': 54.806893687707635, 'loss': 1.3138363361358643}\n"
     ]
    },
    {
     "name": "stderr",
     "output_type": "stream",
     "text": [
      "EP_train:12:  34%|| 315/938 [00:13<00:23, 26.79it/s]"
     ]
    },
    {
     "name": "stdout",
     "output_type": "stream",
     "text": [
      "{'epoch': 12, 'iter': 310, 'avg_loss': 1.4785952249907222, 'avg_acc': 54.67242765273313, 'loss': 1.2807862758636475}\n"
     ]
    },
    {
     "name": "stderr",
     "output_type": "stream",
     "text": [
      "EP_train:12:  35%|| 324/938 [00:13<00:23, 26.50it/s]"
     ]
    },
    {
     "name": "stdout",
     "output_type": "stream",
     "text": [
      "{'epoch': 12, 'iter': 320, 'avg_loss': 1.4787851271228256, 'avg_acc': 54.85786604361371, 'loss': 1.5941890478134155}\n"
     ]
    },
    {
     "name": "stderr",
     "output_type": "stream",
     "text": [
      "EP_train:12:  36%|| 333/938 [00:14<00:22, 27.42it/s]"
     ]
    },
    {
     "name": "stdout",
     "output_type": "stream",
     "text": [
      "{'epoch': 12, 'iter': 330, 'avg_loss': 1.4792706519815497, 'avg_acc': 54.93768882175226, 'loss': 1.4783259630203247}\n"
     ]
    },
    {
     "name": "stderr",
     "output_type": "stream",
     "text": [
      "EP_train:12:  37%|| 345/938 [00:14<00:24, 24.18it/s]"
     ]
    },
    {
     "name": "stdout",
     "output_type": "stream",
     "text": [
      "{'epoch': 12, 'iter': 340, 'avg_loss': 1.4776960551913532, 'avg_acc': 54.756231671554254, 'loss': 1.2262253761291504}\n"
     ]
    },
    {
     "name": "stderr",
     "output_type": "stream",
     "text": [
      "EP_train:12:  38%|| 354/938 [00:15<00:22, 25.62it/s]"
     ]
    },
    {
     "name": "stdout",
     "output_type": "stream",
     "text": [
      "{'epoch': 12, 'iter': 350, 'avg_loss': 1.4765342939273585, 'avg_acc': 54.691951566951566, 'loss': 1.229487657546997}\n"
     ]
    },
    {
     "name": "stderr",
     "output_type": "stream",
     "text": [
      "EP_train:12:  39%|| 366/938 [00:15<00:21, 27.13it/s]"
     ]
    },
    {
     "name": "stdout",
     "output_type": "stream",
     "text": [
      "{'epoch': 12, 'iter': 360, 'avg_loss': 1.4763670555442323, 'avg_acc': 54.62257617728532, 'loss': 1.355399489402771}\n"
     ]
    },
    {
     "name": "stderr",
     "output_type": "stream",
     "text": [
      "EP_train:12:  40%|| 375/938 [00:15<00:20, 27.14it/s]"
     ]
    },
    {
     "name": "stdout",
     "output_type": "stream",
     "text": [
      "{'epoch': 12, 'iter': 370, 'avg_loss': 1.4757513656127805, 'avg_acc': 54.62432614555256, 'loss': 1.2367842197418213}\n"
     ]
    },
    {
     "name": "stderr",
     "output_type": "stream",
     "text": [
      "EP_train:12:  41%|| 384/938 [00:16<00:25, 21.68it/s]"
     ]
    },
    {
     "name": "stdout",
     "output_type": "stream",
     "text": [
      "{'epoch': 12, 'iter': 380, 'avg_loss': 1.4765688684668754, 'avg_acc': 54.560367454068235, 'loss': 1.5489907264709473}\n"
     ]
    },
    {
     "name": "stderr",
     "output_type": "stream",
     "text": [
      "EP_train:12:  42%|| 396/938 [00:16<00:22, 24.27it/s]"
     ]
    },
    {
     "name": "stdout",
     "output_type": "stream",
     "text": [
      "{'epoch': 12, 'iter': 390, 'avg_loss': 1.4781118332577483, 'avg_acc': 54.63554987212276, 'loss': 1.4638689756393433}\n"
     ]
    },
    {
     "name": "stderr",
     "output_type": "stream",
     "text": [
      "EP_train:12:  43%|| 405/938 [00:17<00:20, 25.93it/s]"
     ]
    },
    {
     "name": "stdout",
     "output_type": "stream",
     "text": [
      "{'epoch': 12, 'iter': 400, 'avg_loss': 1.4790211615717024, 'avg_acc': 54.58229426433915, 'loss': 1.4163014888763428}\n"
     ]
    },
    {
     "name": "stderr",
     "output_type": "stream",
     "text": [
      "EP_train:12:  44%|| 414/938 [00:17<00:19, 26.49it/s]"
     ]
    },
    {
     "name": "stdout",
     "output_type": "stream",
     "text": [
      "{'epoch': 12, 'iter': 410, 'avg_loss': 1.4786239305551905, 'avg_acc': 54.592457420924575, 'loss': 1.5803496837615967}\n"
     ]
    },
    {
     "name": "stderr",
     "output_type": "stream",
     "text": [
      "EP_train:12:  45%|| 421/938 [00:17<00:19, 26.92it/s]"
     ]
    },
    {
     "name": "stdout",
     "output_type": "stream",
     "text": [
      "{'epoch': 12, 'iter': 420, 'avg_loss': 1.4780498108784546, 'avg_acc': 54.55017814726841, 'loss': 1.3567918539047241}\n"
     ]
    },
    {
     "name": "stderr",
     "output_type": "stream",
     "text": [
      "EP_train:12:  46%|| 436/938 [00:18<00:20, 24.89it/s]"
     ]
    },
    {
     "name": "stdout",
     "output_type": "stream",
     "text": [
      "{'epoch': 12, 'iter': 430, 'avg_loss': 1.478942908986262, 'avg_acc': 54.57511600928074, 'loss': 1.4394633769989014}\n"
     ]
    },
    {
     "name": "stderr",
     "output_type": "stream",
     "text": [
      "EP_train:12:  47%|| 445/938 [00:18<00:18, 26.96it/s]"
     ]
    },
    {
     "name": "stdout",
     "output_type": "stream",
     "text": [
      "{'epoch': 12, 'iter': 440, 'avg_loss': 1.4777200462596487, 'avg_acc': 54.53514739229025, 'loss': 1.4049818515777588}\n"
     ]
    },
    {
     "name": "stderr",
     "output_type": "stream",
     "text": [
      "EP_train:12:  48%|| 454/938 [00:19<00:18, 26.84it/s]"
     ]
    },
    {
     "name": "stdout",
     "output_type": "stream",
     "text": [
      "{'epoch': 12, 'iter': 450, 'avg_loss': 1.4773485464954588, 'avg_acc': 54.4830931263858, 'loss': 1.4387768507003784}\n"
     ]
    },
    {
     "name": "stderr",
     "output_type": "stream",
     "text": [
      "EP_train:12:  49%|| 463/938 [00:19<00:17, 27.38it/s]"
     ]
    },
    {
     "name": "stdout",
     "output_type": "stream",
     "text": [
      "{'epoch': 12, 'iter': 460, 'avg_loss': 1.4760068807581241, 'avg_acc': 54.37906724511931, 'loss': 1.2567182779312134}\n"
     ]
    },
    {
     "name": "stderr",
     "output_type": "stream",
     "text": [
      "EP_train:12:  51%|| 475/938 [00:19<00:16, 27.74it/s]"
     ]
    },
    {
     "name": "stdout",
     "output_type": "stream",
     "text": [
      "{'epoch': 12, 'iter': 470, 'avg_loss': 1.4752134709854288, 'avg_acc': 54.4254246284501, 'loss': 1.53705894947052}\n"
     ]
    },
    {
     "name": "stderr",
     "output_type": "stream",
     "text": [
      "EP_train:12:  52%|| 484/938 [00:20<00:21, 21.56it/s]"
     ]
    },
    {
     "name": "stdout",
     "output_type": "stream",
     "text": [
      "{'epoch': 12, 'iter': 480, 'avg_loss': 1.4756156030167165, 'avg_acc': 54.28794178794178, 'loss': 1.7188308238983154}\n"
     ]
    },
    {
     "name": "stderr",
     "output_type": "stream",
     "text": [
      "EP_train:12:  53%|| 496/938 [00:20<00:17, 24.82it/s]"
     ]
    },
    {
     "name": "stdout",
     "output_type": "stream",
     "text": [
      "{'epoch': 12, 'iter': 490, 'avg_loss': 1.4766295303395227, 'avg_acc': 54.2387983706721, 'loss': 1.3173710107803345}\n"
     ]
    },
    {
     "name": "stderr",
     "output_type": "stream",
     "text": [
      "EP_train:12:  54%|| 505/938 [00:21<00:17, 25.14it/s]"
     ]
    },
    {
     "name": "stdout",
     "output_type": "stream",
     "text": [
      "{'epoch': 12, 'iter': 500, 'avg_loss': 1.4766133445465637, 'avg_acc': 54.17914171656687, 'loss': 1.4391535520553589}\n"
     ]
    },
    {
     "name": "stderr",
     "output_type": "stream",
     "text": [
      "EP_train:12:  55%|| 514/938 [00:21<00:16, 25.43it/s]"
     ]
    },
    {
     "name": "stdout",
     "output_type": "stream",
     "text": [
      "{'epoch': 12, 'iter': 510, 'avg_loss': 1.4762493542262487, 'avg_acc': 54.170743639921724, 'loss': 1.649338960647583}\n"
     ]
    },
    {
     "name": "stderr",
     "output_type": "stream",
     "text": [
      "EP_train:12:  56%|| 526/938 [00:21<00:14, 27.86it/s]"
     ]
    },
    {
     "name": "stdout",
     "output_type": "stream",
     "text": [
      "{'epoch': 12, 'iter': 520, 'avg_loss': 1.4760497513293305, 'avg_acc': 54.168666026871406, 'loss': 1.636160969734192}\n"
     ]
    },
    {
     "name": "stderr",
     "output_type": "stream",
     "text": [
      "EP_train:12:  57%|| 535/938 [00:22<00:18, 21.51it/s]"
     ]
    },
    {
     "name": "stdout",
     "output_type": "stream",
     "text": [
      "{'epoch': 12, 'iter': 530, 'avg_loss': 1.4759837085917844, 'avg_acc': 54.149011299435024, 'loss': 1.2062369585037231}\n"
     ]
    },
    {
     "name": "stderr",
     "output_type": "stream",
     "text": [
      "EP_train:12:  58%|| 544/938 [00:22<00:16, 23.79it/s]"
     ]
    },
    {
     "name": "stdout",
     "output_type": "stream",
     "text": [
      "{'epoch': 12, 'iter': 540, 'avg_loss': 1.477192517128978, 'avg_acc': 54.182070240295744, 'loss': 1.6396335363388062}\n"
     ]
    },
    {
     "name": "stderr",
     "output_type": "stream",
     "text": [
      "EP_train:12:  59%|| 553/938 [00:23<00:15, 24.72it/s]"
     ]
    },
    {
     "name": "stdout",
     "output_type": "stream",
     "text": [
      "{'epoch': 12, 'iter': 550, 'avg_loss': 1.4771111643249457, 'avg_acc': 54.16288566243194, 'loss': 1.3608157634735107}\n"
     ]
    },
    {
     "name": "stderr",
     "output_type": "stream",
     "text": [
      "EP_train:12:  60%|| 565/938 [00:23<00:14, 25.14it/s]"
     ]
    },
    {
     "name": "stdout",
     "output_type": "stream",
     "text": [
      "{'epoch': 12, 'iter': 560, 'avg_loss': 1.4779282340816422, 'avg_acc': 54.161096256684495, 'loss': 1.592337965965271}\n"
     ]
    },
    {
     "name": "stderr",
     "output_type": "stream",
     "text": [
      "EP_train:12:  61%|| 574/938 [00:23<00:14, 25.02it/s]"
     ]
    },
    {
     "name": "stdout",
     "output_type": "stream",
     "text": [
      "{'epoch': 12, 'iter': 570, 'avg_loss': 1.4777896446020924, 'avg_acc': 54.2031523642732, 'loss': 1.3726810216903687}\n"
     ]
    },
    {
     "name": "stderr",
     "output_type": "stream",
     "text": [
      "EP_train:12:  62%|| 583/938 [00:24<00:18, 18.69it/s]"
     ]
    },
    {
     "name": "stdout",
     "output_type": "stream",
     "text": [
      "{'epoch': 12, 'iter': 580, 'avg_loss': 1.478328988597233, 'avg_acc': 54.28141135972461, 'loss': 1.5745046138763428}\n"
     ]
    },
    {
     "name": "stderr",
     "output_type": "stream",
     "text": [
      "EP_train:12:  63%|| 595/938 [00:24<00:14, 23.70it/s]"
     ]
    },
    {
     "name": "stdout",
     "output_type": "stream",
     "text": [
      "{'epoch': 12, 'iter': 590, 'avg_loss': 1.4780633687569606, 'avg_acc': 54.33058375634518, 'loss': 1.4785792827606201}\n"
     ]
    },
    {
     "name": "stderr",
     "output_type": "stream",
     "text": [
      "EP_train:12:  64%|| 604/938 [00:25<00:13, 25.35it/s]"
     ]
    },
    {
     "name": "stdout",
     "output_type": "stream",
     "text": [
      "{'epoch': 12, 'iter': 600, 'avg_loss': 1.477652152048768, 'avg_acc': 54.430116472545755, 'loss': 1.4131373167037964}\n"
     ]
    },
    {
     "name": "stderr",
     "output_type": "stream",
     "text": [
      "EP_train:12:  66%|| 616/938 [00:25<00:12, 25.48it/s]"
     ]
    },
    {
     "name": "stdout",
     "output_type": "stream",
     "text": [
      "{'epoch': 12, 'iter': 610, 'avg_loss': 1.4787233228964423, 'avg_acc': 54.40875613747954, 'loss': 1.642814040184021}\n"
     ]
    },
    {
     "name": "stderr",
     "output_type": "stream",
     "text": [
      "EP_train:12:  67%|| 625/938 [00:26<00:12, 25.33it/s]"
     ]
    },
    {
     "name": "stdout",
     "output_type": "stream",
     "text": [
      "{'epoch': 12, 'iter': 620, 'avg_loss': 1.4783094676028512, 'avg_acc': 54.47866344605475, 'loss': 1.493119478225708}\n"
     ]
    },
    {
     "name": "stderr",
     "output_type": "stream",
     "text": [
      "EP_train:12:  68%|| 634/938 [00:26<00:12, 24.78it/s]"
     ]
    },
    {
     "name": "stdout",
     "output_type": "stream",
     "text": [
      "{'epoch': 12, 'iter': 630, 'avg_loss': 1.4782051730269297, 'avg_acc': 54.55625990491284, 'loss': 1.4356920719146729}\n"
     ]
    },
    {
     "name": "stderr",
     "output_type": "stream",
     "text": [
      "EP_train:12:  69%|| 646/938 [00:27<00:12, 22.52it/s]"
     ]
    },
    {
     "name": "stdout",
     "output_type": "stream",
     "text": [
      "{'epoch': 12, 'iter': 640, 'avg_loss': 1.4786190822976242, 'avg_acc': 54.5729329173167, 'loss': 1.5108822584152222}\n"
     ]
    },
    {
     "name": "stderr",
     "output_type": "stream",
     "text": [
      "EP_train:12:  70%|| 655/938 [00:27<00:11, 25.15it/s]"
     ]
    },
    {
     "name": "stdout",
     "output_type": "stream",
     "text": [
      "{'epoch': 12, 'iter': 650, 'avg_loss': 1.479998992518529, 'avg_acc': 54.521889400921665, 'loss': 1.7688207626342773}\n"
     ]
    },
    {
     "name": "stderr",
     "output_type": "stream",
     "text": [
      "EP_train:12:  71%|| 664/938 [00:27<00:10, 26.61it/s]"
     ]
    },
    {
     "name": "stdout",
     "output_type": "stream",
     "text": [
      "{'epoch': 12, 'iter': 660, 'avg_loss': 1.4791183015402074, 'avg_acc': 54.53857791225416, 'loss': 1.432023525238037}\n"
     ]
    },
    {
     "name": "stderr",
     "output_type": "stream",
     "text": [
      "EP_train:12:  72%|| 673/938 [00:28<00:10, 25.16it/s]"
     ]
    },
    {
     "name": "stdout",
     "output_type": "stream",
     "text": [
      "{'epoch': 12, 'iter': 670, 'avg_loss': 1.4789797934618862, 'avg_acc': 54.49422503725783, 'loss': 1.744266390800476}\n"
     ]
    },
    {
     "name": "stderr",
     "output_type": "stream",
     "text": [
      "EP_train:12:  73%|| 685/938 [00:28<00:09, 25.96it/s]"
     ]
    },
    {
     "name": "stdout",
     "output_type": "stream",
     "text": [
      "{'epoch': 12, 'iter': 680, 'avg_loss': 1.4791447435356622, 'avg_acc': 54.464941262848754, 'loss': 1.4758572578430176}\n"
     ]
    },
    {
     "name": "stderr",
     "output_type": "stream",
     "text": [
      "EP_train:12:  74%|| 694/938 [00:29<00:12, 20.03it/s]"
     ]
    },
    {
     "name": "stdout",
     "output_type": "stream",
     "text": [
      "{'epoch': 12, 'iter': 690, 'avg_loss': 1.478216856157383, 'avg_acc': 54.49529667149059, 'loss': 1.3896417617797852}\n"
     ]
    },
    {
     "name": "stderr",
     "output_type": "stream",
     "text": [
      "EP_train:12:  75%|| 706/938 [00:29<00:09, 23.55it/s]"
     ]
    },
    {
     "name": "stdout",
     "output_type": "stream",
     "text": [
      "{'epoch': 12, 'iter': 700, 'avg_loss': 1.4785918152111233, 'avg_acc': 54.471291012838805, 'loss': 1.4693080186843872}\n"
     ]
    },
    {
     "name": "stderr",
     "output_type": "stream",
     "text": [
      "EP_train:12:  76%|| 712/938 [00:29<00:10, 21.90it/s]"
     ]
    },
    {
     "name": "stdout",
     "output_type": "stream",
     "text": [
      "{'epoch': 12, 'iter': 710, 'avg_loss': 1.4775114543997956, 'avg_acc': 54.483122362869196, 'loss': 1.351537823677063}\n"
     ]
    },
    {
     "name": "stderr",
     "output_type": "stream",
     "text": [
      "EP_train:12:  77%|| 724/938 [00:30<00:09, 22.15it/s]"
     ]
    },
    {
     "name": "stdout",
     "output_type": "stream",
     "text": [
      "{'epoch': 12, 'iter': 720, 'avg_loss': 1.4763207050368459, 'avg_acc': 54.41660887656033, 'loss': 1.5000818967819214}\n"
     ]
    },
    {
     "name": "stderr",
     "output_type": "stream",
     "text": [
      "EP_train:12:  78%|| 733/938 [00:30<00:10, 20.37it/s]"
     ]
    },
    {
     "name": "stdout",
     "output_type": "stream",
     "text": [
      "{'epoch': 12, 'iter': 730, 'avg_loss': 1.4768585928813867, 'avg_acc': 54.42458960328317, 'loss': 1.5664056539535522}\n"
     ]
    },
    {
     "name": "stderr",
     "output_type": "stream",
     "text": [
      "EP_train:12:  79%|| 743/938 [00:31<00:11, 16.99it/s]"
     ]
    },
    {
     "name": "stdout",
     "output_type": "stream",
     "text": [
      "{'epoch': 12, 'iter': 740, 'avg_loss': 1.476116204551357, 'avg_acc': 54.41970310391363, 'loss': 1.4279003143310547}\n"
     ]
    },
    {
     "name": "stderr",
     "output_type": "stream",
     "text": [
      "EP_train:12:  80%|| 754/938 [00:31<00:09, 20.24it/s]"
     ]
    },
    {
     "name": "stdout",
     "output_type": "stream",
     "text": [
      "{'epoch': 12, 'iter': 750, 'avg_loss': 1.4763319144712466, 'avg_acc': 54.444074567243675, 'loss': 1.4089291095733643}\n"
     ]
    },
    {
     "name": "stderr",
     "output_type": "stream",
     "text": [
      "EP_train:12:  81%|| 763/938 [00:32<00:08, 20.76it/s]"
     ]
    },
    {
     "name": "stdout",
     "output_type": "stream",
     "text": [
      "{'epoch': 12, 'iter': 760, 'avg_loss': 1.4756151581875754, 'avg_acc': 54.512976346911955, 'loss': 1.5038193464279175}\n"
     ]
    },
    {
     "name": "stderr",
     "output_type": "stream",
     "text": [
      "EP_train:12:  83%|| 775/938 [00:32<00:06, 25.36it/s]"
     ]
    },
    {
     "name": "stdout",
     "output_type": "stream",
     "text": [
      "{'epoch': 12, 'iter': 770, 'avg_loss': 1.4756592056012185, 'avg_acc': 54.519293125810634, 'loss': 1.3318079710006714}\n"
     ]
    },
    {
     "name": "stderr",
     "output_type": "stream",
     "text": [
      "EP_train:12:  84%|| 787/938 [00:33<00:05, 27.39it/s]"
     ]
    },
    {
     "name": "stdout",
     "output_type": "stream",
     "text": [
      "{'epoch': 12, 'iter': 780, 'avg_loss': 1.4761845844197976, 'avg_acc': 54.50544174135723, 'loss': 1.8078840970993042}\n"
     ]
    },
    {
     "name": "stderr",
     "output_type": "stream",
     "text": [
      "EP_train:12:  85%|| 793/938 [00:33<00:06, 21.29it/s]"
     ]
    },
    {
     "name": "stdout",
     "output_type": "stream",
     "text": [
      "{'epoch': 12, 'iter': 790, 'avg_loss': 1.4754967671429313, 'avg_acc': 54.51564475347661, 'loss': 1.6271193027496338}\n"
     ]
    },
    {
     "name": "stderr",
     "output_type": "stream",
     "text": [
      "EP_train:12:  86%|| 805/938 [00:34<00:05, 23.70it/s]"
     ]
    },
    {
     "name": "stdout",
     "output_type": "stream",
     "text": [
      "{'epoch': 12, 'iter': 800, 'avg_loss': 1.4749227653579617, 'avg_acc': 54.56850811485643, 'loss': 1.5231690406799316}\n"
     ]
    },
    {
     "name": "stderr",
     "output_type": "stream",
     "text": [
      "EP_train:12:  87%|| 814/938 [00:34<00:05, 24.46it/s]"
     ]
    },
    {
     "name": "stdout",
     "output_type": "stream",
     "text": [
      "{'epoch': 12, 'iter': 810, 'avg_loss': 1.4739558036759515, 'avg_acc': 54.54300246609125, 'loss': 1.4804372787475586}\n"
     ]
    },
    {
     "name": "stderr",
     "output_type": "stream",
     "text": [
      "EP_train:12:  88%|| 826/938 [00:34<00:04, 26.15it/s]"
     ]
    },
    {
     "name": "stdout",
     "output_type": "stream",
     "text": [
      "{'epoch': 12, 'iter': 820, 'avg_loss': 1.474864163729799, 'avg_acc': 54.552375152253354, 'loss': 1.549991250038147}\n"
     ]
    },
    {
     "name": "stderr",
     "output_type": "stream",
     "text": [
      "EP_train:12:  89%|| 835/938 [00:35<00:04, 25.74it/s]"
     ]
    },
    {
     "name": "stdout",
     "output_type": "stream",
     "text": [
      "{'epoch': 12, 'iter': 830, 'avg_loss': 1.4747988969697274, 'avg_acc': 54.535198555956676, 'loss': 1.5864970684051514}\n"
     ]
    },
    {
     "name": "stderr",
     "output_type": "stream",
     "text": [
      "EP_train:12:  90%|| 844/938 [00:35<00:04, 19.73it/s]"
     ]
    },
    {
     "name": "stdout",
     "output_type": "stream",
     "text": [
      "{'epoch': 12, 'iter': 840, 'avg_loss': 1.474665618963389, 'avg_acc': 54.507282996432814, 'loss': 1.2360260486602783}\n"
     ]
    },
    {
     "name": "stderr",
     "output_type": "stream",
     "text": [
      "EP_train:12:  91%|| 853/938 [00:36<00:04, 20.98it/s]"
     ]
    },
    {
     "name": "stdout",
     "output_type": "stream",
     "text": [
      "{'epoch': 12, 'iter': 850, 'avg_loss': 1.4745092463409297, 'avg_acc': 54.524089306697995, 'loss': 1.4808158874511719}\n"
     ]
    },
    {
     "name": "stderr",
     "output_type": "stream",
     "text": [
      "EP_train:12:  92%|| 865/938 [00:36<00:03, 22.29it/s]"
     ]
    },
    {
     "name": "stdout",
     "output_type": "stream",
     "text": [
      "{'epoch': 12, 'iter': 860, 'avg_loss': 1.4745458015581456, 'avg_acc': 54.533246225319395, 'loss': 1.5933228731155396}\n"
     ]
    },
    {
     "name": "stderr",
     "output_type": "stream",
     "text": [
      "EP_train:12:  93%|| 874/938 [00:37<00:02, 22.99it/s]"
     ]
    },
    {
     "name": "stdout",
     "output_type": "stream",
     "text": [
      "{'epoch': 12, 'iter': 870, 'avg_loss': 1.4751741471438402, 'avg_acc': 54.545780711825486, 'loss': 1.583059310913086}\n"
     ]
    },
    {
     "name": "stderr",
     "output_type": "stream",
     "text": [
      "EP_train:12:  94%|| 883/938 [00:37<00:02, 21.97it/s]"
     ]
    },
    {
     "name": "stdout",
     "output_type": "stream",
     "text": [
      "{'epoch': 12, 'iter': 880, 'avg_loss': 1.4747378360670351, 'avg_acc': 54.561577752553916, 'loss': 1.6749591827392578}\n"
     ]
    },
    {
     "name": "stderr",
     "output_type": "stream",
     "text": [
      "EP_train:12:  95%|| 895/938 [00:38<00:02, 19.23it/s]"
     ]
    },
    {
     "name": "stdout",
     "output_type": "stream",
     "text": [
      "{'epoch': 12, 'iter': 890, 'avg_loss': 1.4749503067446879, 'avg_acc': 54.527918069584736, 'loss': 1.3618450164794922}\n"
     ]
    },
    {
     "name": "stderr",
     "output_type": "stream",
     "text": [
      "EP_train:12:  96%|| 904/938 [00:38<00:01, 21.61it/s]"
     ]
    },
    {
     "name": "stdout",
     "output_type": "stream",
     "text": [
      "{'epoch': 12, 'iter': 900, 'avg_loss': 1.474440767286091, 'avg_acc': 54.54009433962265, 'loss': 1.6455925703048706}\n"
     ]
    },
    {
     "name": "stderr",
     "output_type": "stream",
     "text": [
      "EP_train:12:  97%|| 913/938 [00:39<00:01, 22.37it/s]"
     ]
    },
    {
     "name": "stdout",
     "output_type": "stream",
     "text": [
      "{'epoch': 12, 'iter': 910, 'avg_loss': 1.473889338721559, 'avg_acc': 54.56915477497256, 'loss': 1.4711675643920898}\n"
     ]
    },
    {
     "name": "stderr",
     "output_type": "stream",
     "text": [
      "EP_train:12:  99%|| 925/938 [00:39<00:00, 23.76it/s]"
     ]
    },
    {
     "name": "stdout",
     "output_type": "stream",
     "text": [
      "{'epoch': 12, 'iter': 920, 'avg_loss': 1.4737676217682845, 'avg_acc': 54.55347448425625, 'loss': 1.6559092998504639}\n"
     ]
    },
    {
     "name": "stderr",
     "output_type": "stream",
     "text": [
      "EP_train:12:  99%|| 933/938 [00:40<00:00, 17.37it/s]"
     ]
    },
    {
     "name": "stdout",
     "output_type": "stream",
     "text": [
      "{'epoch': 12, 'iter': 930, 'avg_loss': 1.47429948654646, 'avg_acc': 54.59183673469388, 'loss': 1.6581863164901733}\n"
     ]
    },
    {
     "name": "stderr",
     "output_type": "stream",
     "text": [
      "EP_train:12: 100%|| 938/938 [00:40<00:00, 23.26it/s]\n"
     ]
    },
    {
     "name": "stdout",
     "output_type": "stream",
     "text": [
      "EP12, train:             avg_loss=1.4742244654881167,             total_acc=54.5781927309103\n"
     ]
    },
    {
     "name": "stderr",
     "output_type": "stream",
     "text": [
      "EP_train:13:   0%|| 2/938 [00:00<00:46, 19.92it/s]"
     ]
    },
    {
     "name": "stdout",
     "output_type": "stream",
     "text": [
      "{'epoch': 13, 'iter': 0, 'avg_loss': 1.597126841545105, 'avg_acc': 53.125, 'loss': 1.597126841545105}\n"
     ]
    },
    {
     "name": "stderr",
     "output_type": "stream",
     "text": [
      "EP_train:13:   1%|| 14/938 [00:00<00:40, 23.04it/s]"
     ]
    },
    {
     "name": "stdout",
     "output_type": "stream",
     "text": [
      "{'epoch': 13, 'iter': 10, 'avg_loss': 1.5469040112061934, 'avg_acc': 53.69318181818182, 'loss': 1.694404125213623}\n"
     ]
    },
    {
     "name": "stderr",
     "output_type": "stream",
     "text": [
      "EP_train:13:   2%|| 23/938 [00:01<00:38, 23.54it/s]"
     ]
    },
    {
     "name": "stdout",
     "output_type": "stream",
     "text": [
      "{'epoch': 13, 'iter': 20, 'avg_loss': 1.5153681550707137, 'avg_acc': 55.80357142857143, 'loss': 1.4546133279800415}\n"
     ]
    },
    {
     "name": "stderr",
     "output_type": "stream",
     "text": [
      "EP_train:13:   4%|| 35/938 [00:01<00:48, 18.75it/s]"
     ]
    },
    {
     "name": "stdout",
     "output_type": "stream",
     "text": [
      "{'epoch': 13, 'iter': 30, 'avg_loss': 1.4603611077031782, 'avg_acc': 54.13306451612904, 'loss': 1.2364106178283691}\n"
     ]
    },
    {
     "name": "stderr",
     "output_type": "stream",
     "text": [
      "EP_train:13:   5%|| 44/938 [00:02<00:42, 21.09it/s]"
     ]
    },
    {
     "name": "stdout",
     "output_type": "stream",
     "text": [
      "{'epoch': 13, 'iter': 40, 'avg_loss': 1.4757057253907366, 'avg_acc': 55.640243902439025, 'loss': 1.697279453277588}\n"
     ]
    },
    {
     "name": "stderr",
     "output_type": "stream",
     "text": [
      "EP_train:13:   6%|| 56/938 [00:02<00:38, 23.13it/s]"
     ]
    },
    {
     "name": "stdout",
     "output_type": "stream",
     "text": [
      "{'epoch': 13, 'iter': 50, 'avg_loss': 1.4725883264167636, 'avg_acc': 54.96323529411765, 'loss': 1.6891804933547974}\n"
     ]
    },
    {
     "name": "stderr",
     "output_type": "stream",
     "text": [
      "EP_train:13:   7%|| 65/938 [00:02<00:37, 23.12it/s]"
     ]
    },
    {
     "name": "stdout",
     "output_type": "stream",
     "text": [
      "{'epoch': 13, 'iter': 60, 'avg_loss': 1.465608022252067, 'avg_acc': 54.96926229508197, 'loss': 1.4489736557006836}\n"
     ]
    },
    {
     "name": "stderr",
     "output_type": "stream",
     "text": [
      "EP_train:13:   8%|| 74/938 [00:03<00:35, 24.37it/s]"
     ]
    },
    {
     "name": "stdout",
     "output_type": "stream",
     "text": [
      "{'epoch': 13, 'iter': 70, 'avg_loss': 1.4676490635939048, 'avg_acc': 55.06161971830986, 'loss': 1.4509406089782715}\n"
     ]
    },
    {
     "name": "stderr",
     "output_type": "stream",
     "text": [
      "EP_train:13:   9%|| 86/938 [00:03<00:37, 22.83it/s]"
     ]
    },
    {
     "name": "stdout",
     "output_type": "stream",
     "text": [
      "{'epoch': 13, 'iter': 80, 'avg_loss': 1.4821640164763838, 'avg_acc': 54.66820987654321, 'loss': 1.5124021768569946}\n"
     ]
    },
    {
     "name": "stderr",
     "output_type": "stream",
     "text": [
      "EP_train:13:  10%|| 95/938 [00:04<00:34, 24.45it/s]"
     ]
    },
    {
     "name": "stdout",
     "output_type": "stream",
     "text": [
      "{'epoch': 13, 'iter': 90, 'avg_loss': 1.481403418949672, 'avg_acc': 54.84203296703297, 'loss': 1.5099914073944092}\n"
     ]
    },
    {
     "name": "stderr",
     "output_type": "stream",
     "text": [
      "EP_train:13:  11%|| 104/938 [00:04<00:33, 25.16it/s]"
     ]
    },
    {
     "name": "stdout",
     "output_type": "stream",
     "text": [
      "{'epoch': 13, 'iter': 100, 'avg_loss': 1.4836270254437287, 'avg_acc': 54.73391089108911, 'loss': 1.2036728858947754}\n"
     ]
    },
    {
     "name": "stderr",
     "output_type": "stream",
     "text": [
      "EP_train:13:  12%|| 116/938 [00:05<00:30, 26.75it/s]"
     ]
    },
    {
     "name": "stdout",
     "output_type": "stream",
     "text": [
      "{'epoch': 13, 'iter': 110, 'avg_loss': 1.4790731550336957, 'avg_acc': 55.03941441441441, 'loss': 1.7098667621612549}\n"
     ]
    },
    {
     "name": "stderr",
     "output_type": "stream",
     "text": [
      "EP_train:13:  13%|| 126/938 [00:05<00:29, 27.99it/s]"
     ]
    },
    {
     "name": "stdout",
     "output_type": "stream",
     "text": [
      "{'epoch': 13, 'iter': 120, 'avg_loss': 1.4775532119530292, 'avg_acc': 54.88119834710744, 'loss': 1.4760346412658691}\n"
     ]
    },
    {
     "name": "stderr",
     "output_type": "stream",
     "text": [
      "EP_train:13:  14%|| 135/938 [00:05<00:37, 21.66it/s]"
     ]
    },
    {
     "name": "stdout",
     "output_type": "stream",
     "text": [
      "{'epoch': 13, 'iter': 130, 'avg_loss': 1.4787661974666684, 'avg_acc': 54.961832061068705, 'loss': 1.4404454231262207}\n"
     ]
    },
    {
     "name": "stderr",
     "output_type": "stream",
     "text": [
      "EP_train:13:  15%|| 144/938 [00:06<00:32, 24.65it/s]"
     ]
    },
    {
     "name": "stdout",
     "output_type": "stream",
     "text": [
      "{'epoch': 13, 'iter': 140, 'avg_loss': 1.4784318014239588, 'avg_acc': 55.18617021276596, 'loss': 1.5832101106643677}\n"
     ]
    },
    {
     "name": "stderr",
     "output_type": "stream",
     "text": [
      "EP_train:13:  16%|| 153/938 [00:06<00:30, 26.14it/s]"
     ]
    },
    {
     "name": "stdout",
     "output_type": "stream",
     "text": [
      "{'epoch': 13, 'iter': 150, 'avg_loss': 1.4755983842129738, 'avg_acc': 55.318708609271525, 'loss': 1.1444417238235474}\n"
     ]
    },
    {
     "name": "stderr",
     "output_type": "stream",
     "text": [
      "EP_train:13:  18%|| 165/938 [00:06<00:27, 27.91it/s]"
     ]
    },
    {
     "name": "stdout",
     "output_type": "stream",
     "text": [
      "{'epoch': 13, 'iter': 160, 'avg_loss': 1.4715571758909995, 'avg_acc': 55.53183229813664, 'loss': 1.5216001272201538}\n"
     ]
    },
    {
     "name": "stderr",
     "output_type": "stream",
     "text": [
      "EP_train:13:  19%|| 177/938 [00:07<00:26, 28.30it/s]"
     ]
    },
    {
     "name": "stdout",
     "output_type": "stream",
     "text": [
      "{'epoch': 13, 'iter': 170, 'avg_loss': 1.4728018310334947, 'avg_acc': 55.48245614035088, 'loss': 1.4482842683792114}\n"
     ]
    },
    {
     "name": "stderr",
     "output_type": "stream",
     "text": [
      "EP_train:13:  20%|| 183/938 [00:07<00:35, 21.27it/s]"
     ]
    },
    {
     "name": "stdout",
     "output_type": "stream",
     "text": [
      "{'epoch': 13, 'iter': 180, 'avg_loss': 1.4727851389521394, 'avg_acc': 55.473066298342545, 'loss': 1.3131940364837646}\n"
     ]
    },
    {
     "name": "stderr",
     "output_type": "stream",
     "text": [
      "EP_train:13:  21%|| 195/938 [00:08<00:31, 23.50it/s]"
     ]
    },
    {
     "name": "stdout",
     "output_type": "stream",
     "text": [
      "{'epoch': 13, 'iter': 190, 'avg_loss': 1.4734413099538592, 'avg_acc': 55.38285340314136, 'loss': 1.3120614290237427}\n"
     ]
    },
    {
     "name": "stderr",
     "output_type": "stream",
     "text": [
      "EP_train:13:  22%|| 204/938 [00:08<00:31, 23.05it/s]"
     ]
    },
    {
     "name": "stdout",
     "output_type": "stream",
     "text": [
      "{'epoch': 13, 'iter': 200, 'avg_loss': 1.4716382299489643, 'avg_acc': 55.31716417910447, 'loss': 1.576812982559204}\n"
     ]
    },
    {
     "name": "stderr",
     "output_type": "stream",
     "text": [
      "EP_train:13:  23%|| 216/938 [00:09<00:29, 24.56it/s]"
     ]
    },
    {
     "name": "stdout",
     "output_type": "stream",
     "text": [
      "{'epoch': 13, 'iter': 210, 'avg_loss': 1.4695612971816583, 'avg_acc': 55.36137440758294, 'loss': 1.479852318763733}\n"
     ]
    },
    {
     "name": "stderr",
     "output_type": "stream",
     "text": [
      "EP_train:13:  24%|| 225/938 [00:09<00:29, 24.37it/s]"
     ]
    },
    {
     "name": "stdout",
     "output_type": "stream",
     "text": [
      "{'epoch': 13, 'iter': 220, 'avg_loss': 1.4685541887628546, 'avg_acc': 55.585407239819006, 'loss': 1.5050420761108398}\n"
     ]
    },
    {
     "name": "stderr",
     "output_type": "stream",
     "text": [
      "EP_train:13:  25%|| 234/938 [00:09<00:32, 21.72it/s]"
     ]
    },
    {
     "name": "stdout",
     "output_type": "stream",
     "text": [
      "{'epoch': 13, 'iter': 230, 'avg_loss': 1.4668238735818244, 'avg_acc': 55.43831168831169, 'loss': 1.6151034832000732}\n"
     ]
    },
    {
     "name": "stderr",
     "output_type": "stream",
     "text": [
      "EP_train:13:  26%|| 246/938 [00:10<00:26, 25.70it/s]"
     ]
    },
    {
     "name": "stdout",
     "output_type": "stream",
     "text": [
      "{'epoch': 13, 'iter': 240, 'avg_loss': 1.4643317421442246, 'avg_acc': 55.32935684647303, 'loss': 1.5237892866134644}\n"
     ]
    },
    {
     "name": "stderr",
     "output_type": "stream",
     "text": [
      "EP_train:13:  27%|| 255/938 [00:10<00:25, 26.80it/s]"
     ]
    },
    {
     "name": "stdout",
     "output_type": "stream",
     "text": [
      "{'epoch': 13, 'iter': 250, 'avg_loss': 1.4638466778029484, 'avg_acc': 55.25398406374502, 'loss': 1.4208518266677856}\n"
     ]
    },
    {
     "name": "stderr",
     "output_type": "stream",
     "text": [
      "EP_train:13:  28%|| 264/938 [00:11<00:25, 26.68it/s]"
     ]
    },
    {
     "name": "stdout",
     "output_type": "stream",
     "text": [
      "{'epoch': 13, 'iter': 260, 'avg_loss': 1.4638058371927547, 'avg_acc': 55.23227969348659, 'loss': 1.3995983600616455}\n"
     ]
    },
    {
     "name": "stderr",
     "output_type": "stream",
     "text": [
      "EP_train:13:  29%|| 276/938 [00:11<00:29, 22.12it/s]"
     ]
    },
    {
     "name": "stdout",
     "output_type": "stream",
     "text": [
      "{'epoch': 13, 'iter': 270, 'avg_loss': 1.4641101782612256, 'avg_acc': 55.30442804428044, 'loss': 1.1873022317886353}\n"
     ]
    },
    {
     "name": "stderr",
     "output_type": "stream",
     "text": [
      "EP_train:13:  30%|| 285/938 [00:12<00:26, 24.84it/s]"
     ]
    },
    {
     "name": "stdout",
     "output_type": "stream",
     "text": [
      "{'epoch': 13, 'iter': 280, 'avg_loss': 1.4640029032459463, 'avg_acc': 55.260231316725985, 'loss': 1.6614084243774414}\n"
     ]
    },
    {
     "name": "stderr",
     "output_type": "stream",
     "text": [
      "EP_train:13:  31%|| 295/938 [00:12<00:24, 26.69it/s]"
     ]
    },
    {
     "name": "stdout",
     "output_type": "stream",
     "text": [
      "{'epoch': 13, 'iter': 290, 'avg_loss': 1.4626103242238362, 'avg_acc': 55.2942439862543, 'loss': 1.3188871145248413}\n"
     ]
    },
    {
     "name": "stderr",
     "output_type": "stream",
     "text": [
      "EP_train:13:  33%|| 307/938 [00:12<00:22, 27.52it/s]"
     ]
    },
    {
     "name": "stdout",
     "output_type": "stream",
     "text": [
      "{'epoch': 13, 'iter': 300, 'avg_loss': 1.4631673327316082, 'avg_acc': 55.211794019933556, 'loss': 1.3270916938781738}\n"
     ]
    },
    {
     "name": "stderr",
     "output_type": "stream",
     "text": [
      "EP_train:13:  34%|| 316/938 [00:13<00:22, 28.18it/s]"
     ]
    },
    {
     "name": "stdout",
     "output_type": "stream",
     "text": [
      "{'epoch': 13, 'iter': 310, 'avg_loss': 1.4608345890351813, 'avg_acc': 55.064308681672024, 'loss': 1.2340844869613647}\n"
     ]
    },
    {
     "name": "stderr",
     "output_type": "stream",
     "text": [
      "EP_train:13:  35%|| 325/938 [00:13<00:27, 22.62it/s]"
     ]
    },
    {
     "name": "stdout",
     "output_type": "stream",
     "text": [
      "{'epoch': 13, 'iter': 320, 'avg_loss': 1.460719802297907, 'avg_acc': 54.83839563862928, 'loss': 1.6112957000732422}\n"
     ]
    },
    {
     "name": "stderr",
     "output_type": "stream",
     "text": [
      "EP_train:13:  36%|| 334/938 [00:13<00:23, 25.51it/s]"
     ]
    },
    {
     "name": "stdout",
     "output_type": "stream",
     "text": [
      "{'epoch': 13, 'iter': 330, 'avg_loss': 1.4594357240596207, 'avg_acc': 54.86216012084593, 'loss': 1.513352632522583}\n"
     ]
    },
    {
     "name": "stderr",
     "output_type": "stream",
     "text": [
      "EP_train:13:  37%|| 346/938 [00:14<00:21, 27.95it/s]"
     ]
    },
    {
     "name": "stdout",
     "output_type": "stream",
     "text": [
      "{'epoch': 13, 'iter': 340, 'avg_loss': 1.4603390494399755, 'avg_acc': 54.86620234604106, 'loss': 1.3005961179733276}\n"
     ]
    },
    {
     "name": "stderr",
     "output_type": "stream",
     "text": [
      "EP_train:13:  38%|| 355/938 [00:14<00:21, 27.29it/s]"
     ]
    },
    {
     "name": "stdout",
     "output_type": "stream",
     "text": [
      "{'epoch': 13, 'iter': 350, 'avg_loss': 1.4587097697787814, 'avg_acc': 54.95014245014245, 'loss': 1.5698691606521606}\n"
     ]
    },
    {
     "name": "stderr",
     "output_type": "stream",
     "text": [
      "EP_train:13:  39%|| 364/938 [00:15<00:21, 26.31it/s]"
     ]
    },
    {
     "name": "stdout",
     "output_type": "stream",
     "text": [
      "{'epoch': 13, 'iter': 360, 'avg_loss': 1.460444380041635, 'avg_acc': 54.960180055401665, 'loss': 1.5869938135147095}\n"
     ]
    },
    {
     "name": "stderr",
     "output_type": "stream",
     "text": [
      "EP_train:13:  40%|| 373/938 [00:15<00:29, 19.03it/s]"
     ]
    },
    {
     "name": "stdout",
     "output_type": "stream",
     "text": [
      "{'epoch': 13, 'iter': 370, 'avg_loss': 1.4591677445928364, 'avg_acc': 54.851752021563335, 'loss': 1.4769954681396484}\n"
     ]
    },
    {
     "name": "stderr",
     "output_type": "stream",
     "text": [
      "EP_train:13:  41%|| 385/938 [00:16<00:25, 21.84it/s]"
     ]
    },
    {
     "name": "stdout",
     "output_type": "stream",
     "text": [
      "{'epoch': 13, 'iter': 380, 'avg_loss': 1.4595890986950693, 'avg_acc': 54.814632545931765, 'loss': 1.1679877042770386}\n"
     ]
    },
    {
     "name": "stderr",
     "output_type": "stream",
     "text": [
      "EP_train:13:  42%|| 394/938 [00:16<00:23, 22.97it/s]"
     ]
    },
    {
     "name": "stdout",
     "output_type": "stream",
     "text": [
      "{'epoch': 13, 'iter': 390, 'avg_loss': 1.4579721689224243, 'avg_acc': 54.79539641943734, 'loss': 1.3503094911575317}\n"
     ]
    },
    {
     "name": "stderr",
     "output_type": "stream",
     "text": [
      "EP_train:13:  43%|| 406/938 [00:17<00:22, 23.97it/s]"
     ]
    },
    {
     "name": "stdout",
     "output_type": "stream",
     "text": [
      "{'epoch': 13, 'iter': 400, 'avg_loss': 1.458651377970441, 'avg_acc': 54.71477556109726, 'loss': 1.7289518117904663}\n"
     ]
    },
    {
     "name": "stderr",
     "output_type": "stream",
     "text": [
      "EP_train:13:  44%|| 412/938 [00:17<00:21, 24.37it/s]"
     ]
    },
    {
     "name": "stdout",
     "output_type": "stream",
     "text": [
      "{'epoch': 13, 'iter': 410, 'avg_loss': 1.4603970874545058, 'avg_acc': 54.69130170316302, 'loss': 1.4064770936965942}\n"
     ]
    },
    {
     "name": "stderr",
     "output_type": "stream",
     "text": [
      "EP_train:13:  45%|| 424/938 [00:17<00:21, 23.77it/s]"
     ]
    },
    {
     "name": "stdout",
     "output_type": "stream",
     "text": [
      "{'epoch': 13, 'iter': 420, 'avg_loss': 1.4609905039612867, 'avg_acc': 54.63182897862233, 'loss': 1.5036256313323975}\n"
     ]
    },
    {
     "name": "stderr",
     "output_type": "stream",
     "text": [
      "EP_train:13:  46%|| 434/938 [00:18<00:19, 26.12it/s]"
     ]
    },
    {
     "name": "stdout",
     "output_type": "stream",
     "text": [
      "{'epoch': 13, 'iter': 430, 'avg_loss': 1.46225482294565, 'avg_acc': 54.65487238979119, 'loss': 1.3648905754089355}\n"
     ]
    },
    {
     "name": "stderr",
     "output_type": "stream",
     "text": [
      "EP_train:13:  48%|| 447/938 [00:18<00:17, 28.87it/s]"
     ]
    },
    {
     "name": "stdout",
     "output_type": "stream",
     "text": [
      "{'epoch': 13, 'iter': 440, 'avg_loss': 1.4635825213931857, 'avg_acc': 54.6485260770975, 'loss': 1.6743841171264648}\n"
     ]
    },
    {
     "name": "stderr",
     "output_type": "stream",
     "text": [
      "EP_train:13:  49%|| 456/938 [00:18<00:17, 27.09it/s]"
     ]
    },
    {
     "name": "stdout",
     "output_type": "stream",
     "text": [
      "{'epoch': 13, 'iter': 450, 'avg_loss': 1.4643430807638063, 'avg_acc': 54.58702882483371, 'loss': 1.4467540979385376}\n"
     ]
    },
    {
     "name": "stderr",
     "output_type": "stream",
     "text": [
      "EP_train:13:  50%|| 465/938 [00:19<00:20, 22.53it/s]"
     ]
    },
    {
     "name": "stdout",
     "output_type": "stream",
     "text": [
      "{'epoch': 13, 'iter': 460, 'avg_loss': 1.4660090766604708, 'avg_acc': 54.46719088937093, 'loss': 1.6432669162750244}\n"
     ]
    },
    {
     "name": "stderr",
     "output_type": "stream",
     "text": [
      "EP_train:13:  51%|| 474/938 [00:19<00:18, 25.43it/s]"
     ]
    },
    {
     "name": "stdout",
     "output_type": "stream",
     "text": [
      "{'epoch': 13, 'iter': 470, 'avg_loss': 1.4678289280322454, 'avg_acc': 54.451963906581746, 'loss': 1.5117038488388062}\n"
     ]
    },
    {
     "name": "stderr",
     "output_type": "stream",
     "text": [
      "EP_train:13:  52%|| 486/938 [00:20<00:16, 28.02it/s]"
     ]
    },
    {
     "name": "stdout",
     "output_type": "stream",
     "text": [
      "{'epoch': 13, 'iter': 480, 'avg_loss': 1.4663189510793546, 'avg_acc': 54.567307692307686, 'loss': 1.5603359937667847}\n"
     ]
    },
    {
     "name": "stderr",
     "output_type": "stream",
     "text": [
      "EP_train:13:  53%|| 495/938 [00:20<00:16, 26.80it/s]"
     ]
    },
    {
     "name": "stdout",
     "output_type": "stream",
     "text": [
      "{'epoch': 13, 'iter': 490, 'avg_loss': 1.46605798887381, 'avg_acc': 54.49974541751528, 'loss': 1.4285377264022827}\n"
     ]
    },
    {
     "name": "stderr",
     "output_type": "stream",
     "text": [
      "EP_train:13:  54%|| 504/938 [00:20<00:17, 25.08it/s]"
     ]
    },
    {
     "name": "stdout",
     "output_type": "stream",
     "text": [
      "{'epoch': 13, 'iter': 500, 'avg_loss': 1.4672316729189632, 'avg_acc': 54.58458083832335, 'loss': 1.6092885732650757}\n"
     ]
    },
    {
     "name": "stderr",
     "output_type": "stream",
     "text": [
      "EP_train:13:  55%|| 513/938 [00:21<00:22, 19.02it/s]"
     ]
    },
    {
     "name": "stdout",
     "output_type": "stream",
     "text": [
      "{'epoch': 13, 'iter': 510, 'avg_loss': 1.4672707928136837, 'avg_acc': 54.56213307240705, 'loss': 1.4492886066436768}\n"
     ]
    },
    {
     "name": "stderr",
     "output_type": "stream",
     "text": [
      "EP_train:13:  56%|| 525/938 [00:21<00:17, 23.77it/s]"
     ]
    },
    {
     "name": "stdout",
     "output_type": "stream",
     "text": [
      "{'epoch': 13, 'iter': 520, 'avg_loss': 1.4669520816052486, 'avg_acc': 54.57053742802304, 'loss': 1.563114047050476}\n"
     ]
    },
    {
     "name": "stderr",
     "output_type": "stream",
     "text": [
      "EP_train:13:  57%|| 535/938 [00:22<00:14, 26.98it/s]"
     ]
    },
    {
     "name": "stdout",
     "output_type": "stream",
     "text": [
      "{'epoch': 13, 'iter': 530, 'avg_loss': 1.4665604293234156, 'avg_acc': 54.61393596986818, 'loss': 1.6535415649414062}\n"
     ]
    },
    {
     "name": "stderr",
     "output_type": "stream",
     "text": [
      "EP_train:13:  58%|| 546/938 [00:22<00:13, 28.34it/s]"
     ]
    },
    {
     "name": "stdout",
     "output_type": "stream",
     "text": [
      "{'epoch': 13, 'iter': 540, 'avg_loss': 1.4677205138638367, 'avg_acc': 54.66150646950092, 'loss': 1.5639679431915283}\n"
     ]
    },
    {
     "name": "stderr",
     "output_type": "stream",
     "text": [
      "EP_train:13:  59%|| 555/938 [00:22<00:13, 27.76it/s]"
     ]
    },
    {
     "name": "stdout",
     "output_type": "stream",
     "text": [
      "{'epoch': 13, 'iter': 550, 'avg_loss': 1.4685109481621135, 'avg_acc': 54.707350272232304, 'loss': 1.5129023790359497}\n"
     ]
    },
    {
     "name": "stderr",
     "output_type": "stream",
     "text": [
      "EP_train:13:  60%|| 564/938 [00:23<00:16, 22.38it/s]"
     ]
    },
    {
     "name": "stdout",
     "output_type": "stream",
     "text": [
      "{'epoch': 13, 'iter': 560, 'avg_loss': 1.467417033810879, 'avg_acc': 54.65129233511586, 'loss': 1.5525397062301636}\n"
     ]
    },
    {
     "name": "stderr",
     "output_type": "stream",
     "text": [
      "EP_train:13:  61%|| 573/938 [00:23<00:14, 25.68it/s]"
     ]
    },
    {
     "name": "stdout",
     "output_type": "stream",
     "text": [
      "{'epoch': 13, 'iter': 570, 'avg_loss': 1.4664803350869495, 'avg_acc': 54.64645359019264, 'loss': 1.3234001398086548}\n"
     ]
    },
    {
     "name": "stderr",
     "output_type": "stream",
     "text": [
      "EP_train:13:  62%|| 586/938 [00:24<00:12, 27.81it/s]"
     ]
    },
    {
     "name": "stdout",
     "output_type": "stream",
     "text": [
      "{'epoch': 13, 'iter': 580, 'avg_loss': 1.4659402216568256, 'avg_acc': 54.73321858864028, 'loss': 1.4232479333877563}\n"
     ]
    },
    {
     "name": "stderr",
     "output_type": "stream",
     "text": [
      "EP_train:13:  63%|| 595/938 [00:24<00:12, 28.17it/s]"
     ]
    },
    {
     "name": "stdout",
     "output_type": "stream",
     "text": [
      "{'epoch': 13, 'iter': 590, 'avg_loss': 1.466870612097674, 'avg_acc': 54.69014382402707, 'loss': 1.4063876867294312}\n"
     ]
    },
    {
     "name": "stderr",
     "output_type": "stream",
     "text": [
      "EP_train:13:  64%|| 604/938 [00:24<00:12, 27.77it/s]"
     ]
    },
    {
     "name": "stdout",
     "output_type": "stream",
     "text": [
      "{'epoch': 13, 'iter': 600, 'avg_loss': 1.4675629129028955, 'avg_acc': 54.70049916805324, 'loss': 1.5167027711868286}\n"
     ]
    },
    {
     "name": "stderr",
     "output_type": "stream",
     "text": [
      "EP_train:13:  66%|| 616/938 [00:25<00:13, 23.77it/s]"
     ]
    },
    {
     "name": "stdout",
     "output_type": "stream",
     "text": [
      "{'epoch': 13, 'iter': 610, 'avg_loss': 1.4669800473898404, 'avg_acc': 54.60310965630114, 'loss': 1.3483490943908691}\n"
     ]
    },
    {
     "name": "stderr",
     "output_type": "stream",
     "text": [
      "EP_train:13:  67%|| 625/938 [00:25<00:11, 26.30it/s]"
     ]
    },
    {
     "name": "stdout",
     "output_type": "stream",
     "text": [
      "{'epoch': 13, 'iter': 620, 'avg_loss': 1.4670866242161504, 'avg_acc': 54.539049919484704, 'loss': 1.2913848161697388}\n"
     ]
    },
    {
     "name": "stderr",
     "output_type": "stream",
     "text": [
      "EP_train:13:  68%|| 635/938 [00:26<00:11, 26.22it/s]"
     ]
    },
    {
     "name": "stdout",
     "output_type": "stream",
     "text": [
      "{'epoch': 13, 'iter': 630, 'avg_loss': 1.4670500959344976, 'avg_acc': 54.50673534072901, 'loss': 1.647706389427185}\n"
     ]
    },
    {
     "name": "stderr",
     "output_type": "stream",
     "text": [
      "EP_train:13:  69%|| 644/938 [00:26<00:11, 25.21it/s]"
     ]
    },
    {
     "name": "stdout",
     "output_type": "stream",
     "text": [
      "{'epoch': 13, 'iter': 640, 'avg_loss': 1.466625851327655, 'avg_acc': 54.5729329173167, 'loss': 1.4860200881958008}\n"
     ]
    },
    {
     "name": "stderr",
     "output_type": "stream",
     "text": [
      "EP_train:13:  70%|| 656/938 [00:27<00:12, 21.88it/s]"
     ]
    },
    {
     "name": "stdout",
     "output_type": "stream",
     "text": [
      "{'epoch': 13, 'iter': 650, 'avg_loss': 1.4669134583890713, 'avg_acc': 54.53629032258065, 'loss': 1.5970075130462646}\n"
     ]
    },
    {
     "name": "stderr",
     "output_type": "stream",
     "text": [
      "EP_train:13:  71%|| 665/938 [00:27<00:10, 25.39it/s]"
     ]
    },
    {
     "name": "stdout",
     "output_type": "stream",
     "text": [
      "{'epoch': 13, 'iter': 660, 'avg_loss': 1.4682311360666502, 'avg_acc': 54.50075642965204, 'loss': 1.6502255201339722}\n"
     ]
    },
    {
     "name": "stderr",
     "output_type": "stream",
     "text": [
      "EP_train:13:  72%|| 675/938 [00:27<00:09, 26.97it/s]"
     ]
    },
    {
     "name": "stdout",
     "output_type": "stream",
     "text": [
      "{'epoch': 13, 'iter': 670, 'avg_loss': 1.468607360133471, 'avg_acc': 54.582712369597616, 'loss': 1.4112151861190796}\n"
     ]
    },
    {
     "name": "stderr",
     "output_type": "stream",
     "text": [
      "EP_train:13:  73%|| 684/938 [00:28<00:09, 27.50it/s]"
     ]
    },
    {
     "name": "stdout",
     "output_type": "stream",
     "text": [
      "{'epoch': 13, 'iter': 680, 'avg_loss': 1.4676402471139043, 'avg_acc': 54.57507342143906, 'loss': 1.1433287858963013}\n"
     ]
    },
    {
     "name": "stderr",
     "output_type": "stream",
     "text": [
      "EP_train:13:  74%|| 693/938 [00:28<00:12, 20.36it/s]"
     ]
    },
    {
     "name": "stdout",
     "output_type": "stream",
     "text": [
      "{'epoch': 13, 'iter': 690, 'avg_loss': 1.4679584879261023, 'avg_acc': 54.5767004341534, 'loss': 1.5728096961975098}\n"
     ]
    },
    {
     "name": "stderr",
     "output_type": "stream",
     "text": [
      "EP_train:13:  75%|| 705/938 [00:28<00:09, 25.20it/s]"
     ]
    },
    {
     "name": "stdout",
     "output_type": "stream",
     "text": [
      "{'epoch': 13, 'iter': 700, 'avg_loss': 1.467499618183359, 'avg_acc': 54.61394436519258, 'loss': 1.5249624252319336}\n"
     ]
    },
    {
     "name": "stderr",
     "output_type": "stream",
     "text": [
      "EP_train:13:  76%|| 715/938 [00:29<00:08, 27.43it/s]"
     ]
    },
    {
     "name": "stdout",
     "output_type": "stream",
     "text": [
      "{'epoch': 13, 'iter': 710, 'avg_loss': 1.4689925191439321, 'avg_acc': 54.63255977496484, 'loss': 1.3440977334976196}\n"
     ]
    },
    {
     "name": "stderr",
     "output_type": "stream",
     "text": [
      "EP_train:13:  77%|| 726/938 [00:29<00:07, 28.72it/s]"
     ]
    },
    {
     "name": "stdout",
     "output_type": "stream",
     "text": [
      "{'epoch': 13, 'iter': 720, 'avg_loss': 1.4689260471545047, 'avg_acc': 54.66799583911235, 'loss': 1.6708223819732666}\n"
     ]
    },
    {
     "name": "stderr",
     "output_type": "stream",
     "text": [
      "EP_train:13:  78%|| 736/938 [00:30<00:06, 28.95it/s]"
     ]
    },
    {
     "name": "stdout",
     "output_type": "stream",
     "text": [
      "{'epoch': 13, 'iter': 730, 'avg_loss': 1.4682034740043568, 'avg_acc': 54.655437756497946, 'loss': 1.4484260082244873}\n"
     ]
    },
    {
     "name": "stderr",
     "output_type": "stream",
     "text": [
      "EP_train:13:  79%|| 742/938 [00:30<00:09, 20.45it/s]"
     ]
    },
    {
     "name": "stdout",
     "output_type": "stream",
     "text": [
      "{'epoch': 13, 'iter': 740, 'avg_loss': 1.4677575421236788, 'avg_acc': 54.64321862348178, 'loss': 1.5401910543441772}\n"
     ]
    },
    {
     "name": "stderr",
     "output_type": "stream",
     "text": [
      "EP_train:13:  80%|| 754/938 [00:30<00:07, 25.23it/s]"
     ]
    },
    {
     "name": "stdout",
     "output_type": "stream",
     "text": [
      "{'epoch': 13, 'iter': 750, 'avg_loss': 1.4675679437012552, 'avg_acc': 54.63132490013316, 'loss': 1.6035856008529663}\n"
     ]
    },
    {
     "name": "stderr",
     "output_type": "stream",
     "text": [
      "EP_train:13:  82%|| 765/938 [00:31<00:06, 28.23it/s]"
     ]
    },
    {
     "name": "stdout",
     "output_type": "stream",
     "text": [
      "{'epoch': 13, 'iter': 760, 'avg_loss': 1.4683634511118022, 'avg_acc': 54.61563731931669, 'loss': 1.4092106819152832}\n"
     ]
    },
    {
     "name": "stderr",
     "output_type": "stream",
     "text": [
      "EP_train:13:  83%|| 774/938 [00:31<00:06, 27.30it/s]"
     ]
    },
    {
     "name": "stdout",
     "output_type": "stream",
     "text": [
      "{'epoch': 13, 'iter': 770, 'avg_loss': 1.4687145099565677, 'avg_acc': 54.55982490272373, 'loss': 1.457986831665039}\n"
     ]
    },
    {
     "name": "stderr",
     "output_type": "stream",
     "text": [
      "EP_train:13:  84%|| 786/938 [00:31<00:05, 28.09it/s]"
     ]
    },
    {
     "name": "stdout",
     "output_type": "stream",
     "text": [
      "{'epoch': 13, 'iter': 780, 'avg_loss': 1.4687454324983604, 'avg_acc': 54.54945582586428, 'loss': 1.4349734783172607}\n"
     ]
    },
    {
     "name": "stderr",
     "output_type": "stream",
     "text": [
      "EP_train:13:  84%|| 792/938 [00:32<00:07, 20.64it/s]"
     ]
    },
    {
     "name": "stdout",
     "output_type": "stream",
     "text": [
      "{'epoch': 13, 'iter': 790, 'avg_loss': 1.4686452894837756, 'avg_acc': 54.57095448798989, 'loss': 1.5109992027282715}\n"
     ]
    },
    {
     "name": "stderr",
     "output_type": "stream",
     "text": [
      "EP_train:13:  86%|| 804/938 [00:32<00:05, 24.26it/s]"
     ]
    },
    {
     "name": "stdout",
     "output_type": "stream",
     "text": [
      "{'epoch': 13, 'iter': 800, 'avg_loss': 1.4686405017283675, 'avg_acc': 54.5919163545568, 'loss': 1.1873016357421875}\n"
     ]
    },
    {
     "name": "stderr",
     "output_type": "stream",
     "text": [
      "EP_train:13:  87%|| 813/938 [00:33<00:05, 24.53it/s]"
     ]
    },
    {
     "name": "stdout",
     "output_type": "stream",
     "text": [
      "{'epoch': 13, 'iter': 810, 'avg_loss': 1.468486511163441, 'avg_acc': 54.57768187422934, 'loss': 1.374172329902649}\n"
     ]
    },
    {
     "name": "stderr",
     "output_type": "stream",
     "text": [
      "EP_train:13:  88%|| 825/938 [00:33<00:04, 25.29it/s]"
     ]
    },
    {
     "name": "stdout",
     "output_type": "stream",
     "text": [
      "{'epoch': 13, 'iter': 820, 'avg_loss': 1.46831404799811, 'avg_acc': 54.59424482338612, 'loss': 1.494332194328308}\n"
     ]
    },
    {
     "name": "stderr",
     "output_type": "stream",
     "text": [
      "EP_train:13:  89%|| 831/938 [00:33<00:04, 24.06it/s]"
     ]
    },
    {
     "name": "stdout",
     "output_type": "stream",
     "text": [
      "{'epoch': 13, 'iter': 830, 'avg_loss': 1.4682199276454755, 'avg_acc': 54.62169073405535, 'loss': 1.4965455532073975}\n"
     ]
    },
    {
     "name": "stderr",
     "output_type": "stream",
     "text": [
      "EP_train:13:  90%|| 847/938 [00:34<00:03, 24.54it/s]"
     ]
    },
    {
     "name": "stdout",
     "output_type": "stream",
     "text": [
      "{'epoch': 13, 'iter': 840, 'avg_loss': 1.4685769564473246, 'avg_acc': 54.577883472057074, 'loss': 1.2612779140472412}\n"
     ]
    },
    {
     "name": "stderr",
     "output_type": "stream",
     "text": [
      "EP_train:13:  91%|| 857/938 [00:35<00:02, 27.20it/s]"
     ]
    },
    {
     "name": "stdout",
     "output_type": "stream",
     "text": [
      "{'epoch': 13, 'iter': 850, 'avg_loss': 1.4698249860880097, 'avg_acc': 54.560810810810814, 'loss': 1.3996989727020264}\n"
     ]
    },
    {
     "name": "stderr",
     "output_type": "stream",
     "text": [
      "EP_train:13:  92%|| 863/938 [00:35<00:02, 26.98it/s]"
     ]
    },
    {
     "name": "stdout",
     "output_type": "stream",
     "text": [
      "{'epoch': 13, 'iter': 860, 'avg_loss': 1.4701502829893955, 'avg_acc': 54.562282229965156, 'loss': 1.5193372964859009}\n"
     ]
    },
    {
     "name": "stderr",
     "output_type": "stream",
     "text": [
      "EP_train:13:  93%|| 877/938 [00:35<00:02, 28.72it/s]"
     ]
    },
    {
     "name": "stdout",
     "output_type": "stream",
     "text": [
      "{'epoch': 13, 'iter': 870, 'avg_loss': 1.4701541652635646, 'avg_acc': 54.53142939150402, 'loss': 1.6018534898757935}\n"
     ]
    },
    {
     "name": "stderr",
     "output_type": "stream",
     "text": [
      "EP_train:13:  94%|| 883/938 [00:36<00:02, 22.09it/s]"
     ]
    },
    {
     "name": "stdout",
     "output_type": "stream",
     "text": [
      "{'epoch': 13, 'iter': 880, 'avg_loss': 1.470827570703054, 'avg_acc': 54.53674801362089, 'loss': 1.5501692295074463}\n"
     ]
    },
    {
     "name": "stderr",
     "output_type": "stream",
     "text": [
      "EP_train:13:  95%|| 895/938 [00:36<00:01, 25.06it/s]"
     ]
    },
    {
     "name": "stdout",
     "output_type": "stream",
     "text": [
      "{'epoch': 13, 'iter': 890, 'avg_loss': 1.470699704991179, 'avg_acc': 54.54896184062851, 'loss': 1.6475027799606323}\n"
     ]
    },
    {
     "name": "stderr",
     "output_type": "stream",
     "text": [
      "EP_train:13:  96%|| 904/938 [00:36<00:01, 25.76it/s]"
     ]
    },
    {
     "name": "stdout",
     "output_type": "stream",
     "text": [
      "{'epoch': 13, 'iter': 900, 'avg_loss': 1.4709792818530947, 'avg_acc': 54.560904550499444, 'loss': 1.451148271560669}\n"
     ]
    },
    {
     "name": "stderr",
     "output_type": "stream",
     "text": [
      "EP_train:13:  97%|| 913/938 [00:37<00:01, 24.02it/s]"
     ]
    },
    {
     "name": "stdout",
     "output_type": "stream",
     "text": [
      "{'epoch': 13, 'iter': 910, 'avg_loss': 1.4710664811956111, 'avg_acc': 54.51770032930845, 'loss': 1.328028917312622}\n"
     ]
    },
    {
     "name": "stderr",
     "output_type": "stream",
     "text": [
      "EP_train:13:  99%|| 925/938 [00:37<00:00, 22.90it/s]"
     ]
    },
    {
     "name": "stdout",
     "output_type": "stream",
     "text": [
      "{'epoch': 13, 'iter': 920, 'avg_loss': 1.4713766314696024, 'avg_acc': 54.55347448425625, 'loss': 1.5937302112579346}\n"
     ]
    },
    {
     "name": "stderr",
     "output_type": "stream",
     "text": [
      "EP_train:13: 100%|| 934/938 [00:38<00:00, 19.65it/s]"
     ]
    },
    {
     "name": "stdout",
     "output_type": "stream",
     "text": [
      "{'epoch': 13, 'iter': 930, 'avg_loss': 1.4714806638137867, 'avg_acc': 54.58176691729323, 'loss': 1.3795371055603027}\n"
     ]
    },
    {
     "name": "stderr",
     "output_type": "stream",
     "text": [
      "EP_train:13: 100%|| 938/938 [00:38<00:00, 24.40it/s]\n"
     ]
    },
    {
     "name": "stdout",
     "output_type": "stream",
     "text": [
      "EP13, train:             avg_loss=1.4712326351259308,             total_acc=54.57485828609536\n"
     ]
    },
    {
     "name": "stderr",
     "output_type": "stream",
     "text": [
      "EP_train:14:   0%|| 3/938 [00:00<00:43, 21.73it/s]"
     ]
    },
    {
     "name": "stdout",
     "output_type": "stream",
     "text": [
      "{'epoch': 14, 'iter': 0, 'avg_loss': 1.6582363843917847, 'avg_acc': 65.625, 'loss': 1.6582363843917847}\n"
     ]
    },
    {
     "name": "stderr",
     "output_type": "stream",
     "text": [
      "EP_train:14:   2%|| 16/938 [00:00<00:33, 27.53it/s]"
     ]
    },
    {
     "name": "stdout",
     "output_type": "stream",
     "text": [
      "{'epoch': 14, 'iter': 10, 'avg_loss': 1.5364438078620217, 'avg_acc': 58.23863636363637, 'loss': 1.612223505973816}\n"
     ]
    },
    {
     "name": "stderr",
     "output_type": "stream",
     "text": [
      "EP_train:14:   2%|| 23/938 [00:00<00:32, 28.44it/s]"
     ]
    },
    {
     "name": "stdout",
     "output_type": "stream",
     "text": [
      "{'epoch': 14, 'iter': 20, 'avg_loss': 1.5257928030831474, 'avg_acc': 53.422619047619044, 'loss': 1.6068369150161743}\n"
     ]
    },
    {
     "name": "stderr",
     "output_type": "stream",
     "text": [
      "EP_train:14:   4%|| 36/938 [00:01<00:35, 25.08it/s]"
     ]
    },
    {
     "name": "stdout",
     "output_type": "stream",
     "text": [
      "{'epoch': 14, 'iter': 30, 'avg_loss': 1.5171487254481162, 'avg_acc': 54.93951612903226, 'loss': 1.5025233030319214}\n"
     ]
    },
    {
     "name": "stderr",
     "output_type": "stream",
     "text": [
      "EP_train:14:   5%|| 45/938 [00:01<00:33, 26.45it/s]"
     ]
    },
    {
     "name": "stdout",
     "output_type": "stream",
     "text": [
      "{'epoch': 14, 'iter': 40, 'avg_loss': 1.507192579711356, 'avg_acc': 55.411585365853654, 'loss': 1.2747573852539062}\n"
     ]
    },
    {
     "name": "stderr",
     "output_type": "stream",
     "text": [
      "EP_train:14:   6%|| 56/938 [00:02<00:31, 27.85it/s]"
     ]
    },
    {
     "name": "stdout",
     "output_type": "stream",
     "text": [
      "{'epoch': 14, 'iter': 50, 'avg_loss': 1.4945167045967251, 'avg_acc': 56.74019607843137, 'loss': 1.6201205253601074}\n"
     ]
    },
    {
     "name": "stderr",
     "output_type": "stream",
     "text": [
      "EP_train:14:   7%|| 65/938 [00:02<00:31, 27.50it/s]"
     ]
    },
    {
     "name": "stdout",
     "output_type": "stream",
     "text": [
      "{'epoch': 14, 'iter': 60, 'avg_loss': 1.5009901914440218, 'avg_acc': 56.81352459016394, 'loss': 1.4679661989212036}\n"
     ]
    },
    {
     "name": "stderr",
     "output_type": "stream",
     "text": [
      "EP_train:14:   8%|| 74/938 [00:02<00:32, 26.49it/s]"
     ]
    },
    {
     "name": "stdout",
     "output_type": "stream",
     "text": [
      "{'epoch': 14, 'iter': 70, 'avg_loss': 1.5022245024291563, 'avg_acc': 56.690140845070424, 'loss': 1.431902289390564}\n"
     ]
    },
    {
     "name": "stderr",
     "output_type": "stream",
     "text": [
      "EP_train:14:   9%|| 86/938 [00:03<00:37, 22.89it/s]"
     ]
    },
    {
     "name": "stdout",
     "output_type": "stream",
     "text": [
      "{'epoch': 14, 'iter': 80, 'avg_loss': 1.4980619866171, 'avg_acc': 56.36574074074075, 'loss': 1.4294830560684204}\n"
     ]
    },
    {
     "name": "stderr",
     "output_type": "stream",
     "text": [
      "EP_train:14:  10%|| 95/938 [00:03<00:32, 25.55it/s]"
     ]
    },
    {
     "name": "stdout",
     "output_type": "stream",
     "text": [
      "{'epoch': 14, 'iter': 90, 'avg_loss': 1.4932025369707045, 'avg_acc': 55.940934065934066, 'loss': 1.2289273738861084}\n"
     ]
    },
    {
     "name": "stderr",
     "output_type": "stream",
     "text": [
      "EP_train:14:  11%|| 107/938 [00:04<00:30, 27.25it/s]"
     ]
    },
    {
     "name": "stdout",
     "output_type": "stream",
     "text": [
      "{'epoch': 14, 'iter': 100, 'avg_loss': 1.4952621247508737, 'avg_acc': 56.12623762376238, 'loss': 1.2617676258087158}\n"
     ]
    },
    {
     "name": "stderr",
     "output_type": "stream",
     "text": [
      "EP_train:14:  12%|| 113/938 [00:04<00:29, 27.58it/s]"
     ]
    },
    {
     "name": "stdout",
     "output_type": "stream",
     "text": [
      "{'epoch': 14, 'iter': 110, 'avg_loss': 1.4895669758856833, 'avg_acc': 55.968468468468465, 'loss': 1.3856309652328491}\n"
     ]
    },
    {
     "name": "stderr",
     "output_type": "stream",
     "text": [
      "EP_train:14:  13%|| 123/938 [00:04<00:37, 21.58it/s]"
     ]
    },
    {
     "name": "stdout",
     "output_type": "stream",
     "text": [
      "{'epoch': 14, 'iter': 120, 'avg_loss': 1.498231447432652, 'avg_acc': 56.146694214876035, 'loss': 1.5803468227386475}\n"
     ]
    },
    {
     "name": "stderr",
     "output_type": "stream",
     "text": [
      "EP_train:14:  14%|| 135/938 [00:05<00:31, 25.41it/s]"
     ]
    },
    {
     "name": "stdout",
     "output_type": "stream",
     "text": [
      "{'epoch': 14, 'iter': 130, 'avg_loss': 1.4979725093331955, 'avg_acc': 55.916030534351144, 'loss': 1.3356398344039917}\n"
     ]
    },
    {
     "name": "stderr",
     "output_type": "stream",
     "text": [
      "EP_train:14:  15%|| 145/938 [00:05<00:29, 27.32it/s]"
     ]
    },
    {
     "name": "stdout",
     "output_type": "stream",
     "text": [
      "{'epoch': 14, 'iter': 140, 'avg_loss': 1.4936656858904143, 'avg_acc': 55.6072695035461, 'loss': 1.5041180849075317}\n"
     ]
    },
    {
     "name": "stderr",
     "output_type": "stream",
     "text": [
      "EP_train:14:  16%|| 154/938 [00:06<00:28, 27.52it/s]"
     ]
    },
    {
     "name": "stdout",
     "output_type": "stream",
     "text": [
      "{'epoch': 14, 'iter': 150, 'avg_loss': 1.4922974733327399, 'avg_acc': 55.38079470198676, 'loss': 1.3826401233673096}\n"
     ]
    },
    {
     "name": "stderr",
     "output_type": "stream",
     "text": [
      "EP_train:14:  17%|| 163/938 [00:06<00:27, 27.79it/s]"
     ]
    },
    {
     "name": "stdout",
     "output_type": "stream",
     "text": [
      "{'epoch': 14, 'iter': 160, 'avg_loss': 1.4885407819510987, 'avg_acc': 55.434782608695656, 'loss': 1.388930082321167}\n"
     ]
    },
    {
     "name": "stderr",
     "output_type": "stream",
     "text": [
      "EP_train:14:  18%|| 173/938 [00:06<00:27, 27.80it/s]"
     ]
    },
    {
     "name": "stdout",
     "output_type": "stream",
     "text": [
      "{'epoch': 14, 'iter': 170, 'avg_loss': 1.4869134851366457, 'avg_acc': 55.208333333333336, 'loss': 1.3809592723846436}\n"
     ]
    },
    {
     "name": "stderr",
     "output_type": "stream",
     "text": [
      "EP_train:14:  20%|| 185/938 [00:07<00:33, 22.61it/s]"
     ]
    },
    {
     "name": "stdout",
     "output_type": "stream",
     "text": [
      "{'epoch': 14, 'iter': 180, 'avg_loss': 1.4888833221151025, 'avg_acc': 55.317679558011044, 'loss': 1.7220089435577393}\n"
     ]
    },
    {
     "name": "stderr",
     "output_type": "stream",
     "text": [
      "EP_train:14:  21%|| 196/938 [00:07<00:27, 26.84it/s]"
     ]
    },
    {
     "name": "stdout",
     "output_type": "stream",
     "text": [
      "{'epoch': 14, 'iter': 190, 'avg_loss': 1.4863864295769735, 'avg_acc': 55.28468586387435, 'loss': 1.3360939025878906}\n"
     ]
    },
    {
     "name": "stderr",
     "output_type": "stream",
     "text": [
      "EP_train:14:  22%|| 205/938 [00:08<00:26, 27.56it/s]"
     ]
    },
    {
     "name": "stdout",
     "output_type": "stream",
     "text": [
      "{'epoch': 14, 'iter': 200, 'avg_loss': 1.4864469576830888, 'avg_acc': 55.2860696517413, 'loss': 1.4562968015670776}\n"
     ]
    },
    {
     "name": "stderr",
     "output_type": "stream",
     "text": [
      "EP_train:14:  23%|| 214/938 [00:08<00:26, 27.43it/s]"
     ]
    },
    {
     "name": "stdout",
     "output_type": "stream",
     "text": [
      "{'epoch': 14, 'iter': 210, 'avg_loss': 1.485093787948102, 'avg_acc': 55.302132701421804, 'loss': 1.5429202318191528}\n"
     ]
    },
    {
     "name": "stderr",
     "output_type": "stream",
     "text": [
      "EP_train:14:  24%|| 224/938 [00:08<00:31, 22.49it/s]"
     ]
    },
    {
     "name": "stdout",
     "output_type": "stream",
     "text": [
      "{'epoch': 14, 'iter': 220, 'avg_loss': 1.4854631839294778, 'avg_acc': 55.203619909502265, 'loss': 1.6231656074523926}\n"
     ]
    },
    {
     "name": "stderr",
     "output_type": "stream",
     "text": [
      "EP_train:14:  25%|| 236/938 [00:09<00:28, 24.74it/s]"
     ]
    },
    {
     "name": "stdout",
     "output_type": "stream",
     "text": [
      "{'epoch': 14, 'iter': 230, 'avg_loss': 1.485718811229194, 'avg_acc': 55.04599567099567, 'loss': 1.5932096242904663}\n"
     ]
    },
    {
     "name": "stderr",
     "output_type": "stream",
     "text": [
      "EP_train:14:  26%|| 245/938 [00:09<00:27, 24.88it/s]"
     ]
    },
    {
     "name": "stdout",
     "output_type": "stream",
     "text": [
      "{'epoch': 14, 'iter': 240, 'avg_loss': 1.4863960104859222, 'avg_acc': 55.04408713692946, 'loss': 1.3962286710739136}\n"
     ]
    },
    {
     "name": "stderr",
     "output_type": "stream",
     "text": [
      "EP_train:14:  27%|| 254/938 [00:10<00:28, 24.32it/s]"
     ]
    },
    {
     "name": "stdout",
     "output_type": "stream",
     "text": [
      "{'epoch': 14, 'iter': 250, 'avg_loss': 1.4854115470947022, 'avg_acc': 54.967629482071715, 'loss': 1.3277698755264282}\n"
     ]
    },
    {
     "name": "stderr",
     "output_type": "stream",
     "text": [
      "EP_train:14:  28%|| 263/938 [00:10<00:33, 20.45it/s]"
     ]
    },
    {
     "name": "stdout",
     "output_type": "stream",
     "text": [
      "{'epoch': 14, 'iter': 260, 'avg_loss': 1.4845803825334571, 'avg_acc': 55.01676245210728, 'loss': 1.5033503770828247}\n"
     ]
    },
    {
     "name": "stderr",
     "output_type": "stream",
     "text": [
      "EP_train:14:  29%|| 276/938 [00:10<00:24, 26.78it/s]"
     ]
    },
    {
     "name": "stdout",
     "output_type": "stream",
     "text": [
      "{'epoch': 14, 'iter': 270, 'avg_loss': 1.4874362765203102, 'avg_acc': 55.06226937269373, 'loss': 1.8559726476669312}\n"
     ]
    },
    {
     "name": "stderr",
     "output_type": "stream",
     "text": [
      "EP_train:14:  30%|| 285/938 [00:11<00:24, 26.91it/s]"
     ]
    },
    {
     "name": "stdout",
     "output_type": "stream",
     "text": [
      "{'epoch': 14, 'iter': 280, 'avg_loss': 1.4859102943189628, 'avg_acc': 55.14902135231316, 'loss': 1.3521966934204102}\n"
     ]
    },
    {
     "name": "stderr",
     "output_type": "stream",
     "text": [
      "EP_train:14:  31%|| 295/938 [00:11<00:23, 27.87it/s]"
     ]
    },
    {
     "name": "stdout",
     "output_type": "stream",
     "text": [
      "{'epoch': 14, 'iter': 290, 'avg_loss': 1.4854963837620319, 'avg_acc': 55.06872852233678, 'loss': 1.5760523080825806}\n"
     ]
    },
    {
     "name": "stderr",
     "output_type": "stream",
     "text": [
      "EP_train:14:  32%|| 304/938 [00:11<00:22, 27.61it/s]"
     ]
    },
    {
     "name": "stdout",
     "output_type": "stream",
     "text": [
      "{'epoch': 14, 'iter': 300, 'avg_loss': 1.4848201971909532, 'avg_acc': 55.00415282392026, 'loss': 1.4672108888626099}\n"
     ]
    },
    {
     "name": "stderr",
     "output_type": "stream",
     "text": [
      "EP_train:14:  33%|| 313/938 [00:12<00:27, 22.38it/s]"
     ]
    },
    {
     "name": "stdout",
     "output_type": "stream",
     "text": [
      "{'epoch': 14, 'iter': 310, 'avg_loss': 1.4840598807840868, 'avg_acc': 54.88344051446945, 'loss': 1.476455807685852}\n"
     ]
    },
    {
     "name": "stderr",
     "output_type": "stream",
     "text": [
      "EP_train:14:  35%|| 326/938 [00:12<00:22, 27.21it/s]"
     ]
    },
    {
     "name": "stdout",
     "output_type": "stream",
     "text": [
      "{'epoch': 14, 'iter': 320, 'avg_loss': 1.4831288481055762, 'avg_acc': 54.91627725856698, 'loss': 1.48662269115448}\n"
     ]
    },
    {
     "name": "stderr",
     "output_type": "stream",
     "text": [
      "EP_train:14:  36%|| 335/938 [00:13<00:22, 26.38it/s]"
     ]
    },
    {
     "name": "stdout",
     "output_type": "stream",
     "text": [
      "{'epoch': 14, 'iter': 330, 'avg_loss': 1.4829547030688053, 'avg_acc': 54.79607250755287, 'loss': 1.5790760517120361}\n"
     ]
    },
    {
     "name": "stderr",
     "output_type": "stream",
     "text": [
      "EP_train:14:  37%|| 347/938 [00:13<00:21, 27.88it/s]"
     ]
    },
    {
     "name": "stdout",
     "output_type": "stream",
     "text": [
      "{'epoch': 14, 'iter': 340, 'avg_loss': 1.4807053846348066, 'avg_acc': 54.93951612903226, 'loss': 1.6450366973876953}\n"
     ]
    },
    {
     "name": "stderr",
     "output_type": "stream",
     "text": [
      "EP_train:14:  38%|| 353/938 [00:13<00:22, 25.50it/s]"
     ]
    },
    {
     "name": "stdout",
     "output_type": "stream",
     "text": [
      "{'epoch': 14, 'iter': 350, 'avg_loss': 1.4809134485375168, 'avg_acc': 54.91452991452992, 'loss': 1.3437138795852661}\n"
     ]
    },
    {
     "name": "stderr",
     "output_type": "stream",
     "text": [
      "EP_train:14:  39%|| 365/938 [00:14<00:27, 20.95it/s]"
     ]
    },
    {
     "name": "stdout",
     "output_type": "stream",
     "text": [
      "{'epoch': 14, 'iter': 360, 'avg_loss': 1.4797849420695424, 'avg_acc': 54.9255540166205, 'loss': 1.4230116605758667}\n"
     ]
    },
    {
     "name": "stderr",
     "output_type": "stream",
     "text": [
      "EP_train:14:  40%|| 376/938 [00:14<00:21, 25.96it/s]"
     ]
    },
    {
     "name": "stdout",
     "output_type": "stream",
     "text": [
      "{'epoch': 14, 'iter': 370, 'avg_loss': 1.4796728760084372, 'avg_acc': 54.98652291105122, 'loss': 1.3400356769561768}\n"
     ]
    },
    {
     "name": "stderr",
     "output_type": "stream",
     "text": [
      "EP_train:14:  41%|| 385/938 [00:15<00:20, 27.00it/s]"
     ]
    },
    {
     "name": "stdout",
     "output_type": "stream",
     "text": [
      "{'epoch': 14, 'iter': 380, 'avg_loss': 1.479899551924758, 'avg_acc': 54.90485564304461, 'loss': 1.496938943862915}\n"
     ]
    },
    {
     "name": "stderr",
     "output_type": "stream",
     "text": [
      "EP_train:14:  42%|| 395/938 [00:15<00:19, 27.77it/s]"
     ]
    },
    {
     "name": "stdout",
     "output_type": "stream",
     "text": [
      "{'epoch': 14, 'iter': 390, 'avg_loss': 1.4807708571329141, 'avg_acc': 54.81937340153452, 'loss': 1.4985803365707397}\n"
     ]
    },
    {
     "name": "stderr",
     "output_type": "stream",
     "text": [
      "EP_train:14:  43%|| 402/938 [00:15<00:23, 23.08it/s]"
     ]
    },
    {
     "name": "stdout",
     "output_type": "stream",
     "text": [
      "{'epoch': 14, 'iter': 400, 'avg_loss': 1.4810043436630707, 'avg_acc': 54.816084788029926, 'loss': 1.3964250087738037}\n"
     ]
    },
    {
     "name": "stderr",
     "output_type": "stream",
     "text": [
      "EP_train:14:  44%|| 414/938 [00:16<00:21, 24.44it/s]"
     ]
    },
    {
     "name": "stdout",
     "output_type": "stream",
     "text": [
      "{'epoch': 14, 'iter': 410, 'avg_loss': 1.4819976877412078, 'avg_acc': 54.850973236009736, 'loss': 1.2904318571090698}\n"
     ]
    },
    {
     "name": "stderr",
     "output_type": "stream",
     "text": [
      "EP_train:14:  46%|| 427/938 [00:16<00:17, 28.58it/s]"
     ]
    },
    {
     "name": "stdout",
     "output_type": "stream",
     "text": [
      "{'epoch': 14, 'iter': 420, 'avg_loss': 1.479435908256404, 'avg_acc': 54.89904988123515, 'loss': 1.369946837425232}\n"
     ]
    },
    {
     "name": "stderr",
     "output_type": "stream",
     "text": [
      "EP_train:14:  46%|| 433/938 [00:17<00:18, 27.55it/s]"
     ]
    },
    {
     "name": "stdout",
     "output_type": "stream",
     "text": [
      "{'epoch': 14, 'iter': 430, 'avg_loss': 1.478932931362338, 'avg_acc': 54.97389791183295, 'loss': 1.165312647819519}\n"
     ]
    },
    {
     "name": "stderr",
     "output_type": "stream",
     "text": [
      "EP_train:14:  48%|| 446/938 [00:17<00:17, 28.86it/s]"
     ]
    },
    {
     "name": "stdout",
     "output_type": "stream",
     "text": [
      "{'epoch': 14, 'iter': 440, 'avg_loss': 1.4797578341836561, 'avg_acc': 54.93197278911565, 'loss': 1.6006007194519043}\n"
     ]
    },
    {
     "name": "stderr",
     "output_type": "stream",
     "text": [
      "EP_train:14:  48%|| 452/938 [00:17<00:17, 27.36it/s]"
     ]
    },
    {
     "name": "stdout",
     "output_type": "stream",
     "text": [
      "{'epoch': 14, 'iter': 450, 'avg_loss': 1.4794571309819189, 'avg_acc': 54.82954545454546, 'loss': 1.5251195430755615}\n"
     ]
    },
    {
     "name": "stderr",
     "output_type": "stream",
     "text": [
      "EP_train:14:  49%|| 464/938 [00:18<00:20, 23.42it/s]"
     ]
    },
    {
     "name": "stdout",
     "output_type": "stream",
     "text": [
      "{'epoch': 14, 'iter': 460, 'avg_loss': 1.4785249610785032, 'avg_acc': 54.74511930585684, 'loss': 1.324512243270874}\n"
     ]
    },
    {
     "name": "stderr",
     "output_type": "stream",
     "text": [
      "EP_train:14:  51%|| 476/938 [00:18<00:17, 26.68it/s]"
     ]
    },
    {
     "name": "stdout",
     "output_type": "stream",
     "text": [
      "{'epoch': 14, 'iter': 470, 'avg_loss': 1.479234723275381, 'avg_acc': 54.76380042462845, 'loss': 1.6147053241729736}\n"
     ]
    },
    {
     "name": "stderr",
     "output_type": "stream",
     "text": [
      "EP_train:14:  52%|| 485/938 [00:19<00:17, 26.34it/s]"
     ]
    },
    {
     "name": "stdout",
     "output_type": "stream",
     "text": [
      "{'epoch': 14, 'iter': 480, 'avg_loss': 1.4801811951361674, 'avg_acc': 54.729729729729726, 'loss': 1.8220845460891724}\n"
     ]
    },
    {
     "name": "stderr",
     "output_type": "stream",
     "text": [
      "EP_train:14:  53%|| 494/938 [00:19<00:17, 24.96it/s]"
     ]
    },
    {
     "name": "stdout",
     "output_type": "stream",
     "text": [
      "{'epoch': 14, 'iter': 490, 'avg_loss': 1.478379099286501, 'avg_acc': 54.7225050916497, 'loss': 1.3784618377685547}\n"
     ]
    },
    {
     "name": "stderr",
     "output_type": "stream",
     "text": [
      "EP_train:14:  54%|| 503/938 [00:20<00:24, 17.80it/s]"
     ]
    },
    {
     "name": "stdout",
     "output_type": "stream",
     "text": [
      "{'epoch': 14, 'iter': 500, 'avg_loss': 1.4785257044904485, 'avg_acc': 54.70309381237525, 'loss': 1.4382215738296509}\n"
     ]
    },
    {
     "name": "stderr",
     "output_type": "stream",
     "text": [
      "EP_train:14:  55%|| 515/938 [00:20<00:19, 21.73it/s]"
     ]
    },
    {
     "name": "stdout",
     "output_type": "stream",
     "text": [
      "{'epoch': 14, 'iter': 510, 'avg_loss': 1.4792762063953975, 'avg_acc': 54.64774951076321, 'loss': 1.2510355710983276}\n"
     ]
    },
    {
     "name": "stderr",
     "output_type": "stream",
     "text": [
      "EP_train:14:  56%|| 524/938 [00:21<00:18, 21.81it/s]"
     ]
    },
    {
     "name": "stdout",
     "output_type": "stream",
     "text": [
      "{'epoch': 14, 'iter': 520, 'avg_loss': 1.4794354873518112, 'avg_acc': 54.65451055662188, 'loss': 1.5415940284729004}\n"
     ]
    },
    {
     "name": "stderr",
     "output_type": "stream",
     "text": [
      "EP_train:14:  57%|| 536/938 [00:21<00:15, 26.64it/s]"
     ]
    },
    {
     "name": "stdout",
     "output_type": "stream",
     "text": [
      "{'epoch': 14, 'iter': 530, 'avg_loss': 1.4794593753114258, 'avg_acc': 54.67278719397364, 'loss': 1.3526499271392822}\n"
     ]
    },
    {
     "name": "stderr",
     "output_type": "stream",
     "text": [
      "EP_train:14:  58%|| 545/938 [00:21<00:14, 27.57it/s]"
     ]
    },
    {
     "name": "stdout",
     "output_type": "stream",
     "text": [
      "{'epoch': 14, 'iter': 540, 'avg_loss': 1.4784221303220597, 'avg_acc': 54.6384011090573, 'loss': 1.3969413042068481}\n"
     ]
    },
    {
     "name": "stderr",
     "output_type": "stream",
     "text": [
      "EP_train:14:  59%|| 552/938 [00:22<00:18, 21.13it/s]"
     ]
    },
    {
     "name": "stdout",
     "output_type": "stream",
     "text": [
      "{'epoch': 14, 'iter': 550, 'avg_loss': 1.478058262442504, 'avg_acc': 54.616606170598914, 'loss': 1.5209325551986694}\n"
     ]
    },
    {
     "name": "stderr",
     "output_type": "stream",
     "text": [
      "EP_train:14:  60%|| 564/938 [00:22<00:15, 24.46it/s]"
     ]
    },
    {
     "name": "stdout",
     "output_type": "stream",
     "text": [
      "{'epoch': 14, 'iter': 560, 'avg_loss': 1.4790977426603729, 'avg_acc': 54.67914438502673, 'loss': 1.6859323978424072}\n"
     ]
    },
    {
     "name": "stderr",
     "output_type": "stream",
     "text": [
      "EP_train:14:  61%|| 574/938 [00:22<00:13, 27.13it/s]"
     ]
    },
    {
     "name": "stdout",
     "output_type": "stream",
     "text": [
      "{'epoch': 14, 'iter': 570, 'avg_loss': 1.4797336858959833, 'avg_acc': 54.673817863397545, 'loss': 1.5061619281768799}\n"
     ]
    },
    {
     "name": "stderr",
     "output_type": "stream",
     "text": [
      "EP_train:14:  62%|| 584/938 [00:23<00:12, 28.14it/s]"
     ]
    },
    {
     "name": "stdout",
     "output_type": "stream",
     "text": [
      "{'epoch': 14, 'iter': 580, 'avg_loss': 1.4792471325951475, 'avg_acc': 54.657917383821, 'loss': 1.2919235229492188}\n"
     ]
    },
    {
     "name": "stderr",
     "output_type": "stream",
     "text": [
      "EP_train:14:  64%|| 597/938 [00:23<00:11, 30.03it/s]"
     ]
    },
    {
     "name": "stdout",
     "output_type": "stream",
     "text": [
      "{'epoch': 14, 'iter': 590, 'avg_loss': 1.4804588991978447, 'avg_acc': 54.600253807106604, 'loss': 1.6607153415679932}\n"
     ]
    },
    {
     "name": "stderr",
     "output_type": "stream",
     "text": [
      "EP_train:14:  65%|| 606/938 [00:24<00:11, 28.94it/s]"
     ]
    },
    {
     "name": "stdout",
     "output_type": "stream",
     "text": [
      "{'epoch': 14, 'iter': 600, 'avg_loss': 1.4792070077381991, 'avg_acc': 54.606905158069885, 'loss': 1.5845012664794922}\n"
     ]
    },
    {
     "name": "stderr",
     "output_type": "stream",
     "text": [
      "EP_train:14:  66%|| 615/938 [00:24<00:14, 22.60it/s]"
     ]
    },
    {
     "name": "stdout",
     "output_type": "stream",
     "text": [
      "{'epoch': 14, 'iter': 610, 'avg_loss': 1.4786210471791643, 'avg_acc': 54.61845335515548, 'loss': 1.5051056146621704}\n"
     ]
    },
    {
     "name": "stderr",
     "output_type": "stream",
     "text": [
      "EP_train:14:  67%|| 624/938 [00:24<00:12, 25.58it/s]"
     ]
    },
    {
     "name": "stdout",
     "output_type": "stream",
     "text": [
      "{'epoch': 14, 'iter': 620, 'avg_loss': 1.4787119241152409, 'avg_acc': 54.65479066022544, 'loss': 1.5447770357131958}\n"
     ]
    },
    {
     "name": "stderr",
     "output_type": "stream",
     "text": [
      "EP_train:14:  68%|| 637/938 [00:25<00:10, 27.96it/s]"
     ]
    },
    {
     "name": "stdout",
     "output_type": "stream",
     "text": [
      "{'epoch': 14, 'iter': 630, 'avg_loss': 1.4781450161654295, 'avg_acc': 54.69988114104596, 'loss': 1.3531811237335205}\n"
     ]
    },
    {
     "name": "stderr",
     "output_type": "stream",
     "text": [
      "EP_train:14:  69%|| 646/938 [00:25<00:10, 27.89it/s]"
     ]
    },
    {
     "name": "stdout",
     "output_type": "stream",
     "text": [
      "{'epoch': 14, 'iter': 640, 'avg_loss': 1.4782946928057024, 'avg_acc': 54.75819032761311, 'loss': 1.5804768800735474}\n"
     ]
    },
    {
     "name": "stderr",
     "output_type": "stream",
     "text": [
      "EP_train:14:  70%|| 655/938 [00:26<00:13, 20.79it/s]"
     ]
    },
    {
     "name": "stdout",
     "output_type": "stream",
     "text": [
      "{'epoch': 14, 'iter': 650, 'avg_loss': 1.4783626075164513, 'avg_acc': 54.76670506912442, 'loss': 1.430656909942627}\n"
     ]
    },
    {
     "name": "stderr",
     "output_type": "stream",
     "text": [
      "EP_train:14:  71%|| 664/938 [00:26<00:11, 23.09it/s]"
     ]
    },
    {
     "name": "stdout",
     "output_type": "stream",
     "text": [
      "{'epoch': 14, 'iter': 660, 'avg_loss': 1.4779961682664464, 'avg_acc': 54.793872919818455, 'loss': 1.4960355758666992}\n"
     ]
    },
    {
     "name": "stderr",
     "output_type": "stream",
     "text": [
      "EP_train:14:  72%|| 677/938 [00:26<00:09, 27.25it/s]"
     ]
    },
    {
     "name": "stdout",
     "output_type": "stream",
     "text": [
      "{'epoch': 14, 'iter': 670, 'avg_loss': 1.478743529355295, 'avg_acc': 54.82488822652757, 'loss': 1.6816014051437378}\n"
     ]
    },
    {
     "name": "stderr",
     "output_type": "stream",
     "text": [
      "EP_train:14:  73%|| 683/938 [00:27<00:09, 27.57it/s]"
     ]
    },
    {
     "name": "stdout",
     "output_type": "stream",
     "text": [
      "{'epoch': 14, 'iter': 680, 'avg_loss': 1.4772918945542166, 'avg_acc': 54.845814977973575, 'loss': 1.4484989643096924}\n"
     ]
    },
    {
     "name": "stderr",
     "output_type": "stream",
     "text": [
      "EP_train:14:  74%|| 696/938 [00:27<00:10, 24.17it/s]"
     ]
    },
    {
     "name": "stdout",
     "output_type": "stream",
     "text": [
      "{'epoch': 14, 'iter': 690, 'avg_loss': 1.4767208718701486, 'avg_acc': 54.78473227206947, 'loss': 1.1366050243377686}\n"
     ]
    },
    {
     "name": "stderr",
     "output_type": "stream",
     "text": [
      "EP_train:14:  75%|| 705/938 [00:28<00:08, 26.28it/s]"
     ]
    },
    {
     "name": "stdout",
     "output_type": "stream",
     "text": [
      "{'epoch': 14, 'iter': 700, 'avg_loss': 1.476845547238022, 'avg_acc': 54.76105563480742, 'loss': 1.4940999746322632}\n"
     ]
    },
    {
     "name": "stderr",
     "output_type": "stream",
     "text": [
      "EP_train:14:  76%|| 714/938 [00:28<00:08, 26.23it/s]"
     ]
    },
    {
     "name": "stdout",
     "output_type": "stream",
     "text": [
      "{'epoch': 14, 'iter': 710, 'avg_loss': 1.4770720585153743, 'avg_acc': 54.738045007032355, 'loss': 1.4655338525772095}\n"
     ]
    },
    {
     "name": "stderr",
     "output_type": "stream",
     "text": [
      "EP_train:14:  77%|| 726/938 [00:28<00:08, 26.15it/s]"
     ]
    },
    {
     "name": "stdout",
     "output_type": "stream",
     "text": [
      "{'epoch': 14, 'iter': 720, 'avg_loss': 1.4759088547980406, 'avg_acc': 54.72000693481276, 'loss': 1.4202135801315308}\n"
     ]
    },
    {
     "name": "stderr",
     "output_type": "stream",
     "text": [
      "EP_train:14:  78%|| 732/938 [00:29<00:11, 18.57it/s]"
     ]
    },
    {
     "name": "stdout",
     "output_type": "stream",
     "text": [
      "{'epoch': 14, 'iter': 730, 'avg_loss': 1.4760052784360058, 'avg_acc': 54.69818741450069, 'loss': 1.268792748451233}\n"
     ]
    },
    {
     "name": "stderr",
     "output_type": "stream",
     "text": [
      "EP_train:14:  79%|| 745/938 [00:29<00:08, 23.43it/s]"
     ]
    },
    {
     "name": "stdout",
     "output_type": "stream",
     "text": [
      "{'epoch': 14, 'iter': 740, 'avg_loss': 1.4767182563480579, 'avg_acc': 54.655870445344135, 'loss': 1.3857253789901733}\n"
     ]
    },
    {
     "name": "stderr",
     "output_type": "stream",
     "text": [
      "EP_train:14:  80%|| 755/938 [00:30<00:07, 26.09it/s]"
     ]
    },
    {
     "name": "stdout",
     "output_type": "stream",
     "text": [
      "{'epoch': 14, 'iter': 750, 'avg_loss': 1.4760804781107388, 'avg_acc': 54.66461384820239, 'loss': 1.5191787481307983}\n"
     ]
    },
    {
     "name": "stderr",
     "output_type": "stream",
     "text": [
      "EP_train:14:  82%|| 765/938 [00:30<00:06, 27.66it/s]"
     ]
    },
    {
     "name": "stdout",
     "output_type": "stream",
     "text": [
      "{'epoch': 14, 'iter': 760, 'avg_loss': 1.4754928862688264, 'avg_acc': 54.677233902759525, 'loss': 1.5954766273498535}\n"
     ]
    },
    {
     "name": "stderr",
     "output_type": "stream",
     "text": [
      "EP_train:14:  82%|| 772/938 [00:30<00:05, 27.94it/s]"
     ]
    },
    {
     "name": "stdout",
     "output_type": "stream",
     "text": [
      "{'epoch': 14, 'iter': 770, 'avg_loss': 1.474943349797438, 'avg_acc': 54.73005836575876, 'loss': 1.6238588094711304}\n"
     ]
    },
    {
     "name": "stderr",
     "output_type": "stream",
     "text": [
      "EP_train:14:  84%|| 784/938 [00:31<00:06, 22.28it/s]"
     ]
    },
    {
     "name": "stdout",
     "output_type": "stream",
     "text": [
      "{'epoch': 14, 'iter': 780, 'avg_loss': 1.475221916594365, 'avg_acc': 54.70950704225353, 'loss': 1.5273231267929077}\n"
     ]
    },
    {
     "name": "stderr",
     "output_type": "stream",
     "text": [
      "EP_train:14:  85%|| 796/938 [00:31<00:05, 25.51it/s]"
     ]
    },
    {
     "name": "stdout",
     "output_type": "stream",
     "text": [
      "{'epoch': 14, 'iter': 790, 'avg_loss': 1.473495373382279, 'avg_acc': 54.66182048040456, 'loss': 1.1968852281570435}\n"
     ]
    },
    {
     "name": "stderr",
     "output_type": "stream",
     "text": [
      "EP_train:14:  86%|| 805/938 [00:32<00:05, 26.57it/s]"
     ]
    },
    {
     "name": "stdout",
     "output_type": "stream",
     "text": [
      "{'epoch': 14, 'iter': 800, 'avg_loss': 1.4728614124614796, 'avg_acc': 54.72066167290887, 'loss': 1.4018423557281494}\n"
     ]
    },
    {
     "name": "stderr",
     "output_type": "stream",
     "text": [
      "EP_train:14:  87%|| 812/938 [00:32<00:06, 20.42it/s]"
     ]
    },
    {
     "name": "stdout",
     "output_type": "stream",
     "text": [
      "{'epoch': 14, 'iter': 810, 'avg_loss': 1.473040112437802, 'avg_acc': 54.69327990135635, 'loss': 1.5083982944488525}\n"
     ]
    },
    {
     "name": "stderr",
     "output_type": "stream",
     "text": [
      "EP_train:14:  88%|| 825/938 [00:32<00:04, 26.08it/s]"
     ]
    },
    {
     "name": "stdout",
     "output_type": "stream",
     "text": [
      "{'epoch': 14, 'iter': 820, 'avg_loss': 1.4731792082304496, 'avg_acc': 54.71604750304506, 'loss': 1.6252061128616333}\n"
     ]
    },
    {
     "name": "stderr",
     "output_type": "stream",
     "text": [
      "EP_train:14:  89%|| 835/938 [00:33<00:03, 27.49it/s]"
     ]
    },
    {
     "name": "stdout",
     "output_type": "stream",
     "text": [
      "{'epoch': 14, 'iter': 830, 'avg_loss': 1.4732388715594829, 'avg_acc': 54.678098676293615, 'loss': 1.733614206314087}\n"
     ]
    },
    {
     "name": "stderr",
     "output_type": "stream",
     "text": [
      "EP_train:14:  90%|| 844/938 [00:33<00:03, 28.10it/s]"
     ]
    },
    {
     "name": "stdout",
     "output_type": "stream",
     "text": [
      "{'epoch': 14, 'iter': 840, 'avg_loss': 1.4726832620312287, 'avg_acc': 54.64476813317479, 'loss': 1.6061781644821167}\n"
     ]
    },
    {
     "name": "stderr",
     "output_type": "stream",
     "text": [
      "EP_train:14:  91%|| 856/938 [00:34<00:02, 28.68it/s]"
     ]
    },
    {
     "name": "stdout",
     "output_type": "stream",
     "text": [
      "{'epoch': 14, 'iter': 850, 'avg_loss': 1.4712721253674124, 'avg_acc': 54.64159811985899, 'loss': 1.3825578689575195}\n"
     ]
    },
    {
     "name": "stderr",
     "output_type": "stream",
     "text": [
      "EP_train:14:  92%|| 865/938 [00:34<00:03, 22.88it/s]"
     ]
    },
    {
     "name": "stdout",
     "output_type": "stream",
     "text": [
      "{'epoch': 14, 'iter': 860, 'avg_loss': 1.4722240487596023, 'avg_acc': 54.605836236933804, 'loss': 1.5679618120193481}\n"
     ]
    },
    {
     "name": "stderr",
     "output_type": "stream",
     "text": [
      "EP_train:14:  93%|| 874/938 [00:34<00:02, 26.08it/s]"
     ]
    },
    {
     "name": "stdout",
     "output_type": "stream",
     "text": [
      "{'epoch': 14, 'iter': 870, 'avg_loss': 1.4720801023336558, 'avg_acc': 54.621125143513204, 'loss': 1.447784185409546}\n"
     ]
    },
    {
     "name": "stderr",
     "output_type": "stream",
     "text": [
      "EP_train:14:  94%|| 886/938 [00:35<00:01, 28.35it/s]"
     ]
    },
    {
     "name": "stdout",
     "output_type": "stream",
     "text": [
      "{'epoch': 14, 'iter': 880, 'avg_loss': 1.4718293491476104, 'avg_acc': 54.593501702610666, 'loss': 1.5941691398620605}\n"
     ]
    },
    {
     "name": "stderr",
     "output_type": "stream",
     "text": [
      "EP_train:14:  95%|| 893/938 [00:35<00:01, 26.29it/s]"
     ]
    },
    {
     "name": "stdout",
     "output_type": "stream",
     "text": [
      "{'epoch': 14, 'iter': 890, 'avg_loss': 1.471686159186358, 'avg_acc': 54.59455667789002, 'loss': 1.3167884349822998}\n"
     ]
    },
    {
     "name": "stderr",
     "output_type": "stream",
     "text": [
      "EP_train:14:  97%|| 906/938 [00:36<00:01, 28.54it/s]"
     ]
    },
    {
     "name": "stdout",
     "output_type": "stream",
     "text": [
      "{'epoch': 14, 'iter': 900, 'avg_loss': 1.4714169721889179, 'avg_acc': 54.547031076581575, 'loss': 1.270557165145874}\n"
     ]
    },
    {
     "name": "stderr",
     "output_type": "stream",
     "text": [
      "EP_train:14:  98%|| 915/938 [00:36<00:01, 22.20it/s]"
     ]
    },
    {
     "name": "stdout",
     "output_type": "stream",
     "text": [
      "{'epoch': 14, 'iter': 910, 'avg_loss': 1.4705300456736927, 'avg_acc': 54.593166849615805, 'loss': 1.3317259550094604}\n"
     ]
    },
    {
     "name": "stderr",
     "output_type": "stream",
     "text": [
      "EP_train:14:  99%|| 925/938 [00:36<00:00, 26.64it/s]"
     ]
    },
    {
     "name": "stdout",
     "output_type": "stream",
     "text": [
      "{'epoch': 14, 'iter': 920, 'avg_loss': 1.470131137601457, 'avg_acc': 54.600977198697066, 'loss': 1.5017787218093872}\n"
     ]
    },
    {
     "name": "stderr",
     "output_type": "stream",
     "text": [
      "EP_train:14: 100%|| 934/938 [00:37<00:00, 27.46it/s]"
     ]
    },
    {
     "name": "stdout",
     "output_type": "stream",
     "text": [
      "{'epoch': 14, 'iter': 930, 'avg_loss': 1.4700599829441239, 'avg_acc': 54.601906552094526, 'loss': 1.3715044260025024}\n"
     ]
    },
    {
     "name": "stderr",
     "output_type": "stream",
     "text": [
      "EP_train:14: 100%|| 938/938 [00:37<00:00, 25.17it/s]\n"
     ]
    },
    {
     "name": "stdout",
     "output_type": "stream",
     "text": [
      "EP14, train:             avg_loss=1.4699899561877952,             total_acc=54.57485828609536\n"
     ]
    },
    {
     "name": "stderr",
     "output_type": "stream",
     "text": [
      "EP_train:15:   0%|| 3/938 [00:00<00:34, 26.85it/s]"
     ]
    },
    {
     "name": "stdout",
     "output_type": "stream",
     "text": [
      "{'epoch': 15, 'iter': 0, 'avg_loss': 1.4177864789962769, 'avg_acc': 40.625, 'loss': 1.4177864789962769}\n"
     ]
    },
    {
     "name": "stderr",
     "output_type": "stream",
     "text": [
      "EP_train:15:   2%|| 16/938 [00:00<00:31, 29.15it/s]"
     ]
    },
    {
     "name": "stdout",
     "output_type": "stream",
     "text": [
      "{'epoch': 15, 'iter': 10, 'avg_loss': 1.5425526012073865, 'avg_acc': 54.82954545454546, 'loss': 1.6493123769760132}\n"
     ]
    },
    {
     "name": "stderr",
     "output_type": "stream",
     "text": [
      "EP_train:15:   3%|| 25/938 [00:01<00:39, 22.93it/s]"
     ]
    },
    {
     "name": "stdout",
     "output_type": "stream",
     "text": [
      "{'epoch': 15, 'iter': 20, 'avg_loss': 1.4903441156659807, 'avg_acc': 56.99404761904761, 'loss': 1.2845405340194702}\n"
     ]
    },
    {
     "name": "stderr",
     "output_type": "stream",
     "text": [
      "EP_train:15:   4%|| 34/938 [00:01<00:35, 25.56it/s]"
     ]
    },
    {
     "name": "stdout",
     "output_type": "stream",
     "text": [
      "{'epoch': 15, 'iter': 30, 'avg_loss': 1.4917205072218371, 'avg_acc': 55.443548387096776, 'loss': 1.4325714111328125}\n"
     ]
    },
    {
     "name": "stderr",
     "output_type": "stream",
     "text": [
      "EP_train:15:   5%|| 46/938 [00:01<00:33, 26.90it/s]"
     ]
    },
    {
     "name": "stdout",
     "output_type": "stream",
     "text": [
      "{'epoch': 15, 'iter': 40, 'avg_loss': 1.4820465198377284, 'avg_acc': 56.02134146341463, 'loss': 1.2858344316482544}\n"
     ]
    },
    {
     "name": "stderr",
     "output_type": "stream",
     "text": [
      "EP_train:15:   6%|| 55/938 [00:02<00:31, 28.30it/s]"
     ]
    },
    {
     "name": "stdout",
     "output_type": "stream",
     "text": [
      "{'epoch': 15, 'iter': 50, 'avg_loss': 1.4696270087186027, 'avg_acc': 56.127450980392155, 'loss': 1.4769703149795532}\n"
     ]
    },
    {
     "name": "stderr",
     "output_type": "stream",
     "text": [
      "EP_train:15:   7%|| 65/938 [00:02<00:40, 21.64it/s]"
     ]
    },
    {
     "name": "stdout",
     "output_type": "stream",
     "text": [
      "{'epoch': 15, 'iter': 60, 'avg_loss': 1.4611720276660607, 'avg_acc': 55.78893442622951, 'loss': 1.434054970741272}\n"
     ]
    },
    {
     "name": "stderr",
     "output_type": "stream",
     "text": [
      "EP_train:15:   8%|| 74/938 [00:02<00:34, 25.08it/s]"
     ]
    },
    {
     "name": "stdout",
     "output_type": "stream",
     "text": [
      "{'epoch': 15, 'iter': 70, 'avg_loss': 1.463022423462129, 'avg_acc': 55.98591549295775, 'loss': 1.311346173286438}\n"
     ]
    },
    {
     "name": "stderr",
     "output_type": "stream",
     "text": [
      "EP_train:15:   9%|| 86/938 [00:03<00:32, 26.14it/s]"
     ]
    },
    {
     "name": "stdout",
     "output_type": "stream",
     "text": [
      "{'epoch': 15, 'iter': 80, 'avg_loss': 1.4696848583810123, 'avg_acc': 55.748456790123456, 'loss': 1.6235243082046509}\n"
     ]
    },
    {
     "name": "stderr",
     "output_type": "stream",
     "text": [
      "EP_train:15:  10%|| 95/938 [00:03<00:33, 25.01it/s]"
     ]
    },
    {
     "name": "stdout",
     "output_type": "stream",
     "text": [
      "{'epoch': 15, 'iter': 90, 'avg_loss': 1.4588348734509813, 'avg_acc': 54.77335164835166, 'loss': 1.4829005002975464}\n"
     ]
    },
    {
     "name": "stderr",
     "output_type": "stream",
     "text": [
      "EP_train:15:  11%|| 104/938 [00:04<00:43, 19.23it/s]"
     ]
    },
    {
     "name": "stdout",
     "output_type": "stream",
     "text": [
      "{'epoch': 15, 'iter': 100, 'avg_loss': 1.4583150325435223, 'avg_acc': 54.579207920792086, 'loss': 1.2186367511749268}\n"
     ]
    },
    {
     "name": "stderr",
     "output_type": "stream",
     "text": [
      "EP_train:15:  12%|| 113/938 [00:04<00:38, 21.41it/s]"
     ]
    },
    {
     "name": "stdout",
     "output_type": "stream",
     "text": [
      "{'epoch': 15, 'iter': 110, 'avg_loss': 1.4550262549975972, 'avg_acc': 54.61711711711712, 'loss': 1.3162450790405273}\n"
     ]
    },
    {
     "name": "stderr",
     "output_type": "stream",
     "text": [
      "EP_train:15:  13%|| 125/938 [00:05<00:35, 22.76it/s]"
     ]
    },
    {
     "name": "stdout",
     "output_type": "stream",
     "text": [
      "{'epoch': 15, 'iter': 120, 'avg_loss': 1.45821698243953, 'avg_acc': 54.90702479338842, 'loss': 1.430780053138733}\n"
     ]
    },
    {
     "name": "stderr",
     "output_type": "stream",
     "text": [
      "EP_train:15:  14%|| 134/938 [00:05<00:32, 24.82it/s]"
     ]
    },
    {
     "name": "stdout",
     "output_type": "stream",
     "text": [
      "{'epoch': 15, 'iter': 130, 'avg_loss': 1.4641523761603668, 'avg_acc': 55.10496183206107, 'loss': 1.4054796695709229}\n"
     ]
    },
    {
     "name": "stderr",
     "output_type": "stream",
     "text": [
      "EP_train:15:  15%|| 144/938 [00:06<00:36, 21.72it/s]"
     ]
    },
    {
     "name": "stdout",
     "output_type": "stream",
     "text": [
      "{'epoch': 15, 'iter': 140, 'avg_loss': 1.4701663653055828, 'avg_acc': 54.43262411347518, 'loss': 1.5850855112075806}\n"
     ]
    },
    {
     "name": "stderr",
     "output_type": "stream",
     "text": [
      "EP_train:15:  17%|| 156/938 [00:06<00:30, 25.87it/s]"
     ]
    },
    {
     "name": "stdout",
     "output_type": "stream",
     "text": [
      "{'epoch': 15, 'iter': 150, 'avg_loss': 1.4649451213167204, 'avg_acc': 54.38741721854304, 'loss': 1.2093864679336548}\n"
     ]
    },
    {
     "name": "stderr",
     "output_type": "stream",
     "text": [
      "EP_train:15:  18%|| 166/938 [00:06<00:28, 27.50it/s]"
     ]
    },
    {
     "name": "stdout",
     "output_type": "stream",
     "text": [
      "{'epoch': 15, 'iter': 160, 'avg_loss': 1.4671073826203436, 'avg_acc': 54.7166149068323, 'loss': 1.8094435930252075}\n"
     ]
    },
    {
     "name": "stderr",
     "output_type": "stream",
     "text": [
      "EP_train:15:  18%|| 173/938 [00:07<00:26, 28.56it/s]"
     ]
    },
    {
     "name": "stdout",
     "output_type": "stream",
     "text": [
      "{'epoch': 15, 'iter': 170, 'avg_loss': 1.4670440056170637, 'avg_acc': 54.60526315789473, 'loss': 1.5243895053863525}\n"
     ]
    },
    {
     "name": "stderr",
     "output_type": "stream",
     "text": [
      "EP_train:15:  20%|| 186/938 [00:07<00:31, 23.79it/s]"
     ]
    },
    {
     "name": "stdout",
     "output_type": "stream",
     "text": [
      "{'epoch': 15, 'iter': 180, 'avg_loss': 1.4690823574751122, 'avg_acc': 54.73066298342542, 'loss': 1.3579859733581543}\n"
     ]
    },
    {
     "name": "stderr",
     "output_type": "stream",
     "text": [
      "EP_train:15:  21%|| 196/938 [00:07<00:27, 26.99it/s]"
     ]
    },
    {
     "name": "stdout",
     "output_type": "stream",
     "text": [
      "{'epoch': 15, 'iter': 190, 'avg_loss': 1.4693364678877185, 'avg_acc': 54.957460732984295, 'loss': 1.3654485940933228}\n"
     ]
    },
    {
     "name": "stderr",
     "output_type": "stream",
     "text": [
      "EP_train:15:  22%|| 203/938 [00:08<00:26, 28.12it/s]"
     ]
    },
    {
     "name": "stdout",
     "output_type": "stream",
     "text": [
      "{'epoch': 15, 'iter': 200, 'avg_loss': 1.4678134384439951, 'avg_acc': 54.77300995024875, 'loss': 1.4191910028457642}\n"
     ]
    },
    {
     "name": "stderr",
     "output_type": "stream",
     "text": [
      "EP_train:15:  23%|| 213/938 [00:08<00:25, 28.82it/s]"
     ]
    },
    {
     "name": "stdout",
     "output_type": "stream",
     "text": [
      "{'epoch': 15, 'iter': 210, 'avg_loss': 1.4678532585713535, 'avg_acc': 54.65047393364929, 'loss': 1.639328956604004}\n"
     ]
    },
    {
     "name": "stderr",
     "output_type": "stream",
     "text": [
      "EP_train:15:  24%|| 223/938 [00:09<00:32, 22.21it/s]"
     ]
    },
    {
     "name": "stdout",
     "output_type": "stream",
     "text": [
      "{'epoch': 15, 'iter': 220, 'avg_loss': 1.4679067517837248, 'avg_acc': 54.49660633484162, 'loss': 1.5070289373397827}\n"
     ]
    },
    {
     "name": "stderr",
     "output_type": "stream",
     "text": [
      "EP_train:15:  25%|| 236/938 [00:09<00:26, 26.28it/s]"
     ]
    },
    {
     "name": "stdout",
     "output_type": "stream",
     "text": [
      "{'epoch': 15, 'iter': 230, 'avg_loss': 1.4656649100316035, 'avg_acc': 54.43722943722944, 'loss': 1.3011682033538818}\n"
     ]
    },
    {
     "name": "stderr",
     "output_type": "stream",
     "text": [
      "EP_train:15:  26%|| 245/938 [00:09<00:25, 27.32it/s]"
     ]
    },
    {
     "name": "stdout",
     "output_type": "stream",
     "text": [
      "{'epoch': 15, 'iter': 240, 'avg_loss': 1.4669084731968607, 'avg_acc': 54.64211618257261, 'loss': 1.4951354265213013}\n"
     ]
    },
    {
     "name": "stderr",
     "output_type": "stream",
     "text": [
      "EP_train:15:  27%|| 254/938 [00:10<00:24, 27.46it/s]"
     ]
    },
    {
     "name": "stdout",
     "output_type": "stream",
     "text": [
      "{'epoch': 15, 'iter': 250, 'avg_loss': 1.4693185632447323, 'avg_acc': 54.793326693227094, 'loss': 1.5605539083480835}\n"
     ]
    },
    {
     "name": "stderr",
     "output_type": "stream",
     "text": [
      "EP_train:15:  28%|| 265/938 [00:10<00:23, 28.88it/s]"
     ]
    },
    {
     "name": "stdout",
     "output_type": "stream",
     "text": [
      "{'epoch': 15, 'iter': 260, 'avg_loss': 1.471325756946286, 'avg_acc': 54.78927203065134, 'loss': 1.5742638111114502}\n"
     ]
    },
    {
     "name": "stderr",
     "output_type": "stream",
     "text": [
      "EP_train:15:  29%|| 274/938 [00:10<00:28, 23.65it/s]"
     ]
    },
    {
     "name": "stdout",
     "output_type": "stream",
     "text": [
      "{'epoch': 15, 'iter': 270, 'avg_loss': 1.4707094787231672, 'avg_acc': 54.773985239852394, 'loss': 1.2471752166748047}\n"
     ]
    },
    {
     "name": "stderr",
     "output_type": "stream",
     "text": [
      "EP_train:15:  31%|| 287/938 [00:11<00:23, 28.21it/s]"
     ]
    },
    {
     "name": "stdout",
     "output_type": "stream",
     "text": [
      "{'epoch': 15, 'iter': 280, 'avg_loss': 1.4690754354212208, 'avg_acc': 54.937722419928825, 'loss': 1.607878565788269}\n"
     ]
    },
    {
     "name": "stderr",
     "output_type": "stream",
     "text": [
      "EP_train:15:  32%|| 296/938 [00:11<00:22, 28.88it/s]"
     ]
    },
    {
     "name": "stdout",
     "output_type": "stream",
     "text": [
      "{'epoch': 15, 'iter': 290, 'avg_loss': 1.4665884635702442, 'avg_acc': 54.90764604810997, 'loss': 1.468701720237732}\n"
     ]
    },
    {
     "name": "stderr",
     "output_type": "stream",
     "text": [
      "EP_train:15:  33%|| 306/938 [00:12<00:21, 28.82it/s]"
     ]
    },
    {
     "name": "stdout",
     "output_type": "stream",
     "text": [
      "{'epoch': 15, 'iter': 300, 'avg_loss': 1.466741516344571, 'avg_acc': 54.921096345514954, 'loss': 1.3908482789993286}\n"
     ]
    },
    {
     "name": "stderr",
     "output_type": "stream",
     "text": [
      "EP_train:15:  34%|| 315/938 [00:12<00:22, 27.80it/s]"
     ]
    },
    {
     "name": "stdout",
     "output_type": "stream",
     "text": [
      "{'epoch': 15, 'iter': 310, 'avg_loss': 1.4674417221277856, 'avg_acc': 54.95377813504824, 'loss': 1.5742167234420776}\n"
     ]
    },
    {
     "name": "stderr",
     "output_type": "stream",
     "text": [
      "EP_train:15:  35%|| 325/938 [00:12<00:27, 21.90it/s]"
     ]
    },
    {
     "name": "stdout",
     "output_type": "stream",
     "text": [
      "{'epoch': 15, 'iter': 320, 'avg_loss': 1.4675646114200818, 'avg_acc': 54.95521806853583, 'loss': 1.2867496013641357}\n"
     ]
    },
    {
     "name": "stderr",
     "output_type": "stream",
     "text": [
      "EP_train:15:  36%|| 334/938 [00:13<00:23, 25.63it/s]"
     ]
    },
    {
     "name": "stdout",
     "output_type": "stream",
     "text": [
      "{'epoch': 15, 'iter': 330, 'avg_loss': 1.4696387347858118, 'avg_acc': 54.87160120845922, 'loss': 1.6155015230178833}\n"
     ]
    },
    {
     "name": "stderr",
     "output_type": "stream",
     "text": [
      "EP_train:15:  37%|| 344/938 [00:13<00:22, 26.23it/s]"
     ]
    },
    {
     "name": "stdout",
     "output_type": "stream",
     "text": [
      "{'epoch': 15, 'iter': 340, 'avg_loss': 1.4668257135100378, 'avg_acc': 54.957844574780054, 'loss': 1.4279520511627197}\n"
     ]
    },
    {
     "name": "stderr",
     "output_type": "stream",
     "text": [
      "EP_train:15:  38%|| 353/938 [00:13<00:21, 27.72it/s]"
     ]
    },
    {
     "name": "stdout",
     "output_type": "stream",
     "text": [
      "{'epoch': 15, 'iter': 350, 'avg_loss': 1.4684851305437223, 'avg_acc': 54.95014245014245, 'loss': 1.4325926303863525}\n"
     ]
    },
    {
     "name": "stderr",
     "output_type": "stream",
     "text": [
      "EP_train:15:  39%|| 363/938 [00:14<00:19, 29.28it/s]"
     ]
    },
    {
     "name": "stdout",
     "output_type": "stream",
     "text": [
      "{'epoch': 15, 'iter': 360, 'avg_loss': 1.471942136822645, 'avg_acc': 54.986149584487535, 'loss': 1.6857143640518188}\n"
     ]
    },
    {
     "name": "stderr",
     "output_type": "stream",
     "text": [
      "EP_train:15:  40%|| 376/938 [00:14<00:22, 24.81it/s]"
     ]
    },
    {
     "name": "stdout",
     "output_type": "stream",
     "text": [
      "{'epoch': 15, 'iter': 370, 'avg_loss': 1.4701342643753217, 'avg_acc': 55.06233153638814, 'loss': 1.382939100265503}\n"
     ]
    },
    {
     "name": "stderr",
     "output_type": "stream",
     "text": [
      "EP_train:15:  41%|| 386/938 [00:15<00:20, 27.60it/s]"
     ]
    },
    {
     "name": "stdout",
     "output_type": "stream",
     "text": [
      "{'epoch': 15, 'iter': 380, 'avg_loss': 1.470946438982105, 'avg_acc': 55.03608923884514, 'loss': 1.3435616493225098}\n"
     ]
    },
    {
     "name": "stderr",
     "output_type": "stream",
     "text": [
      "EP_train:15:  42%|| 393/938 [00:15<00:19, 28.37it/s]"
     ]
    },
    {
     "name": "stdout",
     "output_type": "stream",
     "text": [
      "{'epoch': 15, 'iter': 390, 'avg_loss': 1.4717104175816411, 'avg_acc': 54.939258312020456, 'loss': 1.6104156970977783}\n"
     ]
    },
    {
     "name": "stderr",
     "output_type": "stream",
     "text": [
      "EP_train:15:  43%|| 403/938 [00:15<00:20, 26.45it/s]"
     ]
    },
    {
     "name": "stdout",
     "output_type": "stream",
     "text": [
      "{'epoch': 15, 'iter': 400, 'avg_loss': 1.4711983736019183, 'avg_acc': 54.88622194513716, 'loss': 1.411929726600647}\n"
     ]
    },
    {
     "name": "stderr",
     "output_type": "stream",
     "text": [
      "EP_train:15:  44%|| 413/938 [00:16<00:26, 20.19it/s]"
     ]
    },
    {
     "name": "stdout",
     "output_type": "stream",
     "text": [
      "{'epoch': 15, 'iter': 410, 'avg_loss': 1.469282099075271, 'avg_acc': 54.82816301703163, 'loss': 1.3879098892211914}\n"
     ]
    },
    {
     "name": "stderr",
     "output_type": "stream",
     "text": [
      "EP_train:15:  45%|| 425/938 [00:16<00:20, 25.44it/s]"
     ]
    },
    {
     "name": "stdout",
     "output_type": "stream",
     "text": [
      "{'epoch': 15, 'iter': 420, 'avg_loss': 1.4687272770387827, 'avg_acc': 54.75801662707839, 'loss': 1.5088192224502563}\n"
     ]
    },
    {
     "name": "stderr",
     "output_type": "stream",
     "text": [
      "EP_train:15:  46%|| 435/938 [00:17<00:17, 27.98it/s]"
     ]
    },
    {
     "name": "stdout",
     "output_type": "stream",
     "text": [
      "{'epoch': 15, 'iter': 430, 'avg_loss': 1.467473940202089, 'avg_acc': 54.66937354988399, 'loss': 1.3308722972869873}\n"
     ]
    },
    {
     "name": "stderr",
     "output_type": "stream",
     "text": [
      "EP_train:15:  48%|| 446/938 [00:17<00:16, 29.94it/s]"
     ]
    },
    {
     "name": "stdout",
     "output_type": "stream",
     "text": [
      "{'epoch': 15, 'iter': 440, 'avg_loss': 1.4654616713523865, 'avg_acc': 54.7406462585034, 'loss': 1.5290731191635132}\n"
     ]
    },
    {
     "name": "stderr",
     "output_type": "stream",
     "text": [
      "EP_train:15:  48%|| 450/938 [00:17<00:16, 30.46it/s]"
     ]
    },
    {
     "name": "stdout",
     "output_type": "stream",
     "text": [
      "{'epoch': 15, 'iter': 450, 'avg_loss': 1.4639481325900212, 'avg_acc': 54.64939024390244, 'loss': 1.5629689693450928}\n"
     ]
    },
    {
     "name": "stderr",
     "output_type": "stream",
     "text": [
      "EP_train:15:  50%|| 467/938 [00:18<00:16, 28.22it/s]"
     ]
    },
    {
     "name": "stdout",
     "output_type": "stream",
     "text": [
      "{'epoch': 15, 'iter': 460, 'avg_loss': 1.46347091681528, 'avg_acc': 54.69766811279827, 'loss': 1.329458236694336}\n"
     ]
    },
    {
     "name": "stderr",
     "output_type": "stream",
     "text": [
      "EP_train:15:  51%|| 477/938 [00:18<00:15, 30.03it/s]"
     ]
    },
    {
     "name": "stdout",
     "output_type": "stream",
     "text": [
      "{'epoch': 15, 'iter': 470, 'avg_loss': 1.4639856667275641, 'avg_acc': 54.70408704883227, 'loss': 1.567254662513733}\n"
     ]
    },
    {
     "name": "stderr",
     "output_type": "stream",
     "text": [
      "EP_train:15:  52%|| 485/938 [00:18<00:15, 29.95it/s]"
     ]
    },
    {
     "name": "stdout",
     "output_type": "stream",
     "text": [
      "{'epoch': 15, 'iter': 480, 'avg_loss': 1.4642263010237173, 'avg_acc': 54.71023908523909, 'loss': 1.2798782587051392}\n"
     ]
    },
    {
     "name": "stderr",
     "output_type": "stream",
     "text": [
      "EP_train:15:  53%|| 497/938 [00:19<00:14, 30.23it/s]"
     ]
    },
    {
     "name": "stdout",
     "output_type": "stream",
     "text": [
      "{'epoch': 15, 'iter': 490, 'avg_loss': 1.4641327053126396, 'avg_acc': 54.78615071283096, 'loss': 1.6081552505493164}\n"
     ]
    },
    {
     "name": "stderr",
     "output_type": "stream",
     "text": [
      "EP_train:15:  54%|| 504/938 [00:19<00:17, 24.67it/s]"
     ]
    },
    {
     "name": "stdout",
     "output_type": "stream",
     "text": [
      "{'epoch': 15, 'iter': 500, 'avg_loss': 1.464262554626503, 'avg_acc': 54.82160678642715, 'loss': 1.42983078956604}\n"
     ]
    },
    {
     "name": "stderr",
     "output_type": "stream",
     "text": [
      "EP_train:15:  55%|| 517/938 [00:20<00:14, 28.87it/s]"
     ]
    },
    {
     "name": "stdout",
     "output_type": "stream",
     "text": [
      "{'epoch': 15, 'iter': 510, 'avg_loss': 1.4635414733112209, 'avg_acc': 54.88625244618396, 'loss': 1.3440734148025513}\n"
     ]
    },
    {
     "name": "stderr",
     "output_type": "stream",
     "text": [
      "EP_train:15:  56%|| 526/938 [00:20<00:14, 28.94it/s]"
     ]
    },
    {
     "name": "stdout",
     "output_type": "stream",
     "text": [
      "{'epoch': 15, 'iter': 520, 'avg_loss': 1.4634940030478698, 'avg_acc': 54.88243761996161, 'loss': 1.3317749500274658}\n"
     ]
    },
    {
     "name": "stderr",
     "output_type": "stream",
     "text": [
      "EP_train:15:  57%|| 536/938 [00:20<00:13, 29.34it/s]"
     ]
    },
    {
     "name": "stdout",
     "output_type": "stream",
     "text": [
      "{'epoch': 15, 'iter': 530, 'avg_loss': 1.463777726091683, 'avg_acc': 54.843455743879474, 'loss': 1.453974723815918}\n"
     ]
    },
    {
     "name": "stderr",
     "output_type": "stream",
     "text": [
      "EP_train:15:  58%|| 542/938 [00:21<00:17, 22.08it/s]"
     ]
    },
    {
     "name": "stdout",
     "output_type": "stream",
     "text": [
      "{'epoch': 15, 'iter': 540, 'avg_loss': 1.463614641738687, 'avg_acc': 54.79436229205176, 'loss': 1.3558855056762695}\n"
     ]
    },
    {
     "name": "stderr",
     "output_type": "stream",
     "text": [
      "EP_train:15:  59%|| 555/938 [00:21<00:14, 27.24it/s]"
     ]
    },
    {
     "name": "stdout",
     "output_type": "stream",
     "text": [
      "{'epoch': 15, 'iter': 550, 'avg_loss': 1.4636627910574205, 'avg_acc': 54.832123411978216, 'loss': 1.3804563283920288}\n"
     ]
    },
    {
     "name": "stderr",
     "output_type": "stream",
     "text": [
      "EP_train:15:  60%|| 565/938 [00:21<00:13, 28.64it/s]"
     ]
    },
    {
     "name": "stdout",
     "output_type": "stream",
     "text": [
      "{'epoch': 15, 'iter': 560, 'avg_loss': 1.4639531615158665, 'avg_acc': 54.734848484848484, 'loss': 1.5096701383590698}\n"
     ]
    },
    {
     "name": "stderr",
     "output_type": "stream",
     "text": [
      "EP_train:15:  61%|| 574/938 [00:22<00:12, 28.80it/s]"
     ]
    },
    {
     "name": "stdout",
     "output_type": "stream",
     "text": [
      "{'epoch': 15, 'iter': 570, 'avg_loss': 1.4648328926642598, 'avg_acc': 54.67929071803853, 'loss': 1.5680416822433472}\n"
     ]
    },
    {
     "name": "stderr",
     "output_type": "stream",
     "text": [
      "EP_train:15:  62%|| 584/938 [00:22<00:12, 29.03it/s]"
     ]
    },
    {
     "name": "stdout",
     "output_type": "stream",
     "text": [
      "{'epoch': 15, 'iter': 580, 'avg_loss': 1.465505513697606, 'avg_acc': 54.657917383821, 'loss': 1.8109091520309448}\n"
     ]
    },
    {
     "name": "stderr",
     "output_type": "stream",
     "text": [
      "EP_train:15:  63%|| 594/938 [00:22<00:14, 23.02it/s]"
     ]
    },
    {
     "name": "stdout",
     "output_type": "stream",
     "text": [
      "{'epoch': 15, 'iter': 590, 'avg_loss': 1.4645218009069285, 'avg_acc': 54.62140439932318, 'loss': 1.4338047504425049}\n"
     ]
    },
    {
     "name": "stderr",
     "output_type": "stream",
     "text": [
      "EP_train:15:  65%|| 607/938 [00:23<00:12, 27.49it/s]"
     ]
    },
    {
     "name": "stdout",
     "output_type": "stream",
     "text": [
      "{'epoch': 15, 'iter': 600, 'avg_loss': 1.4647952225958052, 'avg_acc': 54.580906821963396, 'loss': 1.3369802236557007}\n"
     ]
    },
    {
     "name": "stderr",
     "output_type": "stream",
     "text": [
      "EP_train:15:  66%|| 615/938 [00:23<00:11, 29.09it/s]"
     ]
    },
    {
     "name": "stdout",
     "output_type": "stream",
     "text": [
      "{'epoch': 15, 'iter': 610, 'avg_loss': 1.4639065446127846, 'avg_acc': 54.53150572831424, 'loss': 1.4602210521697998}\n"
     ]
    },
    {
     "name": "stderr",
     "output_type": "stream",
     "text": [
      "EP_train:15:  67%|| 626/938 [00:24<00:10, 30.27it/s]"
     ]
    },
    {
     "name": "stdout",
     "output_type": "stream",
     "text": [
      "{'epoch': 15, 'iter': 620, 'avg_loss': 1.4644438438177492, 'avg_acc': 54.4585346215781, 'loss': 1.3692446947097778}\n"
     ]
    },
    {
     "name": "stderr",
     "output_type": "stream",
     "text": [
      "EP_train:15:  67%|| 630/938 [00:24<00:09, 30.86it/s]"
     ]
    },
    {
     "name": "stdout",
     "output_type": "stream",
     "text": [
      "{'epoch': 15, 'iter': 630, 'avg_loss': 1.4629125104842209, 'avg_acc': 54.45721077654516, 'loss': 1.575121521949768}\n"
     ]
    },
    {
     "name": "stderr",
     "output_type": "stream",
     "text": [
      "EP_train:15:  69%|| 647/938 [00:24<00:10, 27.38it/s]"
     ]
    },
    {
     "name": "stdout",
     "output_type": "stream",
     "text": [
      "{'epoch': 15, 'iter': 640, 'avg_loss': 1.4623262336399179, 'avg_acc': 54.407176287051485, 'loss': 1.2202554941177368}\n"
     ]
    },
    {
     "name": "stderr",
     "output_type": "stream",
     "text": [
      "EP_train:15:  70%|| 657/938 [00:25<00:09, 29.17it/s]"
     ]
    },
    {
     "name": "stdout",
     "output_type": "stream",
     "text": [
      "{'epoch': 15, 'iter': 650, 'avg_loss': 1.4632691863678202, 'avg_acc': 54.35867895545314, 'loss': 1.4764817953109741}\n"
     ]
    },
    {
     "name": "stderr",
     "output_type": "stream",
     "text": [
      "EP_train:15:  71%|| 665/938 [00:25<00:08, 30.39it/s]"
     ]
    },
    {
     "name": "stdout",
     "output_type": "stream",
     "text": [
      "{'epoch': 15, 'iter': 660, 'avg_loss': 1.463960520167935, 'avg_acc': 54.40620272314675, 'loss': 1.3751052618026733}\n"
     ]
    },
    {
     "name": "stderr",
     "output_type": "stream",
     "text": [
      "EP_train:15:  72%|| 673/938 [00:25<00:08, 29.46it/s]"
     ]
    },
    {
     "name": "stdout",
     "output_type": "stream",
     "text": [
      "{'epoch': 15, 'iter': 670, 'avg_loss': 1.4647215504404685, 'avg_acc': 54.41970938897168, 'loss': 1.2464089393615723}\n"
     ]
    },
    {
     "name": "stderr",
     "output_type": "stream",
     "text": [
      "EP_train:15:  73%|| 685/938 [00:26<00:10, 24.90it/s]"
     ]
    },
    {
     "name": "stdout",
     "output_type": "stream",
     "text": [
      "{'epoch': 15, 'iter': 680, 'avg_loss': 1.463749803022841, 'avg_acc': 54.46035242290749, 'loss': 1.410070776939392}\n"
     ]
    },
    {
     "name": "stderr",
     "output_type": "stream",
     "text": [
      "EP_train:15:  74%|| 695/938 [00:26<00:09, 26.98it/s]"
     ]
    },
    {
     "name": "stdout",
     "output_type": "stream",
     "text": [
      "{'epoch': 15, 'iter': 690, 'avg_loss': 1.4644394875780373, 'avg_acc': 54.45459479015919, 'loss': 1.7373809814453125}\n"
     ]
    },
    {
     "name": "stderr",
     "output_type": "stream",
     "text": [
      "EP_train:15:  75%|| 704/938 [00:26<00:08, 26.53it/s]"
     ]
    },
    {
     "name": "stdout",
     "output_type": "stream",
     "text": [
      "{'epoch': 15, 'iter': 700, 'avg_loss': 1.4655165703762616, 'avg_acc': 54.49803851640513, 'loss': 1.6711286306381226}\n"
     ]
    },
    {
     "name": "stderr",
     "output_type": "stream",
     "text": [
      "EP_train:15:  76%|| 717/938 [00:27<00:07, 27.95it/s]"
     ]
    },
    {
     "name": "stdout",
     "output_type": "stream",
     "text": [
      "{'epoch': 15, 'iter': 710, 'avg_loss': 1.4649679478881397, 'avg_acc': 54.52267932489452, 'loss': 1.3338186740875244}\n"
     ]
    },
    {
     "name": "stderr",
     "output_type": "stream",
     "text": [
      "EP_train:15:  77%|| 720/938 [00:27<00:07, 28.45it/s]"
     ]
    },
    {
     "name": "stdout",
     "output_type": "stream",
     "text": [
      "{'epoch': 15, 'iter': 720, 'avg_loss': 1.4648516921329102, 'avg_acc': 54.52929958391124, 'loss': 1.401474952697754}\n"
     ]
    },
    {
     "name": "stderr",
     "output_type": "stream",
     "text": [
      "EP_train:15:  79%|| 737/938 [00:28<00:07, 27.98it/s]"
     ]
    },
    {
     "name": "stdout",
     "output_type": "stream",
     "text": [
      "{'epoch': 15, 'iter': 730, 'avg_loss': 1.4648348751048546, 'avg_acc': 54.48871409028728, 'loss': 1.8417320251464844}\n"
     ]
    },
    {
     "name": "stderr",
     "output_type": "stream",
     "text": [
      "EP_train:15:  79%|| 744/938 [00:28<00:06, 28.99it/s]"
     ]
    },
    {
     "name": "stdout",
     "output_type": "stream",
     "text": [
      "{'epoch': 15, 'iter': 740, 'avg_loss': 1.4650404212767618, 'avg_acc': 54.50826585695007, 'loss': 1.5994257926940918}\n"
     ]
    },
    {
     "name": "stderr",
     "output_type": "stream",
     "text": [
      "EP_train:15:  81%|| 756/938 [00:28<00:06, 29.85it/s]"
     ]
    },
    {
     "name": "stdout",
     "output_type": "stream",
     "text": [
      "{'epoch': 15, 'iter': 750, 'avg_loss': 1.4659044570357758, 'avg_acc': 54.52729693741678, 'loss': 1.4655076265335083}\n"
     ]
    },
    {
     "name": "stderr",
     "output_type": "stream",
     "text": [
      "EP_train:15:  81%|| 764/938 [00:29<00:05, 29.92it/s]"
     ]
    },
    {
     "name": "stdout",
     "output_type": "stream",
     "text": [
      "{'epoch': 15, 'iter': 760, 'avg_loss': 1.4662608750233042, 'avg_acc': 54.51708278580815, 'loss': 1.5891348123550415}\n"
     ]
    },
    {
     "name": "stderr",
     "output_type": "stream",
     "text": [
      "EP_train:15:  83%|| 775/938 [00:29<00:06, 23.67it/s]"
     ]
    },
    {
     "name": "stdout",
     "output_type": "stream",
     "text": [
      "{'epoch': 15, 'iter': 770, 'avg_loss': 1.4662076516992542, 'avg_acc': 54.539559014267184, 'loss': 1.4735562801361084}\n"
     ]
    },
    {
     "name": "stderr",
     "output_type": "stream",
     "text": [
      "EP_train:15:  84%|| 784/938 [00:29<00:05, 26.63it/s]"
     ]
    },
    {
     "name": "stdout",
     "output_type": "stream",
     "text": [
      "{'epoch': 15, 'iter': 780, 'avg_loss': 1.466030851140065, 'avg_acc': 54.54545454545454, 'loss': 1.6192127466201782}\n"
     ]
    },
    {
     "name": "stderr",
     "output_type": "stream",
     "text": [
      "EP_train:15:  85%|| 794/938 [00:30<00:04, 28.89it/s]"
     ]
    },
    {
     "name": "stdout",
     "output_type": "stream",
     "text": [
      "{'epoch': 15, 'iter': 790, 'avg_loss': 1.465911610313372, 'avg_acc': 54.58280657395702, 'loss': 1.3758901357650757}\n"
     ]
    },
    {
     "name": "stderr",
     "output_type": "stream",
     "text": [
      "EP_train:15:  86%|| 806/938 [00:30<00:04, 28.80it/s]"
     ]
    },
    {
     "name": "stdout",
     "output_type": "stream",
     "text": [
      "{'epoch': 15, 'iter': 800, 'avg_loss': 1.4654205509934681, 'avg_acc': 54.63093008739076, 'loss': 1.5278974771499634}\n"
     ]
    },
    {
     "name": "stderr",
     "output_type": "stream",
     "text": [
      "EP_train:15:  87%|| 817/938 [00:31<00:03, 30.64it/s]"
     ]
    },
    {
     "name": "stdout",
     "output_type": "stream",
     "text": [
      "{'epoch': 15, 'iter': 810, 'avg_loss': 1.4653775826482385, 'avg_acc': 54.61621454993835, 'loss': 1.4884270429611206}\n"
     ]
    },
    {
     "name": "stderr",
     "output_type": "stream",
     "text": [
      "EP_train:15:  88%|| 824/938 [00:31<00:04, 23.79it/s]"
     ]
    },
    {
     "name": "stdout",
     "output_type": "stream",
     "text": [
      "{'epoch': 15, 'iter': 820, 'avg_loss': 1.4657335418586173, 'avg_acc': 54.68940316686967, 'loss': 1.4912012815475464}\n"
     ]
    },
    {
     "name": "stderr",
     "output_type": "stream",
     "text": [
      "EP_train:15:  89%|| 837/938 [00:31<00:03, 27.29it/s]"
     ]
    },
    {
     "name": "stdout",
     "output_type": "stream",
     "text": [
      "{'epoch': 15, 'iter': 830, 'avg_loss': 1.4655975867264537, 'avg_acc': 54.742027677497, 'loss': 1.5014921426773071}\n"
     ]
    },
    {
     "name": "stderr",
     "output_type": "stream",
     "text": [
      "EP_train:15:  90%|| 845/938 [00:32<00:03, 29.09it/s]"
     ]
    },
    {
     "name": "stdout",
     "output_type": "stream",
     "text": [
      "{'epoch': 15, 'iter': 840, 'avg_loss': 1.4649968697965217, 'avg_acc': 54.756242568370986, 'loss': 1.569618582725525}\n"
     ]
    },
    {
     "name": "stderr",
     "output_type": "stream",
     "text": [
      "EP_train:15:  91%|| 856/938 [00:32<00:02, 29.50it/s]"
     ]
    },
    {
     "name": "stdout",
     "output_type": "stream",
     "text": [
      "{'epoch': 15, 'iter': 850, 'avg_loss': 1.464103083562907, 'avg_acc': 54.74441833137485, 'loss': 1.4004054069519043}\n"
     ]
    },
    {
     "name": "stderr",
     "output_type": "stream",
     "text": [
      "EP_train:15:  92%|| 864/938 [00:32<00:02, 29.01it/s]"
     ]
    },
    {
     "name": "stdout",
     "output_type": "stream",
     "text": [
      "{'epoch': 15, 'iter': 860, 'avg_loss': 1.4646738934461525, 'avg_acc': 54.732868757259, 'loss': 1.5242739915847778}\n"
     ]
    },
    {
     "name": "stderr",
     "output_type": "stream",
     "text": [
      "EP_train:15:  93%|| 877/938 [00:33<00:02, 25.16it/s]"
     ]
    },
    {
     "name": "stdout",
     "output_type": "stream",
     "text": [
      "{'epoch': 15, 'iter': 870, 'avg_loss': 1.4641595136558148, 'avg_acc': 54.68570608495982, 'loss': 1.4955666065216064}\n"
     ]
    },
    {
     "name": "stderr",
     "output_type": "stream",
     "text": [
      "EP_train:15:  94%|| 883/938 [00:33<00:02, 26.45it/s]"
     ]
    },
    {
     "name": "stdout",
     "output_type": "stream",
     "text": [
      "{'epoch': 15, 'iter': 880, 'avg_loss': 1.4646588269616905, 'avg_acc': 54.689273552780925, 'loss': 1.623664379119873}\n"
     ]
    },
    {
     "name": "stderr",
     "output_type": "stream",
     "text": [
      "EP_train:15:  95%|| 894/938 [00:34<00:01, 29.37it/s]"
     ]
    },
    {
     "name": "stdout",
     "output_type": "stream",
     "text": [
      "{'epoch': 15, 'iter': 890, 'avg_loss': 1.464491331684335, 'avg_acc': 54.626122334455665, 'loss': 1.4790500402450562}\n"
     ]
    },
    {
     "name": "stderr",
     "output_type": "stream",
     "text": [
      "EP_train:15:  97%|| 906/938 [00:34<00:01, 30.49it/s]"
     ]
    },
    {
     "name": "stdout",
     "output_type": "stream",
     "text": [
      "{'epoch': 15, 'iter': 900, 'avg_loss': 1.4643732783664742, 'avg_acc': 54.61293007769146, 'loss': 1.2856041193008423}\n"
     ]
    },
    {
     "name": "stderr",
     "output_type": "stream",
     "text": [
      "EP_train:15:  97%|| 910/938 [00:34<00:00, 30.34it/s]"
     ]
    },
    {
     "name": "stdout",
     "output_type": "stream",
     "text": [
      "{'epoch': 15, 'iter': 910, 'avg_loss': 1.4636379257253445, 'avg_acc': 54.62746981339188, 'loss': 1.1273337602615356}\n"
     ]
    },
    {
     "name": "stderr",
     "output_type": "stream",
     "text": [
      "EP_train:15:  98%|| 923/938 [00:35<00:00, 25.72it/s]"
     ]
    },
    {
     "name": "stdout",
     "output_type": "stream",
     "text": [
      "{'epoch': 15, 'iter': 920, 'avg_loss': 1.4636633102979255, 'avg_acc': 54.62472855591748, 'loss': 1.590157151222229}\n"
     ]
    },
    {
     "name": "stderr",
     "output_type": "stream",
     "text": [
      "EP_train:15: 100%|| 935/938 [00:35<00:00, 30.11it/s]"
     ]
    },
    {
     "name": "stdout",
     "output_type": "stream",
     "text": [
      "{'epoch': 15, 'iter': 930, 'avg_loss': 1.4641586497954215, 'avg_acc': 54.56498388829216, 'loss': 1.8325400352478027}\n"
     ]
    },
    {
     "name": "stderr",
     "output_type": "stream",
     "text": [
      "EP_train:15: 100%|| 938/938 [00:35<00:00, 26.37it/s]\n"
     ]
    },
    {
     "name": "stdout",
     "output_type": "stream",
     "text": [
      "EP15, train:             avg_loss=1.4643791360514504,             total_acc=54.571523841280424\n"
     ]
    },
    {
     "name": "stderr",
     "output_type": "stream",
     "text": [
      "EP_train:16:   0%|| 3/938 [00:00<00:31, 29.73it/s]"
     ]
    },
    {
     "name": "stdout",
     "output_type": "stream",
     "text": [
      "{'epoch': 16, 'iter': 0, 'avg_loss': 1.6871224641799927, 'avg_acc': 59.375, 'loss': 1.6871224641799927}\n"
     ]
    },
    {
     "name": "stderr",
     "output_type": "stream",
     "text": [
      "EP_train:16:   2%|| 17/938 [00:00<00:29, 31.47it/s]"
     ]
    },
    {
     "name": "stdout",
     "output_type": "stream",
     "text": [
      "{'epoch': 16, 'iter': 10, 'avg_loss': 1.5287947329607876, 'avg_acc': 53.40909090909091, 'loss': 1.407813310623169}\n"
     ]
    },
    {
     "name": "stderr",
     "output_type": "stream",
     "text": [
      "EP_train:16:   3%|| 24/938 [00:00<00:37, 24.53it/s]"
     ]
    },
    {
     "name": "stdout",
     "output_type": "stream",
     "text": [
      "{'epoch': 16, 'iter': 20, 'avg_loss': 1.4697622060775757, 'avg_acc': 53.125, 'loss': 1.6066710948944092}\n"
     ]
    },
    {
     "name": "stderr",
     "output_type": "stream",
     "text": [
      "EP_train:16:   4%|| 37/938 [00:01<00:31, 28.78it/s]"
     ]
    },
    {
     "name": "stdout",
     "output_type": "stream",
     "text": [
      "{'epoch': 16, 'iter': 30, 'avg_loss': 1.453405495612852, 'avg_acc': 52.721774193548384, 'loss': 1.423054575920105}\n"
     ]
    },
    {
     "name": "stderr",
     "output_type": "stream",
     "text": [
      "EP_train:16:   5%|| 47/938 [00:01<00:29, 29.71it/s]"
     ]
    },
    {
     "name": "stdout",
     "output_type": "stream",
     "text": [
      "{'epoch': 16, 'iter': 40, 'avg_loss': 1.4678183910323352, 'avg_acc': 52.743902439024396, 'loss': 1.657466173171997}\n"
     ]
    },
    {
     "name": "stderr",
     "output_type": "stream",
     "text": [
      "EP_train:16:   6%|| 53/938 [00:01<00:33, 26.28it/s]"
     ]
    },
    {
     "name": "stdout",
     "output_type": "stream",
     "text": [
      "{'epoch': 16, 'iter': 50, 'avg_loss': 1.4657551283929862, 'avg_acc': 54.41176470588235, 'loss': 1.5394983291625977}\n"
     ]
    },
    {
     "name": "stderr",
     "output_type": "stream",
     "text": [
      "EP_train:16:   7%|| 65/938 [00:02<00:44, 19.55it/s]"
     ]
    },
    {
     "name": "stdout",
     "output_type": "stream",
     "text": [
      "{'epoch': 16, 'iter': 60, 'avg_loss': 1.4601328079817726, 'avg_acc': 53.48360655737705, 'loss': 1.365648627281189}\n"
     ]
    },
    {
     "name": "stderr",
     "output_type": "stream",
     "text": [
      "EP_train:16:   8%|| 74/938 [00:02<00:37, 23.04it/s]"
     ]
    },
    {
     "name": "stdout",
     "output_type": "stream",
     "text": [
      "{'epoch': 16, 'iter': 70, 'avg_loss': 1.4605973958969116, 'avg_acc': 53.69718309859155, 'loss': 1.2529635429382324}\n"
     ]
    },
    {
     "name": "stderr",
     "output_type": "stream",
     "text": [
      "EP_train:16:   9%|| 84/938 [00:03<00:32, 26.68it/s]"
     ]
    },
    {
     "name": "stdout",
     "output_type": "stream",
     "text": [
      "{'epoch': 16, 'iter': 80, 'avg_loss': 1.4569684370064442, 'avg_acc': 53.58796296296296, 'loss': 1.5072872638702393}\n"
     ]
    },
    {
     "name": "stderr",
     "output_type": "stream",
     "text": [
      "EP_train:16:  10%|| 94/938 [00:03<00:30, 28.04it/s]"
     ]
    },
    {
     "name": "stdout",
     "output_type": "stream",
     "text": [
      "{'epoch': 16, 'iter': 90, 'avg_loss': 1.4548606361661638, 'avg_acc': 54.12087912087912, 'loss': 1.5605669021606445}\n"
     ]
    },
    {
     "name": "stderr",
     "output_type": "stream",
     "text": [
      "EP_train:16:  11%|| 100/938 [00:03<00:29, 28.73it/s]"
     ]
    },
    {
     "name": "stdout",
     "output_type": "stream",
     "text": [
      "{'epoch': 16, 'iter': 100, 'avg_loss': 1.4579975793857385, 'avg_acc': 54.05321782178218, 'loss': 1.5843619108200073}\n"
     ]
    },
    {
     "name": "stderr",
     "output_type": "stream",
     "text": [
      "EP_train:16:  12%|| 116/938 [00:04<00:29, 27.48it/s]"
     ]
    },
    {
     "name": "stdout",
     "output_type": "stream",
     "text": [
      "{'epoch': 16, 'iter': 110, 'avg_loss': 1.4641030350246944, 'avg_acc': 53.77252252252253, 'loss': 1.6125105619430542}\n"
     ]
    },
    {
     "name": "stderr",
     "output_type": "stream",
     "text": [
      "EP_train:16:  14%|| 127/938 [00:04<00:26, 30.04it/s]"
     ]
    },
    {
     "name": "stdout",
     "output_type": "stream",
     "text": [
      "{'epoch': 16, 'iter': 120, 'avg_loss': 1.4582455306013753, 'avg_acc': 54.132231404958674, 'loss': 1.2324895858764648}\n"
     ]
    },
    {
     "name": "stderr",
     "output_type": "stream",
     "text": [
      "EP_train:16:  14%|| 135/938 [00:05<00:26, 30.04it/s]"
     ]
    },
    {
     "name": "stdout",
     "output_type": "stream",
     "text": [
      "{'epoch': 16, 'iter': 130, 'avg_loss': 1.4567977381116561, 'avg_acc': 54.12690839694656, 'loss': 1.471684455871582}\n"
     ]
    },
    {
     "name": "stderr",
     "output_type": "stream",
     "text": [
      "EP_train:16:  15%|| 143/938 [00:05<00:27, 29.11it/s]"
     ]
    },
    {
     "name": "stdout",
     "output_type": "stream",
     "text": [
      "{'epoch': 16, 'iter': 140, 'avg_loss': 1.4647923665689238, 'avg_acc': 54.03368794326241, 'loss': 1.6732614040374756}\n"
     ]
    },
    {
     "name": "stderr",
     "output_type": "stream",
     "text": [
      "EP_train:16:  17%|| 156/938 [00:06<00:34, 22.70it/s]"
     ]
    },
    {
     "name": "stdout",
     "output_type": "stream",
     "text": [
      "{'epoch': 16, 'iter': 150, 'avg_loss': 1.4692571186861456, 'avg_acc': 54.097682119205295, 'loss': 1.855604648590088}\n"
     ]
    },
    {
     "name": "stderr",
     "output_type": "stream",
     "text": [
      "EP_train:16:  18%|| 165/938 [00:06<00:30, 25.11it/s]"
     ]
    },
    {
     "name": "stdout",
     "output_type": "stream",
     "text": [
      "{'epoch': 16, 'iter': 160, 'avg_loss': 1.4657959812176153, 'avg_acc': 53.99844720496895, 'loss': 1.3465300798416138}\n"
     ]
    },
    {
     "name": "stderr",
     "output_type": "stream",
     "text": [
      "EP_train:16:  19%|| 174/938 [00:06<00:28, 26.86it/s]"
     ]
    },
    {
     "name": "stdout",
     "output_type": "stream",
     "text": [
      "{'epoch': 16, 'iter': 170, 'avg_loss': 1.4646177229128385, 'avg_acc': 54.130116959064324, 'loss': 1.6527105569839478}\n"
     ]
    },
    {
     "name": "stderr",
     "output_type": "stream",
     "text": [
      "EP_train:16:  20%|| 184/938 [00:07<00:27, 27.42it/s]"
     ]
    },
    {
     "name": "stdout",
     "output_type": "stream",
     "text": [
      "{'epoch': 16, 'iter': 180, 'avg_loss': 1.462343659848798, 'avg_acc': 54.16091160220995, 'loss': 1.3958096504211426}\n"
     ]
    },
    {
     "name": "stderr",
     "output_type": "stream",
     "text": [
      "EP_train:16:  21%|| 193/938 [00:07<00:38, 19.49it/s]"
     ]
    },
    {
     "name": "stdout",
     "output_type": "stream",
     "text": [
      "{'epoch': 16, 'iter': 190, 'avg_loss': 1.4621973331061957, 'avg_acc': 53.99214659685864, 'loss': 1.5438605546951294}\n"
     ]
    },
    {
     "name": "stderr",
     "output_type": "stream",
     "text": [
      "EP_train:16:  22%|| 205/938 [00:08<00:29, 24.60it/s]"
     ]
    },
    {
     "name": "stdout",
     "output_type": "stream",
     "text": [
      "{'epoch': 16, 'iter': 200, 'avg_loss': 1.4639261118808196, 'avg_acc': 53.96455223880597, 'loss': 1.490753173828125}\n"
     ]
    },
    {
     "name": "stderr",
     "output_type": "stream",
     "text": [
      "EP_train:16:  23%|| 215/938 [00:08<00:26, 27.00it/s]"
     ]
    },
    {
     "name": "stdout",
     "output_type": "stream",
     "text": [
      "{'epoch': 16, 'iter': 210, 'avg_loss': 1.4635244771767566, 'avg_acc': 53.895142180094794, 'loss': 1.4395915269851685}\n"
     ]
    },
    {
     "name": "stderr",
     "output_type": "stream",
     "text": [
      "EP_train:16:  24%|| 225/938 [00:08<00:25, 27.97it/s]"
     ]
    },
    {
     "name": "stdout",
     "output_type": "stream",
     "text": [
      "{'epoch': 16, 'iter': 220, 'avg_loss': 1.4638930715586804, 'avg_acc': 53.959276018099544, 'loss': 1.5355626344680786}\n"
     ]
    },
    {
     "name": "stderr",
     "output_type": "stream",
     "text": [
      "EP_train:16:  25%|| 235/938 [00:09<00:33, 21.18it/s]"
     ]
    },
    {
     "name": "stdout",
     "output_type": "stream",
     "text": [
      "{'epoch': 16, 'iter': 230, 'avg_loss': 1.463883315329944, 'avg_acc': 53.97727272727273, 'loss': 1.5738507509231567}\n"
     ]
    },
    {
     "name": "stderr",
     "output_type": "stream",
     "text": [
      "EP_train:16:  26%|| 244/938 [00:09<00:30, 22.90it/s]"
     ]
    },
    {
     "name": "stdout",
     "output_type": "stream",
     "text": [
      "{'epoch': 16, 'iter': 240, 'avg_loss': 1.4618644867695219, 'avg_acc': 53.7603734439834, 'loss': 1.5867738723754883}\n"
     ]
    },
    {
     "name": "stderr",
     "output_type": "stream",
     "text": [
      "EP_train:16:  27%|| 256/938 [00:10<00:26, 26.19it/s]"
     ]
    },
    {
     "name": "stdout",
     "output_type": "stream",
     "text": [
      "{'epoch': 16, 'iter': 250, 'avg_loss': 1.4630896356476255, 'avg_acc': 53.772410358565736, 'loss': 1.5997782945632935}\n"
     ]
    },
    {
     "name": "stderr",
     "output_type": "stream",
     "text": [
      "EP_train:16:  28%|| 265/938 [00:10<00:24, 27.12it/s]"
     ]
    },
    {
     "name": "stdout",
     "output_type": "stream",
     "text": [
      "{'epoch': 16, 'iter': 260, 'avg_loss': 1.463919835529108, 'avg_acc': 53.723659003831415, 'loss': 1.5124620199203491}\n"
     ]
    },
    {
     "name": "stderr",
     "output_type": "stream",
     "text": [
      "EP_train:16:  29%|| 271/938 [00:10<00:23, 28.44it/s]"
     ]
    },
    {
     "name": "stdout",
     "output_type": "stream",
     "text": [
      "{'epoch': 16, 'iter': 270, 'avg_loss': 1.465825244509426, 'avg_acc': 53.63238007380073, 'loss': 1.5429593324661255}\n"
     ]
    },
    {
     "name": "stderr",
     "output_type": "stream",
     "text": [
      "EP_train:16:  31%|| 287/938 [00:11<00:23, 27.27it/s]"
     ]
    },
    {
     "name": "stdout",
     "output_type": "stream",
     "text": [
      "{'epoch': 16, 'iter': 280, 'avg_loss': 1.464906102397688, 'avg_acc': 53.70329181494662, 'loss': 1.6245660781860352}\n"
     ]
    },
    {
     "name": "stderr",
     "output_type": "stream",
     "text": [
      "EP_train:16:  31%|| 294/938 [00:11<00:22, 28.18it/s]"
     ]
    },
    {
     "name": "stdout",
     "output_type": "stream",
     "text": [
      "{'epoch': 16, 'iter': 290, 'avg_loss': 1.466393763257056, 'avg_acc': 53.68341924398625, 'loss': 1.4665532112121582}\n"
     ]
    },
    {
     "name": "stderr",
     "output_type": "stream",
     "text": [
      "EP_train:16:  33%|| 305/938 [00:11<00:21, 29.57it/s]"
     ]
    },
    {
     "name": "stdout",
     "output_type": "stream",
     "text": [
      "{'epoch': 16, 'iter': 300, 'avg_loss': 1.4638995546043116, 'avg_acc': 53.79983388704319, 'loss': 1.5736684799194336}\n"
     ]
    },
    {
     "name": "stderr",
     "output_type": "stream",
     "text": [
      "EP_train:16:  33%|| 309/938 [00:12<00:20, 30.46it/s]"
     ]
    },
    {
     "name": "stdout",
     "output_type": "stream",
     "text": [
      "{'epoch': 16, 'iter': 310, 'avg_loss': 1.4610415375117705, 'avg_acc': 53.717845659163984, 'loss': 1.2130943536758423}\n"
     ]
    },
    {
     "name": "stderr",
     "output_type": "stream",
     "text": [
      "EP_train:16:  35%|| 327/938 [00:12<00:21, 27.81it/s]"
     ]
    },
    {
     "name": "stdout",
     "output_type": "stream",
     "text": [
      "{'epoch': 16, 'iter': 320, 'avg_loss': 1.45854534315543, 'avg_acc': 53.8648753894081, 'loss': 1.120972990989685}\n"
     ]
    },
    {
     "name": "stderr",
     "output_type": "stream",
     "text": [
      "EP_train:16:  36%|| 334/938 [00:12<00:21, 28.25it/s]"
     ]
    },
    {
     "name": "stdout",
     "output_type": "stream",
     "text": [
      "{'epoch': 16, 'iter': 330, 'avg_loss': 1.4571232176259206, 'avg_acc': 53.91805135951662, 'loss': 1.5535832643508911}\n"
     ]
    },
    {
     "name": "stderr",
     "output_type": "stream",
     "text": [
      "EP_train:16:  37%|| 347/938 [00:13<00:21, 27.72it/s]"
     ]
    },
    {
     "name": "stdout",
     "output_type": "stream",
     "text": [
      "{'epoch': 16, 'iter': 340, 'avg_loss': 1.4590726192396057, 'avg_acc': 53.87646627565983, 'loss': 1.4418225288391113}\n"
     ]
    },
    {
     "name": "stderr",
     "output_type": "stream",
     "text": [
      "EP_train:16:  38%|| 357/938 [00:13<00:19, 29.06it/s]"
     ]
    },
    {
     "name": "stdout",
     "output_type": "stream",
     "text": [
      "{'epoch': 16, 'iter': 350, 'avg_loss': 1.4597327080886928, 'avg_acc': 53.783831908831914, 'loss': 1.3775863647460938}\n"
     ]
    },
    {
     "name": "stderr",
     "output_type": "stream",
     "text": [
      "EP_train:16:  39%|| 367/938 [00:14<00:23, 24.29it/s]"
     ]
    },
    {
     "name": "stdout",
     "output_type": "stream",
     "text": [
      "{'epoch': 16, 'iter': 360, 'avg_loss': 1.4590142248740157, 'avg_acc': 53.765581717451525, 'loss': 1.4101892709732056}\n"
     ]
    },
    {
     "name": "stderr",
     "output_type": "stream",
     "text": [
      "EP_train:16:  40%|| 373/938 [00:14<00:21, 26.16it/s]"
     ]
    },
    {
     "name": "stdout",
     "output_type": "stream",
     "text": [
      "{'epoch': 16, 'iter': 370, 'avg_loss': 1.4604118737891678, 'avg_acc': 53.891509433962256, 'loss': 1.4959158897399902}\n"
     ]
    },
    {
     "name": "stderr",
     "output_type": "stream",
     "text": [
      "EP_train:16:  41%|| 385/938 [00:14<00:18, 29.58it/s]"
     ]
    },
    {
     "name": "stdout",
     "output_type": "stream",
     "text": [
      "{'epoch': 16, 'iter': 380, 'avg_loss': 1.4608790664848068, 'avg_acc': 53.87139107611548, 'loss': 1.3819960355758667}\n"
     ]
    },
    {
     "name": "stderr",
     "output_type": "stream",
     "text": [
      "EP_train:16:  42%|| 397/938 [00:15<00:16, 32.12it/s]"
     ]
    },
    {
     "name": "stdout",
     "output_type": "stream",
     "text": [
      "{'epoch': 16, 'iter': 390, 'avg_loss': 1.461996926371094, 'avg_acc': 53.892263427109974, 'loss': 1.441506028175354}\n"
     ]
    },
    {
     "name": "stderr",
     "output_type": "stream",
     "text": [
      "EP_train:16:  43%|| 407/938 [00:15<00:19, 26.59it/s]"
     ]
    },
    {
     "name": "stdout",
     "output_type": "stream",
     "text": [
      "{'epoch': 16, 'iter': 400, 'avg_loss': 1.4633539406735998, 'avg_acc': 54.08354114713217, 'loss': 1.563232183456421}\n"
     ]
    },
    {
     "name": "stderr",
     "output_type": "stream",
     "text": [
      "EP_train:16:  44%|| 414/938 [00:15<00:18, 27.76it/s]"
     ]
    },
    {
     "name": "stdout",
     "output_type": "stream",
     "text": [
      "{'epoch': 16, 'iter': 410, 'avg_loss': 1.4627405219414518, 'avg_acc': 54.15906326034063, 'loss': 1.6517783403396606}\n"
     ]
    },
    {
     "name": "stderr",
     "output_type": "stream",
     "text": [
      "EP_train:16:  45%|| 426/938 [00:16<00:16, 30.17it/s]"
     ]
    },
    {
     "name": "stdout",
     "output_type": "stream",
     "text": [
      "{'epoch': 16, 'iter': 420, 'avg_loss': 1.4629218666117434, 'avg_acc': 54.186460807600945, 'loss': 1.3957067728042603}\n"
     ]
    },
    {
     "name": "stderr",
     "output_type": "stream",
     "text": [
      "EP_train:16:  46%|| 434/938 [00:16<00:17, 28.28it/s]"
     ]
    },
    {
     "name": "stdout",
     "output_type": "stream",
     "text": [
      "{'epoch': 16, 'iter': 430, 'avg_loss': 1.4622462390470394, 'avg_acc': 54.11107888631091, 'loss': 1.443795084953308}\n"
     ]
    },
    {
     "name": "stderr",
     "output_type": "stream",
     "text": [
      "EP_train:16:  47%|| 445/938 [00:17<00:20, 23.99it/s]"
     ]
    },
    {
     "name": "stdout",
     "output_type": "stream",
     "text": [
      "{'epoch': 16, 'iter': 440, 'avg_loss': 1.4618045534947022, 'avg_acc': 54.10289115646258, 'loss': 1.383275032043457}\n"
     ]
    },
    {
     "name": "stderr",
     "output_type": "stream",
     "text": [
      "EP_train:16:  49%|| 455/938 [00:17<00:17, 27.26it/s]"
     ]
    },
    {
     "name": "stdout",
     "output_type": "stream",
     "text": [
      "{'epoch': 16, 'iter': 450, 'avg_loss': 1.4603535123252023, 'avg_acc': 54.17128603104213, 'loss': 1.427634835243225}\n"
     ]
    },
    {
     "name": "stderr",
     "output_type": "stream",
     "text": [
      "EP_train:16:  50%|| 466/938 [00:17<00:16, 29.34it/s]"
     ]
    },
    {
     "name": "stdout",
     "output_type": "stream",
     "text": [
      "{'epoch': 16, 'iter': 460, 'avg_loss': 1.4602110149286316, 'avg_acc': 54.16892624728851, 'loss': 1.2022665739059448}\n"
     ]
    },
    {
     "name": "stderr",
     "output_type": "stream",
     "text": [
      "EP_train:16:  51%|| 474/938 [00:18<00:15, 30.27it/s]"
     ]
    },
    {
     "name": "stdout",
     "output_type": "stream",
     "text": [
      "{'epoch': 16, 'iter': 470, 'avg_loss': 1.4616116392890866, 'avg_acc': 54.16003184713376, 'loss': 1.5718286037445068}\n"
     ]
    },
    {
     "name": "stderr",
     "output_type": "stream",
     "text": [
      "EP_train:16:  51%|| 482/938 [00:18<00:18, 25.25it/s]"
     ]
    },
    {
     "name": "stdout",
     "output_type": "stream",
     "text": [
      "{'epoch': 16, 'iter': 480, 'avg_loss': 1.4612934598060259, 'avg_acc': 54.112525987525984, 'loss': 1.5935962200164795}\n"
     ]
    },
    {
     "name": "stderr",
     "output_type": "stream",
     "text": [
      "EP_train:16:  53%|| 496/938 [00:18<00:15, 28.40it/s]"
     ]
    },
    {
     "name": "stdout",
     "output_type": "stream",
     "text": [
      "{'epoch': 16, 'iter': 490, 'avg_loss': 1.4626679902406914, 'avg_acc': 54.060590631364555, 'loss': 1.7334978580474854}\n"
     ]
    },
    {
     "name": "stderr",
     "output_type": "stream",
     "text": [
      "EP_train:16:  54%|| 504/938 [00:19<00:14, 30.42it/s]"
     ]
    },
    {
     "name": "stdout",
     "output_type": "stream",
     "text": [
      "{'epoch': 16, 'iter': 500, 'avg_loss': 1.4613923570829, 'avg_acc': 54.02944111776448, 'loss': 1.4302029609680176}\n"
     ]
    },
    {
     "name": "stderr",
     "output_type": "stream",
     "text": [
      "EP_train:16:  55%|| 516/938 [00:19<00:13, 31.05it/s]"
     ]
    },
    {
     "name": "stdout",
     "output_type": "stream",
     "text": [
      "{'epoch': 16, 'iter': 510, 'avg_loss': 1.4607433914671673, 'avg_acc': 54.04231898238747, 'loss': 1.4298813343048096}\n"
     ]
    },
    {
     "name": "stderr",
     "output_type": "stream",
     "text": [
      "EP_train:16:  55%|| 520/938 [00:19<00:13, 30.94it/s]"
     ]
    },
    {
     "name": "stdout",
     "output_type": "stream",
     "text": [
      "{'epoch': 16, 'iter': 520, 'avg_loss': 1.4615567566794763, 'avg_acc': 53.9827255278311, 'loss': 1.2795542478561401}\n"
     ]
    },
    {
     "name": "stderr",
     "output_type": "stream",
     "text": [
      "EP_train:16:  57%|| 534/938 [00:20<00:14, 27.99it/s]"
     ]
    },
    {
     "name": "stdout",
     "output_type": "stream",
     "text": [
      "{'epoch': 16, 'iter': 530, 'avg_loss': 1.4613775590718803, 'avg_acc': 54.013653483992464, 'loss': 1.203884482383728}\n"
     ]
    },
    {
     "name": "stderr",
     "output_type": "stream",
     "text": [
      "EP_train:16:  58%|| 546/938 [00:20<00:12, 31.85it/s]"
     ]
    },
    {
     "name": "stdout",
     "output_type": "stream",
     "text": [
      "{'epoch': 16, 'iter': 540, 'avg_loss': 1.4627847976693384, 'avg_acc': 54.0376617375231, 'loss': 1.5617514848709106}\n"
     ]
    },
    {
     "name": "stderr",
     "output_type": "stream",
     "text": [
      "EP_train:16:  59%|| 554/938 [00:20<00:11, 32.16it/s]"
     ]
    },
    {
     "name": "stdout",
     "output_type": "stream",
     "text": [
      "{'epoch': 16, 'iter': 550, 'avg_loss': 1.4629583894232874, 'avg_acc': 54.05512704174229, 'loss': 1.5521483421325684}\n"
     ]
    },
    {
     "name": "stderr",
     "output_type": "stream",
     "text": [
      "EP_train:16:  60%|| 566/938 [00:21<00:11, 31.55it/s]"
     ]
    },
    {
     "name": "stdout",
     "output_type": "stream",
     "text": [
      "{'epoch': 16, 'iter': 560, 'avg_loss': 1.464152669842868, 'avg_acc': 54.166666666666664, 'loss': 1.4357569217681885}\n"
     ]
    },
    {
     "name": "stderr",
     "output_type": "stream",
     "text": [
      "EP_train:16:  61%|| 570/938 [00:21<00:11, 31.84it/s]"
     ]
    },
    {
     "name": "stdout",
     "output_type": "stream",
     "text": [
      "{'epoch': 16, 'iter': 570, 'avg_loss': 1.4634305433926358, 'avg_acc': 54.12653239929948, 'loss': 1.4534032344818115}\n"
     ]
    },
    {
     "name": "stderr",
     "output_type": "stream",
     "text": [
      "EP_train:16:  62%|| 583/938 [00:21<00:14, 24.90it/s]"
     ]
    },
    {
     "name": "stdout",
     "output_type": "stream",
     "text": [
      "{'epoch': 16, 'iter': 580, 'avg_loss': 1.463729370173817, 'avg_acc': 54.24376075731497, 'loss': 1.5460938215255737}\n"
     ]
    },
    {
     "name": "stderr",
     "output_type": "stream",
     "text": [
      "EP_train:16:  63%|| 595/938 [00:22<00:11, 28.69it/s]"
     ]
    },
    {
     "name": "stdout",
     "output_type": "stream",
     "text": [
      "{'epoch': 16, 'iter': 590, 'avg_loss': 1.4646052675803907, 'avg_acc': 54.27241962774958, 'loss': 1.8273690938949585}\n"
     ]
    },
    {
     "name": "stderr",
     "output_type": "stream",
     "text": [
      "EP_train:16:  64%|| 605/938 [00:22<00:11, 28.45it/s]"
     ]
    },
    {
     "name": "stdout",
     "output_type": "stream",
     "text": [
      "{'epoch': 16, 'iter': 600, 'avg_loss': 1.466364454409842, 'avg_acc': 54.34692179700499, 'loss': 1.8282614946365356}\n"
     ]
    },
    {
     "name": "stderr",
     "output_type": "stream",
     "text": [
      "EP_train:16:  65%|| 614/938 [00:23<00:11, 27.36it/s]"
     ]
    },
    {
     "name": "stdout",
     "output_type": "stream",
     "text": [
      "{'epoch': 16, 'iter': 610, 'avg_loss': 1.465880516215354, 'avg_acc': 54.352495908346974, 'loss': 1.3691868782043457}\n"
     ]
    },
    {
     "name": "stderr",
     "output_type": "stream",
     "text": [
      "EP_train:16:  67%|| 626/938 [00:23<00:12, 24.71it/s]"
     ]
    },
    {
     "name": "stdout",
     "output_type": "stream",
     "text": [
      "{'epoch': 16, 'iter': 620, 'avg_loss': 1.4660759996292865, 'avg_acc': 54.307568438003216, 'loss': 1.332326054573059}\n"
     ]
    },
    {
     "name": "stderr",
     "output_type": "stream",
     "text": [
      "EP_train:16:  68%|| 637/938 [00:23<00:10, 27.97it/s]"
     ]
    },
    {
     "name": "stdout",
     "output_type": "stream",
     "text": [
      "{'epoch': 16, 'iter': 630, 'avg_loss': 1.4652488629338103, 'avg_acc': 54.318541996830426, 'loss': 1.7578538656234741}\n"
     ]
    },
    {
     "name": "stderr",
     "output_type": "stream",
     "text": [
      "EP_train:16:  69%|| 644/938 [00:24<00:10, 29.10it/s]"
     ]
    },
    {
     "name": "stdout",
     "output_type": "stream",
     "text": [
      "{'epoch': 16, 'iter': 640, 'avg_loss': 1.464704764893572, 'avg_acc': 54.31454758190327, 'loss': 1.3481749296188354}\n"
     ]
    },
    {
     "name": "stderr",
     "output_type": "stream",
     "text": [
      "EP_train:16:  70%|| 654/938 [00:24<00:09, 29.89it/s]"
     ]
    },
    {
     "name": "stdout",
     "output_type": "stream",
     "text": [
      "{'epoch': 16, 'iter': 650, 'avg_loss': 1.4641261041255957, 'avg_acc': 54.3010752688172, 'loss': 1.3790479898452759}\n"
     ]
    },
    {
     "name": "stderr",
     "output_type": "stream",
     "text": [
      "EP_train:16:  71%|| 666/938 [00:25<00:10, 24.92it/s]"
     ]
    },
    {
     "name": "stdout",
     "output_type": "stream",
     "text": [
      "{'epoch': 16, 'iter': 660, 'avg_loss': 1.4647024611121047, 'avg_acc': 54.40147503782148, 'loss': 1.2672505378723145}\n"
     ]
    },
    {
     "name": "stderr",
     "output_type": "stream",
     "text": [
      "EP_train:16:  72%|| 676/938 [00:25<00:09, 28.34it/s]"
     ]
    },
    {
     "name": "stdout",
     "output_type": "stream",
     "text": [
      "{'epoch': 16, 'iter': 670, 'avg_loss': 1.4643770101884084, 'avg_acc': 54.42436661698957, 'loss': 1.4198936223983765}\n"
     ]
    },
    {
     "name": "stderr",
     "output_type": "stream",
     "text": [
      "EP_train:16:  73%|| 684/938 [00:25<00:08, 30.58it/s]"
     ]
    },
    {
     "name": "stdout",
     "output_type": "stream",
     "text": [
      "{'epoch': 16, 'iter': 680, 'avg_loss': 1.4652509719964866, 'avg_acc': 54.437408223201174, 'loss': 1.7204594612121582}\n"
     ]
    },
    {
     "name": "stderr",
     "output_type": "stream",
     "text": [
      "EP_train:16:  74%|| 696/938 [00:25<00:07, 31.31it/s]"
     ]
    },
    {
     "name": "stdout",
     "output_type": "stream",
     "text": [
      "{'epoch': 16, 'iter': 690, 'avg_loss': 1.4654084634677373, 'avg_acc': 54.38675832127352, 'loss': 1.4529521465301514}\n"
     ]
    },
    {
     "name": "stderr",
     "output_type": "stream",
     "text": [
      "EP_train:16:  75%|| 704/938 [00:26<00:07, 30.92it/s]"
     ]
    },
    {
     "name": "stdout",
     "output_type": "stream",
     "text": [
      "{'epoch': 16, 'iter': 700, 'avg_loss': 1.4654809943109368, 'avg_acc': 54.42671184022825, 'loss': 1.443305253982544}\n"
     ]
    },
    {
     "name": "stderr",
     "output_type": "stream",
     "text": [
      "EP_train:16:  76%|| 714/938 [00:26<00:08, 25.60it/s]"
     ]
    },
    {
     "name": "stdout",
     "output_type": "stream",
     "text": [
      "{'epoch': 16, 'iter': 710, 'avg_loss': 1.4645347902878763, 'avg_acc': 54.40840365682138, 'loss': 1.0599563121795654}\n"
     ]
    },
    {
     "name": "stderr",
     "output_type": "stream",
     "text": [
      "EP_train:16:  77%|| 725/938 [00:27<00:07, 28.82it/s]"
     ]
    },
    {
     "name": "stdout",
     "output_type": "stream",
     "text": [
      "{'epoch': 16, 'iter': 720, 'avg_loss': 1.4648437953855062, 'avg_acc': 54.433945908460466, 'loss': 1.489646077156067}\n"
     ]
    },
    {
     "name": "stderr",
     "output_type": "stream",
     "text": [
      "EP_train:16:  79%|| 737/938 [00:27<00:06, 31.53it/s]"
     ]
    },
    {
     "name": "stdout",
     "output_type": "stream",
     "text": [
      "{'epoch': 16, 'iter': 730, 'avg_loss': 1.4655134880917833, 'avg_acc': 54.484439124487004, 'loss': 1.5206469297409058}\n"
     ]
    },
    {
     "name": "stderr",
     "output_type": "stream",
     "text": [
      "EP_train:16:  79%|| 741/938 [00:27<00:06, 30.46it/s]"
     ]
    },
    {
     "name": "stdout",
     "output_type": "stream",
     "text": [
      "{'epoch': 16, 'iter': 740, 'avg_loss': 1.4650943767525728, 'avg_acc': 54.42392037786775, 'loss': 1.2303755283355713}\n"
     ]
    },
    {
     "name": "stderr",
     "output_type": "stream",
     "text": [
      "EP_train:16:  81%|| 756/938 [00:28<00:06, 27.36it/s]"
     ]
    },
    {
     "name": "stdout",
     "output_type": "stream",
     "text": [
      "{'epoch': 16, 'iter': 750, 'avg_loss': 1.4658195868471808, 'avg_acc': 54.38165778961385, 'loss': 1.4982514381408691}\n"
     ]
    },
    {
     "name": "stderr",
     "output_type": "stream",
     "text": [
      "EP_train:16:  82%|| 766/938 [00:28<00:06, 28.04it/s]"
     ]
    },
    {
     "name": "stdout",
     "output_type": "stream",
     "text": [
      "{'epoch': 16, 'iter': 760, 'avg_loss': 1.4663485251807664, 'avg_acc': 54.43906044678055, 'loss': 1.3886117935180664}\n"
     ]
    },
    {
     "name": "stderr",
     "output_type": "stream",
     "text": [
      "EP_train:16:  82%|| 773/938 [00:28<00:05, 28.71it/s]"
     ]
    },
    {
     "name": "stdout",
     "output_type": "stream",
     "text": [
      "{'epoch': 16, 'iter': 770, 'avg_loss': 1.4658654415653838, 'avg_acc': 54.385538261997404, 'loss': 1.6522899866104126}\n"
     ]
    },
    {
     "name": "stderr",
     "output_type": "stream",
     "text": [
      "EP_train:16:  84%|| 785/938 [00:29<00:04, 31.86it/s]"
     ]
    },
    {
     "name": "stdout",
     "output_type": "stream",
     "text": [
      "{'epoch': 16, 'iter': 780, 'avg_loss': 1.4661024386843096, 'avg_acc': 54.32538412291933, 'loss': 1.4784276485443115}\n"
     ]
    },
    {
     "name": "stderr",
     "output_type": "stream",
     "text": [
      "EP_train:16:  85%|| 793/938 [00:29<00:04, 32.57it/s]"
     ]
    },
    {
     "name": "stdout",
     "output_type": "stream",
     "text": [
      "{'epoch': 16, 'iter': 790, 'avg_loss': 1.4664093746548206, 'avg_acc': 54.29440581542352, 'loss': 1.6058763265609741}\n"
     ]
    },
    {
     "name": "stderr",
     "output_type": "stream",
     "text": [
      "EP_train:16:  86%|| 803/938 [00:29<00:05, 25.80it/s]"
     ]
    },
    {
     "name": "stdout",
     "output_type": "stream",
     "text": [
      "{'epoch': 16, 'iter': 800, 'avg_loss': 1.4654355852047305, 'avg_acc': 54.330524344569284, 'loss': 1.6920851469039917}\n"
     ]
    },
    {
     "name": "stderr",
     "output_type": "stream",
     "text": [
      "EP_train:16:  87%|| 815/938 [00:30<00:04, 30.38it/s]"
     ]
    },
    {
     "name": "stdout",
     "output_type": "stream",
     "text": [
      "{'epoch': 16, 'iter': 810, 'avg_loss': 1.4656995326905304, 'avg_acc': 54.34263255240444, 'loss': 1.2796471118927002}\n"
     ]
    },
    {
     "name": "stderr",
     "output_type": "stream",
     "text": [
      "EP_train:16:  88%|| 827/938 [00:30<00:03, 31.43it/s]"
     ]
    },
    {
     "name": "stdout",
     "output_type": "stream",
     "text": [
      "{'epoch': 16, 'iter': 820, 'avg_loss': 1.4652989397821414, 'avg_acc': 54.3772838002436, 'loss': 1.5087248086929321}\n"
     ]
    },
    {
     "name": "stderr",
     "output_type": "stream",
     "text": [
      "EP_train:16:  89%|| 831/938 [00:30<00:03, 30.98it/s]"
     ]
    },
    {
     "name": "stdout",
     "output_type": "stream",
     "text": [
      "{'epoch': 16, 'iter': 830, 'avg_loss': 1.4646918335402772, 'avg_acc': 54.38853790613718, 'loss': 1.6078240871429443}\n"
     ]
    },
    {
     "name": "stderr",
     "output_type": "stream",
     "text": [
      "EP_train:16:  90%|| 846/938 [00:31<00:03, 27.51it/s]"
     ]
    },
    {
     "name": "stdout",
     "output_type": "stream",
     "text": [
      "{'epoch': 16, 'iter': 840, 'avg_loss': 1.4648681226298301, 'avg_acc': 54.38094530321046, 'loss': 1.4985246658325195}\n"
     ]
    },
    {
     "name": "stderr",
     "output_type": "stream",
     "text": [
      "EP_train:16:  91%|| 854/938 [00:31<00:02, 29.44it/s]"
     ]
    },
    {
     "name": "stdout",
     "output_type": "stream",
     "text": [
      "{'epoch': 16, 'iter': 850, 'avg_loss': 1.4649260882485207, 'avg_acc': 54.39556404230317, 'loss': 1.6332868337631226}\n"
     ]
    },
    {
     "name": "stderr",
     "output_type": "stream",
     "text": [
      "EP_train:16:  92%|| 866/938 [00:31<00:02, 30.81it/s]"
     ]
    },
    {
     "name": "stdout",
     "output_type": "stream",
     "text": [
      "{'epoch': 16, 'iter': 860, 'avg_loss': 1.4646049179266554, 'avg_acc': 54.41347270615563, 'loss': 1.460575819015503}\n"
     ]
    },
    {
     "name": "stderr",
     "output_type": "stream",
     "text": [
      "EP_train:16:  93%|| 874/938 [00:32<00:02, 24.06it/s]"
     ]
    },
    {
     "name": "stdout",
     "output_type": "stream",
     "text": [
      "{'epoch': 16, 'iter': 870, 'avg_loss': 1.4647213140530373, 'avg_acc': 54.36638920780712, 'loss': 1.6778974533081055}\n"
     ]
    },
    {
     "name": "stderr",
     "output_type": "stream",
     "text": [
      "EP_train:16:  94%|| 885/938 [00:32<00:01, 28.03it/s]"
     ]
    },
    {
     "name": "stdout",
     "output_type": "stream",
     "text": [
      "{'epoch': 16, 'iter': 880, 'avg_loss': 1.4644499023304354, 'avg_acc': 54.34875141884222, 'loss': 1.3894155025482178}\n"
     ]
    },
    {
     "name": "stderr",
     "output_type": "stream",
     "text": [
      "EP_train:16:  96%|| 897/938 [00:33<00:01, 29.98it/s]"
     ]
    },
    {
     "name": "stdout",
     "output_type": "stream",
     "text": [
      "{'epoch': 16, 'iter': 890, 'avg_loss': 1.464435541870618, 'avg_acc': 54.401655443322106, 'loss': 1.4305328130722046}\n"
     ]
    },
    {
     "name": "stderr",
     "output_type": "stream",
     "text": [
      "EP_train:16:  96%|| 905/938 [00:33<00:01, 31.11it/s]"
     ]
    },
    {
     "name": "stdout",
     "output_type": "stream",
     "text": [
      "{'epoch': 16, 'iter': 900, 'avg_loss': 1.4645926787638903, 'avg_acc': 54.45685349611543, 'loss': 1.6588215827941895}\n"
     ]
    },
    {
     "name": "stderr",
     "output_type": "stream",
     "text": [
      "EP_train:16:  98%|| 917/938 [00:33<00:00, 31.32it/s]"
     ]
    },
    {
     "name": "stdout",
     "output_type": "stream",
     "text": [
      "{'epoch': 16, 'iter': 910, 'avg_loss': 1.4642921147702423, 'avg_acc': 54.552003293084525, 'loss': 1.3250917196273804}\n"
     ]
    },
    {
     "name": "stderr",
     "output_type": "stream",
     "text": [
      "EP_train:16:  99%|| 925/938 [00:34<00:00, 26.37it/s]"
     ]
    },
    {
     "name": "stdout",
     "output_type": "stream",
     "text": [
      "{'epoch': 16, 'iter': 920, 'avg_loss': 1.4636273700561897, 'avg_acc': 54.536509229098804, 'loss': 1.3032951354980469}\n"
     ]
    },
    {
     "name": "stderr",
     "output_type": "stream",
     "text": [
      "EP_train:16: 100%|| 934/938 [00:34<00:00, 27.77it/s]"
     ]
    },
    {
     "name": "stdout",
     "output_type": "stream",
     "text": [
      "{'epoch': 16, 'iter': 930, 'avg_loss': 1.464348777600441, 'avg_acc': 54.53477443609023, 'loss': 1.406692385673523}\n"
     ]
    },
    {
     "name": "stderr",
     "output_type": "stream",
     "text": [
      "EP_train:16: 100%|| 938/938 [00:34<00:00, 27.18it/s]\n"
     ]
    },
    {
     "name": "stdout",
     "output_type": "stream",
     "text": [
      "EP16, train:             avg_loss=1.4644536604123837,             total_acc=54.57485828609536\n"
     ]
    },
    {
     "name": "stderr",
     "output_type": "stream",
     "text": [
      "EP_train:17:   0%|| 3/938 [00:00<00:33, 27.64it/s]"
     ]
    },
    {
     "name": "stdout",
     "output_type": "stream",
     "text": [
      "{'epoch': 17, 'iter': 0, 'avg_loss': 1.372347116470337, 'avg_acc': 28.125, 'loss': 1.372347116470337}\n"
     ]
    },
    {
     "name": "stderr",
     "output_type": "stream",
     "text": [
      "EP_train:17:   1%|| 12/938 [00:00<00:35, 25.91it/s]"
     ]
    },
    {
     "name": "stdout",
     "output_type": "stream",
     "text": [
      "{'epoch': 17, 'iter': 10, 'avg_loss': 1.461412418972362, 'avg_acc': 54.82954545454546, 'loss': 1.5432476997375488}\n"
     ]
    },
    {
     "name": "stderr",
     "output_type": "stream",
     "text": [
      "EP_train:17:   3%|| 25/938 [00:01<00:36, 25.18it/s]"
     ]
    },
    {
     "name": "stdout",
     "output_type": "stream",
     "text": [
      "{'epoch': 17, 'iter': 20, 'avg_loss': 1.4811535335722423, 'avg_acc': 54.613095238095234, 'loss': 1.5883046388626099}\n"
     ]
    },
    {
     "name": "stderr",
     "output_type": "stream",
     "text": [
      "EP_train:17:   4%|| 37/938 [00:01<00:30, 29.52it/s]"
     ]
    },
    {
     "name": "stdout",
     "output_type": "stream",
     "text": [
      "{'epoch': 17, 'iter': 30, 'avg_loss': 1.447796433202682, 'avg_acc': 55.141129032258064, 'loss': 1.4134336709976196}\n"
     ]
    },
    {
     "name": "stderr",
     "output_type": "stream",
     "text": [
      "EP_train:17:   5%|| 47/938 [00:01<00:29, 30.47it/s]"
     ]
    },
    {
     "name": "stdout",
     "output_type": "stream",
     "text": [
      "{'epoch': 17, 'iter': 40, 'avg_loss': 1.452307756354169, 'avg_acc': 55.1829268292683, 'loss': 1.5143218040466309}\n"
     ]
    },
    {
     "name": "stderr",
     "output_type": "stream",
     "text": [
      "EP_train:17:   6%|| 55/938 [00:02<00:32, 27.05it/s]"
     ]
    },
    {
     "name": "stdout",
     "output_type": "stream",
     "text": [
      "{'epoch': 17, 'iter': 50, 'avg_loss': 1.4444550018684537, 'avg_acc': 55.26960784313726, 'loss': 1.3988984823226929}\n"
     ]
    },
    {
     "name": "stderr",
     "output_type": "stream",
     "text": [
      "EP_train:17:   7%|| 67/938 [00:02<00:32, 27.00it/s]"
     ]
    },
    {
     "name": "stdout",
     "output_type": "stream",
     "text": [
      "{'epoch': 17, 'iter': 60, 'avg_loss': 1.4531602996294615, 'avg_acc': 55.122950819672134, 'loss': 1.3473119735717773}\n"
     ]
    },
    {
     "name": "stderr",
     "output_type": "stream",
     "text": [
      "EP_train:17:   8%|| 75/938 [00:02<00:29, 28.77it/s]"
     ]
    },
    {
     "name": "stdout",
     "output_type": "stream",
     "text": [
      "{'epoch': 17, 'iter': 70, 'avg_loss': 1.4607871384687827, 'avg_acc': 55.1056338028169, 'loss': 1.47572922706604}\n"
     ]
    },
    {
     "name": "stderr",
     "output_type": "stream",
     "text": [
      "EP_train:17:   9%|| 85/938 [00:03<00:29, 29.14it/s]"
     ]
    },
    {
     "name": "stdout",
     "output_type": "stream",
     "text": [
      "{'epoch': 17, 'iter': 80, 'avg_loss': 1.4636535217732558, 'avg_acc': 55.47839506172839, 'loss': 1.531493067741394}\n"
     ]
    },
    {
     "name": "stderr",
     "output_type": "stream",
     "text": [
      "EP_train:17:  10%|| 96/938 [00:03<00:28, 29.53it/s]"
     ]
    },
    {
     "name": "stdout",
     "output_type": "stream",
     "text": [
      "{'epoch': 17, 'iter': 90, 'avg_loss': 1.455104492522858, 'avg_acc': 55.04807692307693, 'loss': 1.3679956197738647}\n"
     ]
    },
    {
     "name": "stderr",
     "output_type": "stream",
     "text": [
      "EP_train:17:  11%|| 106/938 [00:03<00:32, 25.51it/s]"
     ]
    },
    {
     "name": "stdout",
     "output_type": "stream",
     "text": [
      "{'epoch': 17, 'iter': 100, 'avg_loss': 1.4605350187509367, 'avg_acc': 55.228960396039604, 'loss': 1.3829221725463867}\n"
     ]
    },
    {
     "name": "stderr",
     "output_type": "stream",
     "text": [
      "EP_train:17:  12%|| 117/938 [00:04<00:28, 28.44it/s]"
     ]
    },
    {
     "name": "stdout",
     "output_type": "stream",
     "text": [
      "{'epoch': 17, 'iter': 110, 'avg_loss': 1.4634111647133354, 'avg_acc': 55.29279279279279, 'loss': 1.4918110370635986}\n"
     ]
    },
    {
     "name": "stderr",
     "output_type": "stream",
     "text": [
      "EP_train:17:  13%|| 125/938 [00:04<00:27, 29.81it/s]"
     ]
    },
    {
     "name": "stdout",
     "output_type": "stream",
     "text": [
      "{'epoch': 17, 'iter': 120, 'avg_loss': 1.4665109717156277, 'avg_acc': 55.39772727272727, 'loss': 1.399582862854004}\n"
     ]
    },
    {
     "name": "stderr",
     "output_type": "stream",
     "text": [
      "EP_train:17:  14%|| 133/938 [00:04<00:26, 30.62it/s]"
     ]
    },
    {
     "name": "stdout",
     "output_type": "stream",
     "text": [
      "{'epoch': 17, 'iter': 130, 'avg_loss': 1.4678455991599395, 'avg_acc': 55.24809160305344, 'loss': 1.4876490831375122}\n"
     ]
    },
    {
     "name": "stderr",
     "output_type": "stream",
     "text": [
      "EP_train:17:  16%|| 147/938 [00:05<00:28, 27.84it/s]"
     ]
    },
    {
     "name": "stdout",
     "output_type": "stream",
     "text": [
      "{'epoch': 17, 'iter': 140, 'avg_loss': 1.4657016722023064, 'avg_acc': 55.208333333333336, 'loss': 1.5296179056167603}\n"
     ]
    },
    {
     "name": "stderr",
     "output_type": "stream",
     "text": [
      "EP_train:17:  16%|| 154/938 [00:05<00:27, 28.83it/s]"
     ]
    },
    {
     "name": "stdout",
     "output_type": "stream",
     "text": [
      "{'epoch': 17, 'iter': 150, 'avg_loss': 1.4669582441153115, 'avg_acc': 55.318708609271525, 'loss': 1.5280016660690308}\n"
     ]
    },
    {
     "name": "stderr",
     "output_type": "stream",
     "text": [
      "EP_train:17:  18%|| 166/938 [00:06<00:25, 30.80it/s]"
     ]
    },
    {
     "name": "stdout",
     "output_type": "stream",
     "text": [
      "{'epoch': 17, 'iter': 160, 'avg_loss': 1.4701843046993943, 'avg_acc': 55.29891304347826, 'loss': 1.820181131362915}\n"
     ]
    },
    {
     "name": "stderr",
     "output_type": "stream",
     "text": [
      "EP_train:17:  19%|| 174/938 [00:06<00:23, 31.84it/s]"
     ]
    },
    {
     "name": "stdout",
     "output_type": "stream",
     "text": [
      "{'epoch': 17, 'iter': 170, 'avg_loss': 1.4670639058999848, 'avg_acc': 55.04385964912281, 'loss': 1.2585010528564453}\n"
     ]
    },
    {
     "name": "stderr",
     "output_type": "stream",
     "text": [
      "EP_train:17:  19%|| 182/938 [00:06<00:29, 25.89it/s]"
     ]
    },
    {
     "name": "stdout",
     "output_type": "stream",
     "text": [
      "{'epoch': 17, 'iter': 180, 'avg_loss': 1.470816726842638, 'avg_acc': 54.76519337016575, 'loss': 1.4677116870880127}\n"
     ]
    },
    {
     "name": "stderr",
     "output_type": "stream",
     "text": [
      "EP_train:17:  21%|| 195/938 [00:07<00:26, 27.82it/s]"
     ]
    },
    {
     "name": "stdout",
     "output_type": "stream",
     "text": [
      "{'epoch': 17, 'iter': 190, 'avg_loss': 1.4680053963086992, 'avg_acc': 54.77748691099477, 'loss': 1.4478185176849365}\n"
     ]
    },
    {
     "name": "stderr",
     "output_type": "stream",
     "text": [
      "EP_train:17:  22%|| 205/938 [00:07<00:25, 28.44it/s]"
     ]
    },
    {
     "name": "stdout",
     "output_type": "stream",
     "text": [
      "{'epoch': 17, 'iter': 200, 'avg_loss': 1.467035272228184, 'avg_acc': 54.990671641791046, 'loss': 1.5341448783874512}\n"
     ]
    },
    {
     "name": "stderr",
     "output_type": "stream",
     "text": [
      "EP_train:17:  23%|| 214/938 [00:07<00:26, 27.45it/s]"
     ]
    },
    {
     "name": "stdout",
     "output_type": "stream",
     "text": [
      "{'epoch': 17, 'iter': 210, 'avg_loss': 1.4665384507292254, 'avg_acc': 55.12440758293838, 'loss': 1.554076910018921}\n"
     ]
    },
    {
     "name": "stderr",
     "output_type": "stream",
     "text": [
      "EP_train:17:  24%|| 224/938 [00:08<00:33, 21.28it/s]"
     ]
    },
    {
     "name": "stdout",
     "output_type": "stream",
     "text": [
      "{'epoch': 17, 'iter': 220, 'avg_loss': 1.467763297698077, 'avg_acc': 55.10463800904978, 'loss': 1.4789246320724487}\n"
     ]
    },
    {
     "name": "stderr",
     "output_type": "stream",
     "text": [
      "EP_train:17:  25%|| 236/938 [00:08<00:27, 25.30it/s]"
     ]
    },
    {
     "name": "stdout",
     "output_type": "stream",
     "text": [
      "{'epoch': 17, 'iter': 230, 'avg_loss': 1.4687587951684926, 'avg_acc': 55.167748917748916, 'loss': 1.311684489250183}\n"
     ]
    },
    {
     "name": "stderr",
     "output_type": "stream",
     "text": [
      "EP_train:17:  26%|| 246/938 [00:09<00:24, 27.83it/s]"
     ]
    },
    {
     "name": "stdout",
     "output_type": "stream",
     "text": [
      "{'epoch': 17, 'iter': 240, 'avg_loss': 1.4671588829444158, 'avg_acc': 55.07002074688797, 'loss': 1.5385998487472534}\n"
     ]
    },
    {
     "name": "stderr",
     "output_type": "stream",
     "text": [
      "EP_train:17:  27%|| 254/938 [00:09<00:22, 29.75it/s]"
     ]
    },
    {
     "name": "stdout",
     "output_type": "stream",
     "text": [
      "{'epoch': 17, 'iter': 250, 'avg_loss': 1.47031768147214, 'avg_acc': 54.93027888446215, 'loss': 1.455767273902893}\n"
     ]
    },
    {
     "name": "stderr",
     "output_type": "stream",
     "text": [
      "EP_train:17:  28%|| 262/938 [00:09<00:28, 23.99it/s]"
     ]
    },
    {
     "name": "stdout",
     "output_type": "stream",
     "text": [
      "{'epoch': 17, 'iter': 260, 'avg_loss': 1.4682207632795605, 'avg_acc': 55.02873563218391, 'loss': 1.4491654634475708}\n"
     ]
    },
    {
     "name": "stderr",
     "output_type": "stream",
     "text": [
      "EP_train:17:  29%|| 275/938 [00:10<00:23, 28.79it/s]"
     ]
    },
    {
     "name": "stdout",
     "output_type": "stream",
     "text": [
      "{'epoch': 17, 'iter': 270, 'avg_loss': 1.4667081529363935, 'avg_acc': 55.15452029520295, 'loss': 1.3863420486450195}\n"
     ]
    },
    {
     "name": "stderr",
     "output_type": "stream",
     "text": [
      "EP_train:17:  30%|| 283/938 [00:10<00:21, 30.21it/s]"
     ]
    },
    {
     "name": "stdout",
     "output_type": "stream",
     "text": [
      "{'epoch': 17, 'iter': 280, 'avg_loss': 1.4656782116329967, 'avg_acc': 55.093416370106766, 'loss': 1.5835224390029907}\n"
     ]
    },
    {
     "name": "stderr",
     "output_type": "stream",
     "text": [
      "EP_train:17:  31%|| 295/938 [00:10<00:21, 29.44it/s]"
     ]
    },
    {
     "name": "stdout",
     "output_type": "stream",
     "text": [
      "{'epoch': 17, 'iter': 290, 'avg_loss': 1.4664262184982038, 'avg_acc': 55.16537800687286, 'loss': 1.4328138828277588}\n"
     ]
    },
    {
     "name": "stderr",
     "output_type": "stream",
     "text": [
      "EP_train:17:  32%|| 303/938 [00:11<00:28, 22.31it/s]"
     ]
    },
    {
     "name": "stdout",
     "output_type": "stream",
     "text": [
      "{'epoch': 17, 'iter': 300, 'avg_loss': 1.465265513258519, 'avg_acc': 55.107973421926914, 'loss': 1.499997854232788}\n"
     ]
    },
    {
     "name": "stderr",
     "output_type": "stream",
     "text": [
      "EP_train:17:  34%|| 315/938 [00:11<00:24, 25.18it/s]"
     ]
    },
    {
     "name": "stdout",
     "output_type": "stream",
     "text": [
      "{'epoch': 17, 'iter': 310, 'avg_loss': 1.464822090323715, 'avg_acc': 54.99397106109325, 'loss': 1.2600592374801636}\n"
     ]
    },
    {
     "name": "stderr",
     "output_type": "stream",
     "text": [
      "EP_train:17:  35%|| 326/938 [00:12<00:21, 28.36it/s]"
     ]
    },
    {
     "name": "stdout",
     "output_type": "stream",
     "text": [
      "{'epoch': 17, 'iter': 320, 'avg_loss': 1.4648460528560887, 'avg_acc': 54.887071651090345, 'loss': 1.6518272161483765}\n"
     ]
    },
    {
     "name": "stderr",
     "output_type": "stream",
     "text": [
      "EP_train:17:  36%|| 334/938 [00:12<00:20, 29.88it/s]"
     ]
    },
    {
     "name": "stdout",
     "output_type": "stream",
     "text": [
      "{'epoch': 17, 'iter': 330, 'avg_loss': 1.4610063628127568, 'avg_acc': 54.8904833836858, 'loss': 1.303956151008606}\n"
     ]
    },
    {
     "name": "stderr",
     "output_type": "stream",
     "text": [
      "EP_train:17:  37%|| 346/938 [00:12<00:19, 30.85it/s]"
     ]
    },
    {
     "name": "stdout",
     "output_type": "stream",
     "text": [
      "{'epoch': 17, 'iter': 340, 'avg_loss': 1.4603236419014918, 'avg_acc': 54.90285923753666, 'loss': 1.266499400138855}\n"
     ]
    },
    {
     "name": "stderr",
     "output_type": "stream",
     "text": [
      "EP_train:17:  38%|| 357/938 [00:13<00:22, 25.55it/s]"
     ]
    },
    {
     "name": "stdout",
     "output_type": "stream",
     "text": [
      "{'epoch': 17, 'iter': 350, 'avg_loss': 1.4610393921873848, 'avg_acc': 54.81659544159544, 'loss': 1.3767046928405762}\n"
     ]
    },
    {
     "name": "stderr",
     "output_type": "stream",
     "text": [
      "EP_train:17:  39%|| 365/938 [00:13<00:19, 29.07it/s]"
     ]
    },
    {
     "name": "stdout",
     "output_type": "stream",
     "text": [
      "{'epoch': 17, 'iter': 360, 'avg_loss': 1.4620004025522693, 'avg_acc': 54.96883656509696, 'loss': 1.407044768333435}\n"
     ]
    },
    {
     "name": "stderr",
     "output_type": "stream",
     "text": [
      "EP_train:17:  40%|| 377/938 [00:13<00:17, 31.33it/s]"
     ]
    },
    {
     "name": "stdout",
     "output_type": "stream",
     "text": [
      "{'epoch': 17, 'iter': 370, 'avg_loss': 1.4619088762532668, 'avg_acc': 55.028638814016176, 'loss': 1.1815699338912964}\n"
     ]
    },
    {
     "name": "stderr",
     "output_type": "stream",
     "text": [
      "EP_train:17:  41%|| 381/938 [00:13<00:17, 31.94it/s]"
     ]
    },
    {
     "name": "stdout",
     "output_type": "stream",
     "text": [
      "{'epoch': 17, 'iter': 380, 'avg_loss': 1.4611939797251243, 'avg_acc': 54.94586614173228, 'loss': 1.5090214014053345}\n"
     ]
    },
    {
     "name": "stderr",
     "output_type": "stream",
     "text": [
      "EP_train:17:  42%|| 396/938 [00:14<00:19, 28.19it/s]"
     ]
    },
    {
     "name": "stdout",
     "output_type": "stream",
     "text": [
      "{'epoch': 17, 'iter': 390, 'avg_loss': 1.4598827827007264, 'avg_acc': 54.99520460358056, 'loss': 1.4173589944839478}\n"
     ]
    },
    {
     "name": "stderr",
     "output_type": "stream",
     "text": [
      "EP_train:17:  43%|| 407/938 [00:14<00:17, 30.87it/s]"
     ]
    },
    {
     "name": "stdout",
     "output_type": "stream",
     "text": [
      "{'epoch': 17, 'iter': 400, 'avg_loss': 1.4612141566680852, 'avg_acc': 55.03428927680798, 'loss': 1.562853217124939}\n"
     ]
    },
    {
     "name": "stderr",
     "output_type": "stream",
     "text": [
      "EP_train:17:  44%|| 415/938 [00:15<00:16, 31.70it/s]"
     ]
    },
    {
     "name": "stdout",
     "output_type": "stream",
     "text": [
      "{'epoch': 17, 'iter': 410, 'avg_loss': 1.4600802681741922, 'avg_acc': 54.972627737226276, 'loss': 1.3169447183609009}\n"
     ]
    },
    {
     "name": "stderr",
     "output_type": "stream",
     "text": [
      "EP_train:17:  45%|| 426/938 [00:15<00:20, 24.88it/s]"
     ]
    },
    {
     "name": "stdout",
     "output_type": "stream",
     "text": [
      "{'epoch': 17, 'iter': 420, 'avg_loss': 1.4602790477723238, 'avg_acc': 54.951009501187656, 'loss': 1.3488885164260864}\n"
     ]
    },
    {
     "name": "stderr",
     "output_type": "stream",
     "text": [
      "EP_train:17:  46%|| 434/938 [00:15<00:17, 28.33it/s]"
     ]
    },
    {
     "name": "stdout",
     "output_type": "stream",
     "text": [
      "{'epoch': 17, 'iter': 430, 'avg_loss': 1.4589827266757283, 'avg_acc': 55.05365429234339, 'loss': 1.4209378957748413}\n"
     ]
    },
    {
     "name": "stderr",
     "output_type": "stream",
     "text": [
      "EP_train:17:  47%|| 445/938 [00:16<00:17, 27.83it/s]"
     ]
    },
    {
     "name": "stdout",
     "output_type": "stream",
     "text": [
      "{'epoch': 17, 'iter': 440, 'avg_loss': 1.4591617382843207, 'avg_acc': 55.031179138321995, 'loss': 1.4269737005233765}\n"
     ]
    },
    {
     "name": "stderr",
     "output_type": "stream",
     "text": [
      "EP_train:17:  48%|| 453/938 [00:16<00:20, 23.50it/s]"
     ]
    },
    {
     "name": "stdout",
     "output_type": "stream",
     "text": [
      "{'epoch': 17, 'iter': 450, 'avg_loss': 1.458189015774399, 'avg_acc': 54.94733924611973, 'loss': 1.4570049047470093}\n"
     ]
    },
    {
     "name": "stderr",
     "output_type": "stream",
     "text": [
      "EP_train:17:  50%|| 467/938 [00:17<00:16, 28.94it/s]"
     ]
    },
    {
     "name": "stdout",
     "output_type": "stream",
     "text": [
      "{'epoch': 17, 'iter': 460, 'avg_loss': 1.4581769892295373, 'avg_acc': 54.95526030368764, 'loss': 1.4398068189620972}\n"
     ]
    },
    {
     "name": "stderr",
     "output_type": "stream",
     "text": [
      "EP_train:17:  51%|| 475/938 [00:17<00:15, 30.58it/s]"
     ]
    },
    {
     "name": "stdout",
     "output_type": "stream",
     "text": [
      "{'epoch': 17, 'iter': 470, 'avg_loss': 1.4585405422370652, 'avg_acc': 54.923036093418254, 'loss': 1.5094375610351562}\n"
     ]
    },
    {
     "name": "stderr",
     "output_type": "stream",
     "text": [
      "EP_train:17:  52%|| 487/938 [00:17<00:13, 32.72it/s]"
     ]
    },
    {
     "name": "stdout",
     "output_type": "stream",
     "text": [
      "{'epoch': 17, 'iter': 480, 'avg_loss': 1.4586300652884643, 'avg_acc': 54.781704781704775, 'loss': 1.4543955326080322}\n"
     ]
    },
    {
     "name": "stderr",
     "output_type": "stream",
     "text": [
      "EP_train:17:  52%|| 491/938 [00:17<00:13, 32.35it/s]"
     ]
    },
    {
     "name": "stdout",
     "output_type": "stream",
     "text": [
      "{'epoch': 17, 'iter': 490, 'avg_loss': 1.4575285364071366, 'avg_acc': 54.78615071283096, 'loss': 1.2840417623519897}\n"
     ]
    },
    {
     "name": "stderr",
     "output_type": "stream",
     "text": [
      "EP_train:17:  54%|| 504/938 [00:18<00:15, 27.39it/s]"
     ]
    },
    {
     "name": "stdout",
     "output_type": "stream",
     "text": [
      "{'epoch': 17, 'iter': 500, 'avg_loss': 1.4556145455071074, 'avg_acc': 54.840319361277444, 'loss': 1.3465181589126587}\n"
     ]
    },
    {
     "name": "stderr",
     "output_type": "stream",
     "text": [
      "EP_train:17:  55%|| 516/938 [00:18<00:13, 30.71it/s]"
     ]
    },
    {
     "name": "stdout",
     "output_type": "stream",
     "text": [
      "{'epoch': 17, 'iter': 510, 'avg_loss': 1.4538014836740587, 'avg_acc': 54.81286692759295, 'loss': 1.4614548683166504}\n"
     ]
    },
    {
     "name": "stderr",
     "output_type": "stream",
     "text": [
      "EP_train:17:  56%|| 524/938 [00:18<00:12, 31.87it/s]"
     ]
    },
    {
     "name": "stdout",
     "output_type": "stream",
     "text": [
      "{'epoch': 17, 'iter': 520, 'avg_loss': 1.4552446657545048, 'avg_acc': 54.828454894433776, 'loss': 1.2873703241348267}\n"
     ]
    },
    {
     "name": "stderr",
     "output_type": "stream",
     "text": [
      "EP_train:17:  57%|| 536/938 [00:19<00:15, 26.14it/s]"
     ]
    },
    {
     "name": "stdout",
     "output_type": "stream",
     "text": [
      "{'epoch': 17, 'iter': 530, 'avg_loss': 1.454541098263304, 'avg_acc': 54.77283427495292, 'loss': 1.8058363199234009}\n"
     ]
    },
    {
     "name": "stderr",
     "output_type": "stream",
     "text": [
      "EP_train:17:  58%|| 547/938 [00:19<00:13, 29.08it/s]"
     ]
    },
    {
     "name": "stdout",
     "output_type": "stream",
     "text": [
      "{'epoch': 17, 'iter': 540, 'avg_loss': 1.4554712711773166, 'avg_acc': 54.71926987060998, 'loss': 1.5848196744918823}\n"
     ]
    },
    {
     "name": "stderr",
     "output_type": "stream",
     "text": [
      "EP_train:17:  59%|| 555/938 [00:20<00:12, 30.83it/s]"
     ]
    },
    {
     "name": "stdout",
     "output_type": "stream",
     "text": [
      "{'epoch': 17, 'iter': 550, 'avg_loss': 1.454874761199778, 'avg_acc': 54.775408348457354, 'loss': 1.5555317401885986}\n"
     ]
    },
    {
     "name": "stderr",
     "output_type": "stream",
     "text": [
      "EP_train:17:  60%|| 563/938 [00:20<00:11, 31.89it/s]"
     ]
    },
    {
     "name": "stdout",
     "output_type": "stream",
     "text": [
      "{'epoch': 17, 'iter': 560, 'avg_loss': 1.4559913128880044, 'avg_acc': 54.740418894830654, 'loss': 1.3440383672714233}\n"
     ]
    },
    {
     "name": "stderr",
     "output_type": "stream",
     "text": [
      "EP_train:17:  61%|| 573/938 [00:20<00:13, 26.31it/s]"
     ]
    },
    {
     "name": "stdout",
     "output_type": "stream",
     "text": [
      "{'epoch': 17, 'iter': 570, 'avg_loss': 1.455700877773365, 'avg_acc': 54.72307355516638, 'loss': 1.3324049711227417}\n"
     ]
    },
    {
     "name": "stderr",
     "output_type": "stream",
     "text": [
      "EP_train:17:  62%|| 585/938 [00:21<00:11, 29.92it/s]"
     ]
    },
    {
     "name": "stdout",
     "output_type": "stream",
     "text": [
      "{'epoch': 17, 'iter': 580, 'avg_loss': 1.4552775507539562, 'avg_acc': 54.77086919104991, 'loss': 1.237424612045288}\n"
     ]
    },
    {
     "name": "stderr",
     "output_type": "stream",
     "text": [
      "EP_train:17:  64%|| 597/938 [00:21<00:10, 32.65it/s]"
     ]
    },
    {
     "name": "stdout",
     "output_type": "stream",
     "text": [
      "{'epoch': 17, 'iter': 590, 'avg_loss': 1.4548506923335054, 'avg_acc': 54.76417089678512, 'loss': 1.5119209289550781}\n"
     ]
    },
    {
     "name": "stderr",
     "output_type": "stream",
     "text": [
      "EP_train:17:  64%|| 605/938 [00:21<00:10, 32.52it/s]"
     ]
    },
    {
     "name": "stdout",
     "output_type": "stream",
     "text": [
      "{'epoch': 17, 'iter': 600, 'avg_loss': 1.454894199645063, 'avg_acc': 54.757695507487526, 'loss': 1.5981671810150146}\n"
     ]
    },
    {
     "name": "stderr",
     "output_type": "stream",
     "text": [
      "EP_train:17:  65%|| 613/938 [00:21<00:10, 29.90it/s]"
     ]
    },
    {
     "name": "stdout",
     "output_type": "stream",
     "text": [
      "{'epoch': 17, 'iter': 610, 'avg_loss': 1.4554489984645, 'avg_acc': 54.77700490998363, 'loss': 1.6628673076629639}\n"
     ]
    },
    {
     "name": "stderr",
     "output_type": "stream",
     "text": [
      "EP_train:17:  66%|| 623/938 [00:22<00:12, 24.30it/s]"
     ]
    },
    {
     "name": "stdout",
     "output_type": "stream",
     "text": [
      "{'epoch': 17, 'iter': 620, 'avg_loss': 1.4559850678351767, 'avg_acc': 54.800724637681164, 'loss': 1.5695326328277588}\n"
     ]
    },
    {
     "name": "stderr",
     "output_type": "stream",
     "text": [
      "EP_train:17:  68%|| 637/938 [00:22<00:10, 28.45it/s]"
     ]
    },
    {
     "name": "stdout",
     "output_type": "stream",
     "text": [
      "{'epoch': 17, 'iter': 630, 'avg_loss': 1.4552702551409484, 'avg_acc': 54.798930269413624, 'loss': 1.433269739151001}\n"
     ]
    },
    {
     "name": "stderr",
     "output_type": "stream",
     "text": [
      "EP_train:17:  69%|| 645/938 [00:23<00:09, 30.34it/s]"
     ]
    },
    {
     "name": "stdout",
     "output_type": "stream",
     "text": [
      "{'epoch': 17, 'iter': 640, 'avg_loss': 1.4537652588671715, 'avg_acc': 54.7094383775351, 'loss': 1.4148914813995361}\n"
     ]
    },
    {
     "name": "stderr",
     "output_type": "stream",
     "text": [
      "EP_train:17:  70%|| 653/938 [00:23<00:09, 31.12it/s]"
     ]
    },
    {
     "name": "stdout",
     "output_type": "stream",
     "text": [
      "{'epoch': 17, 'iter': 650, 'avg_loss': 1.4554987304404767, 'avg_acc': 54.68990015360983, 'loss': 1.7003382444381714}\n"
     ]
    },
    {
     "name": "stderr",
     "output_type": "stream",
     "text": [
      "EP_train:17:  71%|| 667/938 [00:24<00:09, 27.41it/s]"
     ]
    },
    {
     "name": "stdout",
     "output_type": "stream",
     "text": [
      "{'epoch': 17, 'iter': 660, 'avg_loss': 1.4550093021948292, 'avg_acc': 54.68513615733737, 'loss': 1.4346832036972046}\n"
     ]
    },
    {
     "name": "stderr",
     "output_type": "stream",
     "text": [
      "EP_train:17:  72%|| 675/938 [00:24<00:08, 29.50it/s]"
     ]
    },
    {
     "name": "stdout",
     "output_type": "stream",
     "text": [
      "{'epoch': 17, 'iter': 670, 'avg_loss': 1.4562290479635873, 'avg_acc': 54.75968703427719, 'loss': 1.625964641571045}\n"
     ]
    },
    {
     "name": "stderr",
     "output_type": "stream",
     "text": [
      "EP_train:17:  73%|| 687/938 [00:24<00:08, 31.27it/s]"
     ]
    },
    {
     "name": "stdout",
     "output_type": "stream",
     "text": [
      "{'epoch': 17, 'iter': 680, 'avg_loss': 1.4558325929788767, 'avg_acc': 54.717327459618204, 'loss': 1.0562609434127808}\n"
     ]
    },
    {
     "name": "stderr",
     "output_type": "stream",
     "text": [
      "EP_train:17:  74%|| 695/938 [00:24<00:07, 31.10it/s]"
     ]
    },
    {
     "name": "stdout",
     "output_type": "stream",
     "text": [
      "{'epoch': 17, 'iter': 690, 'avg_loss': 1.4553874692247504, 'avg_acc': 54.68976121562952, 'loss': 1.4506850242614746}\n"
     ]
    },
    {
     "name": "stderr",
     "output_type": "stream",
     "text": [
      "EP_train:17:  75%|| 703/938 [00:25<00:09, 24.51it/s]"
     ]
    },
    {
     "name": "stdout",
     "output_type": "stream",
     "text": [
      "{'epoch': 17, 'iter': 700, 'avg_loss': 1.4540707164586186, 'avg_acc': 54.64960770328102, 'loss': 1.288026213645935}\n"
     ]
    },
    {
     "name": "stderr",
     "output_type": "stream",
     "text": [
      "EP_train:17:  76%|| 717/938 [00:25<00:07, 29.25it/s]"
     ]
    },
    {
     "name": "stdout",
     "output_type": "stream",
     "text": [
      "{'epoch': 17, 'iter': 710, 'avg_loss': 1.4542344323190455, 'avg_acc': 54.67651195499297, 'loss': 1.67474365234375}\n"
     ]
    },
    {
     "name": "stderr",
     "output_type": "stream",
     "text": [
      "EP_train:17:  77%|| 725/938 [00:25<00:07, 29.99it/s]"
     ]
    },
    {
     "name": "stdout",
     "output_type": "stream",
     "text": [
      "{'epoch': 17, 'iter': 720, 'avg_loss': 1.4558368068958287, 'avg_acc': 54.672330097087375, 'loss': 1.5715584754943848}\n"
     ]
    },
    {
     "name": "stderr",
     "output_type": "stream",
     "text": [
      "EP_train:17:  78%|| 733/938 [00:26<00:07, 28.78it/s]"
     ]
    },
    {
     "name": "stdout",
     "output_type": "stream",
     "text": [
      "{'epoch': 17, 'iter': 730, 'avg_loss': 1.4553318813789722, 'avg_acc': 54.72383720930233, 'loss': 1.513637900352478}\n"
     ]
    },
    {
     "name": "stderr",
     "output_type": "stream",
     "text": [
      "EP_train:17:  79%|| 743/938 [00:26<00:09, 21.62it/s]"
     ]
    },
    {
     "name": "stdout",
     "output_type": "stream",
     "text": [
      "{'epoch': 17, 'iter': 740, 'avg_loss': 1.4552366900057927, 'avg_acc': 54.64743589743589, 'loss': 1.419281244277954}\n"
     ]
    },
    {
     "name": "stderr",
     "output_type": "stream",
     "text": [
      "EP_train:17:  80%|| 755/938 [00:27<00:07, 24.80it/s]"
     ]
    },
    {
     "name": "stdout",
     "output_type": "stream",
     "text": [
      "{'epoch': 17, 'iter': 750, 'avg_loss': 1.455193360302642, 'avg_acc': 54.643808255659124, 'loss': 1.3100380897521973}\n"
     ]
    },
    {
     "name": "stderr",
     "output_type": "stream",
     "text": [
      "EP_train:17:  82%|| 766/938 [00:27<00:06, 28.63it/s]"
     ]
    },
    {
     "name": "stdout",
     "output_type": "stream",
     "text": [
      "{'epoch': 17, 'iter': 760, 'avg_loss': 1.4552469912245771, 'avg_acc': 54.62385019710907, 'loss': 1.5755573511123657}\n"
     ]
    },
    {
     "name": "stderr",
     "output_type": "stream",
     "text": [
      "EP_train:17:  83%|| 774/938 [00:27<00:05, 30.18it/s]"
     ]
    },
    {
     "name": "stdout",
     "output_type": "stream",
     "text": [
      "{'epoch': 17, 'iter': 770, 'avg_loss': 1.455778125272496, 'avg_acc': 54.60440985732814, 'loss': 1.6100770235061646}\n"
     ]
    },
    {
     "name": "stderr",
     "output_type": "stream",
     "text": [
      "EP_train:17:  84%|| 785/938 [00:28<00:06, 23.27it/s]"
     ]
    },
    {
     "name": "stdout",
     "output_type": "stream",
     "text": [
      "{'epoch': 17, 'iter': 780, 'avg_loss': 1.455403015418181, 'avg_acc': 54.59747119078106, 'loss': 1.5024043321609497}\n"
     ]
    },
    {
     "name": "stderr",
     "output_type": "stream",
     "text": [
      "EP_train:17:  85%|| 796/938 [00:28<00:05, 26.74it/s]"
     ]
    },
    {
     "name": "stdout",
     "output_type": "stream",
     "text": [
      "{'epoch': 17, 'iter': 790, 'avg_loss': 1.4562849333102423, 'avg_acc': 54.602560050568904, 'loss': 1.2920126914978027}\n"
     ]
    },
    {
     "name": "stderr",
     "output_type": "stream",
     "text": [
      "EP_train:17:  86%|| 807/938 [00:29<00:04, 29.62it/s]"
     ]
    },
    {
     "name": "stdout",
     "output_type": "stream",
     "text": [
      "{'epoch': 17, 'iter': 800, 'avg_loss': 1.456896821434578, 'avg_acc': 54.55680399500624, 'loss': 1.581407070159912}\n"
     ]
    },
    {
     "name": "stderr",
     "output_type": "stream",
     "text": [
      "EP_train:17:  87%|| 815/938 [00:29<00:03, 31.19it/s]"
     ]
    },
    {
     "name": "stdout",
     "output_type": "stream",
     "text": [
      "{'epoch': 17, 'iter': 810, 'avg_loss': 1.4562301996603848, 'avg_acc': 54.54300246609125, 'loss': 1.5970553159713745}\n"
     ]
    },
    {
     "name": "stderr",
     "output_type": "stream",
     "text": [
      "EP_train:17:  88%|| 826/938 [00:29<00:04, 26.92it/s]"
     ]
    },
    {
     "name": "stdout",
     "output_type": "stream",
     "text": [
      "{'epoch': 17, 'iter': 820, 'avg_loss': 1.4561069507546605, 'avg_acc': 54.58282582216809, 'loss': 1.5858958959579468}\n"
     ]
    },
    {
     "name": "stderr",
     "output_type": "stream",
     "text": [
      "EP_train:17:  89%|| 837/938 [00:30<00:03, 30.14it/s]"
     ]
    },
    {
     "name": "stdout",
     "output_type": "stream",
     "text": [
      "{'epoch': 17, 'iter': 830, 'avg_loss': 1.4561695813702331, 'avg_acc': 54.58784596871239, 'loss': 1.3532533645629883}\n"
     ]
    },
    {
     "name": "stderr",
     "output_type": "stream",
     "text": [
      "EP_train:17:  90%|| 845/938 [00:30<00:03, 30.70it/s]"
     ]
    },
    {
     "name": "stdout",
     "output_type": "stream",
     "text": [
      "{'epoch': 17, 'iter': 840, 'avg_loss': 1.456172280235041, 'avg_acc': 54.58531510107015, 'loss': 1.4659842252731323}\n"
     ]
    },
    {
     "name": "stderr",
     "output_type": "stream",
     "text": [
      "EP_train:17:  91%|| 853/938 [00:30<00:02, 29.95it/s]"
     ]
    },
    {
     "name": "stdout",
     "output_type": "stream",
     "text": [
      "{'epoch': 17, 'iter': 850, 'avg_loss': 1.4557866385484555, 'avg_acc': 54.59386016451234, 'loss': 1.4105314016342163}\n"
     ]
    },
    {
     "name": "stderr",
     "output_type": "stream",
     "text": [
      "EP_train:17:  92%|| 861/938 [00:30<00:02, 28.79it/s]"
     ]
    },
    {
     "name": "stdout",
     "output_type": "stream",
     "text": [
      "{'epoch': 17, 'iter': 860, 'avg_loss': 1.4553260841297633, 'avg_acc': 54.58405923344948, 'loss': 1.7130153179168701}\n"
     ]
    },
    {
     "name": "stderr",
     "output_type": "stream",
     "text": [
      "EP_train:17:  93%|| 873/938 [00:31<00:02, 23.66it/s]"
     ]
    },
    {
     "name": "stdout",
     "output_type": "stream",
     "text": [
      "{'epoch': 17, 'iter': 870, 'avg_loss': 1.4551905583158289, 'avg_acc': 54.61753731343284, 'loss': 1.326352834701538}\n"
     ]
    },
    {
     "name": "stderr",
     "output_type": "stream",
     "text": [
      "EP_train:17:  95%|| 887/938 [00:32<00:01, 28.46it/s]"
     ]
    },
    {
     "name": "stdout",
     "output_type": "stream",
     "text": [
      "{'epoch': 17, 'iter': 880, 'avg_loss': 1.4550006832762554, 'avg_acc': 54.60769012485811, 'loss': 1.207180142402649}\n"
     ]
    },
    {
     "name": "stderr",
     "output_type": "stream",
     "text": [
      "EP_train:17:  95%|| 895/938 [00:32<00:01, 30.49it/s]"
     ]
    },
    {
     "name": "stdout",
     "output_type": "stream",
     "text": [
      "{'epoch': 17, 'iter': 890, 'avg_loss': 1.455479316906763, 'avg_acc': 54.63664421997755, 'loss': 1.5378204584121704}\n"
     ]
    },
    {
     "name": "stderr",
     "output_type": "stream",
     "text": [
      "EP_train:17:  97%|| 906/938 [00:32<00:01, 29.28it/s]"
     ]
    },
    {
     "name": "stdout",
     "output_type": "stream",
     "text": [
      "{'epoch': 17, 'iter': 900, 'avg_loss': 1.4556701045057485, 'avg_acc': 54.62333518312985, 'loss': 1.692050814628601}\n"
     ]
    },
    {
     "name": "stderr",
     "output_type": "stream",
     "text": [
      "EP_train:17:  98%|| 915/938 [00:33<00:00, 23.91it/s]"
     ]
    },
    {
     "name": "stdout",
     "output_type": "stream",
     "text": [
      "{'epoch': 17, 'iter': 910, 'avg_loss': 1.455765639453243, 'avg_acc': 54.565724478594944, 'loss': 1.48091459274292}\n"
     ]
    },
    {
     "name": "stderr",
     "output_type": "stream",
     "text": [
      "EP_train:17:  99%|| 925/938 [00:33<00:00, 27.24it/s]"
     ]
    },
    {
     "name": "stdout",
     "output_type": "stream",
     "text": [
      "{'epoch': 17, 'iter': 920, 'avg_loss': 1.456166293346662, 'avg_acc': 54.590798045602604, 'loss': 1.4555665254592896}\n"
     ]
    },
    {
     "name": "stderr",
     "output_type": "stream",
     "text": [
      "EP_train:17: 100%|| 935/938 [00:33<00:00, 26.96it/s]"
     ]
    },
    {
     "name": "stdout",
     "output_type": "stream",
     "text": [
      "{'epoch': 17, 'iter': 930, 'avg_loss': 1.456727839246088, 'avg_acc': 54.544844253490865, 'loss': 1.688960313796997}\n"
     ]
    },
    {
     "name": "stderr",
     "output_type": "stream",
     "text": [
      "EP_train:17: 100%|| 938/938 [00:33<00:00, 27.63it/s]\n"
     ]
    },
    {
     "name": "stdout",
     "output_type": "stream",
     "text": [
      "EP17, train:             avg_loss=1.4561149169132908,             total_acc=54.57485828609536\n"
     ]
    },
    {
     "name": "stderr",
     "output_type": "stream",
     "text": [
      "EP_train:18:   0%|| 3/938 [00:00<00:31, 29.31it/s]"
     ]
    },
    {
     "name": "stdout",
     "output_type": "stream",
     "text": [
      "{'epoch': 18, 'iter': 0, 'avg_loss': 1.61189866065979, 'avg_acc': 53.125, 'loss': 1.61189866065979}\n"
     ]
    },
    {
     "name": "stderr",
     "output_type": "stream",
     "text": [
      "EP_train:18:   2%|| 16/938 [00:00<00:38, 24.15it/s]"
     ]
    },
    {
     "name": "stdout",
     "output_type": "stream",
     "text": [
      "{'epoch': 18, 'iter': 10, 'avg_loss': 1.4795018542896619, 'avg_acc': 54.54545454545454, 'loss': 1.6025285720825195}\n"
     ]
    },
    {
     "name": "stderr",
     "output_type": "stream",
     "text": [
      "EP_train:18:   3%|| 27/938 [00:01<00:31, 28.69it/s]"
     ]
    },
    {
     "name": "stdout",
     "output_type": "stream",
     "text": [
      "{'epoch': 18, 'iter': 20, 'avg_loss': 1.491194480941409, 'avg_acc': 52.083333333333336, 'loss': 1.5907607078552246}\n"
     ]
    },
    {
     "name": "stderr",
     "output_type": "stream",
     "text": [
      "EP_train:18:   4%|| 35/938 [00:01<00:29, 30.93it/s]"
     ]
    },
    {
     "name": "stdout",
     "output_type": "stream",
     "text": [
      "{'epoch': 18, 'iter': 30, 'avg_loss': 1.4804518299718057, 'avg_acc': 53.125, 'loss': 1.451703667640686}\n"
     ]
    },
    {
     "name": "stderr",
     "output_type": "stream",
     "text": [
      "EP_train:18:   5%|| 43/938 [00:01<00:28, 31.56it/s]"
     ]
    },
    {
     "name": "stdout",
     "output_type": "stream",
     "text": [
      "{'epoch': 18, 'iter': 40, 'avg_loss': 1.4565971595485037, 'avg_acc': 53.734756097560975, 'loss': 1.3207532167434692}\n"
     ]
    },
    {
     "name": "stderr",
     "output_type": "stream",
     "text": [
      "EP_train:18:   6%|| 53/938 [00:01<00:35, 25.19it/s]"
     ]
    },
    {
     "name": "stdout",
     "output_type": "stream",
     "text": [
      "{'epoch': 18, 'iter': 50, 'avg_loss': 1.4596348065955966, 'avg_acc': 53.431372549019606, 'loss': 1.4109781980514526}\n"
     ]
    },
    {
     "name": "stderr",
     "output_type": "stream",
     "text": [
      "EP_train:18:   7%|| 65/938 [00:02<00:28, 30.27it/s]"
     ]
    },
    {
     "name": "stdout",
     "output_type": "stream",
     "text": [
      "{'epoch': 18, 'iter': 60, 'avg_loss': 1.4750253802440205, 'avg_acc': 53.63729508196722, 'loss': 1.5419484376907349}\n"
     ]
    },
    {
     "name": "stderr",
     "output_type": "stream",
     "text": [
      "EP_train:18:   8%|| 77/938 [00:02<00:26, 32.00it/s]"
     ]
    },
    {
     "name": "stdout",
     "output_type": "stream",
     "text": [
      "{'epoch': 18, 'iter': 70, 'avg_loss': 1.4672394839810654, 'avg_acc': 53.9612676056338, 'loss': 1.3181321620941162}\n"
     ]
    },
    {
     "name": "stderr",
     "output_type": "stream",
     "text": [
      "EP_train:18:   9%|| 84/938 [00:03<00:33, 25.20it/s]"
     ]
    },
    {
     "name": "stdout",
     "output_type": "stream",
     "text": [
      "{'epoch': 18, 'iter': 80, 'avg_loss': 1.4624605473176933, 'avg_acc': 53.93518518518518, 'loss': 1.594219446182251}\n"
     ]
    },
    {
     "name": "stderr",
     "output_type": "stream",
     "text": [
      "EP_train:18:  10%|| 94/938 [00:03<00:30, 27.43it/s]"
     ]
    },
    {
     "name": "stdout",
     "output_type": "stream",
     "text": [
      "{'epoch': 18, 'iter': 90, 'avg_loss': 1.471268845128489, 'avg_acc': 54.25824175824175, 'loss': 1.5634292364120483}\n"
     ]
    },
    {
     "name": "stderr",
     "output_type": "stream",
     "text": [
      "EP_train:18:  11%|| 106/938 [00:03<00:26, 31.42it/s]"
     ]
    },
    {
     "name": "stdout",
     "output_type": "stream",
     "text": [
      "{'epoch': 18, 'iter': 100, 'avg_loss': 1.4760462742040652, 'avg_acc': 53.898514851485146, 'loss': 1.2884923219680786}\n"
     ]
    },
    {
     "name": "stderr",
     "output_type": "stream",
     "text": [
      "EP_train:18:  13%|| 118/938 [00:04<00:24, 33.55it/s]"
     ]
    },
    {
     "name": "stdout",
     "output_type": "stream",
     "text": [
      "{'epoch': 18, 'iter': 110, 'avg_loss': 1.4775047817745723, 'avg_acc': 54.11036036036037, 'loss': 1.6799795627593994}\n"
     ]
    },
    {
     "name": "stderr",
     "output_type": "stream",
     "text": [
      "EP_train:18:  13%|| 122/938 [00:04<00:33, 24.49it/s]"
     ]
    },
    {
     "name": "stdout",
     "output_type": "stream",
     "text": [
      "{'epoch': 18, 'iter': 120, 'avg_loss': 1.4761692945622216, 'avg_acc': 54.416322314049594, 'loss': 1.2598298788070679}\n"
     ]
    },
    {
     "name": "stderr",
     "output_type": "stream",
     "text": [
      "EP_train:18:  14%|| 135/938 [00:04<00:28, 28.32it/s]"
     ]
    },
    {
     "name": "stdout",
     "output_type": "stream",
     "text": [
      "{'epoch': 18, 'iter': 130, 'avg_loss': 1.4784139431159915, 'avg_acc': 54.532442748091604, 'loss': 1.523396611213684}\n"
     ]
    },
    {
     "name": "stderr",
     "output_type": "stream",
     "text": [
      "EP_train:18:  16%|| 147/938 [00:05<00:25, 30.84it/s]"
     ]
    },
    {
     "name": "stdout",
     "output_type": "stream",
     "text": [
      "{'epoch': 18, 'iter': 140, 'avg_loss': 1.4788336897572727, 'avg_acc': 54.454787234042556, 'loss': 1.5804630517959595}\n"
     ]
    },
    {
     "name": "stderr",
     "output_type": "stream",
     "text": [
      "EP_train:18:  17%|| 155/938 [00:05<00:24, 31.56it/s]"
     ]
    },
    {
     "name": "stdout",
     "output_type": "stream",
     "text": [
      "{'epoch': 18, 'iter': 150, 'avg_loss': 1.4788707423683822, 'avg_acc': 54.6771523178808, 'loss': 1.266502857208252}\n"
     ]
    },
    {
     "name": "stderr",
     "output_type": "stream",
     "text": [
      "EP_train:18:  17%|| 163/938 [00:05<00:32, 23.77it/s]"
     ]
    },
    {
     "name": "stdout",
     "output_type": "stream",
     "text": [
      "{'epoch': 18, 'iter': 160, 'avg_loss': 1.4763637114755856, 'avg_acc': 54.6583850931677, 'loss': 1.4803968667984009}\n"
     ]
    },
    {
     "name": "stderr",
     "output_type": "stream",
     "text": [
      "EP_train:18:  18%|| 173/938 [00:06<00:30, 25.04it/s]"
     ]
    },
    {
     "name": "stdout",
     "output_type": "stream",
     "text": [
      "{'epoch': 18, 'iter': 170, 'avg_loss': 1.475507080206397, 'avg_acc': 54.66008771929825, 'loss': 1.5395371913909912}\n"
     ]
    },
    {
     "name": "stderr",
     "output_type": "stream",
     "text": [
      "EP_train:18:  20%|| 187/938 [00:06<00:25, 29.12it/s]"
     ]
    },
    {
     "name": "stdout",
     "output_type": "stream",
     "text": [
      "{'epoch': 18, 'iter': 180, 'avg_loss': 1.473543985772528, 'avg_acc': 54.57527624309392, 'loss': 1.5308912992477417}\n"
     ]
    },
    {
     "name": "stderr",
     "output_type": "stream",
     "text": [
      "EP_train:18:  21%|| 195/938 [00:06<00:24, 29.84it/s]"
     ]
    },
    {
     "name": "stdout",
     "output_type": "stream",
     "text": [
      "{'epoch': 18, 'iter': 190, 'avg_loss': 1.4685163984748082, 'avg_acc': 54.76112565445026, 'loss': 1.3865238428115845}\n"
     ]
    },
    {
     "name": "stderr",
     "output_type": "stream",
     "text": [
      "EP_train:18:  22%|| 206/938 [00:07<00:31, 23.38it/s]"
     ]
    },
    {
     "name": "stdout",
     "output_type": "stream",
     "text": [
      "{'epoch': 18, 'iter': 200, 'avg_loss': 1.4680185578948823, 'avg_acc': 54.570895522388064, 'loss': 1.340182900428772}\n"
     ]
    },
    {
     "name": "stderr",
     "output_type": "stream",
     "text": [
      "EP_train:18:  23%|| 213/938 [00:07<00:28, 25.15it/s]"
     ]
    },
    {
     "name": "stdout",
     "output_type": "stream",
     "text": [
      "{'epoch': 18, 'iter': 210, 'avg_loss': 1.4674069118725745, 'avg_acc': 54.4431279620853, 'loss': 1.5685632228851318}\n"
     ]
    },
    {
     "name": "stderr",
     "output_type": "stream",
     "text": [
      "EP_train:18:  24%|| 226/938 [00:08<00:26, 26.94it/s]"
     ]
    },
    {
     "name": "stdout",
     "output_type": "stream",
     "text": [
      "{'epoch': 18, 'iter': 220, 'avg_loss': 1.463647017112145, 'avg_acc': 54.355203619909496, 'loss': 1.4522234201431274}\n"
     ]
    },
    {
     "name": "stderr",
     "output_type": "stream",
     "text": [
      "EP_train:18:  25%|| 235/938 [00:08<00:26, 26.28it/s]"
     ]
    },
    {
     "name": "stdout",
     "output_type": "stream",
     "text": [
      "{'epoch': 18, 'iter': 230, 'avg_loss': 1.4665011864203912, 'avg_acc': 54.45075757575758, 'loss': 1.4873230457305908}\n"
     ]
    },
    {
     "name": "stderr",
     "output_type": "stream",
     "text": [
      "EP_train:18:  26%|| 245/938 [00:09<00:32, 21.40it/s]"
     ]
    },
    {
     "name": "stdout",
     "output_type": "stream",
     "text": [
      "{'epoch': 18, 'iter': 240, 'avg_loss': 1.466639086913271, 'avg_acc': 54.59024896265559, 'loss': 1.3412259817123413}\n"
     ]
    },
    {
     "name": "stderr",
     "output_type": "stream",
     "text": [
      "EP_train:18:  27%|| 255/938 [00:09<00:26, 26.01it/s]"
     ]
    },
    {
     "name": "stdout",
     "output_type": "stream",
     "text": [
      "{'epoch': 18, 'iter': 250, 'avg_loss': 1.4636528584586672, 'avg_acc': 54.44472111553785, 'loss': 1.4160650968551636}\n"
     ]
    },
    {
     "name": "stderr",
     "output_type": "stream",
     "text": [
      "EP_train:18:  28%|| 267/938 [00:09<00:22, 30.49it/s]"
     ]
    },
    {
     "name": "stdout",
     "output_type": "stream",
     "text": [
      "{'epoch': 18, 'iter': 260, 'avg_loss': 1.4609289212701877, 'avg_acc': 54.50191570881226, 'loss': 1.6000442504882812}\n"
     ]
    },
    {
     "name": "stderr",
     "output_type": "stream",
     "text": [
      "EP_train:18:  29%|| 271/938 [00:09<00:21, 30.70it/s]"
     ]
    },
    {
     "name": "stdout",
     "output_type": "stream",
     "text": [
      "{'epoch': 18, 'iter': 270, 'avg_loss': 1.4590796779882425, 'avg_acc': 54.416512915129154, 'loss': 1.4592818021774292}\n"
     ]
    },
    {
     "name": "stderr",
     "output_type": "stream",
     "text": [
      "EP_train:18:  30%|| 284/938 [00:10<00:26, 24.84it/s]"
     ]
    },
    {
     "name": "stdout",
     "output_type": "stream",
     "text": [
      "{'epoch': 18, 'iter': 280, 'avg_loss': 1.4583390253294406, 'avg_acc': 54.481761565836294, 'loss': 1.5664094686508179}\n"
     ]
    },
    {
     "name": "stderr",
     "output_type": "stream",
     "text": [
      "EP_train:18:  31%|| 294/938 [00:10<00:24, 26.52it/s]"
     ]
    },
    {
     "name": "stdout",
     "output_type": "stream",
     "text": [
      "{'epoch': 18, 'iter': 290, 'avg_loss': 1.4587339025592476, 'avg_acc': 54.45661512027491, 'loss': 1.5750489234924316}\n"
     ]
    },
    {
     "name": "stderr",
     "output_type": "stream",
     "text": [
      "EP_train:18:  33%|| 307/938 [00:11<00:21, 28.88it/s]"
     ]
    },
    {
     "name": "stdout",
     "output_type": "stream",
     "text": [
      "{'epoch': 18, 'iter': 300, 'avg_loss': 1.4587477875310322, 'avg_acc': 54.30855481727575, 'loss': 1.4764257669448853}\n"
     ]
    },
    {
     "name": "stderr",
     "output_type": "stream",
     "text": [
      "EP_train:18:  34%|| 316/938 [00:11<00:25, 24.60it/s]"
     ]
    },
    {
     "name": "stdout",
     "output_type": "stream",
     "text": [
      "{'epoch': 18, 'iter': 310, 'avg_loss': 1.4583028326847163, 'avg_acc': 54.320739549839224, 'loss': 1.4412031173706055}\n"
     ]
    },
    {
     "name": "stderr",
     "output_type": "stream",
     "text": [
      "EP_train:18:  35%|| 325/938 [00:12<00:24, 25.50it/s]"
     ]
    },
    {
     "name": "stdout",
     "output_type": "stream",
     "text": [
      "{'epoch': 18, 'iter': 320, 'avg_loss': 1.457911643469445, 'avg_acc': 54.26401869158879, 'loss': 1.633196473121643}\n"
     ]
    },
    {
     "name": "stderr",
     "output_type": "stream",
     "text": [
      "EP_train:18:  36%|| 336/938 [00:12<00:20, 29.79it/s]"
     ]
    },
    {
     "name": "stdout",
     "output_type": "stream",
     "text": [
      "{'epoch': 18, 'iter': 330, 'avg_loss': 1.4570363106324233, 'avg_acc': 54.399546827794566, 'loss': 1.3778728246688843}\n"
     ]
    },
    {
     "name": "stderr",
     "output_type": "stream",
     "text": [
      "EP_train:18:  36%|| 340/938 [00:12<00:19, 30.62it/s]"
     ]
    },
    {
     "name": "stdout",
     "output_type": "stream",
     "text": [
      "{'epoch': 18, 'iter': 340, 'avg_loss': 1.4556085914810382, 'avg_acc': 54.26136363636363, 'loss': 1.3658769130706787}\n"
     ]
    },
    {
     "name": "stderr",
     "output_type": "stream",
     "text": [
      "EP_train:18:  38%|| 358/938 [00:13<00:19, 29.60it/s]"
     ]
    },
    {
     "name": "stdout",
     "output_type": "stream",
     "text": [
      "{'epoch': 18, 'iter': 350, 'avg_loss': 1.4557682851440885, 'avg_acc': 54.33582621082621, 'loss': 1.4099618196487427}\n"
     ]
    },
    {
     "name": "stderr",
     "output_type": "stream",
     "text": [
      "EP_train:18:  39%|| 366/938 [00:13<00:19, 29.85it/s]"
     ]
    },
    {
     "name": "stdout",
     "output_type": "stream",
     "text": [
      "{'epoch': 18, 'iter': 360, 'avg_loss': 1.457498914151971, 'avg_acc': 54.388850415512465, 'loss': 1.5725833177566528}\n"
     ]
    },
    {
     "name": "stderr",
     "output_type": "stream",
     "text": [
      "EP_train:18:  40%|| 374/938 [00:13<00:20, 27.05it/s]"
     ]
    },
    {
     "name": "stdout",
     "output_type": "stream",
     "text": [
      "{'epoch': 18, 'iter': 370, 'avg_loss': 1.4574917366883826, 'avg_acc': 54.44743935309974, 'loss': 1.4997071027755737}\n"
     ]
    },
    {
     "name": "stderr",
     "output_type": "stream",
     "text": [
      "EP_train:18:  41%|| 386/938 [00:14<00:27, 19.97it/s]"
     ]
    },
    {
     "name": "stdout",
     "output_type": "stream",
     "text": [
      "{'epoch': 18, 'iter': 380, 'avg_loss': 1.4570694778534996, 'avg_acc': 54.40452755905512, 'loss': 1.5487481355667114}\n"
     ]
    },
    {
     "name": "stderr",
     "output_type": "stream",
     "text": [
      "EP_train:18:  42%|| 395/938 [00:14<00:23, 23.58it/s]"
     ]
    },
    {
     "name": "stdout",
     "output_type": "stream",
     "text": [
      "{'epoch': 18, 'iter': 390, 'avg_loss': 1.4582019405596702, 'avg_acc': 54.46771099744245, 'loss': 1.4178916215896606}\n"
     ]
    },
    {
     "name": "stderr",
     "output_type": "stream",
     "text": [
      "EP_train:18:  43%|| 404/938 [00:15<00:20, 26.00it/s]"
     ]
    },
    {
     "name": "stdout",
     "output_type": "stream",
     "text": [
      "{'epoch': 18, 'iter': 400, 'avg_loss': 1.4577551391951165, 'avg_acc': 54.37967581047381, 'loss': 1.4191131591796875}\n"
     ]
    },
    {
     "name": "stderr",
     "output_type": "stream",
     "text": [
      "EP_train:18:  44%|| 416/938 [00:15<00:17, 30.22it/s]"
     ]
    },
    {
     "name": "stdout",
     "output_type": "stream",
     "text": [
      "{'epoch': 18, 'iter': 410, 'avg_loss': 1.459041317448999, 'avg_acc': 54.402372262773724, 'loss': 1.6270334720611572}\n"
     ]
    },
    {
     "name": "stderr",
     "output_type": "stream",
     "text": [
      "EP_train:18:  45%|| 424/938 [00:15<00:15, 32.37it/s]"
     ]
    },
    {
     "name": "stdout",
     "output_type": "stream",
     "text": [
      "{'epoch': 18, 'iter': 420, 'avg_loss': 1.4585955464358569, 'avg_acc': 54.55017814726841, 'loss': 1.4666357040405273}\n"
     ]
    },
    {
     "name": "stderr",
     "output_type": "stream",
     "text": [
      "EP_train:18:  46%|| 435/938 [00:16<00:19, 26.17it/s]"
     ]
    },
    {
     "name": "stdout",
     "output_type": "stream",
     "text": [
      "{'epoch': 18, 'iter': 430, 'avg_loss': 1.456458509244941, 'avg_acc': 54.437354988399065, 'loss': 1.4968105554580688}\n"
     ]
    },
    {
     "name": "stderr",
     "output_type": "stream",
     "text": [
      "EP_train:18:  47%|| 445/938 [00:16<00:17, 28.48it/s]"
     ]
    },
    {
     "name": "stdout",
     "output_type": "stream",
     "text": [
      "{'epoch': 18, 'iter': 440, 'avg_loss': 1.4572450856502905, 'avg_acc': 54.44302721088435, 'loss': 1.530863642692566}\n"
     ]
    },
    {
     "name": "stderr",
     "output_type": "stream",
     "text": [
      "EP_train:18:  49%|| 457/938 [00:17<00:15, 31.66it/s]"
     ]
    },
    {
     "name": "stdout",
     "output_type": "stream",
     "text": [
      "{'epoch': 18, 'iter': 450, 'avg_loss': 1.4578177623632478, 'avg_acc': 54.3930155210643, 'loss': 1.4201369285583496}\n"
     ]
    },
    {
     "name": "stderr",
     "output_type": "stream",
     "text": [
      "EP_train:18:  50%|| 465/938 [00:17<00:15, 31.38it/s]"
     ]
    },
    {
     "name": "stdout",
     "output_type": "stream",
     "text": [
      "{'epoch': 18, 'iter': 460, 'avg_loss': 1.459388086568249, 'avg_acc': 54.42651843817787, 'loss': 1.453885555267334}\n"
     ]
    },
    {
     "name": "stderr",
     "output_type": "stream",
     "text": [
      "EP_train:18:  51%|| 475/938 [00:17<00:17, 26.07it/s]"
     ]
    },
    {
     "name": "stdout",
     "output_type": "stream",
     "text": [
      "{'epoch': 18, 'iter': 470, 'avg_loss': 1.4596324649079844, 'avg_acc': 54.39225053078556, 'loss': 1.5299665927886963}\n"
     ]
    },
    {
     "name": "stderr",
     "output_type": "stream",
     "text": [
      "EP_train:18:  52%|| 485/938 [00:18<00:16, 27.71it/s]"
     ]
    },
    {
     "name": "stdout",
     "output_type": "stream",
     "text": [
      "{'epoch': 18, 'iter': 480, 'avg_loss': 1.458419178602849, 'avg_acc': 54.469854469854475, 'loss': 1.4929178953170776}\n"
     ]
    },
    {
     "name": "stderr",
     "output_type": "stream",
     "text": [
      "EP_train:18:  53%|| 497/938 [00:18<00:14, 31.22it/s]"
     ]
    },
    {
     "name": "stdout",
     "output_type": "stream",
     "text": [
      "{'epoch': 18, 'iter': 490, 'avg_loss': 1.4581354986383084, 'avg_acc': 54.5061099796334, 'loss': 1.5752912759780884}\n"
     ]
    },
    {
     "name": "stderr",
     "output_type": "stream",
     "text": [
      "EP_train:18:  53%|| 501/938 [00:18<00:14, 31.08it/s]"
     ]
    },
    {
     "name": "stdout",
     "output_type": "stream",
     "text": [
      "{'epoch': 18, 'iter': 500, 'avg_loss': 1.457447075677251, 'avg_acc': 54.534680638722556, 'loss': 1.5714548826217651}\n"
     ]
    },
    {
     "name": "stderr",
     "output_type": "stream",
     "text": [
      "EP_train:18:  55%|| 515/938 [00:19<00:15, 26.47it/s]"
     ]
    },
    {
     "name": "stdout",
     "output_type": "stream",
     "text": [
      "{'epoch': 18, 'iter': 510, 'avg_loss': 1.4577386245102333, 'avg_acc': 54.519324853228966, 'loss': 1.5960803031921387}\n"
     ]
    },
    {
     "name": "stderr",
     "output_type": "stream",
     "text": [
      "EP_train:18:  56%|| 526/938 [00:19<00:13, 30.23it/s]"
     ]
    },
    {
     "name": "stdout",
     "output_type": "stream",
     "text": [
      "{'epoch': 18, 'iter': 520, 'avg_loss': 1.457371383962613, 'avg_acc': 54.546545105566224, 'loss': 1.2383248805999756}\n"
     ]
    },
    {
     "name": "stderr",
     "output_type": "stream",
     "text": [
      "EP_train:18:  57%|| 534/938 [00:19<00:12, 31.33it/s]"
     ]
    },
    {
     "name": "stdout",
     "output_type": "stream",
     "text": [
      "{'epoch': 18, 'iter': 530, 'avg_loss': 1.4584915259688138, 'avg_acc': 54.61393596986818, 'loss': 1.2572541236877441}\n"
     ]
    },
    {
     "name": "stderr",
     "output_type": "stream",
     "text": [
      "EP_train:18:  58%|| 542/938 [00:20<00:11, 33.00it/s]"
     ]
    },
    {
     "name": "stdout",
     "output_type": "stream",
     "text": [
      "{'epoch': 18, 'iter': 540, 'avg_loss': 1.458198608951075, 'avg_acc': 54.59219038817006, 'loss': 1.2944015264511108}\n"
     ]
    },
    {
     "name": "stderr",
     "output_type": "stream",
     "text": [
      "EP_train:18:  59%|| 557/938 [00:20<00:13, 29.04it/s]"
     ]
    },
    {
     "name": "stdout",
     "output_type": "stream",
     "text": [
      "{'epoch': 18, 'iter': 550, 'avg_loss': 1.4584697031715173, 'avg_acc': 54.56556261343013, 'loss': 1.5448392629623413}\n"
     ]
    },
    {
     "name": "stderr",
     "output_type": "stream",
     "text": [
      "EP_train:18:  60%|| 565/938 [00:20<00:12, 30.75it/s]"
     ]
    },
    {
     "name": "stdout",
     "output_type": "stream",
     "text": [
      "{'epoch': 18, 'iter': 560, 'avg_loss': 1.4600577106875319, 'avg_acc': 54.60115864527629, 'loss': 1.5039664506912231}\n"
     ]
    },
    {
     "name": "stderr",
     "output_type": "stream",
     "text": [
      "EP_train:18:  61%|| 573/938 [00:21<00:11, 31.37it/s]"
     ]
    },
    {
     "name": "stdout",
     "output_type": "stream",
     "text": [
      "{'epoch': 18, 'iter': 570, 'avg_loss': 1.4606946868570798, 'avg_acc': 54.487740805604204, 'loss': 1.3713738918304443}\n"
     ]
    },
    {
     "name": "stderr",
     "output_type": "stream",
     "text": [
      "EP_train:18:  63%|| 587/938 [00:21<00:12, 28.24it/s]"
     ]
    },
    {
     "name": "stdout",
     "output_type": "stream",
     "text": [
      "{'epoch': 18, 'iter': 580, 'avg_loss': 1.4608941524451449, 'avg_acc': 54.43201376936317, 'loss': 1.4780553579330444}\n"
     ]
    },
    {
     "name": "stderr",
     "output_type": "stream",
     "text": [
      "EP_train:18:  63%|| 593/938 [00:21<00:16, 20.44it/s]"
     ]
    },
    {
     "name": "stdout",
     "output_type": "stream",
     "text": [
      "{'epoch': 18, 'iter': 590, 'avg_loss': 1.4601120770280132, 'avg_acc': 54.4257614213198, 'loss': 1.4168773889541626}\n"
     ]
    },
    {
     "name": "stderr",
     "output_type": "stream",
     "text": [
      "EP_train:18:  65%|| 608/938 [00:22<00:11, 29.22it/s]"
     ]
    },
    {
     "name": "stdout",
     "output_type": "stream",
     "text": [
      "{'epoch': 18, 'iter': 600, 'avg_loss': 1.4587943860377726, 'avg_acc': 54.54450915141431, 'loss': 1.6034635305404663}\n"
     ]
    },
    {
     "name": "stderr",
     "output_type": "stream",
     "text": [
      "EP_train:18:  66%|| 616/938 [00:22<00:10, 30.07it/s]"
     ]
    },
    {
     "name": "stdout",
     "output_type": "stream",
     "text": [
      "{'epoch': 18, 'iter': 610, 'avg_loss': 1.459656620669482, 'avg_acc': 54.52639116202946, 'loss': 1.6287661790847778}\n"
     ]
    },
    {
     "name": "stderr",
     "output_type": "stream",
     "text": [
      "EP_train:18:  67%|| 624/938 [00:22<00:10, 29.33it/s]"
     ]
    },
    {
     "name": "stdout",
     "output_type": "stream",
     "text": [
      "{'epoch': 18, 'iter': 620, 'avg_loss': 1.4586538470885604, 'avg_acc': 54.539049919484704, 'loss': 1.5844709873199463}\n"
     ]
    },
    {
     "name": "stderr",
     "output_type": "stream",
     "text": [
      "EP_train:18:  68%|| 636/938 [00:23<00:10, 27.49it/s]"
     ]
    },
    {
     "name": "stdout",
     "output_type": "stream",
     "text": [
      "{'epoch': 18, 'iter': 630, 'avg_loss': 1.4576994366766722, 'avg_acc': 54.52654516640254, 'loss': 1.4726667404174805}\n"
     ]
    },
    {
     "name": "stderr",
     "output_type": "stream",
     "text": [
      "EP_train:18:  69%|| 645/938 [00:23<00:13, 21.42it/s]"
     ]
    },
    {
     "name": "stdout",
     "output_type": "stream",
     "text": [
      "{'epoch': 18, 'iter': 640, 'avg_loss': 1.457857345735041, 'avg_acc': 54.52418096723869, 'loss': 1.3900076150894165}\n"
     ]
    },
    {
     "name": "stderr",
     "output_type": "stream",
     "text": [
      "EP_train:18:  70%|| 654/938 [00:24<00:12, 22.89it/s]"
     ]
    },
    {
     "name": "stdout",
     "output_type": "stream",
     "text": [
      "{'epoch': 18, 'iter': 650, 'avg_loss': 1.4578278596683214, 'avg_acc': 54.57469278033794, 'loss': 1.5622199773788452}\n"
     ]
    },
    {
     "name": "stderr",
     "output_type": "stream",
     "text": [
      "EP_train:18:  71%|| 665/938 [00:24<00:09, 28.33it/s]"
     ]
    },
    {
     "name": "stdout",
     "output_type": "stream",
     "text": [
      "{'epoch': 18, 'iter': 660, 'avg_loss': 1.457771154737689, 'avg_acc': 54.6804084720121, 'loss': 1.4912549257278442}\n"
     ]
    },
    {
     "name": "stderr",
     "output_type": "stream",
     "text": [
      "EP_train:18:  72%|| 676/938 [00:25<00:08, 29.55it/s]"
     ]
    },
    {
     "name": "stdout",
     "output_type": "stream",
     "text": [
      "{'epoch': 18, 'iter': 670, 'avg_loss': 1.458429661397607, 'avg_acc': 54.67585692995529, 'loss': 1.2560865879058838}\n"
     ]
    },
    {
     "name": "stderr",
     "output_type": "stream",
     "text": [
      "EP_train:18:  72%|| 680/938 [00:25<00:08, 29.92it/s]"
     ]
    },
    {
     "name": "stdout",
     "output_type": "stream",
     "text": [
      "{'epoch': 18, 'iter': 680, 'avg_loss': 1.4581083781393613, 'avg_acc': 54.64849486049926, 'loss': 1.838035225868225}\n"
     ]
    },
    {
     "name": "stderr",
     "output_type": "stream",
     "text": [
      "EP_train:18:  74%|| 694/938 [00:25<00:09, 26.13it/s]"
     ]
    },
    {
     "name": "stdout",
     "output_type": "stream",
     "text": [
      "{'epoch': 18, 'iter': 690, 'avg_loss': 1.4585431954795132, 'avg_acc': 54.621924746743844, 'loss': 1.6153366565704346}\n"
     ]
    },
    {
     "name": "stderr",
     "output_type": "stream",
     "text": [
      "EP_train:18:  75%|| 705/938 [00:26<00:08, 28.86it/s]"
     ]
    },
    {
     "name": "stdout",
     "output_type": "stream",
     "text": [
      "{'epoch': 18, 'iter': 700, 'avg_loss': 1.4589047051870534, 'avg_acc': 54.56044935805991, 'loss': 1.4536242485046387}\n"
     ]
    },
    {
     "name": "stderr",
     "output_type": "stream",
     "text": [
      "EP_train:18:  76%|| 717/938 [00:26<00:07, 30.97it/s]"
     ]
    },
    {
     "name": "stdout",
     "output_type": "stream",
     "text": [
      "{'epoch': 18, 'iter': 710, 'avg_loss': 1.4590535776692268, 'avg_acc': 54.53586497890295, 'loss': 1.4573471546173096}\n"
     ]
    },
    {
     "name": "stderr",
     "output_type": "stream",
     "text": [
      "EP_train:18:  77%|| 724/938 [00:26<00:08, 25.50it/s]"
     ]
    },
    {
     "name": "stdout",
     "output_type": "stream",
     "text": [
      "{'epoch': 18, 'iter': 720, 'avg_loss': 1.460271996449829, 'avg_acc': 54.52929958391124, 'loss': 1.4259083271026611}\n"
     ]
    },
    {
     "name": "stderr",
     "output_type": "stream",
     "text": [
      "EP_train:18:  78%|| 735/938 [00:27<00:07, 28.61it/s]"
     ]
    },
    {
     "name": "stdout",
     "output_type": "stream",
     "text": [
      "{'epoch': 18, 'iter': 730, 'avg_loss': 1.4610441043341045, 'avg_acc': 54.48871409028728, 'loss': 1.6514194011688232}\n"
     ]
    },
    {
     "name": "stderr",
     "output_type": "stream",
     "text": [
      "EP_train:18:  80%|| 747/938 [00:27<00:05, 32.02it/s]"
     ]
    },
    {
     "name": "stdout",
     "output_type": "stream",
     "text": [
      "{'epoch': 18, 'iter': 740, 'avg_loss': 1.461405400724707, 'avg_acc': 54.436572199730094, 'loss': 1.6009339094161987}\n"
     ]
    },
    {
     "name": "stderr",
     "output_type": "stream",
     "text": [
      "EP_train:18:  80%|| 751/938 [00:27<00:05, 32.67it/s]"
     ]
    },
    {
     "name": "stdout",
     "output_type": "stream",
     "text": [
      "{'epoch': 18, 'iter': 750, 'avg_loss': 1.461159024432242, 'avg_acc': 54.45655792276965, 'loss': 1.6082056760787964}\n"
     ]
    },
    {
     "name": "stderr",
     "output_type": "stream",
     "text": [
      "EP_train:18:  82%|| 766/938 [00:28<00:05, 29.27it/s]"
     ]
    },
    {
     "name": "stdout",
     "output_type": "stream",
     "text": [
      "{'epoch': 18, 'iter': 760, 'avg_loss': 1.4610227491319885, 'avg_acc': 54.45137976346912, 'loss': 1.4200190305709839}\n"
     ]
    },
    {
     "name": "stderr",
     "output_type": "stream",
     "text": [
      "EP_train:18:  83%|| 774/938 [00:28<00:05, 30.52it/s]"
     ]
    },
    {
     "name": "stdout",
     "output_type": "stream",
     "text": [
      "{'epoch': 18, 'iter': 770, 'avg_loss': 1.461229817180782, 'avg_acc': 54.49092088197146, 'loss': 1.5018407106399536}\n"
     ]
    },
    {
     "name": "stderr",
     "output_type": "stream",
     "text": [
      "EP_train:18:  84%|| 786/938 [00:28<00:04, 33.53it/s]"
     ]
    },
    {
     "name": "stdout",
     "output_type": "stream",
     "text": [
      "{'epoch': 18, 'iter': 780, 'avg_loss': 1.461610811544289, 'avg_acc': 54.497439180537775, 'loss': 1.2795978784561157}\n"
     ]
    },
    {
     "name": "stderr",
     "output_type": "stream",
     "text": [
      "EP_train:18:  85%|| 794/938 [00:29<00:04, 33.05it/s]"
     ]
    },
    {
     "name": "stdout",
     "output_type": "stream",
     "text": [
      "{'epoch': 18, 'iter': 790, 'avg_loss': 1.4617425785806175, 'avg_acc': 54.51959544879899, 'loss': 1.4233660697937012}\n"
     ]
    },
    {
     "name": "stderr",
     "output_type": "stream",
     "text": [
      "EP_train:18:  86%|| 806/938 [00:29<00:04, 32.58it/s]"
     ]
    },
    {
     "name": "stdout",
     "output_type": "stream",
     "text": [
      "{'epoch': 18, 'iter': 800, 'avg_loss': 1.4614741834213076, 'avg_acc': 54.513888888888886, 'loss': 1.5175530910491943}\n"
     ]
    },
    {
     "name": "stderr",
     "output_type": "stream",
     "text": [
      "EP_train:18:  87%|| 817/938 [00:29<00:04, 27.55it/s]"
     ]
    },
    {
     "name": "stdout",
     "output_type": "stream",
     "text": [
      "{'epoch': 18, 'iter': 810, 'avg_loss': 1.4614479445499793, 'avg_acc': 54.48905672009864, 'loss': 1.603676676750183}\n"
     ]
    },
    {
     "name": "stderr",
     "output_type": "stream",
     "text": [
      "EP_train:18:  88%|| 825/938 [00:30<00:03, 29.57it/s]"
     ]
    },
    {
     "name": "stdout",
     "output_type": "stream",
     "text": [
      "{'epoch': 18, 'iter': 820, 'avg_loss': 1.4612461804036827, 'avg_acc': 54.43818514007308, 'loss': 1.562491774559021}\n"
     ]
    },
    {
     "name": "stderr",
     "output_type": "stream",
     "text": [
      "EP_train:18:  89%|| 837/938 [00:30<00:03, 32.06it/s]"
     ]
    },
    {
     "name": "stdout",
     "output_type": "stream",
     "text": [
      "{'epoch': 18, 'iter': 830, 'avg_loss': 1.4611079535759743, 'avg_acc': 54.441185318892906, 'loss': 1.49050772190094}\n"
     ]
    },
    {
     "name": "stderr",
     "output_type": "stream",
     "text": [
      "EP_train:18:  90%|| 841/938 [00:30<00:03, 32.25it/s]"
     ]
    },
    {
     "name": "stdout",
     "output_type": "stream",
     "text": [
      "{'epoch': 18, 'iter': 840, 'avg_loss': 1.4607305613907848, 'avg_acc': 54.49985136741974, 'loss': 1.4666913747787476}\n"
     ]
    },
    {
     "name": "stderr",
     "output_type": "stream",
     "text": [
      "EP_train:18:  91%|| 856/938 [00:31<00:02, 28.21it/s]"
     ]
    },
    {
     "name": "stdout",
     "output_type": "stream",
     "text": [
      "{'epoch': 18, 'iter': 850, 'avg_loss': 1.4599456531460782, 'avg_acc': 54.52776145710928, 'loss': 1.3726911544799805}\n"
     ]
    },
    {
     "name": "stderr",
     "output_type": "stream",
     "text": [
      "EP_train:18:  92%|| 864/938 [00:31<00:02, 30.06it/s]"
     ]
    },
    {
     "name": "stdout",
     "output_type": "stream",
     "text": [
      "{'epoch': 18, 'iter': 860, 'avg_loss': 1.4595454292291825, 'avg_acc': 54.504210220673635, 'loss': 1.464680790901184}\n"
     ]
    },
    {
     "name": "stderr",
     "output_type": "stream",
     "text": [
      "EP_train:18:  93%|| 876/938 [00:31<00:01, 31.94it/s]"
     ]
    },
    {
     "name": "stdout",
     "output_type": "stream",
     "text": [
      "{'epoch': 18, 'iter': 870, 'avg_loss': 1.4589499235837522, 'avg_acc': 54.517078071182546, 'loss': 1.2278722524642944}\n"
     ]
    },
    {
     "name": "stderr",
     "output_type": "stream",
     "text": [
      "EP_train:18:  94%|| 880/938 [00:32<00:01, 32.92it/s]"
     ]
    },
    {
     "name": "stdout",
     "output_type": "stream",
     "text": [
      "{'epoch': 18, 'iter': 880, 'avg_loss': 1.4587435273793985, 'avg_acc': 54.55803064699205, 'loss': 1.5464680194854736}\n"
     ]
    },
    {
     "name": "stderr",
     "output_type": "stream",
     "text": [
      "EP_train:18:  96%|| 897/938 [00:32<00:01, 27.10it/s]"
     ]
    },
    {
     "name": "stdout",
     "output_type": "stream",
     "text": [
      "{'epoch': 18, 'iter': 890, 'avg_loss': 1.4589955772615042, 'avg_acc': 54.58403479236813, 'loss': 1.2690666913986206}\n"
     ]
    },
    {
     "name": "stderr",
     "output_type": "stream",
     "text": [
      "EP_train:18:  96%|| 904/938 [00:32<00:01, 28.69it/s]"
     ]
    },
    {
     "name": "stdout",
     "output_type": "stream",
     "text": [
      "{'epoch': 18, 'iter': 900, 'avg_loss': 1.4588111815653684, 'avg_acc': 54.57130965593785, 'loss': 1.554436445236206}\n"
     ]
    },
    {
     "name": "stderr",
     "output_type": "stream",
     "text": [
      "EP_train:18:  98%|| 916/938 [00:33<00:00, 30.77it/s]"
     ]
    },
    {
     "name": "stdout",
     "output_type": "stream",
     "text": [
      "{'epoch': 18, 'iter': 910, 'avg_loss': 1.4589268226262375, 'avg_acc': 54.57258507135017, 'loss': 1.3734452724456787}\n"
     ]
    },
    {
     "name": "stderr",
     "output_type": "stream",
     "text": [
      "EP_train:18:  99%|| 924/938 [00:33<00:00, 30.91it/s]"
     ]
    },
    {
     "name": "stdout",
     "output_type": "stream",
     "text": [
      "{'epoch': 18, 'iter': 920, 'avg_loss': 1.4591426412523376, 'avg_acc': 54.556867535287736, 'loss': 1.4848027229309082}\n"
     ]
    },
    {
     "name": "stderr",
     "output_type": "stream",
     "text": [
      "EP_train:18: 100%|| 935/938 [00:34<00:00, 26.59it/s]"
     ]
    },
    {
     "name": "stdout",
     "output_type": "stream",
     "text": [
      "{'epoch': 18, 'iter': 930, 'avg_loss': 1.4595108451571808, 'avg_acc': 54.58176691729323, 'loss': 1.3144888877868652}\n"
     ]
    },
    {
     "name": "stderr",
     "output_type": "stream",
     "text": [
      "EP_train:18: 100%|| 938/938 [00:34<00:00, 27.44it/s]\n"
     ]
    },
    {
     "name": "stdout",
     "output_type": "stream",
     "text": [
      "EP18, train:             avg_loss=1.4592216623617387,             total_acc=54.57485828609536\n"
     ]
    },
    {
     "name": "stderr",
     "output_type": "stream",
     "text": [
      "EP_train:19:   0%|| 4/938 [00:00<00:29, 31.23it/s]"
     ]
    },
    {
     "name": "stdout",
     "output_type": "stream",
     "text": [
      "{'epoch': 19, 'iter': 0, 'avg_loss': 1.5152349472045898, 'avg_acc': 56.25, 'loss': 1.5152349472045898}\n"
     ]
    },
    {
     "name": "stderr",
     "output_type": "stream",
     "text": [
      "EP_train:19:   2%|| 16/938 [00:00<00:28, 31.84it/s]"
     ]
    },
    {
     "name": "stdout",
     "output_type": "stream",
     "text": [
      "{'epoch': 19, 'iter': 10, 'avg_loss': 1.4916766014966099, 'avg_acc': 55.39772727272727, 'loss': 1.6448522806167603}\n"
     ]
    },
    {
     "name": "stderr",
     "output_type": "stream",
     "text": [
      "EP_train:19:   3%|| 28/938 [00:00<00:27, 33.38it/s]"
     ]
    },
    {
     "name": "stdout",
     "output_type": "stream",
     "text": [
      "{'epoch': 19, 'iter': 20, 'avg_loss': 1.4691988002686274, 'avg_acc': 54.46428571428571, 'loss': 1.8009796142578125}\n"
     ]
    },
    {
     "name": "stderr",
     "output_type": "stream",
     "text": [
      "EP_train:19:   3%|| 32/938 [00:01<00:36, 24.65it/s]"
     ]
    },
    {
     "name": "stdout",
     "output_type": "stream",
     "text": [
      "{'epoch': 19, 'iter': 30, 'avg_loss': 1.4462265929868143, 'avg_acc': 55.34274193548387, 'loss': 1.1961902379989624}\n"
     ]
    },
    {
     "name": "stderr",
     "output_type": "stream",
     "text": [
      "EP_train:19:   5%|| 46/938 [00:01<00:30, 29.35it/s]"
     ]
    },
    {
     "name": "stdout",
     "output_type": "stream",
     "text": [
      "{'epoch': 19, 'iter': 40, 'avg_loss': 1.4417346396097324, 'avg_acc': 55.03048780487805, 'loss': 1.5226430892944336}\n"
     ]
    },
    {
     "name": "stderr",
     "output_type": "stream",
     "text": [
      "EP_train:19:   6%|| 54/938 [00:01<00:30, 29.46it/s]"
     ]
    },
    {
     "name": "stdout",
     "output_type": "stream",
     "text": [
      "{'epoch': 19, 'iter': 50, 'avg_loss': 1.449399373110603, 'avg_acc': 54.53431372549019, 'loss': 1.2026724815368652}\n"
     ]
    },
    {
     "name": "stderr",
     "output_type": "stream",
     "text": [
      "EP_train:19:   7%|| 62/938 [00:02<00:28, 30.25it/s]"
     ]
    },
    {
     "name": "stdout",
     "output_type": "stream",
     "text": [
      "{'epoch': 19, 'iter': 60, 'avg_loss': 1.4493767726616782, 'avg_acc': 54.96926229508197, 'loss': 1.3582793474197388}\n"
     ]
    },
    {
     "name": "stderr",
     "output_type": "stream",
     "text": [
      "EP_train:19:   8%|| 75/938 [00:02<00:33, 25.80it/s]"
     ]
    },
    {
     "name": "stdout",
     "output_type": "stream",
     "text": [
      "{'epoch': 19, 'iter': 70, 'avg_loss': 1.4519385804592724, 'avg_acc': 54.62147887323944, 'loss': 1.6694504022598267}\n"
     ]
    },
    {
     "name": "stderr",
     "output_type": "stream",
     "text": [
      "EP_train:19:   9%|| 85/938 [00:03<00:30, 27.76it/s]"
     ]
    },
    {
     "name": "stdout",
     "output_type": "stream",
     "text": [
      "{'epoch': 19, 'iter': 80, 'avg_loss': 1.4580748934804657, 'avg_acc': 54.39814814814815, 'loss': 1.5803953409194946}\n"
     ]
    },
    {
     "name": "stderr",
     "output_type": "stream",
     "text": [
      "EP_train:19:  10%|| 91/938 [00:03<00:30, 27.47it/s]"
     ]
    },
    {
     "name": "stdout",
     "output_type": "stream",
     "text": [
      "{'epoch': 19, 'iter': 90, 'avg_loss': 1.4586980316665146, 'avg_acc': 54.73901098901099, 'loss': 1.514365315437317}\n"
     ]
    },
    {
     "name": "stderr",
     "output_type": "stream",
     "text": [
      "EP_train:19:  11%|| 103/938 [00:03<00:38, 21.84it/s]"
     ]
    },
    {
     "name": "stdout",
     "output_type": "stream",
     "text": [
      "{'epoch': 19, 'iter': 100, 'avg_loss': 1.4569713396601158, 'avg_acc': 54.61014851485149, 'loss': 1.3233230113983154}\n"
     ]
    },
    {
     "name": "stderr",
     "output_type": "stream",
     "text": [
      "EP_train:19:  12%|| 113/938 [00:04<00:32, 25.35it/s]"
     ]
    },
    {
     "name": "stdout",
     "output_type": "stream",
     "text": [
      "{'epoch': 19, 'iter': 110, 'avg_loss': 1.460944396955473, 'avg_acc': 54.70157657657657, 'loss': 1.4492969512939453}\n"
     ]
    },
    {
     "name": "stderr",
     "output_type": "stream",
     "text": [
      "EP_train:19:  13%|| 123/938 [00:04<00:29, 27.35it/s]"
     ]
    },
    {
     "name": "stdout",
     "output_type": "stream",
     "text": [
      "{'epoch': 19, 'iter': 120, 'avg_loss': 1.459831210207348, 'avg_acc': 54.85537190082644, 'loss': 1.0962656736373901}\n"
     ]
    },
    {
     "name": "stderr",
     "output_type": "stream",
     "text": [
      "EP_train:19:  14%|| 135/938 [00:04<00:26, 30.58it/s]"
     ]
    },
    {
     "name": "stdout",
     "output_type": "stream",
     "text": [
      "{'epoch': 19, 'iter': 130, 'avg_loss': 1.4574848076769413, 'avg_acc': 54.842557251908396, 'loss': 1.480482816696167}\n"
     ]
    },
    {
     "name": "stderr",
     "output_type": "stream",
     "text": [
      "EP_train:19:  15%|| 143/938 [00:05<00:25, 31.09it/s]"
     ]
    },
    {
     "name": "stdout",
     "output_type": "stream",
     "text": [
      "{'epoch': 19, 'iter': 140, 'avg_loss': 1.4565438454878246, 'avg_acc': 54.72074468085106, 'loss': 1.6295548677444458}\n"
     ]
    },
    {
     "name": "stderr",
     "output_type": "stream",
     "text": [
      "EP_train:19:  17%|| 156/938 [00:05<00:28, 27.12it/s]"
     ]
    },
    {
     "name": "stdout",
     "output_type": "stream",
     "text": [
      "{'epoch': 19, 'iter': 150, 'avg_loss': 1.4582670232318096, 'avg_acc': 54.59437086092716, 'loss': 1.3765488862991333}\n"
     ]
    },
    {
     "name": "stderr",
     "output_type": "stream",
     "text": [
      "EP_train:19:  17%|| 164/938 [00:05<00:26, 29.60it/s]"
     ]
    },
    {
     "name": "stdout",
     "output_type": "stream",
     "text": [
      "{'epoch': 19, 'iter': 160, 'avg_loss': 1.4568870171256687, 'avg_acc': 54.85248447204969, 'loss': 1.5158895254135132}\n"
     ]
    },
    {
     "name": "stderr",
     "output_type": "stream",
     "text": [
      "EP_train:19:  19%|| 176/938 [00:06<00:24, 31.23it/s]"
     ]
    },
    {
     "name": "stdout",
     "output_type": "stream",
     "text": [
      "{'epoch': 19, 'iter': 170, 'avg_loss': 1.4603733465685482, 'avg_acc': 54.97076023391813, 'loss': 1.5764597654342651}\n"
     ]
    },
    {
     "name": "stderr",
     "output_type": "stream",
     "text": [
      "EP_train:19:  20%|| 187/938 [00:06<00:28, 26.65it/s]"
     ]
    },
    {
     "name": "stdout",
     "output_type": "stream",
     "text": [
      "{'epoch': 19, 'iter': 180, 'avg_loss': 1.465072751703842, 'avg_acc': 55.00690607734806, 'loss': 1.5757006406784058}\n"
     ]
    },
    {
     "name": "stderr",
     "output_type": "stream",
     "text": [
      "EP_train:19:  21%|| 195/938 [00:07<00:25, 29.34it/s]"
     ]
    },
    {
     "name": "stdout",
     "output_type": "stream",
     "text": [
      "{'epoch': 19, 'iter': 190, 'avg_loss': 1.4644179175661496, 'avg_acc': 54.84293193717278, 'loss': 1.5516972541809082}\n"
     ]
    },
    {
     "name": "stderr",
     "output_type": "stream",
     "text": [
      "EP_train:19:  22%|| 207/938 [00:07<00:23, 31.34it/s]"
     ]
    },
    {
     "name": "stdout",
     "output_type": "stream",
     "text": [
      "{'epoch': 19, 'iter': 200, 'avg_loss': 1.4686326405302208, 'avg_acc': 54.94402985074627, 'loss': 1.5982390642166138}\n"
     ]
    },
    {
     "name": "stderr",
     "output_type": "stream",
     "text": [
      "EP_train:19:  23%|| 215/938 [00:07<00:27, 26.21it/s]"
     ]
    },
    {
     "name": "stdout",
     "output_type": "stream",
     "text": [
      "{'epoch': 19, 'iter': 210, 'avg_loss': 1.4701640690672455, 'avg_acc': 54.9318720379147, 'loss': 1.4282242059707642}\n"
     ]
    },
    {
     "name": "stderr",
     "output_type": "stream",
     "text": [
      "EP_train:19:  24%|| 225/938 [00:08<00:25, 28.27it/s]"
     ]
    },
    {
     "name": "stdout",
     "output_type": "stream",
     "text": [
      "{'epoch': 19, 'iter': 220, 'avg_loss': 1.4699058419439048, 'avg_acc': 54.9066742081448, 'loss': 1.5040949583053589}\n"
     ]
    },
    {
     "name": "stderr",
     "output_type": "stream",
     "text": [
      "EP_train:19:  25%|| 237/938 [00:08<00:22, 31.34it/s]"
     ]
    },
    {
     "name": "stdout",
     "output_type": "stream",
     "text": [
      "{'epoch': 19, 'iter': 230, 'avg_loss': 1.4653433447792417, 'avg_acc': 54.951298701298704, 'loss': 1.1410322189331055}\n"
     ]
    },
    {
     "name": "stderr",
     "output_type": "stream",
     "text": [
      "EP_train:19:  26%|| 244/938 [00:08<00:27, 25.15it/s]"
     ]
    },
    {
     "name": "stdout",
     "output_type": "stream",
     "text": [
      "{'epoch': 19, 'iter': 240, 'avg_loss': 1.4640722250048055, 'avg_acc': 54.95331950207469, 'loss': 1.6296757459640503}\n"
     ]
    },
    {
     "name": "stderr",
     "output_type": "stream",
     "text": [
      "EP_train:19:  27%|| 257/938 [00:09<00:24, 27.30it/s]"
     ]
    },
    {
     "name": "stdout",
     "output_type": "stream",
     "text": [
      "{'epoch': 19, 'iter': 250, 'avg_loss': 1.4635677337646484, 'avg_acc': 54.99252988047809, 'loss': 1.3360366821289062}\n"
     ]
    },
    {
     "name": "stderr",
     "output_type": "stream",
     "text": [
      "EP_train:19:  28%|| 264/938 [00:09<00:24, 27.68it/s]"
     ]
    },
    {
     "name": "stdout",
     "output_type": "stream",
     "text": [
      "{'epoch': 19, 'iter': 260, 'avg_loss': 1.4639893688004593, 'avg_acc': 54.90900383141762, 'loss': 1.331037163734436}\n"
     ]
    },
    {
     "name": "stderr",
     "output_type": "stream",
     "text": [
      "EP_train:19:  29%|| 271/938 [00:09<00:23, 28.64it/s]"
     ]
    },
    {
     "name": "stdout",
     "output_type": "stream",
     "text": [
      "{'epoch': 19, 'iter': 270, 'avg_loss': 1.461641597571848, 'avg_acc': 54.82011070110702, 'loss': 1.1680790185928345}\n"
     ]
    },
    {
     "name": "stderr",
     "output_type": "stream",
     "text": [
      "EP_train:19:  30%|| 285/938 [00:10<00:23, 27.41it/s]"
     ]
    },
    {
     "name": "stdout",
     "output_type": "stream",
     "text": [
      "{'epoch': 19, 'iter': 280, 'avg_loss': 1.4609326972655978, 'avg_acc': 54.592971530249116, 'loss': 1.4820626974105835}\n"
     ]
    },
    {
     "name": "stderr",
     "output_type": "stream",
     "text": [
      "EP_train:19:  32%|| 297/938 [00:10<00:20, 31.12it/s]"
     ]
    },
    {
     "name": "stdout",
     "output_type": "stream",
     "text": [
      "{'epoch': 19, 'iter': 290, 'avg_loss': 1.4627231441412594, 'avg_acc': 54.48883161512027, 'loss': 1.2550246715545654}\n"
     ]
    },
    {
     "name": "stderr",
     "output_type": "stream",
     "text": [
      "EP_train:19:  33%|| 305/938 [00:11<00:19, 32.53it/s]"
     ]
    },
    {
     "name": "stdout",
     "output_type": "stream",
     "text": [
      "{'epoch': 19, 'iter': 300, 'avg_loss': 1.464036335976813, 'avg_acc': 54.50581395348837, 'loss': 1.7165929079055786}\n"
     ]
    },
    {
     "name": "stderr",
     "output_type": "stream",
     "text": [
      "EP_train:19:  33%|| 313/938 [00:11<00:18, 33.20it/s]"
     ]
    },
    {
     "name": "stdout",
     "output_type": "stream",
     "text": [
      "{'epoch': 19, 'iter': 310, 'avg_loss': 1.462221021820878, 'avg_acc': 54.431270096463024, 'loss': 1.402736783027649}\n"
     ]
    },
    {
     "name": "stderr",
     "output_type": "stream",
     "text": [
      "EP_train:19:  35%|| 324/938 [00:11<00:23, 26.56it/s]"
     ]
    },
    {
     "name": "stdout",
     "output_type": "stream",
     "text": [
      "{'epoch': 19, 'iter': 320, 'avg_loss': 1.461993980630536, 'avg_acc': 54.29322429906542, 'loss': 1.2703063488006592}\n"
     ]
    },
    {
     "name": "stderr",
     "output_type": "stream",
     "text": [
      "EP_train:19:  36%|| 336/938 [00:12<00:19, 30.55it/s]"
     ]
    },
    {
     "name": "stdout",
     "output_type": "stream",
     "text": [
      "{'epoch': 19, 'iter': 330, 'avg_loss': 1.4627012111629245, 'avg_acc': 54.399546827794566, 'loss': 1.5669853687286377}\n"
     ]
    },
    {
     "name": "stderr",
     "output_type": "stream",
     "text": [
      "EP_train:19:  36%|| 340/938 [00:12<00:18, 31.49it/s]"
     ]
    },
    {
     "name": "stdout",
     "output_type": "stream",
     "text": [
      "{'epoch': 19, 'iter': 340, 'avg_loss': 1.4627031972331386, 'avg_acc': 54.371334310850436, 'loss': 1.5136617422103882}\n"
     ]
    },
    {
     "name": "stderr",
     "output_type": "stream",
     "text": [
      "EP_train:19:  38%|| 353/938 [00:12<00:21, 26.74it/s]"
     ]
    },
    {
     "name": "stdout",
     "output_type": "stream",
     "text": [
      "{'epoch': 19, 'iter': 350, 'avg_loss': 1.462467759083479, 'avg_acc': 54.513888888888886, 'loss': 1.3951053619384766}\n"
     ]
    },
    {
     "name": "stderr",
     "output_type": "stream",
     "text": [
      "EP_train:19:  39%|| 365/938 [00:13<00:19, 29.24it/s]"
     ]
    },
    {
     "name": "stdout",
     "output_type": "stream",
     "text": [
      "{'epoch': 19, 'iter': 360, 'avg_loss': 1.4639991984142822, 'avg_acc': 54.51004155124654, 'loss': 1.4109113216400146}\n"
     ]
    },
    {
     "name": "stderr",
     "output_type": "stream",
     "text": [
      "EP_train:19:  40%|| 377/938 [00:13<00:18, 30.47it/s]"
     ]
    },
    {
     "name": "stdout",
     "output_type": "stream",
     "text": [
      "{'epoch': 19, 'iter': 370, 'avg_loss': 1.4642124166385826, 'avg_acc': 54.47270889487871, 'loss': 1.4964202642440796}\n"
     ]
    },
    {
     "name": "stderr",
     "output_type": "stream",
     "text": [
      "EP_train:19:  41%|| 385/938 [00:13<00:17, 31.13it/s]"
     ]
    },
    {
     "name": "stdout",
     "output_type": "stream",
     "text": [
      "{'epoch': 19, 'iter': 380, 'avg_loss': 1.4646259887324857, 'avg_acc': 54.43733595800525, 'loss': 1.6501916646957397}\n"
     ]
    },
    {
     "name": "stderr",
     "output_type": "stream",
     "text": [
      "EP_train:19:  42%|| 393/938 [00:14<00:23, 23.67it/s]"
     ]
    },
    {
     "name": "stdout",
     "output_type": "stream",
     "text": [
      "{'epoch': 19, 'iter': 390, 'avg_loss': 1.464076310167532, 'avg_acc': 54.41975703324808, 'loss': 1.535294771194458}\n"
     ]
    },
    {
     "name": "stderr",
     "output_type": "stream",
     "text": [
      "EP_train:19:  43%|| 405/938 [00:14<00:18, 28.32it/s]"
     ]
    },
    {
     "name": "stdout",
     "output_type": "stream",
     "text": [
      "{'epoch': 19, 'iter': 400, 'avg_loss': 1.4644324244406455, 'avg_acc': 54.33291770573566, 'loss': 1.2239420413970947}\n"
     ]
    },
    {
     "name": "stderr",
     "output_type": "stream",
     "text": [
      "EP_train:19:  44%|| 417/938 [00:14<00:17, 30.32it/s]"
     ]
    },
    {
     "name": "stdout",
     "output_type": "stream",
     "text": [
      "{'epoch': 19, 'iter': 410, 'avg_loss': 1.4648298625528378, 'avg_acc': 54.44799270072993, 'loss': 1.4825997352600098}\n"
     ]
    },
    {
     "name": "stderr",
     "output_type": "stream",
     "text": [
      "EP_train:19:  45%|| 421/938 [00:15<00:16, 30.75it/s]"
     ]
    },
    {
     "name": "stdout",
     "output_type": "stream",
     "text": [
      "{'epoch': 19, 'iter': 420, 'avg_loss': 1.4648557187825653, 'avg_acc': 54.431413301662715, 'loss': 1.4079790115356445}\n"
     ]
    },
    {
     "name": "stderr",
     "output_type": "stream",
     "text": [
      "EP_train:19:  46%|| 436/938 [00:15<00:17, 28.12it/s]"
     ]
    },
    {
     "name": "stdout",
     "output_type": "stream",
     "text": [
      "{'epoch': 19, 'iter': 430, 'avg_loss': 1.461249687278907, 'avg_acc': 54.32134570765661, 'loss': 1.3892414569854736}\n"
     ]
    },
    {
     "name": "stderr",
     "output_type": "stream",
     "text": [
      "EP_train:19:  47%|| 444/938 [00:15<00:16, 29.27it/s]"
     ]
    },
    {
     "name": "stdout",
     "output_type": "stream",
     "text": [
      "{'epoch': 19, 'iter': 440, 'avg_loss': 1.4609035902282819, 'avg_acc': 54.400510204081634, 'loss': 1.393385887145996}\n"
     ]
    },
    {
     "name": "stderr",
     "output_type": "stream",
     "text": [
      "EP_train:19:  49%|| 456/938 [00:16<00:15, 31.70it/s]"
     ]
    },
    {
     "name": "stdout",
     "output_type": "stream",
     "text": [
      "{'epoch': 19, 'iter': 450, 'avg_loss': 1.459216889679564, 'avg_acc': 54.434589800443455, 'loss': 1.6899539232254028}\n"
     ]
    },
    {
     "name": "stderr",
     "output_type": "stream",
     "text": [
      "EP_train:19:  49%|| 464/938 [00:16<00:19, 24.75it/s]"
     ]
    },
    {
     "name": "stdout",
     "output_type": "stream",
     "text": [
      "{'epoch': 19, 'iter': 460, 'avg_loss': 1.4596524683358612, 'avg_acc': 54.44007592190889, 'loss': 1.585741400718689}\n"
     ]
    },
    {
     "name": "stderr",
     "output_type": "stream",
     "text": [
      "EP_train:19:  51%|| 475/938 [00:17<00:16, 28.41it/s]"
     ]
    },
    {
     "name": "stdout",
     "output_type": "stream",
     "text": [
      "{'epoch': 19, 'iter': 470, 'avg_loss': 1.4580882557385033, 'avg_acc': 54.51831210191082, 'loss': 1.5035545825958252}\n"
     ]
    },
    {
     "name": "stderr",
     "output_type": "stream",
     "text": [
      "EP_train:19:  52%|| 487/938 [00:17<00:14, 31.49it/s]"
     ]
    },
    {
     "name": "stdout",
     "output_type": "stream",
     "text": [
      "{'epoch': 19, 'iter': 480, 'avg_loss': 1.4582564397066398, 'avg_acc': 54.54132016632016, 'loss': 1.4859230518341064}\n"
     ]
    },
    {
     "name": "stderr",
     "output_type": "stream",
     "text": [
      "EP_train:19:  53%|| 495/938 [00:17<00:13, 31.75it/s]"
     ]
    },
    {
     "name": "stdout",
     "output_type": "stream",
     "text": [
      "{'epoch': 19, 'iter': 490, 'avg_loss': 1.4593587346572254, 'avg_acc': 54.576120162932796, 'loss': 1.5533767938613892}\n"
     ]
    },
    {
     "name": "stderr",
     "output_type": "stream",
     "text": [
      "EP_train:19:  53%|| 499/938 [00:17<00:13, 33.07it/s]"
     ]
    },
    {
     "name": "stdout",
     "output_type": "stream",
     "text": [
      "{'epoch': 19, 'iter': 500, 'avg_loss': 1.4599218968145862, 'avg_acc': 54.58458083832335, 'loss': 1.5233263969421387}\n"
     ]
    },
    {
     "name": "stderr",
     "output_type": "stream",
     "text": [
      "EP_train:19:  55%|| 516/938 [00:18<00:14, 28.79it/s]"
     ]
    },
    {
     "name": "stdout",
     "output_type": "stream",
     "text": [
      "{'epoch': 19, 'iter': 510, 'avg_loss': 1.461274605907806, 'avg_acc': 54.641634050880626, 'loss': 1.615815281867981}\n"
     ]
    },
    {
     "name": "stderr",
     "output_type": "stream",
     "text": [
      "EP_train:19:  56%|| 524/938 [00:18<00:13, 30.98it/s]"
     ]
    },
    {
     "name": "stdout",
     "output_type": "stream",
     "text": [
      "{'epoch': 19, 'iter': 520, 'avg_loss': 1.4618248982987798, 'avg_acc': 54.64251439539347, 'loss': 1.5909943580627441}\n"
     ]
    },
    {
     "name": "stderr",
     "output_type": "stream",
     "text": [
      "EP_train:19:  57%|| 536/938 [00:19<00:13, 30.37it/s]"
     ]
    },
    {
     "name": "stdout",
     "output_type": "stream",
     "text": [
      "{'epoch': 19, 'iter': 530, 'avg_loss': 1.461636389042698, 'avg_acc': 54.58451035781544, 'loss': 1.2920165061950684}\n"
     ]
    },
    {
     "name": "stderr",
     "output_type": "stream",
     "text": [
      "EP_train:19:  58%|| 546/938 [00:19<00:17, 22.94it/s]"
     ]
    },
    {
     "name": "stdout",
     "output_type": "stream",
     "text": [
      "{'epoch': 19, 'iter': 540, 'avg_loss': 1.4621047140710235, 'avg_acc': 54.55753234750462, 'loss': 1.5163413286209106}\n"
     ]
    },
    {
     "name": "stderr",
     "output_type": "stream",
     "text": [
      "EP_train:19:  59%|| 555/938 [00:19<00:15, 25.49it/s]"
     ]
    },
    {
     "name": "stdout",
     "output_type": "stream",
     "text": [
      "{'epoch': 19, 'iter': 550, 'avg_loss': 1.4616219649081221, 'avg_acc': 54.48049001814882, 'loss': 1.542496919631958}\n"
     ]
    },
    {
     "name": "stderr",
     "output_type": "stream",
     "text": [
      "EP_train:19:  60%|| 565/938 [00:20<00:14, 25.43it/s]"
     ]
    },
    {
     "name": "stdout",
     "output_type": "stream",
     "text": [
      "{'epoch': 19, 'iter': 560, 'avg_loss': 1.4615364255327168, 'avg_acc': 54.528743315508024, 'loss': 1.4144984483718872}\n"
     ]
    },
    {
     "name": "stderr",
     "output_type": "stream",
     "text": [
      "EP_train:19:  61%|| 575/938 [00:20<00:17, 21.23it/s]"
     ]
    },
    {
     "name": "stdout",
     "output_type": "stream",
     "text": [
      "{'epoch': 19, 'iter': 570, 'avg_loss': 1.461068909347788, 'avg_acc': 54.624562171628725, 'loss': 1.4883595705032349}\n"
     ]
    },
    {
     "name": "stderr",
     "output_type": "stream",
     "text": [
      "EP_train:19:  62%|| 585/938 [00:21<00:13, 25.42it/s]"
     ]
    },
    {
     "name": "stdout",
     "output_type": "stream",
     "text": [
      "{'epoch': 19, 'iter': 580, 'avg_loss': 1.461511033537466, 'avg_acc': 54.60413080895009, 'loss': 1.6191643476486206}\n"
     ]
    },
    {
     "name": "stderr",
     "output_type": "stream",
     "text": [
      "EP_train:19:  64%|| 596/938 [00:21<00:12, 28.01it/s]"
     ]
    },
    {
     "name": "stdout",
     "output_type": "stream",
     "text": [
      "{'epoch': 19, 'iter': 590, 'avg_loss': 1.4627374927001153, 'avg_acc': 54.58439086294417, 'loss': 1.4762438535690308}\n"
     ]
    },
    {
     "name": "stderr",
     "output_type": "stream",
     "text": [
      "EP_train:19:  64%|| 600/938 [00:21<00:11, 29.00it/s]"
     ]
    },
    {
     "name": "stdout",
     "output_type": "stream",
     "text": [
      "{'epoch': 19, 'iter': 600, 'avg_loss': 1.4627493828187965, 'avg_acc': 54.5705074875208, 'loss': 1.6224521398544312}\n"
     ]
    },
    {
     "name": "stderr",
     "output_type": "stream",
     "text": [
      "EP_train:19:  65%|| 614/938 [00:22<00:12, 26.99it/s]"
     ]
    },
    {
     "name": "stdout",
     "output_type": "stream",
     "text": [
      "{'epoch': 19, 'iter': 610, 'avg_loss': 1.4628591640881352, 'avg_acc': 54.57753682487725, 'loss': 1.2232586145401}\n"
     ]
    },
    {
     "name": "stderr",
     "output_type": "stream",
     "text": [
      "EP_train:19:  67%|| 626/938 [00:22<00:09, 31.47it/s]"
     ]
    },
    {
     "name": "stdout",
     "output_type": "stream",
     "text": [
      "{'epoch': 19, 'iter': 620, 'avg_loss': 1.462404247643291, 'avg_acc': 54.559178743961354, 'loss': 1.2947932481765747}\n"
     ]
    },
    {
     "name": "stderr",
     "output_type": "stream",
     "text": [
      "EP_train:19:  68%|| 634/938 [00:22<00:09, 31.87it/s]"
     ]
    },
    {
     "name": "stdout",
     "output_type": "stream",
     "text": [
      "{'epoch': 19, 'iter': 630, 'avg_loss': 1.4634820016930485, 'avg_acc': 54.53645007923931, 'loss': 1.4673141241073608}\n"
     ]
    },
    {
     "name": "stderr",
     "output_type": "stream",
     "text": [
      "EP_train:19:  68%|| 642/938 [00:23<00:09, 32.01it/s]"
     ]
    },
    {
     "name": "stdout",
     "output_type": "stream",
     "text": [
      "{'epoch': 19, 'iter': 640, 'avg_loss': 1.463506273471993, 'avg_acc': 54.53880655226209, 'loss': 1.5151718854904175}\n"
     ]
    },
    {
     "name": "stderr",
     "output_type": "stream",
     "text": [
      "EP_train:19:  70%|| 655/938 [00:23<00:10, 27.29it/s]"
     ]
    },
    {
     "name": "stdout",
     "output_type": "stream",
     "text": [
      "{'epoch': 19, 'iter': 650, 'avg_loss': 1.4647199448352586, 'avg_acc': 54.5410906298003, 'loss': 1.3354332447052002}\n"
     ]
    },
    {
     "name": "stderr",
     "output_type": "stream",
     "text": [
      "EP_train:19:  71%|| 667/938 [00:24<00:08, 30.68it/s]"
     ]
    },
    {
     "name": "stdout",
     "output_type": "stream",
     "text": [
      "{'epoch': 19, 'iter': 660, 'avg_loss': 1.4657186540280456, 'avg_acc': 54.48184568835098, 'loss': 1.6416348218917847}\n"
     ]
    },
    {
     "name": "stderr",
     "output_type": "stream",
     "text": [
      "EP_train:19:  72%|| 675/938 [00:24<00:08, 31.47it/s]"
     ]
    },
    {
     "name": "stdout",
     "output_type": "stream",
     "text": [
      "{'epoch': 19, 'iter': 670, 'avg_loss': 1.4652274267861811, 'avg_acc': 54.475596125186286, 'loss': 1.6719090938568115}\n"
     ]
    },
    {
     "name": "stderr",
     "output_type": "stream",
     "text": [
      "EP_train:19:  73%|| 687/938 [00:24<00:07, 31.90it/s]"
     ]
    },
    {
     "name": "stdout",
     "output_type": "stream",
     "text": [
      "{'epoch': 19, 'iter': 680, 'avg_loss': 1.4648805356060706, 'avg_acc': 54.44199706314243, 'loss': 1.474859595298767}\n"
     ]
    },
    {
     "name": "stderr",
     "output_type": "stream",
     "text": [
      "EP_train:19:  74%|| 694/938 [00:25<00:09, 26.49it/s]"
     ]
    },
    {
     "name": "stdout",
     "output_type": "stream",
     "text": [
      "{'epoch': 19, 'iter': 690, 'avg_loss': 1.46486441443867, 'avg_acc': 54.48625180897251, 'loss': 1.4509525299072266}\n"
     ]
    },
    {
     "name": "stderr",
     "output_type": "stream",
     "text": [
      "EP_train:19:  75%|| 705/938 [00:25<00:07, 29.55it/s]"
     ]
    },
    {
     "name": "stdout",
     "output_type": "stream",
     "text": [
      "{'epoch': 19, 'iter': 700, 'avg_loss': 1.4649388040183444, 'avg_acc': 54.54707560627675, 'loss': 1.7472050189971924}\n"
     ]
    },
    {
     "name": "stderr",
     "output_type": "stream",
     "text": [
      "EP_train:19:  76%|| 717/938 [00:25<00:06, 31.79it/s]"
     ]
    },
    {
     "name": "stdout",
     "output_type": "stream",
     "text": [
      "{'epoch': 19, 'iter': 710, 'avg_loss': 1.4656434763332962, 'avg_acc': 54.57542194092827, 'loss': 1.5962097644805908}\n"
     ]
    },
    {
     "name": "stderr",
     "output_type": "stream",
     "text": [
      "EP_train:19:  77%|| 725/938 [00:26<00:06, 31.41it/s]"
     ]
    },
    {
     "name": "stdout",
     "output_type": "stream",
     "text": [
      "{'epoch': 19, 'iter': 720, 'avg_loss': 1.465406366095629, 'avg_acc': 54.637656033287094, 'loss': 1.3670085668563843}\n"
     ]
    },
    {
     "name": "stderr",
     "output_type": "stream",
     "text": [
      "EP_train:19:  78%|| 736/938 [00:26<00:07, 26.50it/s]"
     ]
    },
    {
     "name": "stdout",
     "output_type": "stream",
     "text": [
      "{'epoch': 19, 'iter': 730, 'avg_loss': 1.4646337682995358, 'avg_acc': 54.67253761969905, 'loss': 1.250122308731079}\n"
     ]
    },
    {
     "name": "stderr",
     "output_type": "stream",
     "text": [
      "EP_train:19:  79%|| 744/938 [00:26<00:06, 28.76it/s]"
     ]
    },
    {
     "name": "stdout",
     "output_type": "stream",
     "text": [
      "{'epoch': 19, 'iter': 740, 'avg_loss': 1.4645541891877951, 'avg_acc': 54.68117408906883, 'loss': 1.4771552085876465}\n"
     ]
    },
    {
     "name": "stderr",
     "output_type": "stream",
     "text": [
      "EP_train:19:  81%|| 756/938 [00:27<00:05, 30.40it/s]"
     ]
    },
    {
     "name": "stdout",
     "output_type": "stream",
     "text": [
      "{'epoch': 19, 'iter': 750, 'avg_loss': 1.4650536651776411, 'avg_acc': 54.635486018641814, 'loss': 1.735686182975769}\n"
     ]
    },
    {
     "name": "stderr",
     "output_type": "stream",
     "text": [
      "EP_train:19:  81%|| 760/938 [00:27<00:05, 31.18it/s]"
     ]
    },
    {
     "name": "stdout",
     "output_type": "stream",
     "text": [
      "{'epoch': 19, 'iter': 760, 'avg_loss': 1.464258790642767, 'avg_acc': 54.685446780551906, 'loss': 1.3439056873321533}\n"
     ]
    },
    {
     "name": "stderr",
     "output_type": "stream",
     "text": [
      "EP_train:19:  83%|| 774/938 [00:27<00:06, 27.16it/s]"
     ]
    },
    {
     "name": "stdout",
     "output_type": "stream",
     "text": [
      "{'epoch': 19, 'iter': 770, 'avg_loss': 1.4644499036897791, 'avg_acc': 54.67736705577172, 'loss': 1.5701924562454224}\n"
     ]
    },
    {
     "name": "stderr",
     "output_type": "stream",
     "text": [
      "EP_train:19:  84%|| 786/938 [00:28<00:04, 32.18it/s]"
     ]
    },
    {
     "name": "stdout",
     "output_type": "stream",
     "text": [
      "{'epoch': 19, 'iter': 780, 'avg_loss': 1.4641105408247241, 'avg_acc': 54.625480153649164, 'loss': 1.5648233890533447}\n"
     ]
    },
    {
     "name": "stderr",
     "output_type": "stream",
     "text": [
      "EP_train:19:  85%|| 794/938 [00:28<00:04, 32.42it/s]"
     ]
    },
    {
     "name": "stdout",
     "output_type": "stream",
     "text": [
      "{'epoch': 19, 'iter': 790, 'avg_loss': 1.4634434587584735, 'avg_acc': 54.63811630847029, 'loss': 1.513768196105957}\n"
     ]
    },
    {
     "name": "stderr",
     "output_type": "stream",
     "text": [
      "EP_train:19:  86%|| 802/938 [00:28<00:04, 31.81it/s]"
     ]
    },
    {
     "name": "stdout",
     "output_type": "stream",
     "text": [
      "{'epoch': 19, 'iter': 800, 'avg_loss': 1.4627911757291776, 'avg_acc': 54.61922596754057, 'loss': 1.446818470954895}\n"
     ]
    },
    {
     "name": "stderr",
     "output_type": "stream",
     "text": [
      "EP_train:19:  87%|| 813/938 [00:29<00:04, 25.86it/s]"
     ]
    },
    {
     "name": "stdout",
     "output_type": "stream",
     "text": [
      "{'epoch': 19, 'iter': 810, 'avg_loss': 1.4630051179526031, 'avg_acc': 54.59309494451294, 'loss': 1.246696949005127}\n"
     ]
    },
    {
     "name": "stderr",
     "output_type": "stream",
     "text": [
      "EP_train:19:  88%|| 825/938 [00:29<00:03, 30.18it/s]"
     ]
    },
    {
     "name": "stdout",
     "output_type": "stream",
     "text": [
      "{'epoch': 19, 'iter': 820, 'avg_loss': 1.462865256653343, 'avg_acc': 54.52573081607795, 'loss': 1.4359163045883179}\n"
     ]
    },
    {
     "name": "stderr",
     "output_type": "stream",
     "text": [
      "EP_train:19:  89%|| 837/938 [00:29<00:03, 32.33it/s]"
     ]
    },
    {
     "name": "stdout",
     "output_type": "stream",
     "text": [
      "{'epoch': 19, 'iter': 830, 'avg_loss': 1.462557523976451, 'avg_acc': 54.58032490974729, 'loss': 1.5817945003509521}\n"
     ]
    },
    {
     "name": "stderr",
     "output_type": "stream",
     "text": [
      "EP_train:19:  90%|| 841/938 [00:30<00:02, 32.46it/s]"
     ]
    },
    {
     "name": "stdout",
     "output_type": "stream",
     "text": [
      "{'epoch': 19, 'iter': 840, 'avg_loss': 1.4623344692974114, 'avg_acc': 54.525862068965516, 'loss': 1.3225531578063965}\n"
     ]
    },
    {
     "name": "stderr",
     "output_type": "stream",
     "text": [
      "EP_train:19:  91%|| 854/938 [00:30<00:03, 25.55it/s]"
     ]
    },
    {
     "name": "stdout",
     "output_type": "stream",
     "text": [
      "{'epoch': 19, 'iter': 850, 'avg_loss': 1.4632456054698706, 'avg_acc': 54.55713866039953, 'loss': 1.7131341695785522}\n"
     ]
    },
    {
     "name": "stderr",
     "output_type": "stream",
     "text": [
      "EP_train:19:  92%|| 864/938 [00:31<00:02, 25.34it/s]"
     ]
    },
    {
     "name": "stdout",
     "output_type": "stream",
     "text": [
      "{'epoch': 19, 'iter': 860, 'avg_loss': 1.4619458231222615, 'avg_acc': 54.576800232288036, 'loss': 1.3129926919937134}\n"
     ]
    },
    {
     "name": "stderr",
     "output_type": "stream",
     "text": [
      "EP_train:19:  93%|| 873/938 [00:31<00:02, 24.18it/s]"
     ]
    },
    {
     "name": "stdout",
     "output_type": "stream",
     "text": [
      "{'epoch': 19, 'iter': 870, 'avg_loss': 1.4609338057438077, 'avg_acc': 54.51349024110218, 'loss': 1.1701937913894653}\n"
     ]
    },
    {
     "name": "stderr",
     "output_type": "stream",
     "text": [
      "EP_train:19:  94%|| 885/938 [00:32<00:02, 22.19it/s]"
     ]
    },
    {
     "name": "stdout",
     "output_type": "stream",
     "text": [
      "{'epoch': 19, 'iter': 880, 'avg_loss': 1.4613245974604578, 'avg_acc': 54.508371169125994, 'loss': 1.6432442665100098}\n"
     ]
    },
    {
     "name": "stderr",
     "output_type": "stream",
     "text": [
      "EP_train:19:  96%|| 896/938 [00:32<00:01, 27.84it/s]"
     ]
    },
    {
     "name": "stdout",
     "output_type": "stream",
     "text": [
      "{'epoch': 19, 'iter': 890, 'avg_loss': 1.4618085942552013, 'avg_acc': 54.552469135802475, 'loss': 1.576956868171692}\n"
     ]
    },
    {
     "name": "stderr",
     "output_type": "stream",
     "text": [
      "EP_train:19:  97%|| 907/938 [00:32<00:01, 30.01it/s]"
     ]
    },
    {
     "name": "stdout",
     "output_type": "stream",
     "text": [
      "{'epoch': 19, 'iter': 900, 'avg_loss': 1.4614573222286296, 'avg_acc': 54.51234739178691, 'loss': 1.4241242408752441}\n"
     ]
    },
    {
     "name": "stderr",
     "output_type": "stream",
     "text": [
      "EP_train:19:  98%|| 915/938 [00:32<00:00, 30.79it/s]"
     ]
    },
    {
     "name": "stdout",
     "output_type": "stream",
     "text": [
      "{'epoch': 19, 'iter': 910, 'avg_loss': 1.46122594683152, 'avg_acc': 54.53485181119648, 'loss': 1.4913978576660156}\n"
     ]
    },
    {
     "name": "stderr",
     "output_type": "stream",
     "text": [
      "EP_train:19:  99%|| 927/938 [00:33<00:00, 26.77it/s]"
     ]
    },
    {
     "name": "stdout",
     "output_type": "stream",
     "text": [
      "{'epoch': 19, 'iter': 920, 'avg_loss': 1.4611185101810418, 'avg_acc': 54.52972312703584, 'loss': 1.4980571269989014}\n"
     ]
    },
    {
     "name": "stderr",
     "output_type": "stream",
     "text": [
      "EP_train:19: 100%|| 938/938 [00:33<00:00, 27.72it/s]"
     ]
    },
    {
     "name": "stdout",
     "output_type": "stream",
     "text": [
      "{'epoch': 19, 'iter': 930, 'avg_loss': 1.460711345636755, 'avg_acc': 54.56162728249194, 'loss': 1.5303101539611816}\n",
      "EP19, train:             avg_loss=1.460497917905291,             total_acc=54.57485828609536\n"
     ]
    },
    {
     "name": "stderr",
     "output_type": "stream",
     "text": [
      "\n"
     ]
    }
   ],
   "source": [
    "'''test run'''\n",
    "\n",
    "MAX_LEN = 13\n",
    "\n",
    "train_data = BERTDataset_For_League(\n",
    "   train_datas, seq_len=MAX_LEN)\n",
    "\n",
    "# print(train_data.)\n",
    "\n",
    "train_loader = DataLoader(\n",
    "   train_data, batch_size=32, shuffle=True, pin_memory=True)\n",
    "\n",
    "bert_model = BERT(\n",
    "  vocab_size=167,\n",
    "  d_model= 64,\n",
    "  n_layers=2,\n",
    "  heads=8,\n",
    "  dropout=0.1\n",
    ")\n",
    "\n",
    "bert_lm = BERTLM(bert_model, 167)\n",
    "bert_trainer = BERTTrainer(bert_lm, train_loader, device='cpu')\n",
    "epochs = 20\n",
    "\n",
    "for epoch in range(epochs):\n",
    "  bert_trainer.train(epoch)\n",
    "\n",
    "\n"
   ]
  },
  {
   "cell_type": "code",
   "execution_count": 428,
   "metadata": {},
   "outputs": [
    {
     "name": "stderr",
     "output_type": "stream",
     "text": [
      "EP_train:100:   1%|| 9/938 [00:00<00:23, 39.47it/s]"
     ]
    },
    {
     "name": "stdout",
     "output_type": "stream",
     "text": [
      "{'epoch': 100, 'iter': 0, 'avg_loss': 1.5695569515228271, 'avg_acc': 56.25, 'loss': 1.5695569515228271}\n"
     ]
    },
    {
     "name": "stderr",
     "output_type": "stream",
     "text": [
      "EP_train:100:   2%|| 18/938 [00:00<00:24, 37.92it/s]"
     ]
    },
    {
     "name": "stdout",
     "output_type": "stream",
     "text": [
      "{'epoch': 100, 'iter': 10, 'avg_loss': 1.3758442835374312, 'avg_acc': 52.27272727272727, 'loss': 1.1518754959106445}\n"
     ]
    },
    {
     "name": "stderr",
     "output_type": "stream",
     "text": [
      "EP_train:100:   2%|| 22/938 [00:00<00:23, 38.38it/s]"
     ]
    },
    {
     "name": "stdout",
     "output_type": "stream",
     "text": [
      "{'epoch': 100, 'iter': 20, 'avg_loss': 1.3682526633853005, 'avg_acc': 53.57142857142857, 'loss': 1.3561804294586182}\n"
     ]
    },
    {
     "name": "stderr",
     "output_type": "stream",
     "text": [
      "EP_train:100:   4%|| 34/938 [00:01<00:30, 29.78it/s]"
     ]
    },
    {
     "name": "stdout",
     "output_type": "stream",
     "text": [
      "{'epoch': 100, 'iter': 30, 'avg_loss': 1.4018429556200582, 'avg_acc': 54.63709677419355, 'loss': 1.5581040382385254}\n"
     ]
    },
    {
     "name": "stderr",
     "output_type": "stream",
     "text": [
      "EP_train:100:   5%|| 46/938 [00:01<00:30, 29.63it/s]"
     ]
    },
    {
     "name": "stdout",
     "output_type": "stream",
     "text": [
      "{'epoch': 100, 'iter': 40, 'avg_loss': 1.4113872022163578, 'avg_acc': 54.64939024390244, 'loss': 1.53648042678833}\n"
     ]
    },
    {
     "name": "stderr",
     "output_type": "stream",
     "text": [
      "EP_train:100:   6%|| 54/938 [00:01<00:30, 28.60it/s]"
     ]
    },
    {
     "name": "stdout",
     "output_type": "stream",
     "text": [
      "{'epoch': 100, 'iter': 50, 'avg_loss': 1.4075589226741416, 'avg_acc': 54.10539215686274, 'loss': 1.1823089122772217}\n"
     ]
    },
    {
     "name": "stderr",
     "output_type": "stream",
     "text": [
      "EP_train:100:   7%|| 65/938 [00:02<00:30, 28.44it/s]"
     ]
    },
    {
     "name": "stdout",
     "output_type": "stream",
     "text": [
      "{'epoch': 100, 'iter': 60, 'avg_loss': 1.416647967745046, 'avg_acc': 54.30327868852459, 'loss': 1.4258980751037598}\n"
     ]
    },
    {
     "name": "stderr",
     "output_type": "stream",
     "text": [
      "EP_train:100:   8%|| 75/938 [00:02<00:30, 28.69it/s]"
     ]
    },
    {
     "name": "stdout",
     "output_type": "stream",
     "text": [
      "{'epoch': 100, 'iter': 70, 'avg_loss': 1.4239423375734142, 'avg_acc': 54.401408450704224, 'loss': 1.5482563972473145}\n"
     ]
    },
    {
     "name": "stderr",
     "output_type": "stream",
     "text": [
      "EP_train:100:   9%|| 87/938 [00:02<00:27, 31.19it/s]"
     ]
    },
    {
     "name": "stdout",
     "output_type": "stream",
     "text": [
      "{'epoch': 100, 'iter': 80, 'avg_loss': 1.4320448887201003, 'avg_acc': 54.282407407407405, 'loss': 1.4379297494888306}\n"
     ]
    },
    {
     "name": "stderr",
     "output_type": "stream",
     "text": [
      "EP_train:100:  10%|| 95/938 [00:03<00:26, 32.33it/s]"
     ]
    },
    {
     "name": "stdout",
     "output_type": "stream",
     "text": [
      "{'epoch': 100, 'iter': 90, 'avg_loss': 1.4304154875514272, 'avg_acc': 54.807692307692314, 'loss': 1.1400353908538818}\n"
     ]
    },
    {
     "name": "stderr",
     "output_type": "stream",
     "text": [
      "EP_train:100:  11%|| 106/938 [00:03<00:27, 30.21it/s]"
     ]
    },
    {
     "name": "stdout",
     "output_type": "stream",
     "text": [
      "{'epoch': 100, 'iter': 100, 'avg_loss': 1.4241870181395275, 'avg_acc': 54.73391089108911, 'loss': 1.1983098983764648}\n"
     ]
    },
    {
     "name": "stderr",
     "output_type": "stream",
     "text": [
      "EP_train:100:  12%|| 114/938 [00:03<00:28, 29.20it/s]"
     ]
    },
    {
     "name": "stdout",
     "output_type": "stream",
     "text": [
      "{'epoch': 100, 'iter': 110, 'avg_loss': 1.4199882724263646, 'avg_acc': 54.61711711711712, 'loss': 1.3909881114959717}\n"
     ]
    },
    {
     "name": "stderr",
     "output_type": "stream",
     "text": [
      "EP_train:100:  13%|| 126/938 [00:04<00:29, 27.33it/s]"
     ]
    },
    {
     "name": "stdout",
     "output_type": "stream",
     "text": [
      "{'epoch': 100, 'iter': 120, 'avg_loss': 1.4194496860188885, 'avg_acc': 54.571280991735534, 'loss': 1.4212042093276978}\n"
     ]
    },
    {
     "name": "stderr",
     "output_type": "stream",
     "text": [
      "EP_train:100:  14%|| 136/938 [00:04<00:28, 27.88it/s]"
     ]
    },
    {
     "name": "stdout",
     "output_type": "stream",
     "text": [
      "{'epoch': 100, 'iter': 130, 'avg_loss': 1.4185854833544667, 'avg_acc': 54.17461832061069, 'loss': 1.435850739479065}\n"
     ]
    },
    {
     "name": "stderr",
     "output_type": "stream",
     "text": [
      "EP_train:100:  16%|| 146/938 [00:05<00:36, 21.64it/s]"
     ]
    },
    {
     "name": "stdout",
     "output_type": "stream",
     "text": [
      "{'epoch': 100, 'iter': 140, 'avg_loss': 1.4254976172819205, 'avg_acc': 53.90070921985816, 'loss': 1.5925304889678955}\n"
     ]
    },
    {
     "name": "stderr",
     "output_type": "stream",
     "text": [
      "EP_train:100:  16%|| 153/938 [00:05<00:31, 24.70it/s]"
     ]
    },
    {
     "name": "stdout",
     "output_type": "stream",
     "text": [
      "{'epoch': 100, 'iter': 150, 'avg_loss': 1.4260420199261596, 'avg_acc': 53.766556291390735, 'loss': 1.5328576564788818}\n"
     ]
    },
    {
     "name": "stderr",
     "output_type": "stream",
     "text": [
      "EP_train:100:  17%|| 164/938 [00:05<00:29, 26.59it/s]"
     ]
    },
    {
     "name": "stdout",
     "output_type": "stream",
     "text": [
      "{'epoch': 100, 'iter': 160, 'avg_loss': 1.4235869038919484, 'avg_acc': 53.99844720496895, 'loss': 1.1310240030288696}\n"
     ]
    },
    {
     "name": "stderr",
     "output_type": "stream",
     "text": [
      "EP_train:100:  19%|| 174/938 [00:06<00:27, 27.47it/s]"
     ]
    },
    {
     "name": "stdout",
     "output_type": "stream",
     "text": [
      "{'epoch': 100, 'iter': 170, 'avg_loss': 1.4222693994031315, 'avg_acc': 54.09356725146199, 'loss': 1.494641900062561}\n"
     ]
    },
    {
     "name": "stderr",
     "output_type": "stream",
     "text": [
      "EP_train:100:  20%|| 187/938 [00:06<00:27, 27.01it/s]"
     ]
    },
    {
     "name": "stdout",
     "output_type": "stream",
     "text": [
      "{'epoch': 100, 'iter': 180, 'avg_loss': 1.4208881393980586, 'avg_acc': 53.95372928176796, 'loss': 1.761455774307251}\n"
     ]
    },
    {
     "name": "stderr",
     "output_type": "stream",
     "text": [
      "EP_train:100:  21%|| 194/938 [00:06<00:27, 26.92it/s]"
     ]
    },
    {
     "name": "stdout",
     "output_type": "stream",
     "text": [
      "{'epoch': 100, 'iter': 190, 'avg_loss': 1.4216618662729312, 'avg_acc': 53.94306282722513, 'loss': 1.3808965682983398}\n"
     ]
    },
    {
     "name": "stderr",
     "output_type": "stream",
     "text": [
      "EP_train:100:  22%|| 205/938 [00:07<00:24, 29.38it/s]"
     ]
    },
    {
     "name": "stdout",
     "output_type": "stream",
     "text": [
      "{'epoch': 100, 'iter': 200, 'avg_loss': 1.4193685517382266, 'avg_acc': 53.82462686567165, 'loss': 1.296950340270996}\n"
     ]
    },
    {
     "name": "stderr",
     "output_type": "stream",
     "text": [
      "EP_train:100:  23%|| 214/938 [00:07<00:26, 26.94it/s]"
     ]
    },
    {
     "name": "stdout",
     "output_type": "stream",
     "text": [
      "{'epoch': 100, 'iter': 210, 'avg_loss': 1.4199540197001814, 'avg_acc': 54.072867298578196, 'loss': 1.2638107538223267}\n"
     ]
    },
    {
     "name": "stderr",
     "output_type": "stream",
     "text": [
      "EP_train:100:  24%|| 223/938 [00:08<00:27, 25.68it/s]"
     ]
    },
    {
     "name": "stdout",
     "output_type": "stream",
     "text": [
      "{'epoch': 100, 'iter': 220, 'avg_loss': 1.4199608920386475, 'avg_acc': 53.973416289592755, 'loss': 1.3231532573699951}\n"
     ]
    },
    {
     "name": "stderr",
     "output_type": "stream",
     "text": [
      "EP_train:100:  25%|| 233/938 [00:08<00:31, 22.13it/s]"
     ]
    },
    {
     "name": "stdout",
     "output_type": "stream",
     "text": [
      "{'epoch': 100, 'iter': 230, 'avg_loss': 1.4224914451698205, 'avg_acc': 53.90963203463204, 'loss': 1.5519143342971802}\n"
     ]
    },
    {
     "name": "stderr",
     "output_type": "stream",
     "text": [
      "EP_train:100:  26%|| 242/938 [00:08<00:31, 22.44it/s]"
     ]
    },
    {
     "name": "stdout",
     "output_type": "stream",
     "text": [
      "{'epoch': 100, 'iter': 240, 'avg_loss': 1.422463146977405, 'avg_acc': 54.04564315352697, 'loss': 1.4386290311813354}\n"
     ]
    },
    {
     "name": "stderr",
     "output_type": "stream",
     "text": [
      "EP_train:100:  27%|| 255/938 [00:09<00:34, 20.01it/s]"
     ]
    },
    {
     "name": "stdout",
     "output_type": "stream",
     "text": [
      "{'epoch': 100, 'iter': 250, 'avg_loss': 1.4211087146128316, 'avg_acc': 54.22061752988048, 'loss': 1.2401686906814575}\n"
     ]
    },
    {
     "name": "stderr",
     "output_type": "stream",
     "text": [
      "EP_train:100:  28%|| 265/938 [00:10<00:26, 25.65it/s]"
     ]
    },
    {
     "name": "stdout",
     "output_type": "stream",
     "text": [
      "{'epoch': 100, 'iter': 260, 'avg_loss': 1.4199538185221938, 'avg_acc': 54.14272030651341, 'loss': 1.3345351219177246}\n"
     ]
    },
    {
     "name": "stderr",
     "output_type": "stream",
     "text": [
      "EP_train:100:  29%|| 274/938 [00:10<00:26, 25.40it/s]"
     ]
    },
    {
     "name": "stdout",
     "output_type": "stream",
     "text": [
      "{'epoch': 100, 'iter': 270, 'avg_loss': 1.4206585483797363, 'avg_acc': 54.18588560885609, 'loss': 1.511662483215332}\n"
     ]
    },
    {
     "name": "stderr",
     "output_type": "stream",
     "text": [
      "EP_train:100:  30%|| 283/938 [00:10<00:26, 24.99it/s]"
     ]
    },
    {
     "name": "stdout",
     "output_type": "stream",
     "text": [
      "{'epoch': 100, 'iter': 280, 'avg_loss': 1.4201731452738262, 'avg_acc': 54.20373665480427, 'loss': 1.2490392923355103}\n"
     ]
    },
    {
     "name": "stderr",
     "output_type": "stream",
     "text": [
      "EP_train:100:  31%|| 294/938 [00:11<00:26, 23.95it/s]"
     ]
    },
    {
     "name": "stdout",
     "output_type": "stream",
     "text": [
      "{'epoch': 100, 'iter': 290, 'avg_loss': 1.422955835807774, 'avg_acc': 54.20962199312714, 'loss': 1.280462384223938}\n"
     ]
    },
    {
     "name": "stderr",
     "output_type": "stream",
     "text": [
      "EP_train:100:  33%|| 307/938 [00:11<00:22, 27.89it/s]"
     ]
    },
    {
     "name": "stdout",
     "output_type": "stream",
     "text": [
      "{'epoch': 100, 'iter': 300, 'avg_loss': 1.423441467095055, 'avg_acc': 54.22549833887044, 'loss': 1.3511797189712524}\n"
     ]
    },
    {
     "name": "stderr",
     "output_type": "stream",
     "text": [
      "EP_train:100:  34%|| 315/938 [00:11<00:20, 29.85it/s]"
     ]
    },
    {
     "name": "stdout",
     "output_type": "stream",
     "text": [
      "{'epoch': 100, 'iter': 310, 'avg_loss': 1.4208621871433074, 'avg_acc': 54.30064308681673, 'loss': 1.4204119443893433}\n"
     ]
    },
    {
     "name": "stderr",
     "output_type": "stream",
     "text": [
      "EP_train:100:  35%|| 326/938 [00:12<00:21, 28.81it/s]"
     ]
    },
    {
     "name": "stdout",
     "output_type": "stream",
     "text": [
      "{'epoch': 100, 'iter': 320, 'avg_loss': 1.418972491846649, 'avg_acc': 54.26401869158879, 'loss': 1.4596410989761353}\n"
     ]
    },
    {
     "name": "stderr",
     "output_type": "stream",
     "text": [
      "EP_train:100:  36%|| 337/938 [00:12<00:19, 30.53it/s]"
     ]
    },
    {
     "name": "stdout",
     "output_type": "stream",
     "text": [
      "{'epoch': 100, 'iter': 330, 'avg_loss': 1.418060124820813, 'avg_acc': 54.27681268882175, 'loss': 1.435791254043579}\n"
     ]
    },
    {
     "name": "stderr",
     "output_type": "stream",
     "text": [
      "EP_train:100:  37%|| 345/938 [00:12<00:19, 30.84it/s]"
     ]
    },
    {
     "name": "stdout",
     "output_type": "stream",
     "text": [
      "{'epoch': 100, 'iter': 340, 'avg_loss': 1.4162609713518026, 'avg_acc': 54.27052785923754, 'loss': 1.3389828205108643}\n"
     ]
    },
    {
     "name": "stderr",
     "output_type": "stream",
     "text": [
      "EP_train:100:  38%|| 353/938 [00:13<00:20, 28.15it/s]"
     ]
    },
    {
     "name": "stdout",
     "output_type": "stream",
     "text": [
      "{'epoch': 100, 'iter': 350, 'avg_loss': 1.4171459097468275, 'avg_acc': 54.291310541310544, 'loss': 1.2581255435943604}\n"
     ]
    },
    {
     "name": "stderr",
     "output_type": "stream",
     "text": [
      "EP_train:100:  39%|| 364/938 [00:13<00:18, 30.70it/s]"
     ]
    },
    {
     "name": "stdout",
     "output_type": "stream",
     "text": [
      "{'epoch': 100, 'iter': 360, 'avg_loss': 1.416905361199313, 'avg_acc': 54.414819944598335, 'loss': 1.404497504234314}\n"
     ]
    },
    {
     "name": "stderr",
     "output_type": "stream",
     "text": [
      "EP_train:100:  40%|| 374/938 [00:14<00:31, 17.93it/s]"
     ]
    },
    {
     "name": "stdout",
     "output_type": "stream",
     "text": [
      "{'epoch': 100, 'iter': 370, 'avg_loss': 1.416597480079877, 'avg_acc': 54.48113207547169, 'loss': 1.3168050050735474}\n"
     ]
    },
    {
     "name": "stderr",
     "output_type": "stream",
     "text": [
      "EP_train:100:  41%|| 383/938 [00:14<00:27, 20.02it/s]"
     ]
    },
    {
     "name": "stdout",
     "output_type": "stream",
     "text": [
      "{'epoch': 100, 'iter': 380, 'avg_loss': 1.416114961694232, 'avg_acc': 54.44553805774278, 'loss': 1.2611584663391113}\n"
     ]
    },
    {
     "name": "stderr",
     "output_type": "stream",
     "text": [
      "EP_train:100:  42%|| 395/938 [00:15<00:22, 23.65it/s]"
     ]
    },
    {
     "name": "stdout",
     "output_type": "stream",
     "text": [
      "{'epoch': 100, 'iter': 390, 'avg_loss': 1.41618524396511, 'avg_acc': 54.47570332480819, 'loss': 1.249975323677063}\n"
     ]
    },
    {
     "name": "stderr",
     "output_type": "stream",
     "text": [
      "EP_train:100:  43%|| 404/938 [00:15<00:22, 23.39it/s]"
     ]
    },
    {
     "name": "stdout",
     "output_type": "stream",
     "text": [
      "{'epoch': 100, 'iter': 400, 'avg_loss': 1.4158034060066775, 'avg_acc': 54.457605985037404, 'loss': 1.3385595083236694}\n"
     ]
    },
    {
     "name": "stderr",
     "output_type": "stream",
     "text": [
      "EP_train:100:  44%|| 417/938 [00:15<00:18, 28.66it/s]"
     ]
    },
    {
     "name": "stdout",
     "output_type": "stream",
     "text": [
      "{'epoch': 100, 'iter': 410, 'avg_loss': 1.417998442684647, 'avg_acc': 54.531630170316305, 'loss': 1.6900231838226318}\n"
     ]
    },
    {
     "name": "stderr",
     "output_type": "stream",
     "text": [
      "EP_train:100:  45%|| 424/938 [00:16<00:17, 29.29it/s]"
     ]
    },
    {
     "name": "stdout",
     "output_type": "stream",
     "text": [
      "{'epoch': 100, 'iter': 420, 'avg_loss': 1.416757783527329, 'avg_acc': 54.63925178147269, 'loss': 1.3137062788009644}\n"
     ]
    },
    {
     "name": "stderr",
     "output_type": "stream",
     "text": [
      "EP_train:100:  46%|| 436/938 [00:16<00:17, 29.27it/s]"
     ]
    },
    {
     "name": "stdout",
     "output_type": "stream",
     "text": [
      "{'epoch': 100, 'iter': 430, 'avg_loss': 1.4181052111694266, 'avg_acc': 54.61861948955916, 'loss': 1.4901624917984009}\n"
     ]
    },
    {
     "name": "stderr",
     "output_type": "stream",
     "text": [
      "EP_train:100:  47%|| 444/938 [00:16<00:16, 29.47it/s]"
     ]
    },
    {
     "name": "stdout",
     "output_type": "stream",
     "text": [
      "{'epoch': 100, 'iter': 440, 'avg_loss': 1.418205978378417, 'avg_acc': 54.712301587301596, 'loss': 1.5679477453231812}\n"
     ]
    },
    {
     "name": "stderr",
     "output_type": "stream",
     "text": [
      "EP_train:100:  49%|| 456/938 [00:17<00:15, 31.25it/s]"
     ]
    },
    {
     "name": "stdout",
     "output_type": "stream",
     "text": [
      "{'epoch': 100, 'iter': 450, 'avg_loss': 1.420135074602791, 'avg_acc': 54.593957871396896, 'loss': 1.703995704650879}\n"
     ]
    },
    {
     "name": "stderr",
     "output_type": "stream",
     "text": [
      "EP_train:100:  49%|| 464/938 [00:17<00:14, 31.77it/s]"
     ]
    },
    {
     "name": "stdout",
     "output_type": "stream",
     "text": [
      "{'epoch': 100, 'iter': 460, 'avg_loss': 1.4182842310493784, 'avg_acc': 54.60954446854663, 'loss': 1.0655145645141602}\n"
     ]
    },
    {
     "name": "stderr",
     "output_type": "stream",
     "text": [
      "EP_train:100:  51%|| 476/938 [00:17<00:15, 30.13it/s]"
     ]
    },
    {
     "name": "stdout",
     "output_type": "stream",
     "text": [
      "{'epoch': 100, 'iter': 470, 'avg_loss': 1.4167720205971137, 'avg_acc': 54.60456475583864, 'loss': 1.3182982206344604}\n"
     ]
    },
    {
     "name": "stderr",
     "output_type": "stream",
     "text": [
      "EP_train:100:  52%|| 488/938 [00:18<00:13, 32.62it/s]"
     ]
    },
    {
     "name": "stdout",
     "output_type": "stream",
     "text": [
      "{'epoch': 100, 'iter': 480, 'avg_loss': 1.4168800051147874, 'avg_acc': 54.690748440748436, 'loss': 1.4083826541900635}\n"
     ]
    },
    {
     "name": "stderr",
     "output_type": "stream",
     "text": [
      "EP_train:100:  53%|| 495/938 [00:18<00:20, 21.17it/s]"
     ]
    },
    {
     "name": "stdout",
     "output_type": "stream",
     "text": [
      "{'epoch': 100, 'iter': 490, 'avg_loss': 1.417187747790226, 'avg_acc': 54.716140529531565, 'loss': 1.4848474264144897}\n"
     ]
    },
    {
     "name": "stderr",
     "output_type": "stream",
     "text": [
      "EP_train:100:  54%|| 505/938 [00:19<00:16, 25.72it/s]"
     ]
    },
    {
     "name": "stdout",
     "output_type": "stream",
     "text": [
      "{'epoch': 100, 'iter': 500, 'avg_loss': 1.4170372928687913, 'avg_acc': 54.740518962075846, 'loss': 1.2917557954788208}\n"
     ]
    },
    {
     "name": "stderr",
     "output_type": "stream",
     "text": [
      "EP_train:100:  55%|| 514/938 [00:19<00:16, 25.87it/s]"
     ]
    },
    {
     "name": "stdout",
     "output_type": "stream",
     "text": [
      "{'epoch': 100, 'iter': 510, 'avg_loss': 1.4163251492375264, 'avg_acc': 54.78840508806262, 'loss': 1.3254399299621582}\n"
     ]
    },
    {
     "name": "stderr",
     "output_type": "stream",
     "text": [
      "EP_train:100:  56%|| 524/938 [00:19<00:16, 24.89it/s]"
     ]
    },
    {
     "name": "stdout",
     "output_type": "stream",
     "text": [
      "{'epoch': 100, 'iter': 520, 'avg_loss': 1.4164578537108115, 'avg_acc': 54.78047024952015, 'loss': 1.3022774457931519}\n"
     ]
    },
    {
     "name": "stderr",
     "output_type": "stream",
     "text": [
      "EP_train:100:  57%|| 536/938 [00:20<00:14, 27.04it/s]"
     ]
    },
    {
     "name": "stdout",
     "output_type": "stream",
     "text": [
      "{'epoch': 100, 'iter': 530, 'avg_loss': 1.417273030218207, 'avg_acc': 54.69044256120527, 'loss': 1.4182138442993164}\n"
     ]
    },
    {
     "name": "stderr",
     "output_type": "stream",
     "text": [
      "EP_train:100:  58%|| 545/938 [00:20<00:15, 26.13it/s]"
     ]
    },
    {
     "name": "stdout",
     "output_type": "stream",
     "text": [
      "{'epoch': 100, 'iter': 540, 'avg_loss': 1.4179428610916278, 'avg_acc': 54.696164510166355, 'loss': 1.2017565965652466}\n"
     ]
    },
    {
     "name": "stderr",
     "output_type": "stream",
     "text": [
      "EP_train:100:  59%|| 555/938 [00:20<00:13, 27.79it/s]"
     ]
    },
    {
     "name": "stdout",
     "output_type": "stream",
     "text": [
      "{'epoch': 100, 'iter': 550, 'avg_loss': 1.417556988998247, 'avg_acc': 54.71302177858439, 'loss': 1.4880619049072266}\n"
     ]
    },
    {
     "name": "stderr",
     "output_type": "stream",
     "text": [
      "EP_train:100:  60%|| 567/938 [00:21<00:12, 30.55it/s]"
     ]
    },
    {
     "name": "stdout",
     "output_type": "stream",
     "text": [
      "{'epoch': 100, 'iter': 560, 'avg_loss': 1.4181419198738274, 'avg_acc': 54.690285204991085, 'loss': 1.4498722553253174}\n"
     ]
    },
    {
     "name": "stderr",
     "output_type": "stream",
     "text": [
      "EP_train:100:  62%|| 577/938 [00:21<00:12, 29.02it/s]"
     ]
    },
    {
     "name": "stdout",
     "output_type": "stream",
     "text": [
      "{'epoch': 100, 'iter': 570, 'avg_loss': 1.4194017853294278, 'avg_acc': 54.717600700525395, 'loss': 1.3694554567337036}\n"
     ]
    },
    {
     "name": "stderr",
     "output_type": "stream",
     "text": [
      "EP_train:100:  62%|| 584/938 [00:21<00:12, 29.38it/s]"
     ]
    },
    {
     "name": "stdout",
     "output_type": "stream",
     "text": [
      "{'epoch': 100, 'iter': 580, 'avg_loss': 1.4186646967049104, 'avg_acc': 54.70094664371773, 'loss': 1.174277424812317}\n"
     ]
    },
    {
     "name": "stderr",
     "output_type": "stream",
     "text": [
      "EP_train:100:  64%|| 596/938 [00:22<00:10, 31.73it/s]"
     ]
    },
    {
     "name": "stdout",
     "output_type": "stream",
     "text": [
      "{'epoch': 100, 'iter': 590, 'avg_loss': 1.4184029358494301, 'avg_acc': 54.73244500846024, 'loss': 1.5448352098464966}\n"
     ]
    },
    {
     "name": "stderr",
     "output_type": "stream",
     "text": [
      "EP_train:100:  64%|| 604/938 [00:22<00:10, 31.59it/s]"
     ]
    },
    {
     "name": "stdout",
     "output_type": "stream",
     "text": [
      "{'epoch': 100, 'iter': 600, 'avg_loss': 1.4178476960409103, 'avg_acc': 54.757695507487526, 'loss': 1.6039937734603882}\n"
     ]
    },
    {
     "name": "stderr",
     "output_type": "stream",
     "text": [
      "EP_train:100:  66%|| 615/938 [00:23<00:14, 22.65it/s]"
     ]
    },
    {
     "name": "stdout",
     "output_type": "stream",
     "text": [
      "{'epoch': 100, 'iter': 610, 'avg_loss': 1.4179865190128258, 'avg_acc': 54.73608837970541, 'loss': 1.3817167282104492}\n"
     ]
    },
    {
     "name": "stderr",
     "output_type": "stream",
     "text": [
      "EP_train:100:  67%|| 624/938 [00:23<00:12, 25.52it/s]"
     ]
    },
    {
     "name": "stdout",
     "output_type": "stream",
     "text": [
      "{'epoch': 100, 'iter': 620, 'avg_loss': 1.4185105291541649, 'avg_acc': 54.67995169082126, 'loss': 1.7748198509216309}\n"
     ]
    },
    {
     "name": "stderr",
     "output_type": "stream",
     "text": [
      "EP_train:100:  68%|| 637/938 [00:23<00:10, 28.66it/s]"
     ]
    },
    {
     "name": "stdout",
     "output_type": "stream",
     "text": [
      "{'epoch': 100, 'iter': 630, 'avg_loss': 1.4191031183947096, 'avg_acc': 54.65035657686212, 'loss': 1.422684907913208}\n"
     ]
    },
    {
     "name": "stderr",
     "output_type": "stream",
     "text": [
      "EP_train:100:  69%|| 643/938 [00:24<00:10, 27.51it/s]"
     ]
    },
    {
     "name": "stdout",
     "output_type": "stream",
     "text": [
      "{'epoch': 100, 'iter': 640, 'avg_loss': 1.4181029117795494, 'avg_acc': 54.6265600624025, 'loss': 1.37847101688385}\n"
     ]
    },
    {
     "name": "stderr",
     "output_type": "stream",
     "text": [
      "EP_train:100:  70%|| 657/938 [00:24<00:09, 30.57it/s]"
     ]
    },
    {
     "name": "stdout",
     "output_type": "stream",
     "text": [
      "{'epoch': 100, 'iter': 650, 'avg_loss': 1.4169164383283226, 'avg_acc': 54.58909370199693, 'loss': 1.2401227951049805}\n"
     ]
    },
    {
     "name": "stderr",
     "output_type": "stream",
     "text": [
      "EP_train:100:  71%|| 665/938 [00:24<00:09, 29.91it/s]"
     ]
    },
    {
     "name": "stdout",
     "output_type": "stream",
     "text": [
      "{'epoch': 100, 'iter': 660, 'avg_loss': 1.4172105300444517, 'avg_acc': 54.61422087745839, 'loss': 1.5673867464065552}\n"
     ]
    },
    {
     "name": "stderr",
     "output_type": "stream",
     "text": [
      "EP_train:100:  72%|| 677/938 [00:25<00:08, 31.67it/s]"
     ]
    },
    {
     "name": "stdout",
     "output_type": "stream",
     "text": [
      "{'epoch': 100, 'iter': 670, 'avg_loss': 1.4169606879997538, 'avg_acc': 54.68051415797317, 'loss': 1.1463900804519653}\n"
     ]
    },
    {
     "name": "stderr",
     "output_type": "stream",
     "text": [
      "EP_train:100:  73%|| 685/938 [00:25<00:08, 29.76it/s]"
     ]
    },
    {
     "name": "stdout",
     "output_type": "stream",
     "text": [
      "{'epoch': 100, 'iter': 680, 'avg_loss': 1.4169605559014364, 'avg_acc': 54.708149779735685, 'loss': 1.4221025705337524}\n"
     ]
    },
    {
     "name": "stderr",
     "output_type": "stream",
     "text": [
      "EP_train:100:  74%|| 695/938 [00:25<00:08, 28.25it/s]"
     ]
    },
    {
     "name": "stdout",
     "output_type": "stream",
     "text": [
      "{'epoch': 100, 'iter': 690, 'avg_loss': 1.4177881334348974, 'avg_acc': 54.7078509406657, 'loss': 1.6046795845031738}\n"
     ]
    },
    {
     "name": "stderr",
     "output_type": "stream",
     "text": [
      "EP_train:100:  75%|| 706/938 [00:26<00:07, 30.06it/s]"
     ]
    },
    {
     "name": "stdout",
     "output_type": "stream",
     "text": [
      "{'epoch': 100, 'iter': 700, 'avg_loss': 1.4177518644278468, 'avg_acc': 54.72985021398002, 'loss': 1.53372061252594}\n"
     ]
    },
    {
     "name": "stderr",
     "output_type": "stream",
     "text": [
      "EP_train:100:  76%|| 713/938 [00:26<00:07, 30.96it/s]"
     ]
    },
    {
     "name": "stdout",
     "output_type": "stream",
     "text": [
      "{'epoch': 100, 'iter': 710, 'avg_loss': 1.4183857228014876, 'avg_acc': 54.650140646976084, 'loss': 1.417816162109375}\n"
     ]
    },
    {
     "name": "stderr",
     "output_type": "stream",
     "text": [
      "EP_train:100:  77%|| 723/938 [00:26<00:07, 28.00it/s]"
     ]
    },
    {
     "name": "stdout",
     "output_type": "stream",
     "text": [
      "{'epoch': 100, 'iter': 720, 'avg_loss': 1.4178645723239724, 'avg_acc': 54.67666435506241, 'loss': 1.3733277320861816}\n"
     ]
    },
    {
     "name": "stderr",
     "output_type": "stream",
     "text": [
      "EP_train:100:  78%|| 733/938 [00:27<00:09, 21.55it/s]"
     ]
    },
    {
     "name": "stdout",
     "output_type": "stream",
     "text": [
      "{'epoch': 100, 'iter': 730, 'avg_loss': 1.4178943819940988, 'avg_acc': 54.663987688098494, 'loss': 1.542478084564209}\n"
     ]
    },
    {
     "name": "stderr",
     "output_type": "stream",
     "text": [
      "EP_train:100:  79%|| 745/938 [00:27<00:08, 21.64it/s]"
     ]
    },
    {
     "name": "stdout",
     "output_type": "stream",
     "text": [
      "{'epoch': 100, 'iter': 740, 'avg_loss': 1.4169236923518933, 'avg_acc': 54.651653171390016, 'loss': 1.3593131303787231}\n"
     ]
    },
    {
     "name": "stderr",
     "output_type": "stream",
     "text": [
      "EP_train:100:  80%|| 754/938 [00:28<00:07, 24.19it/s]"
     ]
    },
    {
     "name": "stdout",
     "output_type": "stream",
     "text": [
      "{'epoch': 100, 'iter': 750, 'avg_loss': 1.4159552581142014, 'avg_acc': 54.59803595206392, 'loss': 1.2433679103851318}\n"
     ]
    },
    {
     "name": "stderr",
     "output_type": "stream",
     "text": [
      "EP_train:100:  82%|| 767/938 [00:28<00:06, 28.22it/s]"
     ]
    },
    {
     "name": "stdout",
     "output_type": "stream",
     "text": [
      "{'epoch': 100, 'iter': 760, 'avg_loss': 1.4169726169688943, 'avg_acc': 54.4965505913272, 'loss': 1.3375250101089478}\n"
     ]
    },
    {
     "name": "stderr",
     "output_type": "stream",
     "text": [
      "EP_train:100:  83%|| 775/938 [00:28<00:05, 30.17it/s]"
     ]
    },
    {
     "name": "stdout",
     "output_type": "stream",
     "text": [
      "{'epoch': 100, 'iter': 770, 'avg_loss': 1.4169089092200213, 'avg_acc': 54.53550583657587, 'loss': 1.2551010847091675}\n"
     ]
    },
    {
     "name": "stderr",
     "output_type": "stream",
     "text": [
      "EP_train:100:  83%|| 779/938 [00:29<00:05, 27.10it/s]"
     ]
    },
    {
     "name": "stdout",
     "output_type": "stream",
     "text": [
      "{'epoch': 100, 'iter': 780, 'avg_loss': 1.4167939989270688, 'avg_acc': 54.54945582586428, 'loss': 1.473600149154663}\n"
     ]
    },
    {
     "name": "stderr",
     "output_type": "stream",
     "text": [
      "EP_train:100:  85%|| 797/938 [00:29<00:05, 27.25it/s]"
     ]
    },
    {
     "name": "stdout",
     "output_type": "stream",
     "text": [
      "{'epoch': 100, 'iter': 790, 'avg_loss': 1.4172717655353089, 'avg_acc': 54.598609355246516, 'loss': 1.475319266319275}\n"
     ]
    },
    {
     "name": "stderr",
     "output_type": "stream",
     "text": [
      "EP_train:100:  86%|| 804/938 [00:30<00:04, 27.63it/s]"
     ]
    },
    {
     "name": "stdout",
     "output_type": "stream",
     "text": [
      "{'epoch': 100, 'iter': 800, 'avg_loss': 1.4177760293570052, 'avg_acc': 54.5958177278402, 'loss': 1.359664797782898}\n"
     ]
    },
    {
     "name": "stderr",
     "output_type": "stream",
     "text": [
      "EP_train:100:  87%|| 816/938 [00:30<00:04, 30.10it/s]"
     ]
    },
    {
     "name": "stdout",
     "output_type": "stream",
     "text": [
      "{'epoch': 100, 'iter': 810, 'avg_loss': 1.4179427719292599, 'avg_acc': 54.64704069050554, 'loss': 1.5475554466247559}\n"
     ]
    },
    {
     "name": "stderr",
     "output_type": "stream",
     "text": [
      "EP_train:100:  88%|| 823/938 [00:30<00:04, 27.31it/s]"
     ]
    },
    {
     "name": "stdout",
     "output_type": "stream",
     "text": [
      "{'epoch': 100, 'iter': 820, 'avg_loss': 1.4181247653391997, 'avg_acc': 54.61327649208283, 'loss': 1.557539701461792}\n"
     ]
    },
    {
     "name": "stderr",
     "output_type": "stream",
     "text": [
      "EP_train:100:  89%|| 835/938 [00:31<00:03, 26.91it/s]"
     ]
    },
    {
     "name": "stdout",
     "output_type": "stream",
     "text": [
      "{'epoch': 100, 'iter': 830, 'avg_loss': 1.41855725455944, 'avg_acc': 54.61793020457281, 'loss': 1.4237383604049683}\n"
     ]
    },
    {
     "name": "stderr",
     "output_type": "stream",
     "text": [
      "EP_train:100:  90%|| 844/938 [00:31<00:03, 27.14it/s]"
     ]
    },
    {
     "name": "stdout",
     "output_type": "stream",
     "text": [
      "{'epoch': 100, 'iter': 840, 'avg_loss': 1.4187163464663004, 'avg_acc': 54.637336504161716, 'loss': 1.4207028150558472}\n"
     ]
    },
    {
     "name": "stderr",
     "output_type": "stream",
     "text": [
      "EP_train:100:  91%|| 856/938 [00:31<00:02, 32.18it/s]"
     ]
    },
    {
     "name": "stdout",
     "output_type": "stream",
     "text": [
      "{'epoch': 100, 'iter': 850, 'avg_loss': 1.4200341722519783, 'avg_acc': 54.634253819036424, 'loss': 1.5735563039779663}\n"
     ]
    },
    {
     "name": "stderr",
     "output_type": "stream",
     "text": [
      "EP_train:100:  92%|| 864/938 [00:32<00:02, 29.26it/s]"
     ]
    },
    {
     "name": "stdout",
     "output_type": "stream",
     "text": [
      "{'epoch': 100, 'iter': 860, 'avg_loss': 1.4205688764270867, 'avg_acc': 54.645760743321716, 'loss': 1.445028305053711}\n"
     ]
    },
    {
     "name": "stderr",
     "output_type": "stream",
     "text": [
      "EP_train:100:  93%|| 875/938 [00:32<00:02, 28.62it/s]"
     ]
    },
    {
     "name": "stdout",
     "output_type": "stream",
     "text": [
      "{'epoch': 100, 'iter': 870, 'avg_loss': 1.4202944865593543, 'avg_acc': 54.62471297359357, 'loss': 1.5216584205627441}\n"
     ]
    },
    {
     "name": "stderr",
     "output_type": "stream",
     "text": [
      "EP_train:100:  94%|| 885/938 [00:33<00:01, 29.28it/s]"
     ]
    },
    {
     "name": "stdout",
     "output_type": "stream",
     "text": [
      "{'epoch': 100, 'iter': 880, 'avg_loss': 1.4197189622515312, 'avg_acc': 54.600595913734395, 'loss': 1.0387483835220337}\n"
     ]
    },
    {
     "name": "stderr",
     "output_type": "stream",
     "text": [
      "EP_train:100:  96%|| 896/938 [00:33<00:01, 30.38it/s]"
     ]
    },
    {
     "name": "stdout",
     "output_type": "stream",
     "text": [
      "{'epoch': 100, 'iter': 890, 'avg_loss': 1.4201520930235634, 'avg_acc': 54.60157126823793, 'loss': 1.6698285341262817}\n"
     ]
    },
    {
     "name": "stderr",
     "output_type": "stream",
     "text": [
      "EP_train:100:  96%|| 900/938 [00:33<00:01, 31.12it/s]"
     ]
    },
    {
     "name": "stdout",
     "output_type": "stream",
     "text": [
      "{'epoch': 100, 'iter': 900, 'avg_loss': 1.4194015059434084, 'avg_acc': 54.58518312985572, 'loss': 1.332513689994812}\n"
     ]
    },
    {
     "name": "stderr",
     "output_type": "stream",
     "text": [
      "EP_train:100:  98%|| 917/938 [00:34<00:00, 25.93it/s]"
     ]
    },
    {
     "name": "stdout",
     "output_type": "stream",
     "text": [
      "{'epoch': 100, 'iter': 910, 'avg_loss': 1.420297412788567, 'avg_acc': 54.56915477497256, 'loss': 1.6588082313537598}\n"
     ]
    },
    {
     "name": "stderr",
     "output_type": "stream",
     "text": [
      "EP_train:100:  98%|| 923/938 [00:34<00:00, 27.52it/s]"
     ]
    },
    {
     "name": "stdout",
     "output_type": "stream",
     "text": [
      "{'epoch': 100, 'iter': 920, 'avg_loss': 1.4204289277653481, 'avg_acc': 54.54668838219327, 'loss': 1.2520614862442017}\n"
     ]
    },
    {
     "name": "stderr",
     "output_type": "stream",
     "text": [
      "EP_train:100: 100%|| 936/938 [00:34<00:00, 28.24it/s]"
     ]
    },
    {
     "name": "stdout",
     "output_type": "stream",
     "text": [
      "{'epoch': 100, 'iter': 930, 'avg_loss': 1.4210131492317684, 'avg_acc': 54.53813104189044, 'loss': 1.4338897466659546}\n"
     ]
    },
    {
     "name": "stderr",
     "output_type": "stream",
     "text": [
      "EP_train:100: 100%|| 938/938 [00:35<00:00, 26.79it/s]"
     ]
    },
    {
     "name": "stdout",
     "output_type": "stream",
     "text": [
      "EP100, train:             avg_loss=1.4216391075648733,             total_acc=54.57485828609536\n"
     ]
    },
    {
     "name": "stderr",
     "output_type": "stream",
     "text": [
      "\n"
     ]
    }
   ],
   "source": [
    "# train_data = BERTDataset_For_League(\n",
    "#    train_datas, seq_len=MAX_LEN)\n",
    "\n",
    "# # print(train_data.)\n",
    "\n",
    "# train_loader = DataLoader(\n",
    "#    train_data, batch_size=32, shuffle=True, pin_memory=True)\n",
    "\n",
    "epochs = 101\n",
    "\n",
    "for epoch in range(100, epochs):\n",
    "  bert_trainer.train(epoch)"
   ]
  },
  {
   "cell_type": "code",
   "execution_count": 427,
   "metadata": {},
   "outputs": [],
   "source": [
    "torch.save(bert_lm.state_dict(), \"bert_model\")\n"
   ]
  },
  {
   "cell_type": "code",
   "execution_count": 421,
   "metadata": {},
   "outputs": [
    {
     "data": {
      "text/plain": [
       "[[[142, 144, 33, 130, 121], [101, 120, 114, 71, 42], 0],\n",
       " [[136, 123, 130, 165, 137], [159, 100, 69, 161, 36], 1]]"
      ]
     },
     "execution_count": 421,
     "metadata": {},
     "output_type": "execute_result"
    }
   ],
   "source": [
    "# train_data = BERTDataset_For_League(\n",
    "#    train_datas[:32], seq_len=MAX_LEN)\n",
    "\n",
    "# # print(train_data.)\n",
    "\n",
    "# train_loader = DataLoader(\n",
    "#    train_data, batch_size=32, shuffle=True, pin_memory=True)\n",
    "\n"
   ]
  },
  {
   "cell_type": "code",
   "execution_count": 406,
   "metadata": {},
   "outputs": [
    {
     "data": {
      "text/plain": [
       "105.59"
      ]
     },
     "execution_count": 406,
     "metadata": {},
     "output_type": "execute_result"
    }
   ],
   "source": [
    "18.69 + 3.99 + 7.99 + 19.53 + 8.89 + 15.99 -5 +32.97 + 2.54"
   ]
  },
  {
   "cell_type": "code",
   "execution_count": 145,
   "metadata": {},
   "outputs": [
    {
     "data": {
      "text/plain": [
       "106.50999999999999"
      ]
     },
     "execution_count": 145,
     "metadata": {},
     "output_type": "execute_result"
    }
   ],
   "source": [
    "13.99 + 5.99 + 9.49 + 12.79 + 19.24 + 16.99 - 4.5 + 29.99 +2.53"
   ]
  },
  {
   "cell_type": "code",
   "execution_count": null,
   "metadata": {},
   "outputs": [],
   "source": []
  }
 ],
 "metadata": {
  "kernelspec": {
   "display_name": "Python 3",
   "language": "python",
   "name": "python3"
  },
  "language_info": {
   "codemirror_mode": {
    "name": "ipython",
    "version": 3
   },
   "file_extension": ".py",
   "mimetype": "text/x-python",
   "name": "python",
   "nbconvert_exporter": "python",
   "pygments_lexer": "ipython3",
   "version": "3.11.3"
  }
 },
 "nbformat": 4,
 "nbformat_minor": 2
}

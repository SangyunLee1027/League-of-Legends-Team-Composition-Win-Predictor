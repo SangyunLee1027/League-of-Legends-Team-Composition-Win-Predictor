{
 "cells": [
  {
   "cell_type": "code",
   "execution_count": 2,
   "metadata": {},
   "outputs": [],
   "source": [
    "import requests\n",
    "from urllib.request import Request, urlopen\n",
    "import time\n",
    "import pandas as pd"
   ]
  },
  {
   "cell_type": "code",
   "execution_count": 4,
   "metadata": {},
   "outputs": [],
   "source": [
    "api_key = \"ffcedc89-2178-4dd6-80d1-a63fdf34e219\"\n",
    "headers = {\n",
    "    \"User-Agent\": \"Mozilla/5.0 (Windows NT 10.0; Win64; x64) AppleWebKit/537.36 (KHTML, like Gecko) Chrome/122.0.0.0 Safari/537.36\",\n",
    "    \"Accept-Language\": \"en-US,en;q=0.9\",\n",
    "    \"Accept-Charset\": \"application/x-www-form-urlencoded; charset=UTF-8\",\n",
    "    \"Origin\": \"https://developer.riotgames.com\"\n",
    "}"
   ]
  },
  {
   "cell_type": "code",
   "execution_count": 46,
   "metadata": {},
   "outputs": [
    {
     "data": {
      "text/plain": [
       "200"
      ]
     },
     "execution_count": 46,
     "metadata": {},
     "output_type": "execute_result"
    }
   ],
   "source": [
    "link = f\"https://na1.api.riotgames.com/lol/league/v4/challengerleagues/by-queue/RANKED_SOLO_5x5?api_key=RGAPI-{api_key}\"\n",
    "\n",
    "response = requests.get(link, headers = headers)\n",
    "response.status_code\n"
   ]
  },
  {
   "cell_type": "code",
   "execution_count": 34,
   "metadata": {},
   "outputs": [],
   "source": [
    "summoners_list = response.json()['entries']\n",
    "summoners_id = [summoners_list[i]['summonerId'] for i in range(len(summoners_list))]"
   ]
  },
  {
   "cell_type": "code",
   "execution_count": 74,
   "metadata": {},
   "outputs": [
    {
     "name": "stdout",
     "output_type": "stream",
     "text": [
      "{'status': {'message': 'Rate limit exceeded', 'status_code': 429}}\n",
      "{'status': {'message': 'Rate limit exceeded', 'status_code': 429}}\n",
      "{'status': {'message': 'Rate limit exceeded', 'status_code': 429}}\n"
     ]
    }
   ],
   "source": [
    "puuids = []\n",
    "\n",
    "i = 0\n",
    "while i < len(summoners_id):\n",
    "    summoner_id = summoners_id[i]\n",
    "    link_puuid = f\"https://na1.api.riotgames.com/lol/summoner/v4/summoners/{summoner_id}?api_key=RGAPI-{api_key}\"\n",
    "    response_puuid = requests.get(link_puuid, headers = headers)\n",
    "    if response_puuid.status_code == 200:\n",
    "        puuids.append(response_puuid.json()['puuid'])\n",
    "    else:\n",
    "        print(response_puuid.json())\n",
    "        time.sleep(120)\n",
    "        continue\n",
    "    i += 1"
   ]
  },
  {
   "cell_type": "code",
   "execution_count": 3,
   "metadata": {},
   "outputs": [],
   "source": []
  },
  {
   "cell_type": "code",
   "execution_count": 79,
   "metadata": {},
   "outputs": [],
   "source": [
    "temp = pd.DataFrame({\"puuids\": puuids})"
   ]
  },
  {
   "cell_type": "code",
   "execution_count": 82,
   "metadata": {},
   "outputs": [],
   "source": [
    "temp.to_csv(\"challengers_puuids.csv\", index = False)"
   ]
  },
  {
   "cell_type": "code",
   "execution_count": 80,
   "metadata": {},
   "outputs": [],
   "source": [
    "# link_riotid = f\"https://na1.api.riotgames.com/lol/summoner/v4/summoners/{summoner_id}?api_key=RGAPI-{api_key}\"\n",
    "# for i, summoner_id in enumerate(summoners_id):\n",
    "#     link_puuid = f\"https://na1.api.riotgames.com/lol/summoner/v4/summoners/{summoner_id}?api_key=RGAPI-{api_key}\"\n",
    "#     response_puuid = requests.get(link_puuid, headers = headers)\n",
    "#     try:\n",
    "#         puuids.append(response_puuid.json()['puuid'])\n",
    "#     except:\n",
    "#         print(response_puuid.json())\n",
    "#         time.sleep(5)"
   ]
  },
  {
   "cell_type": "code",
   "execution_count": 72,
   "metadata": {},
   "outputs": [
    {
     "data": {
      "text/plain": [
       "['2Sn9VegXWzAL35K2p4iozAsiYcVFDi2AKjuOYVewKUsXAzLRMI0llZW-4Fyw34T7pzQp-iIXhzCiQQ',\n",
       " 'KKt4GkEDaG58DRv1rJzZLTyu8GVgsdbiVJozldmOZ9gTOzpx0DBUsSUyWgov4D_2FR7cXsAd5k7Jfw',\n",
       " 'mKfZlHaYSTLgl5ETyousp_PBrvfenGJiqvWya_EyNhijVlNCSUlDpqP4hTldbqV7SC3170Fla1zY6A',\n",
       " '-JBqP2YjoEtNUjMAlD8f6hxqSw7-3cjmLtycnBVBAag_2hmeFrd-o92azyjNRdpfwSZ67uhOVAj1fw',\n",
       " 'O2vkTacsBmrUIFE6hC45fSLl1qj32m9dSKPbbjLyUtNoYrd6ei6rAKNN4KTibFT56cMR_8ZoYBWcaw',\n",
       " 'fqMkH8imNnk5rtudFedV_OpDDiWzsFCXOmNpTJxLlVQwymPZV0Vf31hC2QuOUSCoKbcp9-_LFMd2MA',\n",
       " 'f-LVXFrUjahOSojl9GHfjSN2Mqn81SNMipsu1KG2rzXFTdjb5yBUDI2NpZ5oUBj3Rj1vDHHKshe13A',\n",
       " 'j7tIvidhVX4YaHry7n-c5YlIVzjInTNAKIuh-Qsqd9O0kMrS9bj1I6gu6A6YZo9mqTGB3YKyztX7Yw',\n",
       " 'OGykc5sL55YfBSLLmEQrw6tN42qmO-b_Sa6pwjwLpTJ9VVewh3tu-oGLsSENHGZKGB1zZCpObl6xoQ',\n",
       " 'PX6ekhptyz6Uvi-1Tz3gc8RtDLwe-25Fr8okrIEqafCWKItFzaiDtBxdBEY7ExoNQvEYkFcJ0b0HfQ',\n",
       " 'MLjnUestwI_-0OEzhJaFjki57kSU33UQta31nqWHYW3hej_7dKiXmXMPkQ43fL7nuSnhLfg4msltSw',\n",
       " 'x6V7nMHCOMqF3ar0FucqKeSB3H2kX_YQkG75lME8oz9JcMaVZv-WNBakFyS-T_vNn6exKlaIStV0Jw',\n",
       " 'wbLerqt-lnspmSCe2Is3UU5MSV5Mtbu2LPmRRsvCzv1DdTAeRswgF1bo0UGOFw1D-LIUofN_B_N8xA',\n",
       " 'DYwPOmdM_BWLeTRtYicQSiiVHwhHmGM_PoSW--6ErBq3HsjuSdDI7hJf3fdFfxuan8nN6koyGhzmYA',\n",
       " 'zPNU308HCgsNQC_akncXk_XZnQ-EJqOacBdQJq-nqRveHAx7a2lL2TVM5sD8_gdrax9l4foKJwn6sA',\n",
       " 'zcVE-Yj0KoMjx8XB6M-P5-3zKkXISTSQnFJyLBYfvZCtKAbe_G0lAapTQK6LzRwKYXJ3gGz0At1-OA',\n",
       " 'JqX6h4FRGIXw2tWSB0W-McUup-dmRUiX6_MpBm9v5MQ0H68w7zCieVozqM4TzGcNo4yggkNA4VPDzQ',\n",
       " 'SgbkjrYh0UYLbmOSMsMb4OWZU55bcv8cah6mzarwvCPf0154C-oV-FxxUp8L7KCVq5RaBG_X8mX_2Q',\n",
       " 'ULjIBLQYWh1KYxnliZZ_wmhgHF4NWBs2wE1tIf3gR3PBQ_wR1UNOwO2XmpHriojywAU2wsf1NlSqsw',\n",
       " 'bKYekplPWavqBUPNbRz0mX-v_L8JdhuGWcN1_eql9JBcKBmk-bcHlL253zgkaGrEF2w2H0pc545IKw',\n",
       " 'DaFU0VdnPly8q-CB4Wr9jNHgaBTVxpRq13ErRy74piwGe0CDcx14Hkscg8Ti0lwxbiBpnMBWYT7Q9Q',\n",
       " '1TAXdFslMz4o0pWADag1adwxCBL5EtbL3VhL23SKEzefXaJNlBMQDST_Jt7VOCDA671ODxUhoPXnFw',\n",
       " 'bw9WCRckiJD50DMwYCGefyGyoIW-pqmxh8CNCEoNPabNIcsRuX9HeEzJu2aSg00WHySl5B4_XcOUBA',\n",
       " '1RsE_8v46oTUl4hJe6EOHdHE-xjKiCqqEj7QKvl8_VxTGcpE2nsIoXBMARUePfyI4WTZFRsbC7CbwA',\n",
       " 'u3LQcvaj5JQ8PObBn-xWqj4TOcylB72iq15EaNfIgR2QRqpWgBMSF3_bxRcaVPotDWbvwHgt27Upfg',\n",
       " 'tDmS2HR9hNZmRPsbHYX1AsGSF2tVEzdl79D9NT9VWoJx5wHP1sisJklqEQdfsER0MVuTNncTDa2oXg',\n",
       " 'tbyT5KDkjxsoDRl1zSnK4PpyBmPxPmyhrzdSPrB_MOQOCPVFnZLuaWUavyY6wHtDAw33sKD2PDprLw',\n",
       " 'yMTJms-wJRvfCr-lBPdUf5dxs0Hx5FqosuNulOH5FZp1cG_hsUV7mBuIu_VShpUdoP4bGPBliXNMEw',\n",
       " 'fc2sx48LpogFxLYVS_hxvQ-aJS-OW6pfrcXg5uWR99tf5MbYpGc8i_iIBT1HKp2cNkWfLzSeT0rwfA',\n",
       " '4SmnhrTGnps2umYTylqb3PPe-3tjdV8NxhRExsQJ_Ge9oiQAY4bhRtGoVCJQ8ArAjx_xZn4k5RZLhQ',\n",
       " 'C0yHJmEoTEFK_2f03JYUymh-u9QlDFDdrdrrZqfzSp1HHZFjlrkAJDoujj0CfkXNG0fZOpsXMovtAQ',\n",
       " 'wHWPEJa7xmtcbfvc69PzFCSWrlBvf-b7ZS6Zy7Yt43bAXkqj4hNa_N98T8Mm7ps-EPJEWlOO5Dm9mA',\n",
       " 'Aykk89HHV7JJ8sclVVyjYgw3MDQvMdge5HcOTahqdtOeNrDyLr-eoF3ZSgsPUBQ0dgtv_VehVgclVg',\n",
       " 'Mt6pKtktcFEg9Oa8oN2rvmgZgY7LTEBPmcW19KTvWbG90S-zjNAPv3v905y6bJH9Yh1c7edofj1SvQ',\n",
       " '6LS6dlG5K1xKfVCjngvxNISKdcaqupSVayrufOzjuEfx7mUn8lDjDmaDLWUK6qixOa_C5t35A-yhkg',\n",
       " 'L4FPQHrn-pWwJxHMgkrOKWRvl6JGtsqOSaVxGbb71Ef2FsDt1LvJ1ZgoVGiuxz7EroGaYo0JBreuMA',\n",
       " 'djuob2uM8unoCcC31kr1ueHFUTqPCqmOVCoSN1XZCSQT4h_zSgcpES4qjm8aw7Vvx7WDBSsQ-_IvBQ',\n",
       " 'F8w5kQ32j91KmfXOhLU7XUl3FZYSEk0OcKH52X7FSoO5V14jX6ATWca9DZDap_W6hSiAEEyOJ4KOVA',\n",
       " 'exIJDPoKavc9XoLyTe6l7vNwYwsQnErgtmOrM6nyc4X3p-WRZJhl5LNPZ8Z3B1Ry-I7quuFQu-WJRA',\n",
       " 'Vwb2K2xqmYnvhgcSBU2QQUEQ0SYxb9IxsH04MG91mxup8CDfTnk6NaFfG8WAz6V74M3I6wyYGL32aw',\n",
       " 'I4_lPsQzSbaTZI4fU19k4xJuEIcs44oRgQmbKujgdL0Ml2IER3WmQGEyrsjwv7zVGdKaPGS18u4U_Q',\n",
       " 'WZf3ZlWpHskH-FQNSMHobA776PRhtViQqTrmk1d0GurOQgVWdtXTVh7XtIU4dcDma1m_I7m4NTNdxA',\n",
       " 'QBL0SlCfmKB1P3jWJ8Q1HvDxnmDGtEULdI-gIKwVKz96CPmCZOTE_tRDVzyVMQL_MMwwOl1unDuWbw',\n",
       " 'y1xxJ6GasT1_BgcPvYfucVSfyCpKtxfZO8DLMOUYSEViWl49exsE_fD6gXD6zyDxxMMkjehx_IZVxA',\n",
       " 'TyD7jQutBqugruEeC0z0_9eusmDXdPOxMdaKJPGJDYJ37oZc-i13rc2rRcigV63jbIjwjXQazEpjgg',\n",
       " 'bTthiqXHWXUj17JeAfqSKPVDsTUArMNFXxxqGgaMmwHLWAri4cIKcJg_Wbj0j7HVi6Py6aOu2SNmAg',\n",
       " 'KuvBudg32kApa-dF71HYSSjB0OSQawA3ZLEGPzf_SITU0H9V5EDx9N6OQ8HIQ5tKQhlPTf8ycqcJZA',\n",
       " 'J_ROfRCle33eBpZ6pO3xTXgKo1d5lOBVCbcJq4hAFI5j-kE6-RtqUE96-tEpmYcZeetxfvuC1mFCJQ',\n",
       " 'DLhjXChfoLtQidRu6fQRkaUgKxFG5x56222EVdSmXMNbM4GCwRARKcazZCPOw4VPZOgRHhP-aatk1A',\n",
       " 'nAFocV9MBpGiI9q4ZxuEZZA0n4pLMC1uEIhPg1x_46p1GJwbZ7O3KqZRFqYg48fZ-MssF9ABaQvq-Q',\n",
       " 'q-tUsH8evyfTj6UxIza1ZsesNHi1kpgsx4k9sttMd2A5qn_RqGGQ82TdU6si-44CtCaQKlz0VjYcPg',\n",
       " 'SFkEPg0TsgWRY0SlL3pXyPgi4RkDovcVryxOAesZhCCMa8PPCc-V34cDATUFYD4znhxg5VQaHm0QgQ',\n",
       " 's7mG6e66E_V4vt1XQVzV-zM9lrR3z2Lzt1IGFf4gv-iZA5e0sLTNulNKkXT1rQA_4uEL6mf5DY88Ag',\n",
       " 'W0VANb1KyB-PF4c9bt5PEVBghPqsumJAG65mEuVKkNUgK3mLZVPH0LL4BjWi0cYKY2-WtCG4O7en7Q',\n",
       " 'ycFhAKSGTjvtfi7eMngdpFwoErGIuhbqwIoQBccJm3gKAsuMM7i8hhnOlsalGnfdu9xB50Xypb-4Bw',\n",
       " 'xuX1KRbbd2y0nceEBV-csldScVzu0AInqw0lDdFRN4s_dvxCCWqx2IfTfb8gys452A8-uuPCCl_tEg',\n",
       " '-SScXapcRMp4TYRTAeQuHDymEcF6jdbgbzJJ3f3fxTVTDI3wnyzGdF_WIb2eqRIOAVODNihXIq1IEA',\n",
       " 'kDUH2GxlyhyVT7NLGXb_1Kwkm9EJrpal5snyo9G2ni6f2JAPwBMzjRhYBNhd_zxSWy1hRlJlJeXuWA',\n",
       " 'JzPPbL_M2TzQc27xzJA6QFDCqUa_Z4mSdLFftSceTfRAmugvSnj8-cWNYEM5v6Pqj3TKwHdYfrt9jg',\n",
       " 'Dox6mgbZUBFCCvxkp7Z_6hi_KyKYDl2NBhQmKxoCKgrqf0ebNEQUQxJevQN37_GpBpLrKp2Cm3D21g',\n",
       " 'sfSWRi0NoHSSZIQcKOyDCVSxg1KX44-hlXesD2zcSsjRcBC7tbJv0WvXhBOLSqKTy-6nWPNZzF-Rrg',\n",
       " 'IjVVAhiH_OdTXbGWPGUc7Py27CsQVhiLi6RijwZu6QbtM58kYwOs-6WP3YK73MFkX5scLlOtWorY4w',\n",
       " 'q0DMlR8Y6XDGMJaGrnCb-AxoKnyP2wmt5dubBU6gXNgymwWbtVzu72XHqQ18fz4ev8rVZNv1MmfrgA',\n",
       " 'h4tghYQVZW5fnl3fBNlKtDJxTyc3nX90QIIaa9cckQADZ8cjuKO6Xk5g8AGWml_QszQrU6rCQv9x_A',\n",
       " 'CPF1D_BZliHl8faHp_COpZUA7fkrXBSXFtaBV78l57-R9tp_sk2JgD_EXq4BKrBMzWyMKzRUlmcM9Q',\n",
       " 'Cpd8uUoKEkFP7JrUb4aIYqpiTCkaCCzyzH5hRnRwlYIpnJxaJdP6uYggV9GLmdMZ7ziRS1jUu22WEg',\n",
       " 'LEExDnHsPVPO7tL8ajwJ_9ps9TBJD7I-tV5eu-bkntvdjC2CCYC7joTsRbLfXgfTrXTeeyp5djMRdA',\n",
       " 'JiJ9FjaEXyFaUi-Y6fhQfZeUNws1TsND4hb6bAYUKdZ8tCG8xmOYr4_mR315utYE8vcULn-rxo7nCA',\n",
       " 'REqFEg4pHUJJo-59xIY38U2T8ijWnrHdVhzSzgt07mEIYUWHnU6DnmBA8MRQom1l_fdpT15FIzALUA',\n",
       " 'X-ytxgMx8z-inVqUqO6xiP98MgFqOEEb_EvrjXUSwlg2dFFFuZLFv2moz6wQntuqZtdozwR6TJ62xQ',\n",
       " 'RtoQ4F6X5zXXZYU8_8kP7ihk2cau2w0YtzaaSMO4rnYkg-HzFSf1k5zklm-phCW1kj-yfQJnzlz80w',\n",
       " 'nzDR1cRW_poJaIfwS2dG86thYIXwYeRVHUmIxL9aEN01ZihwaKaFZpoV21iAGbSeGvs6GcXmTs9Akw',\n",
       " 'fo-irEZkOOAwV9F7iQqDrgnmEPhQk767BfUKarCmuC5kUaBkgxhMirezBDEEWPNLtrk3ElfQw3TY2w',\n",
       " 'OMPZpz9MXPFOI_KeuLOEabeS7gX7psfT9svi3MiQpNTRk4Chj1FYUthHzYknIqgNHi2c7cpVA-cYmQ',\n",
       " '2uUpkgBPkf5jiy_7hSHwxsUFkvsTMNbX79W-xl3Jcf1GMPhQuWiZNLXAnlTr8ObWJI6L1VxprzbPuQ',\n",
       " 'ssrp3tHIdknji8Pwddwp2_iHuJPWQZ5tFvT7zkbpyYC7QVqs3FjYT6K1sOJ3GVcgr7j2AsejwRtsNA',\n",
       " 'z6A-O3RvIXci-vZvLvUhFcG3QLrWcmUqSn7UznEanz7tjqQ6KoV5BzVMhRhswUZ5caR3GsYSdeuPuw',\n",
       " 'IEcgiFOXHYOt_u2gwoIU2TQFD220t3ps1NxwyeiRfRRGTVyiaROoSMeo_Nmu--kisCfMCmutrNtmjA',\n",
       " 'QuDh6shMR8AMzBpBy6s0V-aWrXadBhgpcpFvHwKACdk3dcNTaFilBdNsYSQ8cscqqif4UzjsUj40vA',\n",
       " 'dhJ02-E1oabI_pyIXshWP9o-F5Z7CANDdafd66eq_o0OgHxldKU0ChTdVq8-6b61BQ2L0Hc4EKPOCw',\n",
       " 'pbKVDFBB8GNUDWWNmqjE6rAvBG1ORriTtXclrWnoqxz2kLdhBp7DTaNV7dcUdqG3Vwk-guXwfKJXjg',\n",
       " 'EfJZhaA3dUCPZ5_DKL17HL15p8dNBZp5y_IszIkk8ZebQszpLzWkomrB9eulThGLl_xHFbB_YNvbvw',\n",
       " 'o3yrTeq5xMVpCjvG80UuLUENI0IjOeV3ZNV9Nhcfbap9rSXO5mSH6lMROCAOF62_Y6_EXw7LXfOF0g',\n",
       " '953N9aFgT8XkqQnt8Gqtmcj8AOXt20JEKJ9PzIBe14YfRr6vO_-3gqD6GLcI_2JVjCHpxi1y4RpSUg',\n",
       " 'vwDV6CFfFeKRahUrCfeZKolYO0SvEOKOa7OcNs3DyMBEXQh_uQp5ruv713S7Bfs_E9m6e2946G7THA',\n",
       " 'd6MedGuAsSPzPMS1w1kBBkPE3Zg6BspXPFHgk7qCxEAw3svOhz-2P9McPpsmvXySVKs5C1WE-nUtXA',\n",
       " 'taZg9V8xPOikVvlsSs3lD9koiB1raW2Gs_3Tr-r-3-EKY287LROWmIUoFBeUx-9f5o1fM2AFrizI2w',\n",
       " 'TrcGzFtbYGomsAyWCcozCNzY5o07LPwx5DDSOUJz9VahTSVBG6j9KFUFUOPH1L-koyHyR-xbf8uodg',\n",
       " 'wIjO6rowDeMl78qh4ySvnRe_deSJew-btVnc0rpUMUGozF1PsGadIJUQTznM2WBdKZgu4An_eeL1Kg',\n",
       " '3-VgcqTFrkGt2MVSt4z_qiSd6TAaiBOFynqr7-HVM4b6sEQh7kaAqXcslKmPF272x9ic0RAuuXN0Hg',\n",
       " 'j_aaYx7-RjYFLIbcXPJli0bUnv9NU8kIdhSKbgC64vkBi50GhzFMT-yMIXtDPnxJFvrXheLWvWjiOQ',\n",
       " '6He-E_ncXmugMd9xR4hTpfvSykRRa6Uqo2fYrvPCNFCakPeLK_0IGAsY1M5d-H1-lOqUE6e3eyg8XQ',\n",
       " '93OyBEp2WTobZdmnuTrCt7ANeGkp3BIneFRsc1OIRUbXvgMnpWK55H2M_uNXgl0be7gdW8Otus86AA',\n",
       " 'lLzMMu8EU7oz27ONNy73sWH5k0MMgZ4F8eeNVEdfX_OKvTEZEl5wPWNIQTl8-_9p3e767gjNEnoF_A',\n",
       " 'jbM67pnFIEXr63XPwnXFmaCHqHxoDWOQ6O8q7DhRafy5HP7iXyaL9kLEn0TaUCoq0mvQd5QLZqtraQ',\n",
       " 'ZLADEaBkJp47hfwJL45l9RNRN8h6Zvq5yuXyWDrID_uSZTfCeyMt8v9nnsntlntDANRs3LeZWyFkdw',\n",
       " 'aFZp-VQo6bfytTVRQ-AH1Kv7dKRBi3hqdftI5VXmkW-jHPAfZ_zRTvSvmXivUJIbEuKoT6-6D718WA',\n",
       " 'FR8l-cya6n9gJFS8JUPV0m6v_HYtcAxHirDb0ze02vcfNLc-Dwjq2iS_9h3ACImiljXgp_h9t8msfA',\n",
       " 'SaV_7ZytKJdLka06w2P9lLSXkyMVyawbCMn9huax1UiLNF6psZuLi2dYF3Ayu3QPYUeaGT3b_ncIyw',\n",
       " 'SfJwyGwInKuYmVp2LOG2oGxafTB5UjrnPtHFa7kc0BVd-UhJ9GPS0pD-uS84Ul6qT4ylC39OP9eG1Q']"
      ]
     },
     "execution_count": 72,
     "metadata": {},
     "output_type": "execute_result"
    }
   ],
   "source": [
    "len(puuids)"
   ]
  },
  {
   "cell_type": "code",
   "execution_count": 5,
   "metadata": {},
   "outputs": [],
   "source": [
    "team_comb_data = []\n",
    "winner = []"
   ]
  },
  {
   "cell_type": "code",
   "execution_count": 6,
   "metadata": {},
   "outputs": [],
   "source": [
    "puuids_df = pd.read_csv(\"challengers_puuids.csv\")"
   ]
  },
  {
   "cell_type": "code",
   "execution_count": 7,
   "metadata": {},
   "outputs": [],
   "source": [
    "puuids = list(puuids_df['puuids'])"
   ]
  },
  {
   "cell_type": "code",
   "execution_count": 7,
   "metadata": {},
   "outputs": [],
   "source": [
    "# puuids = puuids[:2]"
   ]
  },
  {
   "cell_type": "code",
   "execution_count": 8,
   "metadata": {},
   "outputs": [
    {
     "name": "stdout",
     "output_type": "stream",
     "text": [
      "{'status': {'message': 'Rate limit exceeded', 'status_code': 429}}\n",
      "{'status': {'message': 'Rate limit exceeded', 'status_code': 429}}\n",
      "{'status': {'message': 'Rate limit exceeded', 'status_code': 429}}\n",
      "{'status': {'message': 'Rate limit exceeded', 'status_code': 429}}\n",
      "{'status': {'message': 'Rate limit exceeded', 'status_code': 429}}\n",
      "{'status': {'message': 'Rate limit exceeded', 'status_code': 429}}\n",
      "{'status': {'message': 'Rate limit exceeded', 'status_code': 429}}\n",
      "{'status': {'message': 'Rate limit exceeded', 'status_code': 429}}\n",
      "{'status': {'message': 'Rate limit exceeded', 'status_code': 429}}\n",
      "{'status': {'message': 'Rate limit exceeded', 'status_code': 429}}\n",
      "{'status': {'message': 'Rate limit exceeded', 'status_code': 429}}\n",
      "{'status': {'message': 'Rate limit exceeded', 'status_code': 429}}\n",
      "{'status': {'message': 'Rate limit exceeded', 'status_code': 429}}\n",
      "{'status': {'message': 'Rate limit exceeded', 'status_code': 429}}\n",
      "{'status': {'message': 'Rate limit exceeded', 'status_code': 429}}\n",
      "{'status': {'message': 'Rate limit exceeded', 'status_code': 429}}\n",
      "{'status': {'message': 'Rate limit exceeded', 'status_code': 429}}\n",
      "{'status': {'message': 'Rate limit exceeded', 'status_code': 429}}\n",
      "{'status': {'message': 'Rate limit exceeded', 'status_code': 429}}\n",
      "{'status': {'message': 'Internal server error', 'status_code': 500}}\n",
      "{'status': {'message': 'Rate limit exceeded', 'status_code': 429}}\n",
      "{'status': {'message': 'Rate limit exceeded', 'status_code': 429}}\n",
      "[]\n",
      "player:  22\n",
      "match:  29\n",
      "{'status': {'message': 'Rate limit exceeded', 'status_code': 429}}\n",
      "{'status': {'message': 'Rate limit exceeded', 'status_code': 429}}\n",
      "{'status': {'message': 'Rate limit exceeded', 'status_code': 429}}\n",
      "{'status': {'message': 'Rate limit exceeded', 'status_code': 429}}\n",
      "{'status': {'message': 'Rate limit exceeded', 'status_code': 429}}\n",
      "{'status': {'message': 'Rate limit exceeded', 'status_code': 429}}\n",
      "{'status': {'message': 'Rate limit exceeded', 'status_code': 429}}\n",
      "{'status': {'message': 'Rate limit exceeded', 'status_code': 429}}\n",
      "{'status': {'message': 'Rate limit exceeded', 'status_code': 429}}\n",
      "[]\n",
      "player:  31\n",
      "match:  22\n",
      "{'status': {'message': 'Rate limit exceeded', 'status_code': 429}}\n",
      "{'status': {'message': 'Rate limit exceeded', 'status_code': 429}}\n",
      "{'status': {'message': 'Rate limit exceeded', 'status_code': 429}}\n",
      "{'status': {'message': 'Rate limit exceeded', 'status_code': 429}}\n",
      "{'status': {'message': 'Rate limit exceeded', 'status_code': 429}}\n",
      "{'status': {'message': 'Rate limit exceeded', 'status_code': 429}}\n",
      "{'status': {'message': 'Rate limit exceeded', 'status_code': 429}}\n",
      "{'status': {'message': 'Rate limit exceeded', 'status_code': 429}}\n",
      "{'status': {'message': 'Rate limit exceeded', 'status_code': 429}}\n",
      "{'status': {'message': 'Rate limit exceeded', 'status_code': 429}}\n",
      "{'status': {'message': 'Internal server error', 'status_code': 500}}\n",
      "{'status': {'message': 'Rate limit exceeded', 'status_code': 429}}\n",
      "{'status': {'message': 'Rate limit exceeded', 'status_code': 429}}\n",
      "{'status': {'message': 'Rate limit exceeded', 'status_code': 429}}\n",
      "{'status': {'message': 'Rate limit exceeded', 'status_code': 429}}\n",
      "{'status': {'message': 'Rate limit exceeded', 'status_code': 429}}\n",
      "{'status': {'message': 'Rate limit exceeded', 'status_code': 429}}\n",
      "{'status': {'message': 'Rate limit exceeded', 'status_code': 429}}\n",
      "{'status': {'message': 'Rate limit exceeded', 'status_code': 429}}\n",
      "{'status': {'message': 'Rate limit exceeded', 'status_code': 429}}\n",
      "{'status': {'message': 'Rate limit exceeded', 'status_code': 429}}\n",
      "{'status': {'message': 'Rate limit exceeded', 'status_code': 429}}\n",
      "{'status': {'message': 'Rate limit exceeded', 'status_code': 429}}\n",
      "{'status': {'message': 'Rate limit exceeded', 'status_code': 429}}\n",
      "{'status': {'message': 'Rate limit exceeded', 'status_code': 429}}\n",
      "{'status': {'message': 'Rate limit exceeded', 'status_code': 429}}\n",
      "{'status': {'message': 'Rate limit exceeded', 'status_code': 429}}\n",
      "{'status': {'message': 'Rate limit exceeded', 'status_code': 429}}\n",
      "{'status': {'message': 'Internal server error', 'status_code': 500}}\n",
      "{'status': {'message': 'Rate limit exceeded', 'status_code': 429}}\n",
      "{'status': {'message': 'Rate limit exceeded', 'status_code': 429}}\n",
      "{'status': {'message': 'Rate limit exceeded', 'status_code': 429}}\n",
      "{'status': {'message': 'Rate limit exceeded', 'status_code': 429}}\n",
      "{'status': {'message': 'Rate limit exceeded', 'status_code': 429}}\n",
      "{'status': {'message': 'Rate limit exceeded', 'status_code': 429}}\n",
      "{'status': {'message': 'Rate limit exceeded', 'status_code': 429}}\n",
      "{'status': {'message': 'Rate limit exceeded', 'status_code': 429}}\n",
      "{'status': {'message': 'Rate limit exceeded', 'status_code': 429}}\n",
      "{'status': {'message': 'Rate limit exceeded', 'status_code': 429}}\n",
      "{'status': {'message': 'Internal server error', 'status_code': 500}}\n",
      "{'status': {'message': 'Rate limit exceeded', 'status_code': 429}}\n",
      "{'status': {'message': 'Rate limit exceeded', 'status_code': 429}}\n",
      "{'status': {'message': 'Rate limit exceeded', 'status_code': 429}}\n",
      "{'status': {'message': 'Rate limit exceeded', 'status_code': 429}}\n",
      "{'status': {'message': 'Rate limit exceeded', 'status_code': 429}}\n",
      "{'status': {'message': 'Rate limit exceeded', 'status_code': 429}}\n",
      "{'status': {'message': 'Rate limit exceeded', 'status_code': 429}}\n",
      "{'status': {'message': 'Rate limit exceeded', 'status_code': 429}}\n",
      "{'status': {'message': 'Rate limit exceeded', 'status_code': 429}}\n",
      "{'status': {'message': 'Rate limit exceeded', 'status_code': 429}}\n",
      "{'status': {'message': 'Rate limit exceeded', 'status_code': 429}}\n",
      "{'status': {'message': 'Rate limit exceeded', 'status_code': 429}}\n",
      "{'status': {'message': 'Rate limit exceeded', 'status_code': 429}}\n",
      "{'status': {'message': 'Rate limit exceeded', 'status_code': 429}}\n",
      "{'status': {'message': 'Rate limit exceeded', 'status_code': 429}}\n",
      "{'status': {'message': 'Rate limit exceeded', 'status_code': 429}}\n",
      "{'status': {'message': 'Rate limit exceeded', 'status_code': 429}}\n",
      "{'status': {'message': 'Rate limit exceeded', 'status_code': 429}}\n",
      "{'status': {'message': 'Rate limit exceeded', 'status_code': 429}}\n",
      "{'status': {'message': 'Rate limit exceeded', 'status_code': 429}}\n",
      "{'status': {'message': 'Rate limit exceeded', 'status_code': 429}}\n",
      "[]\n",
      "player:  89\n",
      "match:  19\n",
      "{'status': {'message': 'Rate limit exceeded', 'status_code': 429}}\n",
      "{'status': {'message': 'Rate limit exceeded', 'status_code': 429}}\n",
      "{'status': {'message': 'Internal server error', 'status_code': 500}}\n",
      "{'status': {'message': 'Rate limit exceeded', 'status_code': 429}}\n",
      "{'status': {'message': 'Rate limit exceeded', 'status_code': 429}}\n",
      "{'status': {'message': 'Rate limit exceeded', 'status_code': 429}}\n",
      "{'status': {'message': 'Rate limit exceeded', 'status_code': 429}}\n",
      "{'status': {'message': 'Rate limit exceeded', 'status_code': 429}}\n",
      "{'status': {'message': 'Rate limit exceeded', 'status_code': 429}}\n",
      "{'status': {'message': 'Rate limit exceeded', 'status_code': 429}}\n",
      "{'status': {'message': 'Rate limit exceeded', 'status_code': 429}}\n",
      "{'status': {'message': 'Rate limit exceeded', 'status_code': 429}}\n",
      "{'status': {'message': 'Rate limit exceeded', 'status_code': 429}}\n",
      "{'status': {'message': 'Rate limit exceeded', 'status_code': 429}}\n",
      "[]\n",
      "player:  102\n",
      "match:  85\n",
      "{'status': {'message': 'Rate limit exceeded', 'status_code': 429}}\n",
      "[]\n",
      "player:  103\n",
      "match:  99\n",
      "{'status': {'message': 'Rate limit exceeded', 'status_code': 429}}\n",
      "[]\n",
      "player:  104\n",
      "match:  82\n",
      "{'status': {'message': 'Rate limit exceeded', 'status_code': 429}}\n",
      "{'status': {'message': 'Rate limit exceeded', 'status_code': 429}}\n",
      "{'status': {'message': 'Rate limit exceeded', 'status_code': 429}}\n",
      "{'status': {'message': 'Rate limit exceeded', 'status_code': 429}}\n",
      "{'status': {'message': 'Rate limit exceeded', 'status_code': 429}}\n",
      "{'status': {'message': 'Internal server error', 'status_code': 500}}\n",
      "{'status': {'message': 'Rate limit exceeded', 'status_code': 429}}\n",
      "{'status': {'message': 'Rate limit exceeded', 'status_code': 429}}\n",
      "{'status': {'message': 'Rate limit exceeded', 'status_code': 429}}\n",
      "{'status': {'message': 'Rate limit exceeded', 'status_code': 429}}\n",
      "{'status': {'message': 'Rate limit exceeded', 'status_code': 429}}\n",
      "{'status': {'message': 'Rate limit exceeded', 'status_code': 429}}\n",
      "{'status': {'message': 'Rate limit exceeded', 'status_code': 429}}\n",
      "{'status': {'message': 'Rate limit exceeded', 'status_code': 429}}\n",
      "[]\n",
      "player:  118\n",
      "match:  42\n",
      "{'status': {'message': 'Internal server error', 'status_code': 500}}\n",
      "{'status': {'message': 'Rate limit exceeded', 'status_code': 429}}\n",
      "{'status': {'message': 'Rate limit exceeded', 'status_code': 429}}\n",
      "{'status': {'message': 'Rate limit exceeded', 'status_code': 429}}\n",
      "{'status': {'message': 'Rate limit exceeded', 'status_code': 429}}\n",
      "{'status': {'message': 'Rate limit exceeded', 'status_code': 429}}\n",
      "{'status': {'message': 'Rate limit exceeded', 'status_code': 429}}\n",
      "{'status': {'message': 'Rate limit exceeded', 'status_code': 429}}\n",
      "{'status': {'message': 'Rate limit exceeded', 'status_code': 429}}\n",
      "{'status': {'message': 'Rate limit exceeded', 'status_code': 429}}\n",
      "{'status': {'message': 'Internal server error', 'status_code': 500}}\n",
      "{'status': {'message': 'Rate limit exceeded', 'status_code': 429}}\n",
      "{'status': {'message': 'Rate limit exceeded', 'status_code': 429}}\n",
      "{'status': {'message': 'Rate limit exceeded', 'status_code': 429}}\n",
      "{'status': {'message': 'Rate limit exceeded', 'status_code': 429}}\n",
      "{'status': {'message': 'Rate limit exceeded', 'status_code': 429}}\n",
      "{'status': {'message': 'Rate limit exceeded', 'status_code': 429}}\n",
      "{'status': {'message': 'Rate limit exceeded', 'status_code': 429}}\n",
      "{'status': {'message': 'Rate limit exceeded', 'status_code': 429}}\n",
      "{'status': {'message': 'Rate limit exceeded', 'status_code': 429}}\n",
      "{'status': {'message': 'Rate limit exceeded', 'status_code': 429}}\n",
      "{'status': {'message': 'Rate limit exceeded', 'status_code': 429}}\n",
      "{'status': {'message': 'Rate limit exceeded', 'status_code': 429}}\n",
      "{'status': {'message': 'Rate limit exceeded', 'status_code': 429}}\n",
      "{'status': {'message': 'Rate limit exceeded', 'status_code': 429}}\n",
      "{'status': {'message': 'Rate limit exceeded', 'status_code': 429}}\n",
      "{'status': {'message': 'Rate limit exceeded', 'status_code': 429}}\n",
      "{'status': {'message': 'Rate limit exceeded', 'status_code': 429}}\n",
      "{'status': {'message': 'Rate limit exceeded', 'status_code': 429}}\n",
      "{'status': {'message': 'Rate limit exceeded', 'status_code': 429}}\n",
      "{'status': {'message': 'Rate limit exceeded', 'status_code': 429}}\n",
      "{'status': {'message': 'Rate limit exceeded', 'status_code': 429}}\n",
      "{'status': {'message': 'Rate limit exceeded', 'status_code': 429}}\n",
      "{'status': {'message': 'Rate limit exceeded', 'status_code': 429}}\n",
      "{'status': {'message': 'Rate limit exceeded', 'status_code': 429}}\n",
      "{'status': {'message': 'Rate limit exceeded', 'status_code': 429}}\n",
      "{'status': {'message': 'Rate limit exceeded', 'status_code': 429}}\n",
      "{'status': {'message': 'Rate limit exceeded', 'status_code': 429}}\n",
      "{'status': {'message': 'Rate limit exceeded', 'status_code': 429}}\n",
      "{'status': {'message': 'Rate limit exceeded', 'status_code': 429}}\n",
      "{'status': {'message': 'Rate limit exceeded', 'status_code': 429}}\n",
      "{'status': {'message': 'Rate limit exceeded', 'status_code': 429}}\n",
      "{'status': {'message': 'Rate limit exceeded', 'status_code': 429}}\n",
      "{'status': {'message': 'Rate limit exceeded', 'status_code': 429}}\n",
      "{'status': {'message': 'Rate limit exceeded', 'status_code': 429}}\n",
      "{'status': {'message': 'Rate limit exceeded', 'status_code': 429}}\n",
      "{'status': {'message': 'Rate limit exceeded', 'status_code': 429}}\n",
      "{'status': {'message': 'Rate limit exceeded', 'status_code': 429}}\n",
      "{'status': {'message': 'Rate limit exceeded', 'status_code': 429}}\n",
      "{'status': {'message': 'Rate limit exceeded', 'status_code': 429}}\n",
      "{'status': {'message': 'Rate limit exceeded', 'status_code': 429}}\n",
      "{'status': {'message': 'Rate limit exceeded', 'status_code': 429}}\n",
      "{'status': {'message': 'Rate limit exceeded', 'status_code': 429}}\n",
      "{'status': {'message': 'Rate limit exceeded', 'status_code': 429}}\n",
      "{'status': {'message': 'Rate limit exceeded', 'status_code': 429}}\n",
      "{'status': {'message': 'Rate limit exceeded', 'status_code': 429}}\n",
      "{'status': {'message': 'Rate limit exceeded', 'status_code': 429}}\n",
      "{'status': {'message': 'Rate limit exceeded', 'status_code': 429}}\n",
      "{'status': {'message': 'Rate limit exceeded', 'status_code': 429}}\n",
      "{'status': {'message': 'Rate limit exceeded', 'status_code': 429}}\n",
      "{'status': {'message': 'Rate limit exceeded', 'status_code': 429}}\n",
      "{'status': {'message': 'Rate limit exceeded', 'status_code': 429}}\n",
      "{'status': {'message': 'Rate limit exceeded', 'status_code': 429}}\n",
      "{'status': {'message': 'Rate limit exceeded', 'status_code': 429}}\n",
      "{'status': {'message': 'Rate limit exceeded', 'status_code': 429}}\n",
      "{'status': {'message': 'Internal server error', 'status_code': 500}}\n",
      "{'status': {'message': 'Rate limit exceeded', 'status_code': 429}}\n",
      "{'status': {'message': 'Rate limit exceeded', 'status_code': 429}}\n",
      "{'status': {'message': 'Rate limit exceeded', 'status_code': 429}}\n",
      "{'status': {'message': 'Rate limit exceeded', 'status_code': 429}}\n",
      "{'status': {'message': 'Rate limit exceeded', 'status_code': 429}}\n",
      "{'status': {'message': 'Internal server error', 'status_code': 500}}\n",
      "{'status': {'message': 'Rate limit exceeded', 'status_code': 429}}\n",
      "{'status': {'message': 'Rate limit exceeded', 'status_code': 429}}\n",
      "{'status': {'message': 'Rate limit exceeded', 'status_code': 429}}\n",
      "{'status': {'message': 'Rate limit exceeded', 'status_code': 429}}\n",
      "{'status': {'message': 'Rate limit exceeded', 'status_code': 429}}\n",
      "{'status': {'message': 'Rate limit exceeded', 'status_code': 429}}\n",
      "{'status': {'message': 'Rate limit exceeded', 'status_code': 429}}\n",
      "{'status': {'message': 'Internal server error', 'status_code': 500}}\n",
      "{'status': {'message': 'Rate limit exceeded', 'status_code': 429}}\n",
      "{'status': {'message': 'Rate limit exceeded', 'status_code': 429}}\n",
      "{'status': {'message': 'Rate limit exceeded', 'status_code': 429}}\n",
      "{'status': {'message': 'Rate limit exceeded', 'status_code': 429}}\n",
      "{'status': {'message': 'Rate limit exceeded', 'status_code': 429}}\n",
      "{'status': {'message': 'Rate limit exceeded', 'status_code': 429}}\n",
      "{'status': {'message': 'Rate limit exceeded', 'status_code': 429}}\n",
      "{'status': {'message': 'Rate limit exceeded', 'status_code': 429}}\n",
      "{'status': {'message': 'Rate limit exceeded', 'status_code': 429}}\n",
      "{'status': {'message': 'Rate limit exceeded', 'status_code': 429}}\n",
      "{'status': {'message': 'Rate limit exceeded', 'status_code': 429}}\n",
      "{'status': {'message': 'Rate limit exceeded', 'status_code': 429}}\n",
      "{'status': {'message': 'Rate limit exceeded', 'status_code': 429}}\n",
      "{'status': {'message': 'Internal server error', 'status_code': 500}}\n",
      "{'status': {'message': 'Rate limit exceeded', 'status_code': 429}}\n",
      "{'status': {'message': 'Rate limit exceeded', 'status_code': 429}}\n",
      "{'status': {'message': 'Rate limit exceeded', 'status_code': 429}}\n",
      "{'status': {'message': 'Rate limit exceeded', 'status_code': 429}}\n",
      "{'status': {'message': 'Rate limit exceeded', 'status_code': 429}}\n",
      "{'status': {'message': 'Rate limit exceeded', 'status_code': 429}}\n",
      "[]\n",
      "player:  214\n",
      "match:  26\n",
      "{'status': {'message': 'Rate limit exceeded', 'status_code': 429}}\n",
      "{'status': {'message': 'Rate limit exceeded', 'status_code': 429}}\n",
      "{'status': {'message': 'Rate limit exceeded', 'status_code': 429}}\n",
      "{'status': {'message': 'Rate limit exceeded', 'status_code': 429}}\n",
      "{'status': {'message': 'Rate limit exceeded', 'status_code': 429}}\n",
      "{'status': {'message': 'Rate limit exceeded', 'status_code': 429}}\n",
      "{'status': {'message': 'Rate limit exceeded', 'status_code': 429}}\n",
      "{'status': {'message': 'Rate limit exceeded', 'status_code': 429}}\n",
      "{'status': {'message': 'Rate limit exceeded', 'status_code': 429}}\n",
      "{'status': {'message': 'Rate limit exceeded', 'status_code': 429}}\n",
      "{'status': {'message': 'Rate limit exceeded', 'status_code': 429}}\n",
      "{'status': {'message': 'Rate limit exceeded', 'status_code': 429}}\n",
      "{'status': {'message': 'Rate limit exceeded', 'status_code': 429}}\n",
      "[]\n",
      "player:  226\n",
      "match:  32\n",
      "{'status': {'message': 'Rate limit exceeded', 'status_code': 429}}\n",
      "{'status': {'message': 'Rate limit exceeded', 'status_code': 429}}\n",
      "{'status': {'message': 'Rate limit exceeded', 'status_code': 429}}\n",
      "[]\n",
      "player:  229\n",
      "match:  84\n",
      "{'status': {'message': 'Rate limit exceeded', 'status_code': 429}}\n",
      "{'status': {'message': 'Rate limit exceeded', 'status_code': 429}}\n",
      "{'status': {'message': 'Rate limit exceeded', 'status_code': 429}}\n",
      "{'status': {'message': 'Rate limit exceeded', 'status_code': 429}}\n",
      "{'status': {'message': 'Rate limit exceeded', 'status_code': 429}}\n",
      "{'status': {'message': 'Rate limit exceeded', 'status_code': 429}}\n",
      "{'status': {'message': 'Rate limit exceeded', 'status_code': 429}}\n",
      "{'status': {'message': 'Rate limit exceeded', 'status_code': 429}}\n",
      "{'status': {'message': 'Rate limit exceeded', 'status_code': 429}}\n",
      "{'status': {'message': 'Rate limit exceeded', 'status_code': 429}}\n",
      "{'status': {'message': 'Rate limit exceeded', 'status_code': 429}}\n",
      "{'status': {'message': 'Rate limit exceeded', 'status_code': 429}}\n",
      "{'status': {'message': 'Rate limit exceeded', 'status_code': 429}}\n",
      "{'status': {'message': 'Rate limit exceeded', 'status_code': 429}}\n",
      "{'status': {'message': 'Rate limit exceeded', 'status_code': 429}}\n",
      "{'status': {'message': 'Rate limit exceeded', 'status_code': 429}}\n",
      "{'status': {'message': 'Rate limit exceeded', 'status_code': 429}}\n",
      "{'status': {'message': 'Rate limit exceeded', 'status_code': 429}}\n",
      "{'status': {'message': 'Rate limit exceeded', 'status_code': 429}}\n",
      "{'status': {'message': 'Rate limit exceeded', 'status_code': 429}}\n",
      "{'status': {'message': 'Rate limit exceeded', 'status_code': 429}}\n",
      "{'status': {'message': 'Rate limit exceeded', 'status_code': 429}}\n",
      "{'status': {'message': 'Rate limit exceeded', 'status_code': 429}}\n",
      "{'status': {'message': 'Rate limit exceeded', 'status_code': 429}}\n",
      "{'status': {'message': 'Rate limit exceeded', 'status_code': 429}}\n",
      "{'status': {'message': 'Rate limit exceeded', 'status_code': 429}}\n",
      "{'status': {'message': 'Rate limit exceeded', 'status_code': 429}}\n",
      "{'status': {'message': 'Rate limit exceeded', 'status_code': 429}}\n",
      "{'status': {'message': 'Rate limit exceeded', 'status_code': 429}}\n",
      "{'status': {'message': 'Rate limit exceeded', 'status_code': 429}}\n",
      "{'status': {'message': 'Rate limit exceeded', 'status_code': 429}}\n",
      "{'status': {'message': 'Rate limit exceeded', 'status_code': 429}}\n",
      "{'status': {'message': 'Rate limit exceeded', 'status_code': 429}}\n",
      "{'status': {'message': 'Rate limit exceeded', 'status_code': 429}}\n",
      "{'status': {'message': 'Rate limit exceeded', 'status_code': 429}}\n",
      "{'status': {'message': 'Rate limit exceeded', 'status_code': 429}}\n",
      "{'status': {'message': 'Rate limit exceeded', 'status_code': 429}}\n",
      "{'status': {'message': 'Rate limit exceeded', 'status_code': 429}}\n",
      "{'status': {'message': 'Rate limit exceeded', 'status_code': 429}}\n",
      "{'status': {'message': 'Rate limit exceeded', 'status_code': 429}}\n",
      "{'status': {'message': 'Rate limit exceeded', 'status_code': 429}}\n",
      "{'status': {'message': 'Rate limit exceeded', 'status_code': 429}}\n",
      "{'status': {'message': 'Rate limit exceeded', 'status_code': 429}}\n",
      "{'status': {'message': 'Rate limit exceeded', 'status_code': 429}}\n",
      "{'status': {'message': 'Rate limit exceeded', 'status_code': 429}}\n",
      "{'status': {'message': 'Rate limit exceeded', 'status_code': 429}}\n",
      "{'status': {'message': 'Rate limit exceeded', 'status_code': 429}}\n",
      "{'status': {'message': 'Rate limit exceeded', 'status_code': 429}}\n",
      "{'status': {'message': 'Rate limit exceeded', 'status_code': 429}}\n",
      "{'status': {'message': 'Rate limit exceeded', 'status_code': 429}}\n",
      "{'status': {'message': 'Rate limit exceeded', 'status_code': 429}}\n",
      "{'status': {'message': 'Rate limit exceeded', 'status_code': 429}}\n",
      "{'status': {'message': 'Rate limit exceeded', 'status_code': 429}}\n",
      "{'status': {'message': 'Rate limit exceeded', 'status_code': 429}}\n",
      "{'status': {'message': 'Rate limit exceeded', 'status_code': 429}}\n",
      "{'status': {'message': 'Rate limit exceeded', 'status_code': 429}}\n",
      "{'status': {'message': 'Rate limit exceeded', 'status_code': 429}}\n",
      "{'status': {'message': 'Rate limit exceeded', 'status_code': 429}}\n",
      "{'status': {'message': 'Rate limit exceeded', 'status_code': 429}}\n",
      "{'status': {'message': 'Rate limit exceeded', 'status_code': 429}}\n",
      "{'status': {'message': 'Rate limit exceeded', 'status_code': 429}}\n",
      "{'status': {'message': 'Rate limit exceeded', 'status_code': 429}}\n",
      "{'status': {'message': 'Rate limit exceeded', 'status_code': 429}}\n",
      "{'status': {'message': 'Rate limit exceeded', 'status_code': 429}}\n",
      "{'status': {'message': 'Rate limit exceeded', 'status_code': 429}}\n",
      "{'status': {'message': 'Rate limit exceeded', 'status_code': 429}}\n",
      "{'status': {'message': 'Rate limit exceeded', 'status_code': 429}}\n",
      "{'status': {'message': 'Rate limit exceeded', 'status_code': 429}}\n",
      "{'status': {'message': 'Rate limit exceeded', 'status_code': 429}}\n",
      "{'status': {'message': 'Rate limit exceeded', 'status_code': 429}}\n",
      "{'status': {'message': 'Rate limit exceeded', 'status_code': 429}}\n",
      "{'status': {'message': 'Rate limit exceeded', 'status_code': 429}}\n"
     ]
    }
   ],
   "source": [
    "# get match data from puuids of users\n",
    "i = 0\n",
    "while i < len(puuids):\n",
    "    puuid = puuids[i]\n",
    "    link_matchid = f\"https://americas.api.riotgames.com/lol/match/v5/matches/by-puuid/{puuid}/ids?start=0&count=100&api_key=RGAPI-{api_key}\"\n",
    "    response_matchids = requests.get(link_matchid, headers = headers)\n",
    "    \n",
    "    \n",
    "    if response_matchids.status_code != 200:\n",
    "        print(response_matchids.json())\n",
    "        time.sleep(120)\n",
    "        continue\n",
    "\n",
    "    i += 1\n",
    "    matches = response_matchids.json()\n",
    "    j = 0\n",
    "    while j < len(matches):\n",
    "            \n",
    "        matchid = matches[j]\n",
    "        link_match = f\"https://americas.api.riotgames.com/lol/match/v5/matches/{matchid}?api_key=RGAPI-{api_key}\"\n",
    "        response_match = requests.get(link_match, headers = headers)\n",
    "        if response_match.status_code != 200:\n",
    "            print(response_match.json())\n",
    "            time.sleep(120)\n",
    "            continue\n",
    "        match_data = response_match.json()\n",
    "        champ_comb = [match_data['info']['participants'][_]['championId'] for _ in range(len(match_data['info']['participants']))]\n",
    "        team_comb_data.append(champ_comb)\n",
    "        try:\n",
    "            if match_data['info']['teams'][0]['win'] == True:\n",
    "                winner.append(0)\n",
    "            else:\n",
    "                winner.append(1)\n",
    "        except:\n",
    "            print(match_data['info']['teams'])\n",
    "            print('player: ', i)\n",
    "            print('match: ', j)\n",
    "            team_comb_data.pop(-1)\n",
    "            \n",
    "        \n",
    "        j += 1"
   ]
  },
  {
   "cell_type": "code",
   "execution_count": 9,
   "metadata": {},
   "outputs": [
    {
     "data": {
      "text/plain": [
       "29990"
      ]
     },
     "execution_count": 9,
     "metadata": {},
     "output_type": "execute_result"
    }
   ],
   "source": [
    "len(winner)"
   ]
  },
  {
   "cell_type": "code",
   "execution_count": 10,
   "metadata": {},
   "outputs": [
    {
     "data": {
      "text/plain": [
       "300"
      ]
     },
     "execution_count": 10,
     "metadata": {},
     "output_type": "execute_result"
    }
   ],
   "source": [
    "i"
   ]
  },
  {
   "cell_type": "code",
   "execution_count": 11,
   "metadata": {},
   "outputs": [],
   "source": [
    "df = pd.DataFrame({'teams' : team_comb_data, 'winner' : winner})\n",
    "# df.to_csv(\"match_data.csv\", index=False)"
   ]
  },
  {
   "cell_type": "code",
   "execution_count": 12,
   "metadata": {},
   "outputs": [
    {
     "ename": "TypeError",
     "evalue": "sequence item 0: expected str instance, int found",
     "output_type": "error",
     "traceback": [
      "\u001b[1;31m---------------------------------------------------------------------------\u001b[0m",
      "\u001b[1;31mTypeError\u001b[0m                                 Traceback (most recent call last)",
      "Cell \u001b[1;32mIn[12], line 1\u001b[0m\n\u001b[1;32m----> 1\u001b[0m df[\u001b[38;5;124m'\u001b[39m\u001b[38;5;124mteams\u001b[39m\u001b[38;5;124m'\u001b[39m] \u001b[38;5;241m=\u001b[39m \u001b[43mdf\u001b[49m\u001b[43m[\u001b[49m\u001b[38;5;124;43m'\u001b[39;49m\u001b[38;5;124;43mteams\u001b[39;49m\u001b[38;5;124;43m'\u001b[39;49m\u001b[43m]\u001b[49m\u001b[38;5;241;43m.\u001b[39;49m\u001b[43mapply\u001b[49m\u001b[43m(\u001b[49m\u001b[38;5;28;43;01mlambda\u001b[39;49;00m\u001b[43m \u001b[49m\u001b[43mx\u001b[49m\u001b[43m:\u001b[49m\u001b[43m \u001b[49m\u001b[38;5;124;43m'\u001b[39;49m\u001b[38;5;124;43m,\u001b[39;49m\u001b[38;5;124;43m'\u001b[39;49m\u001b[38;5;241;43m.\u001b[39;49m\u001b[43mjoin\u001b[49m\u001b[43m(\u001b[49m\u001b[43mx\u001b[49m\u001b[43m)\u001b[49m\u001b[43m)\u001b[49m\n",
      "File \u001b[1;32mc:\\Users\\1027d\\AppData\\Local\\Programs\\Python\\Python311\\Lib\\site-packages\\pandas\\core\\series.py:4630\u001b[0m, in \u001b[0;36mSeries.apply\u001b[1;34m(self, func, convert_dtype, args, **kwargs)\u001b[0m\n\u001b[0;32m   4520\u001b[0m \u001b[38;5;28;01mdef\u001b[39;00m \u001b[38;5;21mapply\u001b[39m(\n\u001b[0;32m   4521\u001b[0m     \u001b[38;5;28mself\u001b[39m,\n\u001b[0;32m   4522\u001b[0m     func: AggFuncType,\n\u001b[1;32m   (...)\u001b[0m\n\u001b[0;32m   4525\u001b[0m     \u001b[38;5;241m*\u001b[39m\u001b[38;5;241m*\u001b[39mkwargs,\n\u001b[0;32m   4526\u001b[0m ) \u001b[38;5;241m-\u001b[39m\u001b[38;5;241m>\u001b[39m DataFrame \u001b[38;5;241m|\u001b[39m Series:\n\u001b[0;32m   4527\u001b[0m \u001b[38;5;250m    \u001b[39m\u001b[38;5;124;03m\"\"\"\u001b[39;00m\n\u001b[0;32m   4528\u001b[0m \u001b[38;5;124;03m    Invoke function on values of Series.\u001b[39;00m\n\u001b[0;32m   4529\u001b[0m \n\u001b[1;32m   (...)\u001b[0m\n\u001b[0;32m   4628\u001b[0m \u001b[38;5;124;03m    dtype: float64\u001b[39;00m\n\u001b[0;32m   4629\u001b[0m \u001b[38;5;124;03m    \"\"\"\u001b[39;00m\n\u001b[1;32m-> 4630\u001b[0m     \u001b[38;5;28;01mreturn\u001b[39;00m \u001b[43mSeriesApply\u001b[49m\u001b[43m(\u001b[49m\u001b[38;5;28;43mself\u001b[39;49m\u001b[43m,\u001b[49m\u001b[43m \u001b[49m\u001b[43mfunc\u001b[49m\u001b[43m,\u001b[49m\u001b[43m \u001b[49m\u001b[43mconvert_dtype\u001b[49m\u001b[43m,\u001b[49m\u001b[43m \u001b[49m\u001b[43margs\u001b[49m\u001b[43m,\u001b[49m\u001b[43m \u001b[49m\u001b[43mkwargs\u001b[49m\u001b[43m)\u001b[49m\u001b[38;5;241;43m.\u001b[39;49m\u001b[43mapply\u001b[49m\u001b[43m(\u001b[49m\u001b[43m)\u001b[49m\n",
      "File \u001b[1;32mc:\\Users\\1027d\\AppData\\Local\\Programs\\Python\\Python311\\Lib\\site-packages\\pandas\\core\\apply.py:1025\u001b[0m, in \u001b[0;36mSeriesApply.apply\u001b[1;34m(self)\u001b[0m\n\u001b[0;32m   1022\u001b[0m     \u001b[38;5;28;01mreturn\u001b[39;00m \u001b[38;5;28mself\u001b[39m\u001b[38;5;241m.\u001b[39mapply_str()\n\u001b[0;32m   1024\u001b[0m \u001b[38;5;66;03m# self.f is Callable\u001b[39;00m\n\u001b[1;32m-> 1025\u001b[0m \u001b[38;5;28;01mreturn\u001b[39;00m \u001b[38;5;28;43mself\u001b[39;49m\u001b[38;5;241;43m.\u001b[39;49m\u001b[43mapply_standard\u001b[49m\u001b[43m(\u001b[49m\u001b[43m)\u001b[49m\n",
      "File \u001b[1;32mc:\\Users\\1027d\\AppData\\Local\\Programs\\Python\\Python311\\Lib\\site-packages\\pandas\\core\\apply.py:1076\u001b[0m, in \u001b[0;36mSeriesApply.apply_standard\u001b[1;34m(self)\u001b[0m\n\u001b[0;32m   1074\u001b[0m     \u001b[38;5;28;01melse\u001b[39;00m:\n\u001b[0;32m   1075\u001b[0m         values \u001b[38;5;241m=\u001b[39m obj\u001b[38;5;241m.\u001b[39mastype(\u001b[38;5;28mobject\u001b[39m)\u001b[38;5;241m.\u001b[39m_values\n\u001b[1;32m-> 1076\u001b[0m         mapped \u001b[38;5;241m=\u001b[39m \u001b[43mlib\u001b[49m\u001b[38;5;241;43m.\u001b[39;49m\u001b[43mmap_infer\u001b[49m\u001b[43m(\u001b[49m\n\u001b[0;32m   1077\u001b[0m \u001b[43m            \u001b[49m\u001b[43mvalues\u001b[49m\u001b[43m,\u001b[49m\n\u001b[0;32m   1078\u001b[0m \u001b[43m            \u001b[49m\u001b[43mf\u001b[49m\u001b[43m,\u001b[49m\n\u001b[0;32m   1079\u001b[0m \u001b[43m            \u001b[49m\u001b[43mconvert\u001b[49m\u001b[38;5;241;43m=\u001b[39;49m\u001b[38;5;28;43mself\u001b[39;49m\u001b[38;5;241;43m.\u001b[39;49m\u001b[43mconvert_dtype\u001b[49m\u001b[43m,\u001b[49m\n\u001b[0;32m   1080\u001b[0m \u001b[43m        \u001b[49m\u001b[43m)\u001b[49m\n\u001b[0;32m   1082\u001b[0m \u001b[38;5;28;01mif\u001b[39;00m \u001b[38;5;28mlen\u001b[39m(mapped) \u001b[38;5;129;01mand\u001b[39;00m \u001b[38;5;28misinstance\u001b[39m(mapped[\u001b[38;5;241m0\u001b[39m], ABCSeries):\n\u001b[0;32m   1083\u001b[0m     \u001b[38;5;66;03m# GH#43986 Need to do list(mapped) in order to get treated as nested\u001b[39;00m\n\u001b[0;32m   1084\u001b[0m     \u001b[38;5;66;03m#  See also GH#25959 regarding EA support\u001b[39;00m\n\u001b[0;32m   1085\u001b[0m     \u001b[38;5;28;01mreturn\u001b[39;00m obj\u001b[38;5;241m.\u001b[39m_constructor_expanddim(\u001b[38;5;28mlist\u001b[39m(mapped), index\u001b[38;5;241m=\u001b[39mobj\u001b[38;5;241m.\u001b[39mindex)\n",
      "File \u001b[1;32mc:\\Users\\1027d\\AppData\\Local\\Programs\\Python\\Python311\\Lib\\site-packages\\pandas\\_libs\\lib.pyx:2834\u001b[0m, in \u001b[0;36mpandas._libs.lib.map_infer\u001b[1;34m()\u001b[0m\n",
      "Cell \u001b[1;32mIn[12], line 1\u001b[0m, in \u001b[0;36m<lambda>\u001b[1;34m(x)\u001b[0m\n\u001b[1;32m----> 1\u001b[0m df[\u001b[38;5;124m'\u001b[39m\u001b[38;5;124mteams\u001b[39m\u001b[38;5;124m'\u001b[39m] \u001b[38;5;241m=\u001b[39m df[\u001b[38;5;124m'\u001b[39m\u001b[38;5;124mteams\u001b[39m\u001b[38;5;124m'\u001b[39m]\u001b[38;5;241m.\u001b[39mapply(\u001b[38;5;28;01mlambda\u001b[39;00m x: \u001b[38;5;124;43m'\u001b[39;49m\u001b[38;5;124;43m,\u001b[39;49m\u001b[38;5;124;43m'\u001b[39;49m\u001b[38;5;241;43m.\u001b[39;49m\u001b[43mjoin\u001b[49m\u001b[43m(\u001b[49m\u001b[43mx\u001b[49m\u001b[43m)\u001b[49m)\n",
      "\u001b[1;31mTypeError\u001b[0m: sequence item 0: expected str instance, int found"
     ]
    }
   ],
   "source": [
    "df['teams'] = df['teams'].apply(lambda x: ','.join(x))"
   ]
  },
  {
   "cell_type": "code",
   "execution_count": 13,
   "metadata": {},
   "outputs": [
    {
     "data": {
      "text/html": [
       "<div>\n",
       "<style scoped>\n",
       "    .dataframe tbody tr th:only-of-type {\n",
       "        vertical-align: middle;\n",
       "    }\n",
       "\n",
       "    .dataframe tbody tr th {\n",
       "        vertical-align: top;\n",
       "    }\n",
       "\n",
       "    .dataframe thead th {\n",
       "        text-align: right;\n",
       "    }\n",
       "</style>\n",
       "<table border=\"1\" class=\"dataframe\">\n",
       "  <thead>\n",
       "    <tr style=\"text-align: right;\">\n",
       "      <th></th>\n",
       "      <th>teams</th>\n",
       "      <th>winner</th>\n",
       "    </tr>\n",
       "  </thead>\n",
       "  <tbody>\n",
       "    <tr>\n",
       "      <th>0</th>\n",
       "      <td>[420, 427, 34, 236, 201, 122, 200, 154, 81, 43]</td>\n",
       "      <td>0</td>\n",
       "    </tr>\n",
       "    <tr>\n",
       "      <th>1</th>\n",
       "      <td>[266, 203, 236, 910, 267, 887, 121, 79, 895, 37]</td>\n",
       "      <td>1</td>\n",
       "    </tr>\n",
       "    <tr>\n",
       "      <th>2</th>\n",
       "      <td>[266, 64, 910, 221, 40, 68, 121, 55, 202, 53]</td>\n",
       "      <td>1</td>\n",
       "    </tr>\n",
       "    <tr>\n",
       "      <th>3</th>\n",
       "      <td>[114, 876, 163, 222, 412, 75, 421, 55, 145, 111]</td>\n",
       "      <td>1</td>\n",
       "    </tr>\n",
       "    <tr>\n",
       "      <th>4</th>\n",
       "      <td>[58, 59, 245, 236, 267, 68, 234, 126, 63, 412]</td>\n",
       "      <td>1</td>\n",
       "    </tr>\n",
       "    <tr>\n",
       "      <th>...</th>\n",
       "      <td>...</td>\n",
       "      <td>...</td>\n",
       "    </tr>\n",
       "    <tr>\n",
       "      <th>29985</th>\n",
       "      <td>[122, 33, 157, 202, 57, 777, 121, 84, 110, 235]</td>\n",
       "      <td>0</td>\n",
       "    </tr>\n",
       "    <tr>\n",
       "      <th>29986</th>\n",
       "      <td>[24, 113, 777, 910, 40, 9, 141, 268, 895, 57]</td>\n",
       "      <td>0</td>\n",
       "    </tr>\n",
       "    <tr>\n",
       "      <th>29987</th>\n",
       "      <td>[127, 64, 157, 119, 412, 54, 59, 910, 221, 12]</td>\n",
       "      <td>1</td>\n",
       "    </tr>\n",
       "    <tr>\n",
       "      <th>29988</th>\n",
       "      <td>[122, 80, 43, 136, 235, 79, 78, 157, 145, 29]</td>\n",
       "      <td>0</td>\n",
       "    </tr>\n",
       "    <tr>\n",
       "      <th>29989</th>\n",
       "      <td>[43, 105, 4, 235, 421, 58, 236, 888, 63, 42]</td>\n",
       "      <td>0</td>\n",
       "    </tr>\n",
       "  </tbody>\n",
       "</table>\n",
       "<p>29990 rows × 2 columns</p>\n",
       "</div>"
      ],
      "text/plain": [
       "                                                  teams  winner\n",
       "0       [420, 427, 34, 236, 201, 122, 200, 154, 81, 43]       0\n",
       "1      [266, 203, 236, 910, 267, 887, 121, 79, 895, 37]       1\n",
       "2         [266, 64, 910, 221, 40, 68, 121, 55, 202, 53]       1\n",
       "3      [114, 876, 163, 222, 412, 75, 421, 55, 145, 111]       1\n",
       "4        [58, 59, 245, 236, 267, 68, 234, 126, 63, 412]       1\n",
       "...                                                 ...     ...\n",
       "29985   [122, 33, 157, 202, 57, 777, 121, 84, 110, 235]       0\n",
       "29986     [24, 113, 777, 910, 40, 9, 141, 268, 895, 57]       0\n",
       "29987    [127, 64, 157, 119, 412, 54, 59, 910, 221, 12]       1\n",
       "29988     [122, 80, 43, 136, 235, 79, 78, 157, 145, 29]       0\n",
       "29989      [43, 105, 4, 235, 421, 58, 236, 888, 63, 42]       0\n",
       "\n",
       "[29990 rows x 2 columns]"
      ]
     },
     "execution_count": 13,
     "metadata": {},
     "output_type": "execute_result"
    }
   ],
   "source": [
    "df"
   ]
  },
  {
   "cell_type": "code",
   "execution_count": 23,
   "metadata": {},
   "outputs": [],
   "source": [
    "df.to_csv(\"match_data_2.csv\", index=False)"
   ]
  },
  {
   "cell_type": "code",
   "execution_count": 25,
   "metadata": {},
   "outputs": [],
   "source": [
    "temp = response_match.json()"
   ]
  },
  {
   "cell_type": "code",
   "execution_count": 121,
   "metadata": {},
   "outputs": [
    {
     "data": {
      "text/plain": [
       "dict_keys(['status'])"
      ]
     },
     "execution_count": 121,
     "metadata": {},
     "output_type": "execute_result"
    }
   ],
   "source": [
    "temp.keys()"
   ]
  },
  {
   "cell_type": "code",
   "execution_count": 116,
   "metadata": {},
   "outputs": [
    {
     "data": {
      "text/plain": [
       "False"
      ]
     },
     "execution_count": 116,
     "metadata": {},
     "output_type": "execute_result"
    }
   ],
   "source": [
    "temp['info']['teams'][0]['win']"
   ]
  },
  {
   "cell_type": "code",
   "execution_count": 26,
   "metadata": {},
   "outputs": [
    {
     "data": {
      "text/plain": [
       "86"
      ]
     },
     "execution_count": 26,
     "metadata": {},
     "output_type": "execute_result"
    }
   ],
   "source": [
    "temp['info']['participants'][0]['championId']"
   ]
  },
  {
   "cell_type": "code",
   "execution_count": null,
   "metadata": {},
   "outputs": [],
   "source": [
    "[temp['info']['participants'][_]['championName'] for _ in range(len(temp['info']['participants']))]"
   ]
  },
  {
   "cell_type": "code",
   "execution_count": null,
   "metadata": {},
   "outputs": [],
   "source": []
  }
 ],
 "metadata": {
  "kernelspec": {
   "display_name": "Python 3",
   "language": "python",
   "name": "python3"
  },
  "language_info": {
   "codemirror_mode": {
    "name": "ipython",
    "version": 3
   },
   "file_extension": ".py",
   "mimetype": "text/x-python",
   "name": "python",
   "nbconvert_exporter": "python",
   "pygments_lexer": "ipython3",
   "version": "3.11.3"
  }
 },
 "nbformat": 4,
 "nbformat_minor": 2
}

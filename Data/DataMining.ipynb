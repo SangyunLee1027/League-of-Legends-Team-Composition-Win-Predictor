{
 "cells": [
  {
   "cell_type": "code",
   "execution_count": 4,
   "metadata": {},
   "outputs": [],
   "source": [
    "import requests\n",
    "from urllib.request import Request, urlopen\n",
    "import time\n",
    "import pandas as pd"
   ]
  },
  {
   "cell_type": "code",
   "execution_count": 1,
   "metadata": {},
   "outputs": [],
   "source": [
    "api_key = \"cc796bcd-0c8c-4a92-94d0-34226c53ec5e\"\n",
    "headers = {\n",
    "    \"User-Agent\": \"Mozilla/5.0 (Windows NT 10.0; Win64; x64) AppleWebKit/537.36 (KHTML, like Gecko) Chrome/122.0.0.0 Safari/537.36\",\n",
    "    \"Accept-Language\": \"en-US,en;q=0.9\",\n",
    "    \"Accept-Charset\": \"application/x-www-form-urlencoded; charset=UTF-8\",\n",
    "    \"Origin\": \"https://developer.riotgames.com\"\n",
    "}"
   ]
  },
  {
   "cell_type": "code",
   "execution_count": 3,
   "metadata": {},
   "outputs": [
    {
     "data": {
      "text/plain": [
       "200"
      ]
     },
     "execution_count": 3,
     "metadata": {},
     "output_type": "execute_result"
    }
   ],
   "source": [
    "link = f\"https://na1.api.riotgames.com/lol/league/v4/challengerleagues/by-queue/RANKED_SOLO_5x5?api_key=RGAPI-{api_key}\"\n",
    "\n",
    "response = requests.get(link, headers = headers)\n",
    "response.status_code\n"
   ]
  },
  {
   "cell_type": "code",
   "execution_count": 4,
   "metadata": {},
   "outputs": [],
   "source": [
    "summoners_list = response.json()['entries']\n",
    "summoners_id = [summoners_list[i]['summonerId'] for i in range(len(summoners_list))]"
   ]
  },
  {
   "cell_type": "code",
   "execution_count": 5,
   "metadata": {},
   "outputs": [
    {
     "ename": "KeyboardInterrupt",
     "evalue": "",
     "output_type": "error",
     "traceback": [
      "\u001b[1;31m---------------------------------------------------------------------------\u001b[0m",
      "\u001b[1;31mKeyboardInterrupt\u001b[0m                         Traceback (most recent call last)",
      "Cell \u001b[1;32mIn[5], line 7\u001b[0m\n\u001b[0;32m      5\u001b[0m summoner_id \u001b[38;5;241m=\u001b[39m summoners_id[i]\n\u001b[0;32m      6\u001b[0m link_puuid \u001b[38;5;241m=\u001b[39m \u001b[38;5;124mf\u001b[39m\u001b[38;5;124m\"\u001b[39m\u001b[38;5;124mhttps://na1.api.riotgames.com/lol/summoner/v4/summoners/\u001b[39m\u001b[38;5;132;01m{\u001b[39;00msummoner_id\u001b[38;5;132;01m}\u001b[39;00m\u001b[38;5;124m?api_key=RGAPI-\u001b[39m\u001b[38;5;132;01m{\u001b[39;00mapi_key\u001b[38;5;132;01m}\u001b[39;00m\u001b[38;5;124m\"\u001b[39m\n\u001b[1;32m----> 7\u001b[0m response_puuid \u001b[38;5;241m=\u001b[39m \u001b[43mrequests\u001b[49m\u001b[38;5;241;43m.\u001b[39;49m\u001b[43mget\u001b[49m\u001b[43m(\u001b[49m\u001b[43mlink_puuid\u001b[49m\u001b[43m,\u001b[49m\u001b[43m \u001b[49m\u001b[43mheaders\u001b[49m\u001b[43m \u001b[49m\u001b[38;5;241;43m=\u001b[39;49m\u001b[43m \u001b[49m\u001b[43mheaders\u001b[49m\u001b[43m)\u001b[49m\n\u001b[0;32m      8\u001b[0m \u001b[38;5;28;01mif\u001b[39;00m response_puuid\u001b[38;5;241m.\u001b[39mstatus_code \u001b[38;5;241m==\u001b[39m \u001b[38;5;241m200\u001b[39m:\n\u001b[0;32m      9\u001b[0m     puuids\u001b[38;5;241m.\u001b[39mappend(response_puuid\u001b[38;5;241m.\u001b[39mjson()[\u001b[38;5;124m'\u001b[39m\u001b[38;5;124mpuuid\u001b[39m\u001b[38;5;124m'\u001b[39m])\n",
      "File \u001b[1;32mc:\\Users\\1027d\\AppData\\Local\\Programs\\Python\\Python311\\Lib\\site-packages\\requests\\api.py:73\u001b[0m, in \u001b[0;36mget\u001b[1;34m(url, params, **kwargs)\u001b[0m\n\u001b[0;32m     62\u001b[0m \u001b[38;5;28;01mdef\u001b[39;00m \u001b[38;5;21mget\u001b[39m(url, params\u001b[38;5;241m=\u001b[39m\u001b[38;5;28;01mNone\u001b[39;00m, \u001b[38;5;241m*\u001b[39m\u001b[38;5;241m*\u001b[39mkwargs):\n\u001b[0;32m     63\u001b[0m \u001b[38;5;250m    \u001b[39m\u001b[38;5;124mr\u001b[39m\u001b[38;5;124;03m\"\"\"Sends a GET request.\u001b[39;00m\n\u001b[0;32m     64\u001b[0m \n\u001b[0;32m     65\u001b[0m \u001b[38;5;124;03m    :param url: URL for the new :class:`Request` object.\u001b[39;00m\n\u001b[1;32m   (...)\u001b[0m\n\u001b[0;32m     70\u001b[0m \u001b[38;5;124;03m    :rtype: requests.Response\u001b[39;00m\n\u001b[0;32m     71\u001b[0m \u001b[38;5;124;03m    \"\"\"\u001b[39;00m\n\u001b[1;32m---> 73\u001b[0m     \u001b[38;5;28;01mreturn\u001b[39;00m \u001b[43mrequest\u001b[49m\u001b[43m(\u001b[49m\u001b[38;5;124;43m\"\u001b[39;49m\u001b[38;5;124;43mget\u001b[39;49m\u001b[38;5;124;43m\"\u001b[39;49m\u001b[43m,\u001b[49m\u001b[43m \u001b[49m\u001b[43murl\u001b[49m\u001b[43m,\u001b[49m\u001b[43m \u001b[49m\u001b[43mparams\u001b[49m\u001b[38;5;241;43m=\u001b[39;49m\u001b[43mparams\u001b[49m\u001b[43m,\u001b[49m\u001b[43m \u001b[49m\u001b[38;5;241;43m*\u001b[39;49m\u001b[38;5;241;43m*\u001b[39;49m\u001b[43mkwargs\u001b[49m\u001b[43m)\u001b[49m\n",
      "File \u001b[1;32mc:\\Users\\1027d\\AppData\\Local\\Programs\\Python\\Python311\\Lib\\site-packages\\requests\\api.py:59\u001b[0m, in \u001b[0;36mrequest\u001b[1;34m(method, url, **kwargs)\u001b[0m\n\u001b[0;32m     55\u001b[0m \u001b[38;5;66;03m# By using the 'with' statement we are sure the session is closed, thus we\u001b[39;00m\n\u001b[0;32m     56\u001b[0m \u001b[38;5;66;03m# avoid leaving sockets open which can trigger a ResourceWarning in some\u001b[39;00m\n\u001b[0;32m     57\u001b[0m \u001b[38;5;66;03m# cases, and look like a memory leak in others.\u001b[39;00m\n\u001b[0;32m     58\u001b[0m \u001b[38;5;28;01mwith\u001b[39;00m sessions\u001b[38;5;241m.\u001b[39mSession() \u001b[38;5;28;01mas\u001b[39;00m session:\n\u001b[1;32m---> 59\u001b[0m     \u001b[38;5;28;01mreturn\u001b[39;00m \u001b[43msession\u001b[49m\u001b[38;5;241;43m.\u001b[39;49m\u001b[43mrequest\u001b[49m\u001b[43m(\u001b[49m\u001b[43mmethod\u001b[49m\u001b[38;5;241;43m=\u001b[39;49m\u001b[43mmethod\u001b[49m\u001b[43m,\u001b[49m\u001b[43m \u001b[49m\u001b[43murl\u001b[49m\u001b[38;5;241;43m=\u001b[39;49m\u001b[43murl\u001b[49m\u001b[43m,\u001b[49m\u001b[43m \u001b[49m\u001b[38;5;241;43m*\u001b[39;49m\u001b[38;5;241;43m*\u001b[39;49m\u001b[43mkwargs\u001b[49m\u001b[43m)\u001b[49m\n",
      "File \u001b[1;32mc:\\Users\\1027d\\AppData\\Local\\Programs\\Python\\Python311\\Lib\\site-packages\\requests\\sessions.py:589\u001b[0m, in \u001b[0;36mSession.request\u001b[1;34m(self, method, url, params, data, headers, cookies, files, auth, timeout, allow_redirects, proxies, hooks, stream, verify, cert, json)\u001b[0m\n\u001b[0;32m    584\u001b[0m send_kwargs \u001b[38;5;241m=\u001b[39m {\n\u001b[0;32m    585\u001b[0m     \u001b[38;5;124m\"\u001b[39m\u001b[38;5;124mtimeout\u001b[39m\u001b[38;5;124m\"\u001b[39m: timeout,\n\u001b[0;32m    586\u001b[0m     \u001b[38;5;124m\"\u001b[39m\u001b[38;5;124mallow_redirects\u001b[39m\u001b[38;5;124m\"\u001b[39m: allow_redirects,\n\u001b[0;32m    587\u001b[0m }\n\u001b[0;32m    588\u001b[0m send_kwargs\u001b[38;5;241m.\u001b[39mupdate(settings)\n\u001b[1;32m--> 589\u001b[0m resp \u001b[38;5;241m=\u001b[39m \u001b[38;5;28;43mself\u001b[39;49m\u001b[38;5;241;43m.\u001b[39;49m\u001b[43msend\u001b[49m\u001b[43m(\u001b[49m\u001b[43mprep\u001b[49m\u001b[43m,\u001b[49m\u001b[43m \u001b[49m\u001b[38;5;241;43m*\u001b[39;49m\u001b[38;5;241;43m*\u001b[39;49m\u001b[43msend_kwargs\u001b[49m\u001b[43m)\u001b[49m\n\u001b[0;32m    591\u001b[0m \u001b[38;5;28;01mreturn\u001b[39;00m resp\n",
      "File \u001b[1;32mc:\\Users\\1027d\\AppData\\Local\\Programs\\Python\\Python311\\Lib\\site-packages\\requests\\sessions.py:703\u001b[0m, in \u001b[0;36mSession.send\u001b[1;34m(self, request, **kwargs)\u001b[0m\n\u001b[0;32m    700\u001b[0m start \u001b[38;5;241m=\u001b[39m preferred_clock()\n\u001b[0;32m    702\u001b[0m \u001b[38;5;66;03m# Send the request\u001b[39;00m\n\u001b[1;32m--> 703\u001b[0m r \u001b[38;5;241m=\u001b[39m \u001b[43madapter\u001b[49m\u001b[38;5;241;43m.\u001b[39;49m\u001b[43msend\u001b[49m\u001b[43m(\u001b[49m\u001b[43mrequest\u001b[49m\u001b[43m,\u001b[49m\u001b[43m \u001b[49m\u001b[38;5;241;43m*\u001b[39;49m\u001b[38;5;241;43m*\u001b[39;49m\u001b[43mkwargs\u001b[49m\u001b[43m)\u001b[49m\n\u001b[0;32m    705\u001b[0m \u001b[38;5;66;03m# Total elapsed time of the request (approximately)\u001b[39;00m\n\u001b[0;32m    706\u001b[0m elapsed \u001b[38;5;241m=\u001b[39m preferred_clock() \u001b[38;5;241m-\u001b[39m start\n",
      "File \u001b[1;32mc:\\Users\\1027d\\AppData\\Local\\Programs\\Python\\Python311\\Lib\\site-packages\\requests\\adapters.py:486\u001b[0m, in \u001b[0;36mHTTPAdapter.send\u001b[1;34m(self, request, stream, timeout, verify, cert, proxies)\u001b[0m\n\u001b[0;32m    483\u001b[0m     timeout \u001b[38;5;241m=\u001b[39m TimeoutSauce(connect\u001b[38;5;241m=\u001b[39mtimeout, read\u001b[38;5;241m=\u001b[39mtimeout)\n\u001b[0;32m    485\u001b[0m \u001b[38;5;28;01mtry\u001b[39;00m:\n\u001b[1;32m--> 486\u001b[0m     resp \u001b[38;5;241m=\u001b[39m \u001b[43mconn\u001b[49m\u001b[38;5;241;43m.\u001b[39;49m\u001b[43murlopen\u001b[49m\u001b[43m(\u001b[49m\n\u001b[0;32m    487\u001b[0m \u001b[43m        \u001b[49m\u001b[43mmethod\u001b[49m\u001b[38;5;241;43m=\u001b[39;49m\u001b[43mrequest\u001b[49m\u001b[38;5;241;43m.\u001b[39;49m\u001b[43mmethod\u001b[49m\u001b[43m,\u001b[49m\n\u001b[0;32m    488\u001b[0m \u001b[43m        \u001b[49m\u001b[43murl\u001b[49m\u001b[38;5;241;43m=\u001b[39;49m\u001b[43murl\u001b[49m\u001b[43m,\u001b[49m\n\u001b[0;32m    489\u001b[0m \u001b[43m        \u001b[49m\u001b[43mbody\u001b[49m\u001b[38;5;241;43m=\u001b[39;49m\u001b[43mrequest\u001b[49m\u001b[38;5;241;43m.\u001b[39;49m\u001b[43mbody\u001b[49m\u001b[43m,\u001b[49m\n\u001b[0;32m    490\u001b[0m \u001b[43m        \u001b[49m\u001b[43mheaders\u001b[49m\u001b[38;5;241;43m=\u001b[39;49m\u001b[43mrequest\u001b[49m\u001b[38;5;241;43m.\u001b[39;49m\u001b[43mheaders\u001b[49m\u001b[43m,\u001b[49m\n\u001b[0;32m    491\u001b[0m \u001b[43m        \u001b[49m\u001b[43mredirect\u001b[49m\u001b[38;5;241;43m=\u001b[39;49m\u001b[38;5;28;43;01mFalse\u001b[39;49;00m\u001b[43m,\u001b[49m\n\u001b[0;32m    492\u001b[0m \u001b[43m        \u001b[49m\u001b[43massert_same_host\u001b[49m\u001b[38;5;241;43m=\u001b[39;49m\u001b[38;5;28;43;01mFalse\u001b[39;49;00m\u001b[43m,\u001b[49m\n\u001b[0;32m    493\u001b[0m \u001b[43m        \u001b[49m\u001b[43mpreload_content\u001b[49m\u001b[38;5;241;43m=\u001b[39;49m\u001b[38;5;28;43;01mFalse\u001b[39;49;00m\u001b[43m,\u001b[49m\n\u001b[0;32m    494\u001b[0m \u001b[43m        \u001b[49m\u001b[43mdecode_content\u001b[49m\u001b[38;5;241;43m=\u001b[39;49m\u001b[38;5;28;43;01mFalse\u001b[39;49;00m\u001b[43m,\u001b[49m\n\u001b[0;32m    495\u001b[0m \u001b[43m        \u001b[49m\u001b[43mretries\u001b[49m\u001b[38;5;241;43m=\u001b[39;49m\u001b[38;5;28;43mself\u001b[39;49m\u001b[38;5;241;43m.\u001b[39;49m\u001b[43mmax_retries\u001b[49m\u001b[43m,\u001b[49m\n\u001b[0;32m    496\u001b[0m \u001b[43m        \u001b[49m\u001b[43mtimeout\u001b[49m\u001b[38;5;241;43m=\u001b[39;49m\u001b[43mtimeout\u001b[49m\u001b[43m,\u001b[49m\n\u001b[0;32m    497\u001b[0m \u001b[43m        \u001b[49m\u001b[43mchunked\u001b[49m\u001b[38;5;241;43m=\u001b[39;49m\u001b[43mchunked\u001b[49m\u001b[43m,\u001b[49m\n\u001b[0;32m    498\u001b[0m \u001b[43m    \u001b[49m\u001b[43m)\u001b[49m\n\u001b[0;32m    500\u001b[0m \u001b[38;5;28;01mexcept\u001b[39;00m (ProtocolError, \u001b[38;5;167;01mOSError\u001b[39;00m) \u001b[38;5;28;01mas\u001b[39;00m err:\n\u001b[0;32m    501\u001b[0m     \u001b[38;5;28;01mraise\u001b[39;00m \u001b[38;5;167;01mConnectionError\u001b[39;00m(err, request\u001b[38;5;241m=\u001b[39mrequest)\n",
      "File \u001b[1;32mc:\\Users\\1027d\\AppData\\Local\\Programs\\Python\\Python311\\Lib\\site-packages\\urllib3\\connectionpool.py:793\u001b[0m, in \u001b[0;36mHTTPConnectionPool.urlopen\u001b[1;34m(self, method, url, body, headers, retries, redirect, assert_same_host, timeout, pool_timeout, release_conn, chunked, body_pos, preload_content, decode_content, **response_kw)\u001b[0m\n\u001b[0;32m    790\u001b[0m response_conn \u001b[38;5;241m=\u001b[39m conn \u001b[38;5;28;01mif\u001b[39;00m \u001b[38;5;129;01mnot\u001b[39;00m release_conn \u001b[38;5;28;01melse\u001b[39;00m \u001b[38;5;28;01mNone\u001b[39;00m\n\u001b[0;32m    792\u001b[0m \u001b[38;5;66;03m# Make the request on the HTTPConnection object\u001b[39;00m\n\u001b[1;32m--> 793\u001b[0m response \u001b[38;5;241m=\u001b[39m \u001b[38;5;28;43mself\u001b[39;49m\u001b[38;5;241;43m.\u001b[39;49m\u001b[43m_make_request\u001b[49m\u001b[43m(\u001b[49m\n\u001b[0;32m    794\u001b[0m \u001b[43m    \u001b[49m\u001b[43mconn\u001b[49m\u001b[43m,\u001b[49m\n\u001b[0;32m    795\u001b[0m \u001b[43m    \u001b[49m\u001b[43mmethod\u001b[49m\u001b[43m,\u001b[49m\n\u001b[0;32m    796\u001b[0m \u001b[43m    \u001b[49m\u001b[43murl\u001b[49m\u001b[43m,\u001b[49m\n\u001b[0;32m    797\u001b[0m \u001b[43m    \u001b[49m\u001b[43mtimeout\u001b[49m\u001b[38;5;241;43m=\u001b[39;49m\u001b[43mtimeout_obj\u001b[49m\u001b[43m,\u001b[49m\n\u001b[0;32m    798\u001b[0m \u001b[43m    \u001b[49m\u001b[43mbody\u001b[49m\u001b[38;5;241;43m=\u001b[39;49m\u001b[43mbody\u001b[49m\u001b[43m,\u001b[49m\n\u001b[0;32m    799\u001b[0m \u001b[43m    \u001b[49m\u001b[43mheaders\u001b[49m\u001b[38;5;241;43m=\u001b[39;49m\u001b[43mheaders\u001b[49m\u001b[43m,\u001b[49m\n\u001b[0;32m    800\u001b[0m \u001b[43m    \u001b[49m\u001b[43mchunked\u001b[49m\u001b[38;5;241;43m=\u001b[39;49m\u001b[43mchunked\u001b[49m\u001b[43m,\u001b[49m\n\u001b[0;32m    801\u001b[0m \u001b[43m    \u001b[49m\u001b[43mretries\u001b[49m\u001b[38;5;241;43m=\u001b[39;49m\u001b[43mretries\u001b[49m\u001b[43m,\u001b[49m\n\u001b[0;32m    802\u001b[0m \u001b[43m    \u001b[49m\u001b[43mresponse_conn\u001b[49m\u001b[38;5;241;43m=\u001b[39;49m\u001b[43mresponse_conn\u001b[49m\u001b[43m,\u001b[49m\n\u001b[0;32m    803\u001b[0m \u001b[43m    \u001b[49m\u001b[43mpreload_content\u001b[49m\u001b[38;5;241;43m=\u001b[39;49m\u001b[43mpreload_content\u001b[49m\u001b[43m,\u001b[49m\n\u001b[0;32m    804\u001b[0m \u001b[43m    \u001b[49m\u001b[43mdecode_content\u001b[49m\u001b[38;5;241;43m=\u001b[39;49m\u001b[43mdecode_content\u001b[49m\u001b[43m,\u001b[49m\n\u001b[0;32m    805\u001b[0m \u001b[43m    \u001b[49m\u001b[38;5;241;43m*\u001b[39;49m\u001b[38;5;241;43m*\u001b[39;49m\u001b[43mresponse_kw\u001b[49m\u001b[43m,\u001b[49m\n\u001b[0;32m    806\u001b[0m \u001b[43m\u001b[49m\u001b[43m)\u001b[49m\n\u001b[0;32m    808\u001b[0m \u001b[38;5;66;03m# Everything went great!\u001b[39;00m\n\u001b[0;32m    809\u001b[0m clean_exit \u001b[38;5;241m=\u001b[39m \u001b[38;5;28;01mTrue\u001b[39;00m\n",
      "File \u001b[1;32mc:\\Users\\1027d\\AppData\\Local\\Programs\\Python\\Python311\\Lib\\site-packages\\urllib3\\connectionpool.py:467\u001b[0m, in \u001b[0;36mHTTPConnectionPool._make_request\u001b[1;34m(self, conn, method, url, body, headers, retries, timeout, chunked, response_conn, preload_content, decode_content, enforce_content_length)\u001b[0m\n\u001b[0;32m    464\u001b[0m \u001b[38;5;28;01mtry\u001b[39;00m:\n\u001b[0;32m    465\u001b[0m     \u001b[38;5;66;03m# Trigger any extra validation we need to do.\u001b[39;00m\n\u001b[0;32m    466\u001b[0m     \u001b[38;5;28;01mtry\u001b[39;00m:\n\u001b[1;32m--> 467\u001b[0m         \u001b[38;5;28;43mself\u001b[39;49m\u001b[38;5;241;43m.\u001b[39;49m\u001b[43m_validate_conn\u001b[49m\u001b[43m(\u001b[49m\u001b[43mconn\u001b[49m\u001b[43m)\u001b[49m\n\u001b[0;32m    468\u001b[0m     \u001b[38;5;28;01mexcept\u001b[39;00m (SocketTimeout, BaseSSLError) \u001b[38;5;28;01mas\u001b[39;00m e:\n\u001b[0;32m    469\u001b[0m         \u001b[38;5;28mself\u001b[39m\u001b[38;5;241m.\u001b[39m_raise_timeout(err\u001b[38;5;241m=\u001b[39me, url\u001b[38;5;241m=\u001b[39murl, timeout_value\u001b[38;5;241m=\u001b[39mconn\u001b[38;5;241m.\u001b[39mtimeout)\n",
      "File \u001b[1;32mc:\\Users\\1027d\\AppData\\Local\\Programs\\Python\\Python311\\Lib\\site-packages\\urllib3\\connectionpool.py:1099\u001b[0m, in \u001b[0;36mHTTPSConnectionPool._validate_conn\u001b[1;34m(self, conn)\u001b[0m\n\u001b[0;32m   1097\u001b[0m \u001b[38;5;66;03m# Force connect early to allow us to validate the connection.\u001b[39;00m\n\u001b[0;32m   1098\u001b[0m \u001b[38;5;28;01mif\u001b[39;00m conn\u001b[38;5;241m.\u001b[39mis_closed:\n\u001b[1;32m-> 1099\u001b[0m     \u001b[43mconn\u001b[49m\u001b[38;5;241;43m.\u001b[39;49m\u001b[43mconnect\u001b[49m\u001b[43m(\u001b[49m\u001b[43m)\u001b[49m\n\u001b[0;32m   1101\u001b[0m \u001b[38;5;66;03m# TODO revise this, see https://github.com/urllib3/urllib3/issues/2791\u001b[39;00m\n\u001b[0;32m   1102\u001b[0m \u001b[38;5;28;01mif\u001b[39;00m \u001b[38;5;129;01mnot\u001b[39;00m conn\u001b[38;5;241m.\u001b[39mis_verified \u001b[38;5;129;01mand\u001b[39;00m \u001b[38;5;129;01mnot\u001b[39;00m conn\u001b[38;5;241m.\u001b[39mproxy_is_verified:\n",
      "File \u001b[1;32mc:\\Users\\1027d\\AppData\\Local\\Programs\\Python\\Python311\\Lib\\site-packages\\urllib3\\connection.py:653\u001b[0m, in \u001b[0;36mHTTPSConnection.connect\u001b[1;34m(self)\u001b[0m\n\u001b[0;32m    650\u001b[0m \u001b[38;5;66;03m# Remove trailing '.' from fqdn hostnames to allow certificate validation\u001b[39;00m\n\u001b[0;32m    651\u001b[0m server_hostname_rm_dot \u001b[38;5;241m=\u001b[39m server_hostname\u001b[38;5;241m.\u001b[39mrstrip(\u001b[38;5;124m\"\u001b[39m\u001b[38;5;124m.\u001b[39m\u001b[38;5;124m\"\u001b[39m)\n\u001b[1;32m--> 653\u001b[0m sock_and_verified \u001b[38;5;241m=\u001b[39m \u001b[43m_ssl_wrap_socket_and_match_hostname\u001b[49m\u001b[43m(\u001b[49m\n\u001b[0;32m    654\u001b[0m \u001b[43m    \u001b[49m\u001b[43msock\u001b[49m\u001b[38;5;241;43m=\u001b[39;49m\u001b[43msock\u001b[49m\u001b[43m,\u001b[49m\n\u001b[0;32m    655\u001b[0m \u001b[43m    \u001b[49m\u001b[43mcert_reqs\u001b[49m\u001b[38;5;241;43m=\u001b[39;49m\u001b[38;5;28;43mself\u001b[39;49m\u001b[38;5;241;43m.\u001b[39;49m\u001b[43mcert_reqs\u001b[49m\u001b[43m,\u001b[49m\n\u001b[0;32m    656\u001b[0m \u001b[43m    \u001b[49m\u001b[43mssl_version\u001b[49m\u001b[38;5;241;43m=\u001b[39;49m\u001b[38;5;28;43mself\u001b[39;49m\u001b[38;5;241;43m.\u001b[39;49m\u001b[43mssl_version\u001b[49m\u001b[43m,\u001b[49m\n\u001b[0;32m    657\u001b[0m \u001b[43m    \u001b[49m\u001b[43mssl_minimum_version\u001b[49m\u001b[38;5;241;43m=\u001b[39;49m\u001b[38;5;28;43mself\u001b[39;49m\u001b[38;5;241;43m.\u001b[39;49m\u001b[43mssl_minimum_version\u001b[49m\u001b[43m,\u001b[49m\n\u001b[0;32m    658\u001b[0m \u001b[43m    \u001b[49m\u001b[43mssl_maximum_version\u001b[49m\u001b[38;5;241;43m=\u001b[39;49m\u001b[38;5;28;43mself\u001b[39;49m\u001b[38;5;241;43m.\u001b[39;49m\u001b[43mssl_maximum_version\u001b[49m\u001b[43m,\u001b[49m\n\u001b[0;32m    659\u001b[0m \u001b[43m    \u001b[49m\u001b[43mca_certs\u001b[49m\u001b[38;5;241;43m=\u001b[39;49m\u001b[38;5;28;43mself\u001b[39;49m\u001b[38;5;241;43m.\u001b[39;49m\u001b[43mca_certs\u001b[49m\u001b[43m,\u001b[49m\n\u001b[0;32m    660\u001b[0m \u001b[43m    \u001b[49m\u001b[43mca_cert_dir\u001b[49m\u001b[38;5;241;43m=\u001b[39;49m\u001b[38;5;28;43mself\u001b[39;49m\u001b[38;5;241;43m.\u001b[39;49m\u001b[43mca_cert_dir\u001b[49m\u001b[43m,\u001b[49m\n\u001b[0;32m    661\u001b[0m \u001b[43m    \u001b[49m\u001b[43mca_cert_data\u001b[49m\u001b[38;5;241;43m=\u001b[39;49m\u001b[38;5;28;43mself\u001b[39;49m\u001b[38;5;241;43m.\u001b[39;49m\u001b[43mca_cert_data\u001b[49m\u001b[43m,\u001b[49m\n\u001b[0;32m    662\u001b[0m \u001b[43m    \u001b[49m\u001b[43mcert_file\u001b[49m\u001b[38;5;241;43m=\u001b[39;49m\u001b[38;5;28;43mself\u001b[39;49m\u001b[38;5;241;43m.\u001b[39;49m\u001b[43mcert_file\u001b[49m\u001b[43m,\u001b[49m\n\u001b[0;32m    663\u001b[0m \u001b[43m    \u001b[49m\u001b[43mkey_file\u001b[49m\u001b[38;5;241;43m=\u001b[39;49m\u001b[38;5;28;43mself\u001b[39;49m\u001b[38;5;241;43m.\u001b[39;49m\u001b[43mkey_file\u001b[49m\u001b[43m,\u001b[49m\n\u001b[0;32m    664\u001b[0m \u001b[43m    \u001b[49m\u001b[43mkey_password\u001b[49m\u001b[38;5;241;43m=\u001b[39;49m\u001b[38;5;28;43mself\u001b[39;49m\u001b[38;5;241;43m.\u001b[39;49m\u001b[43mkey_password\u001b[49m\u001b[43m,\u001b[49m\n\u001b[0;32m    665\u001b[0m \u001b[43m    \u001b[49m\u001b[43mserver_hostname\u001b[49m\u001b[38;5;241;43m=\u001b[39;49m\u001b[43mserver_hostname_rm_dot\u001b[49m\u001b[43m,\u001b[49m\n\u001b[0;32m    666\u001b[0m \u001b[43m    \u001b[49m\u001b[43mssl_context\u001b[49m\u001b[38;5;241;43m=\u001b[39;49m\u001b[38;5;28;43mself\u001b[39;49m\u001b[38;5;241;43m.\u001b[39;49m\u001b[43mssl_context\u001b[49m\u001b[43m,\u001b[49m\n\u001b[0;32m    667\u001b[0m \u001b[43m    \u001b[49m\u001b[43mtls_in_tls\u001b[49m\u001b[38;5;241;43m=\u001b[39;49m\u001b[43mtls_in_tls\u001b[49m\u001b[43m,\u001b[49m\n\u001b[0;32m    668\u001b[0m \u001b[43m    \u001b[49m\u001b[43massert_hostname\u001b[49m\u001b[38;5;241;43m=\u001b[39;49m\u001b[38;5;28;43mself\u001b[39;49m\u001b[38;5;241;43m.\u001b[39;49m\u001b[43massert_hostname\u001b[49m\u001b[43m,\u001b[49m\n\u001b[0;32m    669\u001b[0m \u001b[43m    \u001b[49m\u001b[43massert_fingerprint\u001b[49m\u001b[38;5;241;43m=\u001b[39;49m\u001b[38;5;28;43mself\u001b[39;49m\u001b[38;5;241;43m.\u001b[39;49m\u001b[43massert_fingerprint\u001b[49m\u001b[43m,\u001b[49m\n\u001b[0;32m    670\u001b[0m \u001b[43m\u001b[49m\u001b[43m)\u001b[49m\n\u001b[0;32m    671\u001b[0m \u001b[38;5;28mself\u001b[39m\u001b[38;5;241m.\u001b[39msock \u001b[38;5;241m=\u001b[39m sock_and_verified\u001b[38;5;241m.\u001b[39msocket\n\u001b[0;32m    673\u001b[0m \u001b[38;5;66;03m# Forwarding proxies can never have a verified target since\u001b[39;00m\n\u001b[0;32m    674\u001b[0m \u001b[38;5;66;03m# the proxy is the one doing the verification. Should instead\u001b[39;00m\n\u001b[0;32m    675\u001b[0m \u001b[38;5;66;03m# use a CONNECT tunnel in order to verify the target.\u001b[39;00m\n\u001b[0;32m    676\u001b[0m \u001b[38;5;66;03m# See: https://github.com/urllib3/urllib3/issues/3267.\u001b[39;00m\n",
      "File \u001b[1;32mc:\\Users\\1027d\\AppData\\Local\\Programs\\Python\\Python311\\Lib\\site-packages\\urllib3\\connection.py:806\u001b[0m, in \u001b[0;36m_ssl_wrap_socket_and_match_hostname\u001b[1;34m(sock, cert_reqs, ssl_version, ssl_minimum_version, ssl_maximum_version, cert_file, key_file, key_password, ca_certs, ca_cert_dir, ca_cert_data, assert_hostname, assert_fingerprint, server_hostname, ssl_context, tls_in_tls)\u001b[0m\n\u001b[0;32m    803\u001b[0m     \u001b[38;5;28;01mif\u001b[39;00m is_ipaddress(normalized):\n\u001b[0;32m    804\u001b[0m         server_hostname \u001b[38;5;241m=\u001b[39m normalized\n\u001b[1;32m--> 806\u001b[0m ssl_sock \u001b[38;5;241m=\u001b[39m \u001b[43mssl_wrap_socket\u001b[49m\u001b[43m(\u001b[49m\n\u001b[0;32m    807\u001b[0m \u001b[43m    \u001b[49m\u001b[43msock\u001b[49m\u001b[38;5;241;43m=\u001b[39;49m\u001b[43msock\u001b[49m\u001b[43m,\u001b[49m\n\u001b[0;32m    808\u001b[0m \u001b[43m    \u001b[49m\u001b[43mkeyfile\u001b[49m\u001b[38;5;241;43m=\u001b[39;49m\u001b[43mkey_file\u001b[49m\u001b[43m,\u001b[49m\n\u001b[0;32m    809\u001b[0m \u001b[43m    \u001b[49m\u001b[43mcertfile\u001b[49m\u001b[38;5;241;43m=\u001b[39;49m\u001b[43mcert_file\u001b[49m\u001b[43m,\u001b[49m\n\u001b[0;32m    810\u001b[0m \u001b[43m    \u001b[49m\u001b[43mkey_password\u001b[49m\u001b[38;5;241;43m=\u001b[39;49m\u001b[43mkey_password\u001b[49m\u001b[43m,\u001b[49m\n\u001b[0;32m    811\u001b[0m \u001b[43m    \u001b[49m\u001b[43mca_certs\u001b[49m\u001b[38;5;241;43m=\u001b[39;49m\u001b[43mca_certs\u001b[49m\u001b[43m,\u001b[49m\n\u001b[0;32m    812\u001b[0m \u001b[43m    \u001b[49m\u001b[43mca_cert_dir\u001b[49m\u001b[38;5;241;43m=\u001b[39;49m\u001b[43mca_cert_dir\u001b[49m\u001b[43m,\u001b[49m\n\u001b[0;32m    813\u001b[0m \u001b[43m    \u001b[49m\u001b[43mca_cert_data\u001b[49m\u001b[38;5;241;43m=\u001b[39;49m\u001b[43mca_cert_data\u001b[49m\u001b[43m,\u001b[49m\n\u001b[0;32m    814\u001b[0m \u001b[43m    \u001b[49m\u001b[43mserver_hostname\u001b[49m\u001b[38;5;241;43m=\u001b[39;49m\u001b[43mserver_hostname\u001b[49m\u001b[43m,\u001b[49m\n\u001b[0;32m    815\u001b[0m \u001b[43m    \u001b[49m\u001b[43mssl_context\u001b[49m\u001b[38;5;241;43m=\u001b[39;49m\u001b[43mcontext\u001b[49m\u001b[43m,\u001b[49m\n\u001b[0;32m    816\u001b[0m \u001b[43m    \u001b[49m\u001b[43mtls_in_tls\u001b[49m\u001b[38;5;241;43m=\u001b[39;49m\u001b[43mtls_in_tls\u001b[49m\u001b[43m,\u001b[49m\n\u001b[0;32m    817\u001b[0m \u001b[43m\u001b[49m\u001b[43m)\u001b[49m\n\u001b[0;32m    819\u001b[0m \u001b[38;5;28;01mtry\u001b[39;00m:\n\u001b[0;32m    820\u001b[0m     \u001b[38;5;28;01mif\u001b[39;00m assert_fingerprint:\n",
      "File \u001b[1;32mc:\\Users\\1027d\\AppData\\Local\\Programs\\Python\\Python311\\Lib\\site-packages\\urllib3\\util\\ssl_.py:440\u001b[0m, in \u001b[0;36mssl_wrap_socket\u001b[1;34m(sock, keyfile, certfile, cert_reqs, ca_certs, server_hostname, ssl_version, ciphers, ssl_context, ca_cert_dir, key_password, ca_cert_data, tls_in_tls)\u001b[0m\n\u001b[0;32m    438\u001b[0m \u001b[38;5;28;01mif\u001b[39;00m ca_certs \u001b[38;5;129;01mor\u001b[39;00m ca_cert_dir \u001b[38;5;129;01mor\u001b[39;00m ca_cert_data:\n\u001b[0;32m    439\u001b[0m     \u001b[38;5;28;01mtry\u001b[39;00m:\n\u001b[1;32m--> 440\u001b[0m         \u001b[43mcontext\u001b[49m\u001b[38;5;241;43m.\u001b[39;49m\u001b[43mload_verify_locations\u001b[49m\u001b[43m(\u001b[49m\u001b[43mca_certs\u001b[49m\u001b[43m,\u001b[49m\u001b[43m \u001b[49m\u001b[43mca_cert_dir\u001b[49m\u001b[43m,\u001b[49m\u001b[43m \u001b[49m\u001b[43mca_cert_data\u001b[49m\u001b[43m)\u001b[49m\n\u001b[0;32m    441\u001b[0m     \u001b[38;5;28;01mexcept\u001b[39;00m \u001b[38;5;167;01mOSError\u001b[39;00m \u001b[38;5;28;01mas\u001b[39;00m e:\n\u001b[0;32m    442\u001b[0m         \u001b[38;5;28;01mraise\u001b[39;00m SSLError(e) \u001b[38;5;28;01mfrom\u001b[39;00m \u001b[38;5;21;01me\u001b[39;00m\n",
      "\u001b[1;31mKeyboardInterrupt\u001b[0m: "
     ]
    }
   ],
   "source": [
    "puuids = []\n",
    "\n",
    "i = 0\n",
    "while i < len(summoners_id):\n",
    "    summoner_id = summoners_id[i]\n",
    "    link_puuid = f\"https://na1.api.riotgames.com/lol/summoner/v4/summoners/{summoner_id}?api_key=RGAPI-{api_key}\"\n",
    "    response_puuid = requests.get(link_puuid, headers = headers)\n",
    "    if response_puuid.status_code == 200:\n",
    "        puuids.append(response_puuid.json()['puuid'])\n",
    "    else:\n",
    "        print(response_puuid.json())\n",
    "        time.sleep(120)\n",
    "        continue\n",
    "    i += 1"
   ]
  },
  {
   "cell_type": "code",
   "execution_count": 3,
   "metadata": {},
   "outputs": [],
   "source": []
  },
  {
   "cell_type": "code",
   "execution_count": 8,
   "metadata": {},
   "outputs": [],
   "source": [
    "temp = pd.DataFrame({\"puuids\": puuids})"
   ]
  },
  {
   "cell_type": "code",
   "execution_count": 9,
   "metadata": {},
   "outputs": [],
   "source": [
    "temp.to_csv(\"challengers_puuids.csv\", index = False)"
   ]
  },
  {
   "cell_type": "code",
   "execution_count": 3,
   "metadata": {},
   "outputs": [],
   "source": [
    "df = pd.read_csv(\"challengers_puuids.csv\")"
   ]
  },
  {
   "cell_type": "code",
   "execution_count": 7,
   "metadata": {},
   "outputs": [
    {
     "data": {
      "text/html": [
       "<div>\n",
       "<style scoped>\n",
       "    .dataframe tbody tr th:only-of-type {\n",
       "        vertical-align: middle;\n",
       "    }\n",
       "\n",
       "    .dataframe tbody tr th {\n",
       "        vertical-align: top;\n",
       "    }\n",
       "\n",
       "    .dataframe thead th {\n",
       "        text-align: right;\n",
       "    }\n",
       "</style>\n",
       "<table border=\"1\" class=\"dataframe\">\n",
       "  <thead>\n",
       "    <tr style=\"text-align: right;\">\n",
       "      <th></th>\n",
       "      <th>puuids</th>\n",
       "    </tr>\n",
       "  </thead>\n",
       "  <tbody>\n",
       "    <tr>\n",
       "      <th>0</th>\n",
       "      <td>sMldn-KsHSWZ0c_HYlCIDgai-6IELScbuvszb5Xg1nWIm7...</td>\n",
       "    </tr>\n",
       "    <tr>\n",
       "      <th>1</th>\n",
       "      <td>PjqaHqL-1JO3mmGoCdvs2XIdRElh29m0eTgDFuNtHNC-Gx...</td>\n",
       "    </tr>\n",
       "    <tr>\n",
       "      <th>2</th>\n",
       "      <td>VnItYUCBIrK1b_n_gfHy4QAxAJhLYa8o5pMUEnUa3F5UdV...</td>\n",
       "    </tr>\n",
       "    <tr>\n",
       "      <th>3</th>\n",
       "      <td>S3rHEPzwjGx0p5aew_Xx5TyhBwVzoOdmg_jQOd0aoC-9rS...</td>\n",
       "    </tr>\n",
       "    <tr>\n",
       "      <th>4</th>\n",
       "      <td>ma7r5IwEMaxSvvbf0YTfAGmHUkIRNYCZosR-6P93YIuXwQ...</td>\n",
       "    </tr>\n",
       "    <tr>\n",
       "      <th>...</th>\n",
       "      <td>...</td>\n",
       "    </tr>\n",
       "    <tr>\n",
       "      <th>295</th>\n",
       "      <td>TyD7jQutBqugruEeC0z0_9eusmDXdPOxMdaKJPGJDYJ37o...</td>\n",
       "    </tr>\n",
       "    <tr>\n",
       "      <th>296</th>\n",
       "      <td>Mt6pKtktcFEg9Oa8oN2rvmgZgY7LTEBPmcW19KTvWbG90S...</td>\n",
       "    </tr>\n",
       "    <tr>\n",
       "      <th>297</th>\n",
       "      <td>M8GoPKXagCB-UOggPfWb6xJFaIhNqJuvH3RbJPp8QBbbXm...</td>\n",
       "    </tr>\n",
       "    <tr>\n",
       "      <th>298</th>\n",
       "      <td>DYwPOmdM_BWLeTRtYicQSiiVHwhHmGM_PoSW--6ErBq3Hs...</td>\n",
       "    </tr>\n",
       "    <tr>\n",
       "      <th>299</th>\n",
       "      <td>idj7p_jXcj-thjxZcuF3bB7TQjjBytDpU7nGrSKCXn_S32...</td>\n",
       "    </tr>\n",
       "  </tbody>\n",
       "</table>\n",
       "<p>300 rows × 1 columns</p>\n",
       "</div>"
      ],
      "text/plain": [
       "                                                puuids\n",
       "0    sMldn-KsHSWZ0c_HYlCIDgai-6IELScbuvszb5Xg1nWIm7...\n",
       "1    PjqaHqL-1JO3mmGoCdvs2XIdRElh29m0eTgDFuNtHNC-Gx...\n",
       "2    VnItYUCBIrK1b_n_gfHy4QAxAJhLYa8o5pMUEnUa3F5UdV...\n",
       "3    S3rHEPzwjGx0p5aew_Xx5TyhBwVzoOdmg_jQOd0aoC-9rS...\n",
       "4    ma7r5IwEMaxSvvbf0YTfAGmHUkIRNYCZosR-6P93YIuXwQ...\n",
       "..                                                 ...\n",
       "295  TyD7jQutBqugruEeC0z0_9eusmDXdPOxMdaKJPGJDYJ37o...\n",
       "296  Mt6pKtktcFEg9Oa8oN2rvmgZgY7LTEBPmcW19KTvWbG90S...\n",
       "297  M8GoPKXagCB-UOggPfWb6xJFaIhNqJuvH3RbJPp8QBbbXm...\n",
       "298  DYwPOmdM_BWLeTRtYicQSiiVHwhHmGM_PoSW--6ErBq3Hs...\n",
       "299  idj7p_jXcj-thjxZcuF3bB7TQjjBytDpU7nGrSKCXn_S32...\n",
       "\n",
       "[300 rows x 1 columns]"
      ]
     },
     "execution_count": 7,
     "metadata": {},
     "output_type": "execute_result"
    }
   ],
   "source": [
    "df"
   ]
  },
  {
   "cell_type": "code",
   "execution_count": 80,
   "metadata": {},
   "outputs": [],
   "source": [
    "# link_riotid = f\"https://na1.api.riotgames.com/lol/summoner/v4/summoners/{summoner_id}?api_key=RGAPI-{api_key}\"\n",
    "# for i, summoner_id in enumerate(summoners_id):\n",
    "#     link_puuid = f\"https://na1.api.riotgames.com/lol/summoner/v4/summoners/{summoner_id}?api_key=RGAPI-{api_key}\"\n",
    "#     response_puuid = requests.get(link_puuid, headers = headers)\n",
    "#     try:\n",
    "#         puuids.append(response_puuid.json()['puuid'])\n",
    "#     except:\n",
    "#         print(response_puuid.json())\n",
    "#         time.sleep(5)"
   ]
  },
  {
   "cell_type": "code",
   "execution_count": 10,
   "metadata": {},
   "outputs": [
    {
     "data": {
      "text/plain": [
       "300"
      ]
     },
     "execution_count": 10,
     "metadata": {},
     "output_type": "execute_result"
    }
   ],
   "source": [
    "len(puuids)"
   ]
  },
  {
   "cell_type": "code",
   "execution_count": 2,
   "metadata": {},
   "outputs": [],
   "source": [
    "team_comb_data = []\n",
    "team_members = []\n",
    "winner = []"
   ]
  },
  {
   "cell_type": "code",
   "execution_count": 5,
   "metadata": {},
   "outputs": [],
   "source": [
    "puuids_df = pd.read_csv(\"challengers_puuids.csv\")"
   ]
  },
  {
   "cell_type": "code",
   "execution_count": 6,
   "metadata": {},
   "outputs": [],
   "source": [
    "puuids = list(puuids_df['puuids'])"
   ]
  },
  {
   "cell_type": "code",
   "execution_count": 7,
   "metadata": {},
   "outputs": [],
   "source": [
    "# puuids = puuids[:2]"
   ]
  },
  {
   "cell_type": "code",
   "execution_count": 7,
   "metadata": {},
   "outputs": [
    {
     "name": "stdout",
     "output_type": "stream",
     "text": [
      "{'status': {'message': 'Rate limit exceeded', 'status_code': 429}}\n",
      "{'status': {'message': 'Rate limit exceeded', 'status_code': 429}}\n",
      "{'status': {'message': 'Rate limit exceeded', 'status_code': 429}}\n",
      "{'status': {'message': 'Rate limit exceeded', 'status_code': 429}}\n",
      "{'status': {'message': 'Rate limit exceeded', 'status_code': 429}}\n",
      "{'status': {'message': 'Rate limit exceeded', 'status_code': 429}}\n",
      "{'status': {'message': 'Rate limit exceeded', 'status_code': 429}}\n",
      "{'status': {'message': 'Rate limit exceeded', 'status_code': 429}}\n",
      "{'status': {'message': 'Rate limit exceeded', 'status_code': 429}}\n",
      "{'status': {'message': 'Rate limit exceeded', 'status_code': 429}}\n",
      "{'status': {'message': 'Rate limit exceeded', 'status_code': 429}}\n",
      "{'status': {'message': 'Rate limit exceeded', 'status_code': 429}}\n",
      "{'status': {'message': 'Internal server error', 'status_code': 500}}\n",
      "[{'bans': [{'championId': 15, 'pickTurn': 1}, {'championId': 54, 'pickTurn': 2}, {'championId': 61, 'pickTurn': 3}, {'championId': 235, 'pickTurn': 4}, {'championId': 134, 'pickTurn': 5}], 'objectives': {'baron': {'first': False, 'kills': 0}, 'champion': {'first': False, 'kills': 44}, 'dragon': {'first': False, 'kills': 2}, 'horde': {'first': False, 'kills': 0}, 'inhibitor': {'first': True, 'kills': 1}, 'riftHerald': {'first': False, 'kills': 0}, 'tower': {'first': True, 'kills': 7}}, 'teamId': 100, 'win': True}, {'bans': [{'championId': 76, 'pickTurn': 6}, {'championId': 107, 'pickTurn': 7}, {'championId': 119, 'pickTurn': 8}, {'championId': 517, 'pickTurn': 9}, {'championId': 23, 'pickTurn': 10}], 'objectives': {'baron': {'first': True, 'kills': 2}, 'champion': {'first': True, 'kills': 44}, 'dragon': {'first': True, 'kills': 3}, 'horde': {'first': False, 'kills': 0}, 'inhibitor': {'first': False, 'kills': 0}, 'riftHerald': {'first': True, 'kills': 2}, 'tower': {'first': False, 'kills': 7}}, 'teamId': 200, 'win': False}]\n",
      "player:  29\n",
      "match:  94\n",
      "[{'bans': [{'championId': 897, 'pickTurn': 1}, {'championId': 203, 'pickTurn': 2}, {'championId': 104, 'pickTurn': 3}, {'championId': 117, 'pickTurn': 4}, {'championId': 84, 'pickTurn': 5}], 'objectives': {'baron': {'first': False, 'kills': 1}, 'champion': {'first': True, 'kills': 44}, 'dragon': {'first': False, 'kills': 4}, 'horde': {'first': False, 'kills': 0}, 'inhibitor': {'first': True, 'kills': 4}, 'riftHerald': {'first': True, 'kills': 2}, 'tower': {'first': True, 'kills': 11}}, 'teamId': 100, 'win': True}, {'bans': [{'championId': 238, 'pickTurn': 6}, {'championId': 54, 'pickTurn': 7}, {'championId': 166, 'pickTurn': 8}, {'championId': 119, 'pickTurn': 9}, {'championId': 876, 'pickTurn': 10}], 'objectives': {'baron': {'first': True, 'kills': 1}, 'champion': {'first': False, 'kills': 40}, 'dragon': {'first': True, 'kills': 1}, 'horde': {'first': False, 'kills': 0}, 'inhibitor': {'first': False, 'kills': 0}, 'riftHerald': {'first': False, 'kills': 0}, 'tower': {'first': False, 'kills': 4}}, 'teamId': 200, 'win': False}]\n",
      "player:  29\n",
      "match:  95\n",
      "[{'bans': [{'championId': 119, 'pickTurn': 1}, {'championId': 84, 'pickTurn': 2}, {'championId': 9, 'pickTurn': 3}, {'championId': 233, 'pickTurn': 4}, {'championId': 114, 'pickTurn': 5}], 'objectives': {'baron': {'first': False, 'kills': 0}, 'champion': {'first': False, 'kills': 27}, 'dragon': {'first': True, 'kills': 2}, 'horde': {'first': False, 'kills': 0}, 'inhibitor': {'first': False, 'kills': 0}, 'riftHerald': {'first': False, 'kills': 1}, 'tower': {'first': False, 'kills': 6}}, 'teamId': 100, 'win': False}, {'bans': [{'championId': 233, 'pickTurn': 6}, {'championId': 498, 'pickTurn': 7}, {'championId': 119, 'pickTurn': 8}, {'championId': 24, 'pickTurn': 9}, {'championId': 157, 'pickTurn': 10}], 'objectives': {'baron': {'first': True, 'kills': 1}, 'champion': {'first': True, 'kills': 35}, 'dragon': {'first': False, 'kills': 1}, 'horde': {'first': False, 'kills': 0}, 'inhibitor': {'first': True, 'kills': 1}, 'riftHerald': {'first': True, 'kills': 1}, 'tower': {'first': True, 'kills': 9}}, 'teamId': 200, 'win': True}]\n",
      "player:  29\n",
      "match:  96\n",
      "[{'bans': [{'championId': 61, 'pickTurn': 1}, {'championId': 24, 'pickTurn': 2}, {'championId': 78, 'pickTurn': 3}, {'championId': 53, 'pickTurn': 4}, {'championId': 203, 'pickTurn': 5}], 'objectives': {'baron': {'first': True, 'kills': 1}, 'champion': {'first': True, 'kills': 40}, 'dragon': {'first': True, 'kills': 5}, 'horde': {'first': False, 'kills': 0}, 'inhibitor': {'first': True, 'kills': 2}, 'riftHerald': {'first': True, 'kills': 2}, 'tower': {'first': True, 'kills': 10}}, 'teamId': 100, 'win': True}, {'bans': [{'championId': 104, 'pickTurn': 6}, {'championId': 157, 'pickTurn': 7}, {'championId': 53, 'pickTurn': 8}, {'championId': 111, 'pickTurn': 9}, {'championId': 24, 'pickTurn': 10}], 'objectives': {'baron': {'first': False, 'kills': 0}, 'champion': {'first': False, 'kills': 26}, 'dragon': {'first': False, 'kills': 0}, 'horde': {'first': False, 'kills': 0}, 'inhibitor': {'first': False, 'kills': 0}, 'riftHerald': {'first': False, 'kills': 0}, 'tower': {'first': False, 'kills': 3}}, 'teamId': 200, 'win': False}]\n",
      "player:  29\n",
      "match:  97\n",
      "[{'bans': [{'championId': 897, 'pickTurn': 1}, {'championId': 119, 'pickTurn': 2}, {'championId': 121, 'pickTurn': 3}, {'championId': 157, 'pickTurn': 4}, {'championId': 777, 'pickTurn': 5}], 'objectives': {'baron': {'first': True, 'kills': 1}, 'champion': {'first': False, 'kills': 28}, 'dragon': {'first': True, 'kills': 4}, 'horde': {'first': False, 'kills': 0}, 'inhibitor': {'first': True, 'kills': 3}, 'riftHerald': {'first': False, 'kills': 1}, 'tower': {'first': False, 'kills': 11}}, 'teamId': 100, 'win': True}, {'bans': [{'championId': 59, 'pickTurn': 6}, {'championId': 157, 'pickTurn': 7}, {'championId': 223, 'pickTurn': 8}, {'championId': 23, 'pickTurn': 9}, {'championId': 897, 'pickTurn': 10}], 'objectives': {'baron': {'first': False, 'kills': 0}, 'champion': {'first': True, 'kills': 21}, 'dragon': {'first': False, 'kills': 1}, 'horde': {'first': False, 'kills': 0}, 'inhibitor': {'first': False, 'kills': 0}, 'riftHerald': {'first': True, 'kills': 1}, 'tower': {'first': True, 'kills': 2}}, 'teamId': 200, 'win': False}]\n",
      "player:  29\n",
      "match:  98\n",
      "[{'bans': [{'championId': 20, 'pickTurn': 1}, {'championId': 238, 'pickTurn': 2}, {'championId': 119, 'pickTurn': 3}, {'championId': 53, 'pickTurn': 4}, {'championId': 23, 'pickTurn': 5}], 'objectives': {'baron': {'first': False, 'kills': 0}, 'champion': {'first': True, 'kills': 11}, 'dragon': {'first': False, 'kills': 0}, 'horde': {'first': False, 'kills': 0}, 'inhibitor': {'first': False, 'kills': 0}, 'riftHerald': {'first': False, 'kills': 0}, 'tower': {'first': True, 'kills': 5}}, 'teamId': 100, 'win': False}, {'bans': [{'championId': 134, 'pickTurn': 6}, {'championId': 23, 'pickTurn': 7}, {'championId': 233, 'pickTurn': 8}, {'championId': 51, 'pickTurn': 9}, {'championId': 555, 'pickTurn': 10}], 'objectives': {'baron': {'first': True, 'kills': 1}, 'champion': {'first': False, 'kills': 27}, 'dragon': {'first': True, 'kills': 3}, 'horde': {'first': False, 'kills': 0}, 'inhibitor': {'first': True, 'kills': 1}, 'riftHerald': {'first': True, 'kills': 2}, 'tower': {'first': False, 'kills': 9}}, 'teamId': 200, 'win': True}]\n",
      "player:  29\n",
      "match:  99\n",
      "{'status': {'message': 'Rate limit exceeded', 'status_code': 429}}\n",
      "{'status': {'message': 'Internal server error', 'status_code': 500}}\n",
      "{'status': {'message': 'Rate limit exceeded', 'status_code': 429}}\n",
      "{'status': {'message': 'Rate limit exceeded', 'status_code': 429}}\n",
      "{'status': {'message': 'Rate limit exceeded', 'status_code': 429}}\n",
      "{'status': {'message': 'Internal server error', 'status_code': 500}}\n",
      "{'status': {'message': 'Rate limit exceeded', 'status_code': 429}}\n",
      "{'status': {'message': 'Rate limit exceeded', 'status_code': 429}}\n",
      "{'status': {'message': 'Rate limit exceeded', 'status_code': 429}}\n",
      "{'status': {'message': 'Rate limit exceeded', 'status_code': 429}}\n",
      "{'status': {'message': 'Rate limit exceeded', 'status_code': 429}}\n",
      "{'status': {'message': 'Rate limit exceeded', 'status_code': 429}}\n",
      "{'status': {'message': 'Rate limit exceeded', 'status_code': 429}}\n",
      "{'status': {'message': 'Rate limit exceeded', 'status_code': 429}}\n",
      "{'status': {'message': 'Rate limit exceeded', 'status_code': 429}}\n",
      "{'status': {'message': 'Rate limit exceeded', 'status_code': 429}}\n",
      "{'status': {'message': 'Rate limit exceeded', 'status_code': 429}}\n",
      "{'status': {'message': 'Rate limit exceeded', 'status_code': 429}}\n",
      "{'status': {'message': 'Rate limit exceeded', 'status_code': 429}}\n",
      "{'status': {'message': 'Rate limit exceeded', 'status_code': 429}}\n",
      "{'status': {'message': 'Rate limit exceeded', 'status_code': 429}}\n",
      "{'status': {'message': 'Rate limit exceeded', 'status_code': 429}}\n",
      "{'status': {'message': 'Rate limit exceeded', 'status_code': 429}}\n",
      "{'status': {'message': 'Rate limit exceeded', 'status_code': 429}}\n",
      "{'status': {'message': 'Rate limit exceeded', 'status_code': 429}}\n",
      "{'status': {'message': 'Rate limit exceeded', 'status_code': 429}}\n",
      "{'status': {'message': 'Rate limit exceeded', 'status_code': 429}}\n",
      "{'status': {'message': 'Rate limit exceeded', 'status_code': 429}}\n",
      "{'status': {'message': 'Rate limit exceeded', 'status_code': 429}}\n",
      "{'status': {'message': 'Rate limit exceeded', 'status_code': 429}}\n",
      "{'status': {'message': 'Rate limit exceeded', 'status_code': 429}}\n",
      "{'status': {'message': 'Rate limit exceeded', 'status_code': 429}}\n",
      "{'status': {'message': 'Rate limit exceeded', 'status_code': 429}}\n",
      "{'status': {'message': 'Rate limit exceeded', 'status_code': 429}}\n",
      "{'status': {'message': 'Rate limit exceeded', 'status_code': 429}}\n",
      "{'status': {'message': 'Rate limit exceeded', 'status_code': 429}}\n",
      "{'status': {'message': 'Rate limit exceeded', 'status_code': 429}}\n",
      "{'status': {'message': 'Rate limit exceeded', 'status_code': 429}}\n",
      "{'status': {'message': 'Rate limit exceeded', 'status_code': 429}}\n",
      "{'status': {'message': 'Rate limit exceeded', 'status_code': 429}}\n",
      "{'status': {'message': 'Rate limit exceeded', 'status_code': 429}}\n",
      "{'status': {'message': 'Rate limit exceeded', 'status_code': 429}}\n",
      "{'status': {'message': 'Rate limit exceeded', 'status_code': 429}}\n",
      "{'status': {'message': 'Rate limit exceeded', 'status_code': 429}}\n",
      "{'status': {'message': 'Rate limit exceeded', 'status_code': 429}}\n",
      "{'status': {'message': 'Rate limit exceeded', 'status_code': 429}}\n",
      "{'status': {'message': 'Rate limit exceeded', 'status_code': 429}}\n",
      "{'status': {'message': 'Rate limit exceeded', 'status_code': 429}}\n",
      "{'status': {'message': 'Rate limit exceeded', 'status_code': 429}}\n",
      "{'status': {'message': 'Rate limit exceeded', 'status_code': 429}}\n",
      "{'status': {'message': 'Rate limit exceeded', 'status_code': 429}}\n",
      "{'status': {'message': 'Rate limit exceeded', 'status_code': 429}}\n",
      "{'status': {'message': 'Rate limit exceeded', 'status_code': 429}}\n",
      "{'status': {'message': 'Rate limit exceeded', 'status_code': 429}}\n",
      "{'status': {'message': 'Rate limit exceeded', 'status_code': 429}}\n",
      "{'status': {'message': 'Rate limit exceeded', 'status_code': 429}}\n",
      "{'status': {'message': 'Rate limit exceeded', 'status_code': 429}}\n",
      "{'status': {'message': 'Rate limit exceeded', 'status_code': 429}}\n",
      "{'status': {'message': 'Rate limit exceeded', 'status_code': 429}}\n",
      "{'status': {'message': 'Rate limit exceeded', 'status_code': 429}}\n",
      "{'status': {'message': 'Rate limit exceeded', 'status_code': 429}}\n",
      "{'status': {'message': 'Rate limit exceeded', 'status_code': 429}}\n",
      "{'status': {'message': 'Rate limit exceeded', 'status_code': 429}}\n",
      "{'status': {'message': 'Rate limit exceeded', 'status_code': 429}}\n",
      "{'status': {'message': 'Rate limit exceeded', 'status_code': 429}}\n",
      "{'status': {'message': 'Rate limit exceeded', 'status_code': 429}}\n",
      "{'status': {'message': 'Rate limit exceeded', 'status_code': 429}}\n",
      "{'status': {'message': 'Rate limit exceeded', 'status_code': 429}}\n",
      "{'status': {'message': 'Rate limit exceeded', 'status_code': 429}}\n",
      "{'status': {'message': 'Rate limit exceeded', 'status_code': 429}}\n",
      "{'status': {'message': 'Rate limit exceeded', 'status_code': 429}}\n",
      "{'status': {'message': 'Rate limit exceeded', 'status_code': 429}}\n",
      "{'status': {'message': 'Rate limit exceeded', 'status_code': 429}}\n",
      "{'status': {'message': 'Rate limit exceeded', 'status_code': 429}}\n",
      "{'status': {'message': 'Rate limit exceeded', 'status_code': 429}}\n",
      "{'status': {'message': 'Rate limit exceeded', 'status_code': 429}}\n",
      "{'status': {'message': 'Rate limit exceeded', 'status_code': 429}}\n",
      "{'status': {'message': 'Rate limit exceeded', 'status_code': 429}}\n",
      "{'status': {'message': 'Rate limit exceeded', 'status_code': 429}}\n",
      "{'status': {'message': 'Rate limit exceeded', 'status_code': 429}}\n",
      "{'status': {'message': 'Rate limit exceeded', 'status_code': 429}}\n",
      "{'status': {'message': 'Rate limit exceeded', 'status_code': 429}}\n",
      "{'status': {'message': 'Rate limit exceeded', 'status_code': 429}}\n",
      "{'status': {'message': 'Rate limit exceeded', 'status_code': 429}}\n",
      "{'status': {'message': 'Rate limit exceeded', 'status_code': 429}}\n",
      "{'status': {'message': 'Rate limit exceeded', 'status_code': 429}}\n",
      "{'status': {'message': 'Rate limit exceeded', 'status_code': 429}}\n",
      "{'status': {'message': 'Rate limit exceeded', 'status_code': 429}}\n",
      "{'status': {'message': 'Rate limit exceeded', 'status_code': 429}}\n",
      "{'status': {'message': 'Rate limit exceeded', 'status_code': 429}}\n",
      "{'status': {'message': 'Rate limit exceeded', 'status_code': 429}}\n",
      "[]\n",
      "player:  145\n",
      "match:  74\n",
      "{'status': {'message': 'Rate limit exceeded', 'status_code': 429}}\n",
      "{'status': {'message': 'Rate limit exceeded', 'status_code': 429}}\n",
      "{'status': {'message': 'Rate limit exceeded', 'status_code': 429}}\n",
      "{'status': {'message': 'Rate limit exceeded', 'status_code': 429}}\n",
      "{'status': {'message': 'Rate limit exceeded', 'status_code': 429}}\n",
      "{'status': {'message': 'Rate limit exceeded', 'status_code': 429}}\n",
      "{'status': {'message': 'Rate limit exceeded', 'status_code': 429}}\n",
      "{'status': {'message': 'Rate limit exceeded', 'status_code': 429}}\n",
      "{'status': {'message': 'Rate limit exceeded', 'status_code': 429}}\n",
      "{'status': {'message': 'Rate limit exceeded', 'status_code': 429}}\n",
      "{'status': {'message': 'Rate limit exceeded', 'status_code': 429}}\n",
      "{'status': {'message': 'Rate limit exceeded', 'status_code': 429}}\n",
      "{'status': {'message': 'Rate limit exceeded', 'status_code': 429}}\n",
      "{'status': {'message': 'Rate limit exceeded', 'status_code': 429}}\n",
      "{'status': {'message': 'Rate limit exceeded', 'status_code': 429}}\n",
      "{'status': {'message': 'Rate limit exceeded', 'status_code': 429}}\n",
      "{'status': {'message': 'Rate limit exceeded', 'status_code': 429}}\n",
      "{'status': {'message': 'Rate limit exceeded', 'status_code': 429}}\n",
      "{'status': {'message': 'Rate limit exceeded', 'status_code': 429}}\n",
      "{'status': {'message': 'Rate limit exceeded', 'status_code': 429}}\n",
      "{'status': {'message': 'Rate limit exceeded', 'status_code': 429}}\n",
      "{'status': {'message': 'Rate limit exceeded', 'status_code': 429}}\n",
      "{'status': {'message': 'Rate limit exceeded', 'status_code': 429}}\n",
      "{'status': {'message': 'Rate limit exceeded', 'status_code': 429}}\n",
      "{'status': {'message': 'Rate limit exceeded', 'status_code': 429}}\n",
      "{'status': {'message': 'Rate limit exceeded', 'status_code': 429}}\n",
      "{'status': {'message': 'Rate limit exceeded', 'status_code': 429}}\n",
      "{'status': {'message': 'Rate limit exceeded', 'status_code': 429}}\n",
      "{'status': {'message': 'Rate limit exceeded', 'status_code': 429}}\n",
      "{'status': {'message': 'Rate limit exceeded', 'status_code': 429}}\n",
      "{'status': {'message': 'Rate limit exceeded', 'status_code': 429}}\n",
      "{'status': {'message': 'Rate limit exceeded', 'status_code': 429}}\n",
      "{'status': {'message': 'Rate limit exceeded', 'status_code': 429}}\n",
      "{'status': {'message': 'Rate limit exceeded', 'status_code': 429}}\n",
      "{'status': {'message': 'Rate limit exceeded', 'status_code': 429}}\n",
      "{'status': {'message': 'Rate limit exceeded', 'status_code': 429}}\n",
      "{'status': {'message': 'Rate limit exceeded', 'status_code': 429}}\n",
      "{'status': {'message': 'Rate limit exceeded', 'status_code': 429}}\n",
      "{'status': {'message': 'Rate limit exceeded', 'status_code': 429}}\n",
      "{'status': {'message': 'Rate limit exceeded', 'status_code': 429}}\n",
      "{'status': {'message': 'Rate limit exceeded', 'status_code': 429}}\n",
      "{'status': {'message': 'Rate limit exceeded', 'status_code': 429}}\n",
      "{'status': {'message': 'Rate limit exceeded', 'status_code': 429}}\n",
      "{'status': {'message': 'Rate limit exceeded', 'status_code': 429}}\n",
      "{'status': {'message': 'Rate limit exceeded', 'status_code': 429}}\n",
      "{'status': {'message': 'Rate limit exceeded', 'status_code': 429}}\n",
      "{'status': {'message': 'Rate limit exceeded', 'status_code': 429}}\n",
      "{'status': {'message': 'Rate limit exceeded', 'status_code': 429}}\n",
      "{'status': {'message': 'Rate limit exceeded', 'status_code': 429}}\n",
      "{'status': {'message': 'Rate limit exceeded', 'status_code': 429}}\n",
      "{'status': {'message': 'Rate limit exceeded', 'status_code': 429}}\n",
      "{'status': {'message': 'Rate limit exceeded', 'status_code': 429}}\n",
      "{'status': {'message': 'Rate limit exceeded', 'status_code': 429}}\n",
      "{'status': {'message': 'Rate limit exceeded', 'status_code': 429}}\n",
      "{'status': {'message': 'Rate limit exceeded', 'status_code': 429}}\n",
      "{'status': {'message': 'Rate limit exceeded', 'status_code': 429}}\n",
      "{'status': {'message': 'Rate limit exceeded', 'status_code': 429}}\n",
      "{'status': {'message': 'Rate limit exceeded', 'status_code': 429}}\n",
      "{'status': {'message': 'Rate limit exceeded', 'status_code': 429}}\n",
      "[]\n",
      "player:  204\n",
      "match:  84\n",
      "{'status': {'message': 'Rate limit exceeded', 'status_code': 429}}\n",
      "{'status': {'message': 'Rate limit exceeded', 'status_code': 429}}\n",
      "{'status': {'message': 'Rate limit exceeded', 'status_code': 429}}\n",
      "{'status': {'message': 'Rate limit exceeded', 'status_code': 429}}\n",
      "{'status': {'message': 'Rate limit exceeded', 'status_code': 429}}\n",
      "[]\n",
      "player:  209\n",
      "match:  65\n",
      "{'status': {'message': 'Rate limit exceeded', 'status_code': 429}}\n",
      "{'status': {'message': 'Rate limit exceeded', 'status_code': 429}}\n",
      "{'status': {'message': 'Rate limit exceeded', 'status_code': 429}}\n",
      "{'status': {'message': 'Rate limit exceeded', 'status_code': 429}}\n",
      "{'status': {'message': 'Rate limit exceeded', 'status_code': 429}}\n",
      "{'status': {'message': 'Rate limit exceeded', 'status_code': 429}}\n",
      "{'status': {'message': 'Rate limit exceeded', 'status_code': 429}}\n",
      "{'status': {'message': 'Rate limit exceeded', 'status_code': 429}}\n",
      "{'status': {'message': 'Rate limit exceeded', 'status_code': 429}}\n",
      "{'status': {'message': 'Rate limit exceeded', 'status_code': 429}}\n",
      "{'status': {'message': 'Rate limit exceeded', 'status_code': 429}}\n",
      "{'status': {'message': 'Rate limit exceeded', 'status_code': 429}}\n",
      "{'status': {'message': 'Rate limit exceeded', 'status_code': 429}}\n",
      "{'status': {'message': 'Rate limit exceeded', 'status_code': 429}}\n",
      "{'status': {'message': 'Rate limit exceeded', 'status_code': 429}}\n",
      "{'status': {'message': 'Rate limit exceeded', 'status_code': 429}}\n",
      "{'status': {'message': 'Rate limit exceeded', 'status_code': 429}}\n",
      "{'status': {'message': 'Rate limit exceeded', 'status_code': 429}}\n",
      "{'status': {'message': 'Rate limit exceeded', 'status_code': 429}}\n",
      "{'status': {'message': 'Rate limit exceeded', 'status_code': 429}}\n",
      "{'status': {'message': 'Rate limit exceeded', 'status_code': 429}}\n",
      "{'status': {'message': 'Rate limit exceeded', 'status_code': 429}}\n",
      "{'status': {'message': 'Rate limit exceeded', 'status_code': 429}}\n",
      "{'status': {'message': 'Rate limit exceeded', 'status_code': 429}}\n",
      "{'status': {'message': 'Rate limit exceeded', 'status_code': 429}}\n",
      "{'status': {'message': 'Rate limit exceeded', 'status_code': 429}}\n",
      "{'status': {'message': 'Rate limit exceeded', 'status_code': 429}}\n",
      "{'status': {'message': 'Rate limit exceeded', 'status_code': 429}}\n",
      "{'status': {'message': 'Rate limit exceeded', 'status_code': 429}}\n",
      "{'status': {'message': 'Rate limit exceeded', 'status_code': 429}}\n",
      "[]\n",
      "player:  240\n",
      "match:  51\n",
      "{'status': {'message': 'Rate limit exceeded', 'status_code': 429}}\n",
      "{'status': {'message': 'Rate limit exceeded', 'status_code': 429}}\n",
      "{'status': {'message': 'Rate limit exceeded', 'status_code': 429}}\n",
      "{'status': {'message': 'Rate limit exceeded', 'status_code': 429}}\n",
      "{'status': {'message': 'Rate limit exceeded', 'status_code': 429}}\n",
      "{'status': {'message': 'Rate limit exceeded', 'status_code': 429}}\n",
      "{'status': {'message': 'Rate limit exceeded', 'status_code': 429}}\n",
      "{'status': {'message': 'Rate limit exceeded', 'status_code': 429}}\n",
      "{'status': {'message': 'Rate limit exceeded', 'status_code': 429}}\n",
      "{'status': {'message': 'Rate limit exceeded', 'status_code': 429}}\n",
      "{'status': {'message': 'Rate limit exceeded', 'status_code': 429}}\n",
      "{'status': {'message': 'Rate limit exceeded', 'status_code': 429}}\n",
      "{'status': {'message': 'Rate limit exceeded', 'status_code': 429}}\n",
      "{'status': {'message': 'Rate limit exceeded', 'status_code': 429}}\n",
      "{'status': {'message': 'Rate limit exceeded', 'status_code': 429}}\n",
      "{'status': {'message': 'Rate limit exceeded', 'status_code': 429}}\n",
      "{'status': {'message': 'Rate limit exceeded', 'status_code': 429}}\n",
      "{'status': {'message': 'Rate limit exceeded', 'status_code': 429}}\n",
      "{'status': {'message': 'Rate limit exceeded', 'status_code': 429}}\n",
      "{'status': {'message': 'Rate limit exceeded', 'status_code': 429}}\n",
      "{'status': {'message': 'Rate limit exceeded', 'status_code': 429}}\n",
      "{'status': {'message': 'Rate limit exceeded', 'status_code': 429}}\n",
      "{'status': {'message': 'Rate limit exceeded', 'status_code': 429}}\n",
      "{'status': {'message': 'Rate limit exceeded', 'status_code': 429}}\n",
      "{'status': {'message': 'Rate limit exceeded', 'status_code': 429}}\n",
      "{'status': {'message': 'Rate limit exceeded', 'status_code': 429}}\n",
      "{'status': {'message': 'Rate limit exceeded', 'status_code': 429}}\n",
      "{'status': {'message': 'Rate limit exceeded', 'status_code': 429}}\n",
      "{'status': {'message': 'Rate limit exceeded', 'status_code': 429}}\n",
      "{'status': {'message': 'Rate limit exceeded', 'status_code': 429}}\n",
      "{'status': {'message': 'Rate limit exceeded', 'status_code': 429}}\n",
      "{'status': {'message': 'Rate limit exceeded', 'status_code': 429}}\n",
      "{'status': {'message': 'Rate limit exceeded', 'status_code': 429}}\n",
      "{'status': {'message': 'Rate limit exceeded', 'status_code': 429}}\n",
      "{'status': {'message': 'Rate limit exceeded', 'status_code': 429}}\n",
      "{'status': {'message': 'Rate limit exceeded', 'status_code': 429}}\n",
      "{'status': {'message': 'Rate limit exceeded', 'status_code': 429}}\n",
      "{'status': {'message': 'Rate limit exceeded', 'status_code': 429}}\n",
      "{'status': {'message': 'Rate limit exceeded', 'status_code': 429}}\n"
     ]
    },
    {
     "ename": "JSONDecodeError",
     "evalue": "Expecting value: line 1 column 1 (char 0)",
     "output_type": "error",
     "traceback": [
      "\u001b[1;31m---------------------------------------------------------------------------\u001b[0m",
      "\u001b[1;31mJSONDecodeError\u001b[0m                           Traceback (most recent call last)",
      "File \u001b[1;32mc:\\Users\\1027d\\AppData\\Local\\Programs\\Python\\Python311\\Lib\\site-packages\\requests\\models.py:971\u001b[0m, in \u001b[0;36mResponse.json\u001b[1;34m(self, **kwargs)\u001b[0m\n\u001b[0;32m    970\u001b[0m \u001b[38;5;28;01mtry\u001b[39;00m:\n\u001b[1;32m--> 971\u001b[0m     \u001b[38;5;28;01mreturn\u001b[39;00m \u001b[43mcomplexjson\u001b[49m\u001b[38;5;241;43m.\u001b[39;49m\u001b[43mloads\u001b[49m\u001b[43m(\u001b[49m\u001b[38;5;28;43mself\u001b[39;49m\u001b[38;5;241;43m.\u001b[39;49m\u001b[43mtext\u001b[49m\u001b[43m,\u001b[49m\u001b[43m \u001b[49m\u001b[38;5;241;43m*\u001b[39;49m\u001b[38;5;241;43m*\u001b[39;49m\u001b[43mkwargs\u001b[49m\u001b[43m)\u001b[49m\n\u001b[0;32m    972\u001b[0m \u001b[38;5;28;01mexcept\u001b[39;00m JSONDecodeError \u001b[38;5;28;01mas\u001b[39;00m e:\n\u001b[0;32m    973\u001b[0m     \u001b[38;5;66;03m# Catch JSON-related errors and raise as requests.JSONDecodeError\u001b[39;00m\n\u001b[0;32m    974\u001b[0m     \u001b[38;5;66;03m# This aliases json.JSONDecodeError and simplejson.JSONDecodeError\u001b[39;00m\n",
      "File \u001b[1;32mc:\\Users\\1027d\\AppData\\Local\\Programs\\Python\\Python311\\Lib\\json\\__init__.py:346\u001b[0m, in \u001b[0;36mloads\u001b[1;34m(s, cls, object_hook, parse_float, parse_int, parse_constant, object_pairs_hook, **kw)\u001b[0m\n\u001b[0;32m    343\u001b[0m \u001b[38;5;28;01mif\u001b[39;00m (\u001b[38;5;28mcls\u001b[39m \u001b[38;5;129;01mis\u001b[39;00m \u001b[38;5;28;01mNone\u001b[39;00m \u001b[38;5;129;01mand\u001b[39;00m object_hook \u001b[38;5;129;01mis\u001b[39;00m \u001b[38;5;28;01mNone\u001b[39;00m \u001b[38;5;129;01mand\u001b[39;00m\n\u001b[0;32m    344\u001b[0m         parse_int \u001b[38;5;129;01mis\u001b[39;00m \u001b[38;5;28;01mNone\u001b[39;00m \u001b[38;5;129;01mand\u001b[39;00m parse_float \u001b[38;5;129;01mis\u001b[39;00m \u001b[38;5;28;01mNone\u001b[39;00m \u001b[38;5;129;01mand\u001b[39;00m\n\u001b[0;32m    345\u001b[0m         parse_constant \u001b[38;5;129;01mis\u001b[39;00m \u001b[38;5;28;01mNone\u001b[39;00m \u001b[38;5;129;01mand\u001b[39;00m object_pairs_hook \u001b[38;5;129;01mis\u001b[39;00m \u001b[38;5;28;01mNone\u001b[39;00m \u001b[38;5;129;01mand\u001b[39;00m \u001b[38;5;129;01mnot\u001b[39;00m kw):\n\u001b[1;32m--> 346\u001b[0m     \u001b[38;5;28;01mreturn\u001b[39;00m \u001b[43m_default_decoder\u001b[49m\u001b[38;5;241;43m.\u001b[39;49m\u001b[43mdecode\u001b[49m\u001b[43m(\u001b[49m\u001b[43ms\u001b[49m\u001b[43m)\u001b[49m\n\u001b[0;32m    347\u001b[0m \u001b[38;5;28;01mif\u001b[39;00m \u001b[38;5;28mcls\u001b[39m \u001b[38;5;129;01mis\u001b[39;00m \u001b[38;5;28;01mNone\u001b[39;00m:\n",
      "File \u001b[1;32mc:\\Users\\1027d\\AppData\\Local\\Programs\\Python\\Python311\\Lib\\json\\decoder.py:337\u001b[0m, in \u001b[0;36mJSONDecoder.decode\u001b[1;34m(self, s, _w)\u001b[0m\n\u001b[0;32m    333\u001b[0m \u001b[38;5;250m\u001b[39m\u001b[38;5;124;03m\"\"\"Return the Python representation of ``s`` (a ``str`` instance\u001b[39;00m\n\u001b[0;32m    334\u001b[0m \u001b[38;5;124;03mcontaining a JSON document).\u001b[39;00m\n\u001b[0;32m    335\u001b[0m \n\u001b[0;32m    336\u001b[0m \u001b[38;5;124;03m\"\"\"\u001b[39;00m\n\u001b[1;32m--> 337\u001b[0m obj, end \u001b[38;5;241m=\u001b[39m \u001b[38;5;28;43mself\u001b[39;49m\u001b[38;5;241;43m.\u001b[39;49m\u001b[43mraw_decode\u001b[49m\u001b[43m(\u001b[49m\u001b[43ms\u001b[49m\u001b[43m,\u001b[49m\u001b[43m \u001b[49m\u001b[43midx\u001b[49m\u001b[38;5;241;43m=\u001b[39;49m\u001b[43m_w\u001b[49m\u001b[43m(\u001b[49m\u001b[43ms\u001b[49m\u001b[43m,\u001b[49m\u001b[43m \u001b[49m\u001b[38;5;241;43m0\u001b[39;49m\u001b[43m)\u001b[49m\u001b[38;5;241;43m.\u001b[39;49m\u001b[43mend\u001b[49m\u001b[43m(\u001b[49m\u001b[43m)\u001b[49m\u001b[43m)\u001b[49m\n\u001b[0;32m    338\u001b[0m end \u001b[38;5;241m=\u001b[39m _w(s, end)\u001b[38;5;241m.\u001b[39mend()\n",
      "File \u001b[1;32mc:\\Users\\1027d\\AppData\\Local\\Programs\\Python\\Python311\\Lib\\json\\decoder.py:355\u001b[0m, in \u001b[0;36mJSONDecoder.raw_decode\u001b[1;34m(self, s, idx)\u001b[0m\n\u001b[0;32m    354\u001b[0m \u001b[38;5;28;01mexcept\u001b[39;00m \u001b[38;5;167;01mStopIteration\u001b[39;00m \u001b[38;5;28;01mas\u001b[39;00m err:\n\u001b[1;32m--> 355\u001b[0m     \u001b[38;5;28;01mraise\u001b[39;00m JSONDecodeError(\u001b[38;5;124m\"\u001b[39m\u001b[38;5;124mExpecting value\u001b[39m\u001b[38;5;124m\"\u001b[39m, s, err\u001b[38;5;241m.\u001b[39mvalue) \u001b[38;5;28;01mfrom\u001b[39;00m \u001b[38;5;28;01mNone\u001b[39;00m\n\u001b[0;32m    356\u001b[0m \u001b[38;5;28;01mreturn\u001b[39;00m obj, end\n",
      "\u001b[1;31mJSONDecodeError\u001b[0m: Expecting value: line 1 column 1 (char 0)",
      "\nDuring handling of the above exception, another exception occurred:\n",
      "\u001b[1;31mJSONDecodeError\u001b[0m                           Traceback (most recent call last)",
      "Cell \u001b[1;32mIn[7], line 23\u001b[0m\n\u001b[0;32m     21\u001b[0m response_match \u001b[38;5;241m=\u001b[39m requests\u001b[38;5;241m.\u001b[39mget(link_match, headers \u001b[38;5;241m=\u001b[39m headers)\n\u001b[0;32m     22\u001b[0m \u001b[38;5;28;01mif\u001b[39;00m response_match\u001b[38;5;241m.\u001b[39mstatus_code \u001b[38;5;241m!=\u001b[39m \u001b[38;5;241m200\u001b[39m:\n\u001b[1;32m---> 23\u001b[0m     \u001b[38;5;28mprint\u001b[39m(\u001b[43mresponse_match\u001b[49m\u001b[38;5;241;43m.\u001b[39;49m\u001b[43mjson\u001b[49m\u001b[43m(\u001b[49m\u001b[43m)\u001b[49m)\n\u001b[0;32m     24\u001b[0m     time\u001b[38;5;241m.\u001b[39msleep(\u001b[38;5;241m120\u001b[39m)\n\u001b[0;32m     25\u001b[0m     \u001b[38;5;28;01mcontinue\u001b[39;00m\n",
      "File \u001b[1;32mc:\\Users\\1027d\\AppData\\Local\\Programs\\Python\\Python311\\Lib\\site-packages\\requests\\models.py:975\u001b[0m, in \u001b[0;36mResponse.json\u001b[1;34m(self, **kwargs)\u001b[0m\n\u001b[0;32m    971\u001b[0m     \u001b[38;5;28;01mreturn\u001b[39;00m complexjson\u001b[38;5;241m.\u001b[39mloads(\u001b[38;5;28mself\u001b[39m\u001b[38;5;241m.\u001b[39mtext, \u001b[38;5;241m*\u001b[39m\u001b[38;5;241m*\u001b[39mkwargs)\n\u001b[0;32m    972\u001b[0m \u001b[38;5;28;01mexcept\u001b[39;00m JSONDecodeError \u001b[38;5;28;01mas\u001b[39;00m e:\n\u001b[0;32m    973\u001b[0m     \u001b[38;5;66;03m# Catch JSON-related errors and raise as requests.JSONDecodeError\u001b[39;00m\n\u001b[0;32m    974\u001b[0m     \u001b[38;5;66;03m# This aliases json.JSONDecodeError and simplejson.JSONDecodeError\u001b[39;00m\n\u001b[1;32m--> 975\u001b[0m     \u001b[38;5;28;01mraise\u001b[39;00m RequestsJSONDecodeError(e\u001b[38;5;241m.\u001b[39mmsg, e\u001b[38;5;241m.\u001b[39mdoc, e\u001b[38;5;241m.\u001b[39mpos)\n",
      "\u001b[1;31mJSONDecodeError\u001b[0m: Expecting value: line 1 column 1 (char 0)"
     ]
    }
   ],
   "source": [
    "# get match data from puuids of users\n",
    "i = 0\n",
    "while i < len(puuids):\n",
    "    puuid = puuids[i]\n",
    "    link_matchid = f\"https://americas.api.riotgames.com/lol/match/v5/matches/by-puuid/{puuid}/ids?start=0&count=100&api_key=RGAPI-{api_key}\"\n",
    "    response_matchids = requests.get(link_matchid, headers = headers)\n",
    "    \n",
    "    \n",
    "    if response_matchids.status_code != 200:\n",
    "        print(response_matchids.json())\n",
    "        time.sleep(120)\n",
    "        continue\n",
    "\n",
    "    i += 1\n",
    "    matches = response_matchids.json()\n",
    "    j = 0\n",
    "    while j < len(matches):\n",
    "            \n",
    "        matchid = matches[j]\n",
    "        link_match = f\"https://americas.api.riotgames.com/lol/match/v5/matches/{matchid}?api_key=RGAPI-{api_key}\"\n",
    "        response_match = requests.get(link_match, headers = headers)\n",
    "        if response_match.status_code != 200:\n",
    "            print(response_match.json())\n",
    "            time.sleep(120)\n",
    "            continue\n",
    "        match_data = response_match.json()\n",
    "        champ_comb = [md['championId'] for md in match_data['info']['participants']]\n",
    "        # user_ids = [md[\"riotIdGameName\"] + \"#\" + md[\"riotIdTagline\"] for md in match_data['info']['participants']]\n",
    "        team_comb_data.append(champ_comb)\n",
    "        \n",
    "        try:\n",
    "            user_ids = [md[\"riotIdGameName\"] + \"#\" + md[\"riotIdTagline\"] for md in match_data['info']['participants']]\n",
    "            team_members.append(user_ids)\n",
    "            if match_data['info']['teams'][0]['win'] == True:\n",
    "                winner.append(1)\n",
    "            else:\n",
    "                winner.append(0)\n",
    "        except:\n",
    "            print(match_data['info']['teams'])\n",
    "            print('player: ', i)\n",
    "            print('match: ', j)\n",
    "            if len(team_members) > len(winner):\n",
    "                team_members.pop(-1)\n",
    "            team_comb_data.pop(-1)\n",
    "            \n",
    "        \n",
    "        j += 1"
   ]
  },
  {
   "cell_type": "code",
   "execution_count": 8,
   "metadata": {},
   "outputs": [
    {
     "data": {
      "text/plain": [
       "29466"
      ]
     },
     "execution_count": 8,
     "metadata": {},
     "output_type": "execute_result"
    }
   ],
   "source": [
    "len(team_members)"
   ]
  },
  {
   "cell_type": "code",
   "execution_count": 10,
   "metadata": {},
   "outputs": [
    {
     "data": {
      "text/plain": [
       "29466"
      ]
     },
     "execution_count": 10,
     "metadata": {},
     "output_type": "execute_result"
    }
   ],
   "source": [
    "len(winner)"
   ]
  },
  {
   "cell_type": "code",
   "execution_count": null,
   "metadata": {},
   "outputs": [],
   "source": [
    "len()"
   ]
  },
  {
   "cell_type": "code",
   "execution_count": 9,
   "metadata": {},
   "outputs": [
    {
     "data": {
      "text/plain": [
       "295"
      ]
     },
     "execution_count": 9,
     "metadata": {},
     "output_type": "execute_result"
    }
   ],
   "source": [
    "i"
   ]
  },
  {
   "cell_type": "code",
   "execution_count": 11,
   "metadata": {},
   "outputs": [],
   "source": [
    "df = pd.DataFrame({'teams' : team_comb_data, \"user_ids\" : team_members, 'winner' : winner})\n",
    "# df.to_csv(\"match_data.csv\", index=False)"
   ]
  },
  {
   "cell_type": "code",
   "execution_count": 12,
   "metadata": {},
   "outputs": [
    {
     "ename": "TypeError",
     "evalue": "sequence item 0: expected str instance, int found",
     "output_type": "error",
     "traceback": [
      "\u001b[1;31m---------------------------------------------------------------------------\u001b[0m",
      "\u001b[1;31mTypeError\u001b[0m                                 Traceback (most recent call last)",
      "Cell \u001b[1;32mIn[12], line 1\u001b[0m\n\u001b[1;32m----> 1\u001b[0m df[\u001b[38;5;124m'\u001b[39m\u001b[38;5;124mteams\u001b[39m\u001b[38;5;124m'\u001b[39m] \u001b[38;5;241m=\u001b[39m \u001b[43mdf\u001b[49m\u001b[43m[\u001b[49m\u001b[38;5;124;43m'\u001b[39;49m\u001b[38;5;124;43mteams\u001b[39;49m\u001b[38;5;124;43m'\u001b[39;49m\u001b[43m]\u001b[49m\u001b[38;5;241;43m.\u001b[39;49m\u001b[43mapply\u001b[49m\u001b[43m(\u001b[49m\u001b[38;5;28;43;01mlambda\u001b[39;49;00m\u001b[43m \u001b[49m\u001b[43mx\u001b[49m\u001b[43m:\u001b[49m\u001b[43m \u001b[49m\u001b[38;5;124;43m'\u001b[39;49m\u001b[38;5;124;43m,\u001b[39;49m\u001b[38;5;124;43m'\u001b[39;49m\u001b[38;5;241;43m.\u001b[39;49m\u001b[43mjoin\u001b[49m\u001b[43m(\u001b[49m\u001b[43mx\u001b[49m\u001b[43m)\u001b[49m\u001b[43m)\u001b[49m\n\u001b[0;32m      2\u001b[0m df[\u001b[38;5;124m'\u001b[39m\u001b[38;5;124muser_ids\u001b[39m\u001b[38;5;124m'\u001b[39m] \u001b[38;5;241m=\u001b[39m df[\u001b[38;5;124m'\u001b[39m\u001b[38;5;124muser_ids\u001b[39m\u001b[38;5;124m'\u001b[39m]\u001b[38;5;241m.\u001b[39mapply(\u001b[38;5;28;01mlambda\u001b[39;00m x: \u001b[38;5;124m'\u001b[39m\u001b[38;5;124m,\u001b[39m\u001b[38;5;124m'\u001b[39m\u001b[38;5;241m.\u001b[39mjoin(x))\n",
      "File \u001b[1;32mc:\\Users\\1027d\\AppData\\Local\\Programs\\Python\\Python311\\Lib\\site-packages\\pandas\\core\\series.py:4915\u001b[0m, in \u001b[0;36mSeries.apply\u001b[1;34m(self, func, convert_dtype, args, by_row, **kwargs)\u001b[0m\n\u001b[0;32m   4780\u001b[0m \u001b[38;5;28;01mdef\u001b[39;00m \u001b[38;5;21mapply\u001b[39m(\n\u001b[0;32m   4781\u001b[0m     \u001b[38;5;28mself\u001b[39m,\n\u001b[0;32m   4782\u001b[0m     func: AggFuncType,\n\u001b[1;32m   (...)\u001b[0m\n\u001b[0;32m   4787\u001b[0m     \u001b[38;5;241m*\u001b[39m\u001b[38;5;241m*\u001b[39mkwargs,\n\u001b[0;32m   4788\u001b[0m ) \u001b[38;5;241m-\u001b[39m\u001b[38;5;241m>\u001b[39m DataFrame \u001b[38;5;241m|\u001b[39m Series:\n\u001b[0;32m   4789\u001b[0m \u001b[38;5;250m    \u001b[39m\u001b[38;5;124;03m\"\"\"\u001b[39;00m\n\u001b[0;32m   4790\u001b[0m \u001b[38;5;124;03m    Invoke function on values of Series.\u001b[39;00m\n\u001b[0;32m   4791\u001b[0m \n\u001b[1;32m   (...)\u001b[0m\n\u001b[0;32m   4906\u001b[0m \u001b[38;5;124;03m    dtype: float64\u001b[39;00m\n\u001b[0;32m   4907\u001b[0m \u001b[38;5;124;03m    \"\"\"\u001b[39;00m\n\u001b[0;32m   4908\u001b[0m     \u001b[38;5;28;01mreturn\u001b[39;00m \u001b[43mSeriesApply\u001b[49m\u001b[43m(\u001b[49m\n\u001b[0;32m   4909\u001b[0m \u001b[43m        \u001b[49m\u001b[38;5;28;43mself\u001b[39;49m\u001b[43m,\u001b[49m\n\u001b[0;32m   4910\u001b[0m \u001b[43m        \u001b[49m\u001b[43mfunc\u001b[49m\u001b[43m,\u001b[49m\n\u001b[0;32m   4911\u001b[0m \u001b[43m        \u001b[49m\u001b[43mconvert_dtype\u001b[49m\u001b[38;5;241;43m=\u001b[39;49m\u001b[43mconvert_dtype\u001b[49m\u001b[43m,\u001b[49m\n\u001b[0;32m   4912\u001b[0m \u001b[43m        \u001b[49m\u001b[43mby_row\u001b[49m\u001b[38;5;241;43m=\u001b[39;49m\u001b[43mby_row\u001b[49m\u001b[43m,\u001b[49m\n\u001b[0;32m   4913\u001b[0m \u001b[43m        \u001b[49m\u001b[43margs\u001b[49m\u001b[38;5;241;43m=\u001b[39;49m\u001b[43margs\u001b[49m\u001b[43m,\u001b[49m\n\u001b[0;32m   4914\u001b[0m \u001b[43m        \u001b[49m\u001b[43mkwargs\u001b[49m\u001b[38;5;241;43m=\u001b[39;49m\u001b[43mkwargs\u001b[49m\u001b[43m,\u001b[49m\n\u001b[1;32m-> 4915\u001b[0m \u001b[43m    \u001b[49m\u001b[43m)\u001b[49m\u001b[38;5;241;43m.\u001b[39;49m\u001b[43mapply\u001b[49m\u001b[43m(\u001b[49m\u001b[43m)\u001b[49m\n",
      "File \u001b[1;32mc:\\Users\\1027d\\AppData\\Local\\Programs\\Python\\Python311\\Lib\\site-packages\\pandas\\core\\apply.py:1427\u001b[0m, in \u001b[0;36mSeriesApply.apply\u001b[1;34m(self)\u001b[0m\n\u001b[0;32m   1424\u001b[0m     \u001b[38;5;28;01mreturn\u001b[39;00m \u001b[38;5;28mself\u001b[39m\u001b[38;5;241m.\u001b[39mapply_compat()\n\u001b[0;32m   1426\u001b[0m \u001b[38;5;66;03m# self.func is Callable\u001b[39;00m\n\u001b[1;32m-> 1427\u001b[0m \u001b[38;5;28;01mreturn\u001b[39;00m \u001b[38;5;28;43mself\u001b[39;49m\u001b[38;5;241;43m.\u001b[39;49m\u001b[43mapply_standard\u001b[49m\u001b[43m(\u001b[49m\u001b[43m)\u001b[49m\n",
      "File \u001b[1;32mc:\\Users\\1027d\\AppData\\Local\\Programs\\Python\\Python311\\Lib\\site-packages\\pandas\\core\\apply.py:1507\u001b[0m, in \u001b[0;36mSeriesApply.apply_standard\u001b[1;34m(self)\u001b[0m\n\u001b[0;32m   1501\u001b[0m \u001b[38;5;66;03m# row-wise access\u001b[39;00m\n\u001b[0;32m   1502\u001b[0m \u001b[38;5;66;03m# apply doesn't have a `na_action` keyword and for backward compat reasons\u001b[39;00m\n\u001b[0;32m   1503\u001b[0m \u001b[38;5;66;03m# we need to give `na_action=\"ignore\"` for categorical data.\u001b[39;00m\n\u001b[0;32m   1504\u001b[0m \u001b[38;5;66;03m# TODO: remove the `na_action=\"ignore\"` when that default has been changed in\u001b[39;00m\n\u001b[0;32m   1505\u001b[0m \u001b[38;5;66;03m#  Categorical (GH51645).\u001b[39;00m\n\u001b[0;32m   1506\u001b[0m action \u001b[38;5;241m=\u001b[39m \u001b[38;5;124m\"\u001b[39m\u001b[38;5;124mignore\u001b[39m\u001b[38;5;124m\"\u001b[39m \u001b[38;5;28;01mif\u001b[39;00m \u001b[38;5;28misinstance\u001b[39m(obj\u001b[38;5;241m.\u001b[39mdtype, CategoricalDtype) \u001b[38;5;28;01melse\u001b[39;00m \u001b[38;5;28;01mNone\u001b[39;00m\n\u001b[1;32m-> 1507\u001b[0m mapped \u001b[38;5;241m=\u001b[39m \u001b[43mobj\u001b[49m\u001b[38;5;241;43m.\u001b[39;49m\u001b[43m_map_values\u001b[49m\u001b[43m(\u001b[49m\n\u001b[0;32m   1508\u001b[0m \u001b[43m    \u001b[49m\u001b[43mmapper\u001b[49m\u001b[38;5;241;43m=\u001b[39;49m\u001b[43mcurried\u001b[49m\u001b[43m,\u001b[49m\u001b[43m \u001b[49m\u001b[43mna_action\u001b[49m\u001b[38;5;241;43m=\u001b[39;49m\u001b[43maction\u001b[49m\u001b[43m,\u001b[49m\u001b[43m \u001b[49m\u001b[43mconvert\u001b[49m\u001b[38;5;241;43m=\u001b[39;49m\u001b[38;5;28;43mself\u001b[39;49m\u001b[38;5;241;43m.\u001b[39;49m\u001b[43mconvert_dtype\u001b[49m\n\u001b[0;32m   1509\u001b[0m \u001b[43m\u001b[49m\u001b[43m)\u001b[49m\n\u001b[0;32m   1511\u001b[0m \u001b[38;5;28;01mif\u001b[39;00m \u001b[38;5;28mlen\u001b[39m(mapped) \u001b[38;5;129;01mand\u001b[39;00m \u001b[38;5;28misinstance\u001b[39m(mapped[\u001b[38;5;241m0\u001b[39m], ABCSeries):\n\u001b[0;32m   1512\u001b[0m     \u001b[38;5;66;03m# GH#43986 Need to do list(mapped) in order to get treated as nested\u001b[39;00m\n\u001b[0;32m   1513\u001b[0m     \u001b[38;5;66;03m#  See also GH#25959 regarding EA support\u001b[39;00m\n\u001b[0;32m   1514\u001b[0m     \u001b[38;5;28;01mreturn\u001b[39;00m obj\u001b[38;5;241m.\u001b[39m_constructor_expanddim(\u001b[38;5;28mlist\u001b[39m(mapped), index\u001b[38;5;241m=\u001b[39mobj\u001b[38;5;241m.\u001b[39mindex)\n",
      "File \u001b[1;32mc:\\Users\\1027d\\AppData\\Local\\Programs\\Python\\Python311\\Lib\\site-packages\\pandas\\core\\base.py:921\u001b[0m, in \u001b[0;36mIndexOpsMixin._map_values\u001b[1;34m(self, mapper, na_action, convert)\u001b[0m\n\u001b[0;32m    918\u001b[0m \u001b[38;5;28;01mif\u001b[39;00m \u001b[38;5;28misinstance\u001b[39m(arr, ExtensionArray):\n\u001b[0;32m    919\u001b[0m     \u001b[38;5;28;01mreturn\u001b[39;00m arr\u001b[38;5;241m.\u001b[39mmap(mapper, na_action\u001b[38;5;241m=\u001b[39mna_action)\n\u001b[1;32m--> 921\u001b[0m \u001b[38;5;28;01mreturn\u001b[39;00m \u001b[43malgorithms\u001b[49m\u001b[38;5;241;43m.\u001b[39;49m\u001b[43mmap_array\u001b[49m\u001b[43m(\u001b[49m\u001b[43marr\u001b[49m\u001b[43m,\u001b[49m\u001b[43m \u001b[49m\u001b[43mmapper\u001b[49m\u001b[43m,\u001b[49m\u001b[43m \u001b[49m\u001b[43mna_action\u001b[49m\u001b[38;5;241;43m=\u001b[39;49m\u001b[43mna_action\u001b[49m\u001b[43m,\u001b[49m\u001b[43m \u001b[49m\u001b[43mconvert\u001b[49m\u001b[38;5;241;43m=\u001b[39;49m\u001b[43mconvert\u001b[49m\u001b[43m)\u001b[49m\n",
      "File \u001b[1;32mc:\\Users\\1027d\\AppData\\Local\\Programs\\Python\\Python311\\Lib\\site-packages\\pandas\\core\\algorithms.py:1743\u001b[0m, in \u001b[0;36mmap_array\u001b[1;34m(arr, mapper, na_action, convert)\u001b[0m\n\u001b[0;32m   1741\u001b[0m values \u001b[38;5;241m=\u001b[39m arr\u001b[38;5;241m.\u001b[39mastype(\u001b[38;5;28mobject\u001b[39m, copy\u001b[38;5;241m=\u001b[39m\u001b[38;5;28;01mFalse\u001b[39;00m)\n\u001b[0;32m   1742\u001b[0m \u001b[38;5;28;01mif\u001b[39;00m na_action \u001b[38;5;129;01mis\u001b[39;00m \u001b[38;5;28;01mNone\u001b[39;00m:\n\u001b[1;32m-> 1743\u001b[0m     \u001b[38;5;28;01mreturn\u001b[39;00m \u001b[43mlib\u001b[49m\u001b[38;5;241;43m.\u001b[39;49m\u001b[43mmap_infer\u001b[49m\u001b[43m(\u001b[49m\u001b[43mvalues\u001b[49m\u001b[43m,\u001b[49m\u001b[43m \u001b[49m\u001b[43mmapper\u001b[49m\u001b[43m,\u001b[49m\u001b[43m \u001b[49m\u001b[43mconvert\u001b[49m\u001b[38;5;241;43m=\u001b[39;49m\u001b[43mconvert\u001b[49m\u001b[43m)\u001b[49m\n\u001b[0;32m   1744\u001b[0m \u001b[38;5;28;01melse\u001b[39;00m:\n\u001b[0;32m   1745\u001b[0m     \u001b[38;5;28;01mreturn\u001b[39;00m lib\u001b[38;5;241m.\u001b[39mmap_infer_mask(\n\u001b[0;32m   1746\u001b[0m         values, mapper, mask\u001b[38;5;241m=\u001b[39misna(values)\u001b[38;5;241m.\u001b[39mview(np\u001b[38;5;241m.\u001b[39muint8), convert\u001b[38;5;241m=\u001b[39mconvert\n\u001b[0;32m   1747\u001b[0m     )\n",
      "File \u001b[1;32mlib.pyx:2972\u001b[0m, in \u001b[0;36mpandas._libs.lib.map_infer\u001b[1;34m()\u001b[0m\n",
      "Cell \u001b[1;32mIn[12], line 1\u001b[0m, in \u001b[0;36m<lambda>\u001b[1;34m(x)\u001b[0m\n\u001b[1;32m----> 1\u001b[0m df[\u001b[38;5;124m'\u001b[39m\u001b[38;5;124mteams\u001b[39m\u001b[38;5;124m'\u001b[39m] \u001b[38;5;241m=\u001b[39m df[\u001b[38;5;124m'\u001b[39m\u001b[38;5;124mteams\u001b[39m\u001b[38;5;124m'\u001b[39m]\u001b[38;5;241m.\u001b[39mapply(\u001b[38;5;28;01mlambda\u001b[39;00m x: \u001b[38;5;124;43m'\u001b[39;49m\u001b[38;5;124;43m,\u001b[39;49m\u001b[38;5;124;43m'\u001b[39;49m\u001b[38;5;241;43m.\u001b[39;49m\u001b[43mjoin\u001b[49m\u001b[43m(\u001b[49m\u001b[43mx\u001b[49m\u001b[43m)\u001b[49m)\n\u001b[0;32m      2\u001b[0m df[\u001b[38;5;124m'\u001b[39m\u001b[38;5;124muser_ids\u001b[39m\u001b[38;5;124m'\u001b[39m] \u001b[38;5;241m=\u001b[39m df[\u001b[38;5;124m'\u001b[39m\u001b[38;5;124muser_ids\u001b[39m\u001b[38;5;124m'\u001b[39m]\u001b[38;5;241m.\u001b[39mapply(\u001b[38;5;28;01mlambda\u001b[39;00m x: \u001b[38;5;124m'\u001b[39m\u001b[38;5;124m,\u001b[39m\u001b[38;5;124m'\u001b[39m\u001b[38;5;241m.\u001b[39mjoin(x))\n",
      "\u001b[1;31mTypeError\u001b[0m: sequence item 0: expected str instance, int found"
     ]
    }
   ],
   "source": [
    "df['teams'] = df['teams'].apply(lambda x: ','.join(x))\n",
    "df['user_ids'] = df['user_ids'].apply(lambda x: ','.join(x))"
   ]
  },
  {
   "cell_type": "code",
   "execution_count": 13,
   "metadata": {},
   "outputs": [
    {
     "data": {
      "text/html": [
       "<div>\n",
       "<style scoped>\n",
       "    .dataframe tbody tr th:only-of-type {\n",
       "        vertical-align: middle;\n",
       "    }\n",
       "\n",
       "    .dataframe tbody tr th {\n",
       "        vertical-align: top;\n",
       "    }\n",
       "\n",
       "    .dataframe thead th {\n",
       "        text-align: right;\n",
       "    }\n",
       "</style>\n",
       "<table border=\"1\" class=\"dataframe\">\n",
       "  <thead>\n",
       "    <tr style=\"text-align: right;\">\n",
       "      <th></th>\n",
       "      <th>teams</th>\n",
       "      <th>user_ids</th>\n",
       "      <th>winner</th>\n",
       "    </tr>\n",
       "  </thead>\n",
       "  <tbody>\n",
       "    <tr>\n",
       "      <th>0</th>\n",
       "      <td>[164, 131, 157, 115, 432, 4, 24, 48, 221, 350]</td>\n",
       "      <td>[klPaul124#NA1, Regdor#NA1, Remi#duck, Chase G...</td>\n",
       "      <td>0</td>\n",
       "    </tr>\n",
       "    <tr>\n",
       "      <th>1</th>\n",
       "      <td>[27, 35, 38, 202, 432, 72, 113, 136, 222, 117]</td>\n",
       "      <td>[Mega Nurd#1212, ZooWap#NA1, Void Walker#5226,...</td>\n",
       "      <td>1</td>\n",
       "    </tr>\n",
       "    <tr>\n",
       "      <th>2</th>\n",
       "      <td>[48, 72, 136, 81, 164, 897, 427, 45, 51, 223]</td>\n",
       "      <td>[Ahjin#King, Shimmer#NA1, Remi#duck, Guap#888,...</td>\n",
       "      <td>0</td>\n",
       "    </tr>\n",
       "    <tr>\n",
       "      <th>3</th>\n",
       "      <td>[134, 164, 64, 901, 267, 36, 136, 117, 145, 266]</td>\n",
       "      <td>[TC Porsche#NA3, TC porsche#NA1, Texas#NA1, ar...</td>\n",
       "      <td>1</td>\n",
       "    </tr>\n",
       "    <tr>\n",
       "      <th>4</th>\n",
       "      <td>[136, 16, 48, 81, 64, 711, 115, 421, 164, 266]</td>\n",
       "      <td>[Remi#duck, BriarsToeEnjoyer#NA1, Ahjin#King, ...</td>\n",
       "      <td>0</td>\n",
       "    </tr>\n",
       "    <tr>\n",
       "      <th>...</th>\n",
       "      <td>...</td>\n",
       "      <td>...</td>\n",
       "      <td>...</td>\n",
       "    </tr>\n",
       "    <tr>\n",
       "      <th>29461</th>\n",
       "      <td>[150, 63, 166, 96, 497, 9, 126, 43, 110, 12]</td>\n",
       "      <td>[Jasaitis#NA1, Booking#231, Kelpo#0001, Beginn...</td>\n",
       "      <td>1</td>\n",
       "    </tr>\n",
       "    <tr>\n",
       "      <th>29462</th>\n",
       "      <td>[114, 64, 711, 81, 555, 897, 234, 55, 235, 111]</td>\n",
       "      <td>[Absolem#123, 고양이#Meowo, baonana#yum, Hub10123...</td>\n",
       "      <td>0</td>\n",
       "    </tr>\n",
       "    <tr>\n",
       "      <th>29463</th>\n",
       "      <td>[2, 141, 136, 145, 555, 234, 120, 429, 202, 101]</td>\n",
       "      <td>[Retrozing#NA1, Lebanese#NA1, Roarke#yonko, Sa...</td>\n",
       "      <td>0</td>\n",
       "    </tr>\n",
       "    <tr>\n",
       "      <th>29464</th>\n",
       "      <td>[78, 5, 84, 157, 53, 777, 203, 163, 895, 235]</td>\n",
       "      <td>[omlettte#egg, kisno#NA1, Stop It App#NA1, NA ...</td>\n",
       "      <td>1</td>\n",
       "    </tr>\n",
       "    <tr>\n",
       "      <th>29465</th>\n",
       "      <td>[126, 11, 127, 136, 910, 79, 777, 157, 145, 89]</td>\n",
       "      <td>[dougbutter#NA1, Wuju Senshi#Yi , Skyyylol#NA1...</td>\n",
       "      <td>0</td>\n",
       "    </tr>\n",
       "  </tbody>\n",
       "</table>\n",
       "<p>29466 rows × 3 columns</p>\n",
       "</div>"
      ],
      "text/plain": [
       "                                                  teams  \\\n",
       "0        [164, 131, 157, 115, 432, 4, 24, 48, 221, 350]   \n",
       "1        [27, 35, 38, 202, 432, 72, 113, 136, 222, 117]   \n",
       "2         [48, 72, 136, 81, 164, 897, 427, 45, 51, 223]   \n",
       "3      [134, 164, 64, 901, 267, 36, 136, 117, 145, 266]   \n",
       "4        [136, 16, 48, 81, 64, 711, 115, 421, 164, 266]   \n",
       "...                                                 ...   \n",
       "29461      [150, 63, 166, 96, 497, 9, 126, 43, 110, 12]   \n",
       "29462   [114, 64, 711, 81, 555, 897, 234, 55, 235, 111]   \n",
       "29463  [2, 141, 136, 145, 555, 234, 120, 429, 202, 101]   \n",
       "29464     [78, 5, 84, 157, 53, 777, 203, 163, 895, 235]   \n",
       "29465   [126, 11, 127, 136, 910, 79, 777, 157, 145, 89]   \n",
       "\n",
       "                                                user_ids  winner  \n",
       "0      [klPaul124#NA1, Regdor#NA1, Remi#duck, Chase G...       0  \n",
       "1      [Mega Nurd#1212, ZooWap#NA1, Void Walker#5226,...       1  \n",
       "2      [Ahjin#King, Shimmer#NA1, Remi#duck, Guap#888,...       0  \n",
       "3      [TC Porsche#NA3, TC porsche#NA1, Texas#NA1, ar...       1  \n",
       "4      [Remi#duck, BriarsToeEnjoyer#NA1, Ahjin#King, ...       0  \n",
       "...                                                  ...     ...  \n",
       "29461  [Jasaitis#NA1, Booking#231, Kelpo#0001, Beginn...       1  \n",
       "29462  [Absolem#123, 고양이#Meowo, baonana#yum, Hub10123...       0  \n",
       "29463  [Retrozing#NA1, Lebanese#NA1, Roarke#yonko, Sa...       0  \n",
       "29464  [omlettte#egg, kisno#NA1, Stop It App#NA1, NA ...       1  \n",
       "29465  [dougbutter#NA1, Wuju Senshi#Yi , Skyyylol#NA1...       0  \n",
       "\n",
       "[29466 rows x 3 columns]"
      ]
     },
     "execution_count": 13,
     "metadata": {},
     "output_type": "execute_result"
    }
   ],
   "source": [
    "df"
   ]
  },
  {
   "cell_type": "code",
   "execution_count": 14,
   "metadata": {},
   "outputs": [],
   "source": [
    "df.to_csv(\"match_data_new.csv\", index=False)"
   ]
  },
  {
   "cell_type": "code",
   "execution_count": null,
   "metadata": {},
   "outputs": [],
   "source": [
    "temp = response_match.json()"
   ]
  },
  {
   "cell_type": "code",
   "execution_count": 121,
   "metadata": {},
   "outputs": [
    {
     "data": {
      "text/plain": [
       "dict_keys(['status'])"
      ]
     },
     "execution_count": 121,
     "metadata": {},
     "output_type": "execute_result"
    }
   ],
   "source": [
    "temp.keys()"
   ]
  },
  {
   "cell_type": "code",
   "execution_count": 116,
   "metadata": {},
   "outputs": [
    {
     "data": {
      "text/plain": [
       "False"
      ]
     },
     "execution_count": 116,
     "metadata": {},
     "output_type": "execute_result"
    }
   ],
   "source": [
    "temp['info']['teams'][0]['win']"
   ]
  },
  {
   "cell_type": "code",
   "execution_count": 26,
   "metadata": {},
   "outputs": [
    {
     "data": {
      "text/plain": [
       "86"
      ]
     },
     "execution_count": 26,
     "metadata": {},
     "output_type": "execute_result"
    }
   ],
   "source": [
    "temp['info']['participants'][0]['championId']"
   ]
  },
  {
   "cell_type": "code",
   "execution_count": null,
   "metadata": {},
   "outputs": [],
   "source": [
    "[temp['info']['participants'][_]['championName'] for _ in range(len(temp['info']['participants']))]"
   ]
  },
  {
   "cell_type": "code",
   "execution_count": null,
   "metadata": {},
   "outputs": [],
   "source": []
  }
 ],
 "metadata": {
  "kernelspec": {
   "display_name": "Python 3",
   "language": "python",
   "name": "python3"
  },
  "language_info": {
   "codemirror_mode": {
    "name": "ipython",
    "version": 3
   },
   "file_extension": ".py",
   "mimetype": "text/x-python",
   "name": "python",
   "nbconvert_exporter": "python",
   "pygments_lexer": "ipython3",
   "version": "3.11.9"
  }
 },
 "nbformat": 4,
 "nbformat_minor": 2
}
